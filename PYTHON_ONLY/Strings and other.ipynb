{
  "nbformat": 4,
  "nbformat_minor": 0,
  "metadata": {
    "colab": {
      "name": "01. Python et les chaînes de caractères.ipynb",
      "provenance": [],
      "collapsed_sections": [],
      "include_colab_link": true
    },
    "kernelspec": {
      "name": "python3",
      "display_name": "Python 3"
    }
  },
  "cells": [
    {
      "cell_type": "markdown",
      "metadata": {
        "id": "view-in-github",
        "colab_type": "text"
      },
      "source": [
        "<a href=\"https://colab.research.google.com/github/CathieLC/Wild_notebook_2021-2022/blob/main/Strings%20and%20other.ipynb\" target=\"_parent\"><img src=\"https://colab.research.google.com/assets/colab-badge.svg\" alt=\"Open In Colab\"/></a>"
      ]
    },
    {
      "cell_type": "markdown",
      "metadata": {
        "id": "LoJw-LlCTnWF"
      },
      "source": [
        "# Mission 1\n",
        "\n",
        "Create a script that uses the len method to display the length of the string named: \"string\" below.\n",
        "\n",
        "We want to count only characters, so ignore the number of spaces\n",
        ".\n",
        "\n",
        "string = \"Taumata whakatangihanga koauau o tamatea turi pukaka piki maungah oronuku pokai whenuaki tanatahu \""
      ]
    },
    {
      "cell_type": "code",
      "metadata": {
        "id": "oweHYwlm1EVo",
        "colab": {
          "base_uri": "https://localhost:8080/"
        },
        "outputId": "99a0d0be-4718-475c-d9e8-36cceba88804"
      },
      "source": [
        "string = \"Taumata whakatangihanga koauau o tamatea turi pukaka piki maungah oronuku pokai whenuaki tanatahu \"\n",
        "print(len(string.replace(\" \",\"\")))"
      ],
      "execution_count": 1,
      "outputs": [
        {
          "output_type": "stream",
          "name": "stdout",
          "text": [
            "85\n"
          ]
        }
      ]
    },
    {
      "cell_type": "markdown",
      "metadata": {
        "id": "J3bsGIvAT049"
      },
      "source": [
        "# Mission 2\n",
        "\n",
        "Create a script that takes a string as one parameter and a character as another parameter. Your script should return the position (starting with 1 and not 0) of all occurrences of the character within the string.\n",
        "\n",
        "For example, for the word \"hello\" and for the character \"o\", the script will return :\n",
        "- \"position : 5\""
      ]
    },
    {
      "cell_type": "code",
      "metadata": {
        "id": "Fy1OmPSUXNaP",
        "colab": {
          "base_uri": "https://localhost:8080/"
        },
        "outputId": "f5bfd71a-a793-425a-b2da-fe2ac8ae9201"
      },
      "source": [
        "string = input(\"write a string : \")\n",
        "letter = input(\"choose a letter in your string : \")\n",
        "\n",
        "for index in range(len(string)) :\n",
        "  if string[index] == letter :\n",
        "    print(\"position :\", index+1)\n"
      ],
      "execution_count": 2,
      "outputs": [
        {
          "output_type": "stream",
          "name": "stdout",
          "text": [
            "write a string : Est-ce qu'ilf ait beau aujourdhui ?\n",
            "choose a letter in your string : i\n",
            "position : 11\n",
            "position : 16\n",
            "position : 33\n"
          ]
        }
      ]
    },
    {
      "cell_type": "markdown",
      "metadata": {
        "id": "dVl36lvlWLdV"
      },
      "source": [
        "# Mission 3\n",
        "\n",
        "Create a script that only displays a particular part of a string it receives. In other words, make it so that you are able to decide the exact character range (e.g. 2nd to 5th character) to be displayed."
      ]
    },
    {
      "cell_type": "code",
      "metadata": {
        "id": "pN3_mD4YSPfb",
        "colab": {
          "base_uri": "https://localhost:8080/"
        },
        "outputId": "3787afd6-a173-45b2-f644-898b5a286ed5"
      },
      "source": [
        "word = \"python\"\n",
        "\n",
        "print(word[2:5])"
      ],
      "execution_count": 3,
      "outputs": [
        {
          "output_type": "stream",
          "name": "stdout",
          "text": [
            "tho\n"
          ]
        }
      ]
    },
    {
      "cell_type": "markdown",
      "metadata": {
        "id": "GCvpkWzXXPTf"
      },
      "source": [
        "# Mission 4\n",
        "\n",
        "Find 3 ways to return the following string without including the spaces at the beginning and the end: \" Data Analyst \"."
      ]
    },
    {
      "cell_type": "code",
      "metadata": {
        "id": "QjLMjogySPk_",
        "colab": {
          "base_uri": "https://localhost:8080/"
        },
        "outputId": "374cf2ae-9ed2-46a8-9941-1887cf1224db"
      },
      "source": [
        "chain = \" Data Analyst \"\n",
        "\n",
        "# Method 1 :\n",
        "print(chain.strip())\n",
        "\n",
        "\n",
        "# Method 2 :\n",
        "print(chain[1:-1])\n",
        "\n",
        "\n",
        "# Method 3 :\n",
        "\n",
        "# import regex\n",
        "import re                 \n",
        "print(re.sub(r\"^\\s+|\\s+$\", \"\", chain))  #^\\s+ => I take whitespaces from start with ^ ; \\s+$ => same thing for the end of the string\n",
        "\n"
      ],
      "execution_count": 4,
      "outputs": [
        {
          "output_type": "stream",
          "name": "stdout",
          "text": [
            "Data Analyst\n",
            "Data Analyst\n",
            "Data Analyst\n"
          ]
        }
      ]
    },
    {
      "cell_type": "markdown",
      "metadata": {
        "id": "V8ZS3aECXvuZ"
      },
      "source": [
        "# Mission 5\n",
        "\n",
        "Create a script that converts all vowels to uppercase and all consonants to lowercase."
      ]
    },
    {
      "cell_type": "code",
      "metadata": {
        "id": "ph_j97PoSPmU",
        "colab": {
          "base_uri": "https://localhost:8080/"
        },
        "outputId": "66c81bd5-c9c9-4a3d-f9c4-db392bbdb70f"
      },
      "source": [
        "import string\n",
        "\n",
        "chain = input(\"Please, write a string : \")\n",
        "\n",
        "list_vowels = [\"a\", \"e\", \"i\", \"o\", \"u\", \"y\",\"A\", \"E\", \"I\", \"O\", \"U\", \"Y\"]\n",
        "list_consonant = string.ascii_letters\n",
        "\n",
        "for letter in chain:\n",
        "    if letter in list_vowels:\n",
        "        print(letter.upper(), end=\"\")\n",
        "    elif letter in list_consonant :\n",
        "        print(letter.lower(), end=\"\")\n",
        "    else :\n",
        "        print(letter, end=\"\")"
      ],
      "execution_count": 5,
      "outputs": [
        {
          "output_type": "stream",
          "name": "stdout",
          "text": [
            "Please, write a string : Create a script that converts all vowels to uppercase and all consonants to lowercase.\n",
            "crEAtE A scrIpt thAt cOnvErts All vOwEls tO UppErcAsE And All cOnsOnAnts tO lOwErcAsE."
          ]
        }
      ]
    },
    {
      "cell_type": "markdown",
      "metadata": {
        "id": "geMLdrvAYHKx"
      },
      "source": [
        "# Mission 6\n",
        "\n",
        "Create a script that replaces one character with another and redisplays the modified string."
      ]
    },
    {
      "cell_type": "code",
      "metadata": {
        "id": "1-cenx3RSPpq",
        "colab": {
          "base_uri": "https://localhost:8080/"
        },
        "outputId": "258cc9ea-bb48-4973-ddda-986799439b75"
      },
      "source": [
        "chain = input(\"please, thanks write a string : \")\n",
        "caract1 = input(\"Give me a letter in your string that you want replace  : \")\n",
        "caract2 = input(\"Give me a letter in string witch you wish replace to your first letter  : \")\n",
        "\n",
        "chain = list(chain)\n",
        "\n",
        "for index, letter in enumerate(chain):\n",
        "    if letter == caract1:\n",
        "        chain[index] = caract2\n",
        "\n",
        "print(''.join(chain))"
      ],
      "execution_count": 6,
      "outputs": [
        {
          "output_type": "stream",
          "name": "stdout",
          "text": [
            "please, thanks write a string : Create a script that converts all vowels to uppercase and all consonants to lowercase.\n",
            "Give me a letter in your string that you want replace  : e\n",
            "Give me a letter in string witch you wish replace to your first letter  : a\n",
            "Craata a script that convarts all vowals to upparcasa and all consonants to lowarcasa.\n"
          ]
        }
      ]
    }
  ]
}