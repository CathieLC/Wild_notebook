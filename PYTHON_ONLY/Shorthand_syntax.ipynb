{
  "nbformat": 4,
  "nbformat_minor": 0,
  "metadata": {
    "colab": {
      "name": "Python - Shorthand syntax.ipynb",
      "provenance": [],
      "collapsed_sections": [],
      "authorship_tag": "ABX9TyN0cbjTL169XMD3/Mi3t3WV",
      "include_colab_link": true
    },
    "kernelspec": {
      "name": "python3",
      "display_name": "Python 3"
    },
    "language_info": {
      "name": "python"
    }
  },
  "cells": [
    {
      "cell_type": "markdown",
      "metadata": {
        "id": "view-in-github",
        "colab_type": "text"
      },
      "source": [
        "<a href=\"https://colab.research.google.com/github/CathieLC/Wild_notebook_2021-2022/blob/main/Shorthand_syntax.ipynb\" target=\"_parent\"><img src=\"https://colab.research.google.com/assets/colab-badge.svg\" alt=\"Open In Colab\"/></a>"
      ]
    },
    {
      "cell_type": "markdown",
      "metadata": {
        "id": "owpFu2BxKOjh"
      },
      "source": [
        "Une fonction qui convertit des montants en dollars vers des montants en euros (prends le cours euro/dollar du jour où tu fais la quête).\n",
        "\n",
        "\n"
      ]
    },
    {
      "cell_type": "code",
      "metadata": {
        "id": "LWxULcyLKH4C",
        "colab": {
          "base_uri": "https://localhost:8080/"
        },
        "outputId": "d5bfd536-0e72-4f82-b2f1-2f071dc72f37"
      },
      "source": [
        "# Cours $=>€ au 29/10/2021 : 1$ = 0.86 €\n",
        "cours_dollar_euros = 0.86\n",
        "\n",
        "# my function without shorthand syntax\n",
        "\n",
        "def convert(dollar_euros):\n",
        "  return (dollar_euros * cours_dollar_euros)\n",
        "\n",
        "convert(10)\n"
      ],
      "execution_count": null,
      "outputs": [
        {
          "output_type": "execute_result",
          "data": {
            "text/plain": [
              "8.6"
            ]
          },
          "metadata": {},
          "execution_count": 2
        }
      ]
    },
    {
      "cell_type": "code",
      "metadata": {
        "colab": {
          "base_uri": "https://localhost:8080/"
        },
        "id": "pwWGUSSdgj7F",
        "outputId": "52155102-9d1a-4a39-a926-782861aa8df9"
      },
      "source": [
        "#my function in shorthand syntax\n",
        "convert = lambda x: x*cours_dollar_euros\n",
        "convert(10)"
      ],
      "execution_count": null,
      "outputs": [
        {
          "output_type": "execute_result",
          "data": {
            "text/plain": [
              "8.6"
            ]
          },
          "metadata": {},
          "execution_count": 4
        }
      ]
    },
    {
      "cell_type": "markdown",
      "metadata": {
        "id": "QPeJ3xIfKWu_"
      },
      "source": [
        "Une fonction qui renvoie la somme des **nombres pairs** présents dans une liste contenant des nombres entiers."
      ]
    },
    {
      "cell_type": "code",
      "metadata": {
        "colab": {
          "base_uri": "https://localhost:8080/"
        },
        "id": "L-aUjq_pKWih",
        "outputId": "d5726cd9-6d0f-45e0-d578-9d55238b938d"
      },
      "source": [
        "# my function without shorthand syntax\n",
        "\n",
        "liste_nombres = [0, 3, -6, 9, 12, -15, 18, -21, 24, 27]\n",
        "liste_nombres_pairs = []\n",
        "\n",
        "for n in liste_nombres:\n",
        "  if n % 2 == 0 :\n",
        "    liste_nombres_pairs.append(n)\n",
        "\n",
        "sum(liste_nombres_pairs)\n",
        "\n",
        "\n"
      ],
      "execution_count": null,
      "outputs": [
        {
          "output_type": "execute_result",
          "data": {
            "text/plain": [
              "48"
            ]
          },
          "metadata": {},
          "execution_count": 32
        }
      ]
    },
    {
      "cell_type": "code",
      "metadata": {
        "colab": {
          "base_uri": "https://localhost:8080/"
        },
        "id": "OVaeyfmkVJjq",
        "outputId": "1e10bef8-a010-462c-a01e-274e657f1b22"
      },
      "source": [
        "#my function in shorthand syntax\n",
        "\n",
        "liste_nombres = [0, 3, -6, 9, 12, -15, 18, -21, 24, 27]\n",
        "\n",
        "sum([i for i in liste_nombres if i%2==0])\n",
        "\n"
      ],
      "execution_count": null,
      "outputs": [
        {
          "output_type": "execute_result",
          "data": {
            "text/plain": [
              "48"
            ]
          },
          "metadata": {},
          "execution_count": 31
        }
      ]
    },
    {
      "cell_type": "markdown",
      "metadata": {
        "id": "0YC9L2Q1KUpH"
      },
      "source": [
        "Un script qui convertit une liste de nombres entiers positifs ou négatifs) en une nouvelle liste contenant les valeurs absolues.\n",
        "Tu peux prendre la liste suivante pour exemple :\n",
        "\n",
        "```\n",
        "test_list = [0, 3, -6, 9, 12, -15, 18, -21, 24, 27]\n",
        "```\n",
        "\n",
        "\n",
        "\n"
      ]
    },
    {
      "cell_type": "code",
      "metadata": {
        "colab": {
          "base_uri": "https://localhost:8080/"
        },
        "id": "ns4CBnvcKqCO",
        "outputId": "0368cad6-fe2d-47a7-f99e-6c98b16755f6"
      },
      "source": [
        "# my function without shorthand syntax\n",
        "\n",
        "test_list = [0, 3, -6, 9, 12, -15, 18, -21, 24, 27]\n",
        "liste_convert = []\n",
        "\n",
        "for n in test_list :\n",
        "  if n < 0 :\n",
        "    n2 = n*(-1)\n",
        "    liste_convert.append(n2)\n",
        "  else :\n",
        "    liste_convert.append(n)\n",
        "\n",
        "liste_convert"
      ],
      "execution_count": null,
      "outputs": [
        {
          "output_type": "execute_result",
          "data": {
            "text/plain": [
              "[0, 3, 6, 9, 12, 15, 18, 21, 24, 27]"
            ]
          },
          "metadata": {},
          "execution_count": 33
        }
      ]
    },
    {
      "cell_type": "code",
      "metadata": {
        "colab": {
          "base_uri": "https://localhost:8080/"
        },
        "id": "PbYYbLBdhTDq",
        "outputId": "c9db8561-1ee8-417d-dcd3-f349f095d641"
      },
      "source": [
        "#my function in shorthand syntax\n",
        "\n",
        "test_list = [0, 3, -6, 9, 12, -15, 18, -21, 24, 27]\n",
        "\n",
        "[(n if n>0 else n*-1) for n in test_list]"
      ],
      "execution_count": null,
      "outputs": [
        {
          "output_type": "execute_result",
          "data": {
            "text/plain": [
              "[0, 3, 6, 9, 12, 15, 18, 21, 24, 27]"
            ]
          },
          "metadata": {},
          "execution_count": 57
        }
      ]
    }
  ]
}