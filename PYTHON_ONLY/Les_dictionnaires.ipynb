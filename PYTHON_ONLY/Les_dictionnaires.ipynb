{
  "cells": [
    {
      "cell_type": "markdown",
      "metadata": {
        "colab_type": "text",
        "id": "view-in-github"
      },
      "source": [
        "<a href=\"https://colab.research.google.com/github/CathieLC/Wild_notebook_2021-2022/blob/main/Les_dictionnaires.ipynb\" target=\"_parent\"><img src=\"https://colab.research.google.com/assets/colab-badge.svg\" alt=\"Open In Colab\"/></a>"
      ]
    },
    {
      "cell_type": "markdown",
      "metadata": {
        "id": "LoJw-LlCTnWF"
      },
      "source": [
        "# Mission 1\n",
        "\n",
        "Below is a dictionary containing the number of French campuses that offer each kind of Wild Code School course.\n",
        "\n",
        "wildcodeschool = {\n",
        "   \"data_analyst\": 4,\n",
        "   \"data_scientist\": 2,\n",
        "   \"dev_web\": \"13\" \n",
        "}\n",
        "\n",
        "Find a way to only display the keys that have int values."
      ]
    },
    {
      "cell_type": "code",
      "execution_count": null,
      "metadata": {
        "id": "C2Lk113KSPUO"
      },
      "outputs": [],
      "source": [
        "wildcodeschool =\t{\n",
        "  \"data_analyst\": 8,\n",
        "  \"data_scientist\": 2,\n",
        "  \"business intelligence analyst\": 5,\n",
        "  \"dev_web\": \"13\"\n",
        "}\n"
      ]
    },
    {
      "cell_type": "code",
      "execution_count": null,
      "metadata": {
        "colab": {
          "base_uri": "https://localhost:8080/"
        },
        "id": "i1T9MV2V3j5I",
        "outputId": "41ea8519-b230-4a54-fd79-4a5effdf5f17"
      },
      "outputs": [],
      "source": [
        "wildcodeschool ={\n",
        "  \"data_analyst\": 8,\n",
        "  \"data_scientist\": 2,\n",
        "  \"business intelligence analyst\": 5,\n",
        "  \"dev_web\": \"13\"\n",
        "}\n",
        "\n",
        "\n",
        "for key,value in wildcodeschool.items() :\n",
        "  if type(value) == int :\n",
        "    print(key)\n"
      ]
    },
    {
      "cell_type": "markdown",
      "metadata": {
        "id": "J3bsGIvAT049"
      },
      "source": [
        "# Mission 2\n",
        "\n",
        "For the same dictionary, find a way to display all the values that have a key that contains the letter \"e\"."
      ]
    },
    {
      "cell_type": "code",
      "execution_count": null,
      "metadata": {
        "colab": {
          "base_uri": "https://localhost:8080/"
        },
        "id": "qqtN2WzXU3ZI",
        "outputId": "c80eba8b-a81a-4b08-8ff8-09fd7cece6f7"
      },
      "outputs": [],
      "source": [
        "wildcodeschool ={\n",
        "  \"data_analyst\": 8,\n",
        "  \"data_scientist\": 2,\n",
        "  \"business intelligence analyst\": 5,\n",
        "  \"dev_web\": \"13\"\n",
        "}\n",
        "\n",
        "for key,value in wildcodeschool.items() :\n",
        "  if \"e\" in key :\n",
        "    print(value)"
      ]
    },
    {
      "cell_type": "code",
      "execution_count": null,
      "metadata": {
        "id": "Fy1OmPSUXNaP"
      },
      "outputs": [],
      "source": []
    },
    {
      "cell_type": "markdown",
      "metadata": {
        "id": "dVl36lvlWLdV"
      },
      "source": [
        "# Mission 3\n",
        "\n",
        "Within the same dictionary, change the type of the value of the \"dev_web\" key to be an int. Then add a new key-value pair which will be \"total_campus\" > 19, using a **dictionary method**."
      ]
    },
    {
      "cell_type": "code",
      "execution_count": null,
      "metadata": {
        "colab": {
          "base_uri": "https://localhost:8080/"
        },
        "id": "pN3_mD4YSPfb",
        "outputId": "9c280180-f417-4006-c27e-8115fce9224d"
      },
      "outputs": [],
      "source": [
        "wildcodeschool ={\n",
        "  \"data_analyst\": 8,\n",
        "  \"data_scientist\": 2,\n",
        "  \"business intelligence analyst\": 5,\n",
        "  \"dev_web\": \"13\"\n",
        "}\n",
        "\n",
        "wildcodeschool.update ({\"dev_web\": 13})\n",
        "\n",
        "wildcodeschool[\"total_campus\"] = \">19\"\n",
        "\n",
        "print(wildcodeschool)\n",
        "\n"
      ]
    },
    {
      "cell_type": "markdown",
      "metadata": {
        "id": "GCvpkWzXXPTf"
      },
      "source": [
        "# Mission 4\n",
        "\n",
        "Take the dictionary generated from mission 3. Delete any key value pair randomly, except for total_campus."
      ]
    },
    {
      "cell_type": "code",
      "execution_count": null,
      "metadata": {
        "colab": {
          "base_uri": "https://localhost:8080/"
        },
        "id": "QjLMjogySPk_",
        "outputId": "ace0ba6a-9551-462f-daa8-c1d8ea0d8a2e"
      },
      "outputs": [],
      "source": [
        "import random\n",
        "\n",
        "wildcodeschool={'data_analyst': 8, 'data_scientist': 2, 'business intelligence analyst': 5, 'dev_web': 13, 'total_campus': '>19'}\n",
        "\n",
        "for key,value in random.sample(wildcodeschool.items(),1) :\n",
        "  if key != \"total_campus\" :\n",
        "    del wildcodeschool[key]\n",
        "\n",
        "print(wildcodeschool)"
      ]
    },
    {
      "cell_type": "markdown",
      "metadata": {
        "id": "V8ZS3aECXvuZ"
      },
      "source": [
        "# Mission 5\n",
        "\n",
        "Still within the dictionary generated from Mission 3, find a way to display the dictionary keys in alphabetical order."
      ]
    },
    {
      "cell_type": "code",
      "execution_count": null,
      "metadata": {
        "colab": {
          "base_uri": "https://localhost:8080/"
        },
        "id": "ph_j97PoSPmU",
        "outputId": "256cde01-c134-4fb8-a709-2f5078db90b2"
      },
      "outputs": [],
      "source": [
        "wildcodeschool={'data_analyst': 8, 'data_scientist': 2, 'business intelligence analyst': 5, 'dev_web': 13, 'total_campus': '>19'}\n",
        "\n",
        "sorted(wildcodeschool)"
      ]
    },
    {
      "cell_type": "markdown",
      "metadata": {
        "id": "geMLdrvAYHKx"
      },
      "source": [
        "# Mission 6\n",
        "\n",
        "Create a script that returns the same output as the **values()** method."
      ]
    },
    {
      "cell_type": "code",
      "execution_count": null,
      "metadata": {
        "colab": {
          "base_uri": "https://localhost:8080/"
        },
        "id": "8nPPXHLReI29",
        "outputId": "ac99ec56-ee86-434b-a976-ecd405b68211"
      },
      "outputs": [],
      "source": [
        "wildcodeschool={'data_analyst': 8, 'data_scientist': 2, 'business intelligence analyst': 5, 'dev_web': 13, 'total_campus': '>19'}\n",
        "\n",
        "for key,value in wildcodeschool.items() :\n",
        "  print(value, end=\" | \")"
      ]
    }
  ],
  "metadata": {
    "colab": {
      "collapsed_sections": [],
      "include_colab_link": true,
      "name": "03. Python et les dictionnaires.ipynb",
      "provenance": []
    },
    "kernelspec": {
      "display_name": "Python 3.8.13 ('base')",
      "language": "python",
      "name": "python3"
    },
    "language_info": {
      "name": "python",
      "version": "3.8.13"
    },
    "vscode": {
      "interpreter": {
        "hash": "d3755b735588d4303beb95518f2ab4e1c49ea1461d509c805a65d62cd2a8f700"
      }
    }
  },
  "nbformat": 4,
  "nbformat_minor": 0
}
