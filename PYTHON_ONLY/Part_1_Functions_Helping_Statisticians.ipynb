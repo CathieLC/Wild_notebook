{
  "nbformat": 4,
  "nbformat_minor": 0,
  "metadata": {
    "colab": {
      "name": "05. Functions - Helping Statisticians - Part 1.ipynb",
      "provenance": [],
      "collapsed_sections": [],
      "include_colab_link": true
    },
    "kernelspec": {
      "name": "python3",
      "display_name": "Python 3"
    }
  },
  "cells": [
    {
      "cell_type": "markdown",
      "metadata": {
        "id": "view-in-github",
        "colab_type": "text"
      },
      "source": [
        "<a href=\"https://colab.research.google.com/github/CathieLC/Wild_notebook_2021-2022/blob/main/Part_1_Functions_Helping_Statisticians.ipynb\" target=\"_parent\"><img src=\"https://colab.research.google.com/assets/colab-badge.svg\" alt=\"Open In Colab\"/></a>"
      ]
    },
    {
      "cell_type": "markdown",
      "metadata": {
        "id": "co2X9cGIieV0"
      },
      "source": [
        "# Help for statisticians!\n",
        "\n",
        "Your fellow statisticians need you. They want to learn how to program in Python and have tons of calculations to do.\n",
        "\n",
        "Very kindly, you agree to help them. Complete the missions below."
      ]
    },
    {
      "cell_type": "markdown",
      "metadata": {
        "id": "rvnKhKV7CVoS"
      },
      "source": [
        "![Einstien le génie](https://wallup.net/wp-content/uploads/2018/09/30/201016-funny-albert-einstein-748x468.jpg)"
      ]
    },
    {
      "cell_type": "code",
      "metadata": {
        "id": "S4jmbgw-kWcj"
      },
      "source": [
        "# Mission 1: Create a function that displays the message \"Hello Python\"."
      ],
      "execution_count": 1,
      "outputs": []
    },
    {
      "cell_type": "code",
      "metadata": {
        "colab": {
          "base_uri": "https://localhost:8080/",
          "height": 35
        },
        "id": "6YpsMTb72hMg",
        "outputId": "b27a07f8-58ed-4bd2-a84d-75d1872c3000"
      },
      "source": [
        "def paroles () :\n",
        "    return \"Hello Python\"\n",
        "\n",
        "paroles()"
      ],
      "execution_count": 15,
      "outputs": [
        {
          "output_type": "execute_result",
          "data": {
            "application/vnd.google.colaboratory.intrinsic+json": {
              "type": "string"
            },
            "text/plain": [
              "'Hello Python'"
            ]
          },
          "metadata": {},
          "execution_count": 15
        }
      ]
    },
    {
      "cell_type": "code",
      "metadata": {
        "id": "4rJVUEkNk5Oo"
      },
      "source": [
        "# Mission 2: Create a function that takes in 2 numbers as parameters, and indicates whether or not they are equal."
      ],
      "execution_count": 3,
      "outputs": []
    },
    {
      "cell_type": "code",
      "metadata": {
        "colab": {
          "base_uri": "https://localhost:8080/",
          "height": 35
        },
        "id": "kO7Dw1wr7Uw9",
        "outputId": "77c99a80-f0b9-4d1d-d43e-142c79d7212a"
      },
      "source": [
        "def equal_numbers (number1, number2) :\n",
        "  if (number1 == number2) == True:\n",
        "    return f\"The number1 : {number1} is équal to {number2}\"\n",
        "  else :\n",
        "    return f\"The number1 : {number1} is not équal to {number2}\"\n",
        "\n",
        "equal_numbers(1,3)"
      ],
      "execution_count": 16,
      "outputs": [
        {
          "output_type": "execute_result",
          "data": {
            "application/vnd.google.colaboratory.intrinsic+json": {
              "type": "string"
            },
            "text/plain": [
              "'The number1 : 1 is not équal to 3'"
            ]
          },
          "metadata": {},
          "execution_count": 16
        }
      ]
    },
    {
      "cell_type": "code",
      "metadata": {
        "id": "Q9X4m3D4h-xu"
      },
      "source": [
        "# Mission 3: Create a function that uses a while or for loop to display the \n",
        "# first 10 multiples of the given number.\n",
        "# For example if your input is 2 it will look like this: \n",
        "# 2, 4, 6, 8, 10, 12, 14, 16, 18, 20\n"
      ],
      "execution_count": 5,
      "outputs": []
    },
    {
      "cell_type": "code",
      "metadata": {
        "id": "bDkFLsk7-w-S",
        "colab": {
          "base_uri": "https://localhost:8080/"
        },
        "outputId": "f099e9e5-1ca1-4e2e-e717-df642aa46056"
      },
      "source": [
        "def multiples(number) :\n",
        "\n",
        "    for multiplicateur in range (1,11) :\n",
        "        resultat = number * multiplicateur\n",
        "        multiplicateur += 1\n",
        "        print(resultat, end=\" \")\n",
        "\n",
        "multiples(2)"
      ],
      "execution_count": 20,
      "outputs": [
        {
          "output_type": "stream",
          "name": "stdout",
          "text": [
            "2 4 6 8 10 12 14 16 18 20 "
          ]
        }
      ]
    },
    {
      "cell_type": "code",
      "metadata": {
        "id": "Fe9kZrvklI0b"
      },
      "source": [
        "# Mission 4: Create a while loop that displays the vowels of the longest word in English one after the other (i.e. horizontally, not one above \n",
        "# the other, i.e. vertically). The longest word in English is: \"antidisestablishmentarianism\""
      ],
      "execution_count": 7,
      "outputs": []
    },
    {
      "cell_type": "code",
      "metadata": {
        "colab": {
          "base_uri": "https://localhost:8080/",
          "height": 35
        },
        "id": "6Mb-dlaQYmJV",
        "outputId": "8a6a79ba-1ea8-4360-fa0c-6c016e3d3d41"
      },
      "source": [
        "def display_vowels(texte) :\n",
        "    count = 0\n",
        "    list_vowels = [\"a\", \"e\", \"i\", \"o\", \"u\", \"y\"]\n",
        "    letter = \"\"\n",
        "\n",
        "    while count < len(texte) :\n",
        "        if texte[count] in list_vowels :\n",
        "            letter += texte[count] + \" \"\n",
        "        count += 1\n",
        "\n",
        "    return letter\n",
        "\n",
        "words = \"antidisestablishmentarianism\"\n",
        "\n",
        "display_vowels(words)"
      ],
      "execution_count": 8,
      "outputs": [
        {
          "output_type": "execute_result",
          "data": {
            "application/vnd.google.colaboratory.intrinsic+json": {
              "type": "string"
            },
            "text/plain": [
              "'a i i e a i e a i a i '"
            ]
          },
          "metadata": {},
          "execution_count": 8
        }
      ]
    },
    {
      "cell_type": "code",
      "metadata": {
        "id": "7b3JtuNClm4a"
      },
      "source": [
        "# Mission 5: Create a function that takes 2 numbers as parameters, and returns the result of a division operation. \n",
        "# Test if the denominator is equal to 0 and if so, display a message that says: \"You can't divide by zero\"."
      ],
      "execution_count": 9,
      "outputs": []
    },
    {
      "cell_type": "code",
      "metadata": {
        "colab": {
          "base_uri": "https://localhost:8080/"
        },
        "id": "KXes7A7wEBHa",
        "outputId": "86eca161-aa7e-4235-c195-3636ae097f17"
      },
      "source": [
        "def division(number1,number2) :\n",
        "    if number1 == 0 or number2 == 0 :\n",
        "        return \"You can't divide by zero\"        \n",
        "    else :\n",
        "        return number1/number2\n",
        "\n",
        "division(2,5)"
      ],
      "execution_count": 21,
      "outputs": [
        {
          "output_type": "execute_result",
          "data": {
            "text/plain": [
              "0.4"
            ]
          },
          "metadata": {},
          "execution_count": 21
        }
      ]
    },
    {
      "cell_type": "code",
      "metadata": {
        "id": "6hjrrDyUlN8o"
      },
      "source": [
        "# Mission 6: Create a function that takes in 3 numbers as parameters,\n",
        "# and carries out two mathematical operations of your choice (such as +, -, *, or /),\n",
        "# as in the examples below.\n",
        "# Then return the result of the applied operations. You will have to take into account a situation where division by zero is attempted.\n",
        "# Display a message that indicates whether the result is positive, negative or zero.\n",
        "\n",
        "# Example operations: \n",
        "# 0*32+2 = 2 \n",
        "# 21/0+3 > \"Error, you're trying to divide by zero\"\n"
      ],
      "execution_count": 11,
      "outputs": []
    },
    {
      "cell_type": "code",
      "metadata": {
        "colab": {
          "base_uri": "https://localhost:8080/",
          "height": 35
        },
        "id": "FNhzG8M_T3tu",
        "outputId": "a20d1b67-3d47-4a9c-846c-8188cc148fd1"
      },
      "source": [
        "def operations(number1,number2, number3) :\n",
        "    \n",
        "    if number3 == 0 :\n",
        "        return \"Error, you're trying to divide by zero\"\n",
        "\n",
        "    else :\n",
        "      resultat = number1+number2/number3\n",
        "      \n",
        "      if resultat == 0 :\n",
        "          return f\"the result {resultat} is zero\" \n",
        "      elif resultat > 0:\n",
        "          return f\"the result {resultat} is positive\"\n",
        "      else :\n",
        "          return f\"the result {resultat} is negative\"\n",
        "\n",
        "operations(1,2,5)\n",
        "\n"
      ],
      "execution_count": 12,
      "outputs": [
        {
          "output_type": "execute_result",
          "data": {
            "application/vnd.google.colaboratory.intrinsic+json": {
              "type": "string"
            },
            "text/plain": [
              "'the result 1.4 is positive'"
            ]
          },
          "metadata": {},
          "execution_count": 12
        }
      ]
    },
    {
      "cell_type": "code",
      "metadata": {
        "id": "r6DP6oTDmqfs"
      },
      "source": [
        "# Mission 7: Create a function that takes a number as a parameter that corresponds to gross salary and returns the net salary for executives.\n",
        "# You can specify any amount of deductions, or base them on your country's example\n"
      ],
      "execution_count": 13,
      "outputs": []
    },
    {
      "cell_type": "code",
      "metadata": {
        "colab": {
          "base_uri": "https://localhost:8080/"
        },
        "id": "2bgjsOXyT5kQ",
        "outputId": "646ffca3-cb72-4193-fc29-e183572e9521"
      },
      "source": [
        "def net_salary(gross_salary) :\n",
        "  \n",
        "  net_salary = gross_salary/1.23 \n",
        "  return int(net_salary)\n",
        "\n",
        "net_salary(1850)"
      ],
      "execution_count": 23,
      "outputs": [
        {
          "output_type": "execute_result",
          "data": {
            "text/plain": [
              "1504"
            ]
          },
          "metadata": {},
          "execution_count": 23
        }
      ]
    }
  ]
}