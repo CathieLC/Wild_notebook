{
  "cells": [
    {
      "cell_type": "markdown",
      "metadata": {
        "colab_type": "text",
        "id": "view-in-github"
      },
      "source": [
        "<a href=\"https://colab.research.google.com/github/CathieLC/Wild_notebook_2021-2022/blob/main/Exception_handling_or_errors.ipynb\" target=\"_parent\"><img src=\"https://colab.research.google.com/assets/colab-badge.svg\" alt=\"Open In Colab\"/></a>"
      ]
    },
    {
      "cell_type": "markdown",
      "metadata": {
        "id": "ZU6qSUveywPs"
      },
      "source": [
        "You must correct each of the scripts below **using exception handling** and **without modifying lists**."
      ]
    },
    {
      "cell_type": "markdown",
      "metadata": {
        "id": "PcSLELHnzb-X"
      },
      "source": [
        "Script number 1"
      ]
    },
    {
      "cell_type": "code",
      "execution_count": 5,
      "metadata": {
        "colab": {
          "base_uri": "https://localhost:8080/"
        },
        "id": "IAZK21ekypZP",
        "outputId": "673428d8-4f0f-48d1-f824-b370e7a72d28"
      },
      "outputs": [
        {
          "name": "stdout",
          "output_type": "stream",
          "text": [
            "1.0\n",
            "0.08333333333333333\n",
            "-0.022222222222222223\n",
            "0.16666666666666666\n",
            "0.037037037037037035\n",
            "you try to divide by zero, but it's impossible, we ignore this value\n",
            "0.041666666666666664\n"
          ]
        }
      ],
      "source": [
        "list_integers = [1, 12, -45, 6, 27, 0, 24]\n",
        "\n",
        "for i in list_integers:\n",
        "  try :\n",
        "    print(1/x)\n",
        "\n",
        "  except NameError:\n",
        "    try :\n",
        "      print(1/i)\n",
        "\n",
        "    except ZeroDivisionError :\n",
        "      print(\"you try to divide by zero, but it's impossible, we ignore this value\")\n",
        "      continue\n",
        "    "
      ]
    },
    {
      "cell_type": "markdown",
      "metadata": {
        "id": "LeIVc9eqzezV"
      },
      "source": [
        "Script number 2"
      ]
    },
    {
      "cell_type": "code",
      "execution_count": 6,
      "metadata": {
        "colab": {
          "base_uri": "https://localhost:8080/"
        },
        "id": "L6DRkiD6zgy_",
        "outputId": "989e713a-1391-43ad-d313-fa6d4a0a9a19"
      },
      "outputs": [
        {
          "name": "stdout",
          "output_type": "stream",
          "text": [
            "1.0\n",
            "0.08333333333333333\n",
            "-0.022222222222222223\n",
            "0.16666666666666666\n",
            "0.037037037037037035\n",
            "0.041666666666666664\n"
          ]
        }
      ],
      "source": [
        "list_integers = [1, 12, -45, 6, 27, 24]\n",
        "\n",
        "for i in range(10):\n",
        "  try :\n",
        "    print(1/list_integers[i])\n",
        "  except IndexError :\n",
        "    continue\n",
        "    \n",
        "\n"
      ]
    },
    {
      "cell_type": "markdown",
      "metadata": {
        "id": "afAY9AmOzx9r"
      },
      "source": [
        "Script number 3"
      ]
    },
    {
      "cell_type": "code",
      "execution_count": 7,
      "metadata": {
        "colab": {
          "base_uri": "https://localhost:8080/"
        },
        "id": "wV3ALP3yzzcc",
        "outputId": "2f98a830-140e-497f-cf28-7ae055513975"
      },
      "outputs": [
        {
          "name": "stdout",
          "output_type": "stream",
          "text": [
            "1.0\n",
            "0.08333333333333333\n",
            "-0.022222222222222223\n",
            "0.16666666666666666\n",
            "0.037037037037037035\n",
            "You try to divide by zero, but it's impossible, we ignore this value\n",
            "0.041666666666666664\n"
          ]
        }
      ],
      "source": [
        "list_integers = [1, 12, -45, 6, 27, 0, 24]\n",
        "for i in range(10):\n",
        "  try : \n",
        "    print(1/list_integers[i])\n",
        "\n",
        "  except ZeroDivisionError :\n",
        "    print(\"You try to divide by zero, but it's impossible, we ignore this value\")\n",
        "    continue\n",
        "\n",
        "  except IndexError :\n",
        "    continue"
      ]
    },
    {
      "cell_type": "markdown",
      "metadata": {
        "id": "8eX8Pj7Wz4rn"
      },
      "source": [
        "Script number 4"
      ]
    },
    {
      "cell_type": "code",
      "execution_count": 9,
      "metadata": {
        "colab": {
          "base_uri": "https://localhost:8080/"
        },
        "id": "miobIaTyz62H",
        "outputId": "a2a63fdd-6374-43c9-cabb-71a3625ad787"
      },
      "outputs": [
        {
          "name": "stdout",
          "output_type": "stream",
          "text": [
            "HELLO\n",
            "GOOD MORNING\n",
            "GOOD EVENING\n",
            "TRENTE-QUATRE\n",
            "BYE\n"
          ]
        }
      ],
      "source": [
        "list_words = ['hello', 'good morning', 'GOOD Evening', 34, 'Bye' ]\n",
        "\n",
        "for word in list_words:\n",
        "  try :\n",
        "    print(word.upper())\n",
        "  except AttributeError :\n",
        "    question1 = int(input(\"This value 34 isn't a string, do you want convert to string and upper (answer 1) or wish you ignore this value (answer 2) ? \"))\n",
        "\n",
        "    if question1 == 1 :\n",
        "      list_words[3] = 'TRENTE-QUATRE'\n",
        "      print(list_words[3])\n",
        "\n",
        "    elif question1 == 2 :\n",
        "      continue\n",
        "    else:\n",
        "      print(\"This answer isn't the number 1 or 2, we decide to ignore this value who is a problem and continue the loop\")\n",
        "      continue\n"
      ]
    }
  ],
  "metadata": {
    "colab": {
      "collapsed_sections": [],
      "include_colab_link": true,
      "name": "Python - Exception handling.ipynb",
      "provenance": []
    },
    "interpreter": {
      "hash": "d3755b735588d4303beb95518f2ab4e1c49ea1461d509c805a65d62cd2a8f700"
    },
    "kernelspec": {
      "display_name": "Python 3.8.13 ('base')",
      "language": "python",
      "name": "python3"
    },
    "language_info": {
      "codemirror_mode": {
        "name": "ipython",
        "version": 3
      },
      "file_extension": ".py",
      "mimetype": "text/x-python",
      "name": "python",
      "nbconvert_exporter": "python",
      "pygments_lexer": "ipython3",
      "version": "3.8.13"
    }
  },
  "nbformat": 4,
  "nbformat_minor": 0
}
