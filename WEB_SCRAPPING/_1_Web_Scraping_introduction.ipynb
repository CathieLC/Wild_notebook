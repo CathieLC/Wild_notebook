{
  "cells": [
    {
      "cell_type": "code",
      "execution_count": 20,
      "metadata": {
        "id": "sIcPxDwHQjmM"
      },
      "outputs": [],
      "source": [
        "import requests\n",
        "from bs4 import BeautifulSoup as bs\n",
        "import pandas as pd"
      ]
    },
    {
      "cell_type": "markdown",
      "metadata": {
        "id": "SE67G_uaQwJt"
      },
      "source": [
        "<h3> Lance une requête sur la page web : [Chuck Norris facts]\n",
        "\n",
        "(https://chucknorrisfacts.net/facts.php?page=1)"
      ]
    },
    {
      "cell_type": "code",
      "execution_count": 21,
      "metadata": {
        "colab": {
          "base_uri": "https://localhost:8080/"
        },
        "id": "l_0VyYPLQr-0",
        "outputId": "d62e8b70-d703-4aed-9d8d-0bffb302d573"
      },
      "outputs": [
        {
          "data": {
            "text/plain": [
              "<Response [406]>"
            ]
          },
          "execution_count": 21,
          "metadata": {},
          "output_type": "execute_result"
        }
      ],
      "source": [
        "url = 'https://chucknorrisfacts.net/facts.php?page=1'\n",
        "response = requests.get(url)\n",
        "response"
      ]
    },
    {
      "cell_type": "markdown",
      "metadata": {
        "id": "qgBVqD-yRLbQ"
      },
      "source": [
        "<h3> Quel est le response code ? <br /> A quoi correspond cette erreur ? <br /> Chuck t'a grillé !"
      ]
    },
    {
      "cell_type": "code",
      "execution_count": 22,
      "metadata": {
        "colab": {
          "base_uri": "https://localhost:8080/"
        },
        "id": "YTuwbvHIRRvQ",
        "outputId": "3f9fec92-c9ae-4dd8-8341-ede12af891a8"
      },
      "outputs": [
        {
          "name": "stdout",
          "output_type": "stream",
          "text": [
            "le response code est 406\n",
            "Cette erreur signifie 'Not Acceptable', il est impossible de nous adresser une réponse qui satisfait aux critères de notre demande, pb de navigateur inconnu ?\n"
          ]
        }
      ],
      "source": [
        "print(f\"le response code est 406\")\n",
        "print(f\"Cette erreur signifie 'Not Acceptable', il est impossible de nous adresser une réponse qui satisfait aux critères de notre demande, pb de navigateur inconnu ?\")"
      ]
    },
    {
      "cell_type": "markdown",
      "metadata": {
        "id": "Cn_RZ3t_R22T"
      },
      "source": [
        "<h3> Contourne la protection en indiquant un navigateur existant.<br /> Et relance ta requête."
      ]
    },
    {
      "cell_type": "code",
      "execution_count": 23,
      "metadata": {
        "id": "-61c3Bi-STiX"
      },
      "outputs": [
        {
          "data": {
            "text/plain": [
              "<!DOCTYPE HTML PUBLIC \"-//W3C//DTD HTML 4.01 Transitional//EN\" \"http://www.w3.org/TR/html4/loose.dtd\">\n",
              "\n",
              "<html>\n",
              "<head>\n",
              "<meta content=\"text/html; charset=utf-8\" http-equiv=\"Content-Type\"/>\n",
              "<script async=\"\" src=\"//pagead2.googlesyndication.com/pagead/js/adsbygoogle.js\" type=\"91e53e4e6a7b4e54d4bb84a8-text/javascript\"></script>\n",
              "<script type=\"91e53e4e6a7b4e54d4bb84a8-text/javascript\">\n",
              "     (adsbygoogle = window.adsbygoogle || []).push({\n",
              "          google_ad_client: \"ca-pub-1516660813469636\",\n",
              "          enable_page_level_ads: true\n",
              "     });\n",
              "</script>\n",
              "<script data-cf-settings=\"91e53e4e6a7b4e54d4bb84a8-|49\" defer=\"\" src=\"/cdn-cgi/scripts/7d0fa10a/cloudflare-static/rocket-loader.min.js\"></script><script>(function(){var js = \"window['__CF$cv$params']={r:'78740ebf1d850769',m:'Pj800DSpA8FUTVUEyiGZH2oCgGEtFH.OFGlHyXRSDC8-1673339500-0-AZUrD3tkvyGu7jW45VVhbYStvQ/mp9q5U2wsiOv0IJGx4QrTPx2QvZEKcUj46dk284JZq6BN9U4vMDLQHagfIm0xF+y/tB1t7QoCKuxyGSvljDT2j56y9KKcxQgIvyL7SS4aoBj7l6+5hlcB2UTeZd4=',s:[0x812d52576a,0xc6a4411b48],u:'/cdn-cgi/challenge-platform/h/b'};var now=Date.now()/1000,offset=14400,ts=''+(Math.floor(now)-Math.floor(now%offset)),_cpo=document.createElement('script');_cpo.nonce='',_cpo.src='/cdn-cgi/challenge-platform/h/b/scripts/alpha/invisible.js?ts='+ts,document.getElementsByTagName('head')[0].appendChild(_cpo);\";var _0xh = document.createElement('iframe');_0xh.height = 1;_0xh.width = 1;_0xh.style.position = 'absolute';_0xh.style.top = 0;_0xh.style.left = 0;_0xh.style.border = 'none';_0xh.style.visibility = 'hidden';document.body.appendChild(_0xh);function handler() {var _0xi = _0xh.contentDocument || _0xh.contentWindow.document;if (_0xi) {var _0xj = _0xi.createElement('script');_0xj.nonce = '';_0xj.innerHTML = js;_0xi.getElementsByTagName('head')[0].appendChild(_0xj);}}if (document.readyState !== 'loading') {handler();} else if (window.addEventListener) {document.addEventListener('DOMContentLoaded', handler);} else {var prev = document.onreadystatechange || function () {};document.onreadystatechange = function (e) {prev(e);if (document.readyState !== 'loading') {document.onreadystatechange = prev;handler();}};}})();</script></head></html>"
            ]
          },
          "execution_count": 23,
          "metadata": {},
          "output_type": "execute_result"
        }
      ],
      "source": [
        "#Contourne la protection en indiquant un navigateur existant. Et relance ta requête.\n",
        "navigator = 'Chrome/96.0.4664.93'\n",
        "html = requests.get(url, headers={'User-Agent': navigator})\n",
        "soup = bs(html.text, 'html.parser')\n",
        "\n",
        "soup"
      ]
    },
    {
      "cell_type": "markdown",
      "metadata": {
        "id": "1sgVhQGDWBtf"
      },
      "source": [
        "<h3> Trouve la balise permettant d'identifier le bloc contenant une blague. <br />Combien y en a-t-il ? (il devrait y en avoir 20). <br /> Affiche le 8e bloc de blague grâce à l'attribut .text."
      ]
    },
    {
      "cell_type": "code",
      "execution_count": 24,
      "metadata": {
        "id": "-B24kcU_c6ac"
      },
      "outputs": [],
      "source": [
        "# La balise est 'content'\n",
        "joke = soup.find(id='content')\n",
        "joke"
      ]
    },
    {
      "cell_type": "code",
      "execution_count": 25,
      "metadata": {
        "colab": {
          "base_uri": "https://localhost:8080/"
        },
        "id": "MdPZkc1idLiJ",
        "outputId": "1fe63f2d-74ef-40f5-e38e-0d6db873b33e"
      },
      "outputs": [
        {
          "ename": "AttributeError",
          "evalue": "'NoneType' object has no attribute 'find_all'",
          "output_type": "error",
          "traceback": [
            "\u001b[1;31m---------------------------------------------------------------------------\u001b[0m",
            "\u001b[1;31mAttributeError\u001b[0m                            Traceback (most recent call last)",
            "\u001b[1;32mc:\\Users\\cathe\\Documents\\WCS-2022-2023\\VS_code\\ANCIENS REPOS\\wild_notebook_2021-2022\\WEB_SCRAPPING\\_1_Web_Scraping_introduction.ipynb Cell 10\u001b[0m in \u001b[0;36m<cell line: 2>\u001b[1;34m()\u001b[0m\n\u001b[0;32m      <a href='vscode-notebook-cell:/c%3A/Users/cathe/Documents/WCS-2022-2023/VS_code/ANCIENS%20REPOS/wild_notebook_2021-2022/WEB_SCRAPPING/_1_Web_Scraping_introduction.ipynb#X12sZmlsZQ%3D%3D?line=0'>1</a>\u001b[0m \u001b[39m# combien y en a t-il ? \u001b[39;00m\n\u001b[1;32m----> <a href='vscode-notebook-cell:/c%3A/Users/cathe/Documents/WCS-2022-2023/VS_code/ANCIENS%20REPOS/wild_notebook_2021-2022/WEB_SCRAPPING/_1_Web_Scraping_introduction.ipynb#X12sZmlsZQ%3D%3D?line=1'>2</a>\u001b[0m bloc \u001b[39m=\u001b[39m joke\u001b[39m.\u001b[39;49mfind_all(\u001b[39m'\u001b[39m\u001b[39mdiv\u001b[39m\u001b[39m'\u001b[39m, {\u001b[39m\"\u001b[39m\u001b[39mstyle\u001b[39m\u001b[39m\"\u001b[39m : \u001b[39m\"\u001b[39m\u001b[39mborder-top: 1px solid #251836; padding: 0 0 5px 7px;\u001b[39m\u001b[39m\"\u001b[39m})\n\u001b[0;32m      <a href='vscode-notebook-cell:/c%3A/Users/cathe/Documents/WCS-2022-2023/VS_code/ANCIENS%20REPOS/wild_notebook_2021-2022/WEB_SCRAPPING/_1_Web_Scraping_introduction.ipynb#X12sZmlsZQ%3D%3D?line=2'>3</a>\u001b[0m \u001b[39mlen\u001b[39m(bloc)\n",
            "\u001b[1;31mAttributeError\u001b[0m: 'NoneType' object has no attribute 'find_all'"
          ]
        }
      ],
      "source": [
        "# combien y en a t-il ? \n",
        "bloc = joke.find_all('div', {\"style\" : \"border-top: 1px solid #251836; padding: 0 0 5px 7px;\"})\n",
        "len(bloc)\n"
      ]
    },
    {
      "cell_type": "code",
      "execution_count": null,
      "metadata": {
        "colab": {
          "base_uri": "https://localhost:8080/",
          "height": 35
        },
        "id": "Cinz0c7ndbtj",
        "outputId": "341ce932-6120-47d4-aa82-5b3ff63cff77"
      },
      "outputs": [
        {
          "data": {
            "application/vnd.google.colaboratory.intrinsic+json": {
              "type": "string"
            },
            "text/plain": [
              "\"\\nChuck Norris doesn't read books. He stares them down until he gets the information he wants.Rated 3.83/5 (787 Votes)\\n\\n\\n1\\n2\\n3\\n4\\n5\\n\\n\""
            ]
          },
          "execution_count": 128,
          "metadata": {},
          "output_type": "execute_result"
        }
      ],
      "source": [
        "# trouve le 8ème bloc grâce à l'attribut .text\n",
        "bloc[9].text"
      ]
    },
    {
      "cell_type": "markdown",
      "metadata": {
        "id": "ljdTNrOkfH_0"
      },
      "source": [
        "<h3> Chacun des éléments de ton itérable est lui-même une mini-soupe. <br />Utilise la méthode .find avec la balise appropriée pour isoler uniquement la 8e blague, sans les autres éléments (donc sans la note, etc...)"
      ]
    },
    {
      "cell_type": "code",
      "execution_count": 27,
      "metadata": {
        "colab": {
          "base_uri": "https://localhost:8080/",
          "height": 35
        },
        "id": "PeyLeV8XfHM2",
        "outputId": "12a0c36a-28cf-478a-902c-3286d7430d42"
      },
      "outputs": [
        {
          "ename": "AttributeError",
          "evalue": "'NoneType' object has no attribute 'find_all'",
          "output_type": "error",
          "traceback": [
            "\u001b[1;31m---------------------------------------------------------------------------\u001b[0m",
            "\u001b[1;31mAttributeError\u001b[0m                            Traceback (most recent call last)",
            "\u001b[1;32mc:\\Users\\cathe\\Documents\\WCS-2022-2023\\VS_code\\ANCIENS REPOS\\wild_notebook_2021-2022\\WEB_SCRAPPING\\_1_Web_Scraping_introduction.ipynb Cell 13\u001b[0m in \u001b[0;36m<cell line: 1>\u001b[1;34m()\u001b[0m\n\u001b[1;32m----> <a href='vscode-notebook-cell:/c%3A/Users/cathe/Documents/WCS-2022-2023/VS_code/ANCIENS%20REPOS/wild_notebook_2021-2022/WEB_SCRAPPING/_1_Web_Scraping_introduction.ipynb#X15sZmlsZQ%3D%3D?line=0'>1</a>\u001b[0m bloc8 \u001b[39m=\u001b[39m joke\u001b[39m.\u001b[39;49mfind_all(\u001b[39m'\u001b[39m\u001b[39mp\u001b[39m\u001b[39m'\u001b[39m)\n\u001b[0;32m      <a href='vscode-notebook-cell:/c%3A/Users/cathe/Documents/WCS-2022-2023/VS_code/ANCIENS%20REPOS/wild_notebook_2021-2022/WEB_SCRAPPING/_1_Web_Scraping_introduction.ipynb#X15sZmlsZQ%3D%3D?line=1'>2</a>\u001b[0m bloc8\n\u001b[0;32m      <a href='vscode-notebook-cell:/c%3A/Users/cathe/Documents/WCS-2022-2023/VS_code/ANCIENS%20REPOS/wild_notebook_2021-2022/WEB_SCRAPPING/_1_Web_Scraping_introduction.ipynb#X15sZmlsZQ%3D%3D?line=2'>3</a>\u001b[0m bloc8[\u001b[39m7\u001b[39m]\u001b[39m.\u001b[39mget_text()\n",
            "\u001b[1;31mAttributeError\u001b[0m: 'NoneType' object has no attribute 'find_all'"
          ]
        }
      ],
      "source": [
        "bloc8 = joke.find_all('p')\n",
        "bloc8\n",
        "bloc8[7].get_text()"
      ]
    },
    {
      "cell_type": "markdown",
      "metadata": {
        "id": "cfBdoMdJgdiG"
      },
      "source": [
        "<h3> Fais de même pour isoler uniquement la note de la 8e blague"
      ]
    },
    {
      "cell_type": "code",
      "execution_count": null,
      "metadata": {
        "colab": {
          "base_uri": "https://localhost:8080/",
          "height": 35
        },
        "id": "zuf_6EKngqMq",
        "outputId": "a7d19e84-46e1-471f-ffa3-a7e12a63dea4"
      },
      "outputs": [
        {
          "ename": "AttributeError",
          "evalue": "'NoneType' object has no attribute 'find_all'",
          "output_type": "error",
          "traceback": [
            "\u001b[1;31m---------------------------------------------------------------------------\u001b[0m",
            "\u001b[1;31mAttributeError\u001b[0m                            Traceback (most recent call last)",
            "\u001b[1;32mc:\\Users\\cathe\\Documents\\WCS-2022-2023\\VS_code\\ANCIENS REPOS\\wild_notebook_2021-2022\\WEB_SCRAPPING\\_1_Web_Scraping_introduction.ipynb Cell 15\u001b[0m in \u001b[0;36m<cell line: 1>\u001b[1;34m()\u001b[0m\n\u001b[1;32m----> <a href='vscode-notebook-cell:/c%3A/Users/cathe/Documents/WCS-2022-2023/VS_code/ANCIENS%20REPOS/wild_notebook_2021-2022/WEB_SCRAPPING/_1_Web_Scraping_introduction.ipynb#X20sZmlsZQ%3D%3D?line=0'>1</a>\u001b[0m rate8 \u001b[39m=\u001b[39m joke\u001b[39m.\u001b[39;49mfind_all(\u001b[39m'\u001b[39m\u001b[39mspan\u001b[39m\u001b[39m'\u001b[39m, {\u001b[39m'\u001b[39m\u001b[39mclass\u001b[39m\u001b[39m'\u001b[39m:\u001b[39m\"\u001b[39m\u001b[39mout5Class\u001b[39m\u001b[39m\"\u001b[39m})\n\u001b[0;32m      <a href='vscode-notebook-cell:/c%3A/Users/cathe/Documents/WCS-2022-2023/VS_code/ANCIENS%20REPOS/wild_notebook_2021-2022/WEB_SCRAPPING/_1_Web_Scraping_introduction.ipynb#X20sZmlsZQ%3D%3D?line=1'>2</a>\u001b[0m rate8[\u001b[39m7\u001b[39m]\u001b[39m.\u001b[39mget_text()\n",
            "\u001b[1;31mAttributeError\u001b[0m: 'NoneType' object has no attribute 'find_all'"
          ]
        }
      ],
      "source": [
        "rate8 = joke.find_all('span', {'class':\"out5Class\"})\n",
        "rate8[7].get_text()"
      ]
    },
    {
      "cell_type": "markdown",
      "metadata": {
        "id": "DFmUeP17jpsm"
      },
      "source": [
        "<h3> Crée un dictionnaire vide<br /> Puis crée une boucle qui viendra enregistrer dans ce dictionnaire chaque blague en clé et chaque note correspondante en valeur."
      ]
    },
    {
      "cell_type": "code",
      "execution_count": 28,
      "metadata": {
        "id": "eOl_Rde_fHdR"
      },
      "outputs": [
        {
          "ename": "NameError",
          "evalue": "name 'bloc8' is not defined",
          "output_type": "error",
          "traceback": [
            "\u001b[1;31m---------------------------------------------------------------------------\u001b[0m",
            "\u001b[1;31mNameError\u001b[0m                                 Traceback (most recent call last)",
            "\u001b[1;32mc:\\Users\\cathe\\Documents\\WCS-2022-2023\\VS_code\\ANCIENS REPOS\\wild_notebook_2021-2022\\WEB_SCRAPPING\\_1_Web_Scraping_introduction.ipynb Cell 17\u001b[0m in \u001b[0;36m<cell line: 5>\u001b[1;34m()\u001b[0m\n\u001b[0;32m      <a href='vscode-notebook-cell:/c%3A/Users/cathe/Documents/WCS-2022-2023/VS_code/ANCIENS%20REPOS/wild_notebook_2021-2022/WEB_SCRAPPING/_1_Web_Scraping_introduction.ipynb#X22sZmlsZQ%3D%3D?line=1'>2</a>\u001b[0m joke_list \u001b[39m=\u001b[39m []\n\u001b[0;32m      <a href='vscode-notebook-cell:/c%3A/Users/cathe/Documents/WCS-2022-2023/VS_code/ANCIENS%20REPOS/wild_notebook_2021-2022/WEB_SCRAPPING/_1_Web_Scraping_introduction.ipynb#X22sZmlsZQ%3D%3D?line=2'>3</a>\u001b[0m rate_list \u001b[39m=\u001b[39m []\n\u001b[1;32m----> <a href='vscode-notebook-cell:/c%3A/Users/cathe/Documents/WCS-2022-2023/VS_code/ANCIENS%20REPOS/wild_notebook_2021-2022/WEB_SCRAPPING/_1_Web_Scraping_introduction.ipynb#X22sZmlsZQ%3D%3D?line=4'>5</a>\u001b[0m \u001b[39mfor\u001b[39;00m i \u001b[39min\u001b[39;00m \u001b[39mrange\u001b[39m(\u001b[39mlen\u001b[39m(bloc8)) :\n\u001b[0;32m      <a href='vscode-notebook-cell:/c%3A/Users/cathe/Documents/WCS-2022-2023/VS_code/ANCIENS%20REPOS/wild_notebook_2021-2022/WEB_SCRAPPING/_1_Web_Scraping_introduction.ipynb#X22sZmlsZQ%3D%3D?line=5'>6</a>\u001b[0m   joke \u001b[39m=\u001b[39m bloc8[i]\u001b[39m.\u001b[39mget_text()\n\u001b[0;32m      <a href='vscode-notebook-cell:/c%3A/Users/cathe/Documents/WCS-2022-2023/VS_code/ANCIENS%20REPOS/wild_notebook_2021-2022/WEB_SCRAPPING/_1_Web_Scraping_introduction.ipynb#X22sZmlsZQ%3D%3D?line=6'>7</a>\u001b[0m   joke_list\u001b[39m.\u001b[39mappend(joke)\n",
            "\u001b[1;31mNameError\u001b[0m: name 'bloc8' is not defined"
          ]
        }
      ],
      "source": [
        "# create empty list for select joke and rate\n",
        "joke_list = []\n",
        "rate_list = []\n",
        "\n",
        "for i in range(len(bloc8)) :\n",
        "  joke = bloc8[i].get_text()\n",
        "  joke_list.append(joke)\n",
        "\n",
        "for x in range(len(rate8)):\n",
        "  rate = rate8[x].get_text()\n",
        "  rate_list.append(rate)\n",
        "\n",
        "# then I create a dict with two lists\n",
        "chuck_dict = {key: value for key, value in zip(joke_list, rate_list)}\n",
        "chuck_dict\n"
      ]
    },
    {
      "cell_type": "markdown",
      "metadata": {
        "id": "HRQLxODukORo"
      },
      "source": [
        "<h3> Transforme ce dictionnaire en DataFrame de 2 colonnes : blague et note.<br /> Il doit avoir 20 lignes : une par blague."
      ]
    },
    {
      "cell_type": "code",
      "execution_count": null,
      "metadata": {
        "colab": {
          "base_uri": "https://localhost:8080/",
          "height": 676
        },
        "id": "dlU71GPPbMof",
        "outputId": "fab43b70-df4f-46f2-e1da-640432311c98"
      },
      "outputs": [
        {
          "data": {
            "text/html": [
              "<div>\n",
              "<style scoped>\n",
              "    .dataframe tbody tr th:only-of-type {\n",
              "        vertical-align: middle;\n",
              "    }\n",
              "\n",
              "    .dataframe tbody tr th {\n",
              "        vertical-align: top;\n",
              "    }\n",
              "\n",
              "    .dataframe thead th {\n",
              "        text-align: right;\n",
              "    }\n",
              "</style>\n",
              "<table border=\"1\" class=\"dataframe\">\n",
              "  <thead>\n",
              "    <tr style=\"text-align: right;\">\n",
              "      <th></th>\n",
              "      <th>Joke</th>\n",
              "      <th>Rate</th>\n",
              "    </tr>\n",
              "  </thead>\n",
              "  <tbody>\n",
              "    <tr>\n",
              "      <th>0</th>\n",
              "      <td>There is no 'ctrl' button on Chuck Norris' com...</td>\n",
              "      <td>3.74</td>\n",
              "    </tr>\n",
              "    <tr>\n",
              "      <th>1</th>\n",
              "      <td>Chuck Norris doesnt sleep. He waits.</td>\n",
              "      <td>3.81</td>\n",
              "    </tr>\n",
              "    <tr>\n",
              "      <th>2</th>\n",
              "      <td>Some kids piss their name in the snow. Chuck N...</td>\n",
              "      <td>4.05</td>\n",
              "    </tr>\n",
              "    <tr>\n",
              "      <th>3</th>\n",
              "      <td>Chuck Norris' calendar goes straight from Marc...</td>\n",
              "      <td>4.08</td>\n",
              "    </tr>\n",
              "    <tr>\n",
              "      <th>4</th>\n",
              "      <td>Chuck Norris is the only person in the world t...</td>\n",
              "      <td>3.57</td>\n",
              "    </tr>\n",
              "    <tr>\n",
              "      <th>5</th>\n",
              "      <td>Chuck Norris' tears cure cancer. Too bad he ha...</td>\n",
              "      <td>4.04</td>\n",
              "    </tr>\n",
              "    <tr>\n",
              "      <th>6</th>\n",
              "      <td>When Chuck Norris is put in a straight jacket ...</td>\n",
              "      <td>3.37</td>\n",
              "    </tr>\n",
              "    <tr>\n",
              "      <th>7</th>\n",
              "      <td>Jesus can walk on water, but Chuck Norris can ...</td>\n",
              "      <td>4.04</td>\n",
              "    </tr>\n",
              "    <tr>\n",
              "      <th>8</th>\n",
              "      <td>Chuck Norris once shot an enemy plane down wit...</td>\n",
              "      <td>3.94</td>\n",
              "    </tr>\n",
              "    <tr>\n",
              "      <th>9</th>\n",
              "      <td>Chuck Norris doesn't read books. He stares the...</td>\n",
              "      <td>3.83</td>\n",
              "    </tr>\n",
              "    <tr>\n",
              "      <th>10</th>\n",
              "      <td>The quickest way to a man's heart is with Chuc...</td>\n",
              "      <td>3.82</td>\n",
              "    </tr>\n",
              "    <tr>\n",
              "      <th>11</th>\n",
              "      <td>If you spell Chuck Norris in Scrabble, you win...</td>\n",
              "      <td>3.96</td>\n",
              "    </tr>\n",
              "    <tr>\n",
              "      <th>12</th>\n",
              "      <td>The following is a short list of things Chuck ...</td>\n",
              "      <td>3.89</td>\n",
              "    </tr>\n",
              "    <tr>\n",
              "      <th>13</th>\n",
              "      <td>If you make a list of 10 things Chuck Norris c...</td>\n",
              "      <td>3.53</td>\n",
              "    </tr>\n",
              "    <tr>\n",
              "      <th>14</th>\n",
              "      <td>When Chuck Norris looks in the mirror nothing ...</td>\n",
              "      <td>3.92</td>\n",
              "    </tr>\n",
              "    <tr>\n",
              "      <th>15</th>\n",
              "      <td>Chuck Norris can unscramble an egg.</td>\n",
              "      <td>4.06</td>\n",
              "    </tr>\n",
              "    <tr>\n",
              "      <th>16</th>\n",
              "      <td>When Chuck Norris wants popcorn, he breathes o...</td>\n",
              "      <td>3.33</td>\n",
              "    </tr>\n",
              "    <tr>\n",
              "      <th>17</th>\n",
              "      <td>Chuck Norris has a vacation home on the sun.</td>\n",
              "      <td>3.21</td>\n",
              "    </tr>\n",
              "    <tr>\n",
              "      <th>18</th>\n",
              "      <td>Chuck Norris is suing Myspace for taking the n...</td>\n",
              "      <td>3.38</td>\n",
              "    </tr>\n",
              "    <tr>\n",
              "      <th>19</th>\n",
              "      <td>Chuck Norris destroyed the periodic table, bec...</td>\n",
              "      <td>3.93</td>\n",
              "    </tr>\n",
              "  </tbody>\n",
              "</table>\n",
              "</div>"
            ],
            "text/plain": [
              "                                                 Joke  Rate\n",
              "0   There is no 'ctrl' button on Chuck Norris' com...  3.74\n",
              "1                Chuck Norris doesnt sleep. He waits.  3.81\n",
              "2   Some kids piss their name in the snow. Chuck N...  4.05\n",
              "3   Chuck Norris' calendar goes straight from Marc...  4.08\n",
              "4   Chuck Norris is the only person in the world t...  3.57\n",
              "5   Chuck Norris' tears cure cancer. Too bad he ha...  4.04\n",
              "6   When Chuck Norris is put in a straight jacket ...  3.37\n",
              "7   Jesus can walk on water, but Chuck Norris can ...  4.04\n",
              "8   Chuck Norris once shot an enemy plane down wit...  3.94\n",
              "9   Chuck Norris doesn't read books. He stares the...  3.83\n",
              "10  The quickest way to a man's heart is with Chuc...  3.82\n",
              "11  If you spell Chuck Norris in Scrabble, you win...  3.96\n",
              "12  The following is a short list of things Chuck ...  3.89\n",
              "13  If you make a list of 10 things Chuck Norris c...  3.53\n",
              "14  When Chuck Norris looks in the mirror nothing ...  3.92\n",
              "15                Chuck Norris can unscramble an egg.  4.06\n",
              "16  When Chuck Norris wants popcorn, he breathes o...  3.33\n",
              "17       Chuck Norris has a vacation home on the sun.  3.21\n",
              "18  Chuck Norris is suing Myspace for taking the n...  3.38\n",
              "19  Chuck Norris destroyed the periodic table, bec...  3.93"
            ]
          },
          "execution_count": 132,
          "metadata": {},
          "output_type": "execute_result"
        }
      ],
      "source": [
        "#create df with chuck_dict\n",
        "\n",
        "df_joke = pd.Series(chuck_dict)\n",
        "df_joke = pd.DataFrame(df_joke).reset_index()\n",
        "df_joke.rename({'index' : 'Joke', 0 : \"Rate\"}, axis =1, inplace=True)\n",
        "df_joke"
      ]
    }
  ],
  "metadata": {
    "colab": {
      "collapsed_sections": [],
      "name": "#1 Web Scraping : introduction.ipynb",
      "provenance": []
    },
    "kernelspec": {
      "display_name": "base",
      "language": "python",
      "name": "python3"
    },
    "language_info": {
      "codemirror_mode": {
        "name": "ipython",
        "version": 3
      },
      "file_extension": ".py",
      "mimetype": "text/x-python",
      "name": "python",
      "nbconvert_exporter": "python",
      "pygments_lexer": "ipython3",
      "version": "3.8.13"
    },
    "vscode": {
      "interpreter": {
        "hash": "d3755b735588d4303beb95518f2ab4e1c49ea1461d509c805a65d62cd2a8f700"
      }
    }
  },
  "nbformat": 4,
  "nbformat_minor": 0
}
