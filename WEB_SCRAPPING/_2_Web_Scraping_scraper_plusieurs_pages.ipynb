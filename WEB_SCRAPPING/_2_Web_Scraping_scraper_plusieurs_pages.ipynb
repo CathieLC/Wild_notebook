{
  "cells": [
    {
      "cell_type": "code",
      "execution_count": 1,
      "metadata": {
        "id": "sIcPxDwHQjmM"
      },
      "outputs": [],
      "source": [
        "import requests\n",
        "from bs4 import BeautifulSoup as bs\n",
        "import pandas as pd\n",
        "import plotly.express as px"
      ]
    },
    {
      "cell_type": "markdown",
      "metadata": {
        "id": "SE67G_uaQwJt"
      },
      "source": [
        "<h3> Lance une requête sur la page web : [Chuck Norris facts]\n",
        "\n",
        "(https://chucknorrisfacts.net/facts.php?page=1)"
      ]
    },
    {
      "cell_type": "code",
      "execution_count": 2,
      "metadata": {
        "colab": {
          "base_uri": "https://localhost:8080/"
        },
        "id": "l_0VyYPLQr-0",
        "outputId": "ecbe67f1-519e-4bd3-b43b-b0b7379b10c9"
      },
      "outputs": [
        {
          "data": {
            "text/plain": [
              "<Response [200]>"
            ]
          },
          "execution_count": 2,
          "metadata": {},
          "output_type": "execute_result"
        }
      ],
      "source": [
        "url = 'https://chucknorrisfacts.net/facts.php?page=1'\n",
        "navigator = 'Chrome/96.0.4664.93'\n",
        "html = requests.get(url, headers={'User-Agent': navigator})\n",
        "soup = bs(html.text, 'html.parser')\n",
        "html"
      ]
    },
    {
      "cell_type": "markdown",
      "metadata": {
        "id": "qgBVqD-yRLbQ"
      },
      "source": [
        "<h3> Observe attentivement l'URL de la page 1. <br /> Essaye de passer à la page 2.<br />  Dans un notebook python, essaye de générer automatiquement les URL des 5 premières pages (avec une boucle par exemple ?)"
      ]
    },
    {
      "cell_type": "code",
      "execution_count": 3,
      "metadata": {
        "colab": {
          "base_uri": "https://localhost:8080/",
          "height": 35
        },
        "id": "HovAR8C8Ep52",
        "outputId": "32ba6b97-7264-4138-a0ca-25d0ba39c47d"
      },
      "outputs": [
        {
          "data": {
            "text/plain": [
              "'https://chucknorrisfacts.net/facts.php?page=3'"
            ]
          },
          "execution_count": 3,
          "metadata": {},
          "output_type": "execute_result"
        }
      ],
      "source": [
        "#pages 2 à 5 \n",
        "\n",
        "list_url = []\n",
        "\n",
        "for page in range(2,6) :\n",
        "  link = 'https://chucknorrisfacts.net/facts.php?page='+str(page)\n",
        "  list_url.append(link)\n",
        "\n",
        "list_url[1]"
      ]
    },
    {
      "cell_type": "markdown",
      "metadata": {
        "id": "Cn_RZ3t_R22T"
      },
      "source": [
        "<h3> Utilise BeautifulSoup pour scraper les facts et les notes des 5 premières pages, grâce aux URL que tu as générées. <br /> (Nous pourrions faire les 100 ou 200 pages suivantes, mais ca risque d'entrainer une charge inutile pour ceux qui administrent ce serveur.) <br /> Le résultat doit être dans un dictionnaire."
      ]
    },
    {
      "cell_type": "code",
      "execution_count": 5,
      "metadata": {
        "colab": {
          "base_uri": "https://localhost:8080/"
        },
        "id": "WlTGwclCWnDL",
        "outputId": "731677fd-8ce3-46c0-9021-7014b66754e8"
      },
      "outputs": [
        {
          "ename": "AttributeError",
          "evalue": "'NoneType' object has no attribute 'find_all'",
          "output_type": "error",
          "traceback": [
            "\u001b[1;31m---------------------------------------------------------------------------\u001b[0m",
            "\u001b[1;31mAttributeError\u001b[0m                            Traceback (most recent call last)",
            "\u001b[1;32mc:\\Users\\cathe\\Documents\\WCS-2022-2023\\VS_code\\ANCIENS REPOS\\wild_notebook_2021-2022\\WEB_SCRAPPING\\_2_Web_Scraping_scraper_plusieurs_pages.ipynb Cell 7\u001b[0m in \u001b[0;36m<cell line: 9>\u001b[1;34m()\u001b[0m\n\u001b[0;32m     <a href='vscode-notebook-cell:/c%3A/Users/cathe/Documents/WCS-2022-2023/VS_code/ANCIENS%20REPOS/wild_notebook_2021-2022/WEB_SCRAPPING/_2_Web_Scraping_scraper_plusieurs_pages.ipynb#W6sZmlsZQ%3D%3D?line=17'>18</a>\u001b[0m     soup \u001b[39m=\u001b[39m bs(html\u001b[39m.\u001b[39mtext, \u001b[39m'\u001b[39m\u001b[39mhtml.parser\u001b[39m\u001b[39m'\u001b[39m)\n\u001b[0;32m     <a href='vscode-notebook-cell:/c%3A/Users/cathe/Documents/WCS-2022-2023/VS_code/ANCIENS%20REPOS/wild_notebook_2021-2022/WEB_SCRAPPING/_2_Web_Scraping_scraper_plusieurs_pages.ipynb#W6sZmlsZQ%3D%3D?line=18'>19</a>\u001b[0m     joke \u001b[39m=\u001b[39m soup\u001b[39m.\u001b[39mfind(\u001b[39mid\u001b[39m\u001b[39m=\u001b[39m\u001b[39m'\u001b[39m\u001b[39mcontent\u001b[39m\u001b[39m'\u001b[39m)\n\u001b[1;32m---> <a href='vscode-notebook-cell:/c%3A/Users/cathe/Documents/WCS-2022-2023/VS_code/ANCIENS%20REPOS/wild_notebook_2021-2022/WEB_SCRAPPING/_2_Web_Scraping_scraper_plusieurs_pages.ipynb#W6sZmlsZQ%3D%3D?line=19'>20</a>\u001b[0m     facts \u001b[39m=\u001b[39m joke\u001b[39m.\u001b[39;49mfind_all(\u001b[39m'\u001b[39m\u001b[39mp\u001b[39m\u001b[39m'\u001b[39m)\n\u001b[0;32m     <a href='vscode-notebook-cell:/c%3A/Users/cathe/Documents/WCS-2022-2023/VS_code/ANCIENS%20REPOS/wild_notebook_2021-2022/WEB_SCRAPPING/_2_Web_Scraping_scraper_plusieurs_pages.ipynb#W6sZmlsZQ%3D%3D?line=20'>21</a>\u001b[0m     rate \u001b[39m=\u001b[39m joke\u001b[39m.\u001b[39mfind_all(\u001b[39m'\u001b[39m\u001b[39mspan\u001b[39m\u001b[39m'\u001b[39m, {\u001b[39m'\u001b[39m\u001b[39mclass\u001b[39m\u001b[39m'\u001b[39m:\u001b[39m\"\u001b[39m\u001b[39mout5Class\u001b[39m\u001b[39m\"\u001b[39m})\n\u001b[0;32m     <a href='vscode-notebook-cell:/c%3A/Users/cathe/Documents/WCS-2022-2023/VS_code/ANCIENS%20REPOS/wild_notebook_2021-2022/WEB_SCRAPPING/_2_Web_Scraping_scraper_plusieurs_pages.ipynb#W6sZmlsZQ%3D%3D?line=22'>23</a>\u001b[0m \u001b[39m#création de la boucle pour ajouter le sfun facts de chaque page dans la liste fun_facts & idem pour les notes   \u001b[39;00m\n",
            "\u001b[1;31mAttributeError\u001b[0m: 'NoneType' object has no attribute 'find_all'"
          ]
        }
      ],
      "source": [
        "# créer une liste vide pour remplir des fun facts Chuck Norris\n",
        "fun_facts = []\n",
        "rate_facts =[]\n",
        "\n",
        "#créer une liste vide qui contiendra les pages url à scrapper\n",
        "list_url2 = []\n",
        "\n",
        "#création de la première boucle pour ajouter les url par page du site\n",
        "for page in range(1,6) :\n",
        "  link = 'https://chucknorrisfacts.net/facts.php?page='+str(page)\n",
        "  list_url2.append(link)\n",
        "\n",
        "#création de la boucle sous la premiere pour ouvrir les pages contenues dans la liste list_url2 + récupération des fun fact et des notes\n",
        "  for i in list_url2:\n",
        "    url = i\n",
        "    navigator = 'Chrome/96.0.4664.93'\n",
        "    html = requests.get(url, headers={'User-Agent': navigator})\n",
        "    soup = bs(html.text, 'html.parser')\n",
        "    joke = soup.find(id='content')\n",
        "    facts = joke.find_all('p')\n",
        "    rate = joke.find_all('span', {'class':\"out5Class\"})\n",
        "\n",
        "#création de la boucle pour ajouter le sfun facts de chaque page dans la liste fun_facts & idem pour les notes   \n",
        "  for x in range(len(facts)):\n",
        "    sentence = facts[x].get_text()\n",
        "    fun_facts.append(sentence)\n",
        "  \n",
        "  for r in range(len(rate)):\n",
        "    rate_fact_chuck = rate[r].get_text()\n",
        "    rate_facts.append(rate_fact_chuck)\n",
        "    \n",
        "\n",
        "print(len(fun_facts))\n",
        "print(len(rate_facts))\n"
      ]
    },
    {
      "cell_type": "code",
      "execution_count": null,
      "metadata": {
        "colab": {
          "base_uri": "https://localhost:8080/"
        },
        "id": "wnyzt8BOcOuz",
        "outputId": "9bd9843c-2975-4436-9d40-bf26e3f4fc49"
      },
      "outputs": [
        {
          "ename": "NameError",
          "evalue": "name 'fun_facts' is not defined",
          "output_type": "error",
          "traceback": [
            "\u001b[1;31m---------------------------------------------------------------------------\u001b[0m",
            "\u001b[1;31mNameError\u001b[0m                                 Traceback (most recent call last)",
            "Cell \u001b[1;32mIn [2], line 3\u001b[0m\n\u001b[0;32m      1\u001b[0m \u001b[39m#ajout dans un dictionnaire\u001b[39;00m\n\u001b[1;32m----> 3\u001b[0m keys \u001b[39m=\u001b[39m fun_facts\n\u001b[0;32m      4\u001b[0m values \u001b[39m=\u001b[39m rate_facts\n\u001b[0;32m      6\u001b[0m chuck_dict \u001b[39m=\u001b[39m \u001b[39mdict\u001b[39m(\u001b[39mzip\u001b[39m(keys, values))\n",
            "\u001b[1;31mNameError\u001b[0m: name 'fun_facts' is not defined"
          ]
        }
      ],
      "source": [
        "#ajout dans un dictionnaire\n",
        "\n",
        "keys = fun_facts\n",
        "values = rate_facts\n",
        "\n",
        "chuck_dict = dict(zip(keys, values))\n",
        "len(chuck_dict)\n",
        "\n",
        "print(chuck_dict)\n",
        "\n"
      ]
    },
    {
      "cell_type": "markdown",
      "metadata": {
        "id": "1sgVhQGDWBtf"
      },
      "source": [
        "<h3> Crée un DataFrame contenant ces données, il doit donc posséder 2 colonnes et 100 lignes."
      ]
    },
    {
      "cell_type": "code",
      "execution_count": null,
      "metadata": {
        "colab": {
          "base_uri": "https://localhost:8080/",
          "height": 424
        },
        "id": "MdPZkc1idLiJ",
        "outputId": "ad048fb4-f0d4-45af-ea35-de549e88f9de"
      },
      "outputs": [
        {
          "data": {
            "text/html": [
              "<div>\n",
              "<style scoped>\n",
              "    .dataframe tbody tr th:only-of-type {\n",
              "        vertical-align: middle;\n",
              "    }\n",
              "\n",
              "    .dataframe tbody tr th {\n",
              "        vertical-align: top;\n",
              "    }\n",
              "\n",
              "    .dataframe thead th {\n",
              "        text-align: right;\n",
              "    }\n",
              "</style>\n",
              "<table border=\"1\" class=\"dataframe\">\n",
              "  <thead>\n",
              "    <tr style=\"text-align: right;\">\n",
              "      <th></th>\n",
              "      <th>Joke</th>\n",
              "      <th>Rate</th>\n",
              "    </tr>\n",
              "  </thead>\n",
              "  <tbody>\n",
              "    <tr>\n",
              "      <th>20</th>\n",
              "      <td>Chuck Norris can kill two stones with one bird.</td>\n",
              "      <td>4.1</td>\n",
              "    </tr>\n",
              "    <tr>\n",
              "      <th>75</th>\n",
              "      <td>Chuck actually died four years ago, but the Gr...</td>\n",
              "      <td>4.08</td>\n",
              "    </tr>\n",
              "    <tr>\n",
              "      <th>74</th>\n",
              "      <td>When Chuck Norris was in middle school, his En...</td>\n",
              "      <td>4.08</td>\n",
              "    </tr>\n",
              "    <tr>\n",
              "      <th>3</th>\n",
              "      <td>Chuck Norris' calendar goes straight from Marc...</td>\n",
              "      <td>4.08</td>\n",
              "    </tr>\n",
              "    <tr>\n",
              "      <th>34</th>\n",
              "      <td>There is no theory of evolution, just a list o...</td>\n",
              "      <td>4.08</td>\n",
              "    </tr>\n",
              "    <tr>\n",
              "      <th>...</th>\n",
              "      <td>...</td>\n",
              "      <td>...</td>\n",
              "    </tr>\n",
              "    <tr>\n",
              "      <th>67</th>\n",
              "      <td>Chuck Norris sheds his skin twice a year.</td>\n",
              "      <td>2.55</td>\n",
              "    </tr>\n",
              "    <tr>\n",
              "      <th>40</th>\n",
              "      <td>Chuck Norris doesn�t wash his clothes, he dise...</td>\n",
              "      <td>2.37</td>\n",
              "    </tr>\n",
              "    <tr>\n",
              "      <th>30</th>\n",
              "      <td>Chuck Norris drives an ice cream truck covered...</td>\n",
              "      <td>2.13</td>\n",
              "    </tr>\n",
              "    <tr>\n",
              "      <th>25</th>\n",
              "      <td>Chuck Norris is ten feet tall, weighs two-tons...</td>\n",
              "      <td>1.83</td>\n",
              "    </tr>\n",
              "    <tr>\n",
              "      <th>42</th>\n",
              "      <td>Chuck Norris will attain statehood in 2009. Hi...</td>\n",
              "      <td>1.79</td>\n",
              "    </tr>\n",
              "  </tbody>\n",
              "</table>\n",
              "<p>100 rows × 2 columns</p>\n",
              "</div>"
            ],
            "text/plain": [
              "                                                 Joke  Rate\n",
              "20    Chuck Norris can kill two stones with one bird.   4.1\n",
              "75  Chuck actually died four years ago, but the Gr...  4.08\n",
              "74  When Chuck Norris was in middle school, his En...  4.08\n",
              "3   Chuck Norris' calendar goes straight from Marc...  4.08\n",
              "34  There is no theory of evolution, just a list o...  4.08\n",
              "..                                                ...   ...\n",
              "67          Chuck Norris sheds his skin twice a year.  2.55\n",
              "40  Chuck Norris doesn�t wash his clothes, he dise...  2.37\n",
              "30  Chuck Norris drives an ice cream truck covered...  2.13\n",
              "25  Chuck Norris is ten feet tall, weighs two-tons...  1.83\n",
              "42  Chuck Norris will attain statehood in 2009. Hi...  1.79\n",
              "\n",
              "[100 rows x 2 columns]"
            ]
          },
          "execution_count": 121,
          "metadata": {},
          "output_type": "execute_result"
        }
      ],
      "source": [
        "df_chuck = pd.Series(chuck_dict)\n",
        "df_chuck = pd.DataFrame(df_chuck).reset_index()\n",
        "df_chuck.rename({'index' : 'Joke', 0 : \"Rate\"}, axis =1, inplace=True)\n",
        "df_chuck.sort_values('Rate', ascending=False, inplace=True)\n",
        "df_chuck"
      ]
    },
    {
      "cell_type": "markdown",
      "metadata": {
        "id": "ljdTNrOkfH_0"
      },
      "source": [
        "<h3> Crée une visualisation de la distribution des notes."
      ]
    },
    {
      "cell_type": "code",
      "execution_count": null,
      "metadata": {
        "id": "g7zPYvNWAsmO"
      },
      "outputs": [],
      "source": [
        "# Convertion de la colonne Rate qui est en str, en float\n",
        "df_chuck = df_chuck.astype({'Rate': float})"
      ]
    },
    {
      "cell_type": "code",
      "execution_count": null,
      "metadata": {
        "colab": {
          "base_uri": "https://localhost:8080/"
        },
        "id": "s55wTvcbAEF8",
        "outputId": "6651b4ea-fa98-41c2-b6c1-c4598a10ccf7"
      },
      "outputs": [
        {
          "name": "stdout",
          "output_type": "stream",
          "text": [
            "['Inférieur à 1/5', 'Inférieur à 2/5', 'Inférieur à 3/5', 'Inférieur à 4/5', 'Inférieur à 5/5']\n",
            "[4, 16, 134, 46, 0]\n"
          ]
        }
      ],
      "source": [
        "# Regroupement des notes en 5 groupes <1,<2,<3,<4,<5\n",
        "\n",
        "score = []\n",
        "sum_rate = []\n",
        "\n",
        "for i in range (1,6):\n",
        "  index = \"Inférieur à \"+str(i)+ \"/5\"\n",
        "  score.append(index)\n",
        "  rate = df_chuck[(df_chuck['Rate'] >=i) & (df_chuck['Rate'] < i+1)].count().sum()\n",
        "  sum_rate.append(rate)\n",
        "\n",
        "print(score)\n",
        "print(sum_rate)"
      ]
    },
    {
      "cell_type": "code",
      "execution_count": null,
      "metadata": {
        "colab": {
          "base_uri": "https://localhost:8080/"
        },
        "id": "dkJ-TgJaX_qK",
        "outputId": "4f3b0909-366c-41d0-b5b9-e10d2f83ee7b"
      },
      "outputs": [
        {
          "data": {
            "text/plain": [
              "{'Inférieur à 1/5': 4,\n",
              " 'Inférieur à 2/5': 16,\n",
              " 'Inférieur à 3/5': 134,\n",
              " 'Inférieur à 4/5': 46,\n",
              " 'Inférieur à 5/5': 0}"
            ]
          },
          "execution_count": 176,
          "metadata": {},
          "output_type": "execute_result"
        }
      ],
      "source": [
        "#ajout dans un dictionnaire\n",
        "\n",
        "keys = score\n",
        "values = sum_rate\n",
        "\n",
        "score_dict = dict(zip(keys, values))\n",
        "score_dict\n"
      ]
    },
    {
      "cell_type": "code",
      "execution_count": null,
      "metadata": {
        "colab": {
          "base_uri": "https://localhost:8080/",
          "height": 206
        },
        "id": "_z20R81nAOsJ",
        "outputId": "bdbccf15-e5a6-4a9b-c0fd-1a34e8607f54"
      },
      "outputs": [
        {
          "data": {
            "text/html": [
              "<div>\n",
              "<style scoped>\n",
              "    .dataframe tbody tr th:only-of-type {\n",
              "        vertical-align: middle;\n",
              "    }\n",
              "\n",
              "    .dataframe tbody tr th {\n",
              "        vertical-align: top;\n",
              "    }\n",
              "\n",
              "    .dataframe thead th {\n",
              "        text-align: right;\n",
              "    }\n",
              "</style>\n",
              "<table border=\"1\" class=\"dataframe\">\n",
              "  <thead>\n",
              "    <tr style=\"text-align: right;\">\n",
              "      <th></th>\n",
              "      <th>Score</th>\n",
              "      <th>Number_of_rate</th>\n",
              "    </tr>\n",
              "  </thead>\n",
              "  <tbody>\n",
              "    <tr>\n",
              "      <th>0</th>\n",
              "      <td>Inférieur à 1/5</td>\n",
              "      <td>4</td>\n",
              "    </tr>\n",
              "    <tr>\n",
              "      <th>1</th>\n",
              "      <td>Inférieur à 2/5</td>\n",
              "      <td>16</td>\n",
              "    </tr>\n",
              "    <tr>\n",
              "      <th>2</th>\n",
              "      <td>Inférieur à 3/5</td>\n",
              "      <td>134</td>\n",
              "    </tr>\n",
              "    <tr>\n",
              "      <th>3</th>\n",
              "      <td>Inférieur à 4/5</td>\n",
              "      <td>46</td>\n",
              "    </tr>\n",
              "    <tr>\n",
              "      <th>4</th>\n",
              "      <td>Inférieur à 5/5</td>\n",
              "      <td>0</td>\n",
              "    </tr>\n",
              "  </tbody>\n",
              "</table>\n",
              "</div>"
            ],
            "text/plain": [
              "             Score  Number_of_rate\n",
              "0  Inférieur à 1/5               4\n",
              "1  Inférieur à 2/5              16\n",
              "2  Inférieur à 3/5             134\n",
              "3  Inférieur à 4/5              46\n",
              "4  Inférieur à 5/5               0"
            ]
          },
          "execution_count": 179,
          "metadata": {},
          "output_type": "execute_result"
        }
      ],
      "source": [
        "#create df\n",
        "df_rate = pd.Series(score_dict)\n",
        "df_rate = pd.DataFrame(df_rate).reset_index()\n",
        "df_rate.rename({'index' : 'Score', 0 : \"Number_of_rate\"}, axis =1, inplace=True)\n",
        "\n",
        "df_rate"
      ]
    },
    {
      "cell_type": "code",
      "execution_count": null,
      "metadata": {
        "colab": {
          "base_uri": "https://localhost:8080/",
          "height": 617
        },
        "id": "PeyLeV8XfHM2",
        "outputId": "83b25164-50d6-47ee-acf9-75c2dbc90ebf"
      },
      "outputs": [
        {
          "data": {
            "text/html": [
              "<html>\n",
              "<head><meta charset=\"utf-8\" /></head>\n",
              "<body>\n",
              "    <div>\n",
              "            <script src=\"https://cdnjs.cloudflare.com/ajax/libs/mathjax/2.7.5/MathJax.js?config=TeX-AMS-MML_SVG\"></script><script type=\"text/javascript\">if (window.MathJax) {MathJax.Hub.Config({SVG: {font: \"STIX-Web\"}});}</script>\n",
              "                <script type=\"text/javascript\">window.PlotlyConfig = {MathJaxConfig: 'local'};</script>\n",
              "        <script src=\"https://cdn.plot.ly/plotly-latest.min.js\"></script>    \n",
              "            <div id=\"37a491df-b851-4327-8172-7929205ea1f3\" class=\"plotly-graph-div\" style=\"height:600px; width:1000px;\"></div>\n",
              "            <script type=\"text/javascript\">\n",
              "                \n",
              "                    window.PLOTLYENV=window.PLOTLYENV || {};\n",
              "                    \n",
              "                if (document.getElementById(\"37a491df-b851-4327-8172-7929205ea1f3\")) {\n",
              "                    Plotly.newPlot(\n",
              "                        '37a491df-b851-4327-8172-7929205ea1f3',\n",
              "                        [{\"alignmentgroup\": \"True\", \"hoverlabel\": {\"namelength\": 0}, \"hovertemplate\": \"Score=%{x}<br>Number_of_rate=%{y}\", \"legendgroup\": \"Score=Inf\\u00e9rieur \\u00e0 1/5\", \"marker\": {\"color\": \"rgb(102, 197, 204)\"}, \"name\": \"Score=Inf\\u00e9rieur \\u00e0 1/5\", \"offsetgroup\": \"Score=Inf\\u00e9rieur \\u00e0 1/5\", \"orientation\": \"v\", \"showlegend\": true, \"textposition\": \"auto\", \"type\": \"bar\", \"x\": [\"Inf\\u00e9rieur \\u00e0 1/5\"], \"xaxis\": \"x\", \"y\": [4], \"yaxis\": \"y\"}, {\"alignmentgroup\": \"True\", \"hoverlabel\": {\"namelength\": 0}, \"hovertemplate\": \"Score=%{x}<br>Number_of_rate=%{y}\", \"legendgroup\": \"Score=Inf\\u00e9rieur \\u00e0 2/5\", \"marker\": {\"color\": \"rgb(246, 207, 113)\"}, \"name\": \"Score=Inf\\u00e9rieur \\u00e0 2/5\", \"offsetgroup\": \"Score=Inf\\u00e9rieur \\u00e0 2/5\", \"orientation\": \"v\", \"showlegend\": true, \"textposition\": \"auto\", \"type\": \"bar\", \"x\": [\"Inf\\u00e9rieur \\u00e0 2/5\"], \"xaxis\": \"x\", \"y\": [16], \"yaxis\": \"y\"}, {\"alignmentgroup\": \"True\", \"hoverlabel\": {\"namelength\": 0}, \"hovertemplate\": \"Score=%{x}<br>Number_of_rate=%{y}\", \"legendgroup\": \"Score=Inf\\u00e9rieur \\u00e0 3/5\", \"marker\": {\"color\": \"rgb(248, 156, 116)\"}, \"name\": \"Score=Inf\\u00e9rieur \\u00e0 3/5\", \"offsetgroup\": \"Score=Inf\\u00e9rieur \\u00e0 3/5\", \"orientation\": \"v\", \"showlegend\": true, \"textposition\": \"auto\", \"type\": \"bar\", \"x\": [\"Inf\\u00e9rieur \\u00e0 3/5\"], \"xaxis\": \"x\", \"y\": [134], \"yaxis\": \"y\"}, {\"alignmentgroup\": \"True\", \"hoverlabel\": {\"namelength\": 0}, \"hovertemplate\": \"Score=%{x}<br>Number_of_rate=%{y}\", \"legendgroup\": \"Score=Inf\\u00e9rieur \\u00e0 4/5\", \"marker\": {\"color\": \"rgb(220, 176, 242)\"}, \"name\": \"Score=Inf\\u00e9rieur \\u00e0 4/5\", \"offsetgroup\": \"Score=Inf\\u00e9rieur \\u00e0 4/5\", \"orientation\": \"v\", \"showlegend\": true, \"textposition\": \"auto\", \"type\": \"bar\", \"x\": [\"Inf\\u00e9rieur \\u00e0 4/5\"], \"xaxis\": \"x\", \"y\": [46], \"yaxis\": \"y\"}, {\"alignmentgroup\": \"True\", \"hoverlabel\": {\"namelength\": 0}, \"hovertemplate\": \"Score=%{x}<br>Number_of_rate=%{y}\", \"legendgroup\": \"Score=Inf\\u00e9rieur \\u00e0 5/5\", \"marker\": {\"color\": \"rgb(135, 197, 95)\"}, \"name\": \"Score=Inf\\u00e9rieur \\u00e0 5/5\", \"offsetgroup\": \"Score=Inf\\u00e9rieur \\u00e0 5/5\", \"orientation\": \"v\", \"showlegend\": true, \"textposition\": \"auto\", \"type\": \"bar\", \"x\": [\"Inf\\u00e9rieur \\u00e0 5/5\"], \"xaxis\": \"x\", \"y\": [0], \"yaxis\": \"y\"}],\n",
              "                        {\"barmode\": \"relative\", \"height\": 600, \"legend\": {\"tracegroupgap\": 0}, \"margin\": {\"t\": 60}, \"template\": {\"data\": {\"bar\": [{\"error_x\": {\"color\": \"#f2f5fa\"}, \"error_y\": {\"color\": \"#f2f5fa\"}, \"marker\": {\"line\": {\"color\": \"rgb(17,17,17)\", \"width\": 0.5}}, \"type\": \"bar\"}], \"barpolar\": [{\"marker\": {\"line\": {\"color\": \"rgb(17,17,17)\", \"width\": 0.5}}, \"type\": \"barpolar\"}], \"carpet\": [{\"aaxis\": {\"endlinecolor\": \"#A2B1C6\", \"gridcolor\": \"#506784\", \"linecolor\": \"#506784\", \"minorgridcolor\": \"#506784\", \"startlinecolor\": \"#A2B1C6\"}, \"baxis\": {\"endlinecolor\": \"#A2B1C6\", \"gridcolor\": \"#506784\", \"linecolor\": \"#506784\", \"minorgridcolor\": \"#506784\", \"startlinecolor\": \"#A2B1C6\"}, \"type\": \"carpet\"}], \"choropleth\": [{\"colorbar\": {\"outlinewidth\": 0, \"ticks\": \"\"}, \"type\": \"choropleth\"}], \"contour\": [{\"colorbar\": {\"outlinewidth\": 0, \"ticks\": \"\"}, \"colorscale\": [[0.0, \"#0d0887\"], [0.1111111111111111, \"#46039f\"], [0.2222222222222222, \"#7201a8\"], [0.3333333333333333, \"#9c179e\"], [0.4444444444444444, \"#bd3786\"], [0.5555555555555556, \"#d8576b\"], [0.6666666666666666, \"#ed7953\"], [0.7777777777777778, \"#fb9f3a\"], [0.8888888888888888, \"#fdca26\"], [1.0, \"#f0f921\"]], \"type\": \"contour\"}], \"contourcarpet\": [{\"colorbar\": {\"outlinewidth\": 0, \"ticks\": \"\"}, \"type\": \"contourcarpet\"}], \"heatmap\": [{\"colorbar\": {\"outlinewidth\": 0, \"ticks\": \"\"}, \"colorscale\": [[0.0, \"#0d0887\"], [0.1111111111111111, \"#46039f\"], [0.2222222222222222, \"#7201a8\"], [0.3333333333333333, \"#9c179e\"], [0.4444444444444444, \"#bd3786\"], [0.5555555555555556, \"#d8576b\"], [0.6666666666666666, \"#ed7953\"], [0.7777777777777778, \"#fb9f3a\"], [0.8888888888888888, \"#fdca26\"], [1.0, \"#f0f921\"]], \"type\": \"heatmap\"}], \"heatmapgl\": [{\"colorbar\": {\"outlinewidth\": 0, \"ticks\": \"\"}, \"colorscale\": [[0.0, \"#0d0887\"], [0.1111111111111111, \"#46039f\"], [0.2222222222222222, \"#7201a8\"], [0.3333333333333333, \"#9c179e\"], [0.4444444444444444, \"#bd3786\"], [0.5555555555555556, \"#d8576b\"], [0.6666666666666666, \"#ed7953\"], [0.7777777777777778, \"#fb9f3a\"], [0.8888888888888888, \"#fdca26\"], [1.0, \"#f0f921\"]], \"type\": \"heatmapgl\"}], \"histogram\": [{\"marker\": {\"colorbar\": {\"outlinewidth\": 0, \"ticks\": \"\"}}, \"type\": \"histogram\"}], \"histogram2d\": [{\"colorbar\": {\"outlinewidth\": 0, \"ticks\": \"\"}, \"colorscale\": [[0.0, \"#0d0887\"], [0.1111111111111111, \"#46039f\"], [0.2222222222222222, \"#7201a8\"], [0.3333333333333333, \"#9c179e\"], [0.4444444444444444, \"#bd3786\"], [0.5555555555555556, \"#d8576b\"], [0.6666666666666666, \"#ed7953\"], [0.7777777777777778, \"#fb9f3a\"], [0.8888888888888888, \"#fdca26\"], [1.0, \"#f0f921\"]], \"type\": \"histogram2d\"}], \"histogram2dcontour\": [{\"colorbar\": {\"outlinewidth\": 0, \"ticks\": \"\"}, \"colorscale\": [[0.0, \"#0d0887\"], [0.1111111111111111, \"#46039f\"], [0.2222222222222222, \"#7201a8\"], [0.3333333333333333, \"#9c179e\"], [0.4444444444444444, \"#bd3786\"], [0.5555555555555556, \"#d8576b\"], [0.6666666666666666, \"#ed7953\"], [0.7777777777777778, \"#fb9f3a\"], [0.8888888888888888, \"#fdca26\"], [1.0, \"#f0f921\"]], \"type\": \"histogram2dcontour\"}], \"mesh3d\": [{\"colorbar\": {\"outlinewidth\": 0, \"ticks\": \"\"}, \"type\": \"mesh3d\"}], \"parcoords\": [{\"line\": {\"colorbar\": {\"outlinewidth\": 0, \"ticks\": \"\"}}, \"type\": \"parcoords\"}], \"pie\": [{\"automargin\": true, \"type\": \"pie\"}], \"scatter\": [{\"marker\": {\"line\": {\"color\": \"#283442\"}}, \"type\": \"scatter\"}], \"scatter3d\": [{\"line\": {\"colorbar\": {\"outlinewidth\": 0, \"ticks\": \"\"}}, \"marker\": {\"colorbar\": {\"outlinewidth\": 0, \"ticks\": \"\"}}, \"type\": \"scatter3d\"}], \"scattercarpet\": [{\"marker\": {\"colorbar\": {\"outlinewidth\": 0, \"ticks\": \"\"}}, \"type\": \"scattercarpet\"}], \"scattergeo\": [{\"marker\": {\"colorbar\": {\"outlinewidth\": 0, \"ticks\": \"\"}}, \"type\": \"scattergeo\"}], \"scattergl\": [{\"marker\": {\"line\": {\"color\": \"#283442\"}}, \"type\": \"scattergl\"}], \"scattermapbox\": [{\"marker\": {\"colorbar\": {\"outlinewidth\": 0, \"ticks\": \"\"}}, \"type\": \"scattermapbox\"}], \"scatterpolar\": [{\"marker\": {\"colorbar\": {\"outlinewidth\": 0, \"ticks\": \"\"}}, \"type\": \"scatterpolar\"}], \"scatterpolargl\": [{\"marker\": {\"colorbar\": {\"outlinewidth\": 0, \"ticks\": \"\"}}, \"type\": \"scatterpolargl\"}], \"scatterternary\": [{\"marker\": {\"colorbar\": {\"outlinewidth\": 0, \"ticks\": \"\"}}, \"type\": \"scatterternary\"}], \"surface\": [{\"colorbar\": {\"outlinewidth\": 0, \"ticks\": \"\"}, \"colorscale\": [[0.0, \"#0d0887\"], [0.1111111111111111, \"#46039f\"], [0.2222222222222222, \"#7201a8\"], [0.3333333333333333, \"#9c179e\"], [0.4444444444444444, \"#bd3786\"], [0.5555555555555556, \"#d8576b\"], [0.6666666666666666, \"#ed7953\"], [0.7777777777777778, \"#fb9f3a\"], [0.8888888888888888, \"#fdca26\"], [1.0, \"#f0f921\"]], \"type\": \"surface\"}], \"table\": [{\"cells\": {\"fill\": {\"color\": \"#506784\"}, \"line\": {\"color\": \"rgb(17,17,17)\"}}, \"header\": {\"fill\": {\"color\": \"#2a3f5f\"}, \"line\": {\"color\": \"rgb(17,17,17)\"}}, \"type\": \"table\"}]}, \"layout\": {\"annotationdefaults\": {\"arrowcolor\": \"#f2f5fa\", \"arrowhead\": 0, \"arrowwidth\": 1}, \"coloraxis\": {\"colorbar\": {\"outlinewidth\": 0, \"ticks\": \"\"}}, \"colorscale\": {\"diverging\": [[0, \"#8e0152\"], [0.1, \"#c51b7d\"], [0.2, \"#de77ae\"], [0.3, \"#f1b6da\"], [0.4, \"#fde0ef\"], [0.5, \"#f7f7f7\"], [0.6, \"#e6f5d0\"], [0.7, \"#b8e186\"], [0.8, \"#7fbc41\"], [0.9, \"#4d9221\"], [1, \"#276419\"]], \"sequential\": [[0.0, \"#0d0887\"], [0.1111111111111111, \"#46039f\"], [0.2222222222222222, \"#7201a8\"], [0.3333333333333333, \"#9c179e\"], [0.4444444444444444, \"#bd3786\"], [0.5555555555555556, \"#d8576b\"], [0.6666666666666666, \"#ed7953\"], [0.7777777777777778, \"#fb9f3a\"], [0.8888888888888888, \"#fdca26\"], [1.0, \"#f0f921\"]], \"sequentialminus\": [[0.0, \"#0d0887\"], [0.1111111111111111, \"#46039f\"], [0.2222222222222222, \"#7201a8\"], [0.3333333333333333, \"#9c179e\"], [0.4444444444444444, \"#bd3786\"], [0.5555555555555556, \"#d8576b\"], [0.6666666666666666, \"#ed7953\"], [0.7777777777777778, \"#fb9f3a\"], [0.8888888888888888, \"#fdca26\"], [1.0, \"#f0f921\"]]}, \"colorway\": [\"#636efa\", \"#EF553B\", \"#00cc96\", \"#ab63fa\", \"#FFA15A\", \"#19d3f3\", \"#FF6692\", \"#B6E880\", \"#FF97FF\", \"#FECB52\"], \"font\": {\"color\": \"#f2f5fa\"}, \"geo\": {\"bgcolor\": \"rgb(17,17,17)\", \"lakecolor\": \"rgb(17,17,17)\", \"landcolor\": \"rgb(17,17,17)\", \"showlakes\": true, \"showland\": true, \"subunitcolor\": \"#506784\"}, \"hoverlabel\": {\"align\": \"left\"}, \"hovermode\": \"closest\", \"mapbox\": {\"style\": \"dark\"}, \"paper_bgcolor\": \"rgb(17,17,17)\", \"plot_bgcolor\": \"rgb(17,17,17)\", \"polar\": {\"angularaxis\": {\"gridcolor\": \"#506784\", \"linecolor\": \"#506784\", \"ticks\": \"\"}, \"bgcolor\": \"rgb(17,17,17)\", \"radialaxis\": {\"gridcolor\": \"#506784\", \"linecolor\": \"#506784\", \"ticks\": \"\"}}, \"scene\": {\"xaxis\": {\"backgroundcolor\": \"rgb(17,17,17)\", \"gridcolor\": \"#506784\", \"gridwidth\": 2, \"linecolor\": \"#506784\", \"showbackground\": true, \"ticks\": \"\", \"zerolinecolor\": \"#C8D4E3\"}, \"yaxis\": {\"backgroundcolor\": \"rgb(17,17,17)\", \"gridcolor\": \"#506784\", \"gridwidth\": 2, \"linecolor\": \"#506784\", \"showbackground\": true, \"ticks\": \"\", \"zerolinecolor\": \"#C8D4E3\"}, \"zaxis\": {\"backgroundcolor\": \"rgb(17,17,17)\", \"gridcolor\": \"#506784\", \"gridwidth\": 2, \"linecolor\": \"#506784\", \"showbackground\": true, \"ticks\": \"\", \"zerolinecolor\": \"#C8D4E3\"}}, \"shapedefaults\": {\"line\": {\"color\": \"#f2f5fa\"}}, \"sliderdefaults\": {\"bgcolor\": \"#C8D4E3\", \"bordercolor\": \"rgb(17,17,17)\", \"borderwidth\": 1, \"tickwidth\": 0}, \"ternary\": {\"aaxis\": {\"gridcolor\": \"#506784\", \"linecolor\": \"#506784\", \"ticks\": \"\"}, \"baxis\": {\"gridcolor\": \"#506784\", \"linecolor\": \"#506784\", \"ticks\": \"\"}, \"bgcolor\": \"rgb(17,17,17)\", \"caxis\": {\"gridcolor\": \"#506784\", \"linecolor\": \"#506784\", \"ticks\": \"\"}}, \"title\": {\"x\": 0.05}, \"updatemenudefaults\": {\"bgcolor\": \"#506784\", \"borderwidth\": 0}, \"xaxis\": {\"automargin\": true, \"gridcolor\": \"#283442\", \"linecolor\": \"#506784\", \"ticks\": \"\", \"title\": {\"standoff\": 15}, \"zerolinecolor\": \"#283442\", \"zerolinewidth\": 2}, \"yaxis\": {\"automargin\": true, \"gridcolor\": \"#283442\", \"linecolor\": \"#506784\", \"ticks\": \"\", \"title\": {\"standoff\": 15}, \"zerolinecolor\": \"#283442\", \"zerolinewidth\": 2}}}, \"title\": {\"text\": \"Count Score by joke of Chuck Norris\"}, \"width\": 1000, \"xaxis\": {\"anchor\": \"y\", \"categoryarray\": [\"Inf\\u00e9rieur \\u00e0 1/5\", \"Inf\\u00e9rieur \\u00e0 2/5\", \"Inf\\u00e9rieur \\u00e0 3/5\", \"Inf\\u00e9rieur \\u00e0 4/5\", \"Inf\\u00e9rieur \\u00e0 5/5\"], \"categoryorder\": \"array\", \"domain\": [0.0, 1.0], \"title\": {\"text\": \"Score\"}}, \"yaxis\": {\"anchor\": \"x\", \"domain\": [0.0, 1.0], \"title\": {\"text\": \"Number_of_rate\"}}},\n",
              "                        {\"responsive\": true}\n",
              "                    ).then(function(){\n",
              "                            \n",
              "var gd = document.getElementById('37a491df-b851-4327-8172-7929205ea1f3');\n",
              "var x = new MutationObserver(function (mutations, observer) {{\n",
              "        var display = window.getComputedStyle(gd).display;\n",
              "        if (!display || display === 'none') {{\n",
              "            console.log([gd, 'removed!']);\n",
              "            Plotly.purge(gd);\n",
              "            observer.disconnect();\n",
              "        }}\n",
              "}});\n",
              "\n",
              "// Listen for the removal of the full notebook cells\n",
              "var notebookContainer = gd.closest('#notebook-container');\n",
              "if (notebookContainer) {{\n",
              "    x.observe(notebookContainer, {childList: true});\n",
              "}}\n",
              "\n",
              "// Listen for the clearing of the current output cell\n",
              "var outputEl = gd.closest('.output');\n",
              "if (outputEl) {{\n",
              "    x.observe(outputEl, {childList: true});\n",
              "}}\n",
              "\n",
              "                        })\n",
              "                };\n",
              "                \n",
              "            </script>\n",
              "        </div>\n",
              "</body>\n",
              "</html>"
            ]
          },
          "metadata": {},
          "output_type": "display_data"
        }
      ],
      "source": [
        "#create graph\n",
        "\n",
        "fig = px.bar(data_frame = df_rate,  x=\"Score\", y= \"Number_of_rate\",\n",
        "             color=\"Score\", color_discrete_sequence=px.colors.qualitative.Pastel )\n",
        "           \n",
        "\n",
        "fig.update_layout(width=1000, height=600, title='Count Score by joke of Chuck Norris', template='plotly_dark')\n",
        "\n",
        "fig.show()\n",
        "\n"
      ]
    }
  ],
  "metadata": {
    "colab": {
      "collapsed_sections": [],
      "name": "#2 Web Scraping : scraper plusieurs pages.ipynb",
      "provenance": []
    },
    "kernelspec": {
      "display_name": "base",
      "language": "python",
      "name": "python3"
    },
    "language_info": {
      "codemirror_mode": {
        "name": "ipython",
        "version": 3
      },
      "file_extension": ".py",
      "mimetype": "text/x-python",
      "name": "python",
      "nbconvert_exporter": "python",
      "pygments_lexer": "ipython3",
      "version": "3.8.13"
    },
    "vscode": {
      "interpreter": {
        "hash": "d3755b735588d4303beb95518f2ab4e1c49ea1461d509c805a65d62cd2a8f700"
      }
    }
  },
  "nbformat": 4,
  "nbformat_minor": 0
}
