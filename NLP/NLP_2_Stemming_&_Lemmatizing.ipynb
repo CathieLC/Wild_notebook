{
  "cells": [
    {
      "cell_type": "markdown",
      "metadata": {
        "id": "epmLADLdSjlj"
      },
      "source": [
        "# Partie 1 :  Intro to text mining & Natural Language Processing"
      ]
    },
    {
      "cell_type": "markdown",
      "metadata": {
        "id": "IsI86qaDVdyE"
      },
      "source": [
        "### 1 - Importe NLTK et télécharge les fonctions dont tu auras besoin (au fur et à mesure si nécessaire)."
      ]
    },
    {
      "cell_type": "code",
      "execution_count": null,
      "metadata": {
        "id": "_Z_48Asoe_qJ"
      },
      "outputs": [],
      "source": [
        "import pandas as pd\n",
        "import seaborn as sns\n",
        "import matplotlib.pyplot as plt\n",
        "import plotly.express as px \n",
        "import nltk"
      ]
    },
    {
      "cell_type": "code",
      "execution_count": null,
      "metadata": {
        "colab": {
          "base_uri": "https://localhost:8080/"
        },
        "id": "ZsqdyJzo3Qgs",
        "outputId": "1d359b39-2a84-44b4-8f61-9ac1b9e9ab49"
      },
      "outputs": [
        {
          "name": "stdout",
          "output_type": "stream",
          "text": [
            "[nltk_data] Downloading collection 'popular'\n",
            "[nltk_data]    | \n",
            "[nltk_data]    | Downloading package cmudict to /root/nltk_data...\n",
            "[nltk_data]    |   Unzipping corpora/cmudict.zip.\n",
            "[nltk_data]    | Downloading package gazetteers to /root/nltk_data...\n",
            "[nltk_data]    |   Unzipping corpora/gazetteers.zip.\n",
            "[nltk_data]    | Downloading package genesis to /root/nltk_data...\n",
            "[nltk_data]    |   Unzipping corpora/genesis.zip.\n",
            "[nltk_data]    | Downloading package gutenberg to /root/nltk_data...\n",
            "[nltk_data]    |   Unzipping corpora/gutenberg.zip.\n",
            "[nltk_data]    | Downloading package inaugural to /root/nltk_data...\n",
            "[nltk_data]    |   Unzipping corpora/inaugural.zip.\n",
            "[nltk_data]    | Downloading package movie_reviews to\n",
            "[nltk_data]    |     /root/nltk_data...\n",
            "[nltk_data]    |   Unzipping corpora/movie_reviews.zip.\n",
            "[nltk_data]    | Downloading package names to /root/nltk_data...\n",
            "[nltk_data]    |   Unzipping corpora/names.zip.\n",
            "[nltk_data]    | Downloading package shakespeare to /root/nltk_data...\n",
            "[nltk_data]    |   Unzipping corpora/shakespeare.zip.\n",
            "[nltk_data]    | Downloading package stopwords to /root/nltk_data...\n",
            "[nltk_data]    |   Unzipping corpora/stopwords.zip.\n",
            "[nltk_data]    | Downloading package treebank to /root/nltk_data...\n",
            "[nltk_data]    |   Unzipping corpora/treebank.zip.\n",
            "[nltk_data]    | Downloading package twitter_samples to\n",
            "[nltk_data]    |     /root/nltk_data...\n",
            "[nltk_data]    |   Unzipping corpora/twitter_samples.zip.\n",
            "[nltk_data]    | Downloading package omw to /root/nltk_data...\n",
            "[nltk_data]    |   Unzipping corpora/omw.zip.\n",
            "[nltk_data]    | Downloading package wordnet to /root/nltk_data...\n",
            "[nltk_data]    |   Unzipping corpora/wordnet.zip.\n",
            "[nltk_data]    | Downloading package wordnet31 to /root/nltk_data...\n",
            "[nltk_data]    |   Unzipping corpora/wordnet31.zip.\n",
            "[nltk_data]    | Downloading package wordnet_ic to /root/nltk_data...\n",
            "[nltk_data]    |   Unzipping corpora/wordnet_ic.zip.\n",
            "[nltk_data]    | Downloading package words to /root/nltk_data...\n",
            "[nltk_data]    |   Unzipping corpora/words.zip.\n",
            "[nltk_data]    | Downloading package maxent_ne_chunker to\n",
            "[nltk_data]    |     /root/nltk_data...\n",
            "[nltk_data]    |   Unzipping chunkers/maxent_ne_chunker.zip.\n",
            "[nltk_data]    | Downloading package punkt to /root/nltk_data...\n",
            "[nltk_data]    |   Unzipping tokenizers/punkt.zip.\n",
            "[nltk_data]    | Downloading package snowball_data to\n",
            "[nltk_data]    |     /root/nltk_data...\n",
            "[nltk_data]    | Downloading package averaged_perceptron_tagger to\n",
            "[nltk_data]    |     /root/nltk_data...\n",
            "[nltk_data]    |   Unzipping taggers/averaged_perceptron_tagger.zip.\n",
            "[nltk_data]    | \n",
            "[nltk_data]  Done downloading collection popular\n"
          ]
        },
        {
          "data": {
            "text/plain": [
              "True"
            ]
          },
          "execution_count": 3,
          "metadata": {},
          "output_type": "execute_result"
        }
      ],
      "source": [
        "nltk.download('popular')"
      ]
    },
    {
      "cell_type": "markdown",
      "metadata": {
        "id": "sR7OWKx2VUi0"
      },
      "source": [
        "### 2- Récupère le texte d'un article de presse de ton choix sur internet , affecte-le à une variable via un copier/coller dans ton notebook."
      ]
    },
    {
      "cell_type": "code",
      "execution_count": null,
      "metadata": {
        "id": "C7Gg8JIHV0Ps"
      },
      "outputs": [],
      "source": [
        "#Source = https://www.vogue.com/article/virgil-abloh-biography-career-timeline\n",
        "\n",
        "vogue_extract = '''Abloh was born on September 30 outside of Chicago. He and his sister are raised in nearby Rockford, by Ghanaian immigrant parents. Abloh attends the Boylan Catholic High School—official colors green and white—and graduates in 1998. His mother is a seamstress and teaches him the tricks of her trade.\n",
        "Abloh completes his undergraduate degree in civil engineering at the University of Wisconsin–Madison. (In 2015, he would return to design commemorative tees for the university.) Rumor has it that on the day of his graduation, he skips his final critique to take a meeting with Kanye West’s then-manager John Monopoly. West and Abloh begin officially working together soon after.\n",
        "Abloh completes his master’s degree in architecture from the Illinois Institute of Technology. During his time at IIT, a Rem Koolhaas building is completed, which Abloh says, “piqued my interest and opened my gateway into fashion.'''\n"
      ]
    },
    {
      "cell_type": "markdown",
      "metadata": {
        "id": "3l5MdpWKV1uM"
      },
      "source": [
        "### 3 - Transforme ton texte en tokens de phrases"
      ]
    },
    {
      "cell_type": "code",
      "execution_count": null,
      "metadata": {
        "colab": {
          "base_uri": "https://localhost:8080/"
        },
        "id": "vzIMoEyBV86S",
        "outputId": "120d6c25-fcb4-4f4b-ae73-a2939f4b78c6"
      },
      "outputs": [
        {
          "data": {
            "text/plain": [
              "['Abloh was born on September 30 outside of Chicago.',\n",
              " 'He and his sister are raised in nearby Rockford, by Ghanaian immigrant parents.',\n",
              " 'Abloh attends the Boylan Catholic High School—official colors green and white—and graduates in 1998.',\n",
              " 'His mother is a seamstress and teaches him the tricks of her trade.',\n",
              " 'Abloh completes his undergraduate degree in civil engineering at the University of Wisconsin–Madison.',\n",
              " '(In 2015, he would return to design commemorative tees for the university.)',\n",
              " 'Rumor has it that on the day of his graduation, he skips his final critique to take a meeting with Kanye West’s then-manager John Monopoly.',\n",
              " 'West and Abloh begin officially working together soon after.',\n",
              " 'Abloh completes his master’s degree in architecture from the Illinois Institute of Technology.',\n",
              " 'During his time at IIT, a Rem Koolhaas building is completed, which Abloh says, “piqued my interest and opened my gateway into fashion.']"
            ]
          },
          "execution_count": 5,
          "metadata": {},
          "output_type": "execute_result"
        }
      ],
      "source": [
        "nltk.sent_tokenize(vogue_extract)"
      ]
    },
    {
      "cell_type": "markdown",
      "metadata": {
        "id": "5aeQy24UV9EU"
      },
      "source": [
        "### 4 - Transforme ton texte en tokens de mots\n"
      ]
    },
    {
      "cell_type": "code",
      "execution_count": null,
      "metadata": {
        "colab": {
          "base_uri": "https://localhost:8080/"
        },
        "id": "cIkac8AcWCMg",
        "outputId": "66cda02d-bcef-42d9-a5ee-760021a7f365"
      },
      "outputs": [
        {
          "data": {
            "text/plain": [
              "['Abloh',\n",
              " 'was',\n",
              " 'born',\n",
              " 'on',\n",
              " 'September',\n",
              " '30',\n",
              " 'outside',\n",
              " 'of',\n",
              " 'Chicago',\n",
              " '.',\n",
              " 'He',\n",
              " 'and',\n",
              " 'his',\n",
              " 'sister',\n",
              " 'are',\n",
              " 'raised',\n",
              " 'in',\n",
              " 'nearby',\n",
              " 'Rockford',\n",
              " ',',\n",
              " 'by',\n",
              " 'Ghanaian',\n",
              " 'immigrant',\n",
              " 'parents',\n",
              " '.',\n",
              " 'Abloh',\n",
              " 'attends',\n",
              " 'the',\n",
              " 'Boylan',\n",
              " 'Catholic',\n",
              " 'High',\n",
              " 'School—official',\n",
              " 'colors',\n",
              " 'green',\n",
              " 'and',\n",
              " 'white—and',\n",
              " 'graduates',\n",
              " 'in',\n",
              " '1998',\n",
              " '.',\n",
              " 'His',\n",
              " 'mother',\n",
              " 'is',\n",
              " 'a',\n",
              " 'seamstress',\n",
              " 'and',\n",
              " 'teaches',\n",
              " 'him',\n",
              " 'the',\n",
              " 'tricks',\n",
              " 'of',\n",
              " 'her',\n",
              " 'trade',\n",
              " '.',\n",
              " 'Abloh',\n",
              " 'completes',\n",
              " 'his',\n",
              " 'undergraduate',\n",
              " 'degree',\n",
              " 'in',\n",
              " 'civil',\n",
              " 'engineering',\n",
              " 'at',\n",
              " 'the',\n",
              " 'University',\n",
              " 'of',\n",
              " 'Wisconsin–Madison',\n",
              " '.',\n",
              " '(',\n",
              " 'In',\n",
              " '2015',\n",
              " ',',\n",
              " 'he',\n",
              " 'would',\n",
              " 'return',\n",
              " 'to',\n",
              " 'design',\n",
              " 'commemorative',\n",
              " 'tees',\n",
              " 'for',\n",
              " 'the',\n",
              " 'university',\n",
              " '.',\n",
              " ')',\n",
              " 'Rumor',\n",
              " 'has',\n",
              " 'it',\n",
              " 'that',\n",
              " 'on',\n",
              " 'the',\n",
              " 'day',\n",
              " 'of',\n",
              " 'his',\n",
              " 'graduation',\n",
              " ',',\n",
              " 'he',\n",
              " 'skips',\n",
              " 'his',\n",
              " 'final',\n",
              " 'critique',\n",
              " 'to',\n",
              " 'take',\n",
              " 'a',\n",
              " 'meeting',\n",
              " 'with',\n",
              " 'Kanye',\n",
              " 'West',\n",
              " '’',\n",
              " 's',\n",
              " 'then-manager',\n",
              " 'John',\n",
              " 'Monopoly',\n",
              " '.',\n",
              " 'West',\n",
              " 'and',\n",
              " 'Abloh',\n",
              " 'begin',\n",
              " 'officially',\n",
              " 'working',\n",
              " 'together',\n",
              " 'soon',\n",
              " 'after',\n",
              " '.',\n",
              " 'Abloh',\n",
              " 'completes',\n",
              " 'his',\n",
              " 'master',\n",
              " '’',\n",
              " 's',\n",
              " 'degree',\n",
              " 'in',\n",
              " 'architecture',\n",
              " 'from',\n",
              " 'the',\n",
              " 'Illinois',\n",
              " 'Institute',\n",
              " 'of',\n",
              " 'Technology',\n",
              " '.',\n",
              " 'During',\n",
              " 'his',\n",
              " 'time',\n",
              " 'at',\n",
              " 'IIT',\n",
              " ',',\n",
              " 'a',\n",
              " 'Rem',\n",
              " 'Koolhaas',\n",
              " 'building',\n",
              " 'is',\n",
              " 'completed',\n",
              " ',',\n",
              " 'which',\n",
              " 'Abloh',\n",
              " 'says',\n",
              " ',',\n",
              " '“',\n",
              " 'piqued',\n",
              " 'my',\n",
              " 'interest',\n",
              " 'and',\n",
              " 'opened',\n",
              " 'my',\n",
              " 'gateway',\n",
              " 'into',\n",
              " 'fashion',\n",
              " '.']"
            ]
          },
          "execution_count": 6,
          "metadata": {},
          "output_type": "execute_result"
        }
      ],
      "source": [
        "liste_words = nltk.word_tokenize(vogue_extract)\n",
        "liste_words\n"
      ]
    },
    {
      "cell_type": "markdown",
      "metadata": {
        "id": "4ljCX-EgWCed"
      },
      "source": [
        "### 5 - Compte la fréquence d'apparition de chaque mot et réalise un graphique (si possible un diagramme en barre) qui représente les 20 mots les plus présents dans ton texte. Y a-t-il beaucoup de mots qui te semblent être des stopwords ?\n"
      ]
    },
    {
      "cell_type": "code",
      "execution_count": null,
      "metadata": {
        "colab": {
          "base_uri": "https://localhost:8080/"
        },
        "id": "euZUyq1WWEZM",
        "outputId": "92193bd9-0dd3-4422-94c6-3b02ac9a7701"
      },
      "outputs": [
        {
          "data": {
            "text/plain": [
              "FreqDist({'(': 1,\n",
              "          ')': 1,\n",
              "          ',': 6,\n",
              "          '.': 10,\n",
              "          '1998': 1,\n",
              "          '2015': 1,\n",
              "          '30': 1,\n",
              "          'Abloh': 6,\n",
              "          'Boylan': 1,\n",
              "          'Catholic': 1,\n",
              "          'Chicago': 1,\n",
              "          'During': 1,\n",
              "          'Ghanaian': 1,\n",
              "          'He': 1,\n",
              "          'High': 1,\n",
              "          'His': 1,\n",
              "          'IIT': 1,\n",
              "          'Illinois': 1,\n",
              "          'In': 1,\n",
              "          'Institute': 1,\n",
              "          'John': 1,\n",
              "          'Kanye': 1,\n",
              "          'Koolhaas': 1,\n",
              "          'Monopoly': 1,\n",
              "          'Rem': 1,\n",
              "          'Rockford': 1,\n",
              "          'Rumor': 1,\n",
              "          'School—official': 1,\n",
              "          'September': 1,\n",
              "          'Technology': 1,\n",
              "          'University': 1,\n",
              "          'West': 2,\n",
              "          'Wisconsin–Madison': 1,\n",
              "          'a': 3,\n",
              "          'after': 1,\n",
              "          'and': 5,\n",
              "          'architecture': 1,\n",
              "          'are': 1,\n",
              "          'at': 2,\n",
              "          'attends': 1,\n",
              "          'begin': 1,\n",
              "          'born': 1,\n",
              "          'building': 1,\n",
              "          'by': 1,\n",
              "          'civil': 1,\n",
              "          'colors': 1,\n",
              "          'commemorative': 1,\n",
              "          'completed': 1,\n",
              "          'completes': 2,\n",
              "          'critique': 1,\n",
              "          'day': 1,\n",
              "          'degree': 2,\n",
              "          'design': 1,\n",
              "          'engineering': 1,\n",
              "          'fashion': 1,\n",
              "          'final': 1,\n",
              "          'for': 1,\n",
              "          'from': 1,\n",
              "          'gateway': 1,\n",
              "          'graduates': 1,\n",
              "          'graduation': 1,\n",
              "          'green': 1,\n",
              "          'has': 1,\n",
              "          'he': 2,\n",
              "          'her': 1,\n",
              "          'him': 1,\n",
              "          'his': 6,\n",
              "          'immigrant': 1,\n",
              "          'in': 4,\n",
              "          'interest': 1,\n",
              "          'into': 1,\n",
              "          'is': 2,\n",
              "          'it': 1,\n",
              "          'master': 1,\n",
              "          'meeting': 1,\n",
              "          'mother': 1,\n",
              "          'my': 2,\n",
              "          'nearby': 1,\n",
              "          'of': 5,\n",
              "          'officially': 1,\n",
              "          'on': 2,\n",
              "          'opened': 1,\n",
              "          'outside': 1,\n",
              "          'parents': 1,\n",
              "          'piqued': 1,\n",
              "          'raised': 1,\n",
              "          'return': 1,\n",
              "          's': 2,\n",
              "          'says': 1,\n",
              "          'seamstress': 1,\n",
              "          'sister': 1,\n",
              "          'skips': 1,\n",
              "          'soon': 1,\n",
              "          'take': 1,\n",
              "          'teaches': 1,\n",
              "          'tees': 1,\n",
              "          'that': 1,\n",
              "          'the': 6,\n",
              "          'then-manager': 1,\n",
              "          'time': 1,\n",
              "          'to': 2,\n",
              "          'together': 1,\n",
              "          'trade': 1,\n",
              "          'tricks': 1,\n",
              "          'undergraduate': 1,\n",
              "          'university': 1,\n",
              "          'was': 1,\n",
              "          'which': 1,\n",
              "          'white—and': 1,\n",
              "          'with': 1,\n",
              "          'working': 1,\n",
              "          'would': 1,\n",
              "          '’': 2,\n",
              "          '“': 1})"
            ]
          },
          "execution_count": 7,
          "metadata": {},
          "output_type": "execute_result"
        }
      ],
      "source": [
        "dict_frequency = nltk.FreqDist(liste_words)\n",
        "dict_frequency"
      ]
    },
    {
      "cell_type": "code",
      "execution_count": null,
      "metadata": {
        "colab": {
          "base_uri": "https://localhost:8080/"
        },
        "id": "p7yqngAme08g",
        "outputId": "79de4dbb-3e32-4730-cbbe-57f26c42631c"
      },
      "outputs": [
        {
          "data": {
            "text/html": [
              "<div>\n",
              "<style scoped>\n",
              "    .dataframe tbody tr th:only-of-type {\n",
              "        vertical-align: middle;\n",
              "    }\n",
              "\n",
              "    .dataframe tbody tr th {\n",
              "        vertical-align: top;\n",
              "    }\n",
              "\n",
              "    .dataframe thead th {\n",
              "        text-align: right;\n",
              "    }\n",
              "</style>\n",
              "<table border=\"1\" class=\"dataframe\">\n",
              "  <thead>\n",
              "    <tr style=\"text-align: right;\">\n",
              "      <th></th>\n",
              "      <th>index</th>\n",
              "      <th>0</th>\n",
              "    </tr>\n",
              "  </thead>\n",
              "  <tbody>\n",
              "    <tr>\n",
              "      <th>0</th>\n",
              "      <td>Abloh</td>\n",
              "      <td>6</td>\n",
              "    </tr>\n",
              "    <tr>\n",
              "      <th>1</th>\n",
              "      <td>was</td>\n",
              "      <td>1</td>\n",
              "    </tr>\n",
              "    <tr>\n",
              "      <th>2</th>\n",
              "      <td>born</td>\n",
              "      <td>1</td>\n",
              "    </tr>\n",
              "    <tr>\n",
              "      <th>3</th>\n",
              "      <td>on</td>\n",
              "      <td>2</td>\n",
              "    </tr>\n",
              "    <tr>\n",
              "      <th>4</th>\n",
              "      <td>September</td>\n",
              "      <td>1</td>\n",
              "    </tr>\n",
              "    <tr>\n",
              "      <th>...</th>\n",
              "      <td>...</td>\n",
              "      <td>...</td>\n",
              "    </tr>\n",
              "    <tr>\n",
              "      <th>109</th>\n",
              "      <td>interest</td>\n",
              "      <td>1</td>\n",
              "    </tr>\n",
              "    <tr>\n",
              "      <th>110</th>\n",
              "      <td>opened</td>\n",
              "      <td>1</td>\n",
              "    </tr>\n",
              "    <tr>\n",
              "      <th>111</th>\n",
              "      <td>gateway</td>\n",
              "      <td>1</td>\n",
              "    </tr>\n",
              "    <tr>\n",
              "      <th>112</th>\n",
              "      <td>into</td>\n",
              "      <td>1</td>\n",
              "    </tr>\n",
              "    <tr>\n",
              "      <th>113</th>\n",
              "      <td>fashion</td>\n",
              "      <td>1</td>\n",
              "    </tr>\n",
              "  </tbody>\n",
              "</table>\n",
              "<p>114 rows × 2 columns</p>\n",
              "</div>"
            ],
            "text/plain": [
              "         index  0\n",
              "0        Abloh  6\n",
              "1          was  1\n",
              "2         born  1\n",
              "3           on  2\n",
              "4    September  1\n",
              "..         ... ..\n",
              "109   interest  1\n",
              "110     opened  1\n",
              "111    gateway  1\n",
              "112       into  1\n",
              "113    fashion  1\n",
              "\n",
              "[114 rows x 2 columns]"
            ]
          },
          "execution_count": 8,
          "metadata": {},
          "output_type": "execute_result"
        }
      ],
      "source": [
        "#transform count_words in df\n",
        "\n",
        "df_count = pd.DataFrame.from_dict(dict_frequency, orient='index').reset_index()\n",
        "df_count"
      ]
    },
    {
      "cell_type": "code",
      "execution_count": null,
      "metadata": {
        "id": "1hTR9lvnaPDm"
      },
      "outputs": [],
      "source": [
        "# rename columns\n",
        "df_count.rename({'index' : 'word', 0 : 'count'}, axis='columns', inplace=True)\n"
      ]
    },
    {
      "cell_type": "code",
      "execution_count": null,
      "metadata": {
        "colab": {
          "base_uri": "https://localhost:8080/"
        },
        "id": "oF1zTnvXa6gd",
        "outputId": "e02a30c6-0002-49df-e0f5-3f7439c7d200"
      },
      "outputs": [
        {
          "data": {
            "text/html": [
              "<div>\n",
              "<style scoped>\n",
              "    .dataframe tbody tr th:only-of-type {\n",
              "        vertical-align: middle;\n",
              "    }\n",
              "\n",
              "    .dataframe tbody tr th {\n",
              "        vertical-align: top;\n",
              "    }\n",
              "\n",
              "    .dataframe thead th {\n",
              "        text-align: right;\n",
              "    }\n",
              "</style>\n",
              "<table border=\"1\" class=\"dataframe\">\n",
              "  <thead>\n",
              "    <tr style=\"text-align: right;\">\n",
              "      <th></th>\n",
              "      <th>word</th>\n",
              "      <th>count</th>\n",
              "    </tr>\n",
              "  </thead>\n",
              "  <tbody>\n",
              "    <tr>\n",
              "      <th>0</th>\n",
              "      <td>Abloh</td>\n",
              "      <td>6</td>\n",
              "    </tr>\n",
              "    <tr>\n",
              "      <th>1</th>\n",
              "      <td>was</td>\n",
              "      <td>1</td>\n",
              "    </tr>\n",
              "    <tr>\n",
              "      <th>2</th>\n",
              "      <td>born</td>\n",
              "      <td>1</td>\n",
              "    </tr>\n",
              "    <tr>\n",
              "      <th>3</th>\n",
              "      <td>on</td>\n",
              "      <td>2</td>\n",
              "    </tr>\n",
              "    <tr>\n",
              "      <th>4</th>\n",
              "      <td>September</td>\n",
              "      <td>1</td>\n",
              "    </tr>\n",
              "    <tr>\n",
              "      <th>5</th>\n",
              "      <td>30</td>\n",
              "      <td>1</td>\n",
              "    </tr>\n",
              "    <tr>\n",
              "      <th>6</th>\n",
              "      <td>outside</td>\n",
              "      <td>1</td>\n",
              "    </tr>\n",
              "    <tr>\n",
              "      <th>7</th>\n",
              "      <td>of</td>\n",
              "      <td>5</td>\n",
              "    </tr>\n",
              "    <tr>\n",
              "      <th>8</th>\n",
              "      <td>Chicago</td>\n",
              "      <td>1</td>\n",
              "    </tr>\n",
              "    <tr>\n",
              "      <th>9</th>\n",
              "      <td>.</td>\n",
              "      <td>10</td>\n",
              "    </tr>\n",
              "    <tr>\n",
              "      <th>10</th>\n",
              "      <td>He</td>\n",
              "      <td>1</td>\n",
              "    </tr>\n",
              "    <tr>\n",
              "      <th>11</th>\n",
              "      <td>and</td>\n",
              "      <td>5</td>\n",
              "    </tr>\n",
              "    <tr>\n",
              "      <th>12</th>\n",
              "      <td>his</td>\n",
              "      <td>6</td>\n",
              "    </tr>\n",
              "    <tr>\n",
              "      <th>13</th>\n",
              "      <td>sister</td>\n",
              "      <td>1</td>\n",
              "    </tr>\n",
              "    <tr>\n",
              "      <th>14</th>\n",
              "      <td>are</td>\n",
              "      <td>1</td>\n",
              "    </tr>\n",
              "    <tr>\n",
              "      <th>15</th>\n",
              "      <td>raised</td>\n",
              "      <td>1</td>\n",
              "    </tr>\n",
              "    <tr>\n",
              "      <th>16</th>\n",
              "      <td>in</td>\n",
              "      <td>4</td>\n",
              "    </tr>\n",
              "    <tr>\n",
              "      <th>17</th>\n",
              "      <td>nearby</td>\n",
              "      <td>1</td>\n",
              "    </tr>\n",
              "    <tr>\n",
              "      <th>18</th>\n",
              "      <td>Rockford</td>\n",
              "      <td>1</td>\n",
              "    </tr>\n",
              "    <tr>\n",
              "      <th>19</th>\n",
              "      <td>,</td>\n",
              "      <td>6</td>\n",
              "    </tr>\n",
              "  </tbody>\n",
              "</table>\n",
              "</div>"
            ],
            "text/plain": [
              "         word  count\n",
              "0       Abloh      6\n",
              "1         was      1\n",
              "2        born      1\n",
              "3          on      2\n",
              "4   September      1\n",
              "5          30      1\n",
              "6     outside      1\n",
              "7          of      5\n",
              "8     Chicago      1\n",
              "9           .     10\n",
              "10         He      1\n",
              "11        and      5\n",
              "12        his      6\n",
              "13     sister      1\n",
              "14        are      1\n",
              "15     raised      1\n",
              "16         in      4\n",
              "17     nearby      1\n",
              "18   Rockford      1\n",
              "19          ,      6"
            ]
          },
          "execution_count": 10,
          "metadata": {},
          "output_type": "execute_result"
        }
      ],
      "source": [
        "df_graph = df_count.head(20)\n",
        "df_graph"
      ]
    },
    {
      "cell_type": "code",
      "execution_count": null,
      "metadata": {
        "colab": {
          "base_uri": "https://localhost:8080/"
        },
        "id": "jf_GA81gfoCv",
        "outputId": "e74f9d56-d86a-41bb-c446-0dd477d69baf"
      },
      "outputs": [
        {
          "data": {
            "text/html": [
              "<html>\n",
              "<head><meta charset=\"utf-8\" /></head>\n",
              "<body>\n",
              "    <div>\n",
              "            <script src=\"https://cdnjs.cloudflare.com/ajax/libs/mathjax/2.7.5/MathJax.js?config=TeX-AMS-MML_SVG\"></script><script type=\"text/javascript\">if (window.MathJax) {MathJax.Hub.Config({SVG: {font: \"STIX-Web\"}});}</script>\n",
              "                <script type=\"text/javascript\">window.PlotlyConfig = {MathJaxConfig: 'local'};</script>\n",
              "        <script src=\"https://cdn.plot.ly/plotly-latest.min.js\"></script>    \n",
              "            <div id=\"e643ac6c-d403-4452-9dce-92f5ef92af2e\" class=\"plotly-graph-div\" style=\"height:600px; width:800px;\"></div>\n",
              "            <script type=\"text/javascript\">\n",
              "                \n",
              "                    window.PLOTLYENV=window.PLOTLYENV || {};\n",
              "                    \n",
              "                if (document.getElementById(\"e643ac6c-d403-4452-9dce-92f5ef92af2e\")) {\n",
              "                    Plotly.newPlot(\n",
              "                        'e643ac6c-d403-4452-9dce-92f5ef92af2e',\n",
              "                        [{\"domain\": {\"x\": [0.0, 1.0], \"y\": [0.0, 1.0]}, \"hoverlabel\": {\"namelength\": 0}, \"hovertemplate\": \"word=%{label}<br>count=%{value}\", \"labels\": [\"Abloh\", \"was\", \"born\", \"on\", \"September\", \"30\", \"outside\", \"of\", \"Chicago\", \".\", \"He\", \"and\", \"his\", \"sister\", \"are\", \"raised\", \"in\", \"nearby\", \"Rockford\", \",\"], \"legendgroup\": \"\", \"name\": \"\", \"showlegend\": true, \"type\": \"pie\", \"values\": [6, 1, 1, 2, 1, 1, 1, 5, 1, 10, 1, 5, 6, 1, 1, 1, 4, 1, 1, 6]}],\n",
              "                        {\"font\": {\"size\": 13}, \"height\": 600, \"legend\": {\"tracegroupgap\": 0}, \"piecolorway\": [\"rgb(103,0,31)\", \"rgb(178,24,43)\", \"rgb(214,96,77)\", \"rgb(244,165,130)\", \"rgb(253,219,199)\", \"rgb(247,247,247)\", \"rgb(209,229,240)\", \"rgb(146,197,222)\", \"rgb(67,147,195)\", \"rgb(33,102,172)\", \"rgb(5,48,97)\"], \"template\": {\"data\": {\"bar\": [{\"error_x\": {\"color\": \"#f2f5fa\"}, \"error_y\": {\"color\": \"#f2f5fa\"}, \"marker\": {\"line\": {\"color\": \"rgb(17,17,17)\", \"width\": 0.5}}, \"type\": \"bar\"}], \"barpolar\": [{\"marker\": {\"line\": {\"color\": \"rgb(17,17,17)\", \"width\": 0.5}}, \"type\": \"barpolar\"}], \"carpet\": [{\"aaxis\": {\"endlinecolor\": \"#A2B1C6\", \"gridcolor\": \"#506784\", \"linecolor\": \"#506784\", \"minorgridcolor\": \"#506784\", \"startlinecolor\": \"#A2B1C6\"}, \"baxis\": {\"endlinecolor\": \"#A2B1C6\", \"gridcolor\": \"#506784\", \"linecolor\": \"#506784\", \"minorgridcolor\": \"#506784\", \"startlinecolor\": \"#A2B1C6\"}, \"type\": \"carpet\"}], \"choropleth\": [{\"colorbar\": {\"outlinewidth\": 0, \"ticks\": \"\"}, \"type\": \"choropleth\"}], \"contour\": [{\"colorbar\": {\"outlinewidth\": 0, \"ticks\": \"\"}, \"colorscale\": [[0.0, \"#0d0887\"], [0.1111111111111111, \"#46039f\"], [0.2222222222222222, \"#7201a8\"], [0.3333333333333333, \"#9c179e\"], [0.4444444444444444, \"#bd3786\"], [0.5555555555555556, \"#d8576b\"], [0.6666666666666666, \"#ed7953\"], [0.7777777777777778, \"#fb9f3a\"], [0.8888888888888888, \"#fdca26\"], [1.0, \"#f0f921\"]], \"type\": \"contour\"}], \"contourcarpet\": [{\"colorbar\": {\"outlinewidth\": 0, \"ticks\": \"\"}, \"type\": \"contourcarpet\"}], \"heatmap\": [{\"colorbar\": {\"outlinewidth\": 0, \"ticks\": \"\"}, \"colorscale\": [[0.0, \"#0d0887\"], [0.1111111111111111, \"#46039f\"], [0.2222222222222222, \"#7201a8\"], [0.3333333333333333, \"#9c179e\"], [0.4444444444444444, \"#bd3786\"], [0.5555555555555556, \"#d8576b\"], [0.6666666666666666, \"#ed7953\"], [0.7777777777777778, \"#fb9f3a\"], [0.8888888888888888, \"#fdca26\"], [1.0, \"#f0f921\"]], \"type\": \"heatmap\"}], \"heatmapgl\": [{\"colorbar\": {\"outlinewidth\": 0, \"ticks\": \"\"}, \"colorscale\": [[0.0, \"#0d0887\"], [0.1111111111111111, \"#46039f\"], [0.2222222222222222, \"#7201a8\"], [0.3333333333333333, \"#9c179e\"], [0.4444444444444444, \"#bd3786\"], [0.5555555555555556, \"#d8576b\"], [0.6666666666666666, \"#ed7953\"], [0.7777777777777778, \"#fb9f3a\"], [0.8888888888888888, \"#fdca26\"], [1.0, \"#f0f921\"]], \"type\": \"heatmapgl\"}], \"histogram\": [{\"marker\": {\"colorbar\": {\"outlinewidth\": 0, \"ticks\": \"\"}}, \"type\": \"histogram\"}], \"histogram2d\": [{\"colorbar\": {\"outlinewidth\": 0, \"ticks\": \"\"}, \"colorscale\": [[0.0, \"#0d0887\"], [0.1111111111111111, \"#46039f\"], [0.2222222222222222, \"#7201a8\"], [0.3333333333333333, \"#9c179e\"], [0.4444444444444444, \"#bd3786\"], [0.5555555555555556, \"#d8576b\"], [0.6666666666666666, \"#ed7953\"], [0.7777777777777778, \"#fb9f3a\"], [0.8888888888888888, \"#fdca26\"], [1.0, \"#f0f921\"]], \"type\": \"histogram2d\"}], \"histogram2dcontour\": [{\"colorbar\": {\"outlinewidth\": 0, \"ticks\": \"\"}, \"colorscale\": [[0.0, \"#0d0887\"], [0.1111111111111111, \"#46039f\"], [0.2222222222222222, \"#7201a8\"], [0.3333333333333333, \"#9c179e\"], [0.4444444444444444, \"#bd3786\"], [0.5555555555555556, \"#d8576b\"], [0.6666666666666666, \"#ed7953\"], [0.7777777777777778, \"#fb9f3a\"], [0.8888888888888888, \"#fdca26\"], [1.0, \"#f0f921\"]], \"type\": \"histogram2dcontour\"}], \"mesh3d\": [{\"colorbar\": {\"outlinewidth\": 0, \"ticks\": \"\"}, \"type\": \"mesh3d\"}], \"parcoords\": [{\"line\": {\"colorbar\": {\"outlinewidth\": 0, \"ticks\": \"\"}}, \"type\": \"parcoords\"}], \"pie\": [{\"automargin\": true, \"type\": \"pie\"}], \"scatter\": [{\"marker\": {\"line\": {\"color\": \"#283442\"}}, \"type\": \"scatter\"}], \"scatter3d\": [{\"line\": {\"colorbar\": {\"outlinewidth\": 0, \"ticks\": \"\"}}, \"marker\": {\"colorbar\": {\"outlinewidth\": 0, \"ticks\": \"\"}}, \"type\": \"scatter3d\"}], \"scattercarpet\": [{\"marker\": {\"colorbar\": {\"outlinewidth\": 0, \"ticks\": \"\"}}, \"type\": \"scattercarpet\"}], \"scattergeo\": [{\"marker\": {\"colorbar\": {\"outlinewidth\": 0, \"ticks\": \"\"}}, \"type\": \"scattergeo\"}], \"scattergl\": [{\"marker\": {\"line\": {\"color\": \"#283442\"}}, \"type\": \"scattergl\"}], \"scattermapbox\": [{\"marker\": {\"colorbar\": {\"outlinewidth\": 0, \"ticks\": \"\"}}, \"type\": \"scattermapbox\"}], \"scatterpolar\": [{\"marker\": {\"colorbar\": {\"outlinewidth\": 0, \"ticks\": \"\"}}, \"type\": \"scatterpolar\"}], \"scatterpolargl\": [{\"marker\": {\"colorbar\": {\"outlinewidth\": 0, \"ticks\": \"\"}}, \"type\": \"scatterpolargl\"}], \"scatterternary\": [{\"marker\": {\"colorbar\": {\"outlinewidth\": 0, \"ticks\": \"\"}}, \"type\": \"scatterternary\"}], \"surface\": [{\"colorbar\": {\"outlinewidth\": 0, \"ticks\": \"\"}, \"colorscale\": [[0.0, \"#0d0887\"], [0.1111111111111111, \"#46039f\"], [0.2222222222222222, \"#7201a8\"], [0.3333333333333333, \"#9c179e\"], [0.4444444444444444, \"#bd3786\"], [0.5555555555555556, \"#d8576b\"], [0.6666666666666666, \"#ed7953\"], [0.7777777777777778, \"#fb9f3a\"], [0.8888888888888888, \"#fdca26\"], [1.0, \"#f0f921\"]], \"type\": \"surface\"}], \"table\": [{\"cells\": {\"fill\": {\"color\": \"#506784\"}, \"line\": {\"color\": \"rgb(17,17,17)\"}}, \"header\": {\"fill\": {\"color\": \"#2a3f5f\"}, \"line\": {\"color\": \"rgb(17,17,17)\"}}, \"type\": \"table\"}]}, \"layout\": {\"annotationdefaults\": {\"arrowcolor\": \"#f2f5fa\", \"arrowhead\": 0, \"arrowwidth\": 1}, \"coloraxis\": {\"colorbar\": {\"outlinewidth\": 0, \"ticks\": \"\"}}, \"colorscale\": {\"diverging\": [[0, \"#8e0152\"], [0.1, \"#c51b7d\"], [0.2, \"#de77ae\"], [0.3, \"#f1b6da\"], [0.4, \"#fde0ef\"], [0.5, \"#f7f7f7\"], [0.6, \"#e6f5d0\"], [0.7, \"#b8e186\"], [0.8, \"#7fbc41\"], [0.9, \"#4d9221\"], [1, \"#276419\"]], \"sequential\": [[0.0, \"#0d0887\"], [0.1111111111111111, \"#46039f\"], [0.2222222222222222, \"#7201a8\"], [0.3333333333333333, \"#9c179e\"], [0.4444444444444444, \"#bd3786\"], [0.5555555555555556, \"#d8576b\"], [0.6666666666666666, \"#ed7953\"], [0.7777777777777778, \"#fb9f3a\"], [0.8888888888888888, \"#fdca26\"], [1.0, \"#f0f921\"]], \"sequentialminus\": [[0.0, \"#0d0887\"], [0.1111111111111111, \"#46039f\"], [0.2222222222222222, \"#7201a8\"], [0.3333333333333333, \"#9c179e\"], [0.4444444444444444, \"#bd3786\"], [0.5555555555555556, \"#d8576b\"], [0.6666666666666666, \"#ed7953\"], [0.7777777777777778, \"#fb9f3a\"], [0.8888888888888888, \"#fdca26\"], [1.0, \"#f0f921\"]]}, \"colorway\": [\"#636efa\", \"#EF553B\", \"#00cc96\", \"#ab63fa\", \"#FFA15A\", \"#19d3f3\", \"#FF6692\", \"#B6E880\", \"#FF97FF\", \"#FECB52\"], \"font\": {\"color\": \"#f2f5fa\"}, \"geo\": {\"bgcolor\": \"rgb(17,17,17)\", \"lakecolor\": \"rgb(17,17,17)\", \"landcolor\": \"rgb(17,17,17)\", \"showlakes\": true, \"showland\": true, \"subunitcolor\": \"#506784\"}, \"hoverlabel\": {\"align\": \"left\"}, \"hovermode\": \"closest\", \"mapbox\": {\"style\": \"dark\"}, \"paper_bgcolor\": \"rgb(17,17,17)\", \"plot_bgcolor\": \"rgb(17,17,17)\", \"polar\": {\"angularaxis\": {\"gridcolor\": \"#506784\", \"linecolor\": \"#506784\", \"ticks\": \"\"}, \"bgcolor\": \"rgb(17,17,17)\", \"radialaxis\": {\"gridcolor\": \"#506784\", \"linecolor\": \"#506784\", \"ticks\": \"\"}}, \"scene\": {\"xaxis\": {\"backgroundcolor\": \"rgb(17,17,17)\", \"gridcolor\": \"#506784\", \"gridwidth\": 2, \"linecolor\": \"#506784\", \"showbackground\": true, \"ticks\": \"\", \"zerolinecolor\": \"#C8D4E3\"}, \"yaxis\": {\"backgroundcolor\": \"rgb(17,17,17)\", \"gridcolor\": \"#506784\", \"gridwidth\": 2, \"linecolor\": \"#506784\", \"showbackground\": true, \"ticks\": \"\", \"zerolinecolor\": \"#C8D4E3\"}, \"zaxis\": {\"backgroundcolor\": \"rgb(17,17,17)\", \"gridcolor\": \"#506784\", \"gridwidth\": 2, \"linecolor\": \"#506784\", \"showbackground\": true, \"ticks\": \"\", \"zerolinecolor\": \"#C8D4E3\"}}, \"shapedefaults\": {\"line\": {\"color\": \"#f2f5fa\"}}, \"sliderdefaults\": {\"bgcolor\": \"#C8D4E3\", \"bordercolor\": \"rgb(17,17,17)\", \"borderwidth\": 1, \"tickwidth\": 0}, \"ternary\": {\"aaxis\": {\"gridcolor\": \"#506784\", \"linecolor\": \"#506784\", \"ticks\": \"\"}, \"baxis\": {\"gridcolor\": \"#506784\", \"linecolor\": \"#506784\", \"ticks\": \"\"}, \"bgcolor\": \"rgb(17,17,17)\", \"caxis\": {\"gridcolor\": \"#506784\", \"linecolor\": \"#506784\", \"ticks\": \"\"}}, \"title\": {\"x\": 0.05}, \"updatemenudefaults\": {\"bgcolor\": \"#506784\", \"borderwidth\": 0}, \"xaxis\": {\"automargin\": true, \"gridcolor\": \"#283442\", \"linecolor\": \"#506784\", \"ticks\": \"\", \"title\": {\"standoff\": 15}, \"zerolinecolor\": \"#283442\", \"zerolinewidth\": 2}, \"yaxis\": {\"automargin\": true, \"gridcolor\": \"#283442\", \"linecolor\": \"#506784\", \"ticks\": \"\", \"title\": {\"standoff\": 15}, \"zerolinecolor\": \"#283442\", \"zerolinewidth\": 2}}}, \"title\": {\"text\": \"Count of word appear in text\", \"x\": 0.1}, \"width\": 800},\n",
              "                        {\"responsive\": true}\n",
              "                    ).then(function(){\n",
              "                            \n",
              "var gd = document.getElementById('e643ac6c-d403-4452-9dce-92f5ef92af2e');\n",
              "var x = new MutationObserver(function (mutations, observer) {{\n",
              "        var display = window.getComputedStyle(gd).display;\n",
              "        if (!display || display === 'none') {{\n",
              "            console.log([gd, 'removed!']);\n",
              "            Plotly.purge(gd);\n",
              "            observer.disconnect();\n",
              "        }}\n",
              "}});\n",
              "\n",
              "// Listen for the removal of the full notebook cells\n",
              "var notebookContainer = gd.closest('#notebook-container');\n",
              "if (notebookContainer) {{\n",
              "    x.observe(notebookContainer, {childList: true});\n",
              "}}\n",
              "\n",
              "// Listen for the clearing of the current output cell\n",
              "var outputEl = gd.closest('.output');\n",
              "if (outputEl) {{\n",
              "    x.observe(outputEl, {childList: true});\n",
              "}}\n",
              "\n",
              "                        })\n",
              "                };\n",
              "                \n",
              "            </script>\n",
              "        </div>\n",
              "</body>\n",
              "</html>"
            ]
          },
          "metadata": {},
          "output_type": "display_data"
        }
      ],
      "source": [
        "#graph\n",
        "\n",
        "\n",
        "fig = px.pie(df_graph, values = \"count\", names = \"word\",\n",
        "             title = 'Count of word appear in text',\n",
        "             color_discrete_sequence=px.colors.sequential.RdBu)\n",
        "\n",
        "fig.update_layout(title_x = 0.1,                    \n",
        "                    width=800,\n",
        "                    height=600,                    \n",
        "                    template='plotly_dark',\n",
        "                    font_size=13,\n",
        "                    )\n",
        "fig.show()"
      ]
    },
    {
      "cell_type": "markdown",
      "metadata": {
        "id": "ZYH0LHBCb00x"
      },
      "source": [
        "#### *Les plus récurrents sont en effet des stopwords*"
      ]
    },
    {
      "cell_type": "markdown",
      "metadata": {
        "id": "Rs0l_oD1WEsQ"
      },
      "source": [
        "## 6 - Enlève les stop words et la ponctuation, et regarde à nouveau quels sont les mots les plus présents. Là encore, réalise le même graphique pour comparer."
      ]
    },
    {
      "cell_type": "code",
      "execution_count": null,
      "metadata": {
        "colab": {
          "base_uri": "https://localhost:8080/"
        },
        "id": "h4tc5GSCWFZU",
        "outputId": "7bff44a4-ff9c-43f5-c7af-115a1565687e"
      },
      "outputs": [
        {
          "data": {
            "text/plain": [
              "['abloh',\n",
              " 'born',\n",
              " 'september',\n",
              " '30',\n",
              " 'outside',\n",
              " 'chicago',\n",
              " 'sister',\n",
              " 'raised',\n",
              " 'nearby',\n",
              " 'rockford',\n",
              " 'ghanaian',\n",
              " 'immigrant',\n",
              " 'parents',\n",
              " 'abloh',\n",
              " 'attends',\n",
              " 'boylan',\n",
              " 'catholic',\n",
              " 'high',\n",
              " 'schoolofficial',\n",
              " 'colors',\n",
              " 'green',\n",
              " 'whiteand',\n",
              " 'graduates',\n",
              " '1998',\n",
              " 'mother',\n",
              " 'seamstress',\n",
              " 'teaches',\n",
              " 'tricks',\n",
              " 'trade',\n",
              " 'abloh',\n",
              " 'completes',\n",
              " 'undergraduate',\n",
              " 'degree',\n",
              " 'civil',\n",
              " 'engineering',\n",
              " 'university',\n",
              " 'wisconsinmadison',\n",
              " '2015',\n",
              " 'would',\n",
              " 'return',\n",
              " 'design',\n",
              " 'commemorative',\n",
              " 'tees',\n",
              " 'university',\n",
              " 'rumor',\n",
              " 'day',\n",
              " 'graduation',\n",
              " 'skips',\n",
              " 'final',\n",
              " 'critique',\n",
              " 'take',\n",
              " 'meeting',\n",
              " 'kanye',\n",
              " 'wests',\n",
              " 'thenmanager',\n",
              " 'john',\n",
              " 'monopoly',\n",
              " 'west',\n",
              " 'abloh',\n",
              " 'begin',\n",
              " 'officially',\n",
              " 'working',\n",
              " 'together',\n",
              " 'soon',\n",
              " 'abloh',\n",
              " 'completes',\n",
              " 'masters',\n",
              " 'degree',\n",
              " 'architecture',\n",
              " 'illinois',\n",
              " 'institute',\n",
              " 'technology',\n",
              " 'time',\n",
              " 'iit',\n",
              " 'rem',\n",
              " 'koolhaas',\n",
              " 'building',\n",
              " 'completed',\n",
              " 'abloh',\n",
              " 'says',\n",
              " 'piqued',\n",
              " 'interest',\n",
              " 'opened',\n",
              " 'gateway',\n",
              " 'fashion']"
            ]
          },
          "execution_count": 12,
          "metadata": {},
          "output_type": "execute_result"
        }
      ],
      "source": [
        "import re\n",
        "\n",
        "#I take var name : 'vogue_extract' \n",
        "\n",
        "vogue_extract = vogue_extract.lower()\n",
        "\n",
        "#on retire la ponctuation depuis le texte du départ \n",
        "delete_ponct = re.sub(r'[^\\w\\s]',\"\",vogue_extract)\n",
        "\n",
        "#tokenize\n",
        "sentence_token = nltk.word_tokenize(delete_ponct)\n",
        "sentence_token\n",
        "\n",
        "#on enève les stopwords\n",
        "vogue_extract_without_SW = []\n",
        "\n",
        "for words in sentence_token:\n",
        "  if words not in nltk.corpus.stopwords.words(\"english\"):\n",
        "    if words !=\",\" or words !=\".\":\n",
        "      vogue_extract_without_SW.append(words)\n",
        "\n",
        "vogue_extract_without_SW"
      ]
    },
    {
      "cell_type": "code",
      "execution_count": null,
      "metadata": {
        "colab": {
          "base_uri": "https://localhost:8080/"
        },
        "id": "i4bpZpdfUo9U",
        "outputId": "37d41ff6-8b74-4a86-a2a0-35629effd568"
      },
      "outputs": [
        {
          "data": {
            "text/plain": [
              "FreqDist({'1998': 1,\n",
              "          '2015': 1,\n",
              "          '30': 1,\n",
              "          'abloh': 6,\n",
              "          'architecture': 1,\n",
              "          'attends': 1,\n",
              "          'begin': 1,\n",
              "          'born': 1,\n",
              "          'boylan': 1,\n",
              "          'building': 1,\n",
              "          'catholic': 1,\n",
              "          'chicago': 1,\n",
              "          'civil': 1,\n",
              "          'colors': 1,\n",
              "          'commemorative': 1,\n",
              "          'completed': 1,\n",
              "          'completes': 2,\n",
              "          'critique': 1,\n",
              "          'day': 1,\n",
              "          'degree': 2,\n",
              "          'design': 1,\n",
              "          'engineering': 1,\n",
              "          'fashion': 1,\n",
              "          'final': 1,\n",
              "          'gateway': 1,\n",
              "          'ghanaian': 1,\n",
              "          'graduates': 1,\n",
              "          'graduation': 1,\n",
              "          'green': 1,\n",
              "          'high': 1,\n",
              "          'iit': 1,\n",
              "          'illinois': 1,\n",
              "          'immigrant': 1,\n",
              "          'institute': 1,\n",
              "          'interest': 1,\n",
              "          'john': 1,\n",
              "          'kanye': 1,\n",
              "          'koolhaas': 1,\n",
              "          'masters': 1,\n",
              "          'meeting': 1,\n",
              "          'monopoly': 1,\n",
              "          'mother': 1,\n",
              "          'nearby': 1,\n",
              "          'officially': 1,\n",
              "          'opened': 1,\n",
              "          'outside': 1,\n",
              "          'parents': 1,\n",
              "          'piqued': 1,\n",
              "          'raised': 1,\n",
              "          'rem': 1,\n",
              "          'return': 1,\n",
              "          'rockford': 1,\n",
              "          'rumor': 1,\n",
              "          'says': 1,\n",
              "          'schoolofficial': 1,\n",
              "          'seamstress': 1,\n",
              "          'september': 1,\n",
              "          'sister': 1,\n",
              "          'skips': 1,\n",
              "          'soon': 1,\n",
              "          'take': 1,\n",
              "          'teaches': 1,\n",
              "          'technology': 1,\n",
              "          'tees': 1,\n",
              "          'thenmanager': 1,\n",
              "          'time': 1,\n",
              "          'together': 1,\n",
              "          'trade': 1,\n",
              "          'tricks': 1,\n",
              "          'undergraduate': 1,\n",
              "          'university': 2,\n",
              "          'west': 1,\n",
              "          'wests': 1,\n",
              "          'whiteand': 1,\n",
              "          'wisconsinmadison': 1,\n",
              "          'working': 1,\n",
              "          'would': 1})"
            ]
          },
          "execution_count": 13,
          "metadata": {},
          "output_type": "execute_result"
        }
      ],
      "source": [
        "#count \n",
        "dict_frequency2 = nltk.FreqDist(vogue_extract_without_SW)\n",
        "dict_frequency2"
      ]
    },
    {
      "cell_type": "code",
      "execution_count": null,
      "metadata": {
        "colab": {
          "base_uri": "https://localhost:8080/"
        },
        "id": "4tqRU5qDddtc",
        "outputId": "6247825e-0261-459d-f80a-da7e7e1154f6"
      },
      "outputs": [
        {
          "data": {
            "text/html": [
              "<div>\n",
              "<style scoped>\n",
              "    .dataframe tbody tr th:only-of-type {\n",
              "        vertical-align: middle;\n",
              "    }\n",
              "\n",
              "    .dataframe tbody tr th {\n",
              "        vertical-align: top;\n",
              "    }\n",
              "\n",
              "    .dataframe thead th {\n",
              "        text-align: right;\n",
              "    }\n",
              "</style>\n",
              "<table border=\"1\" class=\"dataframe\">\n",
              "  <thead>\n",
              "    <tr style=\"text-align: right;\">\n",
              "      <th></th>\n",
              "      <th>index</th>\n",
              "      <th>0</th>\n",
              "    </tr>\n",
              "  </thead>\n",
              "  <tbody>\n",
              "    <tr>\n",
              "      <th>0</th>\n",
              "      <td>abloh</td>\n",
              "      <td>6</td>\n",
              "    </tr>\n",
              "    <tr>\n",
              "      <th>1</th>\n",
              "      <td>born</td>\n",
              "      <td>1</td>\n",
              "    </tr>\n",
              "    <tr>\n",
              "      <th>2</th>\n",
              "      <td>september</td>\n",
              "      <td>1</td>\n",
              "    </tr>\n",
              "    <tr>\n",
              "      <th>3</th>\n",
              "      <td>30</td>\n",
              "      <td>1</td>\n",
              "    </tr>\n",
              "    <tr>\n",
              "      <th>4</th>\n",
              "      <td>outside</td>\n",
              "      <td>1</td>\n",
              "    </tr>\n",
              "    <tr>\n",
              "      <th>...</th>\n",
              "      <td>...</td>\n",
              "      <td>...</td>\n",
              "    </tr>\n",
              "    <tr>\n",
              "      <th>72</th>\n",
              "      <td>piqued</td>\n",
              "      <td>1</td>\n",
              "    </tr>\n",
              "    <tr>\n",
              "      <th>73</th>\n",
              "      <td>interest</td>\n",
              "      <td>1</td>\n",
              "    </tr>\n",
              "    <tr>\n",
              "      <th>74</th>\n",
              "      <td>opened</td>\n",
              "      <td>1</td>\n",
              "    </tr>\n",
              "    <tr>\n",
              "      <th>75</th>\n",
              "      <td>gateway</td>\n",
              "      <td>1</td>\n",
              "    </tr>\n",
              "    <tr>\n",
              "      <th>76</th>\n",
              "      <td>fashion</td>\n",
              "      <td>1</td>\n",
              "    </tr>\n",
              "  </tbody>\n",
              "</table>\n",
              "<p>77 rows × 2 columns</p>\n",
              "</div>"
            ],
            "text/plain": [
              "        index  0\n",
              "0       abloh  6\n",
              "1        born  1\n",
              "2   september  1\n",
              "3          30  1\n",
              "4     outside  1\n",
              "..        ... ..\n",
              "72     piqued  1\n",
              "73   interest  1\n",
              "74     opened  1\n",
              "75    gateway  1\n",
              "76    fashion  1\n",
              "\n",
              "[77 rows x 2 columns]"
            ]
          },
          "execution_count": 14,
          "metadata": {},
          "output_type": "execute_result"
        }
      ],
      "source": [
        "#transform count_words in df\n",
        "df_count2 = pd.DataFrame.from_dict(dict_frequency2, orient='index').reset_index()\n",
        "df_count2"
      ]
    },
    {
      "cell_type": "code",
      "execution_count": null,
      "metadata": {
        "colab": {
          "base_uri": "https://localhost:8080/"
        },
        "id": "h9aeS-12dsiw",
        "outputId": "25f62e0e-239e-4a42-e3c5-f6f65b404fef"
      },
      "outputs": [
        {
          "data": {
            "text/html": [
              "<div>\n",
              "<style scoped>\n",
              "    .dataframe tbody tr th:only-of-type {\n",
              "        vertical-align: middle;\n",
              "    }\n",
              "\n",
              "    .dataframe tbody tr th {\n",
              "        vertical-align: top;\n",
              "    }\n",
              "\n",
              "    .dataframe thead th {\n",
              "        text-align: right;\n",
              "    }\n",
              "</style>\n",
              "<table border=\"1\" class=\"dataframe\">\n",
              "  <thead>\n",
              "    <tr style=\"text-align: right;\">\n",
              "      <th></th>\n",
              "      <th>word</th>\n",
              "      <th>count</th>\n",
              "    </tr>\n",
              "  </thead>\n",
              "  <tbody>\n",
              "    <tr>\n",
              "      <th>0</th>\n",
              "      <td>abloh</td>\n",
              "      <td>6</td>\n",
              "    </tr>\n",
              "    <tr>\n",
              "      <th>1</th>\n",
              "      <td>born</td>\n",
              "      <td>1</td>\n",
              "    </tr>\n",
              "    <tr>\n",
              "      <th>2</th>\n",
              "      <td>september</td>\n",
              "      <td>1</td>\n",
              "    </tr>\n",
              "    <tr>\n",
              "      <th>3</th>\n",
              "      <td>30</td>\n",
              "      <td>1</td>\n",
              "    </tr>\n",
              "    <tr>\n",
              "      <th>4</th>\n",
              "      <td>outside</td>\n",
              "      <td>1</td>\n",
              "    </tr>\n",
              "    <tr>\n",
              "      <th>...</th>\n",
              "      <td>...</td>\n",
              "      <td>...</td>\n",
              "    </tr>\n",
              "    <tr>\n",
              "      <th>72</th>\n",
              "      <td>piqued</td>\n",
              "      <td>1</td>\n",
              "    </tr>\n",
              "    <tr>\n",
              "      <th>73</th>\n",
              "      <td>interest</td>\n",
              "      <td>1</td>\n",
              "    </tr>\n",
              "    <tr>\n",
              "      <th>74</th>\n",
              "      <td>opened</td>\n",
              "      <td>1</td>\n",
              "    </tr>\n",
              "    <tr>\n",
              "      <th>75</th>\n",
              "      <td>gateway</td>\n",
              "      <td>1</td>\n",
              "    </tr>\n",
              "    <tr>\n",
              "      <th>76</th>\n",
              "      <td>fashion</td>\n",
              "      <td>1</td>\n",
              "    </tr>\n",
              "  </tbody>\n",
              "</table>\n",
              "<p>77 rows × 2 columns</p>\n",
              "</div>"
            ],
            "text/plain": [
              "         word  count\n",
              "0       abloh      6\n",
              "1        born      1\n",
              "2   september      1\n",
              "3          30      1\n",
              "4     outside      1\n",
              "..        ...    ...\n",
              "72     piqued      1\n",
              "73   interest      1\n",
              "74     opened      1\n",
              "75    gateway      1\n",
              "76    fashion      1\n",
              "\n",
              "[77 rows x 2 columns]"
            ]
          },
          "execution_count": 15,
          "metadata": {},
          "output_type": "execute_result"
        }
      ],
      "source": [
        "# rename columns\n",
        "df_count2.rename({'index' : 'word', 0 : 'count'}, axis='columns', inplace=True)\n",
        "df_count2"
      ]
    },
    {
      "cell_type": "code",
      "execution_count": null,
      "metadata": {
        "colab": {
          "base_uri": "https://localhost:8080/"
        },
        "id": "nfQr7XPPdx8N",
        "outputId": "5e034266-569b-4021-b519-45c415c9fb6a"
      },
      "outputs": [
        {
          "data": {
            "text/html": [
              "<html>\n",
              "<head><meta charset=\"utf-8\" /></head>\n",
              "<body>\n",
              "    <div>\n",
              "            <script src=\"https://cdnjs.cloudflare.com/ajax/libs/mathjax/2.7.5/MathJax.js?config=TeX-AMS-MML_SVG\"></script><script type=\"text/javascript\">if (window.MathJax) {MathJax.Hub.Config({SVG: {font: \"STIX-Web\"}});}</script>\n",
              "                <script type=\"text/javascript\">window.PlotlyConfig = {MathJaxConfig: 'local'};</script>\n",
              "        <script src=\"https://cdn.plot.ly/plotly-latest.min.js\"></script>    \n",
              "            <div id=\"3067b23c-1539-42ae-a80b-e853e9cd9597\" class=\"plotly-graph-div\" style=\"height:600px; width:800px;\"></div>\n",
              "            <script type=\"text/javascript\">\n",
              "                \n",
              "                    window.PLOTLYENV=window.PLOTLYENV || {};\n",
              "                    \n",
              "                if (document.getElementById(\"3067b23c-1539-42ae-a80b-e853e9cd9597\")) {\n",
              "                    Plotly.newPlot(\n",
              "                        '3067b23c-1539-42ae-a80b-e853e9cd9597',\n",
              "                        [{\"domain\": {\"x\": [0.0, 1.0], \"y\": [0.0, 1.0]}, \"hoverlabel\": {\"namelength\": 0}, \"hovertemplate\": \"word=%{label}<br>count=%{value}\", \"labels\": [\"abloh\", \"born\", \"september\", \"30\", \"outside\", \"chicago\", \"sister\", \"raised\", \"nearby\", \"rockford\", \"ghanaian\", \"immigrant\", \"parents\", \"attends\", \"boylan\", \"catholic\", \"high\", \"schoolofficial\", \"colors\", \"green\"], \"legendgroup\": \"\", \"name\": \"\", \"showlegend\": true, \"type\": \"pie\", \"values\": [6, 1, 1, 1, 1, 1, 1, 1, 1, 1, 1, 1, 1, 1, 1, 1, 1, 1, 1, 1]}],\n",
              "                        {\"font\": {\"size\": 13}, \"height\": 600, \"legend\": {\"tracegroupgap\": 0}, \"piecolorway\": [\"rgb(103,0,31)\", \"rgb(178,24,43)\", \"rgb(214,96,77)\", \"rgb(244,165,130)\", \"rgb(253,219,199)\", \"rgb(247,247,247)\", \"rgb(209,229,240)\", \"rgb(146,197,222)\", \"rgb(67,147,195)\", \"rgb(33,102,172)\", \"rgb(5,48,97)\"], \"template\": {\"data\": {\"bar\": [{\"error_x\": {\"color\": \"#f2f5fa\"}, \"error_y\": {\"color\": \"#f2f5fa\"}, \"marker\": {\"line\": {\"color\": \"rgb(17,17,17)\", \"width\": 0.5}}, \"type\": \"bar\"}], \"barpolar\": [{\"marker\": {\"line\": {\"color\": \"rgb(17,17,17)\", \"width\": 0.5}}, \"type\": \"barpolar\"}], \"carpet\": [{\"aaxis\": {\"endlinecolor\": \"#A2B1C6\", \"gridcolor\": \"#506784\", \"linecolor\": \"#506784\", \"minorgridcolor\": \"#506784\", \"startlinecolor\": \"#A2B1C6\"}, \"baxis\": {\"endlinecolor\": \"#A2B1C6\", \"gridcolor\": \"#506784\", \"linecolor\": \"#506784\", \"minorgridcolor\": \"#506784\", \"startlinecolor\": \"#A2B1C6\"}, \"type\": \"carpet\"}], \"choropleth\": [{\"colorbar\": {\"outlinewidth\": 0, \"ticks\": \"\"}, \"type\": \"choropleth\"}], \"contour\": [{\"colorbar\": {\"outlinewidth\": 0, \"ticks\": \"\"}, \"colorscale\": [[0.0, \"#0d0887\"], [0.1111111111111111, \"#46039f\"], [0.2222222222222222, \"#7201a8\"], [0.3333333333333333, \"#9c179e\"], [0.4444444444444444, \"#bd3786\"], [0.5555555555555556, \"#d8576b\"], [0.6666666666666666, \"#ed7953\"], [0.7777777777777778, \"#fb9f3a\"], [0.8888888888888888, \"#fdca26\"], [1.0, \"#f0f921\"]], \"type\": \"contour\"}], \"contourcarpet\": [{\"colorbar\": {\"outlinewidth\": 0, \"ticks\": \"\"}, \"type\": \"contourcarpet\"}], \"heatmap\": [{\"colorbar\": {\"outlinewidth\": 0, \"ticks\": \"\"}, \"colorscale\": [[0.0, \"#0d0887\"], [0.1111111111111111, \"#46039f\"], [0.2222222222222222, \"#7201a8\"], [0.3333333333333333, \"#9c179e\"], [0.4444444444444444, \"#bd3786\"], [0.5555555555555556, \"#d8576b\"], [0.6666666666666666, \"#ed7953\"], [0.7777777777777778, \"#fb9f3a\"], [0.8888888888888888, \"#fdca26\"], [1.0, \"#f0f921\"]], \"type\": \"heatmap\"}], \"heatmapgl\": [{\"colorbar\": {\"outlinewidth\": 0, \"ticks\": \"\"}, \"colorscale\": [[0.0, \"#0d0887\"], [0.1111111111111111, \"#46039f\"], [0.2222222222222222, \"#7201a8\"], [0.3333333333333333, \"#9c179e\"], [0.4444444444444444, \"#bd3786\"], [0.5555555555555556, \"#d8576b\"], [0.6666666666666666, \"#ed7953\"], [0.7777777777777778, \"#fb9f3a\"], [0.8888888888888888, \"#fdca26\"], [1.0, \"#f0f921\"]], \"type\": \"heatmapgl\"}], \"histogram\": [{\"marker\": {\"colorbar\": {\"outlinewidth\": 0, \"ticks\": \"\"}}, \"type\": \"histogram\"}], \"histogram2d\": [{\"colorbar\": {\"outlinewidth\": 0, \"ticks\": \"\"}, \"colorscale\": [[0.0, \"#0d0887\"], [0.1111111111111111, \"#46039f\"], [0.2222222222222222, \"#7201a8\"], [0.3333333333333333, \"#9c179e\"], [0.4444444444444444, \"#bd3786\"], [0.5555555555555556, \"#d8576b\"], [0.6666666666666666, \"#ed7953\"], [0.7777777777777778, \"#fb9f3a\"], [0.8888888888888888, \"#fdca26\"], [1.0, \"#f0f921\"]], \"type\": \"histogram2d\"}], \"histogram2dcontour\": [{\"colorbar\": {\"outlinewidth\": 0, \"ticks\": \"\"}, \"colorscale\": [[0.0, \"#0d0887\"], [0.1111111111111111, \"#46039f\"], [0.2222222222222222, \"#7201a8\"], [0.3333333333333333, \"#9c179e\"], [0.4444444444444444, \"#bd3786\"], [0.5555555555555556, \"#d8576b\"], [0.6666666666666666, \"#ed7953\"], [0.7777777777777778, \"#fb9f3a\"], [0.8888888888888888, \"#fdca26\"], [1.0, \"#f0f921\"]], \"type\": \"histogram2dcontour\"}], \"mesh3d\": [{\"colorbar\": {\"outlinewidth\": 0, \"ticks\": \"\"}, \"type\": \"mesh3d\"}], \"parcoords\": [{\"line\": {\"colorbar\": {\"outlinewidth\": 0, \"ticks\": \"\"}}, \"type\": \"parcoords\"}], \"pie\": [{\"automargin\": true, \"type\": \"pie\"}], \"scatter\": [{\"marker\": {\"line\": {\"color\": \"#283442\"}}, \"type\": \"scatter\"}], \"scatter3d\": [{\"line\": {\"colorbar\": {\"outlinewidth\": 0, \"ticks\": \"\"}}, \"marker\": {\"colorbar\": {\"outlinewidth\": 0, \"ticks\": \"\"}}, \"type\": \"scatter3d\"}], \"scattercarpet\": [{\"marker\": {\"colorbar\": {\"outlinewidth\": 0, \"ticks\": \"\"}}, \"type\": \"scattercarpet\"}], \"scattergeo\": [{\"marker\": {\"colorbar\": {\"outlinewidth\": 0, \"ticks\": \"\"}}, \"type\": \"scattergeo\"}], \"scattergl\": [{\"marker\": {\"line\": {\"color\": \"#283442\"}}, \"type\": \"scattergl\"}], \"scattermapbox\": [{\"marker\": {\"colorbar\": {\"outlinewidth\": 0, \"ticks\": \"\"}}, \"type\": \"scattermapbox\"}], \"scatterpolar\": [{\"marker\": {\"colorbar\": {\"outlinewidth\": 0, \"ticks\": \"\"}}, \"type\": \"scatterpolar\"}], \"scatterpolargl\": [{\"marker\": {\"colorbar\": {\"outlinewidth\": 0, \"ticks\": \"\"}}, \"type\": \"scatterpolargl\"}], \"scatterternary\": [{\"marker\": {\"colorbar\": {\"outlinewidth\": 0, \"ticks\": \"\"}}, \"type\": \"scatterternary\"}], \"surface\": [{\"colorbar\": {\"outlinewidth\": 0, \"ticks\": \"\"}, \"colorscale\": [[0.0, \"#0d0887\"], [0.1111111111111111, \"#46039f\"], [0.2222222222222222, \"#7201a8\"], [0.3333333333333333, \"#9c179e\"], [0.4444444444444444, \"#bd3786\"], [0.5555555555555556, \"#d8576b\"], [0.6666666666666666, \"#ed7953\"], [0.7777777777777778, \"#fb9f3a\"], [0.8888888888888888, \"#fdca26\"], [1.0, \"#f0f921\"]], \"type\": \"surface\"}], \"table\": [{\"cells\": {\"fill\": {\"color\": \"#506784\"}, \"line\": {\"color\": \"rgb(17,17,17)\"}}, \"header\": {\"fill\": {\"color\": \"#2a3f5f\"}, \"line\": {\"color\": \"rgb(17,17,17)\"}}, \"type\": \"table\"}]}, \"layout\": {\"annotationdefaults\": {\"arrowcolor\": \"#f2f5fa\", \"arrowhead\": 0, \"arrowwidth\": 1}, \"coloraxis\": {\"colorbar\": {\"outlinewidth\": 0, \"ticks\": \"\"}}, \"colorscale\": {\"diverging\": [[0, \"#8e0152\"], [0.1, \"#c51b7d\"], [0.2, \"#de77ae\"], [0.3, \"#f1b6da\"], [0.4, \"#fde0ef\"], [0.5, \"#f7f7f7\"], [0.6, \"#e6f5d0\"], [0.7, \"#b8e186\"], [0.8, \"#7fbc41\"], [0.9, \"#4d9221\"], [1, \"#276419\"]], \"sequential\": [[0.0, \"#0d0887\"], [0.1111111111111111, \"#46039f\"], [0.2222222222222222, \"#7201a8\"], [0.3333333333333333, \"#9c179e\"], [0.4444444444444444, \"#bd3786\"], [0.5555555555555556, \"#d8576b\"], [0.6666666666666666, \"#ed7953\"], [0.7777777777777778, \"#fb9f3a\"], [0.8888888888888888, \"#fdca26\"], [1.0, \"#f0f921\"]], \"sequentialminus\": [[0.0, \"#0d0887\"], [0.1111111111111111, \"#46039f\"], [0.2222222222222222, \"#7201a8\"], [0.3333333333333333, \"#9c179e\"], [0.4444444444444444, \"#bd3786\"], [0.5555555555555556, \"#d8576b\"], [0.6666666666666666, \"#ed7953\"], [0.7777777777777778, \"#fb9f3a\"], [0.8888888888888888, \"#fdca26\"], [1.0, \"#f0f921\"]]}, \"colorway\": [\"#636efa\", \"#EF553B\", \"#00cc96\", \"#ab63fa\", \"#FFA15A\", \"#19d3f3\", \"#FF6692\", \"#B6E880\", \"#FF97FF\", \"#FECB52\"], \"font\": {\"color\": \"#f2f5fa\"}, \"geo\": {\"bgcolor\": \"rgb(17,17,17)\", \"lakecolor\": \"rgb(17,17,17)\", \"landcolor\": \"rgb(17,17,17)\", \"showlakes\": true, \"showland\": true, \"subunitcolor\": \"#506784\"}, \"hoverlabel\": {\"align\": \"left\"}, \"hovermode\": \"closest\", \"mapbox\": {\"style\": \"dark\"}, \"paper_bgcolor\": \"rgb(17,17,17)\", \"plot_bgcolor\": \"rgb(17,17,17)\", \"polar\": {\"angularaxis\": {\"gridcolor\": \"#506784\", \"linecolor\": \"#506784\", \"ticks\": \"\"}, \"bgcolor\": \"rgb(17,17,17)\", \"radialaxis\": {\"gridcolor\": \"#506784\", \"linecolor\": \"#506784\", \"ticks\": \"\"}}, \"scene\": {\"xaxis\": {\"backgroundcolor\": \"rgb(17,17,17)\", \"gridcolor\": \"#506784\", \"gridwidth\": 2, \"linecolor\": \"#506784\", \"showbackground\": true, \"ticks\": \"\", \"zerolinecolor\": \"#C8D4E3\"}, \"yaxis\": {\"backgroundcolor\": \"rgb(17,17,17)\", \"gridcolor\": \"#506784\", \"gridwidth\": 2, \"linecolor\": \"#506784\", \"showbackground\": true, \"ticks\": \"\", \"zerolinecolor\": \"#C8D4E3\"}, \"zaxis\": {\"backgroundcolor\": \"rgb(17,17,17)\", \"gridcolor\": \"#506784\", \"gridwidth\": 2, \"linecolor\": \"#506784\", \"showbackground\": true, \"ticks\": \"\", \"zerolinecolor\": \"#C8D4E3\"}}, \"shapedefaults\": {\"line\": {\"color\": \"#f2f5fa\"}}, \"sliderdefaults\": {\"bgcolor\": \"#C8D4E3\", \"bordercolor\": \"rgb(17,17,17)\", \"borderwidth\": 1, \"tickwidth\": 0}, \"ternary\": {\"aaxis\": {\"gridcolor\": \"#506784\", \"linecolor\": \"#506784\", \"ticks\": \"\"}, \"baxis\": {\"gridcolor\": \"#506784\", \"linecolor\": \"#506784\", \"ticks\": \"\"}, \"bgcolor\": \"rgb(17,17,17)\", \"caxis\": {\"gridcolor\": \"#506784\", \"linecolor\": \"#506784\", \"ticks\": \"\"}}, \"title\": {\"x\": 0.05}, \"updatemenudefaults\": {\"bgcolor\": \"#506784\", \"borderwidth\": 0}, \"xaxis\": {\"automargin\": true, \"gridcolor\": \"#283442\", \"linecolor\": \"#506784\", \"ticks\": \"\", \"title\": {\"standoff\": 15}, \"zerolinecolor\": \"#283442\", \"zerolinewidth\": 2}, \"yaxis\": {\"automargin\": true, \"gridcolor\": \"#283442\", \"linecolor\": \"#506784\", \"ticks\": \"\", \"title\": {\"standoff\": 15}, \"zerolinecolor\": \"#283442\", \"zerolinewidth\": 2}}}, \"title\": {\"text\": \"Count of word appear in text - without stopwords\", \"x\": 0.1}, \"width\": 800},\n",
              "                        {\"responsive\": true}\n",
              "                    ).then(function(){\n",
              "                            \n",
              "var gd = document.getElementById('3067b23c-1539-42ae-a80b-e853e9cd9597');\n",
              "var x = new MutationObserver(function (mutations, observer) {{\n",
              "        var display = window.getComputedStyle(gd).display;\n",
              "        if (!display || display === 'none') {{\n",
              "            console.log([gd, 'removed!']);\n",
              "            Plotly.purge(gd);\n",
              "            observer.disconnect();\n",
              "        }}\n",
              "}});\n",
              "\n",
              "// Listen for the removal of the full notebook cells\n",
              "var notebookContainer = gd.closest('#notebook-container');\n",
              "if (notebookContainer) {{\n",
              "    x.observe(notebookContainer, {childList: true});\n",
              "}}\n",
              "\n",
              "// Listen for the clearing of the current output cell\n",
              "var outputEl = gd.closest('.output');\n",
              "if (outputEl) {{\n",
              "    x.observe(outputEl, {childList: true});\n",
              "}}\n",
              "\n",
              "                        })\n",
              "                };\n",
              "                \n",
              "            </script>\n",
              "        </div>\n",
              "</body>\n",
              "</html>"
            ]
          },
          "metadata": {},
          "output_type": "display_data"
        }
      ],
      "source": [
        "#graph\n",
        "df_graph2 = df_count2.head(20)\n",
        "\n",
        "fig = px.pie(df_graph2, values = \"count\", names = \"word\",\n",
        "             title = 'Count of word appear in text - without stopwords',\n",
        "             color_discrete_sequence=px.colors.sequential.RdBu)\n",
        "\n",
        "fig.update_layout(title_x = 0.1,                    \n",
        "                    width=800,\n",
        "                    height=600,                    \n",
        "                    template='plotly_dark',\n",
        "                    font_size=13)\n",
        "fig.show()"
      ]
    },
    {
      "cell_type": "markdown",
      "metadata": {
        "id": "Oq8Y0b1HSZUE"
      },
      "source": [
        "# Partie 2 : NLP 2 - Stemming & Lemmatizing"
      ]
    },
    {
      "cell_type": "markdown",
      "metadata": {
        "id": "Ddl25TukSiLP"
      },
      "source": [
        "### 1- A partir de ton texte déjà nettoyé, donc en minuscule, sans stopwords ni ponctuation, utilise un stemmer pour rendre le corpus de mots encore plus pertinent "
      ]
    },
    {
      "cell_type": "code",
      "execution_count": null,
      "metadata": {
        "colab": {
          "base_uri": "https://localhost:8080/"
        },
        "id": "UkjIm6tgXLzW",
        "outputId": "00b5a577-5c5a-43e4-8760-27b4c8d4bb36"
      },
      "outputs": [
        {
          "name": "stdout",
          "output_type": "stream",
          "text": [
            "abloh\n",
            "was\n",
            "born\n",
            "on\n",
            "septemb\n",
            "30\n",
            "outsid\n",
            "of\n",
            "chicago\n",
            "he\n",
            "and\n",
            "his\n",
            "sister\n",
            "are\n",
            "rais\n",
            "in\n",
            "nearbi\n",
            "rockford\n",
            "by\n",
            "ghanaian\n",
            "immigr\n",
            "parent\n",
            "abloh\n",
            "attend\n",
            "the\n",
            "boylan\n",
            "cathol\n",
            "high\n",
            "schooloffici\n",
            "color\n",
            "green\n",
            "and\n",
            "whiteand\n",
            "graduat\n",
            "in\n",
            "1998\n",
            "his\n",
            "mother\n",
            "is\n",
            "a\n",
            "seamstress\n",
            "and\n",
            "teach\n",
            "him\n",
            "the\n",
            "trick\n",
            "of\n",
            "her\n",
            "trade\n",
            "abloh\n",
            "complet\n",
            "his\n",
            "undergradu\n",
            "degre\n",
            "in\n",
            "civil\n",
            "engin\n",
            "at\n",
            "the\n",
            "univers\n",
            "of\n",
            "wisconsinmadison\n",
            "in\n",
            "2015\n",
            "he\n",
            "would\n",
            "return\n",
            "to\n",
            "design\n",
            "commemor\n",
            "tee\n",
            "for\n",
            "the\n",
            "univers\n",
            "rumor\n",
            "has\n",
            "it\n",
            "that\n",
            "on\n",
            "the\n",
            "day\n",
            "of\n",
            "his\n",
            "graduat\n",
            "he\n",
            "skip\n",
            "his\n",
            "final\n",
            "critiqu\n",
            "to\n",
            "take\n",
            "a\n",
            "meet\n",
            "with\n",
            "kany\n",
            "west\n",
            "thenmanag\n",
            "john\n",
            "monopoli\n",
            "west\n",
            "and\n",
            "abloh\n",
            "begin\n",
            "offici\n",
            "work\n",
            "togeth\n",
            "soon\n",
            "after\n",
            "abloh\n",
            "complet\n",
            "his\n",
            "master\n",
            "degre\n",
            "in\n",
            "architectur\n",
            "from\n",
            "the\n",
            "illinoi\n",
            "institut\n",
            "of\n",
            "technolog\n",
            "dure\n",
            "his\n",
            "time\n",
            "at\n",
            "iit\n",
            "a\n",
            "rem\n",
            "koolhaa\n",
            "build\n",
            "is\n",
            "complet\n",
            "which\n",
            "abloh\n",
            "say\n",
            "piqu\n",
            "my\n",
            "interest\n",
            "and\n",
            "open\n",
            "my\n",
            "gateway\n",
            "into\n",
            "fashion\n"
          ]
        }
      ],
      "source": [
        "from nltk.stem import SnowballStemmer\n",
        "\n",
        "sentence_clean = delete_ponct\n",
        "\n",
        "stem_en = SnowballStemmer(\"english\")\n",
        "\n",
        "for word in nltk.word_tokenize(sentence_clean):\n",
        "  print(stem_en.stem(word))"
      ]
    },
    {
      "cell_type": "code",
      "execution_count": null,
      "metadata": {
        "colab": {
          "base_uri": "https://localhost:8080/"
        },
        "id": "egnq1fBjXyGL",
        "outputId": "8a35ed81-b0fd-42d8-c8d5-9c3a662d604b"
      },
      "outputs": [
        {
          "data": {
            "text/plain": [
              "['abloh',\n",
              " 'was',\n",
              " 'born',\n",
              " 'on',\n",
              " 'septemb',\n",
              " '30',\n",
              " 'outsid',\n",
              " 'of',\n",
              " 'chicago',\n",
              " 'he',\n",
              " 'and',\n",
              " 'his',\n",
              " 'sister',\n",
              " 'are',\n",
              " 'rais',\n",
              " 'in',\n",
              " 'nearbi',\n",
              " 'rockford',\n",
              " 'by',\n",
              " 'ghanaian',\n",
              " 'immigr',\n",
              " 'parent',\n",
              " 'abloh',\n",
              " 'attend',\n",
              " 'the',\n",
              " 'boylan',\n",
              " 'cathol',\n",
              " 'high',\n",
              " 'schooloffici',\n",
              " 'color',\n",
              " 'green',\n",
              " 'and',\n",
              " 'whiteand',\n",
              " 'graduat',\n",
              " 'in',\n",
              " '1998',\n",
              " 'his',\n",
              " 'mother',\n",
              " 'is',\n",
              " 'a',\n",
              " 'seamstress',\n",
              " 'and',\n",
              " 'teach',\n",
              " 'him',\n",
              " 'the',\n",
              " 'trick',\n",
              " 'of',\n",
              " 'her',\n",
              " 'trade',\n",
              " 'abloh',\n",
              " 'complet',\n",
              " 'his',\n",
              " 'undergradu',\n",
              " 'degre',\n",
              " 'in',\n",
              " 'civil',\n",
              " 'engin',\n",
              " 'at',\n",
              " 'the',\n",
              " 'univers',\n",
              " 'of',\n",
              " 'wisconsinmadison',\n",
              " 'in',\n",
              " '2015',\n",
              " 'he',\n",
              " 'would',\n",
              " 'return',\n",
              " 'to',\n",
              " 'design',\n",
              " 'commemor',\n",
              " 'tee',\n",
              " 'for',\n",
              " 'the',\n",
              " 'univers',\n",
              " 'rumor',\n",
              " 'has',\n",
              " 'it',\n",
              " 'that',\n",
              " 'on',\n",
              " 'the',\n",
              " 'day',\n",
              " 'of',\n",
              " 'his',\n",
              " 'graduat',\n",
              " 'he',\n",
              " 'skip',\n",
              " 'his',\n",
              " 'final',\n",
              " 'critiqu',\n",
              " 'to',\n",
              " 'take',\n",
              " 'a',\n",
              " 'meet',\n",
              " 'with',\n",
              " 'kany',\n",
              " 'west',\n",
              " 'thenmanag',\n",
              " 'john',\n",
              " 'monopoli',\n",
              " 'west',\n",
              " 'and',\n",
              " 'abloh',\n",
              " 'begin',\n",
              " 'offici',\n",
              " 'work',\n",
              " 'togeth',\n",
              " 'soon',\n",
              " 'after',\n",
              " 'abloh',\n",
              " 'complet',\n",
              " 'his',\n",
              " 'master',\n",
              " 'degre',\n",
              " 'in',\n",
              " 'architectur',\n",
              " 'from',\n",
              " 'the',\n",
              " 'illinoi',\n",
              " 'institut',\n",
              " 'of',\n",
              " 'technolog',\n",
              " 'dure',\n",
              " 'his',\n",
              " 'time',\n",
              " 'at',\n",
              " 'iit',\n",
              " 'a',\n",
              " 'rem',\n",
              " 'koolhaa',\n",
              " 'build',\n",
              " 'is',\n",
              " 'complet',\n",
              " 'which',\n",
              " 'abloh',\n",
              " 'say',\n",
              " 'piqu',\n",
              " 'my',\n",
              " 'interest',\n",
              " 'and',\n",
              " 'open',\n",
              " 'my',\n",
              " 'gateway',\n",
              " 'into',\n",
              " 'fashion']"
            ]
          },
          "execution_count": 18,
          "metadata": {},
          "output_type": "execute_result"
        }
      ],
      "source": [
        "# comprehension list pour mettre les mots dans une liste\n",
        "\n",
        "liste_mots_vogue = [stem_en.stem(word) for word in nltk.word_tokenize(delete_ponct)]\n",
        "liste_mots_vogue"
      ]
    },
    {
      "cell_type": "markdown",
      "metadata": {
        "id": "XRmnoAV8W9DU"
      },
      "source": [
        "### 2- puis utilise FreqDist."
      ]
    },
    {
      "cell_type": "code",
      "execution_count": null,
      "metadata": {
        "colab": {
          "base_uri": "https://localhost:8080/"
        },
        "id": "IEPh-EDfSg76",
        "outputId": "c3d03be0-4a2b-4774-80a1-129e60d8bcbf"
      },
      "outputs": [
        {
          "data": {
            "text/plain": [
              "FreqDist({'1998': 1,\n",
              "          '2015': 1,\n",
              "          '30': 1,\n",
              "          'a': 3,\n",
              "          'abloh': 6,\n",
              "          'after': 1,\n",
              "          'and': 5,\n",
              "          'architectur': 1,\n",
              "          'are': 1,\n",
              "          'at': 2,\n",
              "          'attend': 1,\n",
              "          'begin': 1,\n",
              "          'born': 1,\n",
              "          'boylan': 1,\n",
              "          'build': 1,\n",
              "          'by': 1,\n",
              "          'cathol': 1,\n",
              "          'chicago': 1,\n",
              "          'civil': 1,\n",
              "          'color': 1,\n",
              "          'commemor': 1,\n",
              "          'complet': 3,\n",
              "          'critiqu': 1,\n",
              "          'day': 1,\n",
              "          'degre': 2,\n",
              "          'design': 1,\n",
              "          'dure': 1,\n",
              "          'engin': 1,\n",
              "          'fashion': 1,\n",
              "          'final': 1,\n",
              "          'for': 1,\n",
              "          'from': 1,\n",
              "          'gateway': 1,\n",
              "          'ghanaian': 1,\n",
              "          'graduat': 2,\n",
              "          'green': 1,\n",
              "          'has': 1,\n",
              "          'he': 3,\n",
              "          'her': 1,\n",
              "          'high': 1,\n",
              "          'him': 1,\n",
              "          'his': 7,\n",
              "          'iit': 1,\n",
              "          'illinoi': 1,\n",
              "          'immigr': 1,\n",
              "          'in': 5,\n",
              "          'institut': 1,\n",
              "          'interest': 1,\n",
              "          'into': 1,\n",
              "          'is': 2,\n",
              "          'it': 1,\n",
              "          'john': 1,\n",
              "          'kany': 1,\n",
              "          'koolhaa': 1,\n",
              "          'master': 1,\n",
              "          'meet': 1,\n",
              "          'monopoli': 1,\n",
              "          'mother': 1,\n",
              "          'my': 2,\n",
              "          'nearbi': 1,\n",
              "          'of': 5,\n",
              "          'offici': 1,\n",
              "          'on': 2,\n",
              "          'open': 1,\n",
              "          'outsid': 1,\n",
              "          'parent': 1,\n",
              "          'piqu': 1,\n",
              "          'rais': 1,\n",
              "          'rem': 1,\n",
              "          'return': 1,\n",
              "          'rockford': 1,\n",
              "          'rumor': 1,\n",
              "          'say': 1,\n",
              "          'schooloffici': 1,\n",
              "          'seamstress': 1,\n",
              "          'septemb': 1,\n",
              "          'sister': 1,\n",
              "          'skip': 1,\n",
              "          'soon': 1,\n",
              "          'take': 1,\n",
              "          'teach': 1,\n",
              "          'technolog': 1,\n",
              "          'tee': 1,\n",
              "          'that': 1,\n",
              "          'the': 6,\n",
              "          'thenmanag': 1,\n",
              "          'time': 1,\n",
              "          'to': 2,\n",
              "          'togeth': 1,\n",
              "          'trade': 1,\n",
              "          'trick': 1,\n",
              "          'undergradu': 1,\n",
              "          'univers': 2,\n",
              "          'was': 1,\n",
              "          'west': 2,\n",
              "          'which': 1,\n",
              "          'whiteand': 1,\n",
              "          'wisconsinmadison': 1,\n",
              "          'with': 1,\n",
              "          'work': 1,\n",
              "          'would': 1})"
            ]
          },
          "execution_count": 19,
          "metadata": {},
          "output_type": "execute_result"
        }
      ],
      "source": [
        "#count \n",
        "dict_frequency3 = nltk.FreqDist(liste_mots_vogue)\n",
        "dict_frequency3\n"
      ]
    },
    {
      "cell_type": "markdown",
      "metadata": {
        "id": "QcVzF8ySW_Fa"
      },
      "source": [
        "### 3 - Le stemmer a-t-il permis de faire remonter des informations pertinentes en regroupant certains mots de même racine ?"
      ]
    },
    {
      "cell_type": "code",
      "execution_count": null,
      "metadata": {
        "colab": {
          "base_uri": "https://localhost:8080/",
          "height": 35
        },
        "id": "VpNoiNJrWRTE",
        "outputId": "d0607c89-b222-45cb-b866-ccfa1fd0a552"
      },
      "outputs": [
        {
          "data": {
            "application/vnd.google.colaboratory.intrinsic+json": {
              "type": "string"
            },
            "text/plain": [
              "\"En effet il a permis de regrouper certains mots comme 'completes' & 'completed' entre autres\""
            ]
          },
          "execution_count": 20,
          "metadata": {},
          "output_type": "execute_result"
        }
      ],
      "source": [
        "f\"En effet il a permis de regrouper certains mots comme 'completes' & 'completed' entre autres\""
      ]
    },
    {
      "cell_type": "markdown",
      "metadata": {
        "id": "dFggS50MaAdq"
      },
      "source": [
        "### 4 - A partir de ton texte déjà nettoyé, donc en minuscule, sans stopwords ni ponctuation, utilise un lemmatizer pour rendre le corpus de mots encore plus pertinent"
      ]
    },
    {
      "cell_type": "code",
      "execution_count": null,
      "metadata": {
        "id": "FZlPwMVtZ_lq"
      },
      "outputs": [],
      "source": [
        "import spacy\n",
        "# Import des règles anglaises\n",
        "nlp = spacy.load('en_core_web_sm')\n",
        "\n",
        "sentence_clean2 = delete_ponct\n"
      ]
    },
    {
      "cell_type": "code",
      "execution_count": null,
      "metadata": {
        "colab": {
          "base_uri": "https://localhost:8080/"
        },
        "id": "XTnBOMkDamNz",
        "outputId": "3c234034-07d0-4eaf-823e-7971adc017de"
      },
      "outputs": [
        {
          "data": {
            "text/plain": [
              "146"
            ]
          },
          "execution_count": 22,
          "metadata": {},
          "output_type": "execute_result"
        }
      ],
      "source": [
        "# spacy découpe automatiquement en tokens avec cette syntaxe :\n",
        "sent_tokens = nlp(sentence_clean2)\n",
        "\n",
        "liste_mots_vogue2 = []\n",
        "\n",
        "for token in sent_tokens: \n",
        "     liste_mots_vogue2.append(token.lemma_)\n",
        "     var = token, token.lemma_\n",
        "\n",
        "len(liste_mots_vogue2)"
      ]
    },
    {
      "cell_type": "markdown",
      "metadata": {
        "id": "PYR4SJDnaFqk"
      },
      "source": [
        "### 5 - Puis utilise FreqDist"
      ]
    },
    {
      "cell_type": "code",
      "execution_count": null,
      "metadata": {
        "colab": {
          "base_uri": "https://localhost:8080/"
        },
        "id": "IdXtC0f_aKAV",
        "outputId": "51826cf8-57ed-4bf5-ac17-e6682ec5a063"
      },
      "outputs": [
        {
          "data": {
            "text/plain": [
              "96"
            ]
          },
          "execution_count": 23,
          "metadata": {},
          "output_type": "execute_result"
        }
      ],
      "source": [
        "#count \n",
        "dict_frequency4 = nltk.FreqDist(liste_mots_vogue2)\n",
        "dict_frequency4\n",
        "len(dict_frequency4)"
      ]
    },
    {
      "cell_type": "markdown",
      "metadata": {
        "id": "B51Im2KUaKLs"
      },
      "source": [
        "### 6 - Le lemmatizer a-t-il permis de faire remonter des informations pertinentes en regroupant certains mots de même racine ?"
      ]
    },
    {
      "cell_type": "code",
      "execution_count": null,
      "metadata": {
        "colab": {
          "base_uri": "https://localhost:8080/",
          "height": 35
        },
        "id": "RQs-SPHka62a",
        "outputId": "7437676e-0f8b-4eb4-968b-5c063e96974c"
      },
      "outputs": [
        {
          "data": {
            "application/vnd.google.colaboratory.intrinsic+json": {
              "type": "string"
            },
            "text/plain": [
              "'Cette fonction a permis de rgrouper des mots par leur racine, nous passons de 146 mots à 96'"
            ]
          },
          "execution_count": 24,
          "metadata": {},
          "output_type": "execute_result"
        }
      ],
      "source": [
        "f\"Cette fonction a permis de rgrouper des mots par leur racine, nous passons de 146 mots à 96\""
      ]
    }
  ],
  "metadata": {
    "colab": {
      "collapsed_sections": [
        "epmLADLdSjlj",
        "IsI86qaDVdyE",
        "sR7OWKx2VUi0",
        "3l5MdpWKV1uM",
        "5aeQy24UV9EU",
        "4ljCX-EgWCed"
      ],
      "name": "NLP 2 - Stemming & Lemmatizing.ipynb",
      "provenance": []
    },
    "kernelspec": {
      "display_name": "Python 3",
      "name": "python3"
    },
    "language_info": {
      "name": "python"
    }
  },
  "nbformat": 4,
  "nbformat_minor": 0
}
