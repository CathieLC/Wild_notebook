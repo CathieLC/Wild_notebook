{
  "nbformat": 4,
  "nbformat_minor": 0,
  "metadata": {
    "colab": {
      "name": "Python - Expressions régulières (Regex).ipynb",
      "provenance": [],
      "collapsed_sections": [],
      "include_colab_link": true
    },
    "kernelspec": {
      "name": "python3",
      "display_name": "Python 3"
    },
    "language_info": {
      "name": "python"
    }
  },
  "cells": [
    {
      "cell_type": "markdown",
      "metadata": {
        "id": "view-in-github",
        "colab_type": "text"
      },
      "source": [
        "<a href=\"https://colab.research.google.com/github/CathieLC/Wild_notebook_2021-2022/blob/main/Regex.ipynb\" target=\"_parent\"><img src=\"https://colab.research.google.com/assets/colab-badge.svg\" alt=\"Open In Colab\"/></a>"
      ]
    },
    {
      "cell_type": "code",
      "source": [
        "import re\n"
      ],
      "metadata": {
        "id": "x_shcL9I3Rbz"
      },
      "execution_count": null,
      "outputs": []
    },
    {
      "cell_type": "markdown",
      "metadata": {
        "id": "HdEYWh631-Pk"
      },
      "source": [
        "##### Pour valider ce challenge, tu dois répondre aux questions ci-dessous en trouvant la Regex qui te permet d'obtenir le résultat attendu."
      ]
    },
    {
      "cell_type": "markdown",
      "metadata": {
        "id": "-hK3f5OA934q"
      },
      "source": [
        "Texte à utiliser pour ce challenge :\n",
        "\n",
        "\"Matrix (31/03/1999) - 130 minutes. IMDB note 9/10 (https://www.imdb.com/title/tt0133093). Thomas A. Anderson (Keanu Reeves), un jeune informaticien connu dans le monde du hacking sous le pseudonyme de Neo, est contacté via son ordinateur par ce qu’il pense être un groupe de hackers. Ils lui font découvrir que le monde dans lequel il vit n’est qu’un monde virtuel, la matrice, dans lequel les êtres humains sont gardés sous contrôle. Morpheus (Laurence Fishburne), le capitaine du Nebuchadnezzar, contacte Neo et pense que celui-ci est l’Élu qui peut libérer les êtres humains du joug des machines et prendre le contrôle de la matrice\""
      ]
    },
    {
      "cell_type": "markdown",
      "metadata": {
        "id": "7ypmXLUO9_3u"
      },
      "source": [
        "Copie le texte ci-dessus affecte le à une variable appelée 'texte'. Tu as vu quelques fonctions du module re dans la quête, et pour répondre aux questions ci-dessous, tu utiliseras la fonctions findall()"
      ]
    },
    {
      "cell_type": "code",
      "metadata": {
        "id": "aEshEWo_AlGo"
      },
      "source": [
        "texte = \"Matrix (31/03/1999) - 130 minutes. IMDB note 9/10 (https://www.imdb.com/title/tt0133093). Thomas A. Anderson (Keanu Reeves), un jeune informaticien connu dans le monde du hacking sous le pseudonyme de Neo, est contacté via son ordinateur par ce qu’il pense être un groupe de hackers. Ils lui font découvrir que le monde dans lequel il vit n’est qu’un monde virtuel, la matrice, dans lequel les êtres humains sont gardés sous contrôle. Morpheus (Laurence Fishburne), le capitaine du Nebuchadnezzar, contacte Neo et pense que celui-ci est l’Élu qui peut libérer les êtres humains du joug des machines et prendre le contrôle de la matrice\"\n"
      ],
      "execution_count": null,
      "outputs": []
    },
    {
      "cell_type": "code",
      "metadata": {
        "colab": {
          "base_uri": "https://localhost:8080/"
        },
        "id": "46a6Cna87K5R",
        "outputId": "59db5d4f-16be-4e07-eaba-8591fd17603b"
      },
      "source": [
        "# Exemple : je recherche toutes les suites de chiffres ('31', '03', '1999', '130', '9', '10', '0133093') contenues dans le texte\n",
        "\n",
        "re.findall('\\d+', texte)"
      ],
      "execution_count": null,
      "outputs": [
        {
          "output_type": "execute_result",
          "data": {
            "text/plain": [
              "['31', '03', '1999', '130', '9', '10', '0133093']"
            ]
          },
          "metadata": {},
          "execution_count": 4
        }
      ]
    },
    {
      "cell_type": "markdown",
      "metadata": {
        "id": "Y29t2o8G05fl"
      },
      "source": [
        "1. Trouve l'expression régulière qui cherche la seule occurrence du deuxième prénom de Néo (soit le A. de \"Thomas A. Anderson)."
      ]
    },
    {
      "cell_type": "code",
      "metadata": {
        "id": "NP2M31zXILjD",
        "colab": {
          "base_uri": "https://localhost:8080/",
          "height": 35
        },
        "outputId": "adafb42a-02ca-47ff-99a4-d7f9cfd70345"
      },
      "source": [
        "# search permet de renvoyer un objet s'il y a une occurence du motif dans le texte\n",
        "re.search(\"A.{1}\", texte).group()"
      ],
      "execution_count": null,
      "outputs": [
        {
          "output_type": "execute_result",
          "data": {
            "application/vnd.google.colaboratory.intrinsic+json": {
              "type": "string"
            },
            "text/plain": [
              "'A.'"
            ]
          },
          "metadata": {},
          "execution_count": 5
        }
      ]
    },
    {
      "cell_type": "markdown",
      "metadata": {
        "id": "u3WCnUokAjKH"
      },
      "source": [
        "2. Trouve l'expression régulière qui cherche la date contenue dans le document."
      ]
    },
    {
      "cell_type": "code",
      "metadata": {
        "id": "JMB8jDUqIM7-",
        "colab": {
          "base_uri": "https://localhost:8080/",
          "height": 35
        },
        "outputId": "3ba56048-d135-4fd3-e6b5-4279ed351a0d"
      },
      "source": [
        "# search pour une seule occurence et pultiple de \\d+ pour autant de chiffre qui compose mon nombre\n",
        "re.search(\"\\d\\d\\d\\d\", texte).group()\n"
      ],
      "execution_count": null,
      "outputs": [
        {
          "output_type": "execute_result",
          "data": {
            "application/vnd.google.colaboratory.intrinsic+json": {
              "type": "string"
            },
            "text/plain": [
              "'1999'"
            ]
          },
          "metadata": {},
          "execution_count": 6
        }
      ]
    },
    {
      "cell_type": "markdown",
      "metadata": {
        "id": "SrLTfLE-BTLG"
      },
      "source": [
        "3. Trouve l'expression qui cherche la note contenue dans le texte, sans pour autant sélectionner une partie de la date (tu peux t'aider du caractère espace avant la note)"
      ]
    },
    {
      "cell_type": "code",
      "metadata": {
        "id": "B45gxTdpIOEp",
        "colab": {
          "base_uri": "https://localhost:8080/",
          "height": 35
        },
        "outputId": "a4cbaa18-de58-4979-eef1-b5147871a520"
      },
      "source": [
        "re.search(' \\d/\\d\\d+', texte).group()"
      ],
      "execution_count": null,
      "outputs": [
        {
          "output_type": "execute_result",
          "data": {
            "application/vnd.google.colaboratory.intrinsic+json": {
              "type": "string"
            },
            "text/plain": [
              "' 9/10'"
            ]
          },
          "metadata": {},
          "execution_count": 7
        }
      ]
    },
    {
      "cell_type": "markdown",
      "metadata": {
        "id": "_aOfPMjhDtfe"
      },
      "source": [
        "4. Trouve l'expression régulière qui renvoie les mots ayant au moins 14 caractères (tu devrais trouver l'age du capitaine, à moins que ça ne soit son vaisseau !)"
      ]
    },
    {
      "cell_type": "code",
      "metadata": {
        "id": "iTl4CVwkIPEE",
        "colab": {
          "base_uri": "https://localhost:8080/"
        },
        "outputId": "d2e499b5-053f-4bdc-da5e-77c0bd07eab1"
      },
      "source": [
        "re.findall('\\w{14}', texte)\n"
      ],
      "execution_count": null,
      "outputs": [
        {
          "output_type": "execute_result",
          "data": {
            "text/plain": [
              "['Nebuchadnezzar']"
            ]
          },
          "metadata": {},
          "execution_count": 8
        }
      ]
    },
    {
      "cell_type": "markdown",
      "metadata": {
        "id": "UhC4JFKFEHig"
      },
      "source": [
        "5. Trouve l'expression régulière qui correspond à l'url de la fiche du film sur IMDB https://www.imdb.com/title/tt0133093 (attention à ne pas sélectionner les parenthèses)"
      ]
    },
    {
      "cell_type": "code",
      "metadata": {
        "id": "MrmyRNCbIQuM",
        "colab": {
          "base_uri": "https://localhost:8080/",
          "height": 35
        },
        "outputId": "c36afd1e-49de-4ccb-99ac-5dd28287b520"
      },
      "source": [
        "re.search('((http|https)\\:\\/\\/)?[a-zA-Z0-9\\.\\/\\?\\:@\\-_=#]+\\.([a-zA-Z]){2,6}([a-zA-Z0-9\\.\\&\\/\\?\\:@\\-_=#])*', texte).group()"
      ],
      "execution_count": null,
      "outputs": [
        {
          "output_type": "execute_result",
          "data": {
            "application/vnd.google.colaboratory.intrinsic+json": {
              "type": "string"
            },
            "text/plain": [
              "'https://www.imdb.com/title/tt0133093'"
            ]
          },
          "metadata": {},
          "execution_count": 9
        }
      ]
    },
    {
      "cell_type": "code",
      "source": [
        ""
      ],
      "metadata": {
        "id": "_TWWb5k5L3j4"
      },
      "execution_count": null,
      "outputs": []
    }
  ]
}