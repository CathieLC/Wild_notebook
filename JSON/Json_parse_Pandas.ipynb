{
 "cells": [
  {
   "cell_type": "code",
   "execution_count": 60,
   "metadata": {},
   "outputs": [],
   "source": [
    "import json\n",
    "import requests\n",
    "import pandas as pd\n",
    "from pandas.io.json import json_normalize"
   ]
  },
  {
   "cell_type": "code",
   "execution_count": 77,
   "metadata": {},
   "outputs": [
    {
     "data": {
      "text/plain": [
       "{'coord': {'lon': -0.13, 'lat': 51.51},\n",
       " 'weather': [{'id': 300,\n",
       "   'main': 'Drizzle',\n",
       "   'description': 'light intensity drizzle',\n",
       "   'icon': '09d'},\n",
       "  {'id': 800, 'main': 'Clear', 'description': 'clear sky', 'icon': '01n'}],\n",
       " 'base': 'stations',\n",
       " 'main': {'temp': 280.32,\n",
       "  'pressure': 1012,\n",
       "  'humidity': 81,\n",
       "  'temp_min': 279.15,\n",
       "  'temp_max': 281.15},\n",
       " 'visibility': 10000,\n",
       " 'wind': {'speed': 4.1, 'deg': 80},\n",
       " 'clouds': {'all': 90},\n",
       " 'dt': 1485789600,\n",
       " 'sys': {'type': 1,\n",
       "  'id': 5091,\n",
       "  'message': 0.0103,\n",
       "  'country': 'GB',\n",
       "  'sunrise': 1485762037,\n",
       "  'sunset': 1485794875},\n",
       " 'id': 2643743,\n",
       " 'name': 'London',\n",
       " 'cod': 200}"
      ]
     },
     "execution_count": 77,
     "metadata": {},
     "output_type": "execute_result"
    }
   ],
   "source": [
    "link = \"https://raw.githubusercontent.com/WildCodeSchool/java-jsonparse/master/weather.json\"\n",
    "\n",
    "# This function gets the file content from the URL\n",
    "r = requests.get(link)\n",
    "\n",
    "# You can access to the text content with this function\n",
    "r.text\n",
    "\n",
    "data = json.loads( r.text)\n",
    "data"
   ]
  },
  {
   "cell_type": "markdown",
   "metadata": {},
   "source": [
    "1 - Affiche la valeur de l'attribut name"
   ]
  },
  {
   "cell_type": "code",
   "execution_count": 27,
   "metadata": {},
   "outputs": [
    {
     "data": {
      "text/plain": [
       "'London'"
      ]
     },
     "execution_count": 27,
     "metadata": {},
     "output_type": "execute_result"
    }
   ],
   "source": [
    "name_attribut = data['name']\n",
    "name_attribut"
   ]
  },
  {
   "cell_type": "markdown",
   "metadata": {},
   "source": [
    "2 - # Affiche les valeurs des attributs lat et lon de l'élément coord contenu dans la racine"
   ]
  },
  {
   "cell_type": "code",
   "execution_count": 28,
   "metadata": {},
   "outputs": [
    {
     "name": "stdout",
     "output_type": "stream",
     "text": [
      "-0.13\n",
      "51.51\n"
     ]
    }
   ],
   "source": [
    "element_lon = data['coord']['lon']\n",
    "element_lat = data['coord']['lat']\n",
    "print(element_lon)\n",
    "print(element_lat)"
   ]
  },
  {
   "cell_type": "markdown",
   "metadata": {},
   "source": [
    "3 - Parcours tous les éléments dans weather et affiche le contenu de main (peut-être avec une boucle ?)"
   ]
  },
  {
   "cell_type": "code",
   "execution_count": 29,
   "metadata": {},
   "outputs": [
    {
     "data": {
      "text/plain": [
       "['Drizzle', 'Clear']"
      ]
     },
     "execution_count": 29,
     "metadata": {},
     "output_type": "execute_result"
    }
   ],
   "source": [
    "element_main = []\n",
    "\n",
    "for i in range(len(data['weather'])) :\n",
    "    element_main.append(data['weather'][i]['main'])\n",
    "\n",
    "element_main"
   ]
  },
  {
   "cell_type": "markdown",
   "metadata": {},
   "source": [
    "4 - Essaye maintenant d'importer ton fichier json dans pandas :"
   ]
  },
  {
   "cell_type": "code",
   "execution_count": 78,
   "metadata": {},
   "outputs": [
    {
     "name": "stdout",
     "output_type": "stream",
     "text": [
      "{'coord': {'lon': -0.13, 'lat': 51.51}, 'weather': [{'id': 300, 'main': 'Drizzle', 'description': 'light intensity drizzle', 'icon': '09d'}, {'id': 800, 'main': 'Clear', 'description': 'clear sky', 'icon': '01n'}], 'base': 'stations', 'main': {'temp': 280.32, 'pressure': 1012, 'humidity': 81, 'temp_min': 279.15, 'temp_max': 281.15}, 'visibility': 10000, 'wind': {'speed': 4.1, 'deg': 80}, 'clouds': {'all': 90}, 'dt': 1485789600, 'sys': {'type': 1, 'id': 5091, 'message': 0.0103, 'country': 'GB', 'sunrise': 1485762037, 'sunset': 1485794875}, 'id': 2643743, 'name': 'London', 'cod': 200}\n"
     ]
    },
    {
     "data": {
      "text/html": [
       "<div>\n",
       "<style scoped>\n",
       "    .dataframe tbody tr th:only-of-type {\n",
       "        vertical-align: middle;\n",
       "    }\n",
       "\n",
       "    .dataframe tbody tr th {\n",
       "        vertical-align: top;\n",
       "    }\n",
       "\n",
       "    .dataframe thead th {\n",
       "        text-align: right;\n",
       "    }\n",
       "</style>\n",
       "<table border=\"1\" class=\"dataframe\">\n",
       "  <thead>\n",
       "    <tr style=\"text-align: right;\">\n",
       "      <th></th>\n",
       "      <th>weather</th>\n",
       "      <th>base</th>\n",
       "      <th>visibility</th>\n",
       "      <th>dt</th>\n",
       "      <th>id</th>\n",
       "      <th>name</th>\n",
       "      <th>cod</th>\n",
       "      <th>coord.lon</th>\n",
       "      <th>coord.lat</th>\n",
       "      <th>main.temp</th>\n",
       "      <th>...</th>\n",
       "      <th>main.temp_max</th>\n",
       "      <th>wind.speed</th>\n",
       "      <th>wind.deg</th>\n",
       "      <th>clouds.all</th>\n",
       "      <th>sys.type</th>\n",
       "      <th>sys.id</th>\n",
       "      <th>sys.message</th>\n",
       "      <th>sys.country</th>\n",
       "      <th>sys.sunrise</th>\n",
       "      <th>sys.sunset</th>\n",
       "    </tr>\n",
       "  </thead>\n",
       "  <tbody>\n",
       "    <tr>\n",
       "      <th>0</th>\n",
       "      <td>[{'id': 300, 'main': 'Drizzle', 'description':...</td>\n",
       "      <td>stations</td>\n",
       "      <td>10000</td>\n",
       "      <td>1485789600</td>\n",
       "      <td>2643743</td>\n",
       "      <td>London</td>\n",
       "      <td>200</td>\n",
       "      <td>-0.13</td>\n",
       "      <td>51.51</td>\n",
       "      <td>280.32</td>\n",
       "      <td>...</td>\n",
       "      <td>281.15</td>\n",
       "      <td>4.1</td>\n",
       "      <td>80</td>\n",
       "      <td>90</td>\n",
       "      <td>1</td>\n",
       "      <td>5091</td>\n",
       "      <td>0.0103</td>\n",
       "      <td>GB</td>\n",
       "      <td>1485762037</td>\n",
       "      <td>1485794875</td>\n",
       "    </tr>\n",
       "  </tbody>\n",
       "</table>\n",
       "<p>1 rows × 23 columns</p>\n",
       "</div>"
      ],
      "text/plain": [
       "                                             weather      base  visibility  \\\n",
       "0  [{'id': 300, 'main': 'Drizzle', 'description':...  stations       10000   \n",
       "\n",
       "           dt       id    name  cod  coord.lon  coord.lat  main.temp  ...  \\\n",
       "0  1485789600  2643743  London  200      -0.13      51.51     280.32  ...   \n",
       "\n",
       "   main.temp_max  wind.speed  wind.deg  clouds.all  sys.type  sys.id  \\\n",
       "0         281.15         4.1        80          90         1    5091   \n",
       "\n",
       "   sys.message  sys.country  sys.sunrise  sys.sunset  \n",
       "0       0.0103           GB   1485762037  1485794875  \n",
       "\n",
       "[1 rows x 23 columns]"
      ]
     },
     "execution_count": 78,
     "metadata": {},
     "output_type": "execute_result"
    }
   ],
   "source": [
    "# You can directly read JSON from your request object\n",
    "print(r.json())\n",
    "\n",
    "# And you can import JSON object to pandas\n",
    "pd.json_normalize(r.json())"
   ]
  },
  {
   "cell_type": "markdown",
   "metadata": {},
   "source": [
    "Tu obtiens un DataFrame avec une seule ligne ? C'est normal, notre fichier JSON contient un premier niveau \"weather\". Nous allons indiquer à Pandas de descendre au niveau inférieur (ici dans l'enregistrement weather). Pour cela, nous utilisons le paramètre record_path. Nous pouvons aussi utiliser le paramètre meta pour indiquer de conserver des éléments d'un niveau supérieur:"
   ]
  },
  {
   "cell_type": "code",
   "execution_count": 79,
   "metadata": {},
   "outputs": [
    {
     "data": {
      "text/html": [
       "<div>\n",
       "<style scoped>\n",
       "    .dataframe tbody tr th:only-of-type {\n",
       "        vertical-align: middle;\n",
       "    }\n",
       "\n",
       "    .dataframe tbody tr th {\n",
       "        vertical-align: top;\n",
       "    }\n",
       "\n",
       "    .dataframe thead th {\n",
       "        text-align: right;\n",
       "    }\n",
       "</style>\n",
       "<table border=\"1\" class=\"dataframe\">\n",
       "  <thead>\n",
       "    <tr style=\"text-align: right;\">\n",
       "      <th></th>\n",
       "      <th>id</th>\n",
       "      <th>main</th>\n",
       "      <th>description</th>\n",
       "      <th>icon</th>\n",
       "      <th>dt</th>\n",
       "    </tr>\n",
       "  </thead>\n",
       "  <tbody>\n",
       "    <tr>\n",
       "      <th>0</th>\n",
       "      <td>300</td>\n",
       "      <td>Drizzle</td>\n",
       "      <td>light intensity drizzle</td>\n",
       "      <td>09d</td>\n",
       "      <td>1485789600</td>\n",
       "    </tr>\n",
       "    <tr>\n",
       "      <th>1</th>\n",
       "      <td>800</td>\n",
       "      <td>Clear</td>\n",
       "      <td>clear sky</td>\n",
       "      <td>01n</td>\n",
       "      <td>1485789600</td>\n",
       "    </tr>\n",
       "  </tbody>\n",
       "</table>\n",
       "</div>"
      ],
      "text/plain": [
       "    id     main              description icon          dt\n",
       "0  300  Drizzle  light intensity drizzle  09d  1485789600\n",
       "1  800    Clear                clear sky  01n  1485789600"
      ]
     },
     "execution_count": 79,
     "metadata": {},
     "output_type": "execute_result"
    }
   ],
   "source": [
    "pd.json_normalize(r.json(),  \n",
    "                  record_path= \"weather\",\n",
    "                  meta = 'dt')"
   ]
  },
  {
   "cell_type": "markdown",
   "metadata": {},
   "source": [
    "5 - Filtre maintenant ton DataFrame avec Pandas pour afficher uniquement les colonnes suivantes : main (celui qui est à l'intérieur de weather), name, and visibility.\n",
    "\n",
    "https://pandas.pydata.org/pandas-docs/version/1.1.3/reference/api/pandas.read_json.html\n",
    "https://pandas.pydata.org/pandas-docs/version/1.1.3/reference/api/pandas.json_normalize.html"
   ]
  },
  {
   "cell_type": "code",
   "execution_count": 107,
   "metadata": {},
   "outputs": [
    {
     "name": "stderr",
     "output_type": "stream",
     "text": [
      "C:\\Users\\cathe\\AppData\\Local\\Temp/ipykernel_7948/4229208477.py:1: FutureWarning: pandas.io.json.json_normalize is deprecated, use pandas.json_normalize instead\n",
      "  result = json_normalize(data, ['weather'], ['name', 'visibility'])\n"
     ]
    },
    {
     "data": {
      "text/html": [
       "<div>\n",
       "<style scoped>\n",
       "    .dataframe tbody tr th:only-of-type {\n",
       "        vertical-align: middle;\n",
       "    }\n",
       "\n",
       "    .dataframe tbody tr th {\n",
       "        vertical-align: top;\n",
       "    }\n",
       "\n",
       "    .dataframe thead th {\n",
       "        text-align: right;\n",
       "    }\n",
       "</style>\n",
       "<table border=\"1\" class=\"dataframe\">\n",
       "  <thead>\n",
       "    <tr style=\"text-align: right;\">\n",
       "      <th></th>\n",
       "      <th>main</th>\n",
       "      <th>name</th>\n",
       "      <th>visibility</th>\n",
       "    </tr>\n",
       "  </thead>\n",
       "  <tbody>\n",
       "    <tr>\n",
       "      <th>0</th>\n",
       "      <td>Drizzle</td>\n",
       "      <td>London</td>\n",
       "      <td>10000</td>\n",
       "    </tr>\n",
       "    <tr>\n",
       "      <th>1</th>\n",
       "      <td>Clear</td>\n",
       "      <td>London</td>\n",
       "      <td>10000</td>\n",
       "    </tr>\n",
       "  </tbody>\n",
       "</table>\n",
       "</div>"
      ],
      "text/plain": [
       "      main    name visibility\n",
       "0  Drizzle  London      10000\n",
       "1    Clear  London      10000"
      ]
     },
     "execution_count": 107,
     "metadata": {},
     "output_type": "execute_result"
    }
   ],
   "source": [
    "result = json_normalize(data, ['weather'], ['name', 'visibility'])\n",
    "result = result[['main', 'name', 'visibility']]\n",
    "result"
   ]
  }
 ],
 "metadata": {
  "interpreter": {
   "hash": "4544d665ae83a938e78316550df4048c4b5eacadf9e9ff52d5a508ec23c5226a"
  },
  "kernelspec": {
   "display_name": "Python 3.8.12 64-bit ('base': conda)",
   "language": "python",
   "name": "python3"
  },
  "language_info": {
   "codemirror_mode": {
    "name": "ipython",
    "version": 3
   },
   "file_extension": ".py",
   "mimetype": "text/x-python",
   "name": "python",
   "nbconvert_exporter": "python",
   "pygments_lexer": "ipython3",
   "version": "3.8.12"
  },
  "orig_nbformat": 4
 },
 "nbformat": 4,
 "nbformat_minor": 2
}
