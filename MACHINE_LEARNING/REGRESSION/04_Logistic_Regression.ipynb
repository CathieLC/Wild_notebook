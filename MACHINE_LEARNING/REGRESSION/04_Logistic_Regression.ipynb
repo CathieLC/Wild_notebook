{
  "cells": [
    {
      "cell_type": "markdown",
      "metadata": {
        "colab_type": "text",
        "id": "view-in-github"
      },
      "source": [
        "<a href=\"https://colab.research.google.com/github/CathieLC/Wild_notebook_2021-2022/blob/main/2_Logistic_Regression.ipynb\" target=\"_parent\"><img src=\"https://colab.research.google.com/assets/colab-badge.svg\" alt=\"Open In Colab\"/></a>"
      ]
    },
    {
      "cell_type": "markdown",
      "metadata": {
        "id": "1Ap1mtkdiXwS"
      },
      "source": [
        "# Execute the code below\n",
        "You will get a passenger list of the titanic."
      ]
    },
    {
      "cell_type": "code",
      "execution_count": 1,
      "metadata": {
        "colab": {
          "base_uri": "https://localhost:8080/",
          "height": 206
        },
        "id": "53zP-4uyicEu",
        "outputId": "31ccd37f-643b-48fc-828d-c001ec55ca55"
      },
      "outputs": [
        {
          "data": {
            "text/html": [
              "<div>\n",
              "<style scoped>\n",
              "    .dataframe tbody tr th:only-of-type {\n",
              "        vertical-align: middle;\n",
              "    }\n",
              "\n",
              "    .dataframe tbody tr th {\n",
              "        vertical-align: top;\n",
              "    }\n",
              "\n",
              "    .dataframe thead th {\n",
              "        text-align: right;\n",
              "    }\n",
              "</style>\n",
              "<table border=\"1\" class=\"dataframe\">\n",
              "  <thead>\n",
              "    <tr style=\"text-align: right;\">\n",
              "      <th></th>\n",
              "      <th>Survived</th>\n",
              "      <th>Pclass</th>\n",
              "      <th>Name</th>\n",
              "      <th>Sex</th>\n",
              "      <th>Age</th>\n",
              "      <th>Siblings/Spouses Aboard</th>\n",
              "      <th>Parents/Children Aboard</th>\n",
              "      <th>Fare</th>\n",
              "    </tr>\n",
              "  </thead>\n",
              "  <tbody>\n",
              "    <tr>\n",
              "      <th>111</th>\n",
              "      <td>Dead</td>\n",
              "      <td>3</td>\n",
              "      <td>Mr. David John Barton</td>\n",
              "      <td>male</td>\n",
              "      <td>22.0</td>\n",
              "      <td>0</td>\n",
              "      <td>0</td>\n",
              "      <td>8.0500</td>\n",
              "    </tr>\n",
              "    <tr>\n",
              "      <th>36</th>\n",
              "      <td>Survived</td>\n",
              "      <td>3</td>\n",
              "      <td>Mr. Hanna Mamee</td>\n",
              "      <td>male</td>\n",
              "      <td>18.0</td>\n",
              "      <td>0</td>\n",
              "      <td>0</td>\n",
              "      <td>7.2292</td>\n",
              "    </tr>\n",
              "    <tr>\n",
              "      <th>279</th>\n",
              "      <td>Dead</td>\n",
              "      <td>3</td>\n",
              "      <td>Mr. Nils Johan Goransson Olsson</td>\n",
              "      <td>male</td>\n",
              "      <td>28.0</td>\n",
              "      <td>0</td>\n",
              "      <td>0</td>\n",
              "      <td>7.8542</td>\n",
              "    </tr>\n",
              "    <tr>\n",
              "      <th>870</th>\n",
              "      <td>Survived</td>\n",
              "      <td>2</td>\n",
              "      <td>Mrs. Samuel (Hannah Wizosky) Abelson</td>\n",
              "      <td>female</td>\n",
              "      <td>28.0</td>\n",
              "      <td>1</td>\n",
              "      <td>0</td>\n",
              "      <td>24.0000</td>\n",
              "    </tr>\n",
              "    <tr>\n",
              "      <th>609</th>\n",
              "      <td>Survived</td>\n",
              "      <td>3</td>\n",
              "      <td>Miss. Margaret Jane Murphy</td>\n",
              "      <td>female</td>\n",
              "      <td>18.0</td>\n",
              "      <td>1</td>\n",
              "      <td>0</td>\n",
              "      <td>15.5000</td>\n",
              "    </tr>\n",
              "  </tbody>\n",
              "</table>\n",
              "</div>"
            ],
            "text/plain": [
              "     Survived  Pclass                                  Name     Sex   Age  \\\n",
              "111      Dead       3                 Mr. David John Barton    male  22.0   \n",
              "36   Survived       3                       Mr. Hanna Mamee    male  18.0   \n",
              "279      Dead       3       Mr. Nils Johan Goransson Olsson    male  28.0   \n",
              "870  Survived       2  Mrs. Samuel (Hannah Wizosky) Abelson  female  28.0   \n",
              "609  Survived       3            Miss. Margaret Jane Murphy  female  18.0   \n",
              "\n",
              "     Siblings/Spouses Aboard  Parents/Children Aboard     Fare  \n",
              "111                        0                        0   8.0500  \n",
              "36                         0                        0   7.2292  \n",
              "279                        0                        0   7.8542  \n",
              "870                        1                        0  24.0000  \n",
              "609                        1                        0  15.5000  "
            ]
          },
          "execution_count": 1,
          "metadata": {},
          "output_type": "execute_result"
        }
      ],
      "source": [
        "import pandas as pd\n",
        "import numpy as np\n",
        "\n",
        "from sklearn.model_selection import train_test_split\n",
        "from sklearn.linear_model import LogisticRegression\n",
        "from sklearn.metrics import confusion_matrix\n",
        "\n",
        "import matplotlib.pyplot as plt\n",
        "import seaborn as sns\n",
        "import plotly.express as px \n",
        "import plotly.graph_objects as go \n",
        "\n",
        "\n",
        "link = \"https://raw.githubusercontent.com/murpi/wilddata/master/quests/titanic.csv\"\n",
        "df_titanic = pd.read_csv(link)\n",
        "df_titanic['Survived'] = df_titanic['Survived'].apply(lambda x: \"Survived\" if x == 1 else \"Dead\")\n",
        "df_titanic.sample(5)"
      ]
    },
    {
      "cell_type": "markdown",
      "metadata": {
        "id": "wPKc4UTfjM7t"
      },
      "source": [
        "# Data preparation"
      ]
    },
    {
      "cell_type": "code",
      "execution_count": 2,
      "metadata": {
        "colab": {
          "base_uri": "https://localhost:8080/",
          "height": 206
        },
        "id": "tGZUAsCyQTW7",
        "outputId": "adc7618e-7bfe-46eb-8172-8f19ad9d813f"
      },
      "outputs": [
        {
          "data": {
            "text/html": [
              "<div>\n",
              "<style scoped>\n",
              "    .dataframe tbody tr th:only-of-type {\n",
              "        vertical-align: middle;\n",
              "    }\n",
              "\n",
              "    .dataframe tbody tr th {\n",
              "        vertical-align: top;\n",
              "    }\n",
              "\n",
              "    .dataframe thead th {\n",
              "        text-align: right;\n",
              "    }\n",
              "</style>\n",
              "<table border=\"1\" class=\"dataframe\">\n",
              "  <thead>\n",
              "    <tr style=\"text-align: right;\">\n",
              "      <th></th>\n",
              "      <th>Name</th>\n",
              "      <th>Sex</th>\n",
              "      <th>Age</th>\n",
              "      <th>Fare</th>\n",
              "      <th>Survived</th>\n",
              "      <th>Pclass</th>\n",
              "      <th>Siblings/Spouses Aboard</th>\n",
              "      <th>Parents/Children Aboard</th>\n",
              "    </tr>\n",
              "  </thead>\n",
              "  <tbody>\n",
              "    <tr>\n",
              "      <th>351</th>\n",
              "      <td>Mr. Josef Arnold-Franchi</td>\n",
              "      <td>male</td>\n",
              "      <td>25.0</td>\n",
              "      <td>17.8000</td>\n",
              "      <td>Dead</td>\n",
              "      <td>3</td>\n",
              "      <td>1</td>\n",
              "      <td>0</td>\n",
              "    </tr>\n",
              "    <tr>\n",
              "      <th>810</th>\n",
              "      <td>Mr. Ernest Portage Tomlin</td>\n",
              "      <td>male</td>\n",
              "      <td>30.5</td>\n",
              "      <td>8.0500</td>\n",
              "      <td>Dead</td>\n",
              "      <td>3</td>\n",
              "      <td>0</td>\n",
              "      <td>0</td>\n",
              "    </tr>\n",
              "    <tr>\n",
              "      <th>793</th>\n",
              "      <td>Mrs. Mara Osman</td>\n",
              "      <td>female</td>\n",
              "      <td>31.0</td>\n",
              "      <td>8.6833</td>\n",
              "      <td>Survived</td>\n",
              "      <td>3</td>\n",
              "      <td>0</td>\n",
              "      <td>0</td>\n",
              "    </tr>\n",
              "    <tr>\n",
              "      <th>638</th>\n",
              "      <td>Mlle. Emma Sagesser</td>\n",
              "      <td>female</td>\n",
              "      <td>24.0</td>\n",
              "      <td>69.3000</td>\n",
              "      <td>Survived</td>\n",
              "      <td>1</td>\n",
              "      <td>0</td>\n",
              "      <td>0</td>\n",
              "    </tr>\n",
              "    <tr>\n",
              "      <th>568</th>\n",
              "      <td>Mrs. Edward Dale (Charlotte Lamson) Appleton</td>\n",
              "      <td>female</td>\n",
              "      <td>53.0</td>\n",
              "      <td>51.4792</td>\n",
              "      <td>Survived</td>\n",
              "      <td>1</td>\n",
              "      <td>2</td>\n",
              "      <td>0</td>\n",
              "    </tr>\n",
              "  </tbody>\n",
              "</table>\n",
              "</div>"
            ],
            "text/plain": [
              "                                             Name     Sex   Age     Fare  \\\n",
              "351                      Mr. Josef Arnold-Franchi    male  25.0  17.8000   \n",
              "810                     Mr. Ernest Portage Tomlin    male  30.5   8.0500   \n",
              "793                               Mrs. Mara Osman  female  31.0   8.6833   \n",
              "638                           Mlle. Emma Sagesser  female  24.0  69.3000   \n",
              "568  Mrs. Edward Dale (Charlotte Lamson) Appleton  female  53.0  51.4792   \n",
              "\n",
              "     Survived  Pclass  Siblings/Spouses Aboard  Parents/Children Aboard  \n",
              "351      Dead       3                        1                        0  \n",
              "810      Dead       3                        0                        0  \n",
              "793  Survived       3                        0                        0  \n",
              "638  Survived       1                        0                        0  \n",
              "568  Survived       1                        2                        0  "
            ]
          },
          "execution_count": 2,
          "metadata": {},
          "output_type": "execute_result"
        }
      ],
      "source": [
        "#change order columns\n",
        "\n",
        "df_titanic = df_titanic[[\"Name\", \"Sex\", \"Age\", \"Fare\", \"Survived\",\"Pclass\",\"Siblings/Spouses Aboard\", \"Parents/Children Aboard\"]]\n",
        "df_titanic.sample(5)"
      ]
    },
    {
      "cell_type": "code",
      "execution_count": 3,
      "metadata": {
        "id": "rJWeB3paM3Sy"
      },
      "outputs": [],
      "source": [
        "df_titanic = df_titanic.astype({'Age': int})\n",
        "df_titanic['Fare'] = df_titanic['Fare'].round(2)"
      ]
    },
    {
      "cell_type": "code",
      "execution_count": 4,
      "metadata": {
        "colab": {
          "base_uri": "https://localhost:8080/",
          "height": 206
        },
        "id": "ieI3GgqTOcHn",
        "outputId": "80c28e23-f70a-4d9d-bb4d-aa5172710bfd"
      },
      "outputs": [
        {
          "data": {
            "text/html": [
              "<div>\n",
              "<style scoped>\n",
              "    .dataframe tbody tr th:only-of-type {\n",
              "        vertical-align: middle;\n",
              "    }\n",
              "\n",
              "    .dataframe tbody tr th {\n",
              "        vertical-align: top;\n",
              "    }\n",
              "\n",
              "    .dataframe thead th {\n",
              "        text-align: right;\n",
              "    }\n",
              "</style>\n",
              "<table border=\"1\" class=\"dataframe\">\n",
              "  <thead>\n",
              "    <tr style=\"text-align: right;\">\n",
              "      <th></th>\n",
              "      <th>Name</th>\n",
              "      <th>Sex</th>\n",
              "      <th>Age</th>\n",
              "      <th>Fare</th>\n",
              "      <th>Survived</th>\n",
              "      <th>Pclass</th>\n",
              "      <th>Siblings/Spouses Aboard</th>\n",
              "      <th>Parents/Children Aboard</th>\n",
              "    </tr>\n",
              "  </thead>\n",
              "  <tbody>\n",
              "    <tr>\n",
              "      <th>0</th>\n",
              "      <td>Mr. Owen Harris Braund</td>\n",
              "      <td>male</td>\n",
              "      <td>22</td>\n",
              "      <td>7.25</td>\n",
              "      <td>Dead</td>\n",
              "      <td>3</td>\n",
              "      <td>1</td>\n",
              "      <td>0</td>\n",
              "    </tr>\n",
              "    <tr>\n",
              "      <th>1</th>\n",
              "      <td>Mrs. John Bradley (Florence Briggs Thayer) Cum...</td>\n",
              "      <td>female</td>\n",
              "      <td>38</td>\n",
              "      <td>71.28</td>\n",
              "      <td>Survived</td>\n",
              "      <td>1</td>\n",
              "      <td>1</td>\n",
              "      <td>0</td>\n",
              "    </tr>\n",
              "    <tr>\n",
              "      <th>2</th>\n",
              "      <td>Miss. Laina Heikkinen</td>\n",
              "      <td>female</td>\n",
              "      <td>26</td>\n",
              "      <td>7.92</td>\n",
              "      <td>Survived</td>\n",
              "      <td>3</td>\n",
              "      <td>0</td>\n",
              "      <td>0</td>\n",
              "    </tr>\n",
              "    <tr>\n",
              "      <th>3</th>\n",
              "      <td>Mrs. Jacques Heath (Lily May Peel) Futrelle</td>\n",
              "      <td>female</td>\n",
              "      <td>35</td>\n",
              "      <td>53.10</td>\n",
              "      <td>Survived</td>\n",
              "      <td>1</td>\n",
              "      <td>1</td>\n",
              "      <td>0</td>\n",
              "    </tr>\n",
              "    <tr>\n",
              "      <th>4</th>\n",
              "      <td>Mr. William Henry Allen</td>\n",
              "      <td>male</td>\n",
              "      <td>35</td>\n",
              "      <td>8.05</td>\n",
              "      <td>Dead</td>\n",
              "      <td>3</td>\n",
              "      <td>0</td>\n",
              "      <td>0</td>\n",
              "    </tr>\n",
              "  </tbody>\n",
              "</table>\n",
              "</div>"
            ],
            "text/plain": [
              "                                                Name     Sex  Age   Fare  \\\n",
              "0                             Mr. Owen Harris Braund    male   22   7.25   \n",
              "1  Mrs. John Bradley (Florence Briggs Thayer) Cum...  female   38  71.28   \n",
              "2                              Miss. Laina Heikkinen  female   26   7.92   \n",
              "3        Mrs. Jacques Heath (Lily May Peel) Futrelle  female   35  53.10   \n",
              "4                            Mr. William Henry Allen    male   35   8.05   \n",
              "\n",
              "   Survived  Pclass  Siblings/Spouses Aboard  Parents/Children Aboard  \n",
              "0      Dead       3                        1                        0  \n",
              "1  Survived       1                        1                        0  \n",
              "2  Survived       3                        0                        0  \n",
              "3  Survived       1                        1                        0  \n",
              "4      Dead       3                        0                        0  "
            ]
          },
          "execution_count": 4,
          "metadata": {},
          "output_type": "execute_result"
        }
      ],
      "source": [
        "df_titanic.head()"
      ]
    },
    {
      "cell_type": "code",
      "execution_count": 5,
      "metadata": {
        "colab": {
          "base_uri": "https://localhost:8080/"
        },
        "id": "-x2YlxTySEGE",
        "outputId": "efaca5be-64b7-437c-e9c5-9322bbb5684d"
      },
      "outputs": [
        {
          "data": {
            "text/plain": [
              "False"
            ]
          },
          "execution_count": 5,
          "metadata": {},
          "output_type": "execute_result"
        }
      ],
      "source": [
        "# checkg df_titanic if isnull values\n",
        "df_titanic.isnull().values.any()"
      ]
    },
    {
      "cell_type": "code",
      "execution_count": 6,
      "metadata": {
        "colab": {
          "base_uri": "https://localhost:8080/"
        },
        "id": "d3IKUbfTUh7B",
        "outputId": "e718aed3-ff66-4fed-9e61-bb94752dd536"
      },
      "outputs": [
        {
          "data": {
            "text/plain": [
              "Name                       0\n",
              "Sex                        0\n",
              "Age                        0\n",
              "Fare                       0\n",
              "Survived                   0\n",
              "Pclass                     0\n",
              "Siblings/Spouses Aboard    0\n",
              "Parents/Children Aboard    0\n",
              "dtype: int64"
            ]
          },
          "execution_count": 6,
          "metadata": {},
          "output_type": "execute_result"
        }
      ],
      "source": [
        "# An other function to Search null value\n",
        "df_titanic.isna().sum()"
      ]
    },
    {
      "cell_type": "code",
      "execution_count": 7,
      "metadata": {
        "colab": {
          "base_uri": "https://localhost:8080/"
        },
        "id": "Es9vkMQ2OGGV",
        "outputId": "16580458-f2b9-438e-f7b2-a03794b0f25a"
      },
      "outputs": [
        {
          "data": {
            "text/plain": [
              "887"
            ]
          },
          "execution_count": 7,
          "metadata": {},
          "output_type": "execute_result"
        }
      ],
      "source": [
        "len(df_titanic['Name'])"
      ]
    },
    {
      "cell_type": "code",
      "execution_count": 8,
      "metadata": {
        "id": "nO9eHPctSgJt"
      },
      "outputs": [],
      "source": [
        "#create a loop for cleaning base with replace title of persons\n",
        "\n",
        "##for last exercice, I need title of person\n",
        "\n",
        "#for i in range(len(df_titanic['Name'])):\n",
        "    #df_titanic['Name'][i] = df_titanic['Name'][i].replace(\"Mr.\", \"\").replace(\"Mrs.\", \"\").replace(\"Miss.\", '').replace(\"Rev.\",\"\").replace(\"Major.\", \"\").replace(\"Dr.\", \"\")"
      ]
    },
    {
      "cell_type": "code",
      "execution_count": 9,
      "metadata": {
        "colab": {
          "base_uri": "https://localhost:8080/",
          "height": 206
        },
        "id": "Qu22_v3QTAbO",
        "outputId": "de5383b3-8d96-409f-e4f4-c4b5f5b7bb89"
      },
      "outputs": [
        {
          "data": {
            "text/html": [
              "<div>\n",
              "<style scoped>\n",
              "    .dataframe tbody tr th:only-of-type {\n",
              "        vertical-align: middle;\n",
              "    }\n",
              "\n",
              "    .dataframe tbody tr th {\n",
              "        vertical-align: top;\n",
              "    }\n",
              "\n",
              "    .dataframe thead th {\n",
              "        text-align: right;\n",
              "    }\n",
              "</style>\n",
              "<table border=\"1\" class=\"dataframe\">\n",
              "  <thead>\n",
              "    <tr style=\"text-align: right;\">\n",
              "      <th></th>\n",
              "      <th>Name</th>\n",
              "      <th>Sex</th>\n",
              "      <th>Age</th>\n",
              "      <th>Fare</th>\n",
              "      <th>Survived</th>\n",
              "      <th>Pclass</th>\n",
              "      <th>Siblings/Spouses Aboard</th>\n",
              "      <th>Parents/Children Aboard</th>\n",
              "    </tr>\n",
              "  </thead>\n",
              "  <tbody>\n",
              "    <tr>\n",
              "      <th>520</th>\n",
              "      <td>Mrs. Louis Albert (Ida Sophia Fischer) Hippach</td>\n",
              "      <td>female</td>\n",
              "      <td>44</td>\n",
              "      <td>57.98</td>\n",
              "      <td>Survived</td>\n",
              "      <td>1</td>\n",
              "      <td>0</td>\n",
              "      <td>1</td>\n",
              "    </tr>\n",
              "    <tr>\n",
              "      <th>458</th>\n",
              "      <td>Mr. William Morley</td>\n",
              "      <td>male</td>\n",
              "      <td>34</td>\n",
              "      <td>8.05</td>\n",
              "      <td>Dead</td>\n",
              "      <td>3</td>\n",
              "      <td>0</td>\n",
              "      <td>0</td>\n",
              "    </tr>\n",
              "    <tr>\n",
              "      <th>65</th>\n",
              "      <td>Mrs. (Elizabeth Ramell) Nye</td>\n",
              "      <td>female</td>\n",
              "      <td>29</td>\n",
              "      <td>10.50</td>\n",
              "      <td>Survived</td>\n",
              "      <td>2</td>\n",
              "      <td>0</td>\n",
              "      <td>0</td>\n",
              "    </tr>\n",
              "    <tr>\n",
              "      <th>748</th>\n",
              "      <td>Mr. Johannes Joseph Vande Velde</td>\n",
              "      <td>male</td>\n",
              "      <td>33</td>\n",
              "      <td>9.50</td>\n",
              "      <td>Dead</td>\n",
              "      <td>3</td>\n",
              "      <td>0</td>\n",
              "      <td>0</td>\n",
              "    </tr>\n",
              "    <tr>\n",
              "      <th>757</th>\n",
              "      <td>Mr. Iisakki Antino Aijo Nirva</td>\n",
              "      <td>male</td>\n",
              "      <td>41</td>\n",
              "      <td>7.12</td>\n",
              "      <td>Dead</td>\n",
              "      <td>3</td>\n",
              "      <td>0</td>\n",
              "      <td>0</td>\n",
              "    </tr>\n",
              "  </tbody>\n",
              "</table>\n",
              "</div>"
            ],
            "text/plain": [
              "                                               Name     Sex  Age   Fare  \\\n",
              "520  Mrs. Louis Albert (Ida Sophia Fischer) Hippach  female   44  57.98   \n",
              "458                              Mr. William Morley    male   34   8.05   \n",
              "65                      Mrs. (Elizabeth Ramell) Nye  female   29  10.50   \n",
              "748                 Mr. Johannes Joseph Vande Velde    male   33   9.50   \n",
              "757                   Mr. Iisakki Antino Aijo Nirva    male   41   7.12   \n",
              "\n",
              "     Survived  Pclass  Siblings/Spouses Aboard  Parents/Children Aboard  \n",
              "520  Survived       1                        0                        1  \n",
              "458      Dead       3                        0                        0  \n",
              "65   Survived       2                        0                        0  \n",
              "748      Dead       3                        0                        0  \n",
              "757      Dead       3                        0                        0  "
            ]
          },
          "execution_count": 9,
          "metadata": {},
          "output_type": "execute_result"
        }
      ],
      "source": [
        "# check\n",
        "df_titanic.sample(5)"
      ]
    },
    {
      "cell_type": "code",
      "execution_count": 10,
      "metadata": {
        "id": "YAwx0PakQ5tf"
      },
      "outputs": [],
      "source": [
        "# filter by category survived or dead\n",
        "\n",
        "df_titanic_survived = df_titanic.loc[(df_titanic['Survived']=='Survived')]\n",
        "df_titanic_dead = df_titanic.loc[(df_titanic['Survived']=='Dead')]"
      ]
    },
    {
      "cell_type": "code",
      "execution_count": 11,
      "metadata": {
        "colab": {
          "base_uri": "https://localhost:8080/",
          "height": 112
        },
        "id": "ciKsoD1ERoW_",
        "outputId": "89e80e64-b086-4b01-d5c6-21171c194b26"
      },
      "outputs": [
        {
          "data": {
            "text/html": [
              "<div>\n",
              "<style scoped>\n",
              "    .dataframe tbody tr th:only-of-type {\n",
              "        vertical-align: middle;\n",
              "    }\n",
              "\n",
              "    .dataframe tbody tr th {\n",
              "        vertical-align: top;\n",
              "    }\n",
              "\n",
              "    .dataframe thead th {\n",
              "        text-align: right;\n",
              "    }\n",
              "</style>\n",
              "<table border=\"1\" class=\"dataframe\">\n",
              "  <thead>\n",
              "    <tr style=\"text-align: right;\">\n",
              "      <th></th>\n",
              "      <th>Name</th>\n",
              "      <th>Sex</th>\n",
              "      <th>Age</th>\n",
              "      <th>Fare</th>\n",
              "      <th>Survived</th>\n",
              "      <th>Pclass</th>\n",
              "      <th>Siblings/Spouses Aboard</th>\n",
              "      <th>Parents/Children Aboard</th>\n",
              "    </tr>\n",
              "  </thead>\n",
              "  <tbody>\n",
              "    <tr>\n",
              "      <th>292</th>\n",
              "      <td>Mr. Ivan Mineff</td>\n",
              "      <td>male</td>\n",
              "      <td>24</td>\n",
              "      <td>7.90</td>\n",
              "      <td>Dead</td>\n",
              "      <td>3</td>\n",
              "      <td>0</td>\n",
              "      <td>0</td>\n",
              "    </tr>\n",
              "    <tr>\n",
              "      <th>110</th>\n",
              "      <td>Miss. Hileni Zabour</td>\n",
              "      <td>female</td>\n",
              "      <td>14</td>\n",
              "      <td>14.45</td>\n",
              "      <td>Dead</td>\n",
              "      <td>3</td>\n",
              "      <td>1</td>\n",
              "      <td>0</td>\n",
              "    </tr>\n",
              "  </tbody>\n",
              "</table>\n",
              "</div>"
            ],
            "text/plain": [
              "                    Name     Sex  Age   Fare Survived  Pclass  \\\n",
              "292      Mr. Ivan Mineff    male   24   7.90     Dead       3   \n",
              "110  Miss. Hileni Zabour  female   14  14.45     Dead       3   \n",
              "\n",
              "     Siblings/Spouses Aboard  Parents/Children Aboard  \n",
              "292                        0                        0  \n",
              "110                        1                        0  "
            ]
          },
          "execution_count": 11,
          "metadata": {},
          "output_type": "execute_result"
        }
      ],
      "source": [
        "df_titanic_dead.sample(2)"
      ]
    },
    {
      "cell_type": "code",
      "execution_count": 12,
      "metadata": {
        "colab": {
          "base_uri": "https://localhost:8080/",
          "height": 112
        },
        "id": "BXXx3pDLRx1a",
        "outputId": "694d555f-9404-4a28-d96a-ff2ad32444e8"
      },
      "outputs": [
        {
          "data": {
            "text/html": [
              "<div>\n",
              "<style scoped>\n",
              "    .dataframe tbody tr th:only-of-type {\n",
              "        vertical-align: middle;\n",
              "    }\n",
              "\n",
              "    .dataframe tbody tr th {\n",
              "        vertical-align: top;\n",
              "    }\n",
              "\n",
              "    .dataframe thead th {\n",
              "        text-align: right;\n",
              "    }\n",
              "</style>\n",
              "<table border=\"1\" class=\"dataframe\">\n",
              "  <thead>\n",
              "    <tr style=\"text-align: right;\">\n",
              "      <th></th>\n",
              "      <th>Name</th>\n",
              "      <th>Sex</th>\n",
              "      <th>Age</th>\n",
              "      <th>Fare</th>\n",
              "      <th>Survived</th>\n",
              "      <th>Pclass</th>\n",
              "      <th>Siblings/Spouses Aboard</th>\n",
              "      <th>Parents/Children Aboard</th>\n",
              "    </tr>\n",
              "  </thead>\n",
              "  <tbody>\n",
              "    <tr>\n",
              "      <th>440</th>\n",
              "      <td>Ms. Encarnacion Reynaldo</td>\n",
              "      <td>female</td>\n",
              "      <td>28</td>\n",
              "      <td>13.00</td>\n",
              "      <td>Survived</td>\n",
              "      <td>2</td>\n",
              "      <td>0</td>\n",
              "      <td>0</td>\n",
              "    </tr>\n",
              "    <tr>\n",
              "      <th>694</th>\n",
              "      <td>Miss. Katherine Mullens</td>\n",
              "      <td>female</td>\n",
              "      <td>19</td>\n",
              "      <td>7.73</td>\n",
              "      <td>Survived</td>\n",
              "      <td>3</td>\n",
              "      <td>0</td>\n",
              "      <td>0</td>\n",
              "    </tr>\n",
              "  </tbody>\n",
              "</table>\n",
              "</div>"
            ],
            "text/plain": [
              "                         Name     Sex  Age   Fare  Survived  Pclass  \\\n",
              "440  Ms. Encarnacion Reynaldo  female   28  13.00  Survived       2   \n",
              "694   Miss. Katherine Mullens  female   19   7.73  Survived       3   \n",
              "\n",
              "     Siblings/Spouses Aboard  Parents/Children Aboard  \n",
              "440                        0                        0  \n",
              "694                        0                        0  "
            ]
          },
          "execution_count": 12,
          "metadata": {},
          "output_type": "execute_result"
        }
      ],
      "source": [
        "df_titanic_survived.sample(2)"
      ]
    },
    {
      "cell_type": "markdown",
      "metadata": {
        "id": "ew_BixpIjRl1"
      },
      "source": [
        "What are the \"type\" of each column? Are there non-numeric columns? "
      ]
    },
    {
      "cell_type": "code",
      "execution_count": 13,
      "metadata": {
        "colab": {
          "base_uri": "https://localhost:8080/"
        },
        "id": "0LCDhqijixTR",
        "outputId": "67d11a21-a01c-4a44-bd26-058ae66b8dcb"
      },
      "outputs": [
        {
          "name": "stdout",
          "output_type": "stream",
          "text": [
            "<class 'pandas.core.frame.DataFrame'>\n",
            "RangeIndex: 887 entries, 0 to 886\n",
            "Data columns (total 8 columns):\n",
            " #   Column                   Non-Null Count  Dtype  \n",
            "---  ------                   --------------  -----  \n",
            " 0   Name                     887 non-null    object \n",
            " 1   Sex                      887 non-null    object \n",
            " 2   Age                      887 non-null    int32  \n",
            " 3   Fare                     887 non-null    float64\n",
            " 4   Survived                 887 non-null    object \n",
            " 5   Pclass                   887 non-null    int64  \n",
            " 6   Siblings/Spouses Aboard  887 non-null    int64  \n",
            " 7   Parents/Children Aboard  887 non-null    int64  \n",
            "dtypes: float64(1), int32(1), int64(3), object(3)\n",
            "memory usage: 52.1+ KB\n"
          ]
        }
      ],
      "source": [
        "# What are the \"type\" of each column? \n",
        "\n",
        "df_titanic.info()"
      ]
    },
    {
      "cell_type": "markdown",
      "metadata": {
        "id": "bHR5fxjtmcWN"
      },
      "source": [
        "## Then, make a first exploration (pairplots, correlation heatmaps, etc...) of the dataset"
      ]
    },
    {
      "cell_type": "code",
      "execution_count": 14,
      "metadata": {
        "colab": {
          "base_uri": "https://localhost:8080/",
          "height": 206
        },
        "id": "xtU5-nMn6gK0",
        "outputId": "4f8e0339-1788-43f8-9ed0-b05c7d9906a6"
      },
      "outputs": [
        {
          "data": {
            "text/html": [
              "<div>\n",
              "<style scoped>\n",
              "    .dataframe tbody tr th:only-of-type {\n",
              "        vertical-align: middle;\n",
              "    }\n",
              "\n",
              "    .dataframe tbody tr th {\n",
              "        vertical-align: top;\n",
              "    }\n",
              "\n",
              "    .dataframe thead th {\n",
              "        text-align: right;\n",
              "    }\n",
              "</style>\n",
              "<table border=\"1\" class=\"dataframe\">\n",
              "  <thead>\n",
              "    <tr style=\"text-align: right;\">\n",
              "      <th></th>\n",
              "      <th>Name</th>\n",
              "      <th>Sex</th>\n",
              "      <th>Age</th>\n",
              "      <th>Fare</th>\n",
              "      <th>Survived</th>\n",
              "      <th>Pclass</th>\n",
              "      <th>Siblings/Spouses Aboard</th>\n",
              "      <th>Parents/Children Aboard</th>\n",
              "    </tr>\n",
              "  </thead>\n",
              "  <tbody>\n",
              "    <tr>\n",
              "      <th>0</th>\n",
              "      <td>Mr. Owen Harris Braund</td>\n",
              "      <td>male</td>\n",
              "      <td>22</td>\n",
              "      <td>7.25</td>\n",
              "      <td>Dead</td>\n",
              "      <td>3</td>\n",
              "      <td>1</td>\n",
              "      <td>0</td>\n",
              "    </tr>\n",
              "    <tr>\n",
              "      <th>1</th>\n",
              "      <td>Mrs. John Bradley (Florence Briggs Thayer) Cum...</td>\n",
              "      <td>female</td>\n",
              "      <td>38</td>\n",
              "      <td>71.28</td>\n",
              "      <td>Survived</td>\n",
              "      <td>1</td>\n",
              "      <td>1</td>\n",
              "      <td>0</td>\n",
              "    </tr>\n",
              "    <tr>\n",
              "      <th>2</th>\n",
              "      <td>Miss. Laina Heikkinen</td>\n",
              "      <td>female</td>\n",
              "      <td>26</td>\n",
              "      <td>7.92</td>\n",
              "      <td>Survived</td>\n",
              "      <td>3</td>\n",
              "      <td>0</td>\n",
              "      <td>0</td>\n",
              "    </tr>\n",
              "    <tr>\n",
              "      <th>3</th>\n",
              "      <td>Mrs. Jacques Heath (Lily May Peel) Futrelle</td>\n",
              "      <td>female</td>\n",
              "      <td>35</td>\n",
              "      <td>53.10</td>\n",
              "      <td>Survived</td>\n",
              "      <td>1</td>\n",
              "      <td>1</td>\n",
              "      <td>0</td>\n",
              "    </tr>\n",
              "    <tr>\n",
              "      <th>4</th>\n",
              "      <td>Mr. William Henry Allen</td>\n",
              "      <td>male</td>\n",
              "      <td>35</td>\n",
              "      <td>8.05</td>\n",
              "      <td>Dead</td>\n",
              "      <td>3</td>\n",
              "      <td>0</td>\n",
              "      <td>0</td>\n",
              "    </tr>\n",
              "  </tbody>\n",
              "</table>\n",
              "</div>"
            ],
            "text/plain": [
              "                                                Name     Sex  Age   Fare  \\\n",
              "0                             Mr. Owen Harris Braund    male   22   7.25   \n",
              "1  Mrs. John Bradley (Florence Briggs Thayer) Cum...  female   38  71.28   \n",
              "2                              Miss. Laina Heikkinen  female   26   7.92   \n",
              "3        Mrs. Jacques Heath (Lily May Peel) Futrelle  female   35  53.10   \n",
              "4                            Mr. William Henry Allen    male   35   8.05   \n",
              "\n",
              "   Survived  Pclass  Siblings/Spouses Aboard  Parents/Children Aboard  \n",
              "0      Dead       3                        1                        0  \n",
              "1  Survived       1                        1                        0  \n",
              "2  Survived       3                        0                        0  \n",
              "3  Survived       1                        1                        0  \n",
              "4      Dead       3                        0                        0  "
            ]
          },
          "execution_count": 14,
          "metadata": {},
          "output_type": "execute_result"
        }
      ],
      "source": [
        "df_titanic.head()"
      ]
    },
    {
      "cell_type": "code",
      "execution_count": 15,
      "metadata": {
        "colab": {
          "base_uri": "https://localhost:8080/",
          "height": 424
        },
        "id": "ZBxLlc1e8H-g",
        "outputId": "0b01c9fe-4b66-44ae-dfac-8c83b3d10d08"
      },
      "outputs": [
        {
          "data": {
            "text/html": [
              "<div>\n",
              "<style scoped>\n",
              "    .dataframe tbody tr th:only-of-type {\n",
              "        vertical-align: middle;\n",
              "    }\n",
              "\n",
              "    .dataframe tbody tr th {\n",
              "        vertical-align: top;\n",
              "    }\n",
              "\n",
              "    .dataframe thead th {\n",
              "        text-align: right;\n",
              "    }\n",
              "</style>\n",
              "<table border=\"1\" class=\"dataframe\">\n",
              "  <thead>\n",
              "    <tr style=\"text-align: right;\">\n",
              "      <th></th>\n",
              "      <th>Name</th>\n",
              "      <th>Sex</th>\n",
              "      <th>Age</th>\n",
              "      <th>Fare</th>\n",
              "      <th>Survived</th>\n",
              "      <th>Pclass</th>\n",
              "      <th>Siblings/Spouses Aboard</th>\n",
              "      <th>Parents/Children Aboard</th>\n",
              "    </tr>\n",
              "  </thead>\n",
              "  <tbody>\n",
              "    <tr>\n",
              "      <th>0</th>\n",
              "      <td>Mr. Owen Harris Braund</td>\n",
              "      <td>0</td>\n",
              "      <td>22</td>\n",
              "      <td>7.25</td>\n",
              "      <td>0</td>\n",
              "      <td>3</td>\n",
              "      <td>1</td>\n",
              "      <td>0</td>\n",
              "    </tr>\n",
              "    <tr>\n",
              "      <th>1</th>\n",
              "      <td>Mrs. John Bradley (Florence Briggs Thayer) Cum...</td>\n",
              "      <td>1</td>\n",
              "      <td>38</td>\n",
              "      <td>71.28</td>\n",
              "      <td>1</td>\n",
              "      <td>1</td>\n",
              "      <td>1</td>\n",
              "      <td>0</td>\n",
              "    </tr>\n",
              "    <tr>\n",
              "      <th>2</th>\n",
              "      <td>Miss. Laina Heikkinen</td>\n",
              "      <td>1</td>\n",
              "      <td>26</td>\n",
              "      <td>7.92</td>\n",
              "      <td>1</td>\n",
              "      <td>3</td>\n",
              "      <td>0</td>\n",
              "      <td>0</td>\n",
              "    </tr>\n",
              "    <tr>\n",
              "      <th>3</th>\n",
              "      <td>Mrs. Jacques Heath (Lily May Peel) Futrelle</td>\n",
              "      <td>1</td>\n",
              "      <td>35</td>\n",
              "      <td>53.10</td>\n",
              "      <td>1</td>\n",
              "      <td>1</td>\n",
              "      <td>1</td>\n",
              "      <td>0</td>\n",
              "    </tr>\n",
              "    <tr>\n",
              "      <th>4</th>\n",
              "      <td>Mr. William Henry Allen</td>\n",
              "      <td>0</td>\n",
              "      <td>35</td>\n",
              "      <td>8.05</td>\n",
              "      <td>0</td>\n",
              "      <td>3</td>\n",
              "      <td>0</td>\n",
              "      <td>0</td>\n",
              "    </tr>\n",
              "    <tr>\n",
              "      <th>...</th>\n",
              "      <td>...</td>\n",
              "      <td>...</td>\n",
              "      <td>...</td>\n",
              "      <td>...</td>\n",
              "      <td>...</td>\n",
              "      <td>...</td>\n",
              "      <td>...</td>\n",
              "      <td>...</td>\n",
              "    </tr>\n",
              "    <tr>\n",
              "      <th>882</th>\n",
              "      <td>Rev. Juozas Montvila</td>\n",
              "      <td>0</td>\n",
              "      <td>27</td>\n",
              "      <td>13.00</td>\n",
              "      <td>0</td>\n",
              "      <td>2</td>\n",
              "      <td>0</td>\n",
              "      <td>0</td>\n",
              "    </tr>\n",
              "    <tr>\n",
              "      <th>883</th>\n",
              "      <td>Miss. Margaret Edith Graham</td>\n",
              "      <td>1</td>\n",
              "      <td>19</td>\n",
              "      <td>30.00</td>\n",
              "      <td>1</td>\n",
              "      <td>1</td>\n",
              "      <td>0</td>\n",
              "      <td>0</td>\n",
              "    </tr>\n",
              "    <tr>\n",
              "      <th>884</th>\n",
              "      <td>Miss. Catherine Helen Johnston</td>\n",
              "      <td>1</td>\n",
              "      <td>7</td>\n",
              "      <td>23.45</td>\n",
              "      <td>0</td>\n",
              "      <td>3</td>\n",
              "      <td>1</td>\n",
              "      <td>2</td>\n",
              "    </tr>\n",
              "    <tr>\n",
              "      <th>885</th>\n",
              "      <td>Mr. Karl Howell Behr</td>\n",
              "      <td>0</td>\n",
              "      <td>26</td>\n",
              "      <td>30.00</td>\n",
              "      <td>1</td>\n",
              "      <td>1</td>\n",
              "      <td>0</td>\n",
              "      <td>0</td>\n",
              "    </tr>\n",
              "    <tr>\n",
              "      <th>886</th>\n",
              "      <td>Mr. Patrick Dooley</td>\n",
              "      <td>0</td>\n",
              "      <td>32</td>\n",
              "      <td>7.75</td>\n",
              "      <td>0</td>\n",
              "      <td>3</td>\n",
              "      <td>0</td>\n",
              "      <td>0</td>\n",
              "    </tr>\n",
              "  </tbody>\n",
              "</table>\n",
              "<p>887 rows × 8 columns</p>\n",
              "</div>"
            ],
            "text/plain": [
              "                                                  Name  Sex  Age   Fare  \\\n",
              "0                               Mr. Owen Harris Braund    0   22   7.25   \n",
              "1    Mrs. John Bradley (Florence Briggs Thayer) Cum...    1   38  71.28   \n",
              "2                                Miss. Laina Heikkinen    1   26   7.92   \n",
              "3          Mrs. Jacques Heath (Lily May Peel) Futrelle    1   35  53.10   \n",
              "4                              Mr. William Henry Allen    0   35   8.05   \n",
              "..                                                 ...  ...  ...    ...   \n",
              "882                               Rev. Juozas Montvila    0   27  13.00   \n",
              "883                        Miss. Margaret Edith Graham    1   19  30.00   \n",
              "884                     Miss. Catherine Helen Johnston    1    7  23.45   \n",
              "885                               Mr. Karl Howell Behr    0   26  30.00   \n",
              "886                                 Mr. Patrick Dooley    0   32   7.75   \n",
              "\n",
              "     Survived  Pclass  Siblings/Spouses Aboard  Parents/Children Aboard  \n",
              "0           0       3                        1                        0  \n",
              "1           1       1                        1                        0  \n",
              "2           1       3                        0                        0  \n",
              "3           1       1                        1                        0  \n",
              "4           0       3                        0                        0  \n",
              "..        ...     ...                      ...                      ...  \n",
              "882         0       2                        0                        0  \n",
              "883         1       1                        0                        0  \n",
              "884         0       3                        1                        2  \n",
              "885         1       1                        0                        0  \n",
              "886         0       3                        0                        0  \n",
              "\n",
              "[887 rows x 8 columns]"
            ]
          },
          "execution_count": 15,
          "metadata": {},
          "output_type": "execute_result"
        }
      ],
      "source": [
        "#factorize colums Survived and Sex who have two values (for more values, I will using get_dumnies function but here we don't need this)\n",
        "\n",
        "df_titanic['Survived'] = df_titanic['Survived'].factorize()[0]\n",
        "df_titanic['Sex'] = df_titanic['Sex'].factorize()[0]\n",
        "df_titanic\n"
      ]
    },
    {
      "cell_type": "code",
      "execution_count": 16,
      "metadata": {
        "colab": {
          "base_uri": "https://localhost:8080/",
          "height": 269
        },
        "id": "gvMTDjG5-U54",
        "outputId": "9c2ff05f-f7e8-4d58-da31-6b27a32e980d"
      },
      "outputs": [
        {
          "data": {
            "text/html": [
              "<div>\n",
              "<style scoped>\n",
              "    .dataframe tbody tr th:only-of-type {\n",
              "        vertical-align: middle;\n",
              "    }\n",
              "\n",
              "    .dataframe tbody tr th {\n",
              "        vertical-align: top;\n",
              "    }\n",
              "\n",
              "    .dataframe thead th {\n",
              "        text-align: right;\n",
              "    }\n",
              "</style>\n",
              "<table border=\"1\" class=\"dataframe\">\n",
              "  <thead>\n",
              "    <tr style=\"text-align: right;\">\n",
              "      <th></th>\n",
              "      <th>Sex</th>\n",
              "      <th>Age</th>\n",
              "      <th>Fare</th>\n",
              "      <th>Survived</th>\n",
              "      <th>Pclass</th>\n",
              "      <th>Siblings/Spouses Aboard</th>\n",
              "      <th>Parents/Children Aboard</th>\n",
              "    </tr>\n",
              "  </thead>\n",
              "  <tbody>\n",
              "    <tr>\n",
              "      <th>Sex</th>\n",
              "      <td>1.000000</td>\n",
              "      <td>-0.091487</td>\n",
              "      <td>0.181137</td>\n",
              "      <td>0.542152</td>\n",
              "      <td>-0.129507</td>\n",
              "      <td>0.113249</td>\n",
              "      <td>0.244337</td>\n",
              "    </tr>\n",
              "    <tr>\n",
              "      <th>Age</th>\n",
              "      <td>-0.091487</td>\n",
              "      <td>1.000000</td>\n",
              "      <td>0.112461</td>\n",
              "      <td>-0.059665</td>\n",
              "      <td>-0.391572</td>\n",
              "      <td>-0.297426</td>\n",
              "      <td>-0.193976</td>\n",
              "    </tr>\n",
              "    <tr>\n",
              "      <th>Fare</th>\n",
              "      <td>0.181137</td>\n",
              "      <td>0.112461</td>\n",
              "      <td>1.000000</td>\n",
              "      <td>0.256177</td>\n",
              "      <td>-0.548916</td>\n",
              "      <td>0.158842</td>\n",
              "      <td>0.215475</td>\n",
              "    </tr>\n",
              "    <tr>\n",
              "      <th>Survived</th>\n",
              "      <td>0.542152</td>\n",
              "      <td>-0.059665</td>\n",
              "      <td>0.256177</td>\n",
              "      <td>1.000000</td>\n",
              "      <td>-0.336528</td>\n",
              "      <td>-0.037082</td>\n",
              "      <td>0.080097</td>\n",
              "    </tr>\n",
              "    <tr>\n",
              "      <th>Pclass</th>\n",
              "      <td>-0.129507</td>\n",
              "      <td>-0.391572</td>\n",
              "      <td>-0.548916</td>\n",
              "      <td>-0.336528</td>\n",
              "      <td>1.000000</td>\n",
              "      <td>0.085026</td>\n",
              "      <td>0.020252</td>\n",
              "    </tr>\n",
              "    <tr>\n",
              "      <th>Siblings/Spouses Aboard</th>\n",
              "      <td>0.113249</td>\n",
              "      <td>-0.297426</td>\n",
              "      <td>0.158842</td>\n",
              "      <td>-0.037082</td>\n",
              "      <td>0.085026</td>\n",
              "      <td>1.000000</td>\n",
              "      <td>0.414244</td>\n",
              "    </tr>\n",
              "    <tr>\n",
              "      <th>Parents/Children Aboard</th>\n",
              "      <td>0.244337</td>\n",
              "      <td>-0.193976</td>\n",
              "      <td>0.215475</td>\n",
              "      <td>0.080097</td>\n",
              "      <td>0.020252</td>\n",
              "      <td>0.414244</td>\n",
              "      <td>1.000000</td>\n",
              "    </tr>\n",
              "  </tbody>\n",
              "</table>\n",
              "</div>"
            ],
            "text/plain": [
              "                              Sex       Age      Fare  Survived    Pclass  \\\n",
              "Sex                      1.000000 -0.091487  0.181137  0.542152 -0.129507   \n",
              "Age                     -0.091487  1.000000  0.112461 -0.059665 -0.391572   \n",
              "Fare                     0.181137  0.112461  1.000000  0.256177 -0.548916   \n",
              "Survived                 0.542152 -0.059665  0.256177  1.000000 -0.336528   \n",
              "Pclass                  -0.129507 -0.391572 -0.548916 -0.336528  1.000000   \n",
              "Siblings/Spouses Aboard  0.113249 -0.297426  0.158842 -0.037082  0.085026   \n",
              "Parents/Children Aboard  0.244337 -0.193976  0.215475  0.080097  0.020252   \n",
              "\n",
              "                         Siblings/Spouses Aboard  Parents/Children Aboard  \n",
              "Sex                                     0.113249                 0.244337  \n",
              "Age                                    -0.297426                -0.193976  \n",
              "Fare                                    0.158842                 0.215475  \n",
              "Survived                               -0.037082                 0.080097  \n",
              "Pclass                                  0.085026                 0.020252  \n",
              "Siblings/Spouses Aboard                 1.000000                 0.414244  \n",
              "Parents/Children Aboard                 0.414244                 1.000000  "
            ]
          },
          "execution_count": 16,
          "metadata": {},
          "output_type": "execute_result"
        }
      ],
      "source": [
        "#search correlation with corr() function\n",
        "\n",
        "df_corr = df_titanic.corr()\n",
        "df_corr\n"
      ]
    },
    {
      "cell_type": "code",
      "execution_count": 17,
      "metadata": {
        "id": "9J7eqoofsiLa"
      },
      "outputs": [],
      "source": [
        "df_titanic3 = df_titanic.copy()"
      ]
    },
    {
      "cell_type": "code",
      "execution_count": 18,
      "metadata": {
        "colab": {
          "base_uri": "https://localhost:8080/",
          "height": 448
        },
        "id": "zkyFcfY0G6fM",
        "outputId": "6292c316-ac0c-4576-9e5e-869df344f856"
      },
      "outputs": [
        {
          "data": {
            "image/png": "[encoded data removed]",
            "text/plain": [
              "<Figure size 720x360 with 2 Axes>"
            ]
          },
          "metadata": {
            "needs_background": "light"
          },
          "output_type": "display_data"
        }
      ],
      "source": [
        "#heatmap avec df_corr\n",
        "\n",
        "#taille heatmap\n",
        "plt.subplots(figsize=(10, 5))\n",
        "\n",
        "#style\n",
        "sns.set_theme(style=\"white\")\n",
        "\n",
        "#quand on a bcp de corrélation, c'est bien de faire une matrice que dans un sens\n",
        "# Generate a mask for the upper triangle\n",
        "mask = np.triu(np.ones_like(df_corr, dtype=bool))\n",
        "\n",
        "# palette de couleur\n",
        "#cmap = sns.diverging_palette(230, 20, as_cmap=True)\n",
        "\n",
        "# heatmap\n",
        "sns.heatmap(df_corr,                    # tableau de corrélation ci-dessus\n",
        "                              # mask = matrice faite dans un seul sens\n",
        "            cmap=\"YlGnBu\",                  # palette de couleur\n",
        "            vmax=.3,                    # Valeurs pour ancrer la palette de couleurs      \n",
        "            center=0,                   # La valeur à laquelle centrer la palette de couleurs lors du traçage de données divergentes\n",
        "            square=True,                # Si True, définissez l'aspect des axes sur « equal » afin que chaque cellule soit de forme carrée.\n",
        "            linewidths=.5,              # Largeur des lignes qui diviseront chaque cellule\n",
        "            annot=True,                 # afficher les valeurs           \n",
        "            cbar_kws={\"shrink\": .5})    # Arguments de mot-clé pour matplotlib.figure.Figure.colorbar().\n",
        "\n",
        "\n",
        "plt.show()"
      ]
    },
    {
      "cell_type": "code",
      "execution_count": 19,
      "metadata": {
        "colab": {
          "base_uri": "https://localhost:8080/",
          "height": 269
        },
        "id": "OJrx_f3AIyRa",
        "outputId": "2936389f-b904-4fef-a10e-f3b486be89c0"
      },
      "outputs": [
        {
          "data": {
            "text/html": [
              "<div>\n",
              "<style scoped>\n",
              "    .dataframe tbody tr th:only-of-type {\n",
              "        vertical-align: middle;\n",
              "    }\n",
              "\n",
              "    .dataframe tbody tr th {\n",
              "        vertical-align: top;\n",
              "    }\n",
              "\n",
              "    .dataframe thead th {\n",
              "        text-align: right;\n",
              "    }\n",
              "</style>\n",
              "<table border=\"1\" class=\"dataframe\">\n",
              "  <thead>\n",
              "    <tr style=\"text-align: right;\">\n",
              "      <th></th>\n",
              "      <th>Survived</th>\n",
              "    </tr>\n",
              "  </thead>\n",
              "  <tbody>\n",
              "    <tr>\n",
              "      <th>Survived</th>\n",
              "      <td>1.000000</td>\n",
              "    </tr>\n",
              "    <tr>\n",
              "      <th>Sex</th>\n",
              "      <td>0.542152</td>\n",
              "    </tr>\n",
              "    <tr>\n",
              "      <th>Fare</th>\n",
              "      <td>0.256177</td>\n",
              "    </tr>\n",
              "    <tr>\n",
              "      <th>Parents/Children Aboard</th>\n",
              "      <td>0.080097</td>\n",
              "    </tr>\n",
              "    <tr>\n",
              "      <th>Siblings/Spouses Aboard</th>\n",
              "      <td>-0.037082</td>\n",
              "    </tr>\n",
              "    <tr>\n",
              "      <th>Age</th>\n",
              "      <td>-0.059665</td>\n",
              "    </tr>\n",
              "    <tr>\n",
              "      <th>Pclass</th>\n",
              "      <td>-0.336528</td>\n",
              "    </tr>\n",
              "  </tbody>\n",
              "</table>\n",
              "</div>"
            ],
            "text/plain": [
              "                         Survived\n",
              "Survived                 1.000000\n",
              "Sex                      0.542152\n",
              "Fare                     0.256177\n",
              "Parents/Children Aboard  0.080097\n",
              "Siblings/Spouses Aboard -0.037082\n",
              "Age                     -0.059665\n",
              "Pclass                  -0.336528"
            ]
          },
          "execution_count": 19,
          "metadata": {},
          "output_type": "execute_result"
        }
      ],
      "source": [
        "# its more simple to analize coorelation with df\n",
        "\n",
        "corr_survived = df_corr[['Survived']].sort_values(by='Survived', ascending=False)\n",
        "corr_survived"
      ]
    },
    {
      "cell_type": "code",
      "execution_count": 20,
      "metadata": {
        "id": "JUyE0vncOm_J"
      },
      "outputs": [],
      "source": [
        "# GROUPBY Sex per age\n",
        "\n",
        "age_mean = round(df_titanic.groupby(by=[\"Sex\"]).mean('Age'),2)\n",
        "\n",
        "#age_mean = age_mean.reset_index(drop=True)\n",
        "\n",
        "\n",
        "age_mean['Survived'] = age_mean['Survived']*100\n",
        "age_mean = age_mean.astype({'Survived': int})\n",
        "age_mean = age_mean.astype({'Pclass': int})\n",
        "age_mean.drop(columns=['Siblings/Spouses Aboard', 'Parents/Children Aboard'], inplace=True)\n",
        "\n"
      ]
    },
    {
      "cell_type": "code",
      "execution_count": 21,
      "metadata": {
        "colab": {
          "base_uri": "https://localhost:8080/",
          "height": 144
        },
        "id": "e7nsRBwrQK3V",
        "outputId": "a36c0bbd-7c2e-41e0-c495-45e9d4e40027"
      },
      "outputs": [
        {
          "data": {
            "text/html": [
              "<div>\n",
              "<style scoped>\n",
              "    .dataframe tbody tr th:only-of-type {\n",
              "        vertical-align: middle;\n",
              "    }\n",
              "\n",
              "    .dataframe tbody tr th {\n",
              "        vertical-align: top;\n",
              "    }\n",
              "\n",
              "    .dataframe thead th {\n",
              "        text-align: right;\n",
              "    }\n",
              "</style>\n",
              "<table border=\"1\" class=\"dataframe\">\n",
              "  <thead>\n",
              "    <tr style=\"text-align: right;\">\n",
              "      <th></th>\n",
              "      <th>Age</th>\n",
              "      <th>Fare</th>\n",
              "      <th>Survived</th>\n",
              "      <th>Pclass</th>\n",
              "    </tr>\n",
              "    <tr>\n",
              "      <th>Sex</th>\n",
              "      <th></th>\n",
              "      <th></th>\n",
              "      <th></th>\n",
              "      <th></th>\n",
              "    </tr>\n",
              "  </thead>\n",
              "  <tbody>\n",
              "    <tr>\n",
              "      <th>0</th>\n",
              "      <td>30.41</td>\n",
              "      <td>25.63</td>\n",
              "      <td>19</td>\n",
              "      <td>2</td>\n",
              "    </tr>\n",
              "    <tr>\n",
              "      <th>1</th>\n",
              "      <td>27.71</td>\n",
              "      <td>44.48</td>\n",
              "      <td>74</td>\n",
              "      <td>2</td>\n",
              "    </tr>\n",
              "  </tbody>\n",
              "</table>\n",
              "</div>"
            ],
            "text/plain": [
              "       Age   Fare  Survived  Pclass\n",
              "Sex                                \n",
              "0    30.41  25.63        19       2\n",
              "1    27.71  44.48        74       2"
            ]
          },
          "execution_count": 21,
          "metadata": {},
          "output_type": "execute_result"
        }
      ],
      "source": [
        "#check df age_mean\n",
        "age_mean"
      ]
    },
    {
      "cell_type": "code",
      "execution_count": 22,
      "metadata": {
        "colab": {
          "base_uri": "https://localhost:8080/",
          "height": 304
        },
        "id": "9zrEtJQf7g-2",
        "outputId": "60713522-224c-485d-af76-7fe126317ae5"
      },
      "outputs": [
        {
          "data": {
            "text/plain": [
              "<AxesSubplot:xlabel='Age'>"
            ]
          },
          "execution_count": 22,
          "metadata": {},
          "output_type": "execute_result"
        },
        {
          "data": {
            "image/png": "[encoded data removed]",
            "text/plain": [
              "<Figure size 432x288 with 1 Axes>"
            ]
          },
          "metadata": {},
          "output_type": "display_data"
        }
      ],
      "source": [
        "# boxplot concernant l'âge des passagers\n",
        "sns.boxplot(data=df_titanic, x='Age')\n"
      ]
    },
    {
      "cell_type": "code",
      "execution_count": 23,
      "metadata": {
        "colab": {
          "base_uri": "https://localhost:8080/",
          "height": 617
        },
        "id": "zo4KPc9-KyKL",
        "outputId": "cbf203f5-e588-4c80-c2f5-5489c61dfd36"
      },
      "outputs": [
        {
          "data": {
            "application/vnd.plotly.v1+json": {
              "config": {
                "plotlyServerURL": "https://plot.ly"
              },
              "data": [
                {
                  "alignmentgroup": "True",
                  "bingroup": "x",
                  "hovertemplate": "Classe Passager=%{x}<br>count=%{y}<extra></extra>",
                  "legendgroup": "3",
                  "marker": {
                    "color": "rgb(102, 197, 204)",
                    "pattern": {
                      "shape": ""
                    }
                  },
                  "name": "3",
                  "offsetgroup": "3",
                  "orientation": "v",
                  "showlegend": true,
                  "type": "histogram",
                  "x": [
                    3,
                    3,
                    3,
                    3,
                    3,
                    3,
                    3,
                    3,
                    3,
                    3,
                    3,
                    3,
                    3,
                    3,
                    3,
                    3,
                    3,
                    3,
                    3,
                    3,
                    3,
                    3,
                    3,
                    3,
                    3,
                    3,
                    3,
                    3,
                    3,
                    3,
                    3,
                    3,
                    3,
                    3,
                    3,
                    3,
                    3,
                    3,
                    3,
                    3,
                    3,
                    3,
                    3,
                    3,
                    3,
                    3,
                    3,
                    3,
                    3,
                    3,
                    3,
                    3,
                    3,
                    3,
                    3,
                    3,
                    3,
                    3,
                    3,
                    3,
                    3,
                    3,
                    3,
                    3,
                    3,
                    3,
                    3,
                    3,
                    3,
                    3,
                    3,
                    3,
                    3,
                    3,
                    3,
                    3,
                    3,
                    3,
                    3,
                    3,
                    3,
                    3,
                    3,
                    3,
                    3,
                    3,
                    3,
                    3,
                    3,
                    3,
                    3,
                    3,
                    3,
                    3,
                    3,
                    3,
                    3,
                    3,
                    3,
                    3,
                    3,
                    3,
                    3,
                    3,
                    3,
                    3,
                    3,
                    3,
                    3,
                    3,
                    3,
                    3,
                    3,
                    3,
                    3,
                    3,
                    3,
                    3,
                    3,
                    3,
                    3,
                    3,
                    3,
                    3,
                    3,
                    3,
                    3,
                    3,
                    3,
                    3,
                    3,
                    3,
                    3,
                    3,
                    3,
                    3,
                    3,
                    3,
                    3,
                    3,
                    3,
                    3,
                    3,
                    3,
                    3,
                    3,
                    3,
                    3,
                    3,
                    3,
                    3,
                    3,
                    3,
                    3,
                    3,
                    3,
                    3,
                    3,
                    3,
                    3,
                    3,
                    3,
                    3,
                    3,
                    3,
                    3,
                    3,
                    3,
                    3,
                    3,
                    3,
                    3,
                    3,
                    3,
                    3,
                    3,
                    3,
                    3,
                    3,
                    3,
                    3,
                    3,
                    3,
                    3,
                    3,
                    3,
                    3,
                    3,
                    3,
                    3,
                    3,
                    3,
                    3,
                    3,
                    3,
                    3,
                    3,
                    3,
                    3,
                    3,
                    3,
                    3,
                    3,
                    3,
                    3,
                    3,
                    3,
                    3,
                    3,
                    3,
                    3,
                    3,
                    3,
                    3,
                    3,
                    3,
                    3,
                    3,
                    3,
                    3,
                    3,
                    3,
                    3,
                    3,
                    3,
                    3,
                    3,
                    3,
                    3,
                    3,
                    3,
                    3,
                    3,
                    3,
                    3,
                    3,
                    3,
                    3,
                    3,
                    3,
                    3,
                    3,
                    3,
                    3,
                    3,
                    3,
                    3,
                    3,
                    3,
                    3,
                    3,
                    3,
                    3,
                    3,
                    3,
                    3,
                    3,
                    3,
                    3,
                    3,
                    3,
                    3,
                    3,
                    3,
                    3,
                    3,
                    3,
                    3,
                    3,
                    3,
                    3,
                    3,
                    3,
                    3,
                    3,
                    3,
                    3,
                    3,
                    3,
                    3,
                    3,
                    3,
                    3,
                    3,
                    3,
                    3,
                    3,
                    3,
                    3,
                    3,
                    3,
                    3,
                    3,
                    3,
                    3,
                    3,
                    3,
                    3,
                    3,
                    3,
                    3,
                    3,
                    3,
                    3,
                    3,
                    3,
                    3,
                    3,
                    3,
                    3,
                    3,
                    3,
                    3,
                    3,
                    3,
                    3,
                    3,
                    3,
                    3,
                    3,
                    3,
                    3,
                    3,
                    3,
                    3,
                    3,
                    3,
                    3,
                    3,
                    3,
                    3,
                    3,
                    3,
                    3,
                    3,
                    3,
                    3,
                    3,
                    3,
                    3,
                    3,
                    3,
                    3,
                    3,
                    3,
                    3,
                    3,
                    3,
                    3,
                    3,
                    3,
                    3,
                    3,
                    3,
                    3,
                    3,
                    3,
                    3,
                    3,
                    3,
                    3,
                    3,
                    3,
                    3,
                    3,
                    3,
                    3,
                    3,
                    3,
                    3,
                    3,
                    3,
                    3,
                    3,
                    3,
                    3,
                    3,
                    3,
                    3,
                    3,
                    3,
                    3,
                    3,
                    3,
                    3,
                    3,
                    3,
                    3,
                    3,
                    3,
                    3,
                    3,
                    3,
                    3,
                    3,
                    3,
                    3,
                    3,
                    3,
                    3,
                    3,
                    3,
                    3,
                    3,
                    3,
                    3,
                    3,
                    3,
                    3,
                    3,
                    3,
                    3,
                    3,
                    3,
                    3,
                    3,
                    3,
                    3,
                    3,
                    3,
                    3,
                    3,
                    3,
                    3,
                    3,
                    3,
                    3,
                    3,
                    3,
                    3,
                    3,
                    3,
                    3,
                    3,
                    3,
                    3,
                    3,
                    3,
                    3,
                    3,
                    3,
                    3,
                    3,
                    3,
                    3,
                    3,
                    3,
                    3,
                    3,
                    3,
                    3,
                    3,
                    3,
                    3,
                    3,
                    3,
                    3,
                    3,
                    3,
                    3,
                    3,
                    3,
                    3,
                    3,
                    3,
                    3,
                    3,
                    3,
                    3,
                    3,
                    3,
                    3,
                    3,
                    3,
                    3,
                    3,
                    3,
                    3,
                    3,
                    3,
                    3,
                    3,
                    3,
                    3,
                    3,
                    3,
                    3
                  ],
                  "xaxis": "x",
                  "yaxis": "y"
                },
                {
                  "alignmentgroup": "True",
                  "bingroup": "x",
                  "hovertemplate": "Classe Passager=%{x}<br>count=%{y}<extra></extra>",
                  "legendgroup": "1",
                  "marker": {
                    "color": "rgb(246, 207, 113)",
                    "pattern": {
                      "shape": ""
                    }
                  },
                  "name": "1",
                  "offsetgroup": "1",
                  "orientation": "v",
                  "showlegend": true,
                  "type": "histogram",
                  "x": [
                    1,
                    1,
                    1,
                    1,
                    1,
                    1,
                    1,
                    1,
                    1,
                    1,
                    1,
                    1,
                    1,
                    1,
                    1,
                    1,
                    1,
                    1,
                    1,
                    1,
                    1,
                    1,
                    1,
                    1,
                    1,
                    1,
                    1,
                    1,
                    1,
                    1,
                    1,
                    1,
                    1,
                    1,
                    1,
                    1,
                    1,
                    1,
                    1,
                    1,
                    1,
                    1,
                    1,
                    1,
                    1,
                    1,
                    1,
                    1,
                    1,
                    1,
                    1,
                    1,
                    1,
                    1,
                    1,
                    1,
                    1,
                    1,
                    1,
                    1,
                    1,
                    1,
                    1,
                    1,
                    1,
                    1,
                    1,
                    1,
                    1,
                    1,
                    1,
                    1,
                    1,
                    1,
                    1,
                    1,
                    1,
                    1,
                    1,
                    1,
                    1,
                    1,
                    1,
                    1,
                    1,
                    1,
                    1,
                    1,
                    1,
                    1,
                    1,
                    1,
                    1,
                    1,
                    1,
                    1,
                    1,
                    1,
                    1,
                    1,
                    1,
                    1,
                    1,
                    1,
                    1,
                    1,
                    1,
                    1,
                    1,
                    1,
                    1,
                    1,
                    1,
                    1,
                    1,
                    1,
                    1,
                    1,
                    1,
                    1,
                    1,
                    1,
                    1,
                    1,
                    1,
                    1,
                    1,
                    1,
                    1,
                    1,
                    1,
                    1,
                    1,
                    1,
                    1,
                    1,
                    1,
                    1,
                    1,
                    1,
                    1,
                    1,
                    1,
                    1,
                    1,
                    1,
                    1,
                    1,
                    1,
                    1,
                    1,
                    1,
                    1,
                    1,
                    1,
                    1,
                    1,
                    1,
                    1,
                    1,
                    1,
                    1,
                    1,
                    1,
                    1,
                    1,
                    1,
                    1,
                    1,
                    1,
                    1,
                    1,
                    1,
                    1,
                    1,
                    1,
                    1,
                    1,
                    1,
                    1,
                    1,
                    1,
                    1,
                    1,
                    1,
                    1,
                    1,
                    1,
                    1,
                    1,
                    1,
                    1,
                    1,
                    1,
                    1,
                    1,
                    1,
                    1,
                    1,
                    1,
                    1,
                    1,
                    1,
                    1,
                    1,
                    1,
                    1,
                    1,
                    1,
                    1,
                    1,
                    1,
                    1,
                    1,
                    1,
                    1
                  ],
                  "xaxis": "x",
                  "yaxis": "y"
                },
                {
                  "alignmentgroup": "True",
                  "bingroup": "x",
                  "hovertemplate": "Classe Passager=%{x}<br>count=%{y}<extra></extra>",
                  "legendgroup": "2",
                  "marker": {
                    "color": "rgb(248, 156, 116)",
                    "pattern": {
                      "shape": ""
                    }
                  },
                  "name": "2",
                  "offsetgroup": "2",
                  "orientation": "v",
                  "showlegend": true,
                  "type": "histogram",
                  "x": [
                    2,
                    2,
                    2,
                    2,
                    2,
                    2,
                    2,
                    2,
                    2,
                    2,
                    2,
                    2,
                    2,
                    2,
                    2,
                    2,
                    2,
                    2,
                    2,
                    2,
                    2,
                    2,
                    2,
                    2,
                    2,
                    2,
                    2,
                    2,
                    2,
                    2,
                    2,
                    2,
                    2,
                    2,
                    2,
                    2,
                    2,
                    2,
                    2,
                    2,
                    2,
                    2,
                    2,
                    2,
                    2,
                    2,
                    2,
                    2,
                    2,
                    2,
                    2,
                    2,
                    2,
                    2,
                    2,
                    2,
                    2,
                    2,
                    2,
                    2,
                    2,
                    2,
                    2,
                    2,
                    2,
                    2,
                    2,
                    2,
                    2,
                    2,
                    2,
                    2,
                    2,
                    2,
                    2,
                    2,
                    2,
                    2,
                    2,
                    2,
                    2,
                    2,
                    2,
                    2,
                    2,
                    2,
                    2,
                    2,
                    2,
                    2,
                    2,
                    2,
                    2,
                    2,
                    2,
                    2,
                    2,
                    2,
                    2,
                    2,
                    2,
                    2,
                    2,
                    2,
                    2,
                    2,
                    2,
                    2,
                    2,
                    2,
                    2,
                    2,
                    2,
                    2,
                    2,
                    2,
                    2,
                    2,
                    2,
                    2,
                    2,
                    2,
                    2,
                    2,
                    2,
                    2,
                    2,
                    2,
                    2,
                    2,
                    2,
                    2,
                    2,
                    2,
                    2,
                    2,
                    2,
                    2,
                    2,
                    2,
                    2,
                    2,
                    2,
                    2,
                    2,
                    2,
                    2,
                    2,
                    2,
                    2,
                    2,
                    2,
                    2,
                    2,
                    2,
                    2,
                    2,
                    2,
                    2,
                    2,
                    2,
                    2,
                    2,
                    2,
                    2,
                    2,
                    2,
                    2,
                    2,
                    2,
                    2,
                    2,
                    2,
                    2,
                    2,
                    2,
                    2,
                    2,
                    2,
                    2,
                    2,
                    2,
                    2,
                    2
                  ],
                  "xaxis": "x",
                  "yaxis": "y"
                }
              ],
              "layout": {
                "barmode": "relative",
                "height": 600,
                "legend": {
                  "title": {
                    "text": "Classe Passager"
                  },
                  "tracegroupgap": 0
                },
                "margin": {
                  "t": 60
                },
                "template": {
                  "data": {
                    "bar": [
                      {
                        "error_x": {
                          "color": "#f2f5fa"
                        },
                        "error_y": {
                          "color": "#f2f5fa"
                        },
                        "marker": {
                          "line": {
                            "color": "rgb(17,17,17)",
                            "width": 0.5
                          },
                          "pattern": {
                            "fillmode": "overlay",
                            "size": 10,
                            "solidity": 0.2
                          }
                        },
                        "type": "bar"
                      }
                    ],
                    "barpolar": [
                      {
                        "marker": {
                          "line": {
                            "color": "rgb(17,17,17)",
                            "width": 0.5
                          },
                          "pattern": {
                            "fillmode": "overlay",
                            "size": 10,
                            "solidity": 0.2
                          }
                        },
                        "type": "barpolar"
                      }
                    ],
                    "carpet": [
                      {
                        "aaxis": {
                          "endlinecolor": "#A2B1C6",
                          "gridcolor": "#506784",
                          "linecolor": "#506784",
                          "minorgridcolor": "#506784",
                          "startlinecolor": "#A2B1C6"
                        },
                        "baxis": {
                          "endlinecolor": "#A2B1C6",
                          "gridcolor": "#506784",
                          "linecolor": "#506784",
                          "minorgridcolor": "#506784",
                          "startlinecolor": "#A2B1C6"
                        },
                        "type": "carpet"
                      }
                    ],
                    "choropleth": [
                      {
                        "colorbar": {
                          "outlinewidth": 0,
                          "ticks": ""
                        },
                        "type": "choropleth"
                      }
                    ],
                    "contour": [
                      {
                        "colorbar": {
                          "outlinewidth": 0,
                          "ticks": ""
                        },
                        "colorscale": [
                          [
                            0,
                            "#0d0887"
                          ],
                          [
                            0.1111111111111111,
                            "#46039f"
                          ],
                          [
                            0.2222222222222222,
                            "#7201a8"
                          ],
                          [
                            0.3333333333333333,
                            "#9c179e"
                          ],
                          [
                            0.4444444444444444,
                            "#bd3786"
                          ],
                          [
                            0.5555555555555556,
                            "#d8576b"
                          ],
                          [
                            0.6666666666666666,
                            "#ed7953"
                          ],
                          [
                            0.7777777777777778,
                            "#fb9f3a"
                          ],
                          [
                            0.8888888888888888,
                            "#fdca26"
                          ],
                          [
                            1,
                            "#f0f921"
                          ]
                        ],
                        "type": "contour"
                      }
                    ],
                    "contourcarpet": [
                      {
                        "colorbar": {
                          "outlinewidth": 0,
                          "ticks": ""
                        },
                        "type": "contourcarpet"
                      }
                    ],
                    "heatmap": [
                      {
                        "colorbar": {
                          "outlinewidth": 0,
                          "ticks": ""
                        },
                        "colorscale": [
                          [
                            0,
                            "#0d0887"
                          ],
                          [
                            0.1111111111111111,
                            "#46039f"
                          ],
                          [
                            0.2222222222222222,
                            "#7201a8"
                          ],
                          [
                            0.3333333333333333,
                            "#9c179e"
                          ],
                          [
                            0.4444444444444444,
                            "#bd3786"
                          ],
                          [
                            0.5555555555555556,
                            "#d8576b"
                          ],
                          [
                            0.6666666666666666,
                            "#ed7953"
                          ],
                          [
                            0.7777777777777778,
                            "#fb9f3a"
                          ],
                          [
                            0.8888888888888888,
                            "#fdca26"
                          ],
                          [
                            1,
                            "#f0f921"
                          ]
                        ],
                        "type": "heatmap"
                      }
                    ],
                    "heatmapgl": [
                      {
                        "colorbar": {
                          "outlinewidth": 0,
                          "ticks": ""
                        },
                        "colorscale": [
                          [
                            0,
                            "#0d0887"
                          ],
                          [
                            0.1111111111111111,
                            "#46039f"
                          ],
                          [
                            0.2222222222222222,
                            "#7201a8"
                          ],
                          [
                            0.3333333333333333,
                            "#9c179e"
                          ],
                          [
                            0.4444444444444444,
                            "#bd3786"
                          ],
                          [
                            0.5555555555555556,
                            "#d8576b"
                          ],
                          [
                            0.6666666666666666,
                            "#ed7953"
                          ],
                          [
                            0.7777777777777778,
                            "#fb9f3a"
                          ],
                          [
                            0.8888888888888888,
                            "#fdca26"
                          ],
                          [
                            1,
                            "#f0f921"
                          ]
                        ],
                        "type": "heatmapgl"
                      }
                    ],
                    "histogram": [
                      {
                        "marker": {
                          "pattern": {
                            "fillmode": "overlay",
                            "size": 10,
                            "solidity": 0.2
                          }
                        },
                        "type": "histogram"
                      }
                    ],
                    "histogram2d": [
                      {
                        "colorbar": {
                          "outlinewidth": 0,
                          "ticks": ""
                        },
                        "colorscale": [
                          [
                            0,
                            "#0d0887"
                          ],
                          [
                            0.1111111111111111,
                            "#46039f"
                          ],
                          [
                            0.2222222222222222,
                            "#7201a8"
                          ],
                          [
                            0.3333333333333333,
                            "#9c179e"
                          ],
                          [
                            0.4444444444444444,
                            "#bd3786"
                          ],
                          [
                            0.5555555555555556,
                            "#d8576b"
                          ],
                          [
                            0.6666666666666666,
                            "#ed7953"
                          ],
                          [
                            0.7777777777777778,
                            "#fb9f3a"
                          ],
                          [
                            0.8888888888888888,
                            "#fdca26"
                          ],
                          [
                            1,
                            "#f0f921"
                          ]
                        ],
                        "type": "histogram2d"
                      }
                    ],
                    "histogram2dcontour": [
                      {
                        "colorbar": {
                          "outlinewidth": 0,
                          "ticks": ""
                        },
                        "colorscale": [
                          [
                            0,
                            "#0d0887"
                          ],
                          [
                            0.1111111111111111,
                            "#46039f"
                          ],
                          [
                            0.2222222222222222,
                            "#7201a8"
                          ],
                          [
                            0.3333333333333333,
                            "#9c179e"
                          ],
                          [
                            0.4444444444444444,
                            "#bd3786"
                          ],
                          [
                            0.5555555555555556,
                            "#d8576b"
                          ],
                          [
                            0.6666666666666666,
                            "#ed7953"
                          ],
                          [
                            0.7777777777777778,
                            "#fb9f3a"
                          ],
                          [
                            0.8888888888888888,
                            "#fdca26"
                          ],
                          [
                            1,
                            "#f0f921"
                          ]
                        ],
                        "type": "histogram2dcontour"
                      }
                    ],
                    "mesh3d": [
                      {
                        "colorbar": {
                          "outlinewidth": 0,
                          "ticks": ""
                        },
                        "type": "mesh3d"
                      }
                    ],
                    "parcoords": [
                      {
                        "line": {
                          "colorbar": {
                            "outlinewidth": 0,
                            "ticks": ""
                          }
                        },
                        "type": "parcoords"
                      }
                    ],
                    "pie": [
                      {
                        "automargin": true,
                        "type": "pie"
                      }
                    ],
                    "scatter": [
                      {
                        "marker": {
                          "line": {
                            "color": "#283442"
                          }
                        },
                        "type": "scatter"
                      }
                    ],
                    "scatter3d": [
                      {
                        "line": {
                          "colorbar": {
                            "outlinewidth": 0,
                            "ticks": ""
                          }
                        },
                        "marker": {
                          "colorbar": {
                            "outlinewidth": 0,
                            "ticks": ""
                          }
                        },
                        "type": "scatter3d"
                      }
                    ],
                    "scattercarpet": [
                      {
                        "marker": {
                          "colorbar": {
                            "outlinewidth": 0,
                            "ticks": ""
                          }
                        },
                        "type": "scattercarpet"
                      }
                    ],
                    "scattergeo": [
                      {
                        "marker": {
                          "colorbar": {
                            "outlinewidth": 0,
                            "ticks": ""
                          }
                        },
                        "type": "scattergeo"
                      }
                    ],
                    "scattergl": [
                      {
                        "marker": {
                          "line": {
                            "color": "#283442"
                          }
                        },
                        "type": "scattergl"
                      }
                    ],
                    "scattermapbox": [
                      {
                        "marker": {
                          "colorbar": {
                            "outlinewidth": 0,
                            "ticks": ""
                          }
                        },
                        "type": "scattermapbox"
                      }
                    ],
                    "scatterpolar": [
                      {
                        "marker": {
                          "colorbar": {
                            "outlinewidth": 0,
                            "ticks": ""
                          }
                        },
                        "type": "scatterpolar"
                      }
                    ],
                    "scatterpolargl": [
                      {
                        "marker": {
                          "colorbar": {
                            "outlinewidth": 0,
                            "ticks": ""
                          }
                        },
                        "type": "scatterpolargl"
                      }
                    ],
                    "scatterternary": [
                      {
                        "marker": {
                          "colorbar": {
                            "outlinewidth": 0,
                            "ticks": ""
                          }
                        },
                        "type": "scatterternary"
                      }
                    ],
                    "surface": [
                      {
                        "colorbar": {
                          "outlinewidth": 0,
                          "ticks": ""
                        },
                        "colorscale": [
                          [
                            0,
                            "#0d0887"
                          ],
                          [
                            0.1111111111111111,
                            "#46039f"
                          ],
                          [
                            0.2222222222222222,
                            "#7201a8"
                          ],
                          [
                            0.3333333333333333,
                            "#9c179e"
                          ],
                          [
                            0.4444444444444444,
                            "#bd3786"
                          ],
                          [
                            0.5555555555555556,
                            "#d8576b"
                          ],
                          [
                            0.6666666666666666,
                            "#ed7953"
                          ],
                          [
                            0.7777777777777778,
                            "#fb9f3a"
                          ],
                          [
                            0.8888888888888888,
                            "#fdca26"
                          ],
                          [
                            1,
                            "#f0f921"
                          ]
                        ],
                        "type": "surface"
                      }
                    ],
                    "table": [
                      {
                        "cells": {
                          "fill": {
                            "color": "#506784"
                          },
                          "line": {
                            "color": "rgb(17,17,17)"
                          }
                        },
                        "header": {
                          "fill": {
                            "color": "#2a3f5f"
                          },
                          "line": {
                            "color": "rgb(17,17,17)"
                          }
                        },
                        "type": "table"
                      }
                    ]
                  },
                  "layout": {
                    "annotationdefaults": {
                      "arrowcolor": "#f2f5fa",
                      "arrowhead": 0,
                      "arrowwidth": 1
                    },
                    "autotypenumbers": "strict",
                    "coloraxis": {
                      "colorbar": {
                        "outlinewidth": 0,
                        "ticks": ""
                      }
                    },
                    "colorscale": {
                      "diverging": [
                        [
                          0,
                          "#8e0152"
                        ],
                        [
                          0.1,
                          "#c51b7d"
                        ],
                        [
                          0.2,
                          "#de77ae"
                        ],
                        [
                          0.3,
                          "#f1b6da"
                        ],
                        [
                          0.4,
                          "#fde0ef"
                        ],
                        [
                          0.5,
                          "#f7f7f7"
                        ],
                        [
                          0.6,
                          "#e6f5d0"
                        ],
                        [
                          0.7,
                          "#b8e186"
                        ],
                        [
                          0.8,
                          "#7fbc41"
                        ],
                        [
                          0.9,
                          "#4d9221"
                        ],
                        [
                          1,
                          "#276419"
                        ]
                      ],
                      "sequential": [
                        [
                          0,
                          "#0d0887"
                        ],
                        [
                          0.1111111111111111,
                          "#46039f"
                        ],
                        [
                          0.2222222222222222,
                          "#7201a8"
                        ],
                        [
                          0.3333333333333333,
                          "#9c179e"
                        ],
                        [
                          0.4444444444444444,
                          "#bd3786"
                        ],
                        [
                          0.5555555555555556,
                          "#d8576b"
                        ],
                        [
                          0.6666666666666666,
                          "#ed7953"
                        ],
                        [
                          0.7777777777777778,
                          "#fb9f3a"
                        ],
                        [
                          0.8888888888888888,
                          "#fdca26"
                        ],
                        [
                          1,
                          "#f0f921"
                        ]
                      ],
                      "sequentialminus": [
                        [
                          0,
                          "#0d0887"
                        ],
                        [
                          0.1111111111111111,
                          "#46039f"
                        ],
                        [
                          0.2222222222222222,
                          "#7201a8"
                        ],
                        [
                          0.3333333333333333,
                          "#9c179e"
                        ],
                        [
                          0.4444444444444444,
                          "#bd3786"
                        ],
                        [
                          0.5555555555555556,
                          "#d8576b"
                        ],
                        [
                          0.6666666666666666,
                          "#ed7953"
                        ],
                        [
                          0.7777777777777778,
                          "#fb9f3a"
                        ],
                        [
                          0.8888888888888888,
                          "#fdca26"
                        ],
                        [
                          1,
                          "#f0f921"
                        ]
                      ]
                    },
                    "colorway": [
                      "#636efa",
                      "#EF553B",
                      "#00cc96",
                      "#ab63fa",
                      "#FFA15A",
                      "#19d3f3",
                      "#FF6692",
                      "#B6E880",
                      "#FF97FF",
                      "#FECB52"
                    ],
                    "font": {
                      "color": "#f2f5fa"
                    },
                    "geo": {
                      "bgcolor": "rgb(17,17,17)",
                      "lakecolor": "rgb(17,17,17)",
                      "landcolor": "rgb(17,17,17)",
                      "showlakes": true,
                      "showland": true,
                      "subunitcolor": "#506784"
                    },
                    "hoverlabel": {
                      "align": "left"
                    },
                    "hovermode": "closest",
                    "mapbox": {
                      "style": "dark"
                    },
                    "paper_bgcolor": "rgb(17,17,17)",
                    "plot_bgcolor": "rgb(17,17,17)",
                    "polar": {
                      "angularaxis": {
                        "gridcolor": "#506784",
                        "linecolor": "#506784",
                        "ticks": ""
                      },
                      "bgcolor": "rgb(17,17,17)",
                      "radialaxis": {
                        "gridcolor": "#506784",
                        "linecolor": "#506784",
                        "ticks": ""
                      }
                    },
                    "scene": {
                      "xaxis": {
                        "backgroundcolor": "rgb(17,17,17)",
                        "gridcolor": "#506784",
                        "gridwidth": 2,
                        "linecolor": "#506784",
                        "showbackground": true,
                        "ticks": "",
                        "zerolinecolor": "#C8D4E3"
                      },
                      "yaxis": {
                        "backgroundcolor": "rgb(17,17,17)",
                        "gridcolor": "#506784",
                        "gridwidth": 2,
                        "linecolor": "#506784",
                        "showbackground": true,
                        "ticks": "",
                        "zerolinecolor": "#C8D4E3"
                      },
                      "zaxis": {
                        "backgroundcolor": "rgb(17,17,17)",
                        "gridcolor": "#506784",
                        "gridwidth": 2,
                        "linecolor": "#506784",
                        "showbackground": true,
                        "ticks": "",
                        "zerolinecolor": "#C8D4E3"
                      }
                    },
                    "shapedefaults": {
                      "line": {
                        "color": "#f2f5fa"
                      }
                    },
                    "sliderdefaults": {
                      "bgcolor": "#C8D4E3",
                      "bordercolor": "rgb(17,17,17)",
                      "borderwidth": 1,
                      "tickwidth": 0
                    },
                    "ternary": {
                      "aaxis": {
                        "gridcolor": "#506784",
                        "linecolor": "#506784",
                        "ticks": ""
                      },
                      "baxis": {
                        "gridcolor": "#506784",
                        "linecolor": "#506784",
                        "ticks": ""
                      },
                      "bgcolor": "rgb(17,17,17)",
                      "caxis": {
                        "gridcolor": "#506784",
                        "linecolor": "#506784",
                        "ticks": ""
                      }
                    },
                    "title": {
                      "x": 0.05
                    },
                    "updatemenudefaults": {
                      "bgcolor": "#506784",
                      "borderwidth": 0
                    },
                    "xaxis": {
                      "automargin": true,
                      "gridcolor": "#283442",
                      "linecolor": "#506784",
                      "ticks": "",
                      "title": {
                        "standoff": 15
                      },
                      "zerolinecolor": "#283442",
                      "zerolinewidth": 2
                    },
                    "yaxis": {
                      "automargin": true,
                      "gridcolor": "#283442",
                      "linecolor": "#506784",
                      "ticks": "",
                      "title": {
                        "standoff": 15
                      },
                      "zerolinecolor": "#283442",
                      "zerolinewidth": 2
                    }
                  }
                },
                "title": {
                  "text": "Taux de survie par classe paasager"
                },
                "width": 1000,
                "xaxis": {
                  "anchor": "y",
                  "categoryarray": [
                    3,
                    1,
                    2
                  ],
                  "categoryorder": "array",
                  "domain": [
                    0,
                    1
                  ],
                  "title": {
                    "text": "Classe Passager"
                  }
                },
                "yaxis": {
                  "anchor": "x",
                  "domain": [
                    0,
                    1
                  ],
                  "title": {
                    "text": "count"
                  }
                }
              }
            }
          },
          "metadata": {},
          "output_type": "display_data"
        }
      ],
      "source": [
        "fig=px.histogram(data_frame=df_titanic, \n",
        "            x='Pclass',\n",
        "            color='Pclass',\n",
        "            labels={'Pclass': 'Classe Passager'},\n",
        "            color_discrete_sequence=px.colors.qualitative.Pastel,\n",
        "            )\n",
        "\n",
        "fig.update_layout(width=1000, height=600, title='Taux de survie par classe paasager', template='plotly_dark')\n",
        "fig.show()\n"
      ]
    },
    {
      "cell_type": "markdown",
      "metadata": {
        "id": "Sdzi-h3un-XT"
      },
      "source": [
        "## You are looking for Jack. How many people named Jack on board?"
      ]
    },
    {
      "cell_type": "code",
      "execution_count": 24,
      "metadata": {
        "colab": {
          "base_uri": "https://localhost:8080/",
          "height": 81
        },
        "id": "UDGn6qWIn7Ql",
        "outputId": "027eae99-edf6-438a-cae5-c041980e54b3"
      },
      "outputs": [
        {
          "data": {
            "text/html": [
              "<div>\n",
              "<style scoped>\n",
              "    .dataframe tbody tr th:only-of-type {\n",
              "        vertical-align: middle;\n",
              "    }\n",
              "\n",
              "    .dataframe tbody tr th {\n",
              "        vertical-align: top;\n",
              "    }\n",
              "\n",
              "    .dataframe thead th {\n",
              "        text-align: right;\n",
              "    }\n",
              "</style>\n",
              "<table border=\"1\" class=\"dataframe\">\n",
              "  <thead>\n",
              "    <tr style=\"text-align: right;\">\n",
              "      <th></th>\n",
              "      <th>Name</th>\n",
              "      <th>Sex</th>\n",
              "      <th>Age</th>\n",
              "      <th>Fare</th>\n",
              "      <th>Survived</th>\n",
              "      <th>Pclass</th>\n",
              "      <th>Siblings/Spouses Aboard</th>\n",
              "      <th>Parents/Children Aboard</th>\n",
              "    </tr>\n",
              "  </thead>\n",
              "  <tbody>\n",
              "    <tr>\n",
              "      <th>762</th>\n",
              "      <td>Dr. Arthur Jackson Brewe</td>\n",
              "      <td>0</td>\n",
              "      <td>46</td>\n",
              "      <td>39.6</td>\n",
              "      <td>0</td>\n",
              "      <td>1</td>\n",
              "      <td>0</td>\n",
              "      <td>0</td>\n",
              "    </tr>\n",
              "  </tbody>\n",
              "</table>\n",
              "</div>"
            ],
            "text/plain": [
              "                         Name  Sex  Age  Fare  Survived  Pclass  \\\n",
              "762  Dr. Arthur Jackson Brewe    0   46  39.6         0       1   \n",
              "\n",
              "     Siblings/Spouses Aboard  Parents/Children Aboard  \n",
              "762                        0                        0  "
            ]
          },
          "execution_count": 24,
          "metadata": {},
          "output_type": "execute_result"
        }
      ],
      "source": [
        "# How many people named Jack on board?\n",
        "df_Jack = df_titanic[(df_titanic['Name'].str.contains('Jack')) | (df_titanic['Name'].str.contains('jack'))]\n",
        "df_Jack\n"
      ]
    },
    {
      "cell_type": "code",
      "execution_count": 25,
      "metadata": {
        "colab": {
          "base_uri": "https://localhost:8080/",
          "height": 35
        },
        "id": "tiO9kooF58Fs",
        "outputId": "7f01be6a-513d-44cb-b9eb-209018da2ff2"
      },
      "outputs": [
        {
          "data": {
            "text/plain": [
              "'On the board we have 1 person who is name Jack'"
            ]
          },
          "execution_count": 25,
          "metadata": {},
          "output_type": "execute_result"
        }
      ],
      "source": [
        "f\"On the board we have {len(df_Jack)} person who is name Jack\""
      ]
    },
    {
      "cell_type": "markdown",
      "metadata": {
        "id": "vpruBrCOnOw8"
      },
      "source": [
        "# Logistic regression\n",
        "\n",
        "Today, in this quest, you have an extraordinary power: you can travel in time to try to save some passengers. \n",
        "You obviously wanted to save Jack. But you didn't find his name on the list. He probably travels under a false name...\n",
        "Too bad, thanks to this trip, you will still try to save as many people as possible. To do this, you have to identify the people who are most probably going to die. \n",
        "\n",
        "- Select features (X) with only numeric values, and without \"Survived\" column\n",
        "- Select \"Survived\" column as target (y)\n",
        "- Split your data with **random_state = 36**\n",
        "- Train a logistic regression\n",
        "- Print the accuracy score on the train set and on the test set. Is there overfitting?\n",
        "- Print the Confusion Matrix on the test set\n",
        "- How many iterations were needed to train this model?"
      ]
    },
    {
      "cell_type": "markdown",
      "metadata": {
        "id": "3wN4JMwxen6e"
      },
      "source": [
        "## Train Test Split\n",
        "  "
      ]
    },
    {
      "cell_type": "code",
      "execution_count": 26,
      "metadata": {
        "colab": {
          "base_uri": "https://localhost:8080/",
          "height": 90
        },
        "id": "FTEj92Yuer8L",
        "outputId": "e5ca7ea6-a525-4036-cbaa-d9fb3dcbd401"
      },
      "outputs": [
        {
          "name": "stdout",
          "output_type": "stream",
          "text": [
            "The accuracy score for training set: 0.82\n",
            "The accuracy score  for test set: 0.79\n",
            "we don't have overfitting\n"
          ]
        },
        {
          "data": {
            "text/plain": [
              "'we have need [83] iterations for train this model'"
            ]
          },
          "execution_count": 26,
          "metadata": {},
          "output_type": "execute_result"
        }
      ],
      "source": [
        "from sklearn.model_selection import train_test_split\n",
        "from sklearn.linear_model import LogisticRegression\n",
        "\n",
        "# Select features (X) with only numeric values, and without \"Survived\" column\n",
        "# Select \"Survived\" column as target (y)\n",
        "var_corr = [\"Sex\", \"Age\", \"Fare\", \"Pclass\",\"Siblings/Spouses Aboard\", \"Parents/Children Aboard\"]\n",
        "\n",
        "X = df_titanic[var_corr] \n",
        "y = df_titanic['Survived'] \n",
        "\n",
        "#Split your data with random_state = 36\n",
        "X_train, X_test, y_train, y_test = train_test_split(X, y, random_state=36, train_size = 0.75)\n",
        "\n",
        "#Train a logistic regression\n",
        "newmodel = LogisticRegression().fit(X_train, y_train)\n",
        "\n",
        "#Print the accuracy score on the train set and on the test set. Is there overfitting?\n",
        "print(f\"The accuracy score for training set: {round(newmodel.score(X_train, y_train),2)}\")\n",
        "print(f\"The accuracy score  for test set: {round(newmodel.score(X_test, y_test),2)}\")\n",
        "print(f\"we don't have overfitting\")\n",
        "\n",
        "\n",
        "# Print the Confusion Matrix on the test set (with max_iter)\n",
        "newmodel2 = LogisticRegression(max_iter=100)\n",
        "newmodel2.fit(X_test, y_test)\n",
        "var = newmodel2.n_iter_\n",
        "\n",
        "#How many iterations were needed to train this model?\n",
        "f\"we have need {var} iterations for train this model\""
      ]
    },
    {
      "cell_type": "markdown",
      "metadata": {
        "id": "SJ4z3yi9w5Ja"
      },
      "source": [
        "# Model improvement\n",
        "\n",
        "With your fancy time machine, you can, and you will save all the people that the model will predict as dead. But you won't save people predicted as \"survived\" (because it's not necessary). So change the weights of the classes to be very careful: your goal is to save all the people at risk. So, in this case, it's better to have \"actual survived\" peopple predicted as death, because you'll save them anyway. Otherwise, \"actual death\" predicted as survived won't be saved by your time machine.\n",
        "- Change the weight of the classes\n",
        "- Fit the model on train set\n",
        "- Print the accuracy score on the train set and on the test set\n",
        "- Print the Confusion Matrix on the test set, you must have no deaths that have been predicted as \"Survived\"."
      ]
    },
    {
      "cell_type": "code",
      "execution_count": 27,
      "metadata": {
        "colab": {
          "base_uri": "https://localhost:8080/",
          "height": 206
        },
        "id": "4VlOrn88HYrm",
        "outputId": "8aa62aec-a1a1-41eb-ffa1-f17179bab2e2"
      },
      "outputs": [
        {
          "data": {
            "text/html": [
              "<div>\n",
              "<style scoped>\n",
              "    .dataframe tbody tr th:only-of-type {\n",
              "        vertical-align: middle;\n",
              "    }\n",
              "\n",
              "    .dataframe tbody tr th {\n",
              "        vertical-align: top;\n",
              "    }\n",
              "\n",
              "    .dataframe thead th {\n",
              "        text-align: right;\n",
              "    }\n",
              "</style>\n",
              "<table border=\"1\" class=\"dataframe\">\n",
              "  <thead>\n",
              "    <tr style=\"text-align: right;\">\n",
              "      <th></th>\n",
              "      <th>Name</th>\n",
              "      <th>Sex</th>\n",
              "      <th>Age</th>\n",
              "      <th>Fare</th>\n",
              "      <th>Survived</th>\n",
              "      <th>Pclass</th>\n",
              "      <th>Siblings/Spouses Aboard</th>\n",
              "      <th>Parents/Children Aboard</th>\n",
              "    </tr>\n",
              "  </thead>\n",
              "  <tbody>\n",
              "    <tr>\n",
              "      <th>0</th>\n",
              "      <td>Mr. Owen Harris Braund</td>\n",
              "      <td>0</td>\n",
              "      <td>22</td>\n",
              "      <td>7.25</td>\n",
              "      <td>0</td>\n",
              "      <td>3</td>\n",
              "      <td>1</td>\n",
              "      <td>0</td>\n",
              "    </tr>\n",
              "    <tr>\n",
              "      <th>1</th>\n",
              "      <td>Mrs. John Bradley (Florence Briggs Thayer) Cum...</td>\n",
              "      <td>1</td>\n",
              "      <td>38</td>\n",
              "      <td>71.28</td>\n",
              "      <td>1</td>\n",
              "      <td>1</td>\n",
              "      <td>1</td>\n",
              "      <td>0</td>\n",
              "    </tr>\n",
              "    <tr>\n",
              "      <th>2</th>\n",
              "      <td>Miss. Laina Heikkinen</td>\n",
              "      <td>1</td>\n",
              "      <td>26</td>\n",
              "      <td>7.92</td>\n",
              "      <td>1</td>\n",
              "      <td>3</td>\n",
              "      <td>0</td>\n",
              "      <td>0</td>\n",
              "    </tr>\n",
              "    <tr>\n",
              "      <th>3</th>\n",
              "      <td>Mrs. Jacques Heath (Lily May Peel) Futrelle</td>\n",
              "      <td>1</td>\n",
              "      <td>35</td>\n",
              "      <td>53.10</td>\n",
              "      <td>1</td>\n",
              "      <td>1</td>\n",
              "      <td>1</td>\n",
              "      <td>0</td>\n",
              "    </tr>\n",
              "    <tr>\n",
              "      <th>4</th>\n",
              "      <td>Mr. William Henry Allen</td>\n",
              "      <td>0</td>\n",
              "      <td>35</td>\n",
              "      <td>8.05</td>\n",
              "      <td>0</td>\n",
              "      <td>3</td>\n",
              "      <td>0</td>\n",
              "      <td>0</td>\n",
              "    </tr>\n",
              "  </tbody>\n",
              "</table>\n",
              "</div>"
            ],
            "text/plain": [
              "                                                Name  Sex  Age   Fare  \\\n",
              "0                             Mr. Owen Harris Braund    0   22   7.25   \n",
              "1  Mrs. John Bradley (Florence Briggs Thayer) Cum...    1   38  71.28   \n",
              "2                              Miss. Laina Heikkinen    1   26   7.92   \n",
              "3        Mrs. Jacques Heath (Lily May Peel) Futrelle    1   35  53.10   \n",
              "4                            Mr. William Henry Allen    0   35   8.05   \n",
              "\n",
              "   Survived  Pclass  Siblings/Spouses Aboard  Parents/Children Aboard  \n",
              "0         0       3                        1                        0  \n",
              "1         1       1                        1                        0  \n",
              "2         1       3                        0                        0  \n",
              "3         1       1                        1                        0  \n",
              "4         0       3                        0                        0  "
            ]
          },
          "execution_count": 27,
          "metadata": {},
          "output_type": "execute_result"
        }
      ],
      "source": [
        "df_titanic2 = df_titanic.copy()\n",
        "df_titanic2.head()"
      ]
    },
    {
      "cell_type": "code",
      "execution_count": 28,
      "metadata": {
        "colab": {
          "base_uri": "https://localhost:8080/"
        },
        "id": "w6yX4A58KdlC",
        "outputId": "99471858-d591-4723-9b1e-46b18c81dac4"
      },
      "outputs": [
        {
          "data": {
            "text/plain": [
              "0      0\n",
              "1      1\n",
              "2      1\n",
              "3      1\n",
              "4      0\n",
              "      ..\n",
              "882    0\n",
              "883    1\n",
              "884    0\n",
              "885    1\n",
              "886    0\n",
              "Name: Survived, Length: 887, dtype: int64"
            ]
          },
          "execution_count": 28,
          "metadata": {},
          "output_type": "execute_result"
        }
      ],
      "source": [
        "df_titanic2.loc[:,'Survived']"
      ]
    },
    {
      "cell_type": "code",
      "execution_count": 29,
      "metadata": {
        "id": "GhNHxZIFHyso"
      },
      "outputs": [],
      "source": [
        "var_corr = ['Pclass',\t'Sex',\t'Age','Siblings/Spouses Aboard', 'Parents/Children Aboard','Fare']\n",
        "\n",
        "X = df_titanic2[var_corr] \n",
        "y = df_titanic2['Survived'] \n",
        "\n",
        "\n",
        "#Split your data with random_state = 36\n",
        "X_train, X_test, y_train, y_test = train_test_split(X, y, random_state=36, train_size = 0.75)\n"
      ]
    },
    {
      "cell_type": "code",
      "execution_count": 30,
      "metadata": {
        "id": "nsUm4Z33Li_k"
      },
      "outputs": [],
      "source": [
        "#Fit the model on train set : \n",
        "model = LogisticRegression(class_weight={1:3, 0:1}).fit(X_train, y_train)"
      ]
    },
    {
      "cell_type": "code",
      "execution_count": 31,
      "metadata": {
        "colab": {
          "base_uri": "https://localhost:8080/"
        },
        "id": "egoH7CzKM_1y",
        "outputId": "8e9b5118-aa24-42fc-fc3e-067157a39377"
      },
      "outputs": [
        {
          "name": "stdout",
          "output_type": "stream",
          "text": [
            "The accuracy score for training set: 0.76\n",
            "The accuracy score  for test set: 0.73\n"
          ]
        }
      ],
      "source": [
        "# Print the accuracy score on the train set and on the test set\n",
        "\n",
        "print(f\"The accuracy score for training set: {round(model.score(X_train, y_train),2)}\")\n",
        "print(f\"The accuracy score  for test set: {round(model.score(X_test, y_test),2)}\")"
      ]
    },
    {
      "cell_type": "code",
      "execution_count": 32,
      "metadata": {
        "colab": {
          "base_uri": "https://localhost:8080/"
        },
        "id": "GkJbSfiaLq-N",
        "outputId": "3f0e482e-a4da-4de8-9fec-145d1a549fd3"
      },
      "outputs": [
        {
          "data": {
            "text/plain": [
              "array([0, 0, 0, 1, 1, 0, 0, 0, 0, 0, 1, 0, 1, 1, 0, 0, 0, 0, 1, 0, 1, 0,\n",
              "       0, 1, 0, 1, 1, 0, 1, 0, 0, 0, 1, 1, 0, 1, 0, 0, 0, 0, 1, 1, 0, 1,\n",
              "       1, 0, 0, 1, 0, 0, 0, 1, 0, 1, 1, 1, 0, 0, 1, 0, 1, 1, 0, 0, 0, 0,\n",
              "       1, 0, 1, 0, 0, 1, 1, 1, 0, 0, 1, 1, 0, 0, 0, 0, 0, 1, 0, 1, 0, 1,\n",
              "       0, 1, 1, 0, 0, 1, 1, 0, 0, 0, 1, 1, 0, 0, 1, 1, 1, 0, 0, 0, 1, 1,\n",
              "       0, 1, 1, 1, 1, 1, 1, 0, 0, 0, 1, 0, 0, 1, 1, 0, 0, 0, 1, 1, 1, 0,\n",
              "       1, 0, 1, 1, 0, 0, 0, 0, 1, 0, 1, 1, 1, 1, 1, 1, 0, 1, 1, 0, 1, 0,\n",
              "       1, 0, 0, 1, 1, 1, 1, 1, 1, 1, 0, 0, 1, 0, 0, 1, 1, 0, 1, 0, 1, 0,\n",
              "       0, 1, 0, 1, 0, 1, 1, 1, 1, 0, 1, 1, 1, 1, 0, 1, 1, 1, 0, 1, 0, 0,\n",
              "       1, 0, 1, 0, 0, 1, 1, 1, 1, 1, 1, 0, 0, 0, 0, 0, 1, 0, 1, 0, 1, 1,\n",
              "       1, 0, 1, 1, 1, 0, 1, 1, 0, 1, 1, 1, 0, 0, 1, 1, 0, 1, 1, 1, 1, 1,\n",
              "       0, 0, 1, 1, 0, 0, 1, 0, 1, 1, 1, 0, 0, 1, 1, 1, 1, 0, 0, 0, 0, 1,\n",
              "       1, 1, 1, 0, 0, 0, 0, 1, 0, 0, 1, 1, 1, 1, 1, 1, 1, 1, 0, 0, 0, 0,\n",
              "       1, 1, 1, 0, 0, 0, 0, 1, 0, 1, 0, 0, 1, 0, 1, 1, 1, 0, 0, 1, 0, 1,\n",
              "       1, 0, 1, 0, 1, 0, 0, 1, 1, 0, 0, 0, 1, 1, 1, 0, 0, 0, 1, 0, 0, 0,\n",
              "       0, 0, 1, 1, 0, 0, 0, 0, 0, 0, 0, 0, 0, 0, 1, 1, 0, 1, 0, 0, 1, 0,\n",
              "       1, 1, 0, 1, 0, 1, 1, 1, 1, 0, 0, 1, 0, 1, 0, 0, 0, 1, 1, 0, 1, 1,\n",
              "       0, 0, 1, 0, 1, 0, 1, 0, 1, 0, 0, 0, 0, 1, 1, 0, 1, 1, 0, 0, 1, 1,\n",
              "       0, 1, 1, 1, 0, 1, 1, 1, 1, 0, 0, 1, 0, 1, 1, 1, 1, 1, 1, 0, 1, 0,\n",
              "       0, 0, 1, 0, 1, 1, 1, 0, 0, 0, 0, 0, 1, 0, 0, 1, 1, 0, 1, 0, 0, 1,\n",
              "       0, 0, 0, 1, 0, 0, 0, 0, 0, 1, 0, 1, 1, 1, 0, 0, 0, 0, 0, 1, 1, 0,\n",
              "       1, 0, 0, 1, 1, 0, 0, 0, 0, 1, 1, 1, 1, 1, 1, 0, 1, 1, 0, 0, 0, 1,\n",
              "       1, 0, 0, 1, 0, 0, 1, 1, 1, 1, 0, 1, 1, 1, 0, 0, 0, 0, 0, 1, 1, 0,\n",
              "       1, 0, 1, 1, 1, 0, 1, 0, 0, 0, 0, 1, 1, 1, 1, 0, 1, 1, 0, 1, 1, 1,\n",
              "       1, 0, 1, 0, 1, 0, 1, 1, 1, 0, 0, 0, 1, 1, 1, 0, 0, 0, 1, 0, 1, 1,\n",
              "       1, 0, 0, 1, 1, 0, 0, 1, 0, 1, 0, 0, 0, 1, 0, 0, 1, 1, 0, 1, 0, 1,\n",
              "       1, 0, 1, 0, 1, 1, 0, 1, 0, 0, 0, 1, 1, 1, 1, 0, 0, 1, 0, 1, 0, 0,\n",
              "       0, 0, 0, 1, 0, 1, 1, 1, 1, 1, 1, 0, 0, 0, 1, 1, 0, 0, 0, 1, 0, 1,\n",
              "       1, 0, 0, 1, 0, 0, 1, 0, 0, 0, 0, 1, 1, 1, 1, 0, 1, 0, 0, 0, 0, 0,\n",
              "       0, 1, 0, 0, 0, 1, 1, 1, 0, 0, 0, 1, 1, 0, 1, 0, 1, 1, 0, 0, 1, 0,\n",
              "       1, 1, 0, 0, 0], dtype=int64)"
            ]
          },
          "execution_count": 32,
          "metadata": {},
          "output_type": "execute_result"
        }
      ],
      "source": [
        "# Perform prediction using the train dataset\n",
        "survived_predict = model.predict(X_train)\n",
        "survived_predict"
      ]
    },
    {
      "cell_type": "code",
      "execution_count": 33,
      "metadata": {
        "colab": {
          "base_uri": "https://localhost:8080/"
        },
        "id": "Nbiv8963LtNG",
        "outputId": "d14ee90d-34b9-4504-8081-79078598d266"
      },
      "outputs": [
        {
          "data": {
            "text/plain": [
              "array([[294, 122],\n",
              "       [ 40, 209]], dtype=int64)"
            ]
          },
          "execution_count": 33,
          "metadata": {},
          "output_type": "execute_result"
        }
      ],
      "source": [
        "# Display the Confusion Matrix - Show the Confusion Matrix\n",
        "confusion_matrix(y_train, survived_predict)"
      ]
    },
    {
      "cell_type": "code",
      "execution_count": 34,
      "metadata": {
        "colab": {
          "base_uri": "https://localhost:8080/"
        },
        "id": "NhaPN_Y8oC2X",
        "outputId": "a3868534-6b0e-43f8-81bf-e665deb47830"
      },
      "outputs": [
        {
          "data": {
            "text/plain": [
              "(665, 6)"
            ]
          },
          "execution_count": 34,
          "metadata": {},
          "output_type": "execute_result"
        }
      ],
      "source": [
        "# For check if I have the same number person of my predict\n",
        "X_train.shape"
      ]
    },
    {
      "cell_type": "code",
      "execution_count": 35,
      "metadata": {
        "colab": {
          "base_uri": "https://localhost:8080/"
        },
        "id": "S__TU3R0OInT",
        "outputId": "82223b11-ded5-4053-9c39-fa23753be232"
      },
      "outputs": [
        {
          "name": "stdout",
          "output_type": "stream",
          "text": [
            "True positive: 294 (upper-left) – Number of survived we predicted correctly\n",
            "True negative: 122 (lower-right) – Number of dead we predicted correctly\n",
            "False positive: 40 (top-right) – Number of survived we predicted wrongly\n",
            "False negative: 209 (lower-left) – Number of dead we predicted wrongly\n",
            "I have 665 persons on my X-train with predict\n"
          ]
        }
      ],
      "source": [
        "#We can deduce from the confusion matrix that:\n",
        "\n",
        "print(f\"True positive: {confusion_matrix(y_train, survived_predict)[0][0]} (upper-left) – Number of survived we predicted correctly\")\n",
        "print(f\"True negative: {confusion_matrix(y_train, survived_predict)[0][1]} (lower-right) – Number of dead we predicted correctly\")\n",
        "print(f\"False positive: {confusion_matrix(y_train, survived_predict)[1][0]} (top-right) – Number of survived we predicted wrongly\")\n",
        "print(f\"False negative: {confusion_matrix(y_train, survived_predict)[1][1]} (lower-left) – Number of dead we predicted wrongly\")\n",
        "print(f\"I have {confusion_matrix(y_train, survived_predict)[0][0] + confusion_matrix(y_train, survived_predict)[0][1] + confusion_matrix(y_train, survived_predict)[1][0] + confusion_matrix(y_train, survived_predict)[1][1]} persons on my X-train with predict\")"
      ]
    },
    {
      "cell_type": "markdown",
      "metadata": {
        "id": "hZzv1nztzdbf"
      },
      "source": [
        "# People most at risk\n",
        "\n",
        "You are looking for people most at risk.\n",
        "- Compute the prediction probabilities **on your test set**\n",
        "- Which column is about \"survived\" probability?\n",
        "- Among the previous prediction probability array, select only the column corresponding to the \"Survived\" probability\n",
        "- Display the passengers by sorting  most likely to survive first (`sorted_values()` method?)"
      ]
    },
    {
      "cell_type": "code",
      "execution_count": 36,
      "metadata": {
        "colab": {
          "base_uri": "https://localhost:8080/"
        },
        "id": "FEj-ZIQp0WUn",
        "outputId": "e7dc7b17-e8b3-4b29-c029-d4a5fd0661ca"
      },
      "outputs": [
        {
          "data": {
            "text/plain": [
              "array([0, 0, 1, 1, 0, 0, 0, 1, 1, 0, 0, 1, 1, 0, 0, 1, 1, 1, 0, 1, 0, 1,\n",
              "       0, 1, 1, 1, 1, 1, 0, 1, 0, 0, 1, 0, 1, 0, 0, 1, 1, 1, 1, 0, 0, 1,\n",
              "       0, 1, 0, 1, 1, 0, 0, 1, 0, 1, 1, 0, 0, 1, 0, 0, 0, 0, 0, 0, 0, 1,\n",
              "       1, 1, 1, 1, 0, 1, 0, 1, 1, 1, 1, 0, 1, 0, 1, 0, 0, 1, 0, 0, 0, 1,\n",
              "       1, 1, 1, 0, 1, 1, 0, 1, 0, 1, 0, 1, 1, 1, 0, 1, 1, 1, 1, 1, 1, 1,\n",
              "       1, 0, 0, 0, 1, 0, 0, 0, 1, 0, 0, 1, 1, 1, 1, 1, 0, 1, 0, 1, 1, 1,\n",
              "       0, 0, 0, 1, 1, 1, 0, 0, 0, 0, 0, 1, 0, 1, 1, 1, 0, 1, 0, 0, 1, 0,\n",
              "       0, 1, 1, 0, 0, 0, 1, 1, 1, 1, 1, 0, 1, 0, 0, 1, 1, 0, 0, 1, 1, 0,\n",
              "       1, 1, 1, 0, 1, 0, 0, 1, 0, 0, 0, 0, 0, 1, 1, 0, 0, 1, 0, 0, 1, 0,\n",
              "       0, 0, 0, 0, 1, 1, 1, 1, 0, 1, 1, 1, 1, 1, 1, 0, 0, 0, 0, 1, 0, 1,\n",
              "       1, 1], dtype=int64)"
            ]
          },
          "execution_count": 36,
          "metadata": {},
          "output_type": "execute_result"
        }
      ],
      "source": [
        "# It's up to you:\n",
        "\n",
        "# Perform prediction using the test dataset\n",
        "survived_predict_test = model.predict(X_test)\n",
        "survived_predict_test"
      ]
    },
    {
      "cell_type": "code",
      "execution_count": 37,
      "metadata": {
        "id": "TQ_vajcaGxW3"
      },
      "outputs": [
        {
          "name": "stderr",
          "output_type": "stream",
          "text": [
            "C:\\Users\\cathe\\AppData\\Local\\Temp/ipykernel_17780/1348368508.py:2: SettingWithCopyWarning:\n",
            "\n",
            "\n",
            "A value is trying to be set on a copy of a slice from a DataFrame.\n",
            "Try using .loc[row_indexer,col_indexer] = value instead\n",
            "\n",
            "See the caveats in the documentation: https://pandas.pydata.org/pandas-docs/stable/user_guide/indexing.html#returning-a-view-versus-a-copy\n",
            "\n"
          ]
        }
      ],
      "source": [
        "#add column in my test dataset\n",
        "X_test['survived_predict'] = survived_predict_test"
      ]
    },
    {
      "cell_type": "code",
      "execution_count": 38,
      "metadata": {
        "colab": {
          "base_uri": "https://localhost:8080/",
          "height": 363
        },
        "id": "h0nuO6aiMrg0",
        "outputId": "8ddee6b5-80e5-41f0-a189-2ef3cc617e47"
      },
      "outputs": [
        {
          "data": {
            "text/html": [
              "<div>\n",
              "<style scoped>\n",
              "    .dataframe tbody tr th:only-of-type {\n",
              "        vertical-align: middle;\n",
              "    }\n",
              "\n",
              "    .dataframe tbody tr th {\n",
              "        vertical-align: top;\n",
              "    }\n",
              "\n",
              "    .dataframe thead th {\n",
              "        text-align: right;\n",
              "    }\n",
              "</style>\n",
              "<table border=\"1\" class=\"dataframe\">\n",
              "  <thead>\n",
              "    <tr style=\"text-align: right;\">\n",
              "      <th></th>\n",
              "      <th>Pclass</th>\n",
              "      <th>Sex</th>\n",
              "      <th>Age</th>\n",
              "      <th>Siblings/Spouses Aboard</th>\n",
              "      <th>Parents/Children Aboard</th>\n",
              "      <th>Fare</th>\n",
              "      <th>survived_predict</th>\n",
              "    </tr>\n",
              "  </thead>\n",
              "  <tbody>\n",
              "    <tr>\n",
              "      <th>660</th>\n",
              "      <td>3</td>\n",
              "      <td>0</td>\n",
              "      <td>36</td>\n",
              "      <td>0</td>\n",
              "      <td>0</td>\n",
              "      <td>7.50</td>\n",
              "      <td>0</td>\n",
              "    </tr>\n",
              "    <tr>\n",
              "      <th>52</th>\n",
              "      <td>2</td>\n",
              "      <td>1</td>\n",
              "      <td>29</td>\n",
              "      <td>1</td>\n",
              "      <td>0</td>\n",
              "      <td>26.00</td>\n",
              "      <td>1</td>\n",
              "    </tr>\n",
              "    <tr>\n",
              "      <th>141</th>\n",
              "      <td>3</td>\n",
              "      <td>1</td>\n",
              "      <td>24</td>\n",
              "      <td>1</td>\n",
              "      <td>0</td>\n",
              "      <td>15.85</td>\n",
              "      <td>1</td>\n",
              "    </tr>\n",
              "    <tr>\n",
              "      <th>15</th>\n",
              "      <td>2</td>\n",
              "      <td>1</td>\n",
              "      <td>55</td>\n",
              "      <td>0</td>\n",
              "      <td>0</td>\n",
              "      <td>16.00</td>\n",
              "      <td>1</td>\n",
              "    </tr>\n",
              "    <tr>\n",
              "      <th>296</th>\n",
              "      <td>1</td>\n",
              "      <td>0</td>\n",
              "      <td>47</td>\n",
              "      <td>0</td>\n",
              "      <td>0</td>\n",
              "      <td>30.50</td>\n",
              "      <td>1</td>\n",
              "    </tr>\n",
              "    <tr>\n",
              "      <th>451</th>\n",
              "      <td>3</td>\n",
              "      <td>0</td>\n",
              "      <td>24</td>\n",
              "      <td>0</td>\n",
              "      <td>0</td>\n",
              "      <td>8.05</td>\n",
              "      <td>0</td>\n",
              "    </tr>\n",
              "    <tr>\n",
              "      <th>156</th>\n",
              "      <td>3</td>\n",
              "      <td>0</td>\n",
              "      <td>30</td>\n",
              "      <td>0</td>\n",
              "      <td>0</td>\n",
              "      <td>8.05</td>\n",
              "      <td>0</td>\n",
              "    </tr>\n",
              "    <tr>\n",
              "      <th>166</th>\n",
              "      <td>3</td>\n",
              "      <td>1</td>\n",
              "      <td>45</td>\n",
              "      <td>1</td>\n",
              "      <td>4</td>\n",
              "      <td>27.90</td>\n",
              "      <td>0</td>\n",
              "    </tr>\n",
              "    <tr>\n",
              "      <th>344</th>\n",
              "      <td>2</td>\n",
              "      <td>1</td>\n",
              "      <td>40</td>\n",
              "      <td>0</td>\n",
              "      <td>0</td>\n",
              "      <td>13.00</td>\n",
              "      <td>1</td>\n",
              "    </tr>\n",
              "    <tr>\n",
              "      <th>31</th>\n",
              "      <td>1</td>\n",
              "      <td>1</td>\n",
              "      <td>48</td>\n",
              "      <td>1</td>\n",
              "      <td>0</td>\n",
              "      <td>146.52</td>\n",
              "      <td>1</td>\n",
              "    </tr>\n",
              "  </tbody>\n",
              "</table>\n",
              "</div>"
            ],
            "text/plain": [
              "     Pclass  Sex  Age  Siblings/Spouses Aboard  Parents/Children Aboard  \\\n",
              "660       3    0   36                        0                        0   \n",
              "52        2    1   29                        1                        0   \n",
              "141       3    1   24                        1                        0   \n",
              "15        2    1   55                        0                        0   \n",
              "296       1    0   47                        0                        0   \n",
              "451       3    0   24                        0                        0   \n",
              "156       3    0   30                        0                        0   \n",
              "166       3    1   45                        1                        4   \n",
              "344       2    1   40                        0                        0   \n",
              "31        1    1   48                        1                        0   \n",
              "\n",
              "       Fare  survived_predict  \n",
              "660    7.50                 0  \n",
              "52    26.00                 1  \n",
              "141   15.85                 1  \n",
              "15    16.00                 1  \n",
              "296   30.50                 1  \n",
              "451    8.05                 0  \n",
              "156    8.05                 0  \n",
              "166   27.90                 0  \n",
              "344   13.00                 1  \n",
              "31   146.52                 1  "
            ]
          },
          "execution_count": 38,
          "metadata": {},
          "output_type": "execute_result"
        }
      ],
      "source": [
        "X_test.sample(10)"
      ]
    },
    {
      "cell_type": "code",
      "execution_count": 39,
      "metadata": {
        "colab": {
          "base_uri": "https://localhost:8080/"
        },
        "id": "0spN49BOEAOn",
        "outputId": "4d9869ca-b1c1-4169-81f8-9155e9ae2b07"
      },
      "outputs": [
        {
          "data": {
            "text/plain": [
              "array([[86, 43],\n",
              "       [18, 75]], dtype=int64)"
            ]
          },
          "execution_count": 39,
          "metadata": {},
          "output_type": "execute_result"
        }
      ],
      "source": [
        "# Display the Confusion Matrix - Show the Confusion Matrix\n",
        "confusion_matrix(y_test, survived_predict_test)\n"
      ]
    },
    {
      "cell_type": "code",
      "execution_count": 40,
      "metadata": {
        "colab": {
          "base_uri": "https://localhost:8080/"
        },
        "id": "SvwtCp5aGEs6",
        "outputId": "1f45c951-9d2a-4c56-bfcf-699b5f0f0bbb"
      },
      "outputs": [
        {
          "ename": "NameError",
          "evalue": "name 'y_predict' is not defined",
          "output_type": "error",
          "traceback": [
            "\u001b[1;31m---------------------------------------------------------------------------\u001b[0m",
            "\u001b[1;31mNameError\u001b[0m                                 Traceback (most recent call last)",
            "\u001b[1;32m~\\AppData\\Local\\Temp/ipykernel_17780/3022681046.py\u001b[0m in \u001b[0;36m<module>\u001b[1;34m\u001b[0m\n\u001b[0;32m      1\u001b[0m \u001b[1;31m#We can deduce from the confusion matrix that:\u001b[0m\u001b[1;33m\u001b[0m\u001b[1;33m\u001b[0m\u001b[1;33m\u001b[0m\u001b[0m\n\u001b[1;32m----> 2\u001b[1;33m \u001b[0mprint\u001b[0m\u001b[1;33m(\u001b[0m\u001b[1;34mf\"True positive: {confusion_matrix(y_test, y_predict)[0][0]} (upper-left) – Number of survived we predicted correctly\"\u001b[0m\u001b[1;33m)\u001b[0m\u001b[1;33m\u001b[0m\u001b[1;33m\u001b[0m\u001b[0m\n\u001b[0m\u001b[0;32m      3\u001b[0m \u001b[0mprint\u001b[0m\u001b[1;33m(\u001b[0m\u001b[1;34mf\"True negative: {confusion_matrix(y_test, y_predict)[0][1]} (lower-right) – Number of dead we predicted correctly\"\u001b[0m\u001b[1;33m)\u001b[0m\u001b[1;33m\u001b[0m\u001b[1;33m\u001b[0m\u001b[0m\n\u001b[0;32m      4\u001b[0m \u001b[0mprint\u001b[0m\u001b[1;33m(\u001b[0m\u001b[1;34mf\"False positive: {confusion_matrix(y_test, y_predict)[1][0]} (top-right) – Number of survived we predicted wrongly\"\u001b[0m\u001b[1;33m)\u001b[0m\u001b[1;33m\u001b[0m\u001b[1;33m\u001b[0m\u001b[0m\n\u001b[0;32m      5\u001b[0m \u001b[0mprint\u001b[0m\u001b[1;33m(\u001b[0m\u001b[1;34mf\"False negative: {confusion_matrix(y_test, y_predict)[1][1]} (lower-left) – Number of dead we predicted wrongly\"\u001b[0m\u001b[1;33m)\u001b[0m\u001b[1;33m\u001b[0m\u001b[1;33m\u001b[0m\u001b[0m\n",
            "\u001b[1;31mNameError\u001b[0m: name 'y_predict' is not defined"
          ]
        }
      ],
      "source": [
        "#We can deduce from the confusion matrix that:\n",
        "print(f\"True positive: {confusion_matrix(y_test, y_predict)[0][0]} (upper-left) – Number of survived we predicted correctly\")\n",
        "print(f\"True negative: {confusion_matrix(y_test, y_predict)[0][1]} (lower-right) – Number of dead we predicted correctly\")\n",
        "print(f\"False positive: {confusion_matrix(y_test, y_predict)[1][0]} (top-right) – Number of survived we predicted wrongly\")\n",
        "print(f\"False negative: {confusion_matrix(y_test, y_predict)[1][1]} (lower-left) – Number of dead we predicted wrongly\")\n",
        "print(f\"I have {confusion_matrix(y_test, y_predict)[0][0] + confusion_matrix(y_test, y_predict)[0][1] + confusion_matrix(y_test, y_predict)[1][0] + confusion_matrix(y_test, y_predict)[1][1]} persons on my X-test with predict\")"
      ]
    },
    {
      "cell_type": "code",
      "execution_count": null,
      "metadata": {
        "colab": {
          "base_uri": "https://localhost:8080/"
        },
        "id": "s4fTQN9WXQ3L",
        "outputId": "b6e513db-3e68-419f-daf0-8976056ad259"
      },
      "outputs": [
        {
          "data": {
            "text/plain": [
              "Pclass  Sex  Age  Siblings/Spouses Aboard  Parents/Children Aboard  Fare    survived_predict\n",
              "3       1    18   1                        0                        15.50   1                   1.69\n",
              "             21   0                        0                        7.75    1                   1.69\n",
              "2       0    23   0                        0                        13.00   1                   1.69\n",
              "3       1    40   0                        2                        15.25   1                   0.85\n",
              "2       0    18   0                        0                        11.50   1                   0.85\n",
              "                                                                                                ... \n",
              "3       1    9    3                        2                        27.90   1                   0.85\n",
              "                  4                        2                        31.28   1                   0.85\n",
              "             12   3                        1                        25.47   1                   0.85\n",
              "             13   0                        0                        7.23    1                   0.85\n",
              "1       0    0    1                        2                        151.55  1                   0.85\n",
              "Length: 115, dtype: float64"
            ]
          },
          "execution_count": 796,
          "metadata": {},
          "output_type": "execute_result"
        }
      ],
      "source": [
        "Percent_survived = Survived_survived.value_counts(normalize=True)*100\n",
        "Percent_survived.round(2)\n"
      ]
    },
    {
      "cell_type": "code",
      "execution_count": null,
      "metadata": {
        "colab": {
          "base_uri": "https://localhost:8080/"
        },
        "id": "gvtbkWJfSqTN",
        "outputId": "b8d312ac-af2b-4e26-d721-bc5943a14d2c"
      },
      "outputs": [
        {
          "data": {
            "text/plain": [
              "3    37.29\n",
              "1    32.20\n",
              "2    30.51\n",
              "Name: Pclass, dtype: float64"
            ]
          },
          "execution_count": 797,
          "metadata": {},
          "output_type": "execute_result"
        }
      ],
      "source": [
        "Percent_PC_Class_survived = Survived_survived['Pclass'].value_counts(normalize=True)*100\n",
        "Percent_PC_Class_survived.round(2)"
      ]
    },
    {
      "cell_type": "code",
      "execution_count": null,
      "metadata": {
        "colab": {
          "base_uri": "https://localhost:8080/"
        },
        "id": "8MIabfqIWqjs",
        "outputId": "68d7d0d7-e535-4d9d-8bd6-74391c11b92d"
      },
      "outputs": [
        {
          "data": {
            "text/plain": [
              "1    68.64\n",
              "0    31.36\n",
              "Name: Sex, dtype: float64"
            ]
          },
          "execution_count": 798,
          "metadata": {},
          "output_type": "execute_result"
        }
      ],
      "source": [
        "Percent_gender_survived = Survived_survived['Sex'].value_counts(normalize=True)*100\n",
        "Percent_gender_survived.round(2)"
      ]
    },
    {
      "cell_type": "code",
      "execution_count": null,
      "metadata": {
        "colab": {
          "base_uri": "https://localhost:8080/"
        },
        "id": "M03IZlTbbl8o",
        "outputId": "cc1d2842-0ddd-48fc-b0ff-4d5294433928"
      },
      "outputs": [
        {
          "data": {
            "text/plain": [
              "18    9.32\n",
              "22    5.93\n",
              "24    4.24\n",
              "40    4.24\n",
              "27    4.24\n",
              "28    4.24\n",
              "19    4.24\n",
              "23    4.24\n",
              "35    3.39\n",
              "30    3.39\n",
              "25    2.54\n",
              "42    2.54\n",
              "26    2.54\n",
              "29    2.54\n",
              "17    2.54\n",
              "36    2.54\n",
              "50    1.69\n",
              "21    1.69\n",
              "1     1.69\n",
              "2     1.69\n",
              "31    1.69\n",
              "16    1.69\n",
              "13    1.69\n",
              "38    1.69\n",
              "9     1.69\n",
              "5     0.85\n",
              "6     0.85\n",
              "4     0.85\n",
              "8     0.85\n",
              "15    0.85\n",
              "14    0.85\n",
              "12    0.85\n",
              "60    0.85\n",
              "56    0.85\n",
              "32    0.85\n",
              "55    0.85\n",
              "54    0.85\n",
              "52    0.85\n",
              "51    0.85\n",
              "49    0.85\n",
              "48    0.85\n",
              "47    0.85\n",
              "45    0.85\n",
              "44    0.85\n",
              "43    0.85\n",
              "41    0.85\n",
              "39    0.85\n",
              "37    0.85\n",
              "34    0.85\n",
              "33    0.85\n",
              "0     0.85\n",
              "Name: Age, dtype: float64"
            ]
          },
          "execution_count": 799,
          "metadata": {},
          "output_type": "execute_result"
        }
      ],
      "source": [
        "Percent_age_survived = Survived_survived['Age'].value_counts(normalize=True)*100\n",
        "Percent_age_survived.round(2)"
      ]
    },
    {
      "cell_type": "code",
      "execution_count": null,
      "metadata": {
        "colab": {
          "base_uri": "https://localhost:8080/",
          "height": 300
        },
        "id": "eiPb0W9icJZu",
        "outputId": "fd6b272b-30b2-46f5-f927-f2689c3b8995"
      },
      "outputs": [
        {
          "data": {
            "text/html": [
              "<div>\n",
              "<style scoped>\n",
              "    .dataframe tbody tr th:only-of-type {\n",
              "        vertical-align: middle;\n",
              "    }\n",
              "\n",
              "    .dataframe tbody tr th {\n",
              "        vertical-align: top;\n",
              "    }\n",
              "\n",
              "    .dataframe thead th {\n",
              "        text-align: right;\n",
              "    }\n",
              "</style>\n",
              "<table border=\"1\" class=\"dataframe\">\n",
              "  <thead>\n",
              "    <tr style=\"text-align: right;\">\n",
              "      <th></th>\n",
              "      <th>Pclass</th>\n",
              "      <th>Sex</th>\n",
              "      <th>Age</th>\n",
              "      <th>Siblings/Spouses Aboard</th>\n",
              "      <th>Parents/Children Aboard</th>\n",
              "      <th>Fare</th>\n",
              "      <th>survived_predict</th>\n",
              "    </tr>\n",
              "  </thead>\n",
              "  <tbody>\n",
              "    <tr>\n",
              "      <th>count</th>\n",
              "      <td>118.000000</td>\n",
              "      <td>118.000000</td>\n",
              "      <td>118.000000</td>\n",
              "      <td>118.000000</td>\n",
              "      <td>118.000000</td>\n",
              "      <td>118.000000</td>\n",
              "      <td>118.0</td>\n",
              "    </tr>\n",
              "    <tr>\n",
              "      <th>mean</th>\n",
              "      <td>2.050847</td>\n",
              "      <td>0.686441</td>\n",
              "      <td>27.016949</td>\n",
              "      <td>0.457627</td>\n",
              "      <td>0.415254</td>\n",
              "      <td>41.690169</td>\n",
              "      <td>1.0</td>\n",
              "    </tr>\n",
              "    <tr>\n",
              "      <th>std</th>\n",
              "      <td>0.835612</td>\n",
              "      <td>0.465918</td>\n",
              "      <td>12.961470</td>\n",
              "      <td>0.812762</td>\n",
              "      <td>0.809413</td>\n",
              "      <td>66.286341</td>\n",
              "      <td>0.0</td>\n",
              "    </tr>\n",
              "    <tr>\n",
              "      <th>min</th>\n",
              "      <td>1.000000</td>\n",
              "      <td>0.000000</td>\n",
              "      <td>0.000000</td>\n",
              "      <td>0.000000</td>\n",
              "      <td>0.000000</td>\n",
              "      <td>0.000000</td>\n",
              "      <td>1.0</td>\n",
              "    </tr>\n",
              "    <tr>\n",
              "      <th>25%</th>\n",
              "      <td>1.000000</td>\n",
              "      <td>0.000000</td>\n",
              "      <td>18.000000</td>\n",
              "      <td>0.000000</td>\n",
              "      <td>0.000000</td>\n",
              "      <td>10.672500</td>\n",
              "      <td>1.0</td>\n",
              "    </tr>\n",
              "    <tr>\n",
              "      <th>50%</th>\n",
              "      <td>2.000000</td>\n",
              "      <td>1.000000</td>\n",
              "      <td>25.500000</td>\n",
              "      <td>0.000000</td>\n",
              "      <td>0.000000</td>\n",
              "      <td>20.250000</td>\n",
              "      <td>1.0</td>\n",
              "    </tr>\n",
              "    <tr>\n",
              "      <th>75%</th>\n",
              "      <td>3.000000</td>\n",
              "      <td>1.000000</td>\n",
              "      <td>35.750000</td>\n",
              "      <td>1.000000</td>\n",
              "      <td>0.750000</td>\n",
              "      <td>36.937500</td>\n",
              "      <td>1.0</td>\n",
              "    </tr>\n",
              "    <tr>\n",
              "      <th>max</th>\n",
              "      <td>3.000000</td>\n",
              "      <td>1.000000</td>\n",
              "      <td>60.000000</td>\n",
              "      <td>4.000000</td>\n",
              "      <td>4.000000</td>\n",
              "      <td>512.330000</td>\n",
              "      <td>1.0</td>\n",
              "    </tr>\n",
              "  </tbody>\n",
              "</table>\n",
              "</div>"
            ],
            "text/plain": [
              "           Pclass         Sex  ...        Fare  survived_predict\n",
              "count  118.000000  118.000000  ...  118.000000             118.0\n",
              "mean     2.050847    0.686441  ...   41.690169               1.0\n",
              "std      0.835612    0.465918  ...   66.286341               0.0\n",
              "min      1.000000    0.000000  ...    0.000000               1.0\n",
              "25%      1.000000    0.000000  ...   10.672500               1.0\n",
              "50%      2.000000    1.000000  ...   20.250000               1.0\n",
              "75%      3.000000    1.000000  ...   36.937500               1.0\n",
              "max      3.000000    1.000000  ...  512.330000               1.0\n",
              "\n",
              "[8 rows x 7 columns]"
            ]
          },
          "execution_count": 800,
          "metadata": {},
          "output_type": "execute_result"
        }
      ],
      "source": [
        "Survived_survived.describe()"
      ]
    },
    {
      "cell_type": "code",
      "execution_count": null,
      "metadata": {
        "colab": {
          "base_uri": "https://localhost:8080/",
          "height": 269
        },
        "id": "-VcBxdyrWmCo",
        "outputId": "0f0006dd-c71c-4c61-a4da-7e299d9432ef"
      },
      "outputs": [
        {
          "data": {
            "text/html": [
              "<div>\n",
              "<style scoped>\n",
              "    .dataframe tbody tr th:only-of-type {\n",
              "        vertical-align: middle;\n",
              "    }\n",
              "\n",
              "    .dataframe tbody tr th {\n",
              "        vertical-align: top;\n",
              "    }\n",
              "\n",
              "    .dataframe thead th {\n",
              "        text-align: right;\n",
              "    }\n",
              "</style>\n",
              "<table border=\"1\" class=\"dataframe\">\n",
              "  <thead>\n",
              "    <tr style=\"text-align: right;\">\n",
              "      <th></th>\n",
              "      <th>Pclass</th>\n",
              "      <th>Sex</th>\n",
              "      <th>Age</th>\n",
              "      <th>Siblings/Spouses Aboard</th>\n",
              "      <th>Parents/Children Aboard</th>\n",
              "      <th>Fare</th>\n",
              "      <th>survived_predict</th>\n",
              "    </tr>\n",
              "  </thead>\n",
              "  <tbody>\n",
              "    <tr>\n",
              "      <th>674</th>\n",
              "      <td>3</td>\n",
              "      <td>1</td>\n",
              "      <td>18</td>\n",
              "      <td>0</td>\n",
              "      <td>0</td>\n",
              "      <td>9.84</td>\n",
              "      <td>1</td>\n",
              "    </tr>\n",
              "    <tr>\n",
              "      <th>782</th>\n",
              "      <td>3</td>\n",
              "      <td>1</td>\n",
              "      <td>18</td>\n",
              "      <td>0</td>\n",
              "      <td>0</td>\n",
              "      <td>7.50</td>\n",
              "      <td>1</td>\n",
              "    </tr>\n",
              "    <tr>\n",
              "      <th>699</th>\n",
              "      <td>3</td>\n",
              "      <td>1</td>\n",
              "      <td>18</td>\n",
              "      <td>0</td>\n",
              "      <td>1</td>\n",
              "      <td>14.45</td>\n",
              "      <td>1</td>\n",
              "    </tr>\n",
              "    <tr>\n",
              "      <th>240</th>\n",
              "      <td>3</td>\n",
              "      <td>1</td>\n",
              "      <td>18</td>\n",
              "      <td>1</td>\n",
              "      <td>0</td>\n",
              "      <td>15.50</td>\n",
              "      <td>1</td>\n",
              "    </tr>\n",
              "    <tr>\n",
              "      <th>803</th>\n",
              "      <td>3</td>\n",
              "      <td>1</td>\n",
              "      <td>18</td>\n",
              "      <td>0</td>\n",
              "      <td>0</td>\n",
              "      <td>7.78</td>\n",
              "      <td>1</td>\n",
              "    </tr>\n",
              "    <tr>\n",
              "      <th>651</th>\n",
              "      <td>3</td>\n",
              "      <td>1</td>\n",
              "      <td>18</td>\n",
              "      <td>0</td>\n",
              "      <td>0</td>\n",
              "      <td>6.75</td>\n",
              "      <td>1</td>\n",
              "    </tr>\n",
              "    <tr>\n",
              "      <th>609</th>\n",
              "      <td>3</td>\n",
              "      <td>1</td>\n",
              "      <td>18</td>\n",
              "      <td>1</td>\n",
              "      <td>0</td>\n",
              "      <td>15.50</td>\n",
              "      <td>1</td>\n",
              "    </tr>\n",
              "  </tbody>\n",
              "</table>\n",
              "</div>"
            ],
            "text/plain": [
              "     Pclass  Sex  Age  ...  Parents/Children Aboard   Fare  survived_predict\n",
              "674       3    1   18  ...                        0   9.84                 1\n",
              "782       3    1   18  ...                        0   7.50                 1\n",
              "699       3    1   18  ...                        1  14.45                 1\n",
              "240       3    1   18  ...                        0  15.50                 1\n",
              "803       3    1   18  ...                        0   7.78                 1\n",
              "651       3    1   18  ...                        0   6.75                 1\n",
              "609       3    1   18  ...                        0  15.50                 1\n",
              "\n",
              "[7 rows x 7 columns]"
            ]
          },
          "execution_count": 801,
          "metadata": {},
          "output_type": "execute_result"
        }
      ],
      "source": [
        "# Which column is about \"survived\" probability?\n",
        "\n",
        "# I keep only survived persons\n",
        "Survived_survived = X_test[(X_test['survived_predict'] == 1)]\n",
        "\n",
        "# This persons are most chances of survived\n",
        "\n",
        "Survived_survived.loc[(Survived_survived['Pclass'] == 3) & (Survived_survived['Sex'] == 1) & (Survived_survived['Age'] == 18)]"
      ]
    },
    {
      "cell_type": "code",
      "execution_count": null,
      "metadata": {
        "colab": {
          "base_uri": "https://localhost:8080/",
          "height": 99
        },
        "id": "TC-X23JOWRr2",
        "outputId": "2e897024-556e-4668-bb51-bf447cadd932"
      },
      "outputs": [
        {
          "name": "stdout",
          "output_type": "stream",
          "text": [
            "The person is about 'survived' probability is\n"
          ]
        },
        {
          "data": {
            "text/html": [
              "<div>\n",
              "<style scoped>\n",
              "    .dataframe tbody tr th:only-of-type {\n",
              "        vertical-align: middle;\n",
              "    }\n",
              "\n",
              "    .dataframe tbody tr th {\n",
              "        vertical-align: top;\n",
              "    }\n",
              "\n",
              "    .dataframe thead th {\n",
              "        text-align: right;\n",
              "    }\n",
              "</style>\n",
              "<table border=\"1\" class=\"dataframe\">\n",
              "  <thead>\n",
              "    <tr style=\"text-align: right;\">\n",
              "      <th></th>\n",
              "      <th>Pclass</th>\n",
              "      <th>Sex</th>\n",
              "      <th>Age</th>\n",
              "      <th>Siblings/Spouses Aboard</th>\n",
              "      <th>Parents/Children Aboard</th>\n",
              "      <th>Fare</th>\n",
              "      <th>survived_predict</th>\n",
              "    </tr>\n",
              "  </thead>\n",
              "  <tbody>\n",
              "    <tr>\n",
              "      <th>0</th>\n",
              "      <td>3</td>\n",
              "      <td>1</td>\n",
              "      <td>18</td>\n",
              "      <td>0</td>\n",
              "      <td>0</td>\n",
              "      <td>13.0</td>\n",
              "      <td>1</td>\n",
              "    </tr>\n",
              "  </tbody>\n",
              "</table>\n",
              "</div>"
            ],
            "text/plain": [
              "   Pclass  Sex  Age  ...  Parents/Children Aboard  Fare  survived_predict\n",
              "0       3    1   18  ...                        0  13.0                 1\n",
              "\n",
              "[1 rows x 7 columns]"
            ]
          },
          "execution_count": 802,
          "metadata": {},
          "output_type": "execute_result"
        }
      ],
      "source": [
        "print(f\"The person is about 'survived' probability is\")\n",
        "\n",
        "# I doing a max function for research they persons with most chances to survived\n",
        "Survived_survived.mode()"
      ]
    },
    {
      "cell_type": "markdown",
      "metadata": {
        "id": "4DeDfBz285C_"
      },
      "source": [
        "# Bonus - Model improvement, under constraint\n",
        "\n",
        "Your time travel boss tells you that there's a budget cut. You now can only save 120 people max. Not one more.\n",
        "\n",
        "If your model predicts as \"dead\" someone who would have survived in reality. You then \"save\" that person, who would have survived even without your time-traveling help. And you take the place of someone who could have been saved. That's not optimal.\n",
        "\n",
        "#####Select the 120 people with the highest probability of dying. Of these, how many actually survived?\n",
        "----------------------------------------\n",
        "###Votre patron de voyage dans le temps vous dit qu'il y a une réduction de budget. Vous ne pouvez désormais sauver que 120 personnes max. Pas un de plus.\n",
        "\n",
        "Si votre modèle prédit comme \"mort\" quelqu'un qui aurait survécu en réalité. Vous « sauvez » alors cette personne, qui aurait survécu même sans votre aide pour voyager dans le temps. Et vous prenez la place de quelqu'un qui aurait pu être sauvé. Ce n'est pas optimal.\n",
        "\n",
        "Sélectionnez les 120 personnes les plus susceptibles de mourir. Parmi eux, combien ont réellement survécu ?"
      ]
    },
    {
      "cell_type": "code",
      "execution_count": null,
      "metadata": {
        "colab": {
          "base_uri": "https://localhost:8080/",
          "height": 206
        },
        "id": "CqU9OIcOdffE",
        "outputId": "7138b25a-7c6d-4758-958e-e4097a7b7afa"
      },
      "outputs": [
        {
          "data": {
            "text/html": [
              "<div>\n",
              "<style scoped>\n",
              "    .dataframe tbody tr th:only-of-type {\n",
              "        vertical-align: middle;\n",
              "    }\n",
              "\n",
              "    .dataframe tbody tr th {\n",
              "        vertical-align: top;\n",
              "    }\n",
              "\n",
              "    .dataframe thead th {\n",
              "        text-align: right;\n",
              "    }\n",
              "</style>\n",
              "<table border=\"1\" class=\"dataframe\">\n",
              "  <thead>\n",
              "    <tr style=\"text-align: right;\">\n",
              "      <th></th>\n",
              "      <th>Name</th>\n",
              "      <th>Sex</th>\n",
              "      <th>Age</th>\n",
              "      <th>Fare</th>\n",
              "      <th>Survived</th>\n",
              "      <th>Pclass</th>\n",
              "      <th>Siblings/Spouses Aboard</th>\n",
              "      <th>Parents/Children Aboard</th>\n",
              "    </tr>\n",
              "  </thead>\n",
              "  <tbody>\n",
              "    <tr>\n",
              "      <th>0</th>\n",
              "      <td>Mr. Owen Harris Braund</td>\n",
              "      <td>0</td>\n",
              "      <td>22</td>\n",
              "      <td>7.25</td>\n",
              "      <td>0</td>\n",
              "      <td>3</td>\n",
              "      <td>1</td>\n",
              "      <td>0</td>\n",
              "    </tr>\n",
              "    <tr>\n",
              "      <th>1</th>\n",
              "      <td>Mrs. John Bradley (Florence Briggs Thayer) Cum...</td>\n",
              "      <td>1</td>\n",
              "      <td>38</td>\n",
              "      <td>71.28</td>\n",
              "      <td>1</td>\n",
              "      <td>1</td>\n",
              "      <td>1</td>\n",
              "      <td>0</td>\n",
              "    </tr>\n",
              "    <tr>\n",
              "      <th>2</th>\n",
              "      <td>Miss. Laina Heikkinen</td>\n",
              "      <td>1</td>\n",
              "      <td>26</td>\n",
              "      <td>7.92</td>\n",
              "      <td>1</td>\n",
              "      <td>3</td>\n",
              "      <td>0</td>\n",
              "      <td>0</td>\n",
              "    </tr>\n",
              "    <tr>\n",
              "      <th>3</th>\n",
              "      <td>Mrs. Jacques Heath (Lily May Peel) Futrelle</td>\n",
              "      <td>1</td>\n",
              "      <td>35</td>\n",
              "      <td>53.10</td>\n",
              "      <td>1</td>\n",
              "      <td>1</td>\n",
              "      <td>1</td>\n",
              "      <td>0</td>\n",
              "    </tr>\n",
              "    <tr>\n",
              "      <th>4</th>\n",
              "      <td>Mr. William Henry Allen</td>\n",
              "      <td>0</td>\n",
              "      <td>35</td>\n",
              "      <td>8.05</td>\n",
              "      <td>0</td>\n",
              "      <td>3</td>\n",
              "      <td>0</td>\n",
              "      <td>0</td>\n",
              "    </tr>\n",
              "  </tbody>\n",
              "</table>\n",
              "</div>"
            ],
            "text/plain": [
              "                                                Name  ...  Parents/Children Aboard\n",
              "0                             Mr. Owen Harris Braund  ...                        0\n",
              "1  Mrs. John Bradley (Florence Briggs Thayer) Cum...  ...                        0\n",
              "2                              Miss. Laina Heikkinen  ...                        0\n",
              "3        Mrs. Jacques Heath (Lily May Peel) Futrelle  ...                        0\n",
              "4                            Mr. William Henry Allen  ...                        0\n",
              "\n",
              "[5 rows x 8 columns]"
            ]
          },
          "execution_count": 803,
          "metadata": {},
          "output_type": "execute_result"
        }
      ],
      "source": [
        "df_titanic2.head()"
      ]
    },
    {
      "cell_type": "code",
      "execution_count": null,
      "metadata": {
        "colab": {
          "base_uri": "https://localhost:8080/"
        },
        "id": "_nGp-3qmzlHt",
        "outputId": "8842b0b1-5326-4e85-8391-202f7b47bd10"
      },
      "outputs": [
        {
          "data": {
            "text/plain": [
              "array([0, 1, 1, 1, 0, 0, 1, 0, 1, 1, 1, 1, 0, 0, 1, 1, 0, 1, 1, 1, 0, 0,\n",
              "       1, 1, 1, 1, 0, 1, 1, 0, 1, 1, 1, 0, 1, 1, 0, 0, 1, 1, 1, 1, 1, 1,\n",
              "       0, 0, 1, 0, 1, 0, 0, 1, 1, 0, 1, 1, 0, 1, 0, 0, 1, 1, 0, 0, 0, 1,\n",
              "       0, 1, 0, 0, 0, 1, 0, 0, 0, 0, 0, 1, 1, 0, 0, 1, 1, 1, 0, 0, 0, 1,\n",
              "       0, 0, 0, 1, 0, 0, 0, 0, 1, 1, 0, 1, 0, 1, 0, 0, 0, 1, 0, 0, 1, 1,\n",
              "       1, 0, 1, 1, 0, 0, 0, 1, 1, 0, 0, 0, 1, 1, 0, 0, 0, 1, 0, 0, 0, 0,\n",
              "       1, 1, 1, 1, 1, 0, 1, 1, 1, 1, 0, 1, 1, 0, 1, 0, 0, 0, 1, 0, 0, 0,\n",
              "       1, 1, 0, 0, 0, 0, 1, 0, 0, 0, 0, 1, 0, 0, 0, 0, 0, 1, 0, 0, 0, 0,\n",
              "       1, 1, 0, 0, 0, 0, 1, 1, 1, 1, 1, 0, 0, 1, 1, 1, 1, 1, 1, 0, 0, 1,\n",
              "       1, 0, 0, 0, 0, 0, 1, 0, 0, 1, 1, 0, 1, 0, 1, 0, 1, 1, 0, 1, 1, 0,\n",
              "       1, 0, 0, 1, 0, 1, 0, 1, 1, 1, 0, 0, 1, 1, 1, 0, 1, 1, 0, 1, 1, 1,\n",
              "       0, 0, 0, 1, 1, 1, 0, 0, 1, 0, 0, 1, 1, 1, 1, 1, 1, 0, 0, 1, 1, 0,\n",
              "       0, 0, 1, 1, 1, 0, 1, 1, 1, 1, 1, 1, 0, 1, 0, 0, 0, 0, 0, 0, 0, 0,\n",
              "       0, 1, 1, 1, 0, 1, 0, 1, 0, 1, 1, 1, 1, 0, 0, 1, 0, 1, 1, 1, 0, 1,\n",
              "       1, 1, 1, 0, 0, 1, 1, 0, 1, 1, 0, 0, 1, 1, 0, 1, 0, 1, 1, 1, 1, 1,\n",
              "       1, 0, 1, 0, 1, 1, 0, 1, 1, 1, 1, 1, 0, 1, 1, 1, 0, 0, 0, 1, 0, 0,\n",
              "       0, 0, 1, 1, 1, 1, 0, 0, 1, 0, 0, 0, 1, 1, 1, 1, 1, 0, 0, 1, 1, 1,\n",
              "       1, 1, 0, 0, 1, 1, 0, 1, 0, 1, 0, 1, 0, 1, 1, 0, 0, 1, 1, 0, 1, 0,\n",
              "       1, 1, 0, 0, 1, 0, 1, 0, 0, 1, 0, 1, 0, 0, 1, 1, 0, 1, 1, 1, 1, 1,\n",
              "       0, 0, 1, 0, 0, 1, 1, 0, 0, 1, 1, 1, 0, 0, 1, 1, 1, 0, 0, 1, 0, 0,\n",
              "       1, 0, 1, 1, 1, 1, 1, 0, 0, 1, 1, 0, 0, 0, 1, 1, 0, 1, 0, 1, 0, 0,\n",
              "       0, 1, 0, 0, 1, 0, 0, 1, 1, 1, 1, 0, 0, 0, 1, 0, 0, 0, 0, 1, 1, 1,\n",
              "       0, 0, 0, 0, 0, 0, 0, 0, 0, 1, 0, 1, 0, 0, 1, 1, 1, 1, 1, 1, 1, 0,\n",
              "       0, 0, 0, 1, 1, 0, 1, 1, 0, 1, 0, 1, 0, 0, 1, 0, 0, 1, 1, 0, 0, 1,\n",
              "       0, 0, 1, 1, 1, 1, 1, 0, 1, 1, 1, 1, 0, 1, 0, 1, 1, 0, 1, 1, 1, 0,\n",
              "       0, 1, 0, 1, 1, 1, 1, 0, 0, 1, 0, 0, 0, 0, 1, 0, 0, 0, 1, 1, 1, 0,\n",
              "       0, 1, 1, 1, 0, 1, 1, 0, 1, 0, 1, 0, 0, 0, 0, 0, 1, 0, 1, 0, 0, 1,\n",
              "       0, 0, 0, 1, 0, 1, 0, 1, 0, 0, 1, 1, 1, 1, 0, 1, 0, 0, 1, 0, 1, 1,\n",
              "       1, 0, 1, 0, 0, 0, 0, 0, 1, 0, 0, 0, 0, 1, 1, 1, 1, 0, 0, 1, 0, 0,\n",
              "       1, 1, 0, 1, 1, 0, 0, 0, 1, 0, 1, 0, 1, 1, 0, 0, 1, 1, 0, 0, 0, 1,\n",
              "       0, 0, 0, 1, 0, 0, 1, 1, 1, 0, 0, 1, 0, 0, 1, 1, 1, 1, 1, 0, 0, 0,\n",
              "       0, 0, 0, 0, 1, 1, 1, 0, 0, 0, 0, 0, 1, 1, 0, 1, 1, 1, 0, 0, 0, 1,\n",
              "       1, 1, 0, 1, 1, 0, 0, 0, 0, 1, 1, 0, 1, 0, 0, 0, 1, 0, 1, 1, 0, 1,\n",
              "       1, 0, 0, 1, 1, 0, 0, 1, 0, 0, 1, 1, 1, 0, 0, 0, 0, 1, 1, 0, 1, 1,\n",
              "       0, 0, 1, 1, 0, 1, 0, 1, 0, 0, 0, 1, 0, 1, 1, 1, 0, 0, 0, 0, 1, 0,\n",
              "       1, 0, 0, 1, 0, 1, 1, 1, 1, 0, 0, 0, 1, 0, 0, 1, 0, 1, 0, 1, 0, 0,\n",
              "       1, 1, 0, 1, 0, 1, 1, 1, 0, 0, 1, 1, 0, 1, 0, 0, 0, 1, 0, 1, 1, 0,\n",
              "       0, 0, 1, 0, 1, 1, 0, 0, 0, 1, 0, 1, 1, 1, 0, 0, 0, 1, 0, 0, 0, 1,\n",
              "       0, 1, 1, 0, 0, 0, 0, 0, 1, 1, 0, 0, 1, 1, 1, 1, 1, 1, 1, 0, 0, 1,\n",
              "       1, 0, 1, 1, 1, 1, 0, 0, 0, 1, 1, 0, 1, 1, 0, 0, 0, 1, 1, 0, 1, 1,\n",
              "       0, 1, 1, 1, 1, 1, 0])"
            ]
          },
          "execution_count": 804,
          "metadata": {},
          "output_type": "execute_result"
        }
      ],
      "source": [
        "not_survived = model.predict(X)\n",
        "not_survived"
      ]
    },
    {
      "cell_type": "code",
      "execution_count": null,
      "metadata": {
        "id": "e3n_Y133d8bF"
      },
      "outputs": [],
      "source": [
        "# add predict to my df titanic2\n",
        "df_titanic2['not_survived_predict'] = not_survived"
      ]
    },
    {
      "cell_type": "code",
      "execution_count": null,
      "metadata": {
        "id": "CErxEfjQ-MUU"
      },
      "outputs": [],
      "source": [
        "# NSP = not survive predict\n",
        "titanic_NSP = df_titanic2[(df_titanic2['not_survived_predict'] == 0)]"
      ]
    },
    {
      "cell_type": "code",
      "execution_count": null,
      "metadata": {
        "colab": {
          "base_uri": "https://localhost:8080/",
          "height": 300
        },
        "id": "FCX_f0Jqfl8t",
        "outputId": "d3b0b443-8fbd-4157-d625-3f14eb0bb662"
      },
      "outputs": [
        {
          "data": {
            "text/html": [
              "<div>\n",
              "<style scoped>\n",
              "    .dataframe tbody tr th:only-of-type {\n",
              "        vertical-align: middle;\n",
              "    }\n",
              "\n",
              "    .dataframe tbody tr th {\n",
              "        vertical-align: top;\n",
              "    }\n",
              "\n",
              "    .dataframe thead th {\n",
              "        text-align: right;\n",
              "    }\n",
              "</style>\n",
              "<table border=\"1\" class=\"dataframe\">\n",
              "  <thead>\n",
              "    <tr style=\"text-align: right;\">\n",
              "      <th></th>\n",
              "      <th>Sex</th>\n",
              "      <th>Age</th>\n",
              "      <th>Fare</th>\n",
              "      <th>Survived</th>\n",
              "      <th>Pclass</th>\n",
              "      <th>Siblings/Spouses Aboard</th>\n",
              "      <th>Parents/Children Aboard</th>\n",
              "      <th>not_survived_predict</th>\n",
              "    </tr>\n",
              "  </thead>\n",
              "  <tbody>\n",
              "    <tr>\n",
              "      <th>count</th>\n",
              "      <td>438.000000</td>\n",
              "      <td>438.000000</td>\n",
              "      <td>438.000000</td>\n",
              "      <td>438.000000</td>\n",
              "      <td>438.000000</td>\n",
              "      <td>438.000000</td>\n",
              "      <td>438.000000</td>\n",
              "      <td>438.0</td>\n",
              "    </tr>\n",
              "    <tr>\n",
              "      <th>mean</th>\n",
              "      <td>0.022831</td>\n",
              "      <td>30.739726</td>\n",
              "      <td>17.212374</td>\n",
              "      <td>0.132420</td>\n",
              "      <td>2.735160</td>\n",
              "      <td>0.561644</td>\n",
              "      <td>0.255708</td>\n",
              "      <td>0.0</td>\n",
              "    </tr>\n",
              "    <tr>\n",
              "      <th>std</th>\n",
              "      <td>0.149535</td>\n",
              "      <td>14.691825</td>\n",
              "      <td>20.663282</td>\n",
              "      <td>0.339335</td>\n",
              "      <td>0.572598</td>\n",
              "      <td>1.354572</td>\n",
              "      <td>0.682170</td>\n",
              "      <td>0.0</td>\n",
              "    </tr>\n",
              "    <tr>\n",
              "      <th>min</th>\n",
              "      <td>0.000000</td>\n",
              "      <td>1.000000</td>\n",
              "      <td>0.000000</td>\n",
              "      <td>0.000000</td>\n",
              "      <td>1.000000</td>\n",
              "      <td>0.000000</td>\n",
              "      <td>0.000000</td>\n",
              "      <td>0.0</td>\n",
              "    </tr>\n",
              "    <tr>\n",
              "      <th>25%</th>\n",
              "      <td>0.000000</td>\n",
              "      <td>21.000000</td>\n",
              "      <td>7.780000</td>\n",
              "      <td>0.000000</td>\n",
              "      <td>3.000000</td>\n",
              "      <td>0.000000</td>\n",
              "      <td>0.000000</td>\n",
              "      <td>0.0</td>\n",
              "    </tr>\n",
              "    <tr>\n",
              "      <th>50%</th>\n",
              "      <td>0.000000</td>\n",
              "      <td>28.000000</td>\n",
              "      <td>8.050000</td>\n",
              "      <td>0.000000</td>\n",
              "      <td>3.000000</td>\n",
              "      <td>0.000000</td>\n",
              "      <td>0.000000</td>\n",
              "      <td>0.0</td>\n",
              "    </tr>\n",
              "    <tr>\n",
              "      <th>75%</th>\n",
              "      <td>0.000000</td>\n",
              "      <td>38.000000</td>\n",
              "      <td>20.240000</td>\n",
              "      <td>0.000000</td>\n",
              "      <td>3.000000</td>\n",
              "      <td>1.000000</td>\n",
              "      <td>0.000000</td>\n",
              "      <td>0.0</td>\n",
              "    </tr>\n",
              "    <tr>\n",
              "      <th>max</th>\n",
              "      <td>1.000000</td>\n",
              "      <td>80.000000</td>\n",
              "      <td>263.000000</td>\n",
              "      <td>1.000000</td>\n",
              "      <td>3.000000</td>\n",
              "      <td>8.000000</td>\n",
              "      <td>5.000000</td>\n",
              "      <td>0.0</td>\n",
              "    </tr>\n",
              "  </tbody>\n",
              "</table>\n",
              "</div>"
            ],
            "text/plain": [
              "              Sex         Age  ...  Parents/Children Aboard  not_survived_predict\n",
              "count  438.000000  438.000000  ...               438.000000                 438.0\n",
              "mean     0.022831   30.739726  ...                 0.255708                   0.0\n",
              "std      0.149535   14.691825  ...                 0.682170                   0.0\n",
              "min      0.000000    1.000000  ...                 0.000000                   0.0\n",
              "25%      0.000000   21.000000  ...                 0.000000                   0.0\n",
              "50%      0.000000   28.000000  ...                 0.000000                   0.0\n",
              "75%      0.000000   38.000000  ...                 0.000000                   0.0\n",
              "max      1.000000   80.000000  ...                 5.000000                   0.0\n",
              "\n",
              "[8 rows x 8 columns]"
            ]
          },
          "execution_count": 807,
          "metadata": {},
          "output_type": "execute_result"
        }
      ],
      "source": [
        "titanic_NSP.describe()"
      ]
    },
    {
      "cell_type": "code",
      "execution_count": null,
      "metadata": {
        "colab": {
          "base_uri": "https://localhost:8080/"
        },
        "id": "ezbQtz3vfdMJ",
        "outputId": "e6d3e3bf-fe5f-40d9-f9dd-6f1d22888a7a"
      },
      "outputs": [
        {
          "data": {
            "text/plain": [
              "120"
            ]
          },
          "execution_count": 808,
          "metadata": {},
          "output_type": "execute_result"
        }
      ],
      "source": [
        "titanic_NSP = titanic_NSP.loc[(titanic_NSP['Pclass'] == 3) & (titanic_NSP['Sex'] == 0)]\n",
        "titanic_NSP = titanic_NSP.iloc[:120,:]\n",
        "titanic_NSP = titanic_NSP.reset_index(drop=True)\n",
        "titanic_NSP.shape[0]"
      ]
    },
    {
      "cell_type": "code",
      "execution_count": null,
      "metadata": {
        "colab": {
          "base_uri": "https://localhost:8080/"
        },
        "id": "QeID41PIfdY4",
        "outputId": "008008e7-e044-4b3d-ecaf-d05c61c5e68e"
      },
      "outputs": [
        {
          "data": {
            "text/plain": [
              "18"
            ]
          },
          "execution_count": 809,
          "metadata": {},
          "output_type": "execute_result"
        }
      ],
      "source": [
        "wrong_predict = titanic_NSP[(titanic_NSP['Survived'] == 1)]\n",
        "wrong_predict.shape[0]"
      ]
    },
    {
      "cell_type": "code",
      "execution_count": null,
      "metadata": {
        "colab": {
          "base_uri": "https://localhost:8080/",
          "height": 35
        },
        "id": "pz14N9qFfdfq",
        "outputId": "5daca491-4024-44d0-888b-1e21f5c581e1"
      },
      "outputs": [
        {
          "data": {
            "application/vnd.google.colaboratory.intrinsic+json": {
              "type": "string"
            },
            "text/plain": [
              "'On 120 persons who are predict like died, 18 persons did survive'"
            ]
          },
          "execution_count": 810,
          "metadata": {},
          "output_type": "execute_result"
        }
      ],
      "source": [
        "f\"On {titanic_NSP.shape[0]} persons who are predict like died, {wrong_predict.shape[0]} persons did survive\""
      ]
    },
    {
      "cell_type": "markdown",
      "metadata": {
        "id": "5wg1tAdXXGpZ"
      },
      "source": [
        "# Bonus - More predictions\n",
        "\n",
        "Does the Reverend \"Rev. Juozas Montvila\" have a better chance of survival than \"Mrs. William (Margaret Norton) Rice\"?\n",
        "- Filter the initial DataFrame to get only the 2 rows with the 2 persons above, and only columns present in your variables (X)\n",
        "- Make a prediction with probability for this 2 people\n",
        "- Which one has a better chance to survive?\n",
        "\n",
        "-----------------------------------------------------\n",
        "\n",
        "Le révérend « Rev. Juozas Montvila » a-t-il de meilleures chances de survie que « Mrs. William (Margaret Norton) Rice » ?\n",
        "\n",
        "-Filtrez le DataFrame initial pour n'obtenir que les 2 lignes avec les 2 personnes ci-dessus, et uniquement les colonnes présentes dans vos variables (X)\n",
        "-Faire une prédiction avec probabilité pour ces 2 personnes\n",
        "-Lequel a une meilleure chance de survivre ?"
      ]
    },
    {
      "cell_type": "code",
      "execution_count": null,
      "metadata": {
        "colab": {
          "base_uri": "https://localhost:8080/",
          "height": 112
        },
        "id": "NMoGFW8DioeP",
        "outputId": "a6175a03-b27d-465b-9318-4c1619763550"
      },
      "outputs": [
        {
          "data": {
            "text/html": [
              "<div>\n",
              "<style scoped>\n",
              "    .dataframe tbody tr th:only-of-type {\n",
              "        vertical-align: middle;\n",
              "    }\n",
              "\n",
              "    .dataframe tbody tr th {\n",
              "        vertical-align: top;\n",
              "    }\n",
              "\n",
              "    .dataframe thead th {\n",
              "        text-align: right;\n",
              "    }\n",
              "</style>\n",
              "<table border=\"1\" class=\"dataframe\">\n",
              "  <thead>\n",
              "    <tr style=\"text-align: right;\">\n",
              "      <th></th>\n",
              "      <th>Pclass</th>\n",
              "      <th>Name</th>\n",
              "      <th>Sex</th>\n",
              "      <th>Age</th>\n",
              "      <th>Siblings/Spouses Aboard</th>\n",
              "      <th>Parents/Children Aboard</th>\n",
              "      <th>Fare</th>\n",
              "    </tr>\n",
              "  </thead>\n",
              "  <tbody>\n",
              "    <tr>\n",
              "      <th>881</th>\n",
              "      <td>3</td>\n",
              "      <td>Mrs. William (Margaret Norton) Rice</td>\n",
              "      <td>1</td>\n",
              "      <td>39</td>\n",
              "      <td>0</td>\n",
              "      <td>5</td>\n",
              "      <td>29.12</td>\n",
              "    </tr>\n",
              "    <tr>\n",
              "      <th>882</th>\n",
              "      <td>2</td>\n",
              "      <td>Rev. Juozas Montvila</td>\n",
              "      <td>0</td>\n",
              "      <td>27</td>\n",
              "      <td>0</td>\n",
              "      <td>0</td>\n",
              "      <td>13.00</td>\n",
              "    </tr>\n",
              "  </tbody>\n",
              "</table>\n",
              "</div>"
            ],
            "text/plain": [
              "     Pclass  ...   Fare\n",
              "881       3  ...  29.12\n",
              "882       2  ...  13.00\n",
              "\n",
              "[2 rows x 7 columns]"
            ]
          },
          "execution_count": 811,
          "metadata": {},
          "output_type": "execute_result"
        }
      ],
      "source": [
        "most_chance = df_titanic3[(df_titanic['Name'] == 'Rev. Juozas Montvila') | (df_titanic3['Name'] == 'Mrs. William (Margaret Norton) Rice')]\n",
        "most_chance2= most_chance[['Pclass','Name','Sex' , 'Age', 'Siblings/Spouses Aboard', 'Parents/Children Aboard', 'Fare']]\n",
        "\n",
        "most_chance2"
      ]
    },
    {
      "cell_type": "code",
      "execution_count": null,
      "metadata": {
        "colab": {
          "base_uri": "https://localhost:8080/"
        },
        "id": "hQbfC-YCn08f",
        "outputId": "16edc55d-d40c-49ae-d24e-76e40a4cf115"
      },
      "outputs": [
        {
          "data": {
            "text/plain": [
              "array([1, 1])"
            ]
          },
          "execution_count": 823,
          "metadata": {},
          "output_type": "execute_result"
        }
      ],
      "source": [
        "var_corr = [\"Sex\", \"Age\", \"Fare\", \"Pclass\",\"Siblings/Spouses Aboard\", \"Parents/Children Aboard\"]\n",
        "\n",
        "X = df_titanic3[var_corr] \n",
        "y = df_titanic3['Survived'] \n",
        "\n",
        "X_train, X_test, y_train, y_test = train_test_split(X, y, random_state=36, train_size = 0.75)\n",
        "model_training = model.fit(X_train, y_train)\n",
        "\n",
        "model_training.predict(most_chance2[var_corr])"
      ]
    },
    {
      "cell_type": "code",
      "execution_count": null,
      "metadata": {
        "colab": {
          "base_uri": "https://localhost:8080/",
          "height": 35
        },
        "id": "iWh79ujstD8G",
        "outputId": "8bb6922b-b9b0-4431-f0e2-780618af3712"
      },
      "outputs": [
        {
          "data": {
            "application/vnd.google.colaboratory.intrinsic+json": {
              "type": "string"
            },
            "text/plain": [
              "'The Two persons are same chance to survive'"
            ]
          },
          "execution_count": 826,
          "metadata": {},
          "output_type": "execute_result"
        }
      ],
      "source": [
        "f\"The Two persons are same chance to survive\""
      ]
    }
  ],
  "metadata": {
    "colab": {
      "collapsed_sections": [],
      "include_colab_link": true,
      "name": "2.2 ML Classifications - Logistic Regression",
      "provenance": []
    },
    "kernelspec": {
      "display_name": "Python 3",
      "name": "python3"
    },
    "language_info": {
      "codemirror_mode": {
        "name": "ipython",
        "version": 3
      },
      "file_extension": ".py",
      "mimetype": "text/x-python",
      "name": "python",
      "nbconvert_exporter": "python",
      "pygments_lexer": "ipython3",
      "version": "3.8.12"
    }
  },
  "nbformat": 4,
  "nbformat_minor": 0
}
