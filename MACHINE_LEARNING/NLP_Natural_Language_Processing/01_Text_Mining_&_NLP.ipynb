{
 "cells": [
  {
   "cell_type": "code",
   "execution_count": 4,
   "metadata": {},
   "outputs": [],
   "source": [
    "import nltk"
   ]
  },
  {
   "cell_type": "code",
   "execution_count": 7,
   "metadata": {},
   "outputs": [],
   "source": [
    "#Source = https://www.lemonde.fr/economie/article/2021/11/28/comment-netflix-ebranle-l-audiovisuel-mondial_6103950_3234.html\n",
    "\n",
    "netflix_ebranle_l_audiovisuel_mondial = \"Le cinéma et l’audiovisuel sont bouleversés par l’expansion des plates-formes Internet. Avec leurs moyens gigantesques, elles propulsent films, séries et documentaires auprès d’une audience mondiale et menacent l’avenir des chaînes de télévision et des salles de cinéma. Dix ans après la sortie en salle du film Intouchables, qui l’a rendue célèbre, la superstar française Omar Sy reçoit, lundi 29 novembre, la Rose d’or de la performance de l’année pour son rôle dans Lupin, l’un des plus importants prix internationaux en matière de télévision. Cette série produite par les studios de cinéma français Gaumont est l’un des plus grands succès d’audience planétaires de la plate-forme vidéo américaine Netflix, qui, dans la foulée, a signé, en octobre, un mégacontrat pluriannuel avec l’acteur français devenu producteur exécutif. Sans précédent pour la société californienne, qui revendique 213 millions d’abonnés dans le monde, ce contrat exceptionnel pour un acteur français démontre la puissance de Netflix, qui rebat les cartes de l’audiovisuel et du cinéma mondial jusque dans les relations avec les producteurs. Les chaînes de télévision et les salles obscures se retrouvent d’un coup marginalisées dans ce maelström inédit de la circulation internationale des œuvres. La tendance est à la “glocalisation”, qui est l’accélération de la distribution de programmes issus d’histoires locales mais qui parlent à l’échelle globale, comme les séries espagnole La Casa de Papel, française Lupin [dont la troisième partie est actuellement en tournage à Paris] ou, encore plus récemment, sud-coréenne Squid Game », relève Frédéric Vaulpré, directeur de Glance, l’entité internationale de l’institut de mesure d’audience Médiamétrie. Les plates-formes mondiales dépensent désormais énormément d’argent chaque année dans des productions originales : 17 milliards de dollars (15 milliards d’euros) rien que pour Netflix en 2021, selon son patron fondateur, Reed Hastings. Là où les chaînes traditionnelles nationales ne dépensent que quelques centaines de millions d’euros par an dans le cinéma et l’audiovisuel. En France, le total cumulé pour tous les acteurs du secteur – stagnant depuis dix ans – est d’environ 1,1 milliard d’euros chaque année. Et Netflix n’est pas seul. Amazon, qui consacre déjà plus de 10 milliards de dollars à la production dans le monde, s’est emparé, en mai, du studio hollywoodien centenaire Metro Goldwyn Mayer (MGM) pour 8,45 milliards de dollars. Le roi Netflix, la reine Disney et le prince Amazon ». La télévision se retrouve de fait encerclée par la multitude de ces plates-formes de vidéo à la demande par abonnement (SVOD). Outre le pionnier au logo « N » rouge lancé en janvier 2007, se bousculent Hulu (mars 2007), OCS (novembre 2008), Amazon Prime Video (décembre 2016), Disney+ (novembre 2019), Apple TV+ (novembre 2019), Discovery+ (mars 2020), Peacock (avril 2020), HBO Max (mai 2020), Salto (octobre 2020), ou encore Paramount+ (mars 2021). D’après Glance, il existe plus d’une centaine de plates-formes de streaming vidéo, locales, régionales ou globales, les unes par abonnement, les autres gratuites financées par la publicité.\"\n",
    "\n"
   ]
  },
  {
   "cell_type": "code",
   "execution_count": 8,
   "metadata": {},
   "outputs": [
    {
     "data": {
      "text/plain": [
       "['Le cinéma et l’audiovisuel sont bouleversés par l’expansion des plates-formes Internet.',\n",
       " 'Avec leurs moyens gigantesques, elles propulsent films, séries et documentaires auprès d’une audience mondiale et menacent l’avenir des chaînes de télévision et des salles de cinéma.',\n",
       " 'Dix ans après la sortie en salle du film Intouchables, qui l’a rendue célèbre, la superstar française Omar Sy reçoit, lundi 29 novembre, la Rose d’or de la performance de l’année pour son rôle dans Lupin, l’un des plus importants prix internationaux en matière de télévision.',\n",
       " 'Cette série produite par les studios de cinéma français Gaumont est l’un des plus grands succès d’audience planétaires de la plate-forme vidéo américaine Netflix, qui, dans la foulée, a signé, en octobre, un mégacontrat pluriannuel avec l’acteur français devenu producteur exécutif.',\n",
       " 'Sans précédent pour la société californienne, qui revendique 213 millions d’abonnés dans le monde, ce contrat exceptionnel pour un acteur français démontre la puissance de Netflix, qui rebat les cartes de l’audiovisuel et du cinéma mondial jusque dans les relations avec les producteurs.',\n",
       " 'Les chaînes de télévision et les salles obscures se retrouvent d’un coup marginalisées dans ce maelström inédit de la circulation internationale des œuvres.',\n",
       " 'La tendance est à la “glocalisation”, qui est l’accélération de la distribution de programmes issus d’histoires locales mais qui parlent à l’échelle globale, comme les séries espagnole La Casa de Papel, française Lupin [dont la troisième partie est actuellement en tournage à Paris] ou, encore plus récemment, sud-coréenne Squid Game », relève Frédéric Vaulpré, directeur de Glance, l’entité internationale de l’institut de mesure d’audience Médiamétrie.',\n",
       " 'Les plates-formes mondiales dépensent désormais énormément d’argent chaque année dans des productions originales : 17 milliards de dollars (15 milliards d’euros) rien que pour Netflix en 2021, selon son patron fondateur, Reed Hastings.',\n",
       " 'Là où les chaînes traditionnelles nationales ne dépensent que quelques centaines de millions d’euros par an dans le cinéma et l’audiovisuel.',\n",
       " 'En France, le total cumulé pour tous les acteurs du secteur – stagnant depuis dix ans – est d’environ 1,1 milliard d’euros chaque année.',\n",
       " 'Et Netflix n’est pas seul.',\n",
       " 'Amazon, qui consacre déjà plus de 10 milliards de dollars à la production dans le monde, s’est emparé, en mai, du studio hollywoodien centenaire Metro Goldwyn Mayer (MGM) pour 8,45 milliards de dollars.',\n",
       " 'Le roi Netflix, la reine Disney et le prince Amazon ».',\n",
       " 'La télévision se retrouve de fait encerclée par la multitude de ces plates-formes de vidéo à la demande par abonnement (SVOD).',\n",
       " 'Outre le pionnier au logo « N » rouge lancé en janvier 2007, se bousculent Hulu (mars 2007), OCS (novembre 2008), Amazon Prime Video (décembre 2016), Disney+ (novembre 2019), Apple TV+ (novembre 2019), Discovery+ (mars 2020), Peacock (avril 2020), HBO Max (mai 2020), Salto (octobre 2020), ou encore Paramount+ (mars 2021).',\n",
       " 'D’après Glance, il existe plus d’une centaine de plates-formes de streaming vidéo, locales, régionales ou globales, les unes par abonnement, les autres gratuites financées par la publicité.']"
      ]
     },
     "execution_count": 8,
     "metadata": {},
     "output_type": "execute_result"
    }
   ],
   "source": [
    "nltk.sent_tokenize(netflix_ebranle_l_audiovisuel_mondial)"
   ]
  },
  {
   "cell_type": "code",
   "execution_count": null,
   "metadata": {},
   "outputs": [],
   "source": [
    "# list comprehension - delete punctuation\n",
    "delete_ponct = [x for x in vogue_extract if x not in string.punctuation]\n",
    "delete_ponct = \"\".join(vogue_extract)"
   ]
  }
 ],
 "metadata": {
  "interpreter": {
   "hash": "4544d665ae83a938e78316550df4048c4b5eacadf9e9ff52d5a508ec23c5226a"
  },
  "kernelspec": {
   "display_name": "Python 3.8.12 64-bit ('base': conda)",
   "language": "python",
   "name": "python3"
  },
  "language_info": {
   "codemirror_mode": {
    "name": "ipython",
    "version": 3
   },
   "file_extension": ".py",
   "mimetype": "text/x-python",
   "name": "python",
   "nbconvert_exporter": "python",
   "pygments_lexer": "ipython3",
   "version": "3.8.12"
  },
  "orig_nbformat": 4
 },
 "nbformat": 4,
 "nbformat_minor": 2
}
