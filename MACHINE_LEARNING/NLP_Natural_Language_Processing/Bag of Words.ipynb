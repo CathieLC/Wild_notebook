{
 "cells": [
  {
   "cell_type": "code",
   "execution_count": 263,
   "metadata": {},
   "outputs": [],
   "source": [
    "import pandas as pd\n",
    "from sklearn.model_selection import train_test_split\n",
    "from sklearn.linear_model import LogisticRegression\n",
    "from sklearn.feature_extraction.text import CountVectorizer\n",
    "import numpy as np"
   ]
  },
  {
   "cell_type": "markdown",
   "metadata": {},
   "source": [
    "Critères de validation : <br/>\n",
    "Le notebook est consultable pour toute personne disposant du lien fourni par l'élève.<br/>\n",
    "CountVectorizer est utilisée pour le preprocessing<br/>\n",
    "La classification de tweets est faite grâce à un algorithme de régression logistique.<br/>\n",
    "La performance de l'algorithme de régression logistique est mesurée.<br/>\n",
    "Toutes les étapes sont réalisées."
   ]
  },
  {
   "cell_type": "markdown",
   "metadata": {},
   "source": [
    "<h4> 1 - Importe cet ensemble de données de tweets dans un DataFrame."
   ]
  },
  {
   "cell_type": "code",
   "execution_count": 264,
   "metadata": {},
   "outputs": [],
   "source": [
    "link = \"https://github.com/murpi/wilddata/raw/master/quests/tweets.zip\"\n",
    "\n",
    "df= pd.read_csv(link)"
   ]
  },
  {
   "cell_type": "code",
   "execution_count": 265,
   "metadata": {},
   "outputs": [
    {
     "data": {
      "text/html": [
       "<div>\n",
       "<style scoped>\n",
       "    .dataframe tbody tr th:only-of-type {\n",
       "        vertical-align: middle;\n",
       "    }\n",
       "\n",
       "    .dataframe tbody tr th {\n",
       "        vertical-align: top;\n",
       "    }\n",
       "\n",
       "    .dataframe thead th {\n",
       "        text-align: right;\n",
       "    }\n",
       "</style>\n",
       "<table border=\"1\" class=\"dataframe\">\n",
       "  <thead>\n",
       "    <tr style=\"text-align: right;\">\n",
       "      <th></th>\n",
       "      <th>textID</th>\n",
       "      <th>text</th>\n",
       "      <th>selected_text</th>\n",
       "      <th>sentiment</th>\n",
       "    </tr>\n",
       "  </thead>\n",
       "  <tbody>\n",
       "    <tr>\n",
       "      <th>0</th>\n",
       "      <td>cb774db0d1</td>\n",
       "      <td>I`d have responded, if I were going</td>\n",
       "      <td>I`d have responded, if I were going</td>\n",
       "      <td>neutral</td>\n",
       "    </tr>\n",
       "    <tr>\n",
       "      <th>1</th>\n",
       "      <td>549e992a42</td>\n",
       "      <td>Sooo SAD I will miss you here in San Diego!!!</td>\n",
       "      <td>Sooo SAD</td>\n",
       "      <td>negative</td>\n",
       "    </tr>\n",
       "    <tr>\n",
       "      <th>2</th>\n",
       "      <td>088c60f138</td>\n",
       "      <td>my boss is bullying me...</td>\n",
       "      <td>bullying me</td>\n",
       "      <td>negative</td>\n",
       "    </tr>\n",
       "    <tr>\n",
       "      <th>3</th>\n",
       "      <td>9642c003ef</td>\n",
       "      <td>what interview! leave me alone</td>\n",
       "      <td>leave me alone</td>\n",
       "      <td>negative</td>\n",
       "    </tr>\n",
       "    <tr>\n",
       "      <th>4</th>\n",
       "      <td>358bd9e861</td>\n",
       "      <td>Sons of ****, why couldn`t they put them on t...</td>\n",
       "      <td>Sons of ****,</td>\n",
       "      <td>negative</td>\n",
       "    </tr>\n",
       "  </tbody>\n",
       "</table>\n",
       "</div>"
      ],
      "text/plain": [
       "       textID                                               text  \\\n",
       "0  cb774db0d1                I`d have responded, if I were going   \n",
       "1  549e992a42      Sooo SAD I will miss you here in San Diego!!!   \n",
       "2  088c60f138                          my boss is bullying me...   \n",
       "3  9642c003ef                     what interview! leave me alone   \n",
       "4  358bd9e861   Sons of ****, why couldn`t they put them on t...   \n",
       "\n",
       "                         selected_text sentiment  \n",
       "0  I`d have responded, if I were going   neutral  \n",
       "1                             Sooo SAD  negative  \n",
       "2                          bullying me  negative  \n",
       "3                       leave me alone  negative  \n",
       "4                        Sons of ****,  negative  "
      ]
     },
     "execution_count": 265,
     "metadata": {},
     "output_type": "execute_result"
    }
   ],
   "source": [
    "df.head()"
   ]
  },
  {
   "cell_type": "code",
   "execution_count": 266,
   "metadata": {},
   "outputs": [
    {
     "data": {
      "text/plain": [
       "(27481, 4)"
      ]
     },
     "execution_count": 266,
     "metadata": {},
     "output_type": "execute_result"
    }
   ],
   "source": [
    "df.shape"
   ]
  },
  {
   "cell_type": "markdown",
   "metadata": {},
   "source": [
    "<h4> 2 - Ne garde que les tweets positifs et négatifs (tu excluras donc les neutral). <br />\n",
    " Quel est le pourcentage de tweets positifs/négatifs ?"
   ]
  },
  {
   "cell_type": "code",
   "execution_count": 267,
   "metadata": {},
   "outputs": [
    {
     "data": {
      "text/plain": [
       "neutral     11118\n",
       "positive     8582\n",
       "negative     7781\n",
       "Name: sentiment, dtype: int64"
      ]
     },
     "execution_count": 267,
     "metadata": {},
     "output_type": "execute_result"
    }
   ],
   "source": [
    "#count values in df|'sentiment']\n",
    "df['sentiment'].value_counts()"
   ]
  },
  {
   "cell_type": "code",
   "execution_count": 268,
   "metadata": {},
   "outputs": [
    {
     "data": {
      "text/html": [
       "<div>\n",
       "<style scoped>\n",
       "    .dataframe tbody tr th:only-of-type {\n",
       "        vertical-align: middle;\n",
       "    }\n",
       "\n",
       "    .dataframe tbody tr th {\n",
       "        vertical-align: top;\n",
       "    }\n",
       "\n",
       "    .dataframe thead th {\n",
       "        text-align: right;\n",
       "    }\n",
       "</style>\n",
       "<table border=\"1\" class=\"dataframe\">\n",
       "  <thead>\n",
       "    <tr style=\"text-align: right;\">\n",
       "      <th></th>\n",
       "      <th>textID</th>\n",
       "      <th>text</th>\n",
       "      <th>selected_text</th>\n",
       "      <th>sentiment</th>\n",
       "    </tr>\n",
       "  </thead>\n",
       "  <tbody>\n",
       "    <tr>\n",
       "      <th>0</th>\n",
       "      <td>549e992a42</td>\n",
       "      <td>Sooo SAD I will miss you here in San Diego!!!</td>\n",
       "      <td>Sooo SAD</td>\n",
       "      <td>negative</td>\n",
       "    </tr>\n",
       "    <tr>\n",
       "      <th>1</th>\n",
       "      <td>088c60f138</td>\n",
       "      <td>my boss is bullying me...</td>\n",
       "      <td>bullying me</td>\n",
       "      <td>negative</td>\n",
       "    </tr>\n",
       "    <tr>\n",
       "      <th>2</th>\n",
       "      <td>9642c003ef</td>\n",
       "      <td>what interview! leave me alone</td>\n",
       "      <td>leave me alone</td>\n",
       "      <td>negative</td>\n",
       "    </tr>\n",
       "    <tr>\n",
       "      <th>3</th>\n",
       "      <td>358bd9e861</td>\n",
       "      <td>Sons of ****, why couldn`t they put them on t...</td>\n",
       "      <td>Sons of ****,</td>\n",
       "      <td>negative</td>\n",
       "    </tr>\n",
       "    <tr>\n",
       "      <th>4</th>\n",
       "      <td>6e0c6d75b1</td>\n",
       "      <td>2am feedings for the baby are fun when he is a...</td>\n",
       "      <td>fun</td>\n",
       "      <td>positive</td>\n",
       "    </tr>\n",
       "    <tr>\n",
       "      <th>...</th>\n",
       "      <td>...</td>\n",
       "      <td>...</td>\n",
       "      <td>...</td>\n",
       "      <td>...</td>\n",
       "    </tr>\n",
       "    <tr>\n",
       "      <th>16358</th>\n",
       "      <td>b78ec00df5</td>\n",
       "      <td>enjoy ur night</td>\n",
       "      <td>enjoy</td>\n",
       "      <td>positive</td>\n",
       "    </tr>\n",
       "    <tr>\n",
       "      <th>16359</th>\n",
       "      <td>4eac33d1c0</td>\n",
       "      <td>wish we could come see u on Denver  husband l...</td>\n",
       "      <td>d lost</td>\n",
       "      <td>negative</td>\n",
       "    </tr>\n",
       "    <tr>\n",
       "      <th>16360</th>\n",
       "      <td>4f4c4fc327</td>\n",
       "      <td>I`ve wondered about rake to.  The client has ...</td>\n",
       "      <td>, don`t force</td>\n",
       "      <td>negative</td>\n",
       "    </tr>\n",
       "    <tr>\n",
       "      <th>16361</th>\n",
       "      <td>f67aae2310</td>\n",
       "      <td>Yay good for both of you. Enjoy the break - y...</td>\n",
       "      <td>Yay good for both of you.</td>\n",
       "      <td>positive</td>\n",
       "    </tr>\n",
       "    <tr>\n",
       "      <th>16362</th>\n",
       "      <td>ed167662a5</td>\n",
       "      <td>But it was worth it  ****.</td>\n",
       "      <td>But it was worth it  ****.</td>\n",
       "      <td>positive</td>\n",
       "    </tr>\n",
       "  </tbody>\n",
       "</table>\n",
       "<p>16363 rows × 4 columns</p>\n",
       "</div>"
      ],
      "text/plain": [
       "           textID                                               text  \\\n",
       "0      549e992a42      Sooo SAD I will miss you here in San Diego!!!   \n",
       "1      088c60f138                          my boss is bullying me...   \n",
       "2      9642c003ef                     what interview! leave me alone   \n",
       "3      358bd9e861   Sons of ****, why couldn`t they put them on t...   \n",
       "4      6e0c6d75b1  2am feedings for the baby are fun when he is a...   \n",
       "...           ...                                                ...   \n",
       "16358  b78ec00df5                                     enjoy ur night   \n",
       "16359  4eac33d1c0   wish we could come see u on Denver  husband l...   \n",
       "16360  4f4c4fc327   I`ve wondered about rake to.  The client has ...   \n",
       "16361  f67aae2310   Yay good for both of you. Enjoy the break - y...   \n",
       "16362  ed167662a5                         But it was worth it  ****.   \n",
       "\n",
       "                    selected_text sentiment  \n",
       "0                        Sooo SAD  negative  \n",
       "1                     bullying me  negative  \n",
       "2                  leave me alone  negative  \n",
       "3                   Sons of ****,  negative  \n",
       "4                             fun  positive  \n",
       "...                           ...       ...  \n",
       "16358                       enjoy  positive  \n",
       "16359                      d lost  negative  \n",
       "16360               , don`t force  negative  \n",
       "16361   Yay good for both of you.  positive  \n",
       "16362  But it was worth it  ****.  positive  \n",
       "\n",
       "[16363 rows x 4 columns]"
      ]
     },
     "execution_count": 268,
     "metadata": {},
     "output_type": "execute_result"
    }
   ],
   "source": [
    "# drop neutral snetiment in df\n",
    "\n",
    "df.drop(df[df['sentiment']== 'neutral'].index, inplace = True)\n",
    "df.reset_index(inplace = True, drop = True)\n",
    "df\n"
   ]
  },
  {
   "cell_type": "code",
   "execution_count": 269,
   "metadata": {},
   "outputs": [
    {
     "data": {
      "text/plain": [
       "positive    52.447595\n",
       "negative    47.552405\n",
       "Name: sentiment, dtype: float64"
      ]
     },
     "execution_count": 269,
     "metadata": {},
     "output_type": "execute_result"
    }
   ],
   "source": [
    "# calcul percent tweet negative and positive\n",
    "\n",
    "percent = df['sentiment'].value_counts(\"positive\")*100\n",
    "percent\n"
   ]
  },
  {
   "cell_type": "code",
   "execution_count": 270,
   "metadata": {},
   "outputs": [
    {
     "name": "stdout",
     "output_type": "stream",
     "text": [
      "The percent of positive sentiment is 52.45 %\n",
      "The percent of negative sentiment is 47.55 %\n"
     ]
    }
   ],
   "source": [
    "print(f\"The percent of positive sentiment is {round(percent[0],2)} %\")\n",
    "print(f\"The percent of negative sentiment is {round(percent[1],2)} %\")"
   ]
  },
  {
   "cell_type": "markdown",
   "metadata": {},
   "source": [
    "<h4> 3 - Copie la colonne text dans une Série X, et la colonne sentiment dans une Série y. <br />\n",
    "Applique un train test split avec le random_state = 32 et un train_size de 0.75."
   ]
  },
  {
   "cell_type": "code",
   "execution_count": 271,
   "metadata": {},
   "outputs": [],
   "source": [
    "X = df['text']\n",
    "y = df['sentiment']"
   ]
  },
  {
   "cell_type": "code",
   "execution_count": 272,
   "metadata": {},
   "outputs": [
    {
     "name": "stdout",
     "output_type": "stream",
     "text": [
      "The length of the initial dataset is : 16363\n",
      "The length of the train dataset is   : 12272\n",
      "The length of the test dataset is    : 4091\n"
     ]
    }
   ],
   "source": [
    "X_train, X_test, y_train, y_test = train_test_split(X, y, random_state=32, train_size = 0.75)\n",
    "print(\"The length of the initial dataset is :\", len(X))\n",
    "print(\"The length of the train dataset is   :\", len(X_train))\n",
    "print(\"The length of the test dataset is    :\", len(X_test))"
   ]
  },
  {
   "cell_type": "markdown",
   "metadata": {},
   "source": [
    "<h4> 4 - Crée un modèle vectorizer avec scikit-learn en utilisant la méthode Countvectorizer.<br />\n",
    "Entraîne ton modèle sur X_train, puis crée une matrice de features X_train_CV.<br />\n",
    "Crée la matrice X_test_CV sans ré-entraîner le modèle.<br />\n",
    "Le format de la matrice X_test_CV doit être 4091x15806 avec 44633 stored elements."
   ]
  },
  {
   "cell_type": "code",
   "execution_count": 273,
   "metadata": {},
   "outputs": [
    {
     "data": {
      "text/plain": [
       "CountVectorizer()"
      ]
     },
     "execution_count": 273,
     "metadata": {},
     "output_type": "execute_result"
    }
   ],
   "source": [
    "vectorizer = CountVectorizer()\n",
    "vectorizer.fit(X_train)"
   ]
  },
  {
   "cell_type": "code",
   "execution_count": 274,
   "metadata": {},
   "outputs": [
    {
     "data": {
      "text/plain": [
       "<12272x15806 sparse matrix of type '<class 'numpy.int64'>'\n",
       "\twith 144578 stored elements in Compressed Sparse Row format>"
      ]
     },
     "execution_count": 274,
     "metadata": {},
     "output_type": "execute_result"
    }
   ],
   "source": [
    "X_train_CV = vectorizer.transform(X_train)\n",
    "X_train_CV"
   ]
  },
  {
   "cell_type": "code",
   "execution_count": 275,
   "metadata": {},
   "outputs": [
    {
     "data": {
      "text/plain": [
       "<4091x15806 sparse matrix of type '<class 'numpy.int64'>'\n",
       "\twith 44633 stored elements in Compressed Sparse Row format>"
      ]
     },
     "execution_count": 275,
     "metadata": {},
     "output_type": "execute_result"
    }
   ],
   "source": [
    "X_test_CV = vectorizer.transform(X_test)\n",
    "X_test_CV"
   ]
  },
  {
   "cell_type": "markdown",
   "metadata": {},
   "source": [
    "<h4> 5 - Entraîne maintenant une régression logistique avec les paramètres par défaut.<br />\n",
    "Tu devrais obtenir les résultats suivants : 0.966 pour le test d'entraînement, et 0.877 pour l'ensemble de test."
   ]
  },
  {
   "cell_type": "code",
   "execution_count": 276,
   "metadata": {},
   "outputs": [
    {
     "name": "stdout",
     "output_type": "stream",
     "text": [
      "The accuracy score for training set: 0.966\n",
      "The accuracy score  for test set: 0.877\n"
     ]
    }
   ],
   "source": [
    "newmodel = LogisticRegression(max_iter=150).fit(X_train_CV, y_train)\n",
    "\n",
    "#Print the accuracy score on the train set and on the test set\n",
    "print(f\"The accuracy score for training set: {round(newmodel.score(X_train_CV, y_train),3)}\")\n",
    "print(f\"The accuracy score  for test set: {round(newmodel.score(X_test_CV, y_test),3)}\")"
   ]
  },
  {
   "cell_type": "markdown",
   "metadata": {},
   "source": [
    "<h4> 6 - Étape bonus : essaye d'afficher 10 tweets qui ont été mal prédits (faux positifs ou faux négatifs).<br />\n",
    " Aurais-tu fait mieux que l'algorithme ?"
   ]
  },
  {
   "cell_type": "code",
   "execution_count": 277,
   "metadata": {},
   "outputs": [
    {
     "data": {
      "text/plain": [
       "array(['negative', 'negative', 'positive', ..., 'negative', 'negative',\n",
       "       'positive'], dtype=object)"
      ]
     },
     "execution_count": 277,
     "metadata": {},
     "output_type": "execute_result"
    }
   ],
   "source": [
    "# Perform prediction using the test dataset\n",
    "tweet_predict = newmodel.predict(X_test_CV)\n",
    "tweet_predict"
   ]
  },
  {
   "cell_type": "code",
   "execution_count": 278,
   "metadata": {},
   "outputs": [
    {
     "data": {
      "text/html": [
       "<div>\n",
       "<style scoped>\n",
       "    .dataframe tbody tr th:only-of-type {\n",
       "        vertical-align: middle;\n",
       "    }\n",
       "\n",
       "    .dataframe tbody tr th {\n",
       "        vertical-align: top;\n",
       "    }\n",
       "\n",
       "    .dataframe thead th {\n",
       "        text-align: right;\n",
       "    }\n",
       "</style>\n",
       "<table border=\"1\" class=\"dataframe\">\n",
       "  <thead>\n",
       "    <tr style=\"text-align: right;\">\n",
       "      <th></th>\n",
       "      <th>text</th>\n",
       "      <th>sentiment_predict</th>\n",
       "    </tr>\n",
       "  </thead>\n",
       "  <tbody>\n",
       "    <tr>\n",
       "      <th>3386</th>\n",
       "      <td>- no,  is buttfuck stupid. I`m just silly and...</td>\n",
       "      <td>negative</td>\n",
       "    </tr>\n",
       "    <tr>\n",
       "      <th>4559</th>\n",
       "      <td>get better omg i still dont believe that i di...</td>\n",
       "      <td>negative</td>\n",
       "    </tr>\n",
       "    <tr>\n",
       "      <th>1616</th>\n",
       "      <td>HollowbabesHere comes the utter shite #bgt &lt;I ...</td>\n",
       "      <td>positive</td>\n",
       "    </tr>\n",
       "    <tr>\n",
       "      <th>2985</th>\n",
       "      <td>Thank You Clayton. Going to my favorite Greek...</td>\n",
       "      <td>positive</td>\n",
       "    </tr>\n",
       "    <tr>\n",
       "      <th>16069</th>\n",
       "      <td>I`m watching it at the moment  -sighs- and st...</td>\n",
       "      <td>negative</td>\n",
       "    </tr>\n",
       "  </tbody>\n",
       "</table>\n",
       "</div>"
      ],
      "text/plain": [
       "                                                    text sentiment_predict\n",
       "3386    - no,  is buttfuck stupid. I`m just silly and...          negative\n",
       "4559    get better omg i still dont believe that i di...          negative\n",
       "1616   HollowbabesHere comes the utter shite #bgt <I ...          positive\n",
       "2985    Thank You Clayton. Going to my favorite Greek...          positive\n",
       "16069   I`m watching it at the moment  -sighs- and st...          negative"
      ]
     },
     "execution_count": 278,
     "metadata": {},
     "output_type": "execute_result"
    }
   ],
   "source": [
    "df_sentiment = pd.DataFrame(X_test)\n",
    "df_sentiment['sentiment_predict'] = tweet_predict\n",
    "df_sentiment.head()"
   ]
  },
  {
   "cell_type": "code",
   "execution_count": 279,
   "metadata": {},
   "outputs": [
    {
     "data": {
      "text/html": [
       "<div>\n",
       "<style scoped>\n",
       "    .dataframe tbody tr th:only-of-type {\n",
       "        vertical-align: middle;\n",
       "    }\n",
       "\n",
       "    .dataframe tbody tr th {\n",
       "        vertical-align: top;\n",
       "    }\n",
       "\n",
       "    .dataframe thead th {\n",
       "        text-align: right;\n",
       "    }\n",
       "</style>\n",
       "<table border=\"1\" class=\"dataframe\">\n",
       "  <thead>\n",
       "    <tr style=\"text-align: right;\">\n",
       "      <th></th>\n",
       "      <th>text</th>\n",
       "      <th>sentiment_predict</th>\n",
       "      <th>sentiment</th>\n",
       "    </tr>\n",
       "  </thead>\n",
       "  <tbody>\n",
       "    <tr>\n",
       "      <th>3386</th>\n",
       "      <td>- no,  is buttfuck stupid. I`m just silly and...</td>\n",
       "      <td>negative</td>\n",
       "      <td>negative</td>\n",
       "    </tr>\n",
       "    <tr>\n",
       "      <th>4559</th>\n",
       "      <td>get better omg i still dont believe that i di...</td>\n",
       "      <td>negative</td>\n",
       "      <td>negative</td>\n",
       "    </tr>\n",
       "    <tr>\n",
       "      <th>1616</th>\n",
       "      <td>HollowbabesHere comes the utter shite #bgt &lt;I ...</td>\n",
       "      <td>positive</td>\n",
       "      <td>negative</td>\n",
       "    </tr>\n",
       "    <tr>\n",
       "      <th>2985</th>\n",
       "      <td>Thank You Clayton. Going to my favorite Greek...</td>\n",
       "      <td>positive</td>\n",
       "      <td>positive</td>\n",
       "    </tr>\n",
       "    <tr>\n",
       "      <th>16069</th>\n",
       "      <td>I`m watching it at the moment  -sighs- and st...</td>\n",
       "      <td>negative</td>\n",
       "      <td>negative</td>\n",
       "    </tr>\n",
       "    <tr>\n",
       "      <th>...</th>\n",
       "      <td>...</td>\n",
       "      <td>...</td>\n",
       "      <td>...</td>\n",
       "    </tr>\n",
       "    <tr>\n",
       "      <th>2442</th>\n",
       "      <td>I can`t take it</td>\n",
       "      <td>negative</td>\n",
       "      <td>negative</td>\n",
       "    </tr>\n",
       "    <tr>\n",
       "      <th>2757</th>\n",
       "      <td>so where r u spinning now that the Hookah is ...</td>\n",
       "      <td>negative</td>\n",
       "      <td>negative</td>\n",
       "    </tr>\n",
       "    <tr>\n",
       "      <th>10898</th>\n",
       "      <td>WHAT?! i was wanting to see that show!!</td>\n",
       "      <td>negative</td>\n",
       "      <td>negative</td>\n",
       "    </tr>\n",
       "    <tr>\n",
       "      <th>9863</th>\n",
       "      <td>Har vondt i ryggen My back hurts</td>\n",
       "      <td>negative</td>\n",
       "      <td>negative</td>\n",
       "    </tr>\n",
       "    <tr>\n",
       "      <th>3114</th>\n",
       "      <td>Laying in bed with a book &amp; some beautiful mus...</td>\n",
       "      <td>positive</td>\n",
       "      <td>positive</td>\n",
       "    </tr>\n",
       "  </tbody>\n",
       "</table>\n",
       "<p>4091 rows × 3 columns</p>\n",
       "</div>"
      ],
      "text/plain": [
       "                                                    text sentiment_predict  \\\n",
       "3386    - no,  is buttfuck stupid. I`m just silly and...          negative   \n",
       "4559    get better omg i still dont believe that i di...          negative   \n",
       "1616   HollowbabesHere comes the utter shite #bgt <I ...          positive   \n",
       "2985    Thank You Clayton. Going to my favorite Greek...          positive   \n",
       "16069   I`m watching it at the moment  -sighs- and st...          negative   \n",
       "...                                                  ...               ...   \n",
       "2442                                     I can`t take it          negative   \n",
       "2757    so where r u spinning now that the Hookah is ...          negative   \n",
       "10898            WHAT?! i was wanting to see that show!!          negative   \n",
       "9863                    Har vondt i ryggen My back hurts          negative   \n",
       "3114   Laying in bed with a book & some beautiful mus...          positive   \n",
       "\n",
       "      sentiment  \n",
       "3386   negative  \n",
       "4559   negative  \n",
       "1616   negative  \n",
       "2985   positive  \n",
       "16069  negative  \n",
       "...         ...  \n",
       "2442   negative  \n",
       "2757   negative  \n",
       "10898  negative  \n",
       "9863   negative  \n",
       "3114   positive  \n",
       "\n",
       "[4091 rows x 3 columns]"
      ]
     },
     "execution_count": 279,
     "metadata": {},
     "output_type": "execute_result"
    }
   ],
   "source": [
    "df_sentiment['sentiment'] = df['sentiment'].iloc[df_sentiment.index]\n",
    "df_sentiment"
   ]
  },
  {
   "cell_type": "code",
   "execution_count": 280,
   "metadata": {},
   "outputs": [
    {
     "data": {
      "text/html": [
       "<div>\n",
       "<style scoped>\n",
       "    .dataframe tbody tr th:only-of-type {\n",
       "        vertical-align: middle;\n",
       "    }\n",
       "\n",
       "    .dataframe tbody tr th {\n",
       "        vertical-align: top;\n",
       "    }\n",
       "\n",
       "    .dataframe thead th {\n",
       "        text-align: right;\n",
       "    }\n",
       "</style>\n",
       "<table border=\"1\" class=\"dataframe\">\n",
       "  <thead>\n",
       "    <tr style=\"text-align: right;\">\n",
       "      <th></th>\n",
       "      <th>text</th>\n",
       "      <th>sentiment_predict</th>\n",
       "      <th>sentiment</th>\n",
       "      <th>comparison_column</th>\n",
       "    </tr>\n",
       "  </thead>\n",
       "  <tbody>\n",
       "    <tr>\n",
       "      <th>0</th>\n",
       "      <td>- no,  is buttfuck stupid. I`m just silly and...</td>\n",
       "      <td>negative</td>\n",
       "      <td>negative</td>\n",
       "      <td>True</td>\n",
       "    </tr>\n",
       "    <tr>\n",
       "      <th>1</th>\n",
       "      <td>get better omg i still dont believe that i di...</td>\n",
       "      <td>negative</td>\n",
       "      <td>negative</td>\n",
       "      <td>True</td>\n",
       "    </tr>\n",
       "    <tr>\n",
       "      <th>2</th>\n",
       "      <td>HollowbabesHere comes the utter shite #bgt &lt;I ...</td>\n",
       "      <td>positive</td>\n",
       "      <td>negative</td>\n",
       "      <td>False</td>\n",
       "    </tr>\n",
       "    <tr>\n",
       "      <th>3</th>\n",
       "      <td>Thank You Clayton. Going to my favorite Greek...</td>\n",
       "      <td>positive</td>\n",
       "      <td>positive</td>\n",
       "      <td>True</td>\n",
       "    </tr>\n",
       "    <tr>\n",
       "      <th>4</th>\n",
       "      <td>I`m watching it at the moment  -sighs- and st...</td>\n",
       "      <td>negative</td>\n",
       "      <td>negative</td>\n",
       "      <td>True</td>\n",
       "    </tr>\n",
       "    <tr>\n",
       "      <th>...</th>\n",
       "      <td>...</td>\n",
       "      <td>...</td>\n",
       "      <td>...</td>\n",
       "      <td>...</td>\n",
       "    </tr>\n",
       "    <tr>\n",
       "      <th>4086</th>\n",
       "      <td>I can`t take it</td>\n",
       "      <td>negative</td>\n",
       "      <td>negative</td>\n",
       "      <td>True</td>\n",
       "    </tr>\n",
       "    <tr>\n",
       "      <th>4087</th>\n",
       "      <td>so where r u spinning now that the Hookah is ...</td>\n",
       "      <td>negative</td>\n",
       "      <td>negative</td>\n",
       "      <td>True</td>\n",
       "    </tr>\n",
       "    <tr>\n",
       "      <th>4088</th>\n",
       "      <td>WHAT?! i was wanting to see that show!!</td>\n",
       "      <td>negative</td>\n",
       "      <td>negative</td>\n",
       "      <td>True</td>\n",
       "    </tr>\n",
       "    <tr>\n",
       "      <th>4089</th>\n",
       "      <td>Har vondt i ryggen My back hurts</td>\n",
       "      <td>negative</td>\n",
       "      <td>negative</td>\n",
       "      <td>True</td>\n",
       "    </tr>\n",
       "    <tr>\n",
       "      <th>4090</th>\n",
       "      <td>Laying in bed with a book &amp; some beautiful mus...</td>\n",
       "      <td>positive</td>\n",
       "      <td>positive</td>\n",
       "      <td>True</td>\n",
       "    </tr>\n",
       "  </tbody>\n",
       "</table>\n",
       "<p>4091 rows × 4 columns</p>\n",
       "</div>"
      ],
      "text/plain": [
       "                                                   text sentiment_predict  \\\n",
       "0      - no,  is buttfuck stupid. I`m just silly and...          negative   \n",
       "1      get better omg i still dont believe that i di...          negative   \n",
       "2     HollowbabesHere comes the utter shite #bgt <I ...          positive   \n",
       "3      Thank You Clayton. Going to my favorite Greek...          positive   \n",
       "4      I`m watching it at the moment  -sighs- and st...          negative   \n",
       "...                                                 ...               ...   \n",
       "4086                                    I can`t take it          negative   \n",
       "4087   so where r u spinning now that the Hookah is ...          negative   \n",
       "4088            WHAT?! i was wanting to see that show!!          negative   \n",
       "4089                   Har vondt i ryggen My back hurts          negative   \n",
       "4090  Laying in bed with a book & some beautiful mus...          positive   \n",
       "\n",
       "     sentiment  comparison_column  \n",
       "0     negative               True  \n",
       "1     negative               True  \n",
       "2     negative              False  \n",
       "3     positive               True  \n",
       "4     negative               True  \n",
       "...        ...                ...  \n",
       "4086  negative               True  \n",
       "4087  negative               True  \n",
       "4088  negative               True  \n",
       "4089  negative               True  \n",
       "4090  positive               True  \n",
       "\n",
       "[4091 rows x 4 columns]"
      ]
     },
     "execution_count": 280,
     "metadata": {},
     "output_type": "execute_result"
    }
   ],
   "source": [
    "df_sentiment[\"comparison_column\"] = np.where(df_sentiment[\"sentiment\"] == df_sentiment[\"sentiment_predict\"], True, False)\n",
    "df_sentiment.reset_index(inplace=True, drop=True)\n",
    "df_sentiment"
   ]
  },
  {
   "cell_type": "code",
   "execution_count": 281,
   "metadata": {},
   "outputs": [
    {
     "data": {
      "text/plain": [
       "True     3589\n",
       "False     502\n",
       "Name: comparison_column, dtype: int64"
      ]
     },
     "execution_count": 281,
     "metadata": {},
     "output_type": "execute_result"
    }
   ],
   "source": [
    "df_sentiment['comparison_column'].value_counts()"
   ]
  },
  {
   "cell_type": "code",
   "execution_count": 282,
   "metadata": {},
   "outputs": [
    {
     "data": {
      "text/html": [
       "<div>\n",
       "<style scoped>\n",
       "    .dataframe tbody tr th:only-of-type {\n",
       "        vertical-align: middle;\n",
       "    }\n",
       "\n",
       "    .dataframe tbody tr th {\n",
       "        vertical-align: top;\n",
       "    }\n",
       "\n",
       "    .dataframe thead th {\n",
       "        text-align: right;\n",
       "    }\n",
       "</style>\n",
       "<table border=\"1\" class=\"dataframe\">\n",
       "  <thead>\n",
       "    <tr style=\"text-align: right;\">\n",
       "      <th></th>\n",
       "      <th>text</th>\n",
       "      <th>sentiment_predict</th>\n",
       "      <th>sentiment</th>\n",
       "      <th>comparison_column</th>\n",
       "    </tr>\n",
       "  </thead>\n",
       "  <tbody>\n",
       "    <tr>\n",
       "      <th>0</th>\n",
       "      <td>HollowbabesHere comes the utter shite #bgt &lt;I ...</td>\n",
       "      <td>positive</td>\n",
       "      <td>negative</td>\n",
       "      <td>False</td>\n",
       "    </tr>\n",
       "    <tr>\n",
       "      <th>1</th>\n",
       "      <td>SUFFICATION NO BREATHING. It`s okay. There`ll...</td>\n",
       "      <td>positive</td>\n",
       "      <td>negative</td>\n",
       "      <td>False</td>\n",
       "    </tr>\n",
       "    <tr>\n",
       "      <th>2</th>\n",
       "      <td>i wanna vote for Miley Cyrus for the mtv movie...</td>\n",
       "      <td>negative</td>\n",
       "      <td>positive</td>\n",
       "      <td>False</td>\n",
       "    </tr>\n",
       "    <tr>\n",
       "      <th>3</th>\n",
       "      <td>I love music so much that i`ve gone through pa...</td>\n",
       "      <td>positive</td>\n",
       "      <td>negative</td>\n",
       "      <td>False</td>\n",
       "    </tr>\n",
       "    <tr>\n",
       "      <th>4</th>\n",
       "      <td>I can only message those who message me, if we...</td>\n",
       "      <td>negative</td>\n",
       "      <td>positive</td>\n",
       "      <td>False</td>\n",
       "    </tr>\n",
       "    <tr>\n",
       "      <th>5</th>\n",
       "      <td>wish I could feel no pain (8)  but it`s ok, at...</td>\n",
       "      <td>negative</td>\n",
       "      <td>positive</td>\n",
       "      <td>False</td>\n",
       "    </tr>\n",
       "    <tr>\n",
       "      <th>6</th>\n",
       "      <td>so glad i`m not at uni anymore</td>\n",
       "      <td>negative</td>\n",
       "      <td>positive</td>\n",
       "      <td>False</td>\n",
       "    </tr>\n",
       "    <tr>\n",
       "      <th>7</th>\n",
       "      <td>You`re not here. I hope you`re still resting....</td>\n",
       "      <td>negative</td>\n",
       "      <td>positive</td>\n",
       "      <td>False</td>\n",
       "    </tr>\n",
       "    <tr>\n",
       "      <th>8</th>\n",
       "      <td>you`re missing out, bb! i`m such a cereal nu...</td>\n",
       "      <td>negative</td>\n",
       "      <td>positive</td>\n",
       "      <td>False</td>\n",
       "    </tr>\n",
       "    <tr>\n",
       "      <th>9</th>\n",
       "      <td>have an amazing time with your mommas tomorro...</td>\n",
       "      <td>positive</td>\n",
       "      <td>negative</td>\n",
       "      <td>False</td>\n",
       "    </tr>\n",
       "  </tbody>\n",
       "</table>\n",
       "</div>"
      ],
      "text/plain": [
       "                                                text sentiment_predict  \\\n",
       "0  HollowbabesHere comes the utter shite #bgt <I ...          positive   \n",
       "1   SUFFICATION NO BREATHING. It`s okay. There`ll...          positive   \n",
       "2  i wanna vote for Miley Cyrus for the mtv movie...          negative   \n",
       "3  I love music so much that i`ve gone through pa...          positive   \n",
       "4  I can only message those who message me, if we...          negative   \n",
       "5  wish I could feel no pain (8)  but it`s ok, at...          negative   \n",
       "6                     so glad i`m not at uni anymore          negative   \n",
       "7   You`re not here. I hope you`re still resting....          negative   \n",
       "8    you`re missing out, bb! i`m such a cereal nu...          negative   \n",
       "9   have an amazing time with your mommas tomorro...          positive   \n",
       "\n",
       "  sentiment  comparison_column  \n",
       "0  negative              False  \n",
       "1  negative              False  \n",
       "2  positive              False  \n",
       "3  negative              False  \n",
       "4  positive              False  \n",
       "5  positive              False  \n",
       "6  positive              False  \n",
       "7  positive              False  \n",
       "8  positive              False  \n",
       "9  negative              False  "
      ]
     },
     "execution_count": 282,
     "metadata": {},
     "output_type": "execute_result"
    }
   ],
   "source": [
    "df_sentiment_false = df_sentiment[df_sentiment['comparison_column']==False]\n",
    "df_sentiment_false.reset_index(inplace=True, drop=True)\n",
    "df_sentiment_false.head(10)"
   ]
  },
  {
   "cell_type": "code",
   "execution_count": 283,
   "metadata": {},
   "outputs": [
    {
     "data": {
      "text/plain": [
       "['HollowbabesHere comes the utter shite #bgt <I completely agree',\n",
       " ' SUFFICATION NO BREATHING. It`s okay. There`ll be more. You`re invited to mine, but I can`t promise fun times.  *Jinx',\n",
       " 'i wanna vote for Miley Cyrus for the mtv movie awards..but i don`t know where i could  somebody could send me a link? thaank you <3',\n",
       " 'I love music so much that i`ve gone through pain to play :S my sides of my fingers now are peeling and have blisters from playing so much',\n",
       " 'I can only message those who message me, if we`re fwends...so those that want replies..follow me.  hmm..that sounds funny..',\n",
       " 'wish I could feel no pain (8)  but it`s ok, at least they like Brazil!',\n",
       " ' so glad i`m not at uni anymore',\n",
       " ' You`re not here. I hope you`re still resting.  I don`t want you to be stressed.',\n",
       " '  you`re missing out, bb! i`m such a cereal nut, i think i like every kind available.',\n",
       " ' have an amazing time with your mommas tomorrow! Show them how much they mean to you  Whatever you do they will love it']"
      ]
     },
     "execution_count": 283,
     "metadata": {},
     "output_type": "execute_result"
    }
   ],
   "source": [
    "list_tweet_neg = []\n",
    "\n",
    "for i in range(10):\n",
    "    list_tweet_neg.append(df_sentiment_false['text'][i])\n",
    "\n",
    "list_tweet_neg"
   ]
  },
  {
   "cell_type": "code",
   "execution_count": null,
   "metadata": {},
   "outputs": [],
   "source": []
  }
 ],
 "metadata": {
  "language_info": {
   "name": "python"
  },
  "orig_nbformat": 4
 },
 "nbformat": 4,
 "nbformat_minor": 2
}
