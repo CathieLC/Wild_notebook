{
  "nbformat": 4,
  "nbformat_minor": 0,
  "metadata": {
    "colab": {
      "name": "ML Challenge - Classification - Weather.ipynb",
      "provenance": [],
      "collapsed_sections": [],
      "include_colab_link": true
    },
    "kernelspec": {
      "name": "python3",
      "display_name": "Python 3"
    }
  },
  "cells": [
    {
      "cell_type": "markdown",
      "metadata": {
        "id": "view-in-github",
        "colab_type": "text"
      },
      "source": [
        "<a href=\"https://colab.research.google.com/github/CathieLC/Wild_notebook_2021-2022/blob/main/Algos_Classification.ipynb\" target=\"_parent\"><img src=\"https://colab.research.google.com/assets/colab-badge.svg\" alt=\"Open In Colab\"/></a>"
      ]
    },
    {
      "cell_type": "markdown",
      "metadata": {
        "id": "9HtcxSkZvNHc"
      },
      "source": [
        "# Execute the code below"
      ]
    },
    {
      "cell_type": "code",
      "metadata": {
        "id": "70rqo_6SvAXJ",
        "colab": {
          "base_uri": "https://localhost:8080/"
        },
        "outputId": "4e5fadf5-8c93-4bf8-e0a0-516a095760fb"
      },
      "source": [
        "import pandas as pd\n",
        "import numpy as np\n",
        "\n",
        "from sklearn.model_selection import train_test_split\n",
        "from sklearn.linear_model import LogisticRegression\n",
        "from sklearn.neighbors import NearestNeighbors\n",
        "from sklearn.neighbors import KNeighborsClassifier\n",
        "from sklearn.tree import DecisionTreeClassifier\n",
        "from sklearn.metrics import confusion_matrix, ConfusionMatrixDisplay\n",
        "\n",
        "\n",
        "import matplotlib.pyplot as plt\n",
        "import seaborn as sns\n",
        "import plotly.express as px \n",
        "import plotly.graph_objects as go \n",
        "\n",
        "\n",
        "link_main = \"https://raw.githubusercontent.com/murpi/wilddata/master/quests/weather_main_2018.csv\"\n",
        "link_opinion = \"https://raw.githubusercontent.com/murpi/wilddata/master/quests/weather_opinion_2018.csv\"\n",
        "df_main = pd.read_csv(link_main)\n",
        "df_opinion = pd.read_csv(link_opinion)\n",
        "print(df_main.head())\n",
        "print(df_opinion.head())"
      ],
      "execution_count": null,
      "outputs": [
        {
          "output_type": "stream",
          "name": "stdout",
          "text": [
            "         DATE  MAX_TEMPERATURE_C  ...  DEWPOINT_MAX_C  WINDTEMP_MAX_C\n",
            "0  2018-01-01                 12  ...               8               7\n",
            "1  2018-01-02                 13  ...              12               6\n",
            "2  2018-01-03                 15  ...              13               7\n",
            "3  2018-01-04                 14  ...              12              10\n",
            "4  2018-01-05                 12  ...              10               7\n",
            "\n",
            "[5 rows x 15 columns]\n",
            "         date  WEATHER_CODE_EVENING  TOTAL_SNOW_MM  UV_INDEX  SUNHOUR OPINION\n",
            "0  2018-01-01                   113              0         3      5.1     bad\n",
            "1  2018-03-12                   119              0         2      8.8     bad\n",
            "2  2018-03-09                   116              0         3     10.2     bad\n",
            "3  2018-10-07                   122              0         1      5.6     bad\n",
            "4  2018-06-18                   119              0         1     12.9     bad\n"
          ]
        }
      ]
    },
    {
      "cell_type": "markdown",
      "metadata": {
        "id": "gQcAnwxVvP8r"
      },
      "source": [
        "# Classification challenge\n",
        "\n",
        "Your goal are :\n",
        "- to merge both 2018 DataFrames\n",
        "- to train-test split the new 2018 DataFrame\n",
        "- to train 3 differents Machine Learning algorithms (KNN, logistic regression and decision tree) with \"opinion\" as target\n",
        "- to try different parameters\n",
        "- to find the best accuracy score (on the test set of course)\n",
        "- to fill the missing values in the \"opinion\" columns whith your best model\n",
        "- to explain what is the \"rules\" used by your model to predict the opinion.\n",
        "\n",
        "You can help yourself with charts if you want."
      ]
    },
    {
      "cell_type": "code",
      "metadata": {
        "id": "hzs6xUxewLpN",
        "colab": {
          "base_uri": "https://localhost:8080/",
          "height": 356
        },
        "outputId": "5b0b3171-13fb-4852-a541-a9ca516d45f6"
      },
      "source": [
        "# Your code here :\n",
        "\n",
        "# to merge both 2018 DataFrames\n",
        "df2018 = pd.merge(df_main,df_opinion,how='left', left_on='DATE',right_on='date')\n",
        "df2018 = df2018.dropna()\n",
        "df2018['DATE'] = pd.to_datetime(df2018['DATE'])\n",
        "df2018.head()\n"
      ],
      "execution_count": null,
      "outputs": [
        {
          "output_type": "execute_result",
          "data": {
            "text/html": [
              "\n",
              "  <div id=\"df-ef5492c5-c237-450c-b90c-e3139d6bafc0\">\n",
              "    <div class=\"colab-df-container\">\n",
              "      <div>\n",
              "<style scoped>\n",
              "    .dataframe tbody tr th:only-of-type {\n",
              "        vertical-align: middle;\n",
              "    }\n",
              "\n",
              "    .dataframe tbody tr th {\n",
              "        vertical-align: top;\n",
              "    }\n",
              "\n",
              "    .dataframe thead th {\n",
              "        text-align: right;\n",
              "    }\n",
              "</style>\n",
              "<table border=\"1\" class=\"dataframe\">\n",
              "  <thead>\n",
              "    <tr style=\"text-align: right;\">\n",
              "      <th></th>\n",
              "      <th>DATE</th>\n",
              "      <th>MAX_TEMPERATURE_C</th>\n",
              "      <th>MIN_TEMPERATURE_C</th>\n",
              "      <th>WINDSPEED_MAX_KMH</th>\n",
              "      <th>TEMPERATURE_MORNING_C</th>\n",
              "      <th>TEMPERATURE_NOON_C</th>\n",
              "      <th>TEMPERATURE_EVENING_C</th>\n",
              "      <th>PRECIP_TOTAL_DAY_MM</th>\n",
              "      <th>HUMIDITY_MAX_PERCENT</th>\n",
              "      <th>VISIBILITY_AVG_KM</th>\n",
              "      <th>PRESSURE_MAX_MB</th>\n",
              "      <th>CLOUDCOVER_AVG_PERCENT</th>\n",
              "      <th>HEATINDEX_MAX_C</th>\n",
              "      <th>DEWPOINT_MAX_C</th>\n",
              "      <th>WINDTEMP_MAX_C</th>\n",
              "      <th>date</th>\n",
              "      <th>WEATHER_CODE_EVENING</th>\n",
              "      <th>TOTAL_SNOW_MM</th>\n",
              "      <th>UV_INDEX</th>\n",
              "      <th>SUNHOUR</th>\n",
              "      <th>OPINION</th>\n",
              "    </tr>\n",
              "  </thead>\n",
              "  <tbody>\n",
              "    <tr>\n",
              "      <th>0</th>\n",
              "      <td>2018-01-01</td>\n",
              "      <td>12</td>\n",
              "      <td>8</td>\n",
              "      <td>61</td>\n",
              "      <td>9</td>\n",
              "      <td>11</td>\n",
              "      <td>8</td>\n",
              "      <td>8.9</td>\n",
              "      <td>79</td>\n",
              "      <td>9.500</td>\n",
              "      <td>1018</td>\n",
              "      <td>41.750</td>\n",
              "      <td>12</td>\n",
              "      <td>8</td>\n",
              "      <td>7</td>\n",
              "      <td>2018-01-01</td>\n",
              "      <td>113.0</td>\n",
              "      <td>0.0</td>\n",
              "      <td>3.0</td>\n",
              "      <td>5.1</td>\n",
              "      <td>bad</td>\n",
              "    </tr>\n",
              "    <tr>\n",
              "      <th>1</th>\n",
              "      <td>2018-01-02</td>\n",
              "      <td>13</td>\n",
              "      <td>6</td>\n",
              "      <td>26</td>\n",
              "      <td>8</td>\n",
              "      <td>12</td>\n",
              "      <td>13</td>\n",
              "      <td>0.6</td>\n",
              "      <td>96</td>\n",
              "      <td>9.000</td>\n",
              "      <td>1020</td>\n",
              "      <td>87.875</td>\n",
              "      <td>13</td>\n",
              "      <td>12</td>\n",
              "      <td>6</td>\n",
              "      <td>2018-01-02</td>\n",
              "      <td>122.0</td>\n",
              "      <td>0.0</td>\n",
              "      <td>3.0</td>\n",
              "      <td>3.3</td>\n",
              "      <td>bad</td>\n",
              "    </tr>\n",
              "    <tr>\n",
              "      <th>2</th>\n",
              "      <td>2018-01-03</td>\n",
              "      <td>15</td>\n",
              "      <td>10</td>\n",
              "      <td>40</td>\n",
              "      <td>11</td>\n",
              "      <td>12</td>\n",
              "      <td>10</td>\n",
              "      <td>5.5</td>\n",
              "      <td>82</td>\n",
              "      <td>8.500</td>\n",
              "      <td>1017</td>\n",
              "      <td>91.500</td>\n",
              "      <td>15</td>\n",
              "      <td>13</td>\n",
              "      <td>7</td>\n",
              "      <td>2018-01-03</td>\n",
              "      <td>122.0</td>\n",
              "      <td>0.0</td>\n",
              "      <td>3.0</td>\n",
              "      <td>3.3</td>\n",
              "      <td>bad</td>\n",
              "    </tr>\n",
              "    <tr>\n",
              "      <th>3</th>\n",
              "      <td>2018-01-04</td>\n",
              "      <td>14</td>\n",
              "      <td>11</td>\n",
              "      <td>45</td>\n",
              "      <td>14</td>\n",
              "      <td>14</td>\n",
              "      <td>11</td>\n",
              "      <td>0.0</td>\n",
              "      <td>89</td>\n",
              "      <td>10.000</td>\n",
              "      <td>1011</td>\n",
              "      <td>90.125</td>\n",
              "      <td>14</td>\n",
              "      <td>12</td>\n",
              "      <td>10</td>\n",
              "      <td>2018-01-04</td>\n",
              "      <td>116.0</td>\n",
              "      <td>0.0</td>\n",
              "      <td>3.0</td>\n",
              "      <td>3.3</td>\n",
              "      <td>bad</td>\n",
              "    </tr>\n",
              "    <tr>\n",
              "      <th>4</th>\n",
              "      <td>2018-01-05</td>\n",
              "      <td>12</td>\n",
              "      <td>7</td>\n",
              "      <td>21</td>\n",
              "      <td>10</td>\n",
              "      <td>11</td>\n",
              "      <td>8</td>\n",
              "      <td>1.5</td>\n",
              "      <td>85</td>\n",
              "      <td>9.875</td>\n",
              "      <td>1005</td>\n",
              "      <td>62.375</td>\n",
              "      <td>12</td>\n",
              "      <td>10</td>\n",
              "      <td>7</td>\n",
              "      <td>2018-01-05</td>\n",
              "      <td>116.0</td>\n",
              "      <td>0.0</td>\n",
              "      <td>3.0</td>\n",
              "      <td>6.9</td>\n",
              "      <td>bad</td>\n",
              "    </tr>\n",
              "  </tbody>\n",
              "</table>\n",
              "</div>\n",
              "      <button class=\"colab-df-convert\" onclick=\"convertToInteractive('df-ef5492c5-c237-450c-b90c-e3139d6bafc0')\"\n",
              "              title=\"Convert this dataframe to an interactive table.\"\n",
              "              style=\"display:none;\">\n",
              "        \n",
              "  <svg xmlns=\"http://www.w3.org/2000/svg\" height=\"24px\"viewBox=\"0 0 24 24\"\n",
              "       width=\"24px\">\n",
              "    <path d=\"M0 0h24v24H0V0z\" fill=\"none\"/>\n",
              "    <path d=\"M18.56 5.44l.94 2.06.94-2.06 2.06-.94-2.06-.94-.94-2.06-.94 2.06-2.06.94zm-11 1L8.5 8.5l.94-2.06 2.06-.94-2.06-.94L8.5 2.5l-.94 2.06-2.06.94zm10 10l.94 2.06.94-2.06 2.06-.94-2.06-.94-.94-2.06-.94 2.06-2.06.94z\"/><path d=\"M17.41 7.96l-1.37-1.37c-.4-.4-.92-.59-1.43-.59-.52 0-1.04.2-1.43.59L10.3 9.45l-7.72 7.72c-.78.78-.78 2.05 0 2.83L4 21.41c.39.39.9.59 1.41.59.51 0 1.02-.2 1.41-.59l7.78-7.78 2.81-2.81c.8-.78.8-2.07 0-2.86zM5.41 20L4 18.59l7.72-7.72 1.47 1.35L5.41 20z\"/>\n",
              "  </svg>\n",
              "      </button>\n",
              "      \n",
              "  <style>\n",
              "    .colab-df-container {\n",
              "      display:flex;\n",
              "      flex-wrap:wrap;\n",
              "      gap: 12px;\n",
              "    }\n",
              "\n",
              "    .colab-df-convert {\n",
              "      background-color: #E8F0FE;\n",
              "      border: none;\n",
              "      border-radius: 50%;\n",
              "      cursor: pointer;\n",
              "      display: none;\n",
              "      fill: #1967D2;\n",
              "      height: 32px;\n",
              "      padding: 0 0 0 0;\n",
              "      width: 32px;\n",
              "    }\n",
              "\n",
              "    .colab-df-convert:hover {\n",
              "      background-color: #E2EBFA;\n",
              "      box-shadow: 0px 1px 2px rgba(60, 64, 67, 0.3), 0px 1px 3px 1px rgba(60, 64, 67, 0.15);\n",
              "      fill: #174EA6;\n",
              "    }\n",
              "\n",
              "    [theme=dark] .colab-df-convert {\n",
              "      background-color: #3B4455;\n",
              "      fill: #D2E3FC;\n",
              "    }\n",
              "\n",
              "    [theme=dark] .colab-df-convert:hover {\n",
              "      background-color: #434B5C;\n",
              "      box-shadow: 0px 1px 3px 1px rgba(0, 0, 0, 0.15);\n",
              "      filter: drop-shadow(0px 1px 2px rgba(0, 0, 0, 0.3));\n",
              "      fill: #FFFFFF;\n",
              "    }\n",
              "  </style>\n",
              "\n",
              "      <script>\n",
              "        const buttonEl =\n",
              "          document.querySelector('#df-ef5492c5-c237-450c-b90c-e3139d6bafc0 button.colab-df-convert');\n",
              "        buttonEl.style.display =\n",
              "          google.colab.kernel.accessAllowed ? 'block' : 'none';\n",
              "\n",
              "        async function convertToInteractive(key) {\n",
              "          const element = document.querySelector('#df-ef5492c5-c237-450c-b90c-e3139d6bafc0');\n",
              "          const dataTable =\n",
              "            await google.colab.kernel.invokeFunction('convertToInteractive',\n",
              "                                                     [key], {});\n",
              "          if (!dataTable) return;\n",
              "\n",
              "          const docLinkHtml = 'Like what you see? Visit the ' +\n",
              "            '<a target=\"_blank\" href=https://colab.research.google.com/notebooks/data_table.ipynb>data table notebook</a>'\n",
              "            + ' to learn more about interactive tables.';\n",
              "          element.innerHTML = '';\n",
              "          dataTable['output_type'] = 'display_data';\n",
              "          await google.colab.output.renderOutput(dataTable, element);\n",
              "          const docLink = document.createElement('div');\n",
              "          docLink.innerHTML = docLinkHtml;\n",
              "          element.appendChild(docLink);\n",
              "        }\n",
              "      </script>\n",
              "    </div>\n",
              "  </div>\n",
              "  "
            ],
            "text/plain": [
              "        DATE  MAX_TEMPERATURE_C  MIN_TEMPERATURE_C  ...  UV_INDEX  SUNHOUR  OPINION\n",
              "0 2018-01-01                 12                  8  ...       3.0      5.1      bad\n",
              "1 2018-01-02                 13                  6  ...       3.0      3.3      bad\n",
              "2 2018-01-03                 15                 10  ...       3.0      3.3      bad\n",
              "3 2018-01-04                 14                 11  ...       3.0      3.3      bad\n",
              "4 2018-01-05                 12                  7  ...       3.0      6.9      bad\n",
              "\n",
              "[5 rows x 21 columns]"
            ]
          },
          "metadata": {},
          "execution_count": 36
        }
      ]
    },
    {
      "cell_type": "code",
      "metadata": {
        "id": "5kxjkycgid83"
      },
      "source": [
        "var_corr = ['MIN_TEMPERATURE_C','TEMPERATURE_MORNING_C','TEMPERATURE_NOON_C', 'TEMPERATURE_EVENING_C', 'HEATINDEX_MAX_C', 'DEWPOINT_MAX_C','WINDTEMP_MAX_C','SUNHOUR']\n",
        "\n",
        "X = df2018[var_corr]\n",
        "y = df2018['OPINION']\n",
        "\n",
        "X_train, X_test, y_train, y_test = train_test_split(X, y, random_state=42, test_size=0.25)"
      ],
      "execution_count": null,
      "outputs": []
    },
    {
      "cell_type": "markdown",
      "metadata": {
        "id": "W6TlnsGbjhFV"
      },
      "source": [
        "### to train 3 differents Machine Learning algorithms (KNN, logistic regression and decision tree)"
      ]
    },
    {
      "cell_type": "code",
      "metadata": {
        "colab": {
          "base_uri": "https://localhost:8080/"
        },
        "id": "H9DVaMj9lJim",
        "outputId": "096b9ea3-0bb9-42f2-f0dc-3baadac0c774"
      },
      "source": [
        "#method 1 - with KNN\n",
        "\n",
        "model = KNeighborsClassifier(n_neighbors=3)\n",
        "model_training = model.fit(X, y)\n",
        "\n",
        "print(f\"The accuracy score for training set: {round(model_training.score(X_train, y_train),3)}\")\n",
        "print(f\"The accuracy score  for test set: {round(model_training.score(X_test, y_test),3)}\")\n"
      ],
      "execution_count": null,
      "outputs": [
        {
          "output_type": "stream",
          "name": "stdout",
          "text": [
            "The accuracy score for training set: 0.843\n",
            "The accuracy score  for test set: 0.872\n"
          ]
        }
      ]
    },
    {
      "cell_type": "code",
      "metadata": {
        "id": "Se60cCL3ja8i",
        "outputId": "fbabd2ec-711b-4523-c250-96cd0efb7f80",
        "colab": {
          "base_uri": "https://localhost:8080/"
        }
      },
      "source": [
        "#method 2 - with LogisticRegression\n",
        "\n",
        "lr_model = LogisticRegression(max_iter=150).fit(X_train, y_train)\n",
        "\n",
        "print(f\"The accuracy score for training set: {round(lr_model.score(X_train, y_train),3)}\")\n",
        "print(f\"The accuracy score  for test set: {round(lr_model.score(X_test, y_test),3)}\")"
      ],
      "execution_count": null,
      "outputs": [
        {
          "output_type": "stream",
          "name": "stdout",
          "text": [
            "The accuracy score for training set: 0.741\n",
            "The accuracy score  for test set: 0.709\n"
          ]
        },
        {
          "output_type": "stream",
          "name": "stderr",
          "text": [
            "/usr/local/lib/python3.7/dist-packages/sklearn/linear_model/_logistic.py:818: ConvergenceWarning:\n",
            "\n",
            "lbfgs failed to converge (status=1):\n",
            "STOP: TOTAL NO. of ITERATIONS REACHED LIMIT.\n",
            "\n",
            "Increase the number of iterations (max_iter) or scale the data as shown in:\n",
            "    https://scikit-learn.org/stable/modules/preprocessing.html\n",
            "Please also refer to the documentation for alternative solver options:\n",
            "    https://scikit-learn.org/stable/modules/linear_model.html#logistic-regression\n",
            "\n"
          ]
        }
      ]
    },
    {
      "cell_type": "code",
      "metadata": {
        "id": "tNYw5OfKmaf3",
        "colab": {
          "base_uri": "https://localhost:8080/"
        },
        "outputId": "2fefebe1-14fa-48b7-c9c4-a45a79f9e805"
      },
      "source": [
        "# method 3 - Decision tree\n",
        "\n",
        "dtree = DecisionTreeClassifier(random_state=42, max_depth=5)\n",
        "dtree_fit = dtree.fit(X_train, y_train)\n",
        "\n",
        "print(f\"The score for training set: {round(dtree_fit.score(X_train, y_train),3)}\")\n",
        "print(f\"The score  for test set: {round(dtree_fit.score(X_test, y_test),3)}\")\n"
      ],
      "execution_count": null,
      "outputs": [
        {
          "output_type": "stream",
          "name": "stdout",
          "text": [
            "The score for training set: 0.867\n",
            "The score  for test set: 0.756\n"
          ]
        }
      ]
    },
    {
      "cell_type": "markdown",
      "source": [
        "Avec les 3 algorythmes de ML, le meilleur score est celui du *KNN*<br/>\n",
        "Les paramètres ont aussi été modifié (n_neighbords, max iter pour la regression logistique ou bien le random state et le max_depth pour le decision tree."
      ],
      "metadata": {
        "id": "Tnw2vIwFJ4Ej"
      }
    },
    {
      "cell_type": "code",
      "source": [
        "# Fill the missing values in the \"opinion\" columns whith your best model and explain what is the \"rules\" used by your model to predict the opinion.\n",
        "\n",
        "opinion_predict = model_training.predict(X_train)\n",
        "opinion_predict"
      ],
      "metadata": {
        "colab": {
          "base_uri": "https://localhost:8080/"
        },
        "id": "kORMYN10L708",
        "outputId": "c59dedcf-6d59-4b23-80d1-598a7e408e5f"
      },
      "execution_count": null,
      "outputs": [
        {
          "output_type": "execute_result",
          "data": {
            "text/plain": [
              "array(['very bad', 'not good not bad', 'not good not bad', 'good', 'bad',\n",
              "       'very bad', 'not good not bad', 'good', 'good', 'very good', 'bad',\n",
              "       'bad', 'very bad', 'very bad', 'bad', 'not good not bad',\n",
              "       'not good not bad', 'very bad', 'very bad', 'good', 'very good',\n",
              "       'good', 'bad', 'bad', 'very bad', 'not good not bad', 'good',\n",
              "       'bad', 'very bad', 'good', 'good', 'bad', 'very bad', 'bad', 'bad',\n",
              "       'very bad', 'very bad', 'good', 'very bad', 'very bad', 'good',\n",
              "       'very bad', 'good', 'very bad', 'good', 'very good', 'good',\n",
              "       'good', 'not good not bad', 'bad', 'good', 'not good not bad',\n",
              "       'bad', 'not good not bad', 'good', 'very bad', 'bad', 'very bad',\n",
              "       'not good not bad', 'not good not bad', 'bad', 'good', 'good',\n",
              "       'good', 'good', 'good', 'very bad', 'not good not bad', 'good',\n",
              "       'bad', 'bad', 'not good not bad', 'not good not bad', 'good',\n",
              "       'very good', 'good', 'good', 'very bad', 'not good not bad',\n",
              "       'not good not bad', 'very good', 'bad', 'good', 'good',\n",
              "       'not good not bad', 'bad', 'bad', 'not good not bad', 'very bad',\n",
              "       'good', 'good', 'good', 'bad', 'bad', 'bad', 'not good not bad',\n",
              "       'good', 'good', 'good', 'not good not bad', 'bad',\n",
              "       'not good not bad', 'very bad', 'bad', 'bad', 'very bad', 'good',\n",
              "       'good', 'very bad', 'good', 'good', 'bad', 'very bad', 'bad',\n",
              "       'not good not bad', 'not good not bad', 'very bad', 'good', 'bad',\n",
              "       'not good not bad', 'very bad', 'very bad', 'bad', 'very good',\n",
              "       'not good not bad', 'bad', 'good', 'good', 'very bad', 'bad',\n",
              "       'good', 'very good', 'not good not bad', 'not good not bad',\n",
              "       'very bad', 'bad', 'good', 'good', 'good', 'bad', 'very bad',\n",
              "       'not good not bad', 'bad', 'bad', 'bad', 'bad', 'not good not bad',\n",
              "       'bad', 'bad', 'good', 'good', 'very bad', 'good', 'good', 'good',\n",
              "       'very good', 'not good not bad', 'very bad', 'good', 'very bad',\n",
              "       'bad', 'bad', 'bad', 'very bad', 'very bad', 'very bad',\n",
              "       'very bad', 'very good', 'bad', 'bad', 'not good not bad', 'good',\n",
              "       'good', 'not good not bad', 'not good not bad', 'very bad', 'good',\n",
              "       'not good not bad', 'very bad', 'bad', 'very bad', 'bad',\n",
              "       'very bad', 'bad', 'good', 'good', 'not good not bad', 'good',\n",
              "       'not good not bad', 'good', 'not good not bad', 'good', 'bad',\n",
              "       'not good not bad', 'not good not bad', 'very good', 'very good',\n",
              "       'bad', 'good', 'very good', 'not good not bad', 'very good',\n",
              "       'very bad', 'very bad', 'very bad', 'not good not bad', 'good',\n",
              "       'very bad', 'not good not bad', 'not good not bad', 'very bad',\n",
              "       'not good not bad', 'good', 'very bad', 'bad', 'good', 'very good',\n",
              "       'very bad', 'good', 'bad', 'good', 'very bad', 'very bad',\n",
              "       'not good not bad', 'good', 'bad', 'bad', 'very good', 'very bad',\n",
              "       'bad', 'good', 'good', 'bad', 'bad', 'not good not bad', 'good',\n",
              "       'good', 'not good not bad', 'good', 'very bad', 'not good not bad',\n",
              "       'good', 'good', 'not good not bad', 'very bad', 'bad', 'good',\n",
              "       'good', 'very bad', 'bad', 'good', 'very bad', 'good',\n",
              "       'not good not bad', 'good'], dtype=object)"
            ]
          },
          "metadata": {},
          "execution_count": 59
        }
      ]
    },
    {
      "cell_type": "code",
      "source": [
        "df2018['opinion_predict'] = pd.DataFrame(opinion_predict)"
      ],
      "metadata": {
        "id": "VTsj3Qb3MjqB"
      },
      "execution_count": null,
      "outputs": []
    },
    {
      "cell_type": "code",
      "source": [
        "y_train.value_counts()"
      ],
      "metadata": {
        "colab": {
          "base_uri": "https://localhost:8080/"
        },
        "id": "s-u03l81Qb0g",
        "outputId": "1710c8cf-8db8-49f1-d5d9-2cd285c0ce86"
      },
      "execution_count": null,
      "outputs": [
        {
          "output_type": "execute_result",
          "data": {
            "text/plain": [
              "good                70\n",
              "bad                 62\n",
              "very bad            58\n",
              "not good not bad    49\n",
              "very good           16\n",
              "Name: OPINION, dtype: int64"
            ]
          },
          "metadata": {},
          "execution_count": 64
        }
      ]
    },
    {
      "cell_type": "code",
      "source": [
        "#confusion matrix\n",
        "\n",
        "cm = confusion_matrix(y_train, opinion_predict)\n",
        "cm"
      ],
      "metadata": {
        "colab": {
          "base_uri": "https://localhost:8080/"
        },
        "id": "VZwBJoCdNZZY",
        "outputId": "7ae43e7c-a7ad-4aa5-ced8-a9dc645268a0"
      },
      "execution_count": null,
      "outputs": [
        {
          "output_type": "execute_result",
          "data": {
            "text/plain": [
              "array([[52,  1,  8,  1,  0],\n",
              "       [ 1, 62,  4,  0,  3],\n",
              "       [ 3,  9, 36,  0,  1],\n",
              "       [ 2,  0,  2, 54,  0],\n",
              "       [ 0,  5,  0,  0, 11]])"
            ]
          },
          "metadata": {},
          "execution_count": 65
        }
      ]
    },
    {
      "cell_type": "code",
      "source": [
        "# Pour obtenir la version normalisée, nous divisons chaque élément de ligne par la somme de la ligne entière.\n",
        "# Étant donné que chaque ligne représente le nombre total de valeurs réelles pour chaque étiquette de classe, la matrice normalisée finale nous montrera le pourcentage,\n",
        "# c'est-à-dire. parmi toutes les vraies étiquettes pour une classe particulière, quelle était la prédiction en % de chaque classe faite par notre modèle pour cette vraie étiquette spécifique.\n",
        "\n",
        "cm_normalized = cm.astype('float') / cm.sum(axis=1)\n",
        "cm_normalized"
      ],
      "metadata": {
        "colab": {
          "base_uri": "https://localhost:8080/"
        },
        "id": "X1jF8u2pSDCO",
        "outputId": "7a49f0b4-8c07-46e3-886b-ad020966ea85"
      },
      "execution_count": null,
      "outputs": [
        {
          "output_type": "execute_result",
          "data": {
            "text/plain": [
              "array([[0.83870968, 0.01428571, 0.16326531, 0.01724138, 0.        ],\n",
              "       [0.01612903, 0.88571429, 0.08163265, 0.        , 0.1875    ],\n",
              "       [0.0483871 , 0.12857143, 0.73469388, 0.        , 0.0625    ],\n",
              "       [0.03225806, 0.        , 0.04081633, 0.93103448, 0.        ],\n",
              "       [0.        , 0.07142857, 0.        , 0.        , 0.6875    ]])"
            ]
          },
          "metadata": {},
          "execution_count": 68
        }
      ]
    },
    {
      "cell_type": "code",
      "source": [
        "ax = plt.figure(figsize=(10,8))\n",
        "ax = sns.heatmap(cm_normalized, annot=True, cmap=sns.cubehelix_palette(as_cmap=True), fmt='.2%')\n",
        "\n",
        "ax.set_title('Confusion Matrix\\n\\n')\n",
        "ax.set_xlabel('\\nPredicted Values')\n",
        "ax.set_ylabel('Actual Values')\n",
        "\n",
        "plt.show()"
      ],
      "metadata": {
        "colab": {
          "base_uri": "https://localhost:8080/",
          "height": 563
        },
        "id": "s7KvK2LCOKGT",
        "outputId": "6e1704d4-dda3-403b-fbec-0b7688107c9f"
      },
      "execution_count": null,
      "outputs": [
        {
          "output_type": "display_data",
          "data": {
            "image/png": "[encoded data removed]",
            "text/plain": [
              "<Figure size 720x576 with 2 Axes>"
            ]
          },
          "metadata": {}
        }
      ]
    },
    {
      "cell_type": "code",
      "source": [
        "df2018.head()"
      ],
      "metadata": {
        "colab": {
          "base_uri": "https://localhost:8080/",
          "height": 356
        },
        "id": "vON3bKf1M4DW",
        "outputId": "55a761c3-f6a7-4d91-b985-ee7f45637cd5"
      },
      "execution_count": null,
      "outputs": [
        {
          "output_type": "execute_result",
          "data": {
            "text/html": [
              "\n",
              "  <div id=\"df-b569ee3e-1fbe-4862-9339-51943f320df0\">\n",
              "    <div class=\"colab-df-container\">\n",
              "      <div>\n",
              "<style scoped>\n",
              "    .dataframe tbody tr th:only-of-type {\n",
              "        vertical-align: middle;\n",
              "    }\n",
              "\n",
              "    .dataframe tbody tr th {\n",
              "        vertical-align: top;\n",
              "    }\n",
              "\n",
              "    .dataframe thead th {\n",
              "        text-align: right;\n",
              "    }\n",
              "</style>\n",
              "<table border=\"1\" class=\"dataframe\">\n",
              "  <thead>\n",
              "    <tr style=\"text-align: right;\">\n",
              "      <th></th>\n",
              "      <th>DATE</th>\n",
              "      <th>MAX_TEMPERATURE_C</th>\n",
              "      <th>MIN_TEMPERATURE_C</th>\n",
              "      <th>WINDSPEED_MAX_KMH</th>\n",
              "      <th>TEMPERATURE_MORNING_C</th>\n",
              "      <th>TEMPERATURE_NOON_C</th>\n",
              "      <th>TEMPERATURE_EVENING_C</th>\n",
              "      <th>PRECIP_TOTAL_DAY_MM</th>\n",
              "      <th>HUMIDITY_MAX_PERCENT</th>\n",
              "      <th>VISIBILITY_AVG_KM</th>\n",
              "      <th>PRESSURE_MAX_MB</th>\n",
              "      <th>CLOUDCOVER_AVG_PERCENT</th>\n",
              "      <th>HEATINDEX_MAX_C</th>\n",
              "      <th>DEWPOINT_MAX_C</th>\n",
              "      <th>WINDTEMP_MAX_C</th>\n",
              "      <th>date</th>\n",
              "      <th>WEATHER_CODE_EVENING</th>\n",
              "      <th>TOTAL_SNOW_MM</th>\n",
              "      <th>UV_INDEX</th>\n",
              "      <th>SUNHOUR</th>\n",
              "      <th>OPINION</th>\n",
              "      <th>opinion_predict</th>\n",
              "    </tr>\n",
              "  </thead>\n",
              "  <tbody>\n",
              "    <tr>\n",
              "      <th>0</th>\n",
              "      <td>2018-01-01</td>\n",
              "      <td>12</td>\n",
              "      <td>8</td>\n",
              "      <td>61</td>\n",
              "      <td>9</td>\n",
              "      <td>11</td>\n",
              "      <td>8</td>\n",
              "      <td>8.9</td>\n",
              "      <td>79</td>\n",
              "      <td>9.500</td>\n",
              "      <td>1018</td>\n",
              "      <td>41.750</td>\n",
              "      <td>12</td>\n",
              "      <td>8</td>\n",
              "      <td>7</td>\n",
              "      <td>2018-01-01</td>\n",
              "      <td>113.0</td>\n",
              "      <td>0.0</td>\n",
              "      <td>3.0</td>\n",
              "      <td>5.1</td>\n",
              "      <td>bad</td>\n",
              "      <td>very bad</td>\n",
              "    </tr>\n",
              "    <tr>\n",
              "      <th>1</th>\n",
              "      <td>2018-01-02</td>\n",
              "      <td>13</td>\n",
              "      <td>6</td>\n",
              "      <td>26</td>\n",
              "      <td>8</td>\n",
              "      <td>12</td>\n",
              "      <td>13</td>\n",
              "      <td>0.6</td>\n",
              "      <td>96</td>\n",
              "      <td>9.000</td>\n",
              "      <td>1020</td>\n",
              "      <td>87.875</td>\n",
              "      <td>13</td>\n",
              "      <td>12</td>\n",
              "      <td>6</td>\n",
              "      <td>2018-01-02</td>\n",
              "      <td>122.0</td>\n",
              "      <td>0.0</td>\n",
              "      <td>3.0</td>\n",
              "      <td>3.3</td>\n",
              "      <td>bad</td>\n",
              "      <td>bad</td>\n",
              "    </tr>\n",
              "    <tr>\n",
              "      <th>2</th>\n",
              "      <td>2018-01-03</td>\n",
              "      <td>15</td>\n",
              "      <td>10</td>\n",
              "      <td>40</td>\n",
              "      <td>11</td>\n",
              "      <td>12</td>\n",
              "      <td>10</td>\n",
              "      <td>5.5</td>\n",
              "      <td>82</td>\n",
              "      <td>8.500</td>\n",
              "      <td>1017</td>\n",
              "      <td>91.500</td>\n",
              "      <td>15</td>\n",
              "      <td>13</td>\n",
              "      <td>7</td>\n",
              "      <td>2018-01-03</td>\n",
              "      <td>122.0</td>\n",
              "      <td>0.0</td>\n",
              "      <td>3.0</td>\n",
              "      <td>3.3</td>\n",
              "      <td>bad</td>\n",
              "      <td>not good not bad</td>\n",
              "    </tr>\n",
              "    <tr>\n",
              "      <th>3</th>\n",
              "      <td>2018-01-04</td>\n",
              "      <td>14</td>\n",
              "      <td>11</td>\n",
              "      <td>45</td>\n",
              "      <td>14</td>\n",
              "      <td>14</td>\n",
              "      <td>11</td>\n",
              "      <td>0.0</td>\n",
              "      <td>89</td>\n",
              "      <td>10.000</td>\n",
              "      <td>1011</td>\n",
              "      <td>90.125</td>\n",
              "      <td>14</td>\n",
              "      <td>12</td>\n",
              "      <td>10</td>\n",
              "      <td>2018-01-04</td>\n",
              "      <td>116.0</td>\n",
              "      <td>0.0</td>\n",
              "      <td>3.0</td>\n",
              "      <td>3.3</td>\n",
              "      <td>bad</td>\n",
              "      <td>very bad</td>\n",
              "    </tr>\n",
              "    <tr>\n",
              "      <th>4</th>\n",
              "      <td>2018-01-05</td>\n",
              "      <td>12</td>\n",
              "      <td>7</td>\n",
              "      <td>21</td>\n",
              "      <td>10</td>\n",
              "      <td>11</td>\n",
              "      <td>8</td>\n",
              "      <td>1.5</td>\n",
              "      <td>85</td>\n",
              "      <td>9.875</td>\n",
              "      <td>1005</td>\n",
              "      <td>62.375</td>\n",
              "      <td>12</td>\n",
              "      <td>10</td>\n",
              "      <td>7</td>\n",
              "      <td>2018-01-05</td>\n",
              "      <td>116.0</td>\n",
              "      <td>0.0</td>\n",
              "      <td>3.0</td>\n",
              "      <td>6.9</td>\n",
              "      <td>bad</td>\n",
              "      <td>bad</td>\n",
              "    </tr>\n",
              "  </tbody>\n",
              "</table>\n",
              "</div>\n",
              "      <button class=\"colab-df-convert\" onclick=\"convertToInteractive('df-b569ee3e-1fbe-4862-9339-51943f320df0')\"\n",
              "              title=\"Convert this dataframe to an interactive table.\"\n",
              "              style=\"display:none;\">\n",
              "        \n",
              "  <svg xmlns=\"http://www.w3.org/2000/svg\" height=\"24px\"viewBox=\"0 0 24 24\"\n",
              "       width=\"24px\">\n",
              "    <path d=\"M0 0h24v24H0V0z\" fill=\"none\"/>\n",
              "    <path d=\"M18.56 5.44l.94 2.06.94-2.06 2.06-.94-2.06-.94-.94-2.06-.94 2.06-2.06.94zm-11 1L8.5 8.5l.94-2.06 2.06-.94-2.06-.94L8.5 2.5l-.94 2.06-2.06.94zm10 10l.94 2.06.94-2.06 2.06-.94-2.06-.94-.94-2.06-.94 2.06-2.06.94z\"/><path d=\"M17.41 7.96l-1.37-1.37c-.4-.4-.92-.59-1.43-.59-.52 0-1.04.2-1.43.59L10.3 9.45l-7.72 7.72c-.78.78-.78 2.05 0 2.83L4 21.41c.39.39.9.59 1.41.59.51 0 1.02-.2 1.41-.59l7.78-7.78 2.81-2.81c.8-.78.8-2.07 0-2.86zM5.41 20L4 18.59l7.72-7.72 1.47 1.35L5.41 20z\"/>\n",
              "  </svg>\n",
              "      </button>\n",
              "      \n",
              "  <style>\n",
              "    .colab-df-container {\n",
              "      display:flex;\n",
              "      flex-wrap:wrap;\n",
              "      gap: 12px;\n",
              "    }\n",
              "\n",
              "    .colab-df-convert {\n",
              "      background-color: #E8F0FE;\n",
              "      border: none;\n",
              "      border-radius: 50%;\n",
              "      cursor: pointer;\n",
              "      display: none;\n",
              "      fill: #1967D2;\n",
              "      height: 32px;\n",
              "      padding: 0 0 0 0;\n",
              "      width: 32px;\n",
              "    }\n",
              "\n",
              "    .colab-df-convert:hover {\n",
              "      background-color: #E2EBFA;\n",
              "      box-shadow: 0px 1px 2px rgba(60, 64, 67, 0.3), 0px 1px 3px 1px rgba(60, 64, 67, 0.15);\n",
              "      fill: #174EA6;\n",
              "    }\n",
              "\n",
              "    [theme=dark] .colab-df-convert {\n",
              "      background-color: #3B4455;\n",
              "      fill: #D2E3FC;\n",
              "    }\n",
              "\n",
              "    [theme=dark] .colab-df-convert:hover {\n",
              "      background-color: #434B5C;\n",
              "      box-shadow: 0px 1px 3px 1px rgba(0, 0, 0, 0.15);\n",
              "      filter: drop-shadow(0px 1px 2px rgba(0, 0, 0, 0.3));\n",
              "      fill: #FFFFFF;\n",
              "    }\n",
              "  </style>\n",
              "\n",
              "      <script>\n",
              "        const buttonEl =\n",
              "          document.querySelector('#df-b569ee3e-1fbe-4862-9339-51943f320df0 button.colab-df-convert');\n",
              "        buttonEl.style.display =\n",
              "          google.colab.kernel.accessAllowed ? 'block' : 'none';\n",
              "\n",
              "        async function convertToInteractive(key) {\n",
              "          const element = document.querySelector('#df-b569ee3e-1fbe-4862-9339-51943f320df0');\n",
              "          const dataTable =\n",
              "            await google.colab.kernel.invokeFunction('convertToInteractive',\n",
              "                                                     [key], {});\n",
              "          if (!dataTable) return;\n",
              "\n",
              "          const docLinkHtml = 'Like what you see? Visit the ' +\n",
              "            '<a target=\"_blank\" href=https://colab.research.google.com/notebooks/data_table.ipynb>data table notebook</a>'\n",
              "            + ' to learn more about interactive tables.';\n",
              "          element.innerHTML = '';\n",
              "          dataTable['output_type'] = 'display_data';\n",
              "          await google.colab.output.renderOutput(dataTable, element);\n",
              "          const docLink = document.createElement('div');\n",
              "          docLink.innerHTML = docLinkHtml;\n",
              "          element.appendChild(docLink);\n",
              "        }\n",
              "      </script>\n",
              "    </div>\n",
              "  </div>\n",
              "  "
            ],
            "text/plain": [
              "        DATE  MAX_TEMPERATURE_C  ...  OPINION   opinion_predict\n",
              "0 2018-01-01                 12  ...      bad          very bad\n",
              "1 2018-01-02                 13  ...      bad               bad\n",
              "2 2018-01-03                 15  ...      bad  not good not bad\n",
              "3 2018-01-04                 14  ...      bad          very bad\n",
              "4 2018-01-05                 12  ...      bad               bad\n",
              "\n",
              "[5 rows x 22 columns]"
            ]
          },
          "metadata": {},
          "execution_count": 41
        }
      ]
    },
    {
      "cell_type": "markdown",
      "source": [
        "L'algorithme k-Nearest Neighbours (abrégé en k-NN ou la méthode KNN) est un type d'algorithme de \"machine learning supervisé\".<br/>\n",
        "k fait référence au nombre de voisins les plus proches des données que nous essayons de classer, avec les variables des autres lignes en comparant avec celles donc la données est manquante, il trouvera les plus proches voisins."
      ],
      "metadata": {
        "id": "EIXb61ILUetT"
      }
    }
  ]
}