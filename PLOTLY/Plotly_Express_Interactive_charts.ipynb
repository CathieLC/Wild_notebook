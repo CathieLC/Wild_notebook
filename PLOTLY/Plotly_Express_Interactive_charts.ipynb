{
  "nbformat": 4,
  "nbformat_minor": 0,
  "metadata": {
    "colab": {
      "name": "Plotly Express: Interactive charts.ipynb",
      "provenance": [],
      "collapsed_sections": [],
      "include_colab_link": true
    },
    "kernelspec": {
      "name": "python3",
      "display_name": "Python 3"
    }
  },
  "cells": [
    {
      "cell_type": "markdown",
      "metadata": {
        "id": "view-in-github",
        "colab_type": "text"
      },
      "source": [
        "<a href=\"https://colab.research.google.com/github/CathieLC/Wild_notebook_2021-2022/blob/main/Plotly_Express_Interactive_charts.ipynb\" target=\"_parent\"><img src=\"https://colab.research.google.com/assets/colab-badge.svg\" alt=\"Open In Colab\"/></a>"
      ]
    },
    {
      "cell_type": "markdown",
      "metadata": {
        "id": "qXQwzrfmw_Uf"
      },
      "source": [
        "# Execute the code below"
      ]
    },
    {
      "cell_type": "code",
      "metadata": {
        "id": "gRgAnNobzf_H"
      },
      "source": [
        "import plotly.express as px\n",
        "import pandas as pd\n",
        "import numpy as np\n",
        "link = \"https://raw.githubusercontent.com/murpi/wilddata/master/quests/weather2019.csv\"\n",
        "df_weather = pd.read_csv(link)"
      ],
      "execution_count": null,
      "outputs": []
    },
    {
      "cell_type": "markdown",
      "metadata": {
        "id": "YT8V5rYmxFPp"
      },
      "source": [
        "## You have now a DataFrame with lots of weather data"
      ]
    },
    {
      "cell_type": "code",
      "metadata": {
        "id": "KoUPLmHxz1us",
        "colab": {
          "base_uri": "https://localhost:8080/",
          "height": 317
        },
        "outputId": "8857f2d0-597a-4e56-80de-e6dd7d91566b"
      },
      "source": [
        "df_weather.describe()"
      ],
      "execution_count": null,
      "outputs": [
        {
          "output_type": "execute_result",
          "data": {
            "text/html": [
              "<div>\n",
              "<style scoped>\n",
              "    .dataframe tbody tr th:only-of-type {\n",
              "        vertical-align: middle;\n",
              "    }\n",
              "\n",
              "    .dataframe tbody tr th {\n",
              "        vertical-align: top;\n",
              "    }\n",
              "\n",
              "    .dataframe thead th {\n",
              "        text-align: right;\n",
              "    }\n",
              "</style>\n",
              "<table border=\"1\" class=\"dataframe\">\n",
              "  <thead>\n",
              "    <tr style=\"text-align: right;\">\n",
              "      <th></th>\n",
              "      <th>MAX_TEMPERATURE_C</th>\n",
              "      <th>MIN_TEMPERATURE_C</th>\n",
              "      <th>WINDSPEED_MAX_KMH</th>\n",
              "      <th>TEMPERATURE_MORNING_C</th>\n",
              "      <th>TEMPERATURE_NOON_C</th>\n",
              "      <th>TEMPERATURE_EVENING_C</th>\n",
              "      <th>PRECIP_TOTAL_DAY_MM</th>\n",
              "      <th>HUMIDITY_MAX_PERCENT</th>\n",
              "      <th>VISIBILITY_AVG_KM</th>\n",
              "      <th>PRESSURE_MAX_MB</th>\n",
              "      <th>CLOUDCOVER_AVG_PERCENT</th>\n",
              "      <th>HEATINDEX_MAX_C</th>\n",
              "      <th>DEWPOINT_MAX_C</th>\n",
              "      <th>WINDTEMP_MAX_C</th>\n",
              "      <th>WEATHER_CODE_MORNING</th>\n",
              "      <th>WEATHER_CODE_NOON</th>\n",
              "      <th>WEATHER_CODE_EVENING</th>\n",
              "      <th>TOTAL_SNOW_MM</th>\n",
              "      <th>UV_INDEX</th>\n",
              "      <th>SUNHOUR</th>\n",
              "      <th>MONTH</th>\n",
              "      <th>DAY</th>\n",
              "    </tr>\n",
              "  </thead>\n",
              "  <tbody>\n",
              "    <tr>\n",
              "      <th>count</th>\n",
              "      <td>365.000000</td>\n",
              "      <td>365.000000</td>\n",
              "      <td>365.000000</td>\n",
              "      <td>365.000000</td>\n",
              "      <td>365.000000</td>\n",
              "      <td>365.000000</td>\n",
              "      <td>365.000000</td>\n",
              "      <td>365.000000</td>\n",
              "      <td>365.000000</td>\n",
              "      <td>365.000000</td>\n",
              "      <td>365.000000</td>\n",
              "      <td>365.000000</td>\n",
              "      <td>365.000000</td>\n",
              "      <td>365.000000</td>\n",
              "      <td>365.000000</td>\n",
              "      <td>365.000000</td>\n",
              "      <td>365.000000</td>\n",
              "      <td>365.0</td>\n",
              "      <td>365.000000</td>\n",
              "      <td>365.000000</td>\n",
              "      <td>365.000000</td>\n",
              "      <td>365.000000</td>\n",
              "    </tr>\n",
              "    <tr>\n",
              "      <th>mean</th>\n",
              "      <td>16.810959</td>\n",
              "      <td>9.095890</td>\n",
              "      <td>19.624658</td>\n",
              "      <td>10.106849</td>\n",
              "      <td>15.487671</td>\n",
              "      <td>14.958904</td>\n",
              "      <td>3.015890</td>\n",
              "      <td>80.095890</td>\n",
              "      <td>9.428767</td>\n",
              "      <td>1019.038356</td>\n",
              "      <td>50.130137</td>\n",
              "      <td>17.142466</td>\n",
              "      <td>10.945205</td>\n",
              "      <td>10.989041</td>\n",
              "      <td>168.512329</td>\n",
              "      <td>164.419178</td>\n",
              "      <td>181.638356</td>\n",
              "      <td>0.0</td>\n",
              "      <td>1.380822</td>\n",
              "      <td>9.315890</td>\n",
              "      <td>6.526027</td>\n",
              "      <td>15.720548</td>\n",
              "    </tr>\n",
              "    <tr>\n",
              "      <th>std</th>\n",
              "      <td>6.712698</td>\n",
              "      <td>4.814026</td>\n",
              "      <td>8.151987</td>\n",
              "      <td>5.128254</td>\n",
              "      <td>6.565644</td>\n",
              "      <td>6.789290</td>\n",
              "      <td>5.697129</td>\n",
              "      <td>10.413649</td>\n",
              "      <td>2.221039</td>\n",
              "      <td>9.114272</td>\n",
              "      <td>27.397286</td>\n",
              "      <td>7.114563</td>\n",
              "      <td>4.190159</td>\n",
              "      <td>6.980341</td>\n",
              "      <td>77.739513</td>\n",
              "      <td>78.205120</td>\n",
              "      <td>86.458436</td>\n",
              "      <td>0.0</td>\n",
              "      <td>1.279665</td>\n",
              "      <td>3.608357</td>\n",
              "      <td>3.452584</td>\n",
              "      <td>8.808321</td>\n",
              "    </tr>\n",
              "    <tr>\n",
              "      <th>min</th>\n",
              "      <td>5.000000</td>\n",
              "      <td>-1.000000</td>\n",
              "      <td>3.000000</td>\n",
              "      <td>-1.000000</td>\n",
              "      <td>0.000000</td>\n",
              "      <td>0.000000</td>\n",
              "      <td>0.000000</td>\n",
              "      <td>41.000000</td>\n",
              "      <td>5.000000</td>\n",
              "      <td>987.000000</td>\n",
              "      <td>0.000000</td>\n",
              "      <td>5.000000</td>\n",
              "      <td>1.000000</td>\n",
              "      <td>-4.000000</td>\n",
              "      <td>113.000000</td>\n",
              "      <td>113.000000</td>\n",
              "      <td>113.000000</td>\n",
              "      <td>0.0</td>\n",
              "      <td>1.000000</td>\n",
              "      <td>3.300000</td>\n",
              "      <td>1.000000</td>\n",
              "      <td>1.000000</td>\n",
              "    </tr>\n",
              "    <tr>\n",
              "      <th>25%</th>\n",
              "      <td>11.000000</td>\n",
              "      <td>5.000000</td>\n",
              "      <td>14.000000</td>\n",
              "      <td>6.000000</td>\n",
              "      <td>11.000000</td>\n",
              "      <td>10.000000</td>\n",
              "      <td>0.000000</td>\n",
              "      <td>75.000000</td>\n",
              "      <td>8.250000</td>\n",
              "      <td>1014.000000</td>\n",
              "      <td>27.375000</td>\n",
              "      <td>12.000000</td>\n",
              "      <td>8.000000</td>\n",
              "      <td>5.000000</td>\n",
              "      <td>116.000000</td>\n",
              "      <td>116.000000</td>\n",
              "      <td>116.000000</td>\n",
              "      <td>0.0</td>\n",
              "      <td>1.000000</td>\n",
              "      <td>6.500000</td>\n",
              "      <td>4.000000</td>\n",
              "      <td>8.000000</td>\n",
              "    </tr>\n",
              "    <tr>\n",
              "      <th>50%</th>\n",
              "      <td>16.000000</td>\n",
              "      <td>9.000000</td>\n",
              "      <td>18.000000</td>\n",
              "      <td>10.000000</td>\n",
              "      <td>15.000000</td>\n",
              "      <td>14.000000</td>\n",
              "      <td>0.700000</td>\n",
              "      <td>82.000000</td>\n",
              "      <td>9.500000</td>\n",
              "      <td>1020.000000</td>\n",
              "      <td>54.125000</td>\n",
              "      <td>16.000000</td>\n",
              "      <td>11.000000</td>\n",
              "      <td>10.000000</td>\n",
              "      <td>122.000000</td>\n",
              "      <td>119.000000</td>\n",
              "      <td>122.000000</td>\n",
              "      <td>0.0</td>\n",
              "      <td>1.000000</td>\n",
              "      <td>9.300000</td>\n",
              "      <td>7.000000</td>\n",
              "      <td>16.000000</td>\n",
              "    </tr>\n",
              "    <tr>\n",
              "      <th>75%</th>\n",
              "      <td>21.000000</td>\n",
              "      <td>13.000000</td>\n",
              "      <td>25.000000</td>\n",
              "      <td>14.000000</td>\n",
              "      <td>20.000000</td>\n",
              "      <td>19.000000</td>\n",
              "      <td>3.800000</td>\n",
              "      <td>88.000000</td>\n",
              "      <td>10.000000</td>\n",
              "      <td>1024.000000</td>\n",
              "      <td>71.750000</td>\n",
              "      <td>23.000000</td>\n",
              "      <td>14.000000</td>\n",
              "      <td>17.000000</td>\n",
              "      <td>176.000000</td>\n",
              "      <td>176.000000</td>\n",
              "      <td>176.000000</td>\n",
              "      <td>0.0</td>\n",
              "      <td>1.000000</td>\n",
              "      <td>11.600000</td>\n",
              "      <td>10.000000</td>\n",
              "      <td>23.000000</td>\n",
              "    </tr>\n",
              "    <tr>\n",
              "      <th>max</th>\n",
              "      <td>39.000000</td>\n",
              "      <td>25.000000</td>\n",
              "      <td>46.000000</td>\n",
              "      <td>25.000000</td>\n",
              "      <td>36.000000</td>\n",
              "      <td>37.000000</td>\n",
              "      <td>47.600000</td>\n",
              "      <td>98.000000</td>\n",
              "      <td>20.000000</td>\n",
              "      <td>1040.000000</td>\n",
              "      <td>99.875000</td>\n",
              "      <td>41.000000</td>\n",
              "      <td>25.000000</td>\n",
              "      <td>29.000000</td>\n",
              "      <td>386.000000</td>\n",
              "      <td>353.000000</td>\n",
              "      <td>389.000000</td>\n",
              "      <td>0.0</td>\n",
              "      <td>7.000000</td>\n",
              "      <td>16.000000</td>\n",
              "      <td>12.000000</td>\n",
              "      <td>31.000000</td>\n",
              "    </tr>\n",
              "  </tbody>\n",
              "</table>\n",
              "</div>"
            ],
            "text/plain": [
              "       MAX_TEMPERATURE_C  MIN_TEMPERATURE_C  ...       MONTH         DAY\n",
              "count         365.000000         365.000000  ...  365.000000  365.000000\n",
              "mean           16.810959           9.095890  ...    6.526027   15.720548\n",
              "std             6.712698           4.814026  ...    3.452584    8.808321\n",
              "min             5.000000          -1.000000  ...    1.000000    1.000000\n",
              "25%            11.000000           5.000000  ...    4.000000    8.000000\n",
              "50%            16.000000           9.000000  ...    7.000000   16.000000\n",
              "75%            21.000000          13.000000  ...   10.000000   23.000000\n",
              "max            39.000000          25.000000  ...   12.000000   31.000000\n",
              "\n",
              "[8 rows x 22 columns]"
            ]
          },
          "metadata": {},
          "execution_count": 2
        }
      ]
    },
    {
      "cell_type": "markdown",
      "metadata": {
        "id": "LDcCOwCSxQyZ"
      },
      "source": [
        "# Now, complete the following tasks :\n",
        "# Let's go for the show : interactive charts !"
      ]
    },
    {
      "cell_type": "markdown",
      "metadata": {
        "id": "40A8tOTo2UDb"
      },
      "source": [
        "## Scatterplot - Add color, title and legend\n",
        "Need some help ? Go [there for colors](https://plotly.com/python/discrete-color/#directly-mapping-colors-to-data-values) or[ there for labels](https://plotly.com/python/text-and-annotations/)\n",
        "\n",
        "Maybe [this example](https://plotly.com/python/line-and-scatter/#set-size-and-color-with-column-names) is a good one. "
      ]
    },
    {
      "cell_type": "code",
      "metadata": {
        "id": "Gnwa5lTXz4O2",
        "colab": {
          "base_uri": "https://localhost:8080/",
          "height": 542
        },
        "outputId": "95722cd7-122f-40da-a306-bd873f7f0e66"
      },
      "source": [
        "# Let's draw a simple scatterplot. You know scatterplot, you did a lot with Matplotlib and Seaborn.\n",
        "# Yes, but here, it's interactive scatterplot. \n",
        "# Try to draw a rectangle to zoom on the chart, move your mouse over the chart to display values, it's pretty impressive !\n",
        "\n",
        "fig = px.scatter(data_frame = df_weather, x= \"DATE\", y=\"MAX_TEMPERATURE_C\")\n",
        "\n",
        "fig.show() # This time, it's no more plt.show(), we're well on Plotly\n",
        "\n",
        "# Now, you have to add different colors by Opinion, add a main center title, axis title, \n",
        "# and change the color with readable values (green when the opinions are pretty good, et red otherwise)\n",
        "\n",
        "\n"
      ],
      "execution_count": null,
      "outputs": [
        {
          "output_type": "display_data",
          "data": {
            "text/html": [
              "<html>\n",
              "<head><meta charset=\"utf-8\" /></head>\n",
              "<body>\n",
              "    <div>\n",
              "            <script src=\"https://cdnjs.cloudflare.com/ajax/libs/mathjax/2.7.5/MathJax.js?config=TeX-AMS-MML_SVG\"></script><script type=\"text/javascript\">if (window.MathJax) {MathJax.Hub.Config({SVG: {font: \"STIX-Web\"}});}</script>\n",
              "                <script type=\"text/javascript\">window.PlotlyConfig = {MathJaxConfig: 'local'};</script>\n",
              "        <script src=\"https://cdn.plot.ly/plotly-latest.min.js\"></script>    \n",
              "            <div id=\"b648e9c2-11c1-4626-9570-aeeb20e5d4ad\" class=\"plotly-graph-div\" style=\"height:525px; width:100%;\"></div>\n",
              "            <script type=\"text/javascript\">\n",
              "                \n",
              "                    window.PLOTLYENV=window.PLOTLYENV || {};\n",
              "                    \n",
              "                if (document.getElementById(\"b648e9c2-11c1-4626-9570-aeeb20e5d4ad\")) {\n",
              "                    Plotly.newPlot(\n",
              "                        'b648e9c2-11c1-4626-9570-aeeb20e5d4ad',\n",
              "                        [{\"hoverlabel\": {\"namelength\": 0}, \"hovertemplate\": \"DATE=%{x}<br>MAX_TEMPERATURE_C=%{y}\", \"legendgroup\": \"\", \"marker\": {\"color\": \"#636efa\", \"symbol\": \"circle\"}, \"mode\": \"markers\", \"name\": \"\", \"showlegend\": false, \"type\": \"scatter\", \"x\": [\"2019-01-01\", \"2019-01-02\", \"2019-01-03\", \"2019-01-04\", \"2019-01-05\", \"2019-01-06\", \"2019-01-07\", \"2019-01-08\", \"2019-01-09\", \"2019-01-10\", \"2019-01-11\", \"2019-01-12\", \"2019-01-13\", \"2019-01-14\", \"2019-01-15\", \"2019-01-16\", \"2019-01-17\", \"2019-01-18\", \"2019-01-19\", \"2019-01-20\", \"2019-01-21\", \"2019-01-22\", \"2019-01-23\", \"2019-01-24\", \"2019-01-25\", \"2019-01-26\", \"2019-01-27\", \"2019-01-28\", \"2019-01-29\", \"2019-01-30\", \"2019-01-31\", \"2019-02-01\", \"2019-02-02\", \"2019-02-03\", \"2019-02-04\", \"2019-02-05\", \"2019-02-06\", \"2019-02-07\", \"2019-02-08\", \"2019-02-09\", \"2019-02-10\", \"2019-02-11\", \"2019-02-12\", \"2019-02-13\", \"2019-02-14\", \"2019-02-15\", \"2019-02-16\", \"2019-02-17\", \"2019-02-18\", \"2019-02-19\", \"2019-02-20\", \"2019-02-21\", \"2019-02-22\", \"2019-02-23\", \"2019-02-24\", \"2019-02-25\", \"2019-02-26\", \"2019-02-27\", \"2019-02-28\", \"2019-03-01\", \"2019-03-02\", \"2019-03-03\", \"2019-03-04\", \"2019-03-05\", \"2019-03-06\", \"2019-03-07\", \"2019-03-08\", \"2019-03-09\", \"2019-03-10\", \"2019-03-11\", \"2019-03-12\", \"2019-03-13\", \"2019-03-14\", \"2019-03-15\", \"2019-03-16\", \"2019-03-17\", \"2019-03-18\", \"2019-03-19\", \"2019-03-20\", \"2019-03-21\", \"2019-03-22\", \"2019-03-23\", \"2019-03-24\", \"2019-03-25\", \"2019-03-26\", \"2019-03-27\", \"2019-03-28\", \"2019-03-29\", \"2019-03-30\", \"2019-03-31\", \"2019-04-01\", \"2019-04-02\", \"2019-04-03\", \"2019-04-04\", \"2019-04-05\", \"2019-04-06\", \"2019-04-07\", \"2019-04-08\", \"2019-04-09\", \"2019-04-10\", \"2019-04-11\", \"2019-04-12\", \"2019-04-13\", \"2019-04-14\", \"2019-04-15\", \"2019-04-16\", \"2019-04-17\", \"2019-04-18\", \"2019-04-19\", \"2019-04-20\", \"2019-04-21\", \"2019-04-22\", \"2019-04-23\", \"2019-04-24\", \"2019-04-25\", \"2019-04-26\", \"2019-04-27\", \"2019-04-28\", \"2019-04-29\", \"2019-04-30\", \"2019-05-01\", \"2019-05-02\", \"2019-05-03\", \"2019-05-04\", \"2019-05-05\", \"2019-05-06\", \"2019-05-07\", \"2019-05-08\", \"2019-05-09\", \"2019-05-10\", \"2019-05-11\", \"2019-05-12\", \"2019-05-13\", \"2019-05-14\", \"2019-05-15\", \"2019-05-16\", \"2019-05-17\", \"2019-05-18\", \"2019-05-19\", \"2019-05-20\", \"2019-05-21\", \"2019-05-22\", \"2019-05-23\", \"2019-05-24\", \"2019-05-25\", \"2019-05-26\", \"2019-05-27\", \"2019-05-28\", \"2019-05-29\", \"2019-05-30\", \"2019-05-31\", \"2019-06-01\", \"2019-06-02\", \"2019-06-03\", \"2019-06-04\", \"2019-06-05\", \"2019-06-06\", \"2019-06-07\", \"2019-06-08\", \"2019-06-09\", \"2019-06-10\", \"2019-06-11\", \"2019-06-12\", \"2019-06-13\", \"2019-06-14\", \"2019-06-15\", \"2019-06-16\", \"2019-06-17\", \"2019-06-18\", \"2019-06-19\", \"2019-06-20\", \"2019-06-21\", \"2019-06-22\", \"2019-06-23\", \"2019-06-24\", \"2019-06-25\", \"2019-06-26\", \"2019-06-27\", \"2019-06-28\", \"2019-06-29\", \"2019-06-30\", \"2019-07-01\", \"2019-07-02\", \"2019-07-03\", \"2019-07-04\", \"2019-07-05\", \"2019-07-06\", \"2019-07-07\", \"2019-07-08\", \"2019-07-09\", \"2019-07-10\", \"2019-07-11\", \"2019-07-12\", \"2019-07-13\", \"2019-07-14\", \"2019-07-15\", \"2019-07-16\", \"2019-07-17\", \"2019-07-18\", \"2019-07-19\", \"2019-07-20\", \"2019-07-21\", \"2019-07-22\", \"2019-07-23\", \"2019-07-24\", \"2019-07-25\", \"2019-07-26\", \"2019-07-27\", \"2019-07-28\", \"2019-07-29\", \"2019-07-30\", \"2019-07-31\", \"2019-08-01\", \"2019-08-02\", \"2019-08-03\", \"2019-08-04\", \"2019-08-05\", \"2019-08-06\", \"2019-08-07\", \"2019-08-08\", \"2019-08-09\", \"2019-08-10\", \"2019-08-11\", \"2019-08-12\", \"2019-08-13\", \"2019-08-14\", \"2019-08-15\", \"2019-08-16\", \"2019-08-17\", \"2019-08-18\", \"2019-08-19\", \"2019-08-20\", \"2019-08-21\", \"2019-08-22\", \"2019-08-23\", \"2019-08-24\", \"2019-08-25\", \"2019-08-26\", \"2019-08-27\", \"2019-08-28\", \"2019-08-29\", \"2019-08-30\", \"2019-08-31\", \"2019-09-01\", \"2019-09-02\", \"2019-09-03\", \"2019-09-04\", \"2019-09-05\", \"2019-09-06\", \"2019-09-07\", \"2019-09-08\", \"2019-09-09\", \"2019-09-10\", \"2019-09-11\", \"2019-09-12\", \"2019-09-13\", \"2019-09-14\", \"2019-09-15\", \"2019-09-16\", \"2019-09-17\", \"2019-09-18\", \"2019-09-19\", \"2019-09-20\", \"2019-09-21\", \"2019-09-22\", \"2019-09-23\", \"2019-09-24\", \"2019-09-25\", \"2019-09-26\", \"2019-09-27\", \"2019-09-28\", \"2019-09-29\", \"2019-09-30\", \"2019-10-01\", \"2019-10-02\", \"2019-10-03\", \"2019-10-04\", \"2019-10-05\", \"2019-10-06\", \"2019-10-07\", \"2019-10-08\", \"2019-10-09\", \"2019-10-10\", \"2019-10-11\", \"2019-10-12\", \"2019-10-13\", \"2019-10-14\", \"2019-10-15\", \"2019-10-16\", \"2019-10-17\", \"2019-10-18\", \"2019-10-19\", \"2019-10-20\", \"2019-10-21\", \"2019-10-22\", \"2019-10-23\", \"2019-10-24\", \"2019-10-25\", \"2019-10-26\", \"2019-10-27\", \"2019-10-28\", \"2019-10-29\", \"2019-10-30\", \"2019-10-31\", \"2019-11-01\", \"2019-11-02\", \"2019-11-03\", \"2019-11-04\", \"2019-11-05\", \"2019-11-06\", \"2019-11-07\", \"2019-11-08\", \"2019-11-09\", \"2019-11-10\", \"2019-11-11\", \"2019-11-12\", \"2019-11-13\", \"2019-11-14\", \"2019-11-15\", \"2019-11-16\", \"2019-11-17\", \"2019-11-18\", \"2019-11-19\", \"2019-11-20\", \"2019-11-21\", \"2019-11-22\", \"2019-11-23\", \"2019-11-24\", \"2019-11-25\", \"2019-11-26\", \"2019-11-27\", \"2019-11-28\", \"2019-11-29\", \"2019-11-30\", \"2019-12-01\", \"2019-12-02\", \"2019-12-03\", \"2019-12-04\", \"2019-12-05\", \"2019-12-06\", \"2019-12-07\", \"2019-12-08\", \"2019-12-09\", \"2019-12-10\", \"2019-12-11\", \"2019-12-12\", \"2019-12-13\", \"2019-12-14\", \"2019-12-15\", \"2019-12-16\", \"2019-12-17\", \"2019-12-18\", \"2019-12-19\", \"2019-12-20\", \"2019-12-21\", \"2019-12-22\", \"2019-12-23\", \"2019-12-24\", \"2019-12-25\", \"2019-12-26\", \"2019-12-27\", \"2019-12-28\", \"2019-12-29\", \"2019-12-30\", \"2019-12-31\"], \"xaxis\": \"x\", \"y\": [9, 8, 6, 5, 6, 5, 10, 10, 7, 7, 10, 9, 10, 10, 9, 8, 9, 7, 11, 7, 7, 8, 7, 7, 11, 10, 8, 8, 9, 7, 8, 9, 7, 8, 7, 10, 12, 11, 11, 12, 11, 10, 12, 10, 13, 15, 14, 15, 12, 12, 13, 17, 17, 18, 14, 15, 19, 20, 13, 14, 13, 14, 11, 13, 12, 11, 12, 13, 12, 11, 11, 10, 11, 13, 11, 11, 11, 12, 13, 15, 18, 17, 13, 12, 12, 13, 14, 16, 17, 19, 18, 12, 10, 10, 10, 10, 14, 12, 16, 14, 14, 14, 12, 9, 14, 15, 19, 21, 24, 21, 21, 19, 18, 14, 13, 14, 13, 12, 16, 18, 17, 15, 15, 11, 12, 15, 14, 15, 15, 15, 16, 16, 16, 18, 18, 17, 17, 14, 17, 18, 20, 21, 21, 20, 19, 17, 19, 15, 15, 20, 25, 29, 23, 20, 19, 16, 18, 15, 18, 16, 17, 15, 16, 18, 19, 18, 19, 25, 28, 20, 20, 20, 23, 27, 23, 26, 31, 34, 34, 32, 26, 24, 25, 26, 28, 30, 31, 28, 27, 25, 28, 26, 26, 27, 26, 26, 29, 27, 22, 26, 25, 26, 33, 39, 33, 32, 22, 23, 23, 24, 21, 23, 27, 29, 29, 26, 25, 23, 25, 28, 23, 23, 23, 22, 22, 20, 22, 22, 19, 21, 21, 23, 26, 28, 30, 33, 30, 33, 29, 24, 25, 30, 23, 23, 24, 26, 20, 19, 23, 22, 21, 17, 22, 22, 24, 28, 29, 31, 21, 27, 23, 23, 27, 28, 21, 20, 20, 17, 19, 19, 19, 20, 21, 19, 19, 19, 17, 18, 18, 14, 18, 16, 18, 20, 21, 20, 20, 16, 16, 17, 16, 16, 15, 16, 16, 15, 14, 18, 19, 15, 12, 14, 17, 16, 17, 14, 14, 13, 12, 13, 11, 11, 10, 11, 11, 11, 9, 11, 8, 9, 8, 10, 9, 7, 11, 10, 12, 12, 13, 14, 13, 13, 13, 9, 7, 7, 7, 8, 7, 11, 13, 13, 11, 11, 9, 12, 10, 12, 10, 11, 12, 12, 13, 12, 11, 10, 10, 14, 11, 12, 13, 11, 9, 12, 10], \"yaxis\": \"y\"}],\n",
              "                        {\"legend\": {\"tracegroupgap\": 0}, \"margin\": {\"t\": 60}, \"template\": {\"data\": {\"bar\": [{\"error_x\": {\"color\": \"#2a3f5f\"}, \"error_y\": {\"color\": \"#2a3f5f\"}, \"marker\": {\"line\": {\"color\": \"#E5ECF6\", \"width\": 0.5}}, \"type\": \"bar\"}], \"barpolar\": [{\"marker\": {\"line\": {\"color\": \"#E5ECF6\", \"width\": 0.5}}, \"type\": \"barpolar\"}], \"carpet\": [{\"aaxis\": {\"endlinecolor\": \"#2a3f5f\", \"gridcolor\": \"white\", \"linecolor\": \"white\", \"minorgridcolor\": \"white\", \"startlinecolor\": \"#2a3f5f\"}, \"baxis\": {\"endlinecolor\": \"#2a3f5f\", \"gridcolor\": \"white\", \"linecolor\": \"white\", \"minorgridcolor\": \"white\", \"startlinecolor\": \"#2a3f5f\"}, \"type\": \"carpet\"}], \"choropleth\": [{\"colorbar\": {\"outlinewidth\": 0, \"ticks\": \"\"}, \"type\": \"choropleth\"}], \"contour\": [{\"colorbar\": {\"outlinewidth\": 0, \"ticks\": \"\"}, \"colorscale\": [[0.0, \"#0d0887\"], [0.1111111111111111, \"#46039f\"], [0.2222222222222222, \"#7201a8\"], [0.3333333333333333, \"#9c179e\"], [0.4444444444444444, \"#bd3786\"], [0.5555555555555556, \"#d8576b\"], [0.6666666666666666, \"#ed7953\"], [0.7777777777777778, \"#fb9f3a\"], [0.8888888888888888, \"#fdca26\"], [1.0, \"#f0f921\"]], \"type\": \"contour\"}], \"contourcarpet\": [{\"colorbar\": {\"outlinewidth\": 0, \"ticks\": \"\"}, \"type\": \"contourcarpet\"}], \"heatmap\": [{\"colorbar\": {\"outlinewidth\": 0, \"ticks\": \"\"}, \"colorscale\": [[0.0, \"#0d0887\"], [0.1111111111111111, \"#46039f\"], [0.2222222222222222, \"#7201a8\"], [0.3333333333333333, \"#9c179e\"], [0.4444444444444444, \"#bd3786\"], [0.5555555555555556, \"#d8576b\"], [0.6666666666666666, \"#ed7953\"], [0.7777777777777778, \"#fb9f3a\"], [0.8888888888888888, \"#fdca26\"], [1.0, \"#f0f921\"]], \"type\": \"heatmap\"}], \"heatmapgl\": [{\"colorbar\": {\"outlinewidth\": 0, \"ticks\": \"\"}, \"colorscale\": [[0.0, \"#0d0887\"], [0.1111111111111111, \"#46039f\"], [0.2222222222222222, \"#7201a8\"], [0.3333333333333333, \"#9c179e\"], [0.4444444444444444, \"#bd3786\"], [0.5555555555555556, \"#d8576b\"], [0.6666666666666666, \"#ed7953\"], [0.7777777777777778, \"#fb9f3a\"], [0.8888888888888888, \"#fdca26\"], [1.0, \"#f0f921\"]], \"type\": \"heatmapgl\"}], \"histogram\": [{\"marker\": {\"colorbar\": {\"outlinewidth\": 0, \"ticks\": \"\"}}, \"type\": \"histogram\"}], \"histogram2d\": [{\"colorbar\": {\"outlinewidth\": 0, \"ticks\": \"\"}, \"colorscale\": [[0.0, \"#0d0887\"], [0.1111111111111111, \"#46039f\"], [0.2222222222222222, \"#7201a8\"], [0.3333333333333333, \"#9c179e\"], [0.4444444444444444, \"#bd3786\"], [0.5555555555555556, \"#d8576b\"], [0.6666666666666666, \"#ed7953\"], [0.7777777777777778, \"#fb9f3a\"], [0.8888888888888888, \"#fdca26\"], [1.0, \"#f0f921\"]], \"type\": \"histogram2d\"}], \"histogram2dcontour\": [{\"colorbar\": {\"outlinewidth\": 0, \"ticks\": \"\"}, \"colorscale\": [[0.0, \"#0d0887\"], [0.1111111111111111, \"#46039f\"], [0.2222222222222222, \"#7201a8\"], [0.3333333333333333, \"#9c179e\"], [0.4444444444444444, \"#bd3786\"], [0.5555555555555556, \"#d8576b\"], [0.6666666666666666, \"#ed7953\"], [0.7777777777777778, \"#fb9f3a\"], [0.8888888888888888, \"#fdca26\"], [1.0, \"#f0f921\"]], \"type\": \"histogram2dcontour\"}], \"mesh3d\": [{\"colorbar\": {\"outlinewidth\": 0, \"ticks\": \"\"}, \"type\": \"mesh3d\"}], \"parcoords\": [{\"line\": {\"colorbar\": {\"outlinewidth\": 0, \"ticks\": \"\"}}, \"type\": \"parcoords\"}], \"pie\": [{\"automargin\": true, \"type\": \"pie\"}], \"scatter\": [{\"marker\": {\"colorbar\": {\"outlinewidth\": 0, \"ticks\": \"\"}}, \"type\": \"scatter\"}], \"scatter3d\": [{\"line\": {\"colorbar\": {\"outlinewidth\": 0, \"ticks\": \"\"}}, \"marker\": {\"colorbar\": {\"outlinewidth\": 0, \"ticks\": \"\"}}, \"type\": \"scatter3d\"}], \"scattercarpet\": [{\"marker\": {\"colorbar\": {\"outlinewidth\": 0, \"ticks\": \"\"}}, \"type\": \"scattercarpet\"}], \"scattergeo\": [{\"marker\": {\"colorbar\": {\"outlinewidth\": 0, \"ticks\": \"\"}}, \"type\": \"scattergeo\"}], \"scattergl\": [{\"marker\": {\"colorbar\": {\"outlinewidth\": 0, \"ticks\": \"\"}}, \"type\": \"scattergl\"}], \"scattermapbox\": [{\"marker\": {\"colorbar\": {\"outlinewidth\": 0, \"ticks\": \"\"}}, \"type\": \"scattermapbox\"}], \"scatterpolar\": [{\"marker\": {\"colorbar\": {\"outlinewidth\": 0, \"ticks\": \"\"}}, \"type\": \"scatterpolar\"}], \"scatterpolargl\": [{\"marker\": {\"colorbar\": {\"outlinewidth\": 0, \"ticks\": \"\"}}, \"type\": \"scatterpolargl\"}], \"scatterternary\": [{\"marker\": {\"colorbar\": {\"outlinewidth\": 0, \"ticks\": \"\"}}, \"type\": \"scatterternary\"}], \"surface\": [{\"colorbar\": {\"outlinewidth\": 0, \"ticks\": \"\"}, \"colorscale\": [[0.0, \"#0d0887\"], [0.1111111111111111, \"#46039f\"], [0.2222222222222222, \"#7201a8\"], [0.3333333333333333, \"#9c179e\"], [0.4444444444444444, \"#bd3786\"], [0.5555555555555556, \"#d8576b\"], [0.6666666666666666, \"#ed7953\"], [0.7777777777777778, \"#fb9f3a\"], [0.8888888888888888, \"#fdca26\"], [1.0, \"#f0f921\"]], \"type\": \"surface\"}], \"table\": [{\"cells\": {\"fill\": {\"color\": \"#EBF0F8\"}, \"line\": {\"color\": \"white\"}}, \"header\": {\"fill\": {\"color\": \"#C8D4E3\"}, \"line\": {\"color\": \"white\"}}, \"type\": \"table\"}]}, \"layout\": {\"annotationdefaults\": {\"arrowcolor\": \"#2a3f5f\", \"arrowhead\": 0, \"arrowwidth\": 1}, \"coloraxis\": {\"colorbar\": {\"outlinewidth\": 0, \"ticks\": \"\"}}, \"colorscale\": {\"diverging\": [[0, \"#8e0152\"], [0.1, \"#c51b7d\"], [0.2, \"#de77ae\"], [0.3, \"#f1b6da\"], [0.4, \"#fde0ef\"], [0.5, \"#f7f7f7\"], [0.6, \"#e6f5d0\"], [0.7, \"#b8e186\"], [0.8, \"#7fbc41\"], [0.9, \"#4d9221\"], [1, \"#276419\"]], \"sequential\": [[0.0, \"#0d0887\"], [0.1111111111111111, \"#46039f\"], [0.2222222222222222, \"#7201a8\"], [0.3333333333333333, \"#9c179e\"], [0.4444444444444444, \"#bd3786\"], [0.5555555555555556, \"#d8576b\"], [0.6666666666666666, \"#ed7953\"], [0.7777777777777778, \"#fb9f3a\"], [0.8888888888888888, \"#fdca26\"], [1.0, \"#f0f921\"]], \"sequentialminus\": [[0.0, \"#0d0887\"], [0.1111111111111111, \"#46039f\"], [0.2222222222222222, \"#7201a8\"], [0.3333333333333333, \"#9c179e\"], [0.4444444444444444, \"#bd3786\"], [0.5555555555555556, \"#d8576b\"], [0.6666666666666666, \"#ed7953\"], [0.7777777777777778, \"#fb9f3a\"], [0.8888888888888888, \"#fdca26\"], [1.0, \"#f0f921\"]]}, \"colorway\": [\"#636efa\", \"#EF553B\", \"#00cc96\", \"#ab63fa\", \"#FFA15A\", \"#19d3f3\", \"#FF6692\", \"#B6E880\", \"#FF97FF\", \"#FECB52\"], \"font\": {\"color\": \"#2a3f5f\"}, \"geo\": {\"bgcolor\": \"white\", \"lakecolor\": \"white\", \"landcolor\": \"#E5ECF6\", \"showlakes\": true, \"showland\": true, \"subunitcolor\": \"white\"}, \"hoverlabel\": {\"align\": \"left\"}, \"hovermode\": \"closest\", \"mapbox\": {\"style\": \"light\"}, \"paper_bgcolor\": \"white\", \"plot_bgcolor\": \"#E5ECF6\", \"polar\": {\"angularaxis\": {\"gridcolor\": \"white\", \"linecolor\": \"white\", \"ticks\": \"\"}, \"bgcolor\": \"#E5ECF6\", \"radialaxis\": {\"gridcolor\": \"white\", \"linecolor\": \"white\", \"ticks\": \"\"}}, \"scene\": {\"xaxis\": {\"backgroundcolor\": \"#E5ECF6\", \"gridcolor\": \"white\", \"gridwidth\": 2, \"linecolor\": \"white\", \"showbackground\": true, \"ticks\": \"\", \"zerolinecolor\": \"white\"}, \"yaxis\": {\"backgroundcolor\": \"#E5ECF6\", \"gridcolor\": \"white\", \"gridwidth\": 2, \"linecolor\": \"white\", \"showbackground\": true, \"ticks\": \"\", \"zerolinecolor\": \"white\"}, \"zaxis\": {\"backgroundcolor\": \"#E5ECF6\", \"gridcolor\": \"white\", \"gridwidth\": 2, \"linecolor\": \"white\", \"showbackground\": true, \"ticks\": \"\", \"zerolinecolor\": \"white\"}}, \"shapedefaults\": {\"line\": {\"color\": \"#2a3f5f\"}}, \"ternary\": {\"aaxis\": {\"gridcolor\": \"white\", \"linecolor\": \"white\", \"ticks\": \"\"}, \"baxis\": {\"gridcolor\": \"white\", \"linecolor\": \"white\", \"ticks\": \"\"}, \"bgcolor\": \"#E5ECF6\", \"caxis\": {\"gridcolor\": \"white\", \"linecolor\": \"white\", \"ticks\": \"\"}}, \"title\": {\"x\": 0.05}, \"xaxis\": {\"automargin\": true, \"gridcolor\": \"white\", \"linecolor\": \"white\", \"ticks\": \"\", \"title\": {\"standoff\": 15}, \"zerolinecolor\": \"white\", \"zerolinewidth\": 2}, \"yaxis\": {\"automargin\": true, \"gridcolor\": \"white\", \"linecolor\": \"white\", \"ticks\": \"\", \"title\": {\"standoff\": 15}, \"zerolinecolor\": \"white\", \"zerolinewidth\": 2}}}, \"xaxis\": {\"anchor\": \"y\", \"domain\": [0.0, 1.0], \"title\": {\"text\": \"DATE\"}}, \"yaxis\": {\"anchor\": \"x\", \"domain\": [0.0, 1.0], \"title\": {\"text\": \"MAX_TEMPERATURE_C\"}}},\n",
              "                        {\"responsive\": true}\n",
              "                    ).then(function(){\n",
              "                            \n",
              "var gd = document.getElementById('b648e9c2-11c1-4626-9570-aeeb20e5d4ad');\n",
              "var x = new MutationObserver(function (mutations, observer) {{\n",
              "        var display = window.getComputedStyle(gd).display;\n",
              "        if (!display || display === 'none') {{\n",
              "            console.log([gd, 'removed!']);\n",
              "            Plotly.purge(gd);\n",
              "            observer.disconnect();\n",
              "        }}\n",
              "}});\n",
              "\n",
              "// Listen for the removal of the full notebook cells\n",
              "var notebookContainer = gd.closest('#notebook-container');\n",
              "if (notebookContainer) {{\n",
              "    x.observe(notebookContainer, {childList: true});\n",
              "}}\n",
              "\n",
              "// Listen for the clearing of the current output cell\n",
              "var outputEl = gd.closest('.output');\n",
              "if (outputEl) {{\n",
              "    x.observe(outputEl, {childList: true});\n",
              "}}\n",
              "\n",
              "                        })\n",
              "                };\n",
              "                \n",
              "            </script>\n",
              "        </div>\n",
              "</body>\n",
              "</html>"
            ]
          },
          "metadata": {}
        }
      ]
    },
    {
      "cell_type": "code",
      "metadata": {
        "colab": {
          "base_uri": "https://localhost:8080/",
          "height": 323
        },
        "id": "wPOZOkAkqgqy",
        "outputId": "1bfba4ee-ad72-4ff3-e345-f3858d65dc08"
      },
      "source": [
        "# MAJ PLOTLY\n",
        "! pip install plotly --upgrade"
      ],
      "execution_count": null,
      "outputs": [
        {
          "output_type": "stream",
          "name": "stdout",
          "text": [
            "Requirement already satisfied: plotly in /usr/local/lib/python3.7/dist-packages (4.4.1)\n",
            "Collecting plotly\n",
            "  Downloading plotly-5.4.0-py2.py3-none-any.whl (25.3 MB)\n",
            "\u001b[K     |████████████████████████████████| 25.3 MB 66 kB/s \n",
            "\u001b[?25hCollecting tenacity>=6.2.0\n",
            "  Downloading tenacity-8.0.1-py3-none-any.whl (24 kB)\n",
            "Requirement already satisfied: six in /usr/local/lib/python3.7/dist-packages (from plotly) (1.15.0)\n",
            "Installing collected packages: tenacity, plotly\n",
            "  Attempting uninstall: plotly\n",
            "    Found existing installation: plotly 4.4.1\n",
            "    Uninstalling plotly-4.4.1:\n",
            "      Successfully uninstalled plotly-4.4.1\n",
            "Successfully installed plotly-5.4.0 tenacity-8.0.1\n"
          ]
        },
        {
          "output_type": "display_data",
          "data": {
            "application/vnd.colab-display-data+json": {
              "pip_warning": {
                "packages": [
                  "_plotly_utils",
                  "plotly"
                ]
              }
            }
          },
          "metadata": {}
        }
      ]
    },
    {
      "cell_type": "code",
      "metadata": {
        "colab": {
          "base_uri": "https://localhost:8080/",
          "height": 517
        },
        "id": "hB3FjEfXqQX6",
        "outputId": "5cfef980-cc9e-4c54-e550-fed47057274a"
      },
      "source": [
        "#Now, you have to add different colors by Opinion, add a main center title, axis title, \n",
        "# and change the color with readable values (green when the opinions are pretty good, et red otherwise)\n",
        "\n",
        "\n",
        "\n",
        "import plotly.express as px\n",
        "import plotly.graph_objects as go\n",
        "\n",
        "\n",
        "fig = px.scatter(data_frame = df_weather,\n",
        "                 x= \"DATE\", y=\"MAX_TEMPERATURE_C\",\n",
        "                 labels={'DATE':'Date', 'MAX_TEMPERATURE_C':'Max. Temperature', 'OPINION':'Opinions'},\n",
        "                 color=\"OPINION\",\n",
        "                 color_discrete_sequence=[\"red\", \"red\", \"red\", \"red\", \"green\"],\n",
        "                 size='MAX_TEMPERATURE_C',\n",
        "                 size_max=8                 \n",
        "                 )\n",
        "\n",
        "\n",
        "fig.update_layout(title_text ='<b>Opinion people on Max temperature in related to date<b>',\n",
        "                  title_x = 0.5,\n",
        "                  width = 900, height = 500)\n",
        "    \n",
        "    \n",
        "\n",
        "fig.show() "
      ],
      "execution_count": null,
      "outputs": [
        {
          "output_type": "display_data",
          "data": {
            "text/html": [
              "<html>\n",
              "<head><meta charset=\"utf-8\" /></head>\n",
              "<body>\n",
              "    <div>\n",
              "            <script src=\"https://cdnjs.cloudflare.com/ajax/libs/mathjax/2.7.5/MathJax.js?config=TeX-AMS-MML_SVG\"></script><script type=\"text/javascript\">if (window.MathJax) {MathJax.Hub.Config({SVG: {font: \"STIX-Web\"}});}</script>\n",
              "                <script type=\"text/javascript\">window.PlotlyConfig = {MathJaxConfig: 'local'};</script>\n",
              "        <script src=\"https://cdn.plot.ly/plotly-latest.min.js\"></script>    \n",
              "            <div id=\"ed1f6e65-2e31-4209-b7a4-1349ba6b0e38\" class=\"plotly-graph-div\" style=\"height:500px; width:900px;\"></div>\n",
              "            <script type=\"text/javascript\">\n",
              "                \n",
              "                    window.PLOTLYENV=window.PLOTLYENV || {};\n",
              "                    \n",
              "                if (document.getElementById(\"ed1f6e65-2e31-4209-b7a4-1349ba6b0e38\")) {\n",
              "                    Plotly.newPlot(\n",
              "                        'ed1f6e65-2e31-4209-b7a4-1349ba6b0e38',\n",
              "                        [{\"hoverlabel\": {\"namelength\": 0}, \"hovertemplate\": \"Opinions=very bad<br>Date=%{x}<br>Max. Temperature=%{marker.size}\", \"legendgroup\": \"Opinions=very bad\", \"marker\": {\"color\": \"red\", \"size\": [9, 8, 6, 5, 6, 5, 10, 7, 7, 10, 9, 9, 8, 9, 7, 7, 7, 8, 7, 7, 8, 8, 9, 7, 8, 7, 8, 7, 10, 11, 10, 12, 10, 12, 12, 12, 12, 11, 11, 11, 11, 12, 12, 12, 10, 10, 10, 10, 12, 12, 9, 14, 11, 12, 15, 15, 22, 20, 14, 14, 11, 11, 10, 11, 9, 11, 8, 9, 8, 10, 9, 7, 11, 10, 12, 7, 7, 7, 8, 7, 11, 11, 9, 12, 10, 10, 11, 13, 12, 11, 10, 10, 14, 12, 11, 9, 12, 10], \"sizemode\": \"area\", \"sizeref\": 0.609375, \"symbol\": \"circle\"}, \"mode\": \"markers\", \"name\": \"Opinions=very bad\", \"showlegend\": true, \"type\": \"scatter\", \"x\": [\"2019-01-01\", \"2019-01-02\", \"2019-01-03\", \"2019-01-04\", \"2019-01-05\", \"2019-01-06\", \"2019-01-07\", \"2019-01-09\", \"2019-01-10\", \"2019-01-11\", \"2019-01-12\", \"2019-01-15\", \"2019-01-16\", \"2019-01-17\", \"2019-01-18\", \"2019-01-20\", \"2019-01-21\", \"2019-01-22\", \"2019-01-23\", \"2019-01-24\", \"2019-01-27\", \"2019-01-28\", \"2019-01-29\", \"2019-01-30\", \"2019-01-31\", \"2019-02-02\", \"2019-02-03\", \"2019-02-04\", \"2019-02-05\", \"2019-02-10\", \"2019-02-11\", \"2019-02-12\", \"2019-02-13\", \"2019-02-18\", \"2019-02-19\", \"2019-03-06\", \"2019-03-08\", \"2019-03-11\", \"2019-03-12\", \"2019-03-17\", \"2019-03-18\", \"2019-03-19\", \"2019-03-25\", \"2019-03-26\", \"2019-04-03\", \"2019-04-04\", \"2019-04-05\", \"2019-04-06\", \"2019-04-08\", \"2019-04-13\", \"2019-04-14\", \"2019-04-24\", \"2019-05-04\", \"2019-05-05\", \"2019-05-08\", \"2019-06-07\", \"2019-07-26\", \"2019-09-24\", \"2019-10-07\", \"2019-11-03\", \"2019-11-07\", \"2019-11-08\", \"2019-11-09\", \"2019-11-10\", \"2019-11-13\", \"2019-11-14\", \"2019-11-15\", \"2019-11-16\", \"2019-11-17\", \"2019-11-18\", \"2019-11-19\", \"2019-11-20\", \"2019-11-21\", \"2019-11-22\", \"2019-11-24\", \"2019-12-01\", \"2019-12-02\", \"2019-12-03\", \"2019-12-04\", \"2019-12-05\", \"2019-12-06\", \"2019-12-10\", \"2019-12-11\", \"2019-12-12\", \"2019-12-13\", \"2019-12-15\", \"2019-12-16\", \"2019-12-19\", \"2019-12-20\", \"2019-12-21\", \"2019-12-22\", \"2019-12-23\", \"2019-12-24\", \"2019-12-26\", \"2019-12-28\", \"2019-12-29\", \"2019-12-30\", \"2019-12-31\"], \"xaxis\": \"x\", \"y\": [9, 8, 6, 5, 6, 5, 10, 7, 7, 10, 9, 9, 8, 9, 7, 7, 7, 8, 7, 7, 8, 8, 9, 7, 8, 7, 8, 7, 10, 11, 10, 12, 10, 12, 12, 12, 12, 11, 11, 11, 11, 12, 12, 12, 10, 10, 10, 10, 12, 12, 9, 14, 11, 12, 15, 15, 22, 20, 14, 14, 11, 11, 10, 11, 9, 11, 8, 9, 8, 10, 9, 7, 11, 10, 12, 7, 7, 7, 8, 7, 11, 11, 9, 12, 10, 10, 11, 13, 12, 11, 10, 10, 14, 12, 11, 9, 12, 10], \"yaxis\": \"y\"}, {\"hoverlabel\": {\"namelength\": 0}, \"hovertemplate\": \"Opinions=bad<br>Date=%{x}<br>Max. Temperature=%{marker.size}\", \"legendgroup\": \"Opinions=bad\", \"marker\": {\"color\": \"red\", \"size\": [10, 10, 10, 11, 11, 10, 9, 12, 11, 11, 12, 13, 14, 11, 11, 13, 12, 10, 11, 13, 11, 12, 14, 18, 13, 13, 12, 16, 15, 15, 15, 15, 14, 17, 18, 17, 19, 19, 15, 16, 23, 31, 26, 21, 23, 22, 20, 19, 24, 21, 17, 19, 19, 19, 20, 21, 19, 19, 17, 18, 18, 20, 20, 16, 16, 16, 16, 15, 15, 14, 15, 12, 14, 17, 16, 17, 14, 13, 12, 11, 11, 12, 13, 14, 13, 13, 9, 13, 13, 11, 12, 12, 12, 11], \"sizemode\": \"area\", \"sizeref\": 0.609375, \"symbol\": \"circle\"}, \"mode\": \"markers\", \"name\": \"Opinions=bad\", \"showlegend\": true, \"type\": \"scatter\", \"x\": [\"2019-01-08\", \"2019-01-13\", \"2019-01-14\", \"2019-01-19\", \"2019-01-25\", \"2019-01-26\", \"2019-02-01\", \"2019-02-06\", \"2019-02-07\", \"2019-02-08\", \"2019-02-09\", \"2019-02-28\", \"2019-03-03\", \"2019-03-04\", \"2019-03-07\", \"2019-03-09\", \"2019-03-10\", \"2019-03-13\", \"2019-03-14\", \"2019-03-15\", \"2019-03-16\", \"2019-04-02\", \"2019-04-07\", \"2019-04-23\", \"2019-04-25\", \"2019-04-27\", \"2019-04-28\", \"2019-04-29\", \"2019-05-02\", \"2019-05-03\", \"2019-05-09\", \"2019-05-10\", \"2019-05-18\", \"2019-05-19\", \"2019-05-20\", \"2019-05-26\", \"2019-05-27\", \"2019-06-04\", \"2019-06-11\", \"2019-06-12\", \"2019-06-24\", \"2019-07-06\", \"2019-07-12\", \"2019-07-30\", \"2019-08-06\", \"2019-08-12\", \"2019-08-14\", \"2019-08-17\", \"2019-08-28\", \"2019-09-22\", \"2019-09-25\", \"2019-09-26\", \"2019-09-27\", \"2019-09-28\", \"2019-09-29\", \"2019-09-30\", \"2019-10-01\", \"2019-10-02\", \"2019-10-04\", \"2019-10-05\", \"2019-10-08\", \"2019-10-13\", \"2019-10-14\", \"2019-10-15\", \"2019-10-16\", \"2019-10-18\", \"2019-10-19\", \"2019-10-20\", \"2019-10-23\", \"2019-10-24\", \"2019-10-27\", \"2019-10-28\", \"2019-10-29\", \"2019-10-30\", \"2019-10-31\", \"2019-11-01\", \"2019-11-02\", \"2019-11-04\", \"2019-11-05\", \"2019-11-11\", \"2019-11-12\", \"2019-11-23\", \"2019-11-25\", \"2019-11-26\", \"2019-11-27\", \"2019-11-28\", \"2019-11-30\", \"2019-12-07\", \"2019-12-08\", \"2019-12-09\", \"2019-12-14\", \"2019-12-17\", \"2019-12-18\", \"2019-12-25\"], \"xaxis\": \"x\", \"y\": [10, 10, 10, 11, 11, 10, 9, 12, 11, 11, 12, 13, 14, 11, 11, 13, 12, 10, 11, 13, 11, 12, 14, 18, 13, 13, 12, 16, 15, 15, 15, 15, 14, 17, 18, 17, 19, 19, 15, 16, 23, 31, 26, 21, 23, 22, 20, 19, 24, 21, 17, 19, 19, 19, 20, 21, 19, 19, 17, 18, 18, 20, 20, 16, 16, 16, 16, 15, 15, 14, 15, 12, 14, 17, 16, 17, 14, 13, 12, 11, 11, 12, 13, 14, 13, 13, 9, 13, 13, 11, 12, 12, 12, 11], \"yaxis\": \"y\"}, {\"hoverlabel\": {\"namelength\": 0}, \"hovertemplate\": \"Opinions=not good not bad<br>Date=%{x}<br>Max. Temperature=%{marker.size}\", \"legendgroup\": \"Opinions=not good not bad\", \"marker\": {\"color\": \"red\", \"size\": [13, 15, 14, 15, 13, 17, 17, 14, 15, 14, 13, 13, 13, 15, 17, 13, 13, 14, 16, 17, 16, 14, 14, 14, 14, 15, 19, 14, 17, 15, 14, 16, 16, 16, 17, 17, 19, 15, 15, 20, 16, 18, 16, 17, 18, 18, 20, 34, 34, 22, 26, 25, 39, 23, 25, 28, 23, 22, 22, 21, 21, 26, 25, 30, 17, 20, 16, 18, 20, 17, 16, 16, 18, 13, 13, 13], \"sizemode\": \"area\", \"sizeref\": 0.609375, \"symbol\": \"circle\"}, \"mode\": \"markers\", \"name\": \"Opinions=not good not bad\", \"showlegend\": true, \"type\": \"scatter\", \"x\": [\"2019-02-14\", \"2019-02-15\", \"2019-02-16\", \"2019-02-17\", \"2019-02-20\", \"2019-02-21\", \"2019-02-22\", \"2019-02-24\", \"2019-02-25\", \"2019-03-01\", \"2019-03-02\", \"2019-03-05\", \"2019-03-20\", \"2019-03-21\", \"2019-03-23\", \"2019-03-24\", \"2019-03-27\", \"2019-03-28\", \"2019-03-29\", \"2019-03-30\", \"2019-04-09\", \"2019-04-10\", \"2019-04-11\", \"2019-04-12\", \"2019-04-15\", \"2019-04-16\", \"2019-04-22\", \"2019-04-26\", \"2019-05-01\", \"2019-05-06\", \"2019-05-07\", \"2019-05-11\", \"2019-05-12\", \"2019-05-13\", \"2019-05-16\", \"2019-05-17\", \"2019-05-25\", \"2019-05-28\", \"2019-05-29\", \"2019-05-30\", \"2019-06-05\", \"2019-06-08\", \"2019-06-09\", \"2019-06-10\", \"2019-06-13\", \"2019-06-15\", \"2019-06-19\", \"2019-06-27\", \"2019-06-28\", \"2019-07-18\", \"2019-07-19\", \"2019-07-20\", \"2019-07-23\", \"2019-07-27\", \"2019-08-05\", \"2019-08-08\", \"2019-08-10\", \"2019-08-13\", \"2019-08-15\", \"2019-08-18\", \"2019-08-19\", \"2019-08-21\", \"2019-08-29\", \"2019-08-30\", \"2019-09-09\", \"2019-09-23\", \"2019-10-09\", \"2019-10-10\", \"2019-10-11\", \"2019-10-17\", \"2019-10-21\", \"2019-10-22\", \"2019-10-25\", \"2019-11-06\", \"2019-11-29\", \"2019-12-27\"], \"xaxis\": \"x\", \"y\": [13, 15, 14, 15, 13, 17, 17, 14, 15, 14, 13, 13, 13, 15, 17, 13, 13, 14, 16, 17, 16, 14, 14, 14, 14, 15, 19, 14, 17, 15, 14, 16, 16, 16, 17, 17, 19, 15, 15, 20, 16, 18, 16, 17, 18, 18, 20, 34, 34, 22, 26, 25, 39, 23, 25, 28, 23, 22, 22, 21, 21, 26, 25, 30, 17, 20, 16, 18, 20, 17, 16, 16, 18, 13, 13, 13], \"yaxis\": \"y\"}, {\"hoverlabel\": {\"namelength\": 0}, \"hovertemplate\": \"Opinions=good<br>Date=%{x}<br>Max. Temperature=%{marker.size}\", \"legendgroup\": \"Opinions=good\", \"marker\": {\"color\": \"red\", \"size\": [18, 19, 20, 18, 19, 18, 19, 21, 24, 21, 21, 18, 18, 18, 20, 21, 21, 20, 25, 23, 20, 18, 19, 19, 25, 28, 20, 20, 23, 27, 26, 31, 32, 26, 24, 25, 26, 28, 30, 28, 27, 25, 28, 26, 27, 26, 26, 29, 26, 33, 32, 23, 24, 23, 27, 29, 26, 25, 23, 23, 22, 23, 28, 30, 33, 30, 33, 29, 23, 23, 24, 26, 20, 19, 23, 22, 21, 22, 22, 24, 28, 29, 31, 21, 27, 23, 23, 27, 28, 19, 18, 21, 19], \"sizemode\": \"area\", \"sizeref\": 0.609375, \"symbol\": \"circle\"}, \"mode\": \"markers\", \"name\": \"Opinions=good\", \"showlegend\": true, \"type\": \"scatter\", \"x\": [\"2019-02-23\", \"2019-02-26\", \"2019-02-27\", \"2019-03-22\", \"2019-03-31\", \"2019-04-01\", \"2019-04-17\", \"2019-04-18\", \"2019-04-19\", \"2019-04-20\", \"2019-04-21\", \"2019-04-30\", \"2019-05-14\", \"2019-05-15\", \"2019-05-21\", \"2019-05-22\", \"2019-05-23\", \"2019-05-24\", \"2019-05-31\", \"2019-06-02\", \"2019-06-03\", \"2019-06-06\", \"2019-06-14\", \"2019-06-16\", \"2019-06-17\", \"2019-06-18\", \"2019-06-20\", \"2019-06-21\", \"2019-06-22\", \"2019-06-23\", \"2019-06-25\", \"2019-06-26\", \"2019-06-29\", \"2019-06-30\", \"2019-07-01\", \"2019-07-02\", \"2019-07-03\", \"2019-07-04\", \"2019-07-05\", \"2019-07-07\", \"2019-07-08\", \"2019-07-09\", \"2019-07-10\", \"2019-07-11\", \"2019-07-13\", \"2019-07-14\", \"2019-07-15\", \"2019-07-16\", \"2019-07-21\", \"2019-07-24\", \"2019-07-25\", \"2019-07-28\", \"2019-07-29\", \"2019-07-31\", \"2019-08-01\", \"2019-08-03\", \"2019-08-04\", \"2019-08-07\", \"2019-08-09\", \"2019-08-11\", \"2019-08-16\", \"2019-08-20\", \"2019-08-22\", \"2019-08-23\", \"2019-08-24\", \"2019-08-25\", \"2019-08-26\", \"2019-08-27\", \"2019-08-31\", \"2019-09-01\", \"2019-09-02\", \"2019-09-03\", \"2019-09-04\", \"2019-09-05\", \"2019-09-06\", \"2019-09-07\", \"2019-09-08\", \"2019-09-10\", \"2019-09-11\", \"2019-09-12\", \"2019-09-13\", \"2019-09-14\", \"2019-09-15\", \"2019-09-16\", \"2019-09-17\", \"2019-09-18\", \"2019-09-19\", \"2019-09-20\", \"2019-09-21\", \"2019-10-03\", \"2019-10-06\", \"2019-10-12\", \"2019-10-26\"], \"xaxis\": \"x\", \"y\": [18, 19, 20, 18, 19, 18, 19, 21, 24, 21, 21, 18, 18, 18, 20, 21, 21, 20, 25, 23, 20, 18, 19, 19, 25, 28, 20, 20, 23, 27, 26, 31, 32, 26, 24, 25, 26, 28, 30, 28, 27, 25, 28, 26, 27, 26, 26, 29, 26, 33, 32, 23, 24, 23, 27, 29, 26, 25, 23, 23, 22, 23, 28, 30, 33, 30, 33, 29, 23, 23, 24, 26, 20, 19, 23, 22, 21, 22, 22, 24, 28, 29, 31, 21, 27, 23, 23, 27, 28, 19, 18, 21, 19], \"yaxis\": \"y\"}, {\"hoverlabel\": {\"namelength\": 0}, \"hovertemplate\": \"Opinions=very good<br>Date=%{x}<br>Max. Temperature=%{marker.size}\", \"legendgroup\": \"Opinions=very good\", \"marker\": {\"color\": \"green\", \"size\": [29, 27, 33, 29], \"sizemode\": \"area\", \"sizeref\": 0.609375, \"symbol\": \"circle\"}, \"mode\": \"markers\", \"name\": \"Opinions=very good\", \"showlegend\": true, \"type\": \"scatter\", \"x\": [\"2019-06-01\", \"2019-07-17\", \"2019-07-22\", \"2019-08-02\"], \"xaxis\": \"x\", \"y\": [29, 27, 33, 29], \"yaxis\": \"y\"}],\n",
              "                        {\"height\": 500, \"legend\": {\"itemsizing\": \"constant\", \"tracegroupgap\": 0}, \"margin\": {\"t\": 60}, \"template\": {\"data\": {\"bar\": [{\"error_x\": {\"color\": \"#2a3f5f\"}, \"error_y\": {\"color\": \"#2a3f5f\"}, \"marker\": {\"line\": {\"color\": \"#E5ECF6\", \"width\": 0.5}}, \"type\": \"bar\"}], \"barpolar\": [{\"marker\": {\"line\": {\"color\": \"#E5ECF6\", \"width\": 0.5}}, \"type\": \"barpolar\"}], \"carpet\": [{\"aaxis\": {\"endlinecolor\": \"#2a3f5f\", \"gridcolor\": \"white\", \"linecolor\": \"white\", \"minorgridcolor\": \"white\", \"startlinecolor\": \"#2a3f5f\"}, \"baxis\": {\"endlinecolor\": \"#2a3f5f\", \"gridcolor\": \"white\", \"linecolor\": \"white\", \"minorgridcolor\": \"white\", \"startlinecolor\": \"#2a3f5f\"}, \"type\": \"carpet\"}], \"choropleth\": [{\"colorbar\": {\"outlinewidth\": 0, \"ticks\": \"\"}, \"type\": \"choropleth\"}], \"contour\": [{\"colorbar\": {\"outlinewidth\": 0, \"ticks\": \"\"}, \"colorscale\": [[0.0, \"#0d0887\"], [0.1111111111111111, \"#46039f\"], [0.2222222222222222, \"#7201a8\"], [0.3333333333333333, \"#9c179e\"], [0.4444444444444444, \"#bd3786\"], [0.5555555555555556, \"#d8576b\"], [0.6666666666666666, \"#ed7953\"], [0.7777777777777778, \"#fb9f3a\"], [0.8888888888888888, \"#fdca26\"], [1.0, \"#f0f921\"]], \"type\": \"contour\"}], \"contourcarpet\": [{\"colorbar\": {\"outlinewidth\": 0, \"ticks\": \"\"}, \"type\": \"contourcarpet\"}], \"heatmap\": [{\"colorbar\": {\"outlinewidth\": 0, \"ticks\": \"\"}, \"colorscale\": [[0.0, \"#0d0887\"], [0.1111111111111111, \"#46039f\"], [0.2222222222222222, \"#7201a8\"], [0.3333333333333333, \"#9c179e\"], [0.4444444444444444, \"#bd3786\"], [0.5555555555555556, \"#d8576b\"], [0.6666666666666666, \"#ed7953\"], [0.7777777777777778, \"#fb9f3a\"], [0.8888888888888888, \"#fdca26\"], [1.0, \"#f0f921\"]], \"type\": \"heatmap\"}], \"heatmapgl\": [{\"colorbar\": {\"outlinewidth\": 0, \"ticks\": \"\"}, \"colorscale\": [[0.0, \"#0d0887\"], [0.1111111111111111, \"#46039f\"], [0.2222222222222222, \"#7201a8\"], [0.3333333333333333, \"#9c179e\"], [0.4444444444444444, \"#bd3786\"], [0.5555555555555556, \"#d8576b\"], [0.6666666666666666, \"#ed7953\"], [0.7777777777777778, \"#fb9f3a\"], [0.8888888888888888, \"#fdca26\"], [1.0, \"#f0f921\"]], \"type\": \"heatmapgl\"}], \"histogram\": [{\"marker\": {\"colorbar\": {\"outlinewidth\": 0, \"ticks\": \"\"}}, \"type\": \"histogram\"}], \"histogram2d\": [{\"colorbar\": {\"outlinewidth\": 0, \"ticks\": \"\"}, \"colorscale\": [[0.0, \"#0d0887\"], [0.1111111111111111, \"#46039f\"], [0.2222222222222222, \"#7201a8\"], [0.3333333333333333, \"#9c179e\"], [0.4444444444444444, \"#bd3786\"], [0.5555555555555556, \"#d8576b\"], [0.6666666666666666, \"#ed7953\"], [0.7777777777777778, \"#fb9f3a\"], [0.8888888888888888, \"#fdca26\"], [1.0, \"#f0f921\"]], \"type\": \"histogram2d\"}], \"histogram2dcontour\": [{\"colorbar\": {\"outlinewidth\": 0, \"ticks\": \"\"}, \"colorscale\": [[0.0, \"#0d0887\"], [0.1111111111111111, \"#46039f\"], [0.2222222222222222, \"#7201a8\"], [0.3333333333333333, \"#9c179e\"], [0.4444444444444444, \"#bd3786\"], [0.5555555555555556, \"#d8576b\"], [0.6666666666666666, \"#ed7953\"], [0.7777777777777778, \"#fb9f3a\"], [0.8888888888888888, \"#fdca26\"], [1.0, \"#f0f921\"]], \"type\": \"histogram2dcontour\"}], \"mesh3d\": [{\"colorbar\": {\"outlinewidth\": 0, \"ticks\": \"\"}, \"type\": \"mesh3d\"}], \"parcoords\": [{\"line\": {\"colorbar\": {\"outlinewidth\": 0, \"ticks\": \"\"}}, \"type\": \"parcoords\"}], \"pie\": [{\"automargin\": true, \"type\": \"pie\"}], \"scatter\": [{\"marker\": {\"colorbar\": {\"outlinewidth\": 0, \"ticks\": \"\"}}, \"type\": \"scatter\"}], \"scatter3d\": [{\"line\": {\"colorbar\": {\"outlinewidth\": 0, \"ticks\": \"\"}}, \"marker\": {\"colorbar\": {\"outlinewidth\": 0, \"ticks\": \"\"}}, \"type\": \"scatter3d\"}], \"scattercarpet\": [{\"marker\": {\"colorbar\": {\"outlinewidth\": 0, \"ticks\": \"\"}}, \"type\": \"scattercarpet\"}], \"scattergeo\": [{\"marker\": {\"colorbar\": {\"outlinewidth\": 0, \"ticks\": \"\"}}, \"type\": \"scattergeo\"}], \"scattergl\": [{\"marker\": {\"colorbar\": {\"outlinewidth\": 0, \"ticks\": \"\"}}, \"type\": \"scattergl\"}], \"scattermapbox\": [{\"marker\": {\"colorbar\": {\"outlinewidth\": 0, \"ticks\": \"\"}}, \"type\": \"scattermapbox\"}], \"scatterpolar\": [{\"marker\": {\"colorbar\": {\"outlinewidth\": 0, \"ticks\": \"\"}}, \"type\": \"scatterpolar\"}], \"scatterpolargl\": [{\"marker\": {\"colorbar\": {\"outlinewidth\": 0, \"ticks\": \"\"}}, \"type\": \"scatterpolargl\"}], \"scatterternary\": [{\"marker\": {\"colorbar\": {\"outlinewidth\": 0, \"ticks\": \"\"}}, \"type\": \"scatterternary\"}], \"surface\": [{\"colorbar\": {\"outlinewidth\": 0, \"ticks\": \"\"}, \"colorscale\": [[0.0, \"#0d0887\"], [0.1111111111111111, \"#46039f\"], [0.2222222222222222, \"#7201a8\"], [0.3333333333333333, \"#9c179e\"], [0.4444444444444444, \"#bd3786\"], [0.5555555555555556, \"#d8576b\"], [0.6666666666666666, \"#ed7953\"], [0.7777777777777778, \"#fb9f3a\"], [0.8888888888888888, \"#fdca26\"], [1.0, \"#f0f921\"]], \"type\": \"surface\"}], \"table\": [{\"cells\": {\"fill\": {\"color\": \"#EBF0F8\"}, \"line\": {\"color\": \"white\"}}, \"header\": {\"fill\": {\"color\": \"#C8D4E3\"}, \"line\": {\"color\": \"white\"}}, \"type\": \"table\"}]}, \"layout\": {\"annotationdefaults\": {\"arrowcolor\": \"#2a3f5f\", \"arrowhead\": 0, \"arrowwidth\": 1}, \"coloraxis\": {\"colorbar\": {\"outlinewidth\": 0, \"ticks\": \"\"}}, \"colorscale\": {\"diverging\": [[0, \"#8e0152\"], [0.1, \"#c51b7d\"], [0.2, \"#de77ae\"], [0.3, \"#f1b6da\"], [0.4, \"#fde0ef\"], [0.5, \"#f7f7f7\"], [0.6, \"#e6f5d0\"], [0.7, \"#b8e186\"], [0.8, \"#7fbc41\"], [0.9, \"#4d9221\"], [1, \"#276419\"]], \"sequential\": [[0.0, \"#0d0887\"], [0.1111111111111111, \"#46039f\"], [0.2222222222222222, \"#7201a8\"], [0.3333333333333333, \"#9c179e\"], [0.4444444444444444, \"#bd3786\"], [0.5555555555555556, \"#d8576b\"], [0.6666666666666666, \"#ed7953\"], [0.7777777777777778, \"#fb9f3a\"], [0.8888888888888888, \"#fdca26\"], [1.0, \"#f0f921\"]], \"sequentialminus\": [[0.0, \"#0d0887\"], [0.1111111111111111, \"#46039f\"], [0.2222222222222222, \"#7201a8\"], [0.3333333333333333, \"#9c179e\"], [0.4444444444444444, \"#bd3786\"], [0.5555555555555556, \"#d8576b\"], [0.6666666666666666, \"#ed7953\"], [0.7777777777777778, \"#fb9f3a\"], [0.8888888888888888, \"#fdca26\"], [1.0, \"#f0f921\"]]}, \"colorway\": [\"#636efa\", \"#EF553B\", \"#00cc96\", \"#ab63fa\", \"#FFA15A\", \"#19d3f3\", \"#FF6692\", \"#B6E880\", \"#FF97FF\", \"#FECB52\"], \"font\": {\"color\": \"#2a3f5f\"}, \"geo\": {\"bgcolor\": \"white\", \"lakecolor\": \"white\", \"landcolor\": \"#E5ECF6\", \"showlakes\": true, \"showland\": true, \"subunitcolor\": \"white\"}, \"hoverlabel\": {\"align\": \"left\"}, \"hovermode\": \"closest\", \"mapbox\": {\"style\": \"light\"}, \"paper_bgcolor\": \"white\", \"plot_bgcolor\": \"#E5ECF6\", \"polar\": {\"angularaxis\": {\"gridcolor\": \"white\", \"linecolor\": \"white\", \"ticks\": \"\"}, \"bgcolor\": \"#E5ECF6\", \"radialaxis\": {\"gridcolor\": \"white\", \"linecolor\": \"white\", \"ticks\": \"\"}}, \"scene\": {\"xaxis\": {\"backgroundcolor\": \"#E5ECF6\", \"gridcolor\": \"white\", \"gridwidth\": 2, \"linecolor\": \"white\", \"showbackground\": true, \"ticks\": \"\", \"zerolinecolor\": \"white\"}, \"yaxis\": {\"backgroundcolor\": \"#E5ECF6\", \"gridcolor\": \"white\", \"gridwidth\": 2, \"linecolor\": \"white\", \"showbackground\": true, \"ticks\": \"\", \"zerolinecolor\": \"white\"}, \"zaxis\": {\"backgroundcolor\": \"#E5ECF6\", \"gridcolor\": \"white\", \"gridwidth\": 2, \"linecolor\": \"white\", \"showbackground\": true, \"ticks\": \"\", \"zerolinecolor\": \"white\"}}, \"shapedefaults\": {\"line\": {\"color\": \"#2a3f5f\"}}, \"ternary\": {\"aaxis\": {\"gridcolor\": \"white\", \"linecolor\": \"white\", \"ticks\": \"\"}, \"baxis\": {\"gridcolor\": \"white\", \"linecolor\": \"white\", \"ticks\": \"\"}, \"bgcolor\": \"#E5ECF6\", \"caxis\": {\"gridcolor\": \"white\", \"linecolor\": \"white\", \"ticks\": \"\"}}, \"title\": {\"x\": 0.05}, \"xaxis\": {\"automargin\": true, \"gridcolor\": \"white\", \"linecolor\": \"white\", \"ticks\": \"\", \"title\": {\"standoff\": 15}, \"zerolinecolor\": \"white\", \"zerolinewidth\": 2}, \"yaxis\": {\"automargin\": true, \"gridcolor\": \"white\", \"linecolor\": \"white\", \"ticks\": \"\", \"title\": {\"standoff\": 15}, \"zerolinecolor\": \"white\", \"zerolinewidth\": 2}}}, \"title\": {\"text\": \"<b>Opinion people on Max temperature in related to date<b>\", \"x\": 0.5}, \"width\": 900, \"xaxis\": {\"anchor\": \"y\", \"domain\": [0.0, 1.0], \"title\": {\"text\": \"Date\"}}, \"yaxis\": {\"anchor\": \"x\", \"domain\": [0.0, 1.0], \"title\": {\"text\": \"Max. Temperature\"}}},\n",
              "                        {\"responsive\": true}\n",
              "                    ).then(function(){\n",
              "                            \n",
              "var gd = document.getElementById('ed1f6e65-2e31-4209-b7a4-1349ba6b0e38');\n",
              "var x = new MutationObserver(function (mutations, observer) {{\n",
              "        var display = window.getComputedStyle(gd).display;\n",
              "        if (!display || display === 'none') {{\n",
              "            console.log([gd, 'removed!']);\n",
              "            Plotly.purge(gd);\n",
              "            observer.disconnect();\n",
              "        }}\n",
              "}});\n",
              "\n",
              "// Listen for the removal of the full notebook cells\n",
              "var notebookContainer = gd.closest('#notebook-container');\n",
              "if (notebookContainer) {{\n",
              "    x.observe(notebookContainer, {childList: true});\n",
              "}}\n",
              "\n",
              "// Listen for the clearing of the current output cell\n",
              "var outputEl = gd.closest('.output');\n",
              "if (outputEl) {{\n",
              "    x.observe(outputEl, {childList: true});\n",
              "}}\n",
              "\n",
              "                        })\n",
              "                };\n",
              "                \n",
              "            </script>\n",
              "        </div>\n",
              "</body>\n",
              "</html>"
            ]
          },
          "metadata": {}
        }
      ]
    },
    {
      "cell_type": "markdown",
      "metadata": {
        "id": "W3lAl94o7TJ8"
      },
      "source": [
        "## Pair Plots\n",
        "\n",
        "With Plotly, the name of [pairplots](https://plotly.com/python/splom/) is `scatter_matrix`."
      ]
    },
    {
      "cell_type": "code",
      "metadata": {
        "id": "KUIOMYVF1TJF",
        "colab": {
          "base_uri": "https://localhost:8080/",
          "height": 111
        },
        "outputId": "62d7588b-cb27-40bb-96f4-7e2cfe92a5b5"
      },
      "source": [
        "# OK, it's up to you to draw a Pair Plot on the 4 last columns of your DataFrame.\n",
        "# Do you notice that qualitative values are correctly represented ?\n",
        "\n",
        "#data for pairplot\n",
        "df_graph_pairplot = df_weather.iloc[:,-4:]\n",
        "df_graph_pairplot.head(2)"
      ],
      "execution_count": null,
      "outputs": [
        {
          "output_type": "execute_result",
          "data": {
            "text/html": [
              "<div>\n",
              "<style scoped>\n",
              "    .dataframe tbody tr th:only-of-type {\n",
              "        vertical-align: middle;\n",
              "    }\n",
              "\n",
              "    .dataframe tbody tr th {\n",
              "        vertical-align: top;\n",
              "    }\n",
              "\n",
              "    .dataframe thead th {\n",
              "        text-align: right;\n",
              "    }\n",
              "</style>\n",
              "<table border=\"1\" class=\"dataframe\">\n",
              "  <thead>\n",
              "    <tr style=\"text-align: right;\">\n",
              "      <th></th>\n",
              "      <th>SUNHOUR</th>\n",
              "      <th>OPINION</th>\n",
              "      <th>MONTH</th>\n",
              "      <th>DAY</th>\n",
              "    </tr>\n",
              "  </thead>\n",
              "  <tbody>\n",
              "    <tr>\n",
              "      <th>0</th>\n",
              "      <td>5.1</td>\n",
              "      <td>very bad</td>\n",
              "      <td>1</td>\n",
              "      <td>1</td>\n",
              "    </tr>\n",
              "    <tr>\n",
              "      <th>1</th>\n",
              "      <td>8.7</td>\n",
              "      <td>very bad</td>\n",
              "      <td>1</td>\n",
              "      <td>2</td>\n",
              "    </tr>\n",
              "  </tbody>\n",
              "</table>\n",
              "</div>"
            ],
            "text/plain": [
              "   SUNHOUR   OPINION  MONTH  DAY\n",
              "0      5.1  very bad      1    1\n",
              "1      8.7  very bad      1    2"
            ]
          },
          "metadata": {},
          "execution_count": 6
        }
      ]
    },
    {
      "cell_type": "code",
      "metadata": {
        "colab": {
          "base_uri": "https://localhost:8080/",
          "height": 374
        },
        "id": "pWq0aR0rq4G4",
        "outputId": "a6c2a6bf-5226-4139-e54f-1e1e3b88d524"
      },
      "source": [
        "#graph\n",
        "\n",
        "fig = px.scatter_matrix(data_frame = df_graph_pairplot,\n",
        "                 \n",
        "                 labels={'SUNHOUR':\"Temps d'ensoleillement (en H)\", 'MONTH':'Mois', 'OPINION':'Opinions'},\n",
        "                 color='SUNHOUR'\n",
        "                 )\n",
        "\n",
        "\n",
        "fig.update_layout(title =\"<b>Temps d'ensoleillement par jour et par mois<b>\",\n",
        "                  title_x = 0.5,\n",
        "                  dragmode='select',\n",
        "                  width=1100,\n",
        "                  height=1000,\n",
        "                  hovermode='closest')\n",
        "fig.show()"
      ],
      "execution_count": null,
      "outputs": [
        {
          "output_type": "error",
          "ename": "AttributeError",
          "evalue": "ignored",
          "traceback": [
            "\u001b[0;31m---------------------------------------------------------------------------\u001b[0m",
            "\u001b[0;31mAttributeError\u001b[0m                            Traceback (most recent call last)",
            "\u001b[0;32m<ipython-input-7-7a032d873d03>\u001b[0m in \u001b[0;36m<module>\u001b[0;34m()\u001b[0m\n\u001b[1;32m      4\u001b[0m \u001b[0;34m\u001b[0m\u001b[0m\n\u001b[1;32m      5\u001b[0m                  \u001b[0mlabels\u001b[0m\u001b[0;34m=\u001b[0m\u001b[0;34m{\u001b[0m\u001b[0;34m'SUNHOUR'\u001b[0m\u001b[0;34m:\u001b[0m\u001b[0;34m\"Temps d'ensoleillement (en H)\"\u001b[0m\u001b[0;34m,\u001b[0m \u001b[0;34m'MONTH'\u001b[0m\u001b[0;34m:\u001b[0m\u001b[0;34m'Mois'\u001b[0m\u001b[0;34m,\u001b[0m \u001b[0;34m'OPINION'\u001b[0m\u001b[0;34m:\u001b[0m\u001b[0;34m'Opinions'\u001b[0m\u001b[0;34m}\u001b[0m\u001b[0;34m,\u001b[0m\u001b[0;34m\u001b[0m\u001b[0;34m\u001b[0m\u001b[0m\n\u001b[0;32m----> 6\u001b[0;31m                  \u001b[0mcolor\u001b[0m\u001b[0;34m=\u001b[0m\u001b[0;34m'SUNHOUR'\u001b[0m\u001b[0;34m\u001b[0m\u001b[0;34m\u001b[0m\u001b[0m\n\u001b[0m\u001b[1;32m      7\u001b[0m                  )\n\u001b[1;32m      8\u001b[0m \u001b[0;34m\u001b[0m\u001b[0m\n",
            "\u001b[0;32m/usr/local/lib/python3.7/dist-packages/plotly/express/_chart_types.py\u001b[0m in \u001b[0;36mscatter_matrix\u001b[0;34m(data_frame, dimensions, color, symbol, size, hover_name, hover_data, custom_data, category_orders, labels, color_discrete_sequence, color_discrete_map, color_continuous_scale, range_color, color_continuous_midpoint, symbol_sequence, symbol_map, opacity, size_max, title, template, width, height)\u001b[0m\n\u001b[1;32m   1146\u001b[0m     \u001b[0mgeojson\u001b[0m\u001b[0;34m=\u001b[0m\u001b[0;32mNone\u001b[0m\u001b[0;34m,\u001b[0m\u001b[0;34m\u001b[0m\u001b[0;34m\u001b[0m\u001b[0m\n\u001b[1;32m   1147\u001b[0m     \u001b[0mfeatureidkey\u001b[0m\u001b[0;34m=\u001b[0m\u001b[0;32mNone\u001b[0m\u001b[0;34m,\u001b[0m\u001b[0;34m\u001b[0m\u001b[0;34m\u001b[0m\u001b[0m\n\u001b[0;32m-> 1148\u001b[0;31m     \u001b[0mcolor\u001b[0m\u001b[0;34m=\u001b[0m\u001b[0;32mNone\u001b[0m\u001b[0;34m,\u001b[0m\u001b[0;34m\u001b[0m\u001b[0;34m\u001b[0m\u001b[0m\n\u001b[0m\u001b[1;32m   1149\u001b[0m     \u001b[0mline_dash\u001b[0m\u001b[0;34m=\u001b[0m\u001b[0;32mNone\u001b[0m\u001b[0;34m,\u001b[0m\u001b[0;34m\u001b[0m\u001b[0;34m\u001b[0m\u001b[0m\n\u001b[1;32m   1150\u001b[0m     \u001b[0mtext\u001b[0m\u001b[0;34m=\u001b[0m\u001b[0;32mNone\u001b[0m\u001b[0;34m,\u001b[0m\u001b[0;34m\u001b[0m\u001b[0;34m\u001b[0m\u001b[0m\n",
            "\u001b[0;32m/usr/local/lib/python3.7/dist-packages/plotly/express/_core.py\u001b[0m in \u001b[0;36mmake_figure\u001b[0;34m(args, constructor, trace_patch, layout_patch)\u001b[0m\n\u001b[1;32m   1177\u001b[0m                             \u001b[0;34m\"All arguments should have the same length. \"\u001b[0m\u001b[0;34m\u001b[0m\u001b[0;34m\u001b[0m\u001b[0m\n\u001b[1;32m   1178\u001b[0m                             \u001b[0;34m\"The length of hover_data key `%s` is %d, whereas the \"\u001b[0m\u001b[0;34m\u001b[0m\u001b[0;34m\u001b[0m\u001b[0m\n\u001b[0;32m-> 1179\u001b[0;31m                             \u001b[0;34m\"length of previously-processed arguments %s is %d\"\u001b[0m\u001b[0;34m\u001b[0m\u001b[0;34m\u001b[0m\u001b[0m\n\u001b[0m\u001b[1;32m   1180\u001b[0m                             % (\n\u001b[1;32m   1181\u001b[0m                                 \u001b[0margument\u001b[0m\u001b[0;34m,\u001b[0m\u001b[0;34m\u001b[0m\u001b[0;34m\u001b[0m\u001b[0m\n",
            "\u001b[0;32m/usr/local/lib/python3.7/dist-packages/plotly/graph_objs/__init__.py\u001b[0m in \u001b[0;36m__init__\u001b[0;34m(self, arg, customdata, customdatasrc, diagonal, dimensions, dimensiondefaults, hoverinfo, hoverinfosrc, hoverlabel, hovertemplate, hovertemplatesrc, hovertext, hovertextsrc, ids, idssrc, legendgroup, marker, meta, metasrc, name, opacity, selected, selectedpoints, showlegend, showlowerhalf, showupperhalf, stream, text, textsrc, uid, uirevision, unselected, visible, xaxes, yaxes, **kwargs)\u001b[0m\n",
            "\u001b[0;32m/usr/local/lib/python3.7/dist-packages/_plotly_utils/importers.py\u001b[0m in \u001b[0;36m__getattr__\u001b[0;34m(import_name)\u001b[0m\n\u001b[1;32m     39\u001b[0m         raise AttributeError(\n\u001b[1;32m     40\u001b[0m             \"module {__name__!r} has no attribute {name!r}\".format(\n\u001b[0;32m---> 41\u001b[0;31m                 \u001b[0mname\u001b[0m\u001b[0;34m=\u001b[0m\u001b[0mimport_name\u001b[0m\u001b[0;34m,\u001b[0m \u001b[0m__name__\u001b[0m\u001b[0;34m=\u001b[0m\u001b[0mparent_name\u001b[0m\u001b[0;34m\u001b[0m\u001b[0;34m\u001b[0m\u001b[0m\n\u001b[0m\u001b[1;32m     42\u001b[0m             )\n\u001b[1;32m     43\u001b[0m         )\n",
            "\u001b[0;31mAttributeError\u001b[0m: module 'plotly.validators.splom' has no attribute 'DimensionValidator'"
          ]
        }
      ]
    },
    {
      "cell_type": "markdown",
      "metadata": {
        "id": "7Y-loUXOq_fm"
      },
      "source": [
        "### ***Do you notice that qualitative values are correctly represented ?***\n",
        "\n",
        "####Yes, sunhour is correctly represented depending on the day, month and opinions people. However graph must be width for analize correctly the data."
      ]
    },
    {
      "cell_type": "markdown",
      "metadata": {
        "id": "z5vHg5DX8EHe"
      },
      "source": [
        "## Bubble chart\n",
        "\n",
        "[Documentation](https://plotly.com/python/bubble-charts/#bubble-chart-with-plotlyexpress)"
      ]
    },
    {
      "cell_type": "code",
      "metadata": {
        "colab": {
          "base_uri": "https://localhost:8080/"
        },
        "id": "ftM1RxGwrE_l",
        "outputId": "e919ec7c-5513-4e10-ba97-c5bc0634cede"
      },
      "source": [
        "df_weather.info()"
      ],
      "execution_count": null,
      "outputs": [
        {
          "output_type": "stream",
          "name": "stdout",
          "text": [
            "<class 'pandas.core.frame.DataFrame'>\n",
            "RangeIndex: 365 entries, 0 to 364\n",
            "Data columns (total 24 columns):\n",
            " #   Column                  Non-Null Count  Dtype  \n",
            "---  ------                  --------------  -----  \n",
            " 0   DATE                    365 non-null    object \n",
            " 1   MAX_TEMPERATURE_C       365 non-null    int64  \n",
            " 2   MIN_TEMPERATURE_C       365 non-null    int64  \n",
            " 3   WINDSPEED_MAX_KMH       365 non-null    int64  \n",
            " 4   TEMPERATURE_MORNING_C   365 non-null    int64  \n",
            " 5   TEMPERATURE_NOON_C      365 non-null    int64  \n",
            " 6   TEMPERATURE_EVENING_C   365 non-null    int64  \n",
            " 7   PRECIP_TOTAL_DAY_MM     365 non-null    float64\n",
            " 8   HUMIDITY_MAX_PERCENT    365 non-null    int64  \n",
            " 9   VISIBILITY_AVG_KM       365 non-null    float64\n",
            " 10  PRESSURE_MAX_MB         365 non-null    int64  \n",
            " 11  CLOUDCOVER_AVG_PERCENT  365 non-null    float64\n",
            " 12  HEATINDEX_MAX_C         365 non-null    int64  \n",
            " 13  DEWPOINT_MAX_C          365 non-null    int64  \n",
            " 14  WINDTEMP_MAX_C          365 non-null    int64  \n",
            " 15  WEATHER_CODE_MORNING    365 non-null    int64  \n",
            " 16  WEATHER_CODE_NOON       365 non-null    int64  \n",
            " 17  WEATHER_CODE_EVENING    365 non-null    int64  \n",
            " 18  TOTAL_SNOW_MM           365 non-null    int64  \n",
            " 19  UV_INDEX                365 non-null    int64  \n",
            " 20  SUNHOUR                 365 non-null    float64\n",
            " 21  OPINION                 365 non-null    object \n",
            " 22  MONTH                   365 non-null    int64  \n",
            " 23  DAY                     365 non-null    int64  \n",
            "dtypes: float64(4), int64(18), object(2)\n",
            "memory usage: 68.6+ KB\n"
          ]
        }
      ]
    },
    {
      "cell_type": "code",
      "metadata": {
        "id": "ODi0oHWm1ffU",
        "colab": {
          "base_uri": "https://localhost:8080/",
          "height": 817
        },
        "outputId": "26599259-131b-4356-db50-1681550b3b7c"
      },
      "source": [
        "# A bubble chart is a scatter plot with different sizes of dots.\n",
        "# You know how to do scatterplot ? So maybe you can search a \"size\" argument...\n",
        "\n",
        "#graph\n",
        "fig = px.scatter(data_frame = df_weather,\n",
        "                 x= \"DATE\", y=\"MAX_TEMPERATURE_C\",\n",
        "                 labels={'DATE':'Date', 'MAX_TEMPERATURE_C':'Max. Temperature', 'PRECIP_TOTAL_DAY_MM':'Precipitation'},\n",
        "                 color=\"OPINION\",\n",
        "                 color_discrete_sequence=px.colors.qualitative.Bold,\n",
        "                 size='PRECIP_TOTAL_DAY_MM',\n",
        "                 size_max=20)\n",
        "\n",
        "\n",
        "# Don't forget to add title\n",
        "fig.update_layout(title_text ='<b>Opinion people on precipitation per day<b>',\n",
        "                  title_x = 0.5,\n",
        "                  width = 1200, height = 800)\n",
        "    \n",
        "   \n",
        "fig.show() \n",
        "\n"
      ],
      "execution_count": null,
      "outputs": [
        {
          "output_type": "display_data",
          "data": {
            "text/html": [
              "<html>\n",
              "<head><meta charset=\"utf-8\" /></head>\n",
              "<body>\n",
              "    <div>\n",
              "            <script src=\"https://cdnjs.cloudflare.com/ajax/libs/mathjax/2.7.5/MathJax.js?config=TeX-AMS-MML_SVG\"></script><script type=\"text/javascript\">if (window.MathJax) {MathJax.Hub.Config({SVG: {font: \"STIX-Web\"}});}</script>\n",
              "                <script type=\"text/javascript\">window.PlotlyConfig = {MathJaxConfig: 'local'};</script>\n",
              "        <script src=\"https://cdn.plot.ly/plotly-latest.min.js\"></script>    \n",
              "            <div id=\"b37bed1b-16fe-4bb8-adb4-3de3d613c7d7\" class=\"plotly-graph-div\" style=\"height:800px; width:1200px;\"></div>\n",
              "            <script type=\"text/javascript\">\n",
              "                \n",
              "                    window.PLOTLYENV=window.PLOTLYENV || {};\n",
              "                    \n",
              "                if (document.getElementById(\"b37bed1b-16fe-4bb8-adb4-3de3d613c7d7\")) {\n",
              "                    Plotly.newPlot(\n",
              "                        'b37bed1b-16fe-4bb8-adb4-3de3d613c7d7',\n",
              "                        [{\"hoverlabel\": {\"namelength\": 0}, \"hovertemplate\": \"OPINION=very bad<br>Date=%{x}<br>Max. Temperature=%{y}<br>Precipitation=%{marker.size}\", \"legendgroup\": \"OPINION=very bad\", \"marker\": {\"color\": \"rgb(127, 60, 141)\", \"size\": [0.2, 0.0, 0.0, 0.0, 0.0, 0.0, 0.0, 0.0, 0.1, 0.2, 0.0, 0.0, 1.3, 1.2, 0.1, 0.2, 0.0, 9.8, 1.3, 2.4, 5.9, 2.6, 15.1, 2.0, 4.3, 1.0, 0.0, 18.6, 0.8, 29.1, 0.1, 0.0, 0.0, 0.9, 2.5, 47.6, 0.2, 0.1, 4.2, 5.0, 1.1, 1.0, 0.1, 0.0, 5.2, 1.1, 10.1, 6.1, 1.6, 0.0, 2.3, 18.9, 0.6, 0.3, 17.8, 27.3, 16.3, 24.1, 4.3, 30.0, 11.4, 3.2, 10.1, 2.1, 4.8, 11.2, 2.3, 10.3, 0.0, 0.0, 0.0, 0.0, 16.0, 8.5, 2.7, 0.0, 0.0, 0.0, 0.0, 0.0, 0.3, 0.9, 5.9, 18.2, 2.2, 5.0, 16.1, 31.0, 35.1, 16.4, 3.0, 9.0, 16.7, 0.2, 0.0, 0.0, 0.0, 0.1], \"sizemode\": \"area\", \"sizeref\": 0.11900000000000001, \"symbol\": \"circle\"}, \"mode\": \"markers\", \"name\": \"OPINION=very bad\", \"showlegend\": true, \"type\": \"scatter\", \"x\": [\"2019-01-01\", \"2019-01-02\", \"2019-01-03\", \"2019-01-04\", \"2019-01-05\", \"2019-01-06\", \"2019-01-07\", \"2019-01-09\", \"2019-01-10\", \"2019-01-11\", \"2019-01-12\", \"2019-01-15\", \"2019-01-16\", \"2019-01-17\", \"2019-01-18\", \"2019-01-20\", \"2019-01-21\", \"2019-01-22\", \"2019-01-23\", \"2019-01-24\", \"2019-01-27\", \"2019-01-28\", \"2019-01-29\", \"2019-01-30\", \"2019-01-31\", \"2019-02-02\", \"2019-02-03\", \"2019-02-04\", \"2019-02-05\", \"2019-02-10\", \"2019-02-11\", \"2019-02-12\", \"2019-02-13\", \"2019-02-18\", \"2019-02-19\", \"2019-03-06\", \"2019-03-08\", \"2019-03-11\", \"2019-03-12\", \"2019-03-17\", \"2019-03-18\", \"2019-03-19\", \"2019-03-25\", \"2019-03-26\", \"2019-04-03\", \"2019-04-04\", \"2019-04-05\", \"2019-04-06\", \"2019-04-08\", \"2019-04-13\", \"2019-04-14\", \"2019-04-24\", \"2019-05-04\", \"2019-05-05\", \"2019-05-08\", \"2019-06-07\", \"2019-07-26\", \"2019-09-24\", \"2019-10-07\", \"2019-11-03\", \"2019-11-07\", \"2019-11-08\", \"2019-11-09\", \"2019-11-10\", \"2019-11-13\", \"2019-11-14\", \"2019-11-15\", \"2019-11-16\", \"2019-11-17\", \"2019-11-18\", \"2019-11-19\", \"2019-11-20\", \"2019-11-21\", \"2019-11-22\", \"2019-11-24\", \"2019-12-01\", \"2019-12-02\", \"2019-12-03\", \"2019-12-04\", \"2019-12-05\", \"2019-12-06\", \"2019-12-10\", \"2019-12-11\", \"2019-12-12\", \"2019-12-13\", \"2019-12-15\", \"2019-12-16\", \"2019-12-19\", \"2019-12-20\", \"2019-12-21\", \"2019-12-22\", \"2019-12-23\", \"2019-12-24\", \"2019-12-26\", \"2019-12-28\", \"2019-12-29\", \"2019-12-30\", \"2019-12-31\"], \"xaxis\": \"x\", \"y\": [9, 8, 6, 5, 6, 5, 10, 7, 7, 10, 9, 9, 8, 9, 7, 7, 7, 8, 7, 7, 8, 8, 9, 7, 8, 7, 8, 7, 10, 11, 10, 12, 10, 12, 12, 12, 12, 11, 11, 11, 11, 12, 12, 12, 10, 10, 10, 10, 12, 12, 9, 14, 11, 12, 15, 15, 22, 20, 14, 14, 11, 11, 10, 11, 9, 11, 8, 9, 8, 10, 9, 7, 11, 10, 12, 7, 7, 7, 8, 7, 11, 11, 9, 12, 10, 10, 11, 13, 12, 11, 10, 10, 14, 12, 11, 9, 12, 10], \"yaxis\": \"y\"}, {\"hoverlabel\": {\"namelength\": 0}, \"hovertemplate\": \"OPINION=bad<br>Date=%{x}<br>Max. Temperature=%{y}<br>Precipitation=%{marker.size}\", \"legendgroup\": \"OPINION=bad\", \"marker\": {\"color\": \"rgb(17, 165, 121)\", \"size\": [0.2, 0.1, 0.1, 4.4, 4.6, 2.1, 7.3, 9.4, 4.0, 1.6, 6.3, 0.9, 5.4, 11.1, 3.4, 5.3, 1.2, 0.9, 0.5, 1.1, 0.5, 1.8, 3.0, 2.7, 4.4, 1.4, 0.4, 0.0, 0.4, 0.5, 4.4, 1.7, 6.0, 3.6, 7.0, 0.5, 1.4, 6.3, 3.4, 5.1, 14.1, 7.5, 0.2, 6.1, 4.4, 2.4, 0.8, 7.3, 0.0, 6.9, 2.0, 0.5, 1.3, 1.1, 5.3, 0.8, 5.7, 0.2, 1.1, 0.4, 3.9, 1.6, 2.7, 1.2, 13.1, 5.3, 7.7, 1.2, 9.9, 9.5, 4.6, 1.7, 2.3, 3.2, 8.9, 14.5, 11.0, 4.2, 8.0, 3.8, 1.8, 3.8, 8.6, 9.7, 3.8, 1.9, 13.7, 0.4, 9.1, 0.6, 4.8, 2.6, 0.0, 0.0], \"sizemode\": \"area\", \"sizeref\": 0.11900000000000001, \"symbol\": \"circle\"}, \"mode\": \"markers\", \"name\": \"OPINION=bad\", \"showlegend\": true, \"type\": \"scatter\", \"x\": [\"2019-01-08\", \"2019-01-13\", \"2019-01-14\", \"2019-01-19\", \"2019-01-25\", \"2019-01-26\", \"2019-02-01\", \"2019-02-06\", \"2019-02-07\", \"2019-02-08\", \"2019-02-09\", \"2019-02-28\", \"2019-03-03\", \"2019-03-04\", \"2019-03-07\", \"2019-03-09\", \"2019-03-10\", \"2019-03-13\", \"2019-03-14\", \"2019-03-15\", \"2019-03-16\", \"2019-04-02\", \"2019-04-07\", \"2019-04-23\", \"2019-04-25\", \"2019-04-27\", \"2019-04-28\", \"2019-04-29\", \"2019-05-02\", \"2019-05-03\", \"2019-05-09\", \"2019-05-10\", \"2019-05-18\", \"2019-05-19\", \"2019-05-20\", \"2019-05-26\", \"2019-05-27\", \"2019-06-04\", \"2019-06-11\", \"2019-06-12\", \"2019-06-24\", \"2019-07-06\", \"2019-07-12\", \"2019-07-30\", \"2019-08-06\", \"2019-08-12\", \"2019-08-14\", \"2019-08-17\", \"2019-08-28\", \"2019-09-22\", \"2019-09-25\", \"2019-09-26\", \"2019-09-27\", \"2019-09-28\", \"2019-09-29\", \"2019-09-30\", \"2019-10-01\", \"2019-10-02\", \"2019-10-04\", \"2019-10-05\", \"2019-10-08\", \"2019-10-13\", \"2019-10-14\", \"2019-10-15\", \"2019-10-16\", \"2019-10-18\", \"2019-10-19\", \"2019-10-20\", \"2019-10-23\", \"2019-10-24\", \"2019-10-27\", \"2019-10-28\", \"2019-10-29\", \"2019-10-30\", \"2019-10-31\", \"2019-11-01\", \"2019-11-02\", \"2019-11-04\", \"2019-11-05\", \"2019-11-11\", \"2019-11-12\", \"2019-11-23\", \"2019-11-25\", \"2019-11-26\", \"2019-11-27\", \"2019-11-28\", \"2019-11-30\", \"2019-12-07\", \"2019-12-08\", \"2019-12-09\", \"2019-12-14\", \"2019-12-17\", \"2019-12-18\", \"2019-12-25\"], \"xaxis\": \"x\", \"y\": [10, 10, 10, 11, 11, 10, 9, 12, 11, 11, 12, 13, 14, 11, 11, 13, 12, 10, 11, 13, 11, 12, 14, 18, 13, 13, 12, 16, 15, 15, 15, 15, 14, 17, 18, 17, 19, 19, 15, 16, 23, 31, 26, 21, 23, 22, 20, 19, 24, 21, 17, 19, 19, 19, 20, 21, 19, 19, 17, 18, 18, 20, 20, 16, 16, 16, 16, 15, 15, 14, 15, 12, 14, 17, 16, 17, 14, 13, 12, 11, 11, 12, 13, 14, 13, 13, 9, 13, 13, 11, 12, 12, 12, 11], \"yaxis\": \"y\"}, {\"hoverlabel\": {\"namelength\": 0}, \"hovertemplate\": \"OPINION=not good not bad<br>Date=%{x}<br>Max. Temperature=%{y}<br>Precipitation=%{marker.size}\", \"legendgroup\": \"OPINION=not good not bad\", \"marker\": {\"color\": \"rgb(57, 105, 172)\", \"size\": [0.0, 0.0, 0.0, 0.0, 0.0, 0.0, 0.0, 0.0, 0.0, 0.0, 4.9, 1.1, 0.6, 0.1, 0.0, 0.1, 0.0, 0.0, 0.1, 2.5, 0.8, 1.9, 0.1, 0.0, 6.2, 12.3, 6.0, 2.0, 6.0, 0.0, 1.2, 2.0, 0.0, 0.0, 0.0, 4.6, 0.5, 1.2, 0.2, 0.0, 1.5, 3.4, 4.0, 2.7, 2.3, 0.6, 0.9, 0.0, 0.0, 0.0, 0.0, 2.1, 0.0, 2.8, 0.1, 0.0, 0.2, 0.0, 0.7, 9.9, 0.5, 0.0, 0.0, 0.0, 8.4, 1.4, 2.6, 0.5, 0.0, 1.3, 1.1, 1.5, 0.8, 1.1, 0.1, 0.0], \"sizemode\": \"area\", \"sizeref\": 0.11900000000000001, \"symbol\": \"circle\"}, \"mode\": \"markers\", \"name\": \"OPINION=not good not bad\", \"showlegend\": true, \"type\": \"scatter\", \"x\": [\"2019-02-14\", \"2019-02-15\", \"2019-02-16\", \"2019-02-17\", \"2019-02-20\", \"2019-02-21\", \"2019-02-22\", \"2019-02-24\", \"2019-02-25\", \"2019-03-01\", \"2019-03-02\", \"2019-03-05\", \"2019-03-20\", \"2019-03-21\", \"2019-03-23\", \"2019-03-24\", \"2019-03-27\", \"2019-03-28\", \"2019-03-29\", \"2019-03-30\", \"2019-04-09\", \"2019-04-10\", \"2019-04-11\", \"2019-04-12\", \"2019-04-15\", \"2019-04-16\", \"2019-04-22\", \"2019-04-26\", \"2019-05-01\", \"2019-05-06\", \"2019-05-07\", \"2019-05-11\", \"2019-05-12\", \"2019-05-13\", \"2019-05-16\", \"2019-05-17\", \"2019-05-25\", \"2019-05-28\", \"2019-05-29\", \"2019-05-30\", \"2019-06-05\", \"2019-06-08\", \"2019-06-09\", \"2019-06-10\", \"2019-06-13\", \"2019-06-15\", \"2019-06-19\", \"2019-06-27\", \"2019-06-28\", \"2019-07-18\", \"2019-07-19\", \"2019-07-20\", \"2019-07-23\", \"2019-07-27\", \"2019-08-05\", \"2019-08-08\", \"2019-08-10\", \"2019-08-13\", \"2019-08-15\", \"2019-08-18\", \"2019-08-19\", \"2019-08-21\", \"2019-08-29\", \"2019-08-30\", \"2019-09-09\", \"2019-09-23\", \"2019-10-09\", \"2019-10-10\", \"2019-10-11\", \"2019-10-17\", \"2019-10-21\", \"2019-10-22\", \"2019-10-25\", \"2019-11-06\", \"2019-11-29\", \"2019-12-27\"], \"xaxis\": \"x\", \"y\": [13, 15, 14, 15, 13, 17, 17, 14, 15, 14, 13, 13, 13, 15, 17, 13, 13, 14, 16, 17, 16, 14, 14, 14, 14, 15, 19, 14, 17, 15, 14, 16, 16, 16, 17, 17, 19, 15, 15, 20, 16, 18, 16, 17, 18, 18, 20, 34, 34, 22, 26, 25, 39, 23, 25, 28, 23, 22, 22, 21, 21, 26, 25, 30, 17, 20, 16, 18, 20, 17, 16, 16, 18, 13, 13, 13], \"yaxis\": \"y\"}, {\"hoverlabel\": {\"namelength\": 0}, \"hovertemplate\": \"OPINION=good<br>Date=%{x}<br>Max. Temperature=%{y}<br>Precipitation=%{marker.size}\", \"legendgroup\": \"OPINION=good\", \"marker\": {\"color\": \"rgb(242, 183, 1)\", \"size\": [0.0, 0.0, 0.0, 0.0, 5.3, 2.0, 0.0, 0.0, 0.0, 1.6, 7.8, 0.0, 0.0, 0.0, 0.8, 1.8, 7.5, 1.6, 0.0, 0.0, 0.5, 2.7, 0.0, 0.3, 0.0, 0.0, 0.0, 0.5, 0.0, 0.0, 0.9, 0.0, 0.0, 0.7, 1.0, 0.0, 0.0, 0.0, 0.6, 1.7, 0.0, 0.0, 0.0, 0.0, 0.0, 0.0, 0.0, 0.0, 0.0, 0.0, 0.8, 0.0, 1.2, 0.3, 0.0, 0.0, 0.0, 0.1, 5.5, 1.1, 0.0, 0.0, 0.0, 0.0, 0.0, 0.0, 0.0, 0.2, 0.0, 0.0, 0.0, 0.0, 0.3, 0.0, 0.0, 0.2, 0.0, 7.6, 0.0, 0.0, 0.0, 0.0, 0.0, 0.0, 0.0, 0.0, 0.0, 0.0, 0.2, 0.3, 1.5, 0.0, 0.0], \"sizemode\": \"area\", \"sizeref\": 0.11900000000000001, \"symbol\": \"circle\"}, \"mode\": \"markers\", \"name\": \"OPINION=good\", \"showlegend\": true, \"type\": \"scatter\", \"x\": [\"2019-02-23\", \"2019-02-26\", \"2019-02-27\", \"2019-03-22\", \"2019-03-31\", \"2019-04-01\", \"2019-04-17\", \"2019-04-18\", \"2019-04-19\", \"2019-04-20\", \"2019-04-21\", \"2019-04-30\", \"2019-05-14\", \"2019-05-15\", \"2019-05-21\", \"2019-05-22\", \"2019-05-23\", \"2019-05-24\", \"2019-05-31\", \"2019-06-02\", \"2019-06-03\", \"2019-06-06\", \"2019-06-14\", \"2019-06-16\", \"2019-06-17\", \"2019-06-18\", \"2019-06-20\", \"2019-06-21\", \"2019-06-22\", \"2019-06-23\", \"2019-06-25\", \"2019-06-26\", \"2019-06-29\", \"2019-06-30\", \"2019-07-01\", \"2019-07-02\", \"2019-07-03\", \"2019-07-04\", \"2019-07-05\", \"2019-07-07\", \"2019-07-08\", \"2019-07-09\", \"2019-07-10\", \"2019-07-11\", \"2019-07-13\", \"2019-07-14\", \"2019-07-15\", \"2019-07-16\", \"2019-07-21\", \"2019-07-24\", \"2019-07-25\", \"2019-07-28\", \"2019-07-29\", \"2019-07-31\", \"2019-08-01\", \"2019-08-03\", \"2019-08-04\", \"2019-08-07\", \"2019-08-09\", \"2019-08-11\", \"2019-08-16\", \"2019-08-20\", \"2019-08-22\", \"2019-08-23\", \"2019-08-24\", \"2019-08-25\", \"2019-08-26\", \"2019-08-27\", \"2019-08-31\", \"2019-09-01\", \"2019-09-02\", \"2019-09-03\", \"2019-09-04\", \"2019-09-05\", \"2019-09-06\", \"2019-09-07\", \"2019-09-08\", \"2019-09-10\", \"2019-09-11\", \"2019-09-12\", \"2019-09-13\", \"2019-09-14\", \"2019-09-15\", \"2019-09-16\", \"2019-09-17\", \"2019-09-18\", \"2019-09-19\", \"2019-09-20\", \"2019-09-21\", \"2019-10-03\", \"2019-10-06\", \"2019-10-12\", \"2019-10-26\"], \"xaxis\": \"x\", \"y\": [18, 19, 20, 18, 19, 18, 19, 21, 24, 21, 21, 18, 18, 18, 20, 21, 21, 20, 25, 23, 20, 18, 19, 19, 25, 28, 20, 20, 23, 27, 26, 31, 32, 26, 24, 25, 26, 28, 30, 28, 27, 25, 28, 26, 27, 26, 26, 29, 26, 33, 32, 23, 24, 23, 27, 29, 26, 25, 23, 23, 22, 23, 28, 30, 33, 30, 33, 29, 23, 23, 24, 26, 20, 19, 23, 22, 21, 22, 22, 24, 28, 29, 31, 21, 27, 23, 23, 27, 28, 19, 18, 21, 19], \"yaxis\": \"y\"}, {\"hoverlabel\": {\"namelength\": 0}, \"hovertemplate\": \"OPINION=very good<br>Date=%{x}<br>Max. Temperature=%{y}<br>Precipitation=%{marker.size}\", \"legendgroup\": \"OPINION=very good\", \"marker\": {\"color\": \"rgb(231, 63, 116)\", \"size\": [0.0, 0.0, 0.0, 0.0], \"sizemode\": \"area\", \"sizeref\": 0.11900000000000001, \"symbol\": \"circle\"}, \"mode\": \"markers\", \"name\": \"OPINION=very good\", \"showlegend\": true, \"type\": \"scatter\", \"x\": [\"2019-06-01\", \"2019-07-17\", \"2019-07-22\", \"2019-08-02\"], \"xaxis\": \"x\", \"y\": [29, 27, 33, 29], \"yaxis\": \"y\"}],\n",
              "                        {\"height\": 800, \"legend\": {\"itemsizing\": \"constant\", \"tracegroupgap\": 0}, \"margin\": {\"t\": 60}, \"template\": {\"data\": {\"bar\": [{\"error_x\": {\"color\": \"#2a3f5f\"}, \"error_y\": {\"color\": \"#2a3f5f\"}, \"marker\": {\"line\": {\"color\": \"#E5ECF6\", \"width\": 0.5}}, \"type\": \"bar\"}], \"barpolar\": [{\"marker\": {\"line\": {\"color\": \"#E5ECF6\", \"width\": 0.5}}, \"type\": \"barpolar\"}], \"carpet\": [{\"aaxis\": {\"endlinecolor\": \"#2a3f5f\", \"gridcolor\": \"white\", \"linecolor\": \"white\", \"minorgridcolor\": \"white\", \"startlinecolor\": \"#2a3f5f\"}, \"baxis\": {\"endlinecolor\": \"#2a3f5f\", \"gridcolor\": \"white\", \"linecolor\": \"white\", \"minorgridcolor\": \"white\", \"startlinecolor\": \"#2a3f5f\"}, \"type\": \"carpet\"}], \"choropleth\": [{\"colorbar\": {\"outlinewidth\": 0, \"ticks\": \"\"}, \"type\": \"choropleth\"}], \"contour\": [{\"colorbar\": {\"outlinewidth\": 0, \"ticks\": \"\"}, \"colorscale\": [[0.0, \"#0d0887\"], [0.1111111111111111, \"#46039f\"], [0.2222222222222222, \"#7201a8\"], [0.3333333333333333, \"#9c179e\"], [0.4444444444444444, \"#bd3786\"], [0.5555555555555556, \"#d8576b\"], [0.6666666666666666, \"#ed7953\"], [0.7777777777777778, \"#fb9f3a\"], [0.8888888888888888, \"#fdca26\"], [1.0, \"#f0f921\"]], \"type\": \"contour\"}], \"contourcarpet\": [{\"colorbar\": {\"outlinewidth\": 0, \"ticks\": \"\"}, \"type\": \"contourcarpet\"}], \"heatmap\": [{\"colorbar\": {\"outlinewidth\": 0, \"ticks\": \"\"}, \"colorscale\": [[0.0, \"#0d0887\"], [0.1111111111111111, \"#46039f\"], [0.2222222222222222, \"#7201a8\"], [0.3333333333333333, \"#9c179e\"], [0.4444444444444444, \"#bd3786\"], [0.5555555555555556, \"#d8576b\"], [0.6666666666666666, \"#ed7953\"], [0.7777777777777778, \"#fb9f3a\"], [0.8888888888888888, \"#fdca26\"], [1.0, \"#f0f921\"]], \"type\": \"heatmap\"}], \"heatmapgl\": [{\"colorbar\": {\"outlinewidth\": 0, \"ticks\": \"\"}, \"colorscale\": [[0.0, \"#0d0887\"], [0.1111111111111111, \"#46039f\"], [0.2222222222222222, \"#7201a8\"], [0.3333333333333333, \"#9c179e\"], [0.4444444444444444, \"#bd3786\"], [0.5555555555555556, \"#d8576b\"], [0.6666666666666666, \"#ed7953\"], [0.7777777777777778, \"#fb9f3a\"], [0.8888888888888888, \"#fdca26\"], [1.0, \"#f0f921\"]], \"type\": \"heatmapgl\"}], \"histogram\": [{\"marker\": {\"colorbar\": {\"outlinewidth\": 0, \"ticks\": \"\"}}, \"type\": \"histogram\"}], \"histogram2d\": [{\"colorbar\": {\"outlinewidth\": 0, \"ticks\": \"\"}, \"colorscale\": [[0.0, \"#0d0887\"], [0.1111111111111111, \"#46039f\"], [0.2222222222222222, \"#7201a8\"], [0.3333333333333333, \"#9c179e\"], [0.4444444444444444, \"#bd3786\"], [0.5555555555555556, \"#d8576b\"], [0.6666666666666666, \"#ed7953\"], [0.7777777777777778, \"#fb9f3a\"], [0.8888888888888888, \"#fdca26\"], [1.0, \"#f0f921\"]], \"type\": \"histogram2d\"}], \"histogram2dcontour\": [{\"colorbar\": {\"outlinewidth\": 0, \"ticks\": \"\"}, \"colorscale\": [[0.0, \"#0d0887\"], [0.1111111111111111, \"#46039f\"], [0.2222222222222222, \"#7201a8\"], [0.3333333333333333, \"#9c179e\"], [0.4444444444444444, \"#bd3786\"], [0.5555555555555556, \"#d8576b\"], [0.6666666666666666, \"#ed7953\"], [0.7777777777777778, \"#fb9f3a\"], [0.8888888888888888, \"#fdca26\"], [1.0, \"#f0f921\"]], \"type\": \"histogram2dcontour\"}], \"mesh3d\": [{\"colorbar\": {\"outlinewidth\": 0, \"ticks\": \"\"}, \"type\": \"mesh3d\"}], \"parcoords\": [{\"line\": {\"colorbar\": {\"outlinewidth\": 0, \"ticks\": \"\"}}, \"type\": \"parcoords\"}], \"pie\": [{\"automargin\": true, \"type\": \"pie\"}], \"scatter\": [{\"marker\": {\"colorbar\": {\"outlinewidth\": 0, \"ticks\": \"\"}}, \"type\": \"scatter\"}], \"scatter3d\": [{\"line\": {\"colorbar\": {\"outlinewidth\": 0, \"ticks\": \"\"}}, \"marker\": {\"colorbar\": {\"outlinewidth\": 0, \"ticks\": \"\"}}, \"type\": \"scatter3d\"}], \"scattercarpet\": [{\"marker\": {\"colorbar\": {\"outlinewidth\": 0, \"ticks\": \"\"}}, \"type\": \"scattercarpet\"}], \"scattergeo\": [{\"marker\": {\"colorbar\": {\"outlinewidth\": 0, \"ticks\": \"\"}}, \"type\": \"scattergeo\"}], \"scattergl\": [{\"marker\": {\"colorbar\": {\"outlinewidth\": 0, \"ticks\": \"\"}}, \"type\": \"scattergl\"}], \"scattermapbox\": [{\"marker\": {\"colorbar\": {\"outlinewidth\": 0, \"ticks\": \"\"}}, \"type\": \"scattermapbox\"}], \"scatterpolar\": [{\"marker\": {\"colorbar\": {\"outlinewidth\": 0, \"ticks\": \"\"}}, \"type\": \"scatterpolar\"}], \"scatterpolargl\": [{\"marker\": {\"colorbar\": {\"outlinewidth\": 0, \"ticks\": \"\"}}, \"type\": \"scatterpolargl\"}], \"scatterternary\": [{\"marker\": {\"colorbar\": {\"outlinewidth\": 0, \"ticks\": \"\"}}, \"type\": \"scatterternary\"}], \"surface\": [{\"colorbar\": {\"outlinewidth\": 0, \"ticks\": \"\"}, \"colorscale\": [[0.0, \"#0d0887\"], [0.1111111111111111, \"#46039f\"], [0.2222222222222222, \"#7201a8\"], [0.3333333333333333, \"#9c179e\"], [0.4444444444444444, \"#bd3786\"], [0.5555555555555556, \"#d8576b\"], [0.6666666666666666, \"#ed7953\"], [0.7777777777777778, \"#fb9f3a\"], [0.8888888888888888, \"#fdca26\"], [1.0, \"#f0f921\"]], \"type\": \"surface\"}], \"table\": [{\"cells\": {\"fill\": {\"color\": \"#EBF0F8\"}, \"line\": {\"color\": \"white\"}}, \"header\": {\"fill\": {\"color\": \"#C8D4E3\"}, \"line\": {\"color\": \"white\"}}, \"type\": \"table\"}]}, \"layout\": {\"annotationdefaults\": {\"arrowcolor\": \"#2a3f5f\", \"arrowhead\": 0, \"arrowwidth\": 1}, \"coloraxis\": {\"colorbar\": {\"outlinewidth\": 0, \"ticks\": \"\"}}, \"colorscale\": {\"diverging\": [[0, \"#8e0152\"], [0.1, \"#c51b7d\"], [0.2, \"#de77ae\"], [0.3, \"#f1b6da\"], [0.4, \"#fde0ef\"], [0.5, \"#f7f7f7\"], [0.6, \"#e6f5d0\"], [0.7, \"#b8e186\"], [0.8, \"#7fbc41\"], [0.9, \"#4d9221\"], [1, \"#276419\"]], \"sequential\": [[0.0, \"#0d0887\"], [0.1111111111111111, \"#46039f\"], [0.2222222222222222, \"#7201a8\"], [0.3333333333333333, \"#9c179e\"], [0.4444444444444444, \"#bd3786\"], [0.5555555555555556, \"#d8576b\"], [0.6666666666666666, \"#ed7953\"], [0.7777777777777778, \"#fb9f3a\"], [0.8888888888888888, \"#fdca26\"], [1.0, \"#f0f921\"]], \"sequentialminus\": [[0.0, \"#0d0887\"], [0.1111111111111111, \"#46039f\"], [0.2222222222222222, \"#7201a8\"], [0.3333333333333333, \"#9c179e\"], [0.4444444444444444, \"#bd3786\"], [0.5555555555555556, \"#d8576b\"], [0.6666666666666666, \"#ed7953\"], [0.7777777777777778, \"#fb9f3a\"], [0.8888888888888888, \"#fdca26\"], [1.0, \"#f0f921\"]]}, \"colorway\": [\"#636efa\", \"#EF553B\", \"#00cc96\", \"#ab63fa\", \"#FFA15A\", \"#19d3f3\", \"#FF6692\", \"#B6E880\", \"#FF97FF\", \"#FECB52\"], \"font\": {\"color\": \"#2a3f5f\"}, \"geo\": {\"bgcolor\": \"white\", \"lakecolor\": \"white\", \"landcolor\": \"#E5ECF6\", \"showlakes\": true, \"showland\": true, \"subunitcolor\": \"white\"}, \"hoverlabel\": {\"align\": \"left\"}, \"hovermode\": \"closest\", \"mapbox\": {\"style\": \"light\"}, \"paper_bgcolor\": \"white\", \"plot_bgcolor\": \"#E5ECF6\", \"polar\": {\"angularaxis\": {\"gridcolor\": \"white\", \"linecolor\": \"white\", \"ticks\": \"\"}, \"bgcolor\": \"#E5ECF6\", \"radialaxis\": {\"gridcolor\": \"white\", \"linecolor\": \"white\", \"ticks\": \"\"}}, \"scene\": {\"xaxis\": {\"backgroundcolor\": \"#E5ECF6\", \"gridcolor\": \"white\", \"gridwidth\": 2, \"linecolor\": \"white\", \"showbackground\": true, \"ticks\": \"\", \"zerolinecolor\": \"white\"}, \"yaxis\": {\"backgroundcolor\": \"#E5ECF6\", \"gridcolor\": \"white\", \"gridwidth\": 2, \"linecolor\": \"white\", \"showbackground\": true, \"ticks\": \"\", \"zerolinecolor\": \"white\"}, \"zaxis\": {\"backgroundcolor\": \"#E5ECF6\", \"gridcolor\": \"white\", \"gridwidth\": 2, \"linecolor\": \"white\", \"showbackground\": true, \"ticks\": \"\", \"zerolinecolor\": \"white\"}}, \"shapedefaults\": {\"line\": {\"color\": \"#2a3f5f\"}}, \"ternary\": {\"aaxis\": {\"gridcolor\": \"white\", \"linecolor\": \"white\", \"ticks\": \"\"}, \"baxis\": {\"gridcolor\": \"white\", \"linecolor\": \"white\", \"ticks\": \"\"}, \"bgcolor\": \"#E5ECF6\", \"caxis\": {\"gridcolor\": \"white\", \"linecolor\": \"white\", \"ticks\": \"\"}}, \"title\": {\"x\": 0.05}, \"xaxis\": {\"automargin\": true, \"gridcolor\": \"white\", \"linecolor\": \"white\", \"ticks\": \"\", \"title\": {\"standoff\": 15}, \"zerolinecolor\": \"white\", \"zerolinewidth\": 2}, \"yaxis\": {\"automargin\": true, \"gridcolor\": \"white\", \"linecolor\": \"white\", \"ticks\": \"\", \"title\": {\"standoff\": 15}, \"zerolinecolor\": \"white\", \"zerolinewidth\": 2}}}, \"title\": {\"text\": \"<b>Opinion people on precipitation per day<b>\", \"x\": 0.5}, \"width\": 1200, \"xaxis\": {\"anchor\": \"y\", \"domain\": [0.0, 1.0], \"title\": {\"text\": \"Date\"}}, \"yaxis\": {\"anchor\": \"x\", \"domain\": [0.0, 1.0], \"title\": {\"text\": \"Max. Temperature\"}}},\n",
              "                        {\"responsive\": true}\n",
              "                    ).then(function(){\n",
              "                            \n",
              "var gd = document.getElementById('b37bed1b-16fe-4bb8-adb4-3de3d613c7d7');\n",
              "var x = new MutationObserver(function (mutations, observer) {{\n",
              "        var display = window.getComputedStyle(gd).display;\n",
              "        if (!display || display === 'none') {{\n",
              "            console.log([gd, 'removed!']);\n",
              "            Plotly.purge(gd);\n",
              "            observer.disconnect();\n",
              "        }}\n",
              "}});\n",
              "\n",
              "// Listen for the removal of the full notebook cells\n",
              "var notebookContainer = gd.closest('#notebook-container');\n",
              "if (notebookContainer) {{\n",
              "    x.observe(notebookContainer, {childList: true});\n",
              "}}\n",
              "\n",
              "// Listen for the clearing of the current output cell\n",
              "var outputEl = gd.closest('.output');\n",
              "if (outputEl) {{\n",
              "    x.observe(outputEl, {childList: true});\n",
              "}}\n",
              "\n",
              "                        })\n",
              "                };\n",
              "                \n",
              "            </script>\n",
              "        </div>\n",
              "</body>\n",
              "</html>"
            ]
          },
          "metadata": {}
        }
      ]
    },
    {
      "cell_type": "markdown",
      "metadata": {
        "id": "T536w8ZWrQay"
      },
      "source": [
        "### ***Which period is the rainiest ?***\n",
        "#### The period is the rainiest is between end of January 2019 and end of March 2019, the second period is the rainiest is between november 2019 and end decemberin the same year.\n"
      ]
    },
    {
      "cell_type": "markdown",
      "metadata": {
        "id": "JPZTKjbP9pzK"
      },
      "source": [
        "## Figure with multi-charts"
      ]
    },
    {
      "cell_type": "code",
      "metadata": {
        "id": "3AP-40Z-17se",
        "colab": {
          "base_uri": "https://localhost:8080/",
          "height": 867
        },
        "outputId": "86601c6c-aa3c-449d-c84c-520cce661532"
      },
      "source": [
        "# Draw a scatterplot with Max Temperature on Y-axis, and Precipitation on X-axis.\n",
        "# Not really \"one\" scatterplot, but 5 charts on columns, one by opinion. Maybe with the \"facet_col\" argument ?\n",
        "# Could you add an hover name (when you overview with the mouse) with the Month ?\n",
        "\n",
        "fig = px.scatter(data_frame=df_weather, x=\"MAX_TEMPERATURE_C\", y='PRECIP_TOTAL_DAY_MM', facet_col='OPINION', color='MONTH', \n",
        "                 hover_name='MONTH',\n",
        "                 labels={'OPINION':'Opinions', 'MAX_TEMPERATURE_C':'Max. Temperature', 'PRECIP_TOTAL_DAY_MM':'Precipitation per day'})\n",
        " \n",
        "fig.update_layout(title_text ='<b>Opinion people on precipitation  and temp. max<b>',                  \n",
        "                  title_x = 0.5,\n",
        "                  width = 1200, height = 850)\n",
        "fig.show()\n",
        "\n"
      ],
      "execution_count": null,
      "outputs": [
        {
          "output_type": "display_data",
          "data": {
            "text/html": [
              "<html>\n",
              "<head><meta charset=\"utf-8\" /></head>\n",
              "<body>\n",
              "    <div>\n",
              "            <script src=\"https://cdnjs.cloudflare.com/ajax/libs/mathjax/2.7.5/MathJax.js?config=TeX-AMS-MML_SVG\"></script><script type=\"text/javascript\">if (window.MathJax) {MathJax.Hub.Config({SVG: {font: \"STIX-Web\"}});}</script>\n",
              "                <script type=\"text/javascript\">window.PlotlyConfig = {MathJaxConfig: 'local'};</script>\n",
              "        <script src=\"https://cdn.plot.ly/plotly-latest.min.js\"></script>    \n",
              "            <div id=\"03f3371c-e171-40ab-ad8c-8cc9fb693707\" class=\"plotly-graph-div\" style=\"height:850px; width:1200px;\"></div>\n",
              "            <script type=\"text/javascript\">\n",
              "                \n",
              "                    window.PLOTLYENV=window.PLOTLYENV || {};\n",
              "                    \n",
              "                if (document.getElementById(\"03f3371c-e171-40ab-ad8c-8cc9fb693707\")) {\n",
              "                    Plotly.newPlot(\n",
              "                        '03f3371c-e171-40ab-ad8c-8cc9fb693707',\n",
              "                        [{\"hoverlabel\": {\"namelength\": 0}, \"hovertemplate\": \"<b>%{hovertext}</b><br><br>Opinions=very bad<br>Max. Temperature=%{x}<br>Precipitation per day=%{y}<br>MONTH=%{marker.color}\", \"hovertext\": [1.0, 1.0, 1.0, 1.0, 1.0, 1.0, 1.0, 1.0, 1.0, 1.0, 1.0, 1.0, 1.0, 1.0, 1.0, 1.0, 1.0, 1.0, 1.0, 1.0, 1.0, 1.0, 1.0, 1.0, 1.0, 2.0, 2.0, 2.0, 2.0, 2.0, 2.0, 2.0, 2.0, 2.0, 2.0, 3.0, 3.0, 3.0, 3.0, 3.0, 3.0, 3.0, 3.0, 3.0, 4.0, 4.0, 4.0, 4.0, 4.0, 4.0, 4.0, 4.0, 5.0, 5.0, 5.0, 6.0, 7.0, 9.0, 10.0, 11.0, 11.0, 11.0, 11.0, 11.0, 11.0, 11.0, 11.0, 11.0, 11.0, 11.0, 11.0, 11.0, 11.0, 11.0, 11.0, 12.0, 12.0, 12.0, 12.0, 12.0, 12.0, 12.0, 12.0, 12.0, 12.0, 12.0, 12.0, 12.0, 12.0, 12.0, 12.0, 12.0, 12.0, 12.0, 12.0, 12.0, 12.0, 12.0], \"legendgroup\": \"\", \"marker\": {\"color\": [1, 1, 1, 1, 1, 1, 1, 1, 1, 1, 1, 1, 1, 1, 1, 1, 1, 1, 1, 1, 1, 1, 1, 1, 1, 2, 2, 2, 2, 2, 2, 2, 2, 2, 2, 3, 3, 3, 3, 3, 3, 3, 3, 3, 4, 4, 4, 4, 4, 4, 4, 4, 5, 5, 5, 6, 7, 9, 10, 11, 11, 11, 11, 11, 11, 11, 11, 11, 11, 11, 11, 11, 11, 11, 11, 12, 12, 12, 12, 12, 12, 12, 12, 12, 12, 12, 12, 12, 12, 12, 12, 12, 12, 12, 12, 12, 12, 12], \"coloraxis\": \"coloraxis\", \"symbol\": \"circle\"}, \"mode\": \"markers\", \"name\": \"\", \"showlegend\": false, \"type\": \"scatter\", \"x\": [9, 8, 6, 5, 6, 5, 10, 7, 7, 10, 9, 9, 8, 9, 7, 7, 7, 8, 7, 7, 8, 8, 9, 7, 8, 7, 8, 7, 10, 11, 10, 12, 10, 12, 12, 12, 12, 11, 11, 11, 11, 12, 12, 12, 10, 10, 10, 10, 12, 12, 9, 14, 11, 12, 15, 15, 22, 20, 14, 14, 11, 11, 10, 11, 9, 11, 8, 9, 8, 10, 9, 7, 11, 10, 12, 7, 7, 7, 8, 7, 11, 11, 9, 12, 10, 10, 11, 13, 12, 11, 10, 10, 14, 12, 11, 9, 12, 10], \"xaxis\": \"x\", \"y\": [0.2, 0.0, 0.0, 0.0, 0.0, 0.0, 0.0, 0.0, 0.1, 0.2, 0.0, 0.0, 1.3, 1.2, 0.1, 0.2, 0.0, 9.8, 1.3, 2.4, 5.9, 2.6, 15.1, 2.0, 4.3, 1.0, 0.0, 18.6, 0.8, 29.1, 0.1, 0.0, 0.0, 0.9, 2.5, 47.6, 0.2, 0.1, 4.2, 5.0, 1.1, 1.0, 0.1, 0.0, 5.2, 1.1, 10.1, 6.1, 1.6, 0.0, 2.3, 18.9, 0.6, 0.3, 17.8, 27.3, 16.3, 24.1, 4.3, 30.0, 11.4, 3.2, 10.1, 2.1, 4.8, 11.2, 2.3, 10.3, 0.0, 0.0, 0.0, 0.0, 16.0, 8.5, 2.7, 0.0, 0.0, 0.0, 0.0, 0.0, 0.3, 0.9, 5.9, 18.2, 2.2, 5.0, 16.1, 31.0, 35.1, 16.4, 3.0, 9.0, 16.7, 0.2, 0.0, 0.0, 0.0, 0.1], \"yaxis\": \"y\"}, {\"hoverlabel\": {\"namelength\": 0}, \"hovertemplate\": \"<b>%{hovertext}</b><br><br>Opinions=bad<br>Max. Temperature=%{x}<br>Precipitation per day=%{y}<br>MONTH=%{marker.color}\", \"hovertext\": [1.0, 1.0, 1.0, 1.0, 1.0, 1.0, 2.0, 2.0, 2.0, 2.0, 2.0, 2.0, 3.0, 3.0, 3.0, 3.0, 3.0, 3.0, 3.0, 3.0, 3.0, 4.0, 4.0, 4.0, 4.0, 4.0, 4.0, 4.0, 5.0, 5.0, 5.0, 5.0, 5.0, 5.0, 5.0, 5.0, 5.0, 6.0, 6.0, 6.0, 6.0, 7.0, 7.0, 7.0, 8.0, 8.0, 8.0, 8.0, 8.0, 9.0, 9.0, 9.0, 9.0, 9.0, 9.0, 9.0, 10.0, 10.0, 10.0, 10.0, 10.0, 10.0, 10.0, 10.0, 10.0, 10.0, 10.0, 10.0, 10.0, 10.0, 10.0, 10.0, 10.0, 10.0, 10.0, 11.0, 11.0, 11.0, 11.0, 11.0, 11.0, 11.0, 11.0, 11.0, 11.0, 11.0, 11.0, 12.0, 12.0, 12.0, 12.0, 12.0, 12.0, 12.0], \"legendgroup\": \"\", \"marker\": {\"color\": [1, 1, 1, 1, 1, 1, 2, 2, 2, 2, 2, 2, 3, 3, 3, 3, 3, 3, 3, 3, 3, 4, 4, 4, 4, 4, 4, 4, 5, 5, 5, 5, 5, 5, 5, 5, 5, 6, 6, 6, 6, 7, 7, 7, 8, 8, 8, 8, 8, 9, 9, 9, 9, 9, 9, 9, 10, 10, 10, 10, 10, 10, 10, 10, 10, 10, 10, 10, 10, 10, 10, 10, 10, 10, 10, 11, 11, 11, 11, 11, 11, 11, 11, 11, 11, 11, 11, 12, 12, 12, 12, 12, 12, 12], \"coloraxis\": \"coloraxis\", \"symbol\": \"circle\"}, \"mode\": \"markers\", \"name\": \"\", \"showlegend\": false, \"type\": \"scatter\", \"x\": [10, 10, 10, 11, 11, 10, 9, 12, 11, 11, 12, 13, 14, 11, 11, 13, 12, 10, 11, 13, 11, 12, 14, 18, 13, 13, 12, 16, 15, 15, 15, 15, 14, 17, 18, 17, 19, 19, 15, 16, 23, 31, 26, 21, 23, 22, 20, 19, 24, 21, 17, 19, 19, 19, 20, 21, 19, 19, 17, 18, 18, 20, 20, 16, 16, 16, 16, 15, 15, 14, 15, 12, 14, 17, 16, 17, 14, 13, 12, 11, 11, 12, 13, 14, 13, 13, 9, 13, 13, 11, 12, 12, 12, 11], \"xaxis\": \"x2\", \"y\": [0.2, 0.1, 0.1, 4.4, 4.6, 2.1, 7.3, 9.4, 4.0, 1.6, 6.3, 0.9, 5.4, 11.1, 3.4, 5.3, 1.2, 0.9, 0.5, 1.1, 0.5, 1.8, 3.0, 2.7, 4.4, 1.4, 0.4, 0.0, 0.4, 0.5, 4.4, 1.7, 6.0, 3.6, 7.0, 0.5, 1.4, 6.3, 3.4, 5.1, 14.1, 7.5, 0.2, 6.1, 4.4, 2.4, 0.8, 7.3, 0.0, 6.9, 2.0, 0.5, 1.3, 1.1, 5.3, 0.8, 5.7, 0.2, 1.1, 0.4, 3.9, 1.6, 2.7, 1.2, 13.1, 5.3, 7.7, 1.2, 9.9, 9.5, 4.6, 1.7, 2.3, 3.2, 8.9, 14.5, 11.0, 4.2, 8.0, 3.8, 1.8, 3.8, 8.6, 9.7, 3.8, 1.9, 13.7, 0.4, 9.1, 0.6, 4.8, 2.6, 0.0, 0.0], \"yaxis\": \"y2\"}, {\"hoverlabel\": {\"namelength\": 0}, \"hovertemplate\": \"<b>%{hovertext}</b><br><br>Opinions=not good not bad<br>Max. Temperature=%{x}<br>Precipitation per day=%{y}<br>MONTH=%{marker.color}\", \"hovertext\": [2.0, 2.0, 2.0, 2.0, 2.0, 2.0, 2.0, 2.0, 2.0, 3.0, 3.0, 3.0, 3.0, 3.0, 3.0, 3.0, 3.0, 3.0, 3.0, 3.0, 4.0, 4.0, 4.0, 4.0, 4.0, 4.0, 4.0, 4.0, 5.0, 5.0, 5.0, 5.0, 5.0, 5.0, 5.0, 5.0, 5.0, 5.0, 5.0, 5.0, 6.0, 6.0, 6.0, 6.0, 6.0, 6.0, 6.0, 6.0, 6.0, 7.0, 7.0, 7.0, 7.0, 7.0, 8.0, 8.0, 8.0, 8.0, 8.0, 8.0, 8.0, 8.0, 8.0, 8.0, 9.0, 9.0, 10.0, 10.0, 10.0, 10.0, 10.0, 10.0, 10.0, 11.0, 11.0, 12.0], \"legendgroup\": \"\", \"marker\": {\"color\": [2, 2, 2, 2, 2, 2, 2, 2, 2, 3, 3, 3, 3, 3, 3, 3, 3, 3, 3, 3, 4, 4, 4, 4, 4, 4, 4, 4, 5, 5, 5, 5, 5, 5, 5, 5, 5, 5, 5, 5, 6, 6, 6, 6, 6, 6, 6, 6, 6, 7, 7, 7, 7, 7, 8, 8, 8, 8, 8, 8, 8, 8, 8, 8, 9, 9, 10, 10, 10, 10, 10, 10, 10, 11, 11, 12], \"coloraxis\": \"coloraxis\", \"symbol\": \"circle\"}, \"mode\": \"markers\", \"name\": \"\", \"showlegend\": false, \"type\": \"scatter\", \"x\": [13, 15, 14, 15, 13, 17, 17, 14, 15, 14, 13, 13, 13, 15, 17, 13, 13, 14, 16, 17, 16, 14, 14, 14, 14, 15, 19, 14, 17, 15, 14, 16, 16, 16, 17, 17, 19, 15, 15, 20, 16, 18, 16, 17, 18, 18, 20, 34, 34, 22, 26, 25, 39, 23, 25, 28, 23, 22, 22, 21, 21, 26, 25, 30, 17, 20, 16, 18, 20, 17, 16, 16, 18, 13, 13, 13], \"xaxis\": \"x3\", \"y\": [0.0, 0.0, 0.0, 0.0, 0.0, 0.0, 0.0, 0.0, 0.0, 0.0, 4.9, 1.1, 0.6, 0.1, 0.0, 0.1, 0.0, 0.0, 0.1, 2.5, 0.8, 1.9, 0.1, 0.0, 6.2, 12.3, 6.0, 2.0, 6.0, 0.0, 1.2, 2.0, 0.0, 0.0, 0.0, 4.6, 0.5, 1.2, 0.2, 0.0, 1.5, 3.4, 4.0, 2.7, 2.3, 0.6, 0.9, 0.0, 0.0, 0.0, 0.0, 2.1, 0.0, 2.8, 0.1, 0.0, 0.2, 0.0, 0.7, 9.9, 0.5, 0.0, 0.0, 0.0, 8.4, 1.4, 2.6, 0.5, 0.0, 1.3, 1.1, 1.5, 0.8, 1.1, 0.1, 0.0], \"yaxis\": \"y3\"}, {\"hoverlabel\": {\"namelength\": 0}, \"hovertemplate\": \"<b>%{hovertext}</b><br><br>Opinions=good<br>Max. Temperature=%{x}<br>Precipitation per day=%{y}<br>MONTH=%{marker.color}\", \"hovertext\": [2.0, 2.0, 2.0, 3.0, 3.0, 4.0, 4.0, 4.0, 4.0, 4.0, 4.0, 4.0, 5.0, 5.0, 5.0, 5.0, 5.0, 5.0, 5.0, 6.0, 6.0, 6.0, 6.0, 6.0, 6.0, 6.0, 6.0, 6.0, 6.0, 6.0, 6.0, 6.0, 6.0, 6.0, 7.0, 7.0, 7.0, 7.0, 7.0, 7.0, 7.0, 7.0, 7.0, 7.0, 7.0, 7.0, 7.0, 7.0, 7.0, 7.0, 7.0, 7.0, 7.0, 7.0, 8.0, 8.0, 8.0, 8.0, 8.0, 8.0, 8.0, 8.0, 8.0, 8.0, 8.0, 8.0, 8.0, 8.0, 8.0, 9.0, 9.0, 9.0, 9.0, 9.0, 9.0, 9.0, 9.0, 9.0, 9.0, 9.0, 9.0, 9.0, 9.0, 9.0, 9.0, 9.0, 9.0, 9.0, 9.0, 10.0, 10.0, 10.0, 10.0], \"legendgroup\": \"\", \"marker\": {\"color\": [2, 2, 2, 3, 3, 4, 4, 4, 4, 4, 4, 4, 5, 5, 5, 5, 5, 5, 5, 6, 6, 6, 6, 6, 6, 6, 6, 6, 6, 6, 6, 6, 6, 6, 7, 7, 7, 7, 7, 7, 7, 7, 7, 7, 7, 7, 7, 7, 7, 7, 7, 7, 7, 7, 8, 8, 8, 8, 8, 8, 8, 8, 8, 8, 8, 8, 8, 8, 8, 9, 9, 9, 9, 9, 9, 9, 9, 9, 9, 9, 9, 9, 9, 9, 9, 9, 9, 9, 9, 10, 10, 10, 10], \"coloraxis\": \"coloraxis\", \"symbol\": \"circle\"}, \"mode\": \"markers\", \"name\": \"\", \"showlegend\": false, \"type\": \"scatter\", \"x\": [18, 19, 20, 18, 19, 18, 19, 21, 24, 21, 21, 18, 18, 18, 20, 21, 21, 20, 25, 23, 20, 18, 19, 19, 25, 28, 20, 20, 23, 27, 26, 31, 32, 26, 24, 25, 26, 28, 30, 28, 27, 25, 28, 26, 27, 26, 26, 29, 26, 33, 32, 23, 24, 23, 27, 29, 26, 25, 23, 23, 22, 23, 28, 30, 33, 30, 33, 29, 23, 23, 24, 26, 20, 19, 23, 22, 21, 22, 22, 24, 28, 29, 31, 21, 27, 23, 23, 27, 28, 19, 18, 21, 19], \"xaxis\": \"x4\", \"y\": [0.0, 0.0, 0.0, 0.0, 5.3, 2.0, 0.0, 0.0, 0.0, 1.6, 7.8, 0.0, 0.0, 0.0, 0.8, 1.8, 7.5, 1.6, 0.0, 0.0, 0.5, 2.7, 0.0, 0.3, 0.0, 0.0, 0.0, 0.5, 0.0, 0.0, 0.9, 0.0, 0.0, 0.7, 1.0, 0.0, 0.0, 0.0, 0.6, 1.7, 0.0, 0.0, 0.0, 0.0, 0.0, 0.0, 0.0, 0.0, 0.0, 0.0, 0.8, 0.0, 1.2, 0.3, 0.0, 0.0, 0.0, 0.1, 5.5, 1.1, 0.0, 0.0, 0.0, 0.0, 0.0, 0.0, 0.0, 0.2, 0.0, 0.0, 0.0, 0.0, 0.3, 0.0, 0.0, 0.2, 0.0, 7.6, 0.0, 0.0, 0.0, 0.0, 0.0, 0.0, 0.0, 0.0, 0.0, 0.0, 0.2, 0.3, 1.5, 0.0, 0.0], \"yaxis\": \"y4\"}, {\"hoverlabel\": {\"namelength\": 0}, \"hovertemplate\": \"<b>%{hovertext}</b><br><br>Opinions=very good<br>Max. Temperature=%{x}<br>Precipitation per day=%{y}<br>MONTH=%{marker.color}\", \"hovertext\": [6.0, 7.0, 7.0, 8.0], \"legendgroup\": \"\", \"marker\": {\"color\": [6, 7, 7, 8], \"coloraxis\": \"coloraxis\", \"symbol\": \"circle\"}, \"mode\": \"markers\", \"name\": \"\", \"showlegend\": false, \"type\": \"scatter\", \"x\": [29, 27, 33, 29], \"xaxis\": \"x5\", \"y\": [0.0, 0.0, 0.0, 0.0], \"yaxis\": \"y5\"}],\n",
              "                        {\"annotations\": [{\"font\": {}, \"showarrow\": false, \"text\": \"Opinions=very bad\", \"x\": 0.09200000000000001, \"xanchor\": \"center\", \"xref\": \"paper\", \"y\": 1.0, \"yanchor\": \"bottom\", \"yref\": \"paper\"}, {\"font\": {}, \"showarrow\": false, \"text\": \"Opinions=bad\", \"x\": 0.29600000000000004, \"xanchor\": \"center\", \"xref\": \"paper\", \"y\": 1.0, \"yanchor\": \"bottom\", \"yref\": \"paper\"}, {\"font\": {}, \"showarrow\": false, \"text\": \"Opinions=not good not bad\", \"x\": 0.5, \"xanchor\": \"center\", \"xref\": \"paper\", \"y\": 1.0, \"yanchor\": \"bottom\", \"yref\": \"paper\"}, {\"font\": {}, \"showarrow\": false, \"text\": \"Opinions=good\", \"x\": 0.7040000000000002, \"xanchor\": \"center\", \"xref\": \"paper\", \"y\": 1.0, \"yanchor\": \"bottom\", \"yref\": \"paper\"}, {\"font\": {}, \"showarrow\": false, \"text\": \"Opinions=very good\", \"x\": 0.908, \"xanchor\": \"center\", \"xref\": \"paper\", \"y\": 1.0, \"yanchor\": \"bottom\", \"yref\": \"paper\"}], \"coloraxis\": {\"colorbar\": {\"title\": {\"text\": \"MONTH\"}}, \"colorscale\": [[0.0, \"#0d0887\"], [0.1111111111111111, \"#46039f\"], [0.2222222222222222, \"#7201a8\"], [0.3333333333333333, \"#9c179e\"], [0.4444444444444444, \"#bd3786\"], [0.5555555555555556, \"#d8576b\"], [0.6666666666666666, \"#ed7953\"], [0.7777777777777778, \"#fb9f3a\"], [0.8888888888888888, \"#fdca26\"], [1.0, \"#f0f921\"]]}, \"height\": 850, \"legend\": {\"tracegroupgap\": 0}, \"margin\": {\"t\": 60}, \"template\": {\"data\": {\"bar\": [{\"error_x\": {\"color\": \"#2a3f5f\"}, \"error_y\": {\"color\": \"#2a3f5f\"}, \"marker\": {\"line\": {\"color\": \"#E5ECF6\", \"width\": 0.5}}, \"type\": \"bar\"}], \"barpolar\": [{\"marker\": {\"line\": {\"color\": \"#E5ECF6\", \"width\": 0.5}}, \"type\": \"barpolar\"}], \"carpet\": [{\"aaxis\": {\"endlinecolor\": \"#2a3f5f\", \"gridcolor\": \"white\", \"linecolor\": \"white\", \"minorgridcolor\": \"white\", \"startlinecolor\": \"#2a3f5f\"}, \"baxis\": {\"endlinecolor\": \"#2a3f5f\", \"gridcolor\": \"white\", \"linecolor\": \"white\", \"minorgridcolor\": \"white\", \"startlinecolor\": \"#2a3f5f\"}, \"type\": \"carpet\"}], \"choropleth\": [{\"colorbar\": {\"outlinewidth\": 0, \"ticks\": \"\"}, \"type\": \"choropleth\"}], \"contour\": [{\"colorbar\": {\"outlinewidth\": 0, \"ticks\": \"\"}, \"colorscale\": [[0.0, \"#0d0887\"], [0.1111111111111111, \"#46039f\"], [0.2222222222222222, \"#7201a8\"], [0.3333333333333333, \"#9c179e\"], [0.4444444444444444, \"#bd3786\"], [0.5555555555555556, \"#d8576b\"], [0.6666666666666666, \"#ed7953\"], [0.7777777777777778, \"#fb9f3a\"], [0.8888888888888888, \"#fdca26\"], [1.0, \"#f0f921\"]], \"type\": \"contour\"}], \"contourcarpet\": [{\"colorbar\": {\"outlinewidth\": 0, \"ticks\": \"\"}, \"type\": \"contourcarpet\"}], \"heatmap\": [{\"colorbar\": {\"outlinewidth\": 0, \"ticks\": \"\"}, \"colorscale\": [[0.0, \"#0d0887\"], [0.1111111111111111, \"#46039f\"], [0.2222222222222222, \"#7201a8\"], [0.3333333333333333, \"#9c179e\"], [0.4444444444444444, \"#bd3786\"], [0.5555555555555556, \"#d8576b\"], [0.6666666666666666, \"#ed7953\"], [0.7777777777777778, \"#fb9f3a\"], [0.8888888888888888, \"#fdca26\"], [1.0, \"#f0f921\"]], \"type\": \"heatmap\"}], \"heatmapgl\": [{\"colorbar\": {\"outlinewidth\": 0, \"ticks\": \"\"}, \"colorscale\": [[0.0, \"#0d0887\"], [0.1111111111111111, \"#46039f\"], [0.2222222222222222, \"#7201a8\"], [0.3333333333333333, \"#9c179e\"], [0.4444444444444444, \"#bd3786\"], [0.5555555555555556, \"#d8576b\"], [0.6666666666666666, \"#ed7953\"], [0.7777777777777778, \"#fb9f3a\"], [0.8888888888888888, \"#fdca26\"], [1.0, \"#f0f921\"]], \"type\": \"heatmapgl\"}], \"histogram\": [{\"marker\": {\"colorbar\": {\"outlinewidth\": 0, \"ticks\": \"\"}}, \"type\": \"histogram\"}], \"histogram2d\": [{\"colorbar\": {\"outlinewidth\": 0, \"ticks\": \"\"}, \"colorscale\": [[0.0, \"#0d0887\"], [0.1111111111111111, \"#46039f\"], [0.2222222222222222, \"#7201a8\"], [0.3333333333333333, \"#9c179e\"], [0.4444444444444444, \"#bd3786\"], [0.5555555555555556, \"#d8576b\"], [0.6666666666666666, \"#ed7953\"], [0.7777777777777778, \"#fb9f3a\"], [0.8888888888888888, \"#fdca26\"], [1.0, \"#f0f921\"]], \"type\": \"histogram2d\"}], \"histogram2dcontour\": [{\"colorbar\": {\"outlinewidth\": 0, \"ticks\": \"\"}, \"colorscale\": [[0.0, \"#0d0887\"], [0.1111111111111111, \"#46039f\"], [0.2222222222222222, \"#7201a8\"], [0.3333333333333333, \"#9c179e\"], [0.4444444444444444, \"#bd3786\"], [0.5555555555555556, \"#d8576b\"], [0.6666666666666666, \"#ed7953\"], [0.7777777777777778, \"#fb9f3a\"], [0.8888888888888888, \"#fdca26\"], [1.0, \"#f0f921\"]], \"type\": \"histogram2dcontour\"}], \"mesh3d\": [{\"colorbar\": {\"outlinewidth\": 0, \"ticks\": \"\"}, \"type\": \"mesh3d\"}], \"parcoords\": [{\"line\": {\"colorbar\": {\"outlinewidth\": 0, \"ticks\": \"\"}}, \"type\": \"parcoords\"}], \"pie\": [{\"automargin\": true, \"type\": \"pie\"}], \"scatter\": [{\"marker\": {\"colorbar\": {\"outlinewidth\": 0, \"ticks\": \"\"}}, \"type\": \"scatter\"}], \"scatter3d\": [{\"line\": {\"colorbar\": {\"outlinewidth\": 0, \"ticks\": \"\"}}, \"marker\": {\"colorbar\": {\"outlinewidth\": 0, \"ticks\": \"\"}}, \"type\": \"scatter3d\"}], \"scattercarpet\": [{\"marker\": {\"colorbar\": {\"outlinewidth\": 0, \"ticks\": \"\"}}, \"type\": \"scattercarpet\"}], \"scattergeo\": [{\"marker\": {\"colorbar\": {\"outlinewidth\": 0, \"ticks\": \"\"}}, \"type\": \"scattergeo\"}], \"scattergl\": [{\"marker\": {\"colorbar\": {\"outlinewidth\": 0, \"ticks\": \"\"}}, \"type\": \"scattergl\"}], \"scattermapbox\": [{\"marker\": {\"colorbar\": {\"outlinewidth\": 0, \"ticks\": \"\"}}, \"type\": \"scattermapbox\"}], \"scatterpolar\": [{\"marker\": {\"colorbar\": {\"outlinewidth\": 0, \"ticks\": \"\"}}, \"type\": \"scatterpolar\"}], \"scatterpolargl\": [{\"marker\": {\"colorbar\": {\"outlinewidth\": 0, \"ticks\": \"\"}}, \"type\": \"scatterpolargl\"}], \"scatterternary\": [{\"marker\": {\"colorbar\": {\"outlinewidth\": 0, \"ticks\": \"\"}}, \"type\": \"scatterternary\"}], \"surface\": [{\"colorbar\": {\"outlinewidth\": 0, \"ticks\": \"\"}, \"colorscale\": [[0.0, \"#0d0887\"], [0.1111111111111111, \"#46039f\"], [0.2222222222222222, \"#7201a8\"], [0.3333333333333333, \"#9c179e\"], [0.4444444444444444, \"#bd3786\"], [0.5555555555555556, \"#d8576b\"], [0.6666666666666666, \"#ed7953\"], [0.7777777777777778, \"#fb9f3a\"], [0.8888888888888888, \"#fdca26\"], [1.0, \"#f0f921\"]], \"type\": \"surface\"}], \"table\": [{\"cells\": {\"fill\": {\"color\": \"#EBF0F8\"}, \"line\": {\"color\": \"white\"}}, \"header\": {\"fill\": {\"color\": \"#C8D4E3\"}, \"line\": {\"color\": \"white\"}}, \"type\": \"table\"}]}, \"layout\": {\"annotationdefaults\": {\"arrowcolor\": \"#2a3f5f\", \"arrowhead\": 0, \"arrowwidth\": 1}, \"coloraxis\": {\"colorbar\": {\"outlinewidth\": 0, \"ticks\": \"\"}}, \"colorscale\": {\"diverging\": [[0, \"#8e0152\"], [0.1, \"#c51b7d\"], [0.2, \"#de77ae\"], [0.3, \"#f1b6da\"], [0.4, \"#fde0ef\"], [0.5, \"#f7f7f7\"], [0.6, \"#e6f5d0\"], [0.7, \"#b8e186\"], [0.8, \"#7fbc41\"], [0.9, \"#4d9221\"], [1, \"#276419\"]], \"sequential\": [[0.0, \"#0d0887\"], [0.1111111111111111, \"#46039f\"], [0.2222222222222222, \"#7201a8\"], [0.3333333333333333, \"#9c179e\"], [0.4444444444444444, \"#bd3786\"], [0.5555555555555556, \"#d8576b\"], [0.6666666666666666, \"#ed7953\"], [0.7777777777777778, \"#fb9f3a\"], [0.8888888888888888, \"#fdca26\"], [1.0, \"#f0f921\"]], \"sequentialminus\": [[0.0, \"#0d0887\"], [0.1111111111111111, \"#46039f\"], [0.2222222222222222, \"#7201a8\"], [0.3333333333333333, \"#9c179e\"], [0.4444444444444444, \"#bd3786\"], [0.5555555555555556, \"#d8576b\"], [0.6666666666666666, \"#ed7953\"], [0.7777777777777778, \"#fb9f3a\"], [0.8888888888888888, \"#fdca26\"], [1.0, \"#f0f921\"]]}, \"colorway\": [\"#636efa\", \"#EF553B\", \"#00cc96\", \"#ab63fa\", \"#FFA15A\", \"#19d3f3\", \"#FF6692\", \"#B6E880\", \"#FF97FF\", \"#FECB52\"], \"font\": {\"color\": \"#2a3f5f\"}, \"geo\": {\"bgcolor\": \"white\", \"lakecolor\": \"white\", \"landcolor\": \"#E5ECF6\", \"showlakes\": true, \"showland\": true, \"subunitcolor\": \"white\"}, \"hoverlabel\": {\"align\": \"left\"}, \"hovermode\": \"closest\", \"mapbox\": {\"style\": \"light\"}, \"paper_bgcolor\": \"white\", \"plot_bgcolor\": \"#E5ECF6\", \"polar\": {\"angularaxis\": {\"gridcolor\": \"white\", \"linecolor\": \"white\", \"ticks\": \"\"}, \"bgcolor\": \"#E5ECF6\", \"radialaxis\": {\"gridcolor\": \"white\", \"linecolor\": \"white\", \"ticks\": \"\"}}, \"scene\": {\"xaxis\": {\"backgroundcolor\": \"#E5ECF6\", \"gridcolor\": \"white\", \"gridwidth\": 2, \"linecolor\": \"white\", \"showbackground\": true, \"ticks\": \"\", \"zerolinecolor\": \"white\"}, \"yaxis\": {\"backgroundcolor\": \"#E5ECF6\", \"gridcolor\": \"white\", \"gridwidth\": 2, \"linecolor\": \"white\", \"showbackground\": true, \"ticks\": \"\", \"zerolinecolor\": \"white\"}, \"zaxis\": {\"backgroundcolor\": \"#E5ECF6\", \"gridcolor\": \"white\", \"gridwidth\": 2, \"linecolor\": \"white\", \"showbackground\": true, \"ticks\": \"\", \"zerolinecolor\": \"white\"}}, \"shapedefaults\": {\"line\": {\"color\": \"#2a3f5f\"}}, \"ternary\": {\"aaxis\": {\"gridcolor\": \"white\", \"linecolor\": \"white\", \"ticks\": \"\"}, \"baxis\": {\"gridcolor\": \"white\", \"linecolor\": \"white\", \"ticks\": \"\"}, \"bgcolor\": \"#E5ECF6\", \"caxis\": {\"gridcolor\": \"white\", \"linecolor\": \"white\", \"ticks\": \"\"}}, \"title\": {\"x\": 0.05}, \"xaxis\": {\"automargin\": true, \"gridcolor\": \"white\", \"linecolor\": \"white\", \"ticks\": \"\", \"title\": {\"standoff\": 15}, \"zerolinecolor\": \"white\", \"zerolinewidth\": 2}, \"yaxis\": {\"automargin\": true, \"gridcolor\": \"white\", \"linecolor\": \"white\", \"ticks\": \"\", \"title\": {\"standoff\": 15}, \"zerolinecolor\": \"white\", \"zerolinewidth\": 2}}}, \"title\": {\"text\": \"<b>Opinion people on precipitation  and temp. max<b>\", \"x\": 0.5}, \"width\": 1200, \"xaxis\": {\"anchor\": \"y\", \"domain\": [0.0, 0.18400000000000002], \"title\": {\"text\": \"Max. Temperature\"}}, \"xaxis2\": {\"anchor\": \"y2\", \"domain\": [0.20400000000000001, 0.388], \"matches\": \"x\", \"title\": {\"text\": \"Max. Temperature\"}}, \"xaxis3\": {\"anchor\": \"y3\", \"domain\": [0.40800000000000003, 0.5920000000000001], \"matches\": \"x\", \"title\": {\"text\": \"Max. Temperature\"}}, \"xaxis4\": {\"anchor\": \"y4\", \"domain\": [0.6120000000000001, 0.7960000000000002], \"matches\": \"x\", \"title\": {\"text\": \"Max. Temperature\"}}, \"xaxis5\": {\"anchor\": \"y5\", \"domain\": [0.8160000000000001, 1.0], \"matches\": \"x\", \"title\": {\"text\": \"Max. Temperature\"}}, \"yaxis\": {\"anchor\": \"x\", \"domain\": [0.0, 1.0], \"title\": {\"text\": \"Precipitation per day\"}}, \"yaxis2\": {\"anchor\": \"x2\", \"domain\": [0.0, 1.0], \"matches\": \"y\", \"showticklabels\": false}, \"yaxis3\": {\"anchor\": \"x3\", \"domain\": [0.0, 1.0], \"matches\": \"y\", \"showticklabels\": false}, \"yaxis4\": {\"anchor\": \"x4\", \"domain\": [0.0, 1.0], \"matches\": \"y\", \"showticklabels\": false}, \"yaxis5\": {\"anchor\": \"x5\", \"domain\": [0.0, 1.0], \"matches\": \"y\", \"showticklabels\": false}},\n",
              "                        {\"responsive\": true}\n",
              "                    ).then(function(){\n",
              "                            \n",
              "var gd = document.getElementById('03f3371c-e171-40ab-ad8c-8cc9fb693707');\n",
              "var x = new MutationObserver(function (mutations, observer) {{\n",
              "        var display = window.getComputedStyle(gd).display;\n",
              "        if (!display || display === 'none') {{\n",
              "            console.log([gd, 'removed!']);\n",
              "            Plotly.purge(gd);\n",
              "            observer.disconnect();\n",
              "        }}\n",
              "}});\n",
              "\n",
              "// Listen for the removal of the full notebook cells\n",
              "var notebookContainer = gd.closest('#notebook-container');\n",
              "if (notebookContainer) {{\n",
              "    x.observe(notebookContainer, {childList: true});\n",
              "}}\n",
              "\n",
              "// Listen for the clearing of the current output cell\n",
              "var outputEl = gd.closest('.output');\n",
              "if (outputEl) {{\n",
              "    x.observe(outputEl, {childList: true});\n",
              "}}\n",
              "\n",
              "                        })\n",
              "                };\n",
              "                \n",
              "            </script>\n",
              "        </div>\n",
              "</body>\n",
              "</html>"
            ]
          },
          "metadata": {}
        }
      ]
    },
    {
      "cell_type": "markdown",
      "metadata": {
        "id": "aOJPxA96BPDx"
      },
      "source": [
        "## Draw 5 violin charts on the same figure\n",
        "Do you know box plot ? Violin is like a box plot, but with density."
      ]
    },
    {
      "cell_type": "code",
      "metadata": {
        "id": "AZMf4U6j2exB",
        "colab": {
          "base_uri": "https://localhost:8080/",
          "height": 374
        },
        "outputId": "d71c202a-fbc5-4361-add7-03d301bc8da6"
      },
      "source": [
        "# Complete the code below to add Opinion on color argument.\n",
        "# Change colors to be coherent and not to draw a rainbow.\n",
        "\n",
        "\n",
        "fig = px.violin(df_weather, y=\"MAX_TEMPERATURE_C\", color='OPINION',  box=True, points=\"all\",\n",
        "                color_discrete_sequence=[\"red\", \"orange\", \"yellow\", \"green\", \"lightgreen\"])\n",
        "fig.show()\n",
        "\n",
        "# Could you read on the graph which is the max temperature for a \"bad\" weather ?\n",
        "#Yes ! Its in red color, max temp = 22 for a bad weather"
      ],
      "execution_count": null,
      "outputs": [
        {
          "output_type": "error",
          "ename": "AttributeError",
          "evalue": "ignored",
          "traceback": [
            "\u001b[0;31m---------------------------------------------------------------------------\u001b[0m",
            "\u001b[0;31mAttributeError\u001b[0m                            Traceback (most recent call last)",
            "\u001b[0;32m<ipython-input-11-995d71e67880>\u001b[0m in \u001b[0;36m<module>\u001b[0;34m()\u001b[0m\n\u001b[1;32m      4\u001b[0m \u001b[0;34m\u001b[0m\u001b[0m\n\u001b[1;32m      5\u001b[0m fig = px.violin(df_weather, y=\"MAX_TEMPERATURE_C\", color='OPINION',  box=True, points=\"all\",\n\u001b[0;32m----> 6\u001b[0;31m                 color_discrete_sequence=[\"red\", \"orange\", \"yellow\", \"green\", \"lightgreen\"])\n\u001b[0m\u001b[1;32m      7\u001b[0m \u001b[0mfig\u001b[0m\u001b[0;34m.\u001b[0m\u001b[0mshow\u001b[0m\u001b[0;34m(\u001b[0m\u001b[0;34m)\u001b[0m\u001b[0;34m\u001b[0m\u001b[0;34m\u001b[0m\u001b[0m\n\u001b[1;32m      8\u001b[0m \u001b[0;34m\u001b[0m\u001b[0m\n",
            "\u001b[0;32m/usr/local/lib/python3.7/dist-packages/plotly/express/_chart_types.py\u001b[0m in \u001b[0;36mviolin\u001b[0;34m(data_frame, x, y, color, facet_row, facet_col, facet_col_wrap, hover_name, hover_data, custom_data, animation_frame, animation_group, category_orders, labels, color_discrete_sequence, color_discrete_map, orientation, violinmode, log_x, log_y, range_x, range_y, points, box, title, template, width, height)\u001b[0m\n\u001b[1;32m    422\u001b[0m \u001b[0;34m\u001b[0m\u001b[0m\n\u001b[1;32m    423\u001b[0m def histogram(\n\u001b[0;32m--> 424\u001b[0;31m     \u001b[0mdata_frame\u001b[0m\u001b[0;34m=\u001b[0m\u001b[0;32mNone\u001b[0m\u001b[0;34m,\u001b[0m\u001b[0;34m\u001b[0m\u001b[0;34m\u001b[0m\u001b[0m\n\u001b[0m\u001b[1;32m    425\u001b[0m     \u001b[0mx\u001b[0m\u001b[0;34m=\u001b[0m\u001b[0;32mNone\u001b[0m\u001b[0;34m,\u001b[0m\u001b[0;34m\u001b[0m\u001b[0;34m\u001b[0m\u001b[0m\n\u001b[1;32m    426\u001b[0m     \u001b[0my\u001b[0m\u001b[0;34m=\u001b[0m\u001b[0;32mNone\u001b[0m\u001b[0;34m,\u001b[0m\u001b[0;34m\u001b[0m\u001b[0;34m\u001b[0m\u001b[0m\n",
            "\u001b[0;32m/usr/local/lib/python3.7/dist-packages/plotly/express/_core.py\u001b[0m in \u001b[0;36mmake_figure\u001b[0;34m(args, constructor, trace_patch, layout_patch)\u001b[0m\n\u001b[1;32m   1177\u001b[0m                             \u001b[0;34m\"All arguments should have the same length. \"\u001b[0m\u001b[0;34m\u001b[0m\u001b[0;34m\u001b[0m\u001b[0m\n\u001b[1;32m   1178\u001b[0m                             \u001b[0;34m\"The length of hover_data key `%s` is %d, whereas the \"\u001b[0m\u001b[0;34m\u001b[0m\u001b[0;34m\u001b[0m\u001b[0m\n\u001b[0;32m-> 1179\u001b[0;31m                             \u001b[0;34m\"length of previously-processed arguments %s is %d\"\u001b[0m\u001b[0;34m\u001b[0m\u001b[0;34m\u001b[0m\u001b[0m\n\u001b[0m\u001b[1;32m   1180\u001b[0m                             % (\n\u001b[1;32m   1181\u001b[0m                                 \u001b[0margument\u001b[0m\u001b[0;34m,\u001b[0m\u001b[0;34m\u001b[0m\u001b[0;34m\u001b[0m\u001b[0m\n",
            "\u001b[0;32m/usr/local/lib/python3.7/dist-packages/plotly/graph_objs/__init__.py\u001b[0m in \u001b[0;36m__init__\u001b[0;34m(self, arg, alignmentgroup, bandwidth, box, customdata, customdatasrc, fillcolor, hoverinfo, hoverinfosrc, hoverlabel, hoveron, hovertemplate, hovertemplatesrc, hovertext, hovertextsrc, ids, idssrc, jitter, legendgroup, line, marker, meanline, meta, metasrc, name, offsetgroup, opacity, orientation, pointpos, points, scalegroup, scalemode, selected, selectedpoints, showlegend, side, span, spanmode, stream, text, textsrc, uid, uirevision, unselected, visible, width, x, x0, xaxis, xsrc, y, y0, yaxis, ysrc, **kwargs)\u001b[0m\n",
            "\u001b[0;32m/usr/local/lib/python3.7/dist-packages/_plotly_utils/importers.py\u001b[0m in \u001b[0;36m__getattr__\u001b[0;34m(import_name)\u001b[0m\n\u001b[1;32m     39\u001b[0m         raise AttributeError(\n\u001b[1;32m     40\u001b[0m             \"module {__name__!r} has no attribute {name!r}\".format(\n\u001b[0;32m---> 41\u001b[0;31m                 \u001b[0mname\u001b[0m\u001b[0;34m=\u001b[0m\u001b[0mimport_name\u001b[0m\u001b[0;34m,\u001b[0m \u001b[0m__name__\u001b[0m\u001b[0;34m=\u001b[0m\u001b[0mparent_name\u001b[0m\u001b[0;34m\u001b[0m\u001b[0;34m\u001b[0m\u001b[0m\n\u001b[0m\u001b[1;32m     42\u001b[0m             )\n\u001b[1;32m     43\u001b[0m         )\n",
            "\u001b[0;31mAttributeError\u001b[0m: module 'plotly.validators.violin' has no attribute 'XAxisValidator'"
          ]
        }
      ]
    },
    {
      "cell_type": "markdown",
      "metadata": {
        "id": "6nANYxrUDOF_"
      },
      "source": [
        "## 3D Chart\n",
        "Do you have some 3D glasses ?"
      ]
    },
    {
      "cell_type": "code",
      "metadata": {
        "id": "zheYVX2Qy64S"
      },
      "source": [
        "df_weather.head(2)"
      ],
      "execution_count": null,
      "outputs": []
    },
    {
      "cell_type": "code",
      "metadata": {
        "id": "eIktpCxc2lRI",
        "colab": {
          "base_uri": "https://localhost:8080/",
          "height": 542
        },
        "outputId": "1c074925-e766-4f4a-ad63-8d76d8785b63"
      },
      "source": [
        "# Draw a 3D Scatterplot with Max Temperature on X-axis, Windspeed on Y-axis and Month on Z-axis\n",
        "\n",
        "fig = px.scatter_3d(df_weather, x = 'MAX_TEMPERATURE_C',\n",
        "                    y='WINDSPEED_MAX_KMH',\n",
        "                    z='MONTH',\n",
        "                    color = 'OPINION') #Complete this code\n",
        "                    \n",
        "fig.show()\n",
        "\n"
      ],
      "execution_count": null,
      "outputs": [
        {
          "output_type": "display_data",
          "data": {
            "text/html": [
              "<html>\n",
              "<head><meta charset=\"utf-8\" /></head>\n",
              "<body>\n",
              "    <div>\n",
              "            <script src=\"https://cdnjs.cloudflare.com/ajax/libs/mathjax/2.7.5/MathJax.js?config=TeX-AMS-MML_SVG\"></script><script type=\"text/javascript\">if (window.MathJax) {MathJax.Hub.Config({SVG: {font: \"STIX-Web\"}});}</script>\n",
              "                <script type=\"text/javascript\">window.PlotlyConfig = {MathJaxConfig: 'local'};</script>\n",
              "        <script src=\"https://cdn.plot.ly/plotly-latest.min.js\"></script>    \n",
              "            <div id=\"8981b6b3-ec22-4991-8e7f-407db8b84065\" class=\"plotly-graph-div\" style=\"height:525px; width:100%;\"></div>\n",
              "            <script type=\"text/javascript\">\n",
              "                \n",
              "                    window.PLOTLYENV=window.PLOTLYENV || {};\n",
              "                    \n",
              "                if (document.getElementById(\"8981b6b3-ec22-4991-8e7f-407db8b84065\")) {\n",
              "                    Plotly.newPlot(\n",
              "                        '8981b6b3-ec22-4991-8e7f-407db8b84065',\n",
              "                        [{\"hoverlabel\": {\"namelength\": 0}, \"hovertemplate\": \"OPINION=very bad<br>MAX_TEMPERATURE_C=%{x}<br>WINDSPEED_MAX_KMH=%{y}<br>MONTH=%{z}\", \"legendgroup\": \"OPINION=very bad\", \"marker\": {\"color\": \"#636efa\", \"symbol\": \"circle\"}, \"mode\": \"markers\", \"name\": \"OPINION=very bad\", \"scene\": \"scene\", \"showlegend\": true, \"type\": \"scatter3d\", \"x\": [9, 8, 6, 5, 6, 5, 10, 7, 7, 10, 9, 9, 8, 9, 7, 7, 7, 8, 7, 7, 8, 8, 9, 7, 8, 7, 8, 7, 10, 11, 10, 12, 10, 12, 12, 12, 12, 11, 11, 11, 11, 12, 12, 12, 10, 10, 10, 10, 12, 12, 9, 14, 11, 12, 15, 15, 22, 20, 14, 14, 11, 11, 10, 11, 9, 11, 8, 9, 8, 10, 9, 7, 11, 10, 12, 7, 7, 7, 8, 7, 11, 11, 9, 12, 10, 10, 11, 13, 12, 11, 10, 10, 14, 12, 11, 9, 12, 10], \"y\": [10, 18, 18, 15, 8, 7, 9, 18, 14, 10, 12, 3, 15, 18, 16, 16, 8, 18, 25, 8, 38, 14, 24, 20, 30, 30, 10, 32, 9, 40, 20, 7, 15, 15, 9, 28, 22, 20, 36, 34, 17, 5, 21, 18, 17, 25, 24, 16, 15, 16, 14, 30, 26, 17, 37, 42, 13, 34, 19, 36, 22, 26, 28, 20, 16, 5, 14, 18, 8, 8, 15, 13, 20, 32, 12, 22, 25, 19, 9, 5, 26, 24, 29, 31, 36, 22, 14, 38, 28, 36, 34, 19, 26, 24, 12, 11, 7, 13], \"z\": [1, 1, 1, 1, 1, 1, 1, 1, 1, 1, 1, 1, 1, 1, 1, 1, 1, 1, 1, 1, 1, 1, 1, 1, 1, 2, 2, 2, 2, 2, 2, 2, 2, 2, 2, 3, 3, 3, 3, 3, 3, 3, 3, 3, 4, 4, 4, 4, 4, 4, 4, 4, 5, 5, 5, 6, 7, 9, 10, 11, 11, 11, 11, 11, 11, 11, 11, 11, 11, 11, 11, 11, 11, 11, 11, 12, 12, 12, 12, 12, 12, 12, 12, 12, 12, 12, 12, 12, 12, 12, 12, 12, 12, 12, 12, 12, 12, 12]}, {\"hoverlabel\": {\"namelength\": 0}, \"hovertemplate\": \"OPINION=bad<br>MAX_TEMPERATURE_C=%{x}<br>WINDSPEED_MAX_KMH=%{y}<br>MONTH=%{z}\", \"legendgroup\": \"OPINION=bad\", \"marker\": {\"color\": \"#EF553B\", \"symbol\": \"circle\"}, \"mode\": \"markers\", \"name\": \"OPINION=bad\", \"scene\": \"scene\", \"showlegend\": true, \"type\": \"scatter3d\", \"x\": [10, 10, 10, 11, 11, 10, 9, 12, 11, 11, 12, 13, 14, 11, 11, 13, 12, 10, 11, 13, 11, 12, 14, 18, 13, 13, 12, 16, 15, 15, 15, 15, 14, 17, 18, 17, 19, 19, 15, 16, 23, 31, 26, 21, 23, 22, 20, 19, 24, 21, 17, 19, 19, 19, 20, 21, 19, 19, 17, 18, 18, 20, 20, 16, 16, 16, 16, 15, 15, 14, 15, 12, 14, 17, 16, 17, 14, 13, 12, 11, 11, 12, 13, 14, 13, 13, 9, 13, 13, 11, 12, 12, 12, 11], \"y\": [18, 19, 14, 12, 12, 21, 17, 26, 24, 28, 29, 26, 36, 46, 28, 23, 31, 31, 38, 30, 28, 30, 24, 22, 33, 29, 17, 11, 19, 17, 27, 23, 9, 16, 16, 15, 17, 25, 15, 23, 21, 8, 13, 32, 17, 28, 27, 23, 20, 33, 25, 31, 31, 24, 41, 19, 35, 14, 25, 16, 17, 28, 33, 28, 38, 28, 12, 16, 22, 19, 21, 19, 18, 12, 19, 25, 32, 39, 30, 26, 20, 14, 18, 33, 39, 30, 23, 12, 27, 34, 22, 11, 31, 9], \"z\": [1, 1, 1, 1, 1, 1, 2, 2, 2, 2, 2, 2, 3, 3, 3, 3, 3, 3, 3, 3, 3, 4, 4, 4, 4, 4, 4, 4, 5, 5, 5, 5, 5, 5, 5, 5, 5, 6, 6, 6, 6, 7, 7, 7, 8, 8, 8, 8, 8, 9, 9, 9, 9, 9, 9, 9, 10, 10, 10, 10, 10, 10, 10, 10, 10, 10, 10, 10, 10, 10, 10, 10, 10, 10, 10, 11, 11, 11, 11, 11, 11, 11, 11, 11, 11, 11, 11, 12, 12, 12, 12, 12, 12, 12]}, {\"hoverlabel\": {\"namelength\": 0}, \"hovertemplate\": \"OPINION=not good not bad<br>MAX_TEMPERATURE_C=%{x}<br>WINDSPEED_MAX_KMH=%{y}<br>MONTH=%{z}\", \"legendgroup\": \"OPINION=not good not bad\", \"marker\": {\"color\": \"#00cc96\", \"symbol\": \"circle\"}, \"mode\": \"markers\", \"name\": \"OPINION=not good not bad\", \"scene\": \"scene\", \"showlegend\": true, \"type\": \"scatter3d\", \"x\": [13, 15, 14, 15, 13, 17, 17, 14, 15, 14, 13, 13, 13, 15, 17, 13, 13, 14, 16, 17, 16, 14, 14, 14, 14, 15, 19, 14, 17, 15, 14, 16, 16, 16, 17, 17, 19, 15, 15, 20, 16, 18, 16, 17, 18, 18, 20, 34, 34, 22, 26, 25, 39, 23, 25, 28, 23, 22, 22, 21, 21, 26, 25, 30, 17, 20, 16, 18, 20, 17, 16, 16, 18, 13, 13, 13], \"y\": [14, 12, 14, 23, 10, 8, 14, 14, 14, 14, 23, 28, 6, 15, 10, 19, 19, 19, 15, 13, 6, 17, 17, 12, 28, 18, 24, 32, 9, 9, 13, 18, 19, 27, 21, 16, 15, 23, 18, 17, 15, 27, 14, 23, 21, 28, 26, 18, 13, 22, 18, 28, 27, 17, 24, 18, 32, 21, 21, 24, 19, 13, 9, 8, 15, 24, 32, 18, 22, 27, 12, 21, 24, 18, 12, 13], \"z\": [2, 2, 2, 2, 2, 2, 2, 2, 2, 3, 3, 3, 3, 3, 3, 3, 3, 3, 3, 3, 4, 4, 4, 4, 4, 4, 4, 4, 5, 5, 5, 5, 5, 5, 5, 5, 5, 5, 5, 5, 6, 6, 6, 6, 6, 6, 6, 6, 6, 7, 7, 7, 7, 7, 8, 8, 8, 8, 8, 8, 8, 8, 8, 8, 9, 9, 10, 10, 10, 10, 10, 10, 10, 11, 11, 12]}, {\"hoverlabel\": {\"namelength\": 0}, \"hovertemplate\": \"OPINION=good<br>MAX_TEMPERATURE_C=%{x}<br>WINDSPEED_MAX_KMH=%{y}<br>MONTH=%{z}\", \"legendgroup\": \"OPINION=good\", \"marker\": {\"color\": \"#ab63fa\", \"symbol\": \"circle\"}, \"mode\": \"markers\", \"name\": \"OPINION=good\", \"scene\": \"scene\", \"showlegend\": true, \"type\": \"scatter3d\", \"x\": [18, 19, 20, 18, 19, 18, 19, 21, 24, 21, 21, 18, 18, 18, 20, 21, 21, 20, 25, 23, 20, 18, 19, 19, 25, 28, 20, 20, 23, 27, 26, 31, 32, 26, 24, 25, 26, 28, 30, 28, 27, 25, 28, 26, 27, 26, 26, 29, 26, 33, 32, 23, 24, 23, 27, 29, 26, 25, 23, 23, 22, 23, 28, 30, 33, 30, 33, 29, 23, 23, 24, 26, 20, 19, 23, 22, 21, 22, 22, 24, 28, 29, 31, 21, 27, 23, 23, 27, 28, 19, 18, 21, 19], \"y\": [10, 10, 11, 8, 9, 13, 26, 16, 8, 21, 11, 10, 29, 26, 13, 7, 9, 20, 5, 17, 14, 16, 16, 17, 8, 19, 15, 13, 15, 16, 9, 23, 18, 10, 17, 18, 26, 24, 20, 12, 19, 25, 9, 21, 15, 21, 14, 7, 17, 13, 23, 22, 29, 19, 8, 12, 19, 22, 37, 25, 24, 11, 13, 19, 14, 13, 9, 20, 24, 14, 14, 9, 17, 20, 14, 18, 16, 19, 17, 11, 16, 21, 14, 15, 20, 31, 33, 27, 27, 17, 24, 21, 23], \"z\": [2, 2, 2, 3, 3, 4, 4, 4, 4, 4, 4, 4, 5, 5, 5, 5, 5, 5, 5, 6, 6, 6, 6, 6, 6, 6, 6, 6, 6, 6, 6, 6, 6, 6, 7, 7, 7, 7, 7, 7, 7, 7, 7, 7, 7, 7, 7, 7, 7, 7, 7, 7, 7, 7, 8, 8, 8, 8, 8, 8, 8, 8, 8, 8, 8, 8, 8, 8, 8, 9, 9, 9, 9, 9, 9, 9, 9, 9, 9, 9, 9, 9, 9, 9, 9, 9, 9, 9, 9, 10, 10, 10, 10]}, {\"hoverlabel\": {\"namelength\": 0}, \"hovertemplate\": \"OPINION=very good<br>MAX_TEMPERATURE_C=%{x}<br>WINDSPEED_MAX_KMH=%{y}<br>MONTH=%{z}\", \"legendgroup\": \"OPINION=very good\", \"marker\": {\"color\": \"#FFA15A\", \"symbol\": \"circle\"}, \"mode\": \"markers\", \"name\": \"OPINION=very good\", \"scene\": \"scene\", \"showlegend\": true, \"type\": \"scatter3d\", \"x\": [29, 27, 33, 29], \"y\": [9, 18, 6, 15], \"z\": [6, 7, 7, 8]}],\n",
              "                        {\"legend\": {\"tracegroupgap\": 0}, \"margin\": {\"t\": 60}, \"scene\": {\"domain\": {\"x\": [0.0, 1.0], \"y\": [0.0, 1.0]}, \"xaxis\": {\"title\": {\"text\": \"MAX_TEMPERATURE_C\"}}, \"yaxis\": {\"title\": {\"text\": \"WINDSPEED_MAX_KMH\"}}, \"zaxis\": {\"title\": {\"text\": \"MONTH\"}}}, \"template\": {\"data\": {\"bar\": [{\"error_x\": {\"color\": \"#2a3f5f\"}, \"error_y\": {\"color\": \"#2a3f5f\"}, \"marker\": {\"line\": {\"color\": \"#E5ECF6\", \"width\": 0.5}}, \"type\": \"bar\"}], \"barpolar\": [{\"marker\": {\"line\": {\"color\": \"#E5ECF6\", \"width\": 0.5}}, \"type\": \"barpolar\"}], \"carpet\": [{\"aaxis\": {\"endlinecolor\": \"#2a3f5f\", \"gridcolor\": \"white\", \"linecolor\": \"white\", \"minorgridcolor\": \"white\", \"startlinecolor\": \"#2a3f5f\"}, \"baxis\": {\"endlinecolor\": \"#2a3f5f\", \"gridcolor\": \"white\", \"linecolor\": \"white\", \"minorgridcolor\": \"white\", \"startlinecolor\": \"#2a3f5f\"}, \"type\": \"carpet\"}], \"choropleth\": [{\"colorbar\": {\"outlinewidth\": 0, \"ticks\": \"\"}, \"type\": \"choropleth\"}], \"contour\": [{\"colorbar\": {\"outlinewidth\": 0, \"ticks\": \"\"}, \"colorscale\": [[0.0, \"#0d0887\"], [0.1111111111111111, \"#46039f\"], [0.2222222222222222, \"#7201a8\"], [0.3333333333333333, \"#9c179e\"], [0.4444444444444444, \"#bd3786\"], [0.5555555555555556, \"#d8576b\"], [0.6666666666666666, \"#ed7953\"], [0.7777777777777778, \"#fb9f3a\"], [0.8888888888888888, \"#fdca26\"], [1.0, \"#f0f921\"]], \"type\": \"contour\"}], \"contourcarpet\": [{\"colorbar\": {\"outlinewidth\": 0, \"ticks\": \"\"}, \"type\": \"contourcarpet\"}], \"heatmap\": [{\"colorbar\": {\"outlinewidth\": 0, \"ticks\": \"\"}, \"colorscale\": [[0.0, \"#0d0887\"], [0.1111111111111111, \"#46039f\"], [0.2222222222222222, \"#7201a8\"], [0.3333333333333333, \"#9c179e\"], [0.4444444444444444, \"#bd3786\"], [0.5555555555555556, \"#d8576b\"], [0.6666666666666666, \"#ed7953\"], [0.7777777777777778, \"#fb9f3a\"], [0.8888888888888888, \"#fdca26\"], [1.0, \"#f0f921\"]], \"type\": \"heatmap\"}], \"heatmapgl\": [{\"colorbar\": {\"outlinewidth\": 0, \"ticks\": \"\"}, \"colorscale\": [[0.0, \"#0d0887\"], [0.1111111111111111, \"#46039f\"], [0.2222222222222222, \"#7201a8\"], [0.3333333333333333, \"#9c179e\"], [0.4444444444444444, \"#bd3786\"], [0.5555555555555556, \"#d8576b\"], [0.6666666666666666, \"#ed7953\"], [0.7777777777777778, \"#fb9f3a\"], [0.8888888888888888, \"#fdca26\"], [1.0, \"#f0f921\"]], \"type\": \"heatmapgl\"}], \"histogram\": [{\"marker\": {\"colorbar\": {\"outlinewidth\": 0, \"ticks\": \"\"}}, \"type\": \"histogram\"}], \"histogram2d\": [{\"colorbar\": {\"outlinewidth\": 0, \"ticks\": \"\"}, \"colorscale\": [[0.0, \"#0d0887\"], [0.1111111111111111, \"#46039f\"], [0.2222222222222222, \"#7201a8\"], [0.3333333333333333, \"#9c179e\"], [0.4444444444444444, \"#bd3786\"], [0.5555555555555556, \"#d8576b\"], [0.6666666666666666, \"#ed7953\"], [0.7777777777777778, \"#fb9f3a\"], [0.8888888888888888, \"#fdca26\"], [1.0, \"#f0f921\"]], \"type\": \"histogram2d\"}], \"histogram2dcontour\": [{\"colorbar\": {\"outlinewidth\": 0, \"ticks\": \"\"}, \"colorscale\": [[0.0, \"#0d0887\"], [0.1111111111111111, \"#46039f\"], [0.2222222222222222, \"#7201a8\"], [0.3333333333333333, \"#9c179e\"], [0.4444444444444444, \"#bd3786\"], [0.5555555555555556, \"#d8576b\"], [0.6666666666666666, \"#ed7953\"], [0.7777777777777778, \"#fb9f3a\"], [0.8888888888888888, \"#fdca26\"], [1.0, \"#f0f921\"]], \"type\": \"histogram2dcontour\"}], \"mesh3d\": [{\"colorbar\": {\"outlinewidth\": 0, \"ticks\": \"\"}, \"type\": \"mesh3d\"}], \"parcoords\": [{\"line\": {\"colorbar\": {\"outlinewidth\": 0, \"ticks\": \"\"}}, \"type\": \"parcoords\"}], \"pie\": [{\"automargin\": true, \"type\": \"pie\"}], \"scatter\": [{\"marker\": {\"colorbar\": {\"outlinewidth\": 0, \"ticks\": \"\"}}, \"type\": \"scatter\"}], \"scatter3d\": [{\"line\": {\"colorbar\": {\"outlinewidth\": 0, \"ticks\": \"\"}}, \"marker\": {\"colorbar\": {\"outlinewidth\": 0, \"ticks\": \"\"}}, \"type\": \"scatter3d\"}], \"scattercarpet\": [{\"marker\": {\"colorbar\": {\"outlinewidth\": 0, \"ticks\": \"\"}}, \"type\": \"scattercarpet\"}], \"scattergeo\": [{\"marker\": {\"colorbar\": {\"outlinewidth\": 0, \"ticks\": \"\"}}, \"type\": \"scattergeo\"}], \"scattergl\": [{\"marker\": {\"colorbar\": {\"outlinewidth\": 0, \"ticks\": \"\"}}, \"type\": \"scattergl\"}], \"scattermapbox\": [{\"marker\": {\"colorbar\": {\"outlinewidth\": 0, \"ticks\": \"\"}}, \"type\": \"scattermapbox\"}], \"scatterpolar\": [{\"marker\": {\"colorbar\": {\"outlinewidth\": 0, \"ticks\": \"\"}}, \"type\": \"scatterpolar\"}], \"scatterpolargl\": [{\"marker\": {\"colorbar\": {\"outlinewidth\": 0, \"ticks\": \"\"}}, \"type\": \"scatterpolargl\"}], \"scatterternary\": [{\"marker\": {\"colorbar\": {\"outlinewidth\": 0, \"ticks\": \"\"}}, \"type\": \"scatterternary\"}], \"surface\": [{\"colorbar\": {\"outlinewidth\": 0, \"ticks\": \"\"}, \"colorscale\": [[0.0, \"#0d0887\"], [0.1111111111111111, \"#46039f\"], [0.2222222222222222, \"#7201a8\"], [0.3333333333333333, \"#9c179e\"], [0.4444444444444444, \"#bd3786\"], [0.5555555555555556, \"#d8576b\"], [0.6666666666666666, \"#ed7953\"], [0.7777777777777778, \"#fb9f3a\"], [0.8888888888888888, \"#fdca26\"], [1.0, \"#f0f921\"]], \"type\": \"surface\"}], \"table\": [{\"cells\": {\"fill\": {\"color\": \"#EBF0F8\"}, \"line\": {\"color\": \"white\"}}, \"header\": {\"fill\": {\"color\": \"#C8D4E3\"}, \"line\": {\"color\": \"white\"}}, \"type\": \"table\"}]}, \"layout\": {\"annotationdefaults\": {\"arrowcolor\": \"#2a3f5f\", \"arrowhead\": 0, \"arrowwidth\": 1}, \"coloraxis\": {\"colorbar\": {\"outlinewidth\": 0, \"ticks\": \"\"}}, \"colorscale\": {\"diverging\": [[0, \"#8e0152\"], [0.1, \"#c51b7d\"], [0.2, \"#de77ae\"], [0.3, \"#f1b6da\"], [0.4, \"#fde0ef\"], [0.5, \"#f7f7f7\"], [0.6, \"#e6f5d0\"], [0.7, \"#b8e186\"], [0.8, \"#7fbc41\"], [0.9, \"#4d9221\"], [1, \"#276419\"]], \"sequential\": [[0.0, \"#0d0887\"], [0.1111111111111111, \"#46039f\"], [0.2222222222222222, \"#7201a8\"], [0.3333333333333333, \"#9c179e\"], [0.4444444444444444, \"#bd3786\"], [0.5555555555555556, \"#d8576b\"], [0.6666666666666666, \"#ed7953\"], [0.7777777777777778, \"#fb9f3a\"], [0.8888888888888888, \"#fdca26\"], [1.0, \"#f0f921\"]], \"sequentialminus\": [[0.0, \"#0d0887\"], [0.1111111111111111, \"#46039f\"], [0.2222222222222222, \"#7201a8\"], [0.3333333333333333, \"#9c179e\"], [0.4444444444444444, \"#bd3786\"], [0.5555555555555556, \"#d8576b\"], [0.6666666666666666, \"#ed7953\"], [0.7777777777777778, \"#fb9f3a\"], [0.8888888888888888, \"#fdca26\"], [1.0, \"#f0f921\"]]}, \"colorway\": [\"#636efa\", \"#EF553B\", \"#00cc96\", \"#ab63fa\", \"#FFA15A\", \"#19d3f3\", \"#FF6692\", \"#B6E880\", \"#FF97FF\", \"#FECB52\"], \"font\": {\"color\": \"#2a3f5f\"}, \"geo\": {\"bgcolor\": \"white\", \"lakecolor\": \"white\", \"landcolor\": \"#E5ECF6\", \"showlakes\": true, \"showland\": true, \"subunitcolor\": \"white\"}, \"hoverlabel\": {\"align\": \"left\"}, \"hovermode\": \"closest\", \"mapbox\": {\"style\": \"light\"}, \"paper_bgcolor\": \"white\", \"plot_bgcolor\": \"#E5ECF6\", \"polar\": {\"angularaxis\": {\"gridcolor\": \"white\", \"linecolor\": \"white\", \"ticks\": \"\"}, \"bgcolor\": \"#E5ECF6\", \"radialaxis\": {\"gridcolor\": \"white\", \"linecolor\": \"white\", \"ticks\": \"\"}}, \"scene\": {\"xaxis\": {\"backgroundcolor\": \"#E5ECF6\", \"gridcolor\": \"white\", \"gridwidth\": 2, \"linecolor\": \"white\", \"showbackground\": true, \"ticks\": \"\", \"zerolinecolor\": \"white\"}, \"yaxis\": {\"backgroundcolor\": \"#E5ECF6\", \"gridcolor\": \"white\", \"gridwidth\": 2, \"linecolor\": \"white\", \"showbackground\": true, \"ticks\": \"\", \"zerolinecolor\": \"white\"}, \"zaxis\": {\"backgroundcolor\": \"#E5ECF6\", \"gridcolor\": \"white\", \"gridwidth\": 2, \"linecolor\": \"white\", \"showbackground\": true, \"ticks\": \"\", \"zerolinecolor\": \"white\"}}, \"shapedefaults\": {\"line\": {\"color\": \"#2a3f5f\"}}, \"ternary\": {\"aaxis\": {\"gridcolor\": \"white\", \"linecolor\": \"white\", \"ticks\": \"\"}, \"baxis\": {\"gridcolor\": \"white\", \"linecolor\": \"white\", \"ticks\": \"\"}, \"bgcolor\": \"#E5ECF6\", \"caxis\": {\"gridcolor\": \"white\", \"linecolor\": \"white\", \"ticks\": \"\"}}, \"title\": {\"x\": 0.05}, \"xaxis\": {\"automargin\": true, \"gridcolor\": \"white\", \"linecolor\": \"white\", \"ticks\": \"\", \"title\": {\"standoff\": 15}, \"zerolinecolor\": \"white\", \"zerolinewidth\": 2}, \"yaxis\": {\"automargin\": true, \"gridcolor\": \"white\", \"linecolor\": \"white\", \"ticks\": \"\", \"title\": {\"standoff\": 15}, \"zerolinecolor\": \"white\", \"zerolinewidth\": 2}}}},\n",
              "                        {\"responsive\": true}\n",
              "                    ).then(function(){\n",
              "                            \n",
              "var gd = document.getElementById('8981b6b3-ec22-4991-8e7f-407db8b84065');\n",
              "var x = new MutationObserver(function (mutations, observer) {{\n",
              "        var display = window.getComputedStyle(gd).display;\n",
              "        if (!display || display === 'none') {{\n",
              "            console.log([gd, 'removed!']);\n",
              "            Plotly.purge(gd);\n",
              "            observer.disconnect();\n",
              "        }}\n",
              "}});\n",
              "\n",
              "// Listen for the removal of the full notebook cells\n",
              "var notebookContainer = gd.closest('#notebook-container');\n",
              "if (notebookContainer) {{\n",
              "    x.observe(notebookContainer, {childList: true});\n",
              "}}\n",
              "\n",
              "// Listen for the clearing of the current output cell\n",
              "var outputEl = gd.closest('.output');\n",
              "if (outputEl) {{\n",
              "    x.observe(outputEl, {childList: true});\n",
              "}}\n",
              "\n",
              "                        })\n",
              "                };\n",
              "                \n",
              "            </script>\n",
              "        </div>\n",
              "</body>\n",
              "</html>"
            ]
          },
          "metadata": {}
        }
      ]
    },
    {
      "cell_type": "code",
      "metadata": {
        "id": "2IdaMzMEz4t1"
      },
      "source": [
        "# OK, you can move the cube with your mouse, that's impressive. But it's not readable, let's try another thing with the same data.\n",
        "\n",
        "\n",
        "fig = px.scatter_3d(df_weather, x = 'MAX_TEMPERATURE_C',\n",
        "                    y='WINDSPEED_MAX_KMH',\n",
        "                    z='MONTH',\n",
        "                    color = 'OPINION',\n",
        "                    color_discrete_sequence=[\"red\", \"orange\", \"yellow\", \"green\", \"lightgreen\"],\n",
        "                    size='WINDSPEED_MAX_KMH',\n",
        "                    size_max=10) \n",
        "\n",
        "fig.update_layout(title_text ='<b>Max temp with windspeed per month<b>',\n",
        "                  title_x = 0.5,\n",
        "                  width = 1200, height = 900)\n",
        "fig.show()\n",
        "\n"
      ],
      "execution_count": null,
      "outputs": []
    },
    {
      "cell_type": "code",
      "metadata": {
        "id": "6RgF6dJk7Wbu",
        "colab": {
          "base_uri": "https://localhost:8080/",
          "height": 542
        },
        "outputId": "f044027e-7d1b-494c-8ac2-feeaeb8ed290"
      },
      "source": [
        "#POUR AJOUTER DES GRAPHS sur UN MêME GRAPH.\n",
        "\n",
        "fig = go.Figure() \n",
        "\n",
        "fig.add_trace(go.Scatter3d(\n",
        "    x= df_weather.MAX_TEMPERATURE_C,\n",
        "    y= df_weather.WINDSPEED_MAX_KMH,\n",
        "    z= df_weather.MONTH,\n",
        "    mode='markers'))\n",
        "\n",
        "fig.add_trace(go.Scatter3d(\n",
        "    x= df_weather.MIN_TEMPERATURE_C,\n",
        "    y= df_weather.WINDSPEED_MAX_KMH,\n",
        "    z= df_weather.MONTH,\n",
        "    mode='markers'))\n",
        "\n",
        "\n",
        "fig.show()\n",
        "\n",
        "\n"
      ],
      "execution_count": null,
      "outputs": [
        {
          "output_type": "display_data",
          "data": {
            "text/html": [
              "<html>\n",
              "<head><meta charset=\"utf-8\" /></head>\n",
              "<body>\n",
              "    <div>\n",
              "            <script src=\"https://cdnjs.cloudflare.com/ajax/libs/mathjax/2.7.5/MathJax.js?config=TeX-AMS-MML_SVG\"></script><script type=\"text/javascript\">if (window.MathJax) {MathJax.Hub.Config({SVG: {font: \"STIX-Web\"}});}</script>\n",
              "                <script type=\"text/javascript\">window.PlotlyConfig = {MathJaxConfig: 'local'};</script>\n",
              "        <script src=\"https://cdn.plot.ly/plotly-latest.min.js\"></script>    \n",
              "            <div id=\"c8b10597-74ce-4ea9-b14a-1f02c6bc1fcb\" class=\"plotly-graph-div\" style=\"height:525px; width:100%;\"></div>\n",
              "            <script type=\"text/javascript\">\n",
              "                \n",
              "                    window.PLOTLYENV=window.PLOTLYENV || {};\n",
              "                    \n",
              "                if (document.getElementById(\"c8b10597-74ce-4ea9-b14a-1f02c6bc1fcb\")) {\n",
              "                    Plotly.newPlot(\n",
              "                        'c8b10597-74ce-4ea9-b14a-1f02c6bc1fcb',\n",
              "                        [{\"mode\": \"markers\", \"type\": \"scatter3d\", \"x\": [9, 8, 6, 5, 6, 5, 10, 10, 7, 7, 10, 9, 10, 10, 9, 8, 9, 7, 11, 7, 7, 8, 7, 7, 11, 10, 8, 8, 9, 7, 8, 9, 7, 8, 7, 10, 12, 11, 11, 12, 11, 10, 12, 10, 13, 15, 14, 15, 12, 12, 13, 17, 17, 18, 14, 15, 19, 20, 13, 14, 13, 14, 11, 13, 12, 11, 12, 13, 12, 11, 11, 10, 11, 13, 11, 11, 11, 12, 13, 15, 18, 17, 13, 12, 12, 13, 14, 16, 17, 19, 18, 12, 10, 10, 10, 10, 14, 12, 16, 14, 14, 14, 12, 9, 14, 15, 19, 21, 24, 21, 21, 19, 18, 14, 13, 14, 13, 12, 16, 18, 17, 15, 15, 11, 12, 15, 14, 15, 15, 15, 16, 16, 16, 18, 18, 17, 17, 14, 17, 18, 20, 21, 21, 20, 19, 17, 19, 15, 15, 20, 25, 29, 23, 20, 19, 16, 18, 15, 18, 16, 17, 15, 16, 18, 19, 18, 19, 25, 28, 20, 20, 20, 23, 27, 23, 26, 31, 34, 34, 32, 26, 24, 25, 26, 28, 30, 31, 28, 27, 25, 28, 26, 26, 27, 26, 26, 29, 27, 22, 26, 25, 26, 33, 39, 33, 32, 22, 23, 23, 24, 21, 23, 27, 29, 29, 26, 25, 23, 25, 28, 23, 23, 23, 22, 22, 20, 22, 22, 19, 21, 21, 23, 26, 28, 30, 33, 30, 33, 29, 24, 25, 30, 23, 23, 24, 26, 20, 19, 23, 22, 21, 17, 22, 22, 24, 28, 29, 31, 21, 27, 23, 23, 27, 28, 21, 20, 20, 17, 19, 19, 19, 20, 21, 19, 19, 19, 17, 18, 18, 14, 18, 16, 18, 20, 21, 20, 20, 16, 16, 17, 16, 16, 15, 16, 16, 15, 14, 18, 19, 15, 12, 14, 17, 16, 17, 14, 14, 13, 12, 13, 11, 11, 10, 11, 11, 11, 9, 11, 8, 9, 8, 10, 9, 7, 11, 10, 12, 12, 13, 14, 13, 13, 13, 9, 7, 7, 7, 8, 7, 11, 13, 13, 11, 11, 9, 12, 10, 12, 10, 11, 12, 12, 13, 12, 11, 10, 10, 14, 11, 12, 13, 11, 9, 12, 10], \"y\": [10, 18, 18, 15, 8, 7, 9, 18, 18, 14, 10, 12, 19, 14, 3, 15, 18, 16, 12, 16, 8, 18, 25, 8, 12, 21, 38, 14, 24, 20, 30, 17, 30, 10, 32, 9, 26, 24, 28, 29, 40, 20, 7, 15, 14, 12, 14, 23, 15, 9, 10, 8, 14, 10, 14, 14, 10, 11, 26, 14, 23, 36, 46, 28, 28, 28, 22, 23, 31, 20, 36, 31, 38, 30, 28, 34, 17, 5, 6, 15, 8, 10, 19, 21, 18, 19, 19, 15, 13, 9, 13, 30, 17, 25, 24, 16, 24, 15, 6, 17, 17, 12, 16, 14, 28, 18, 26, 16, 8, 21, 11, 24, 22, 30, 33, 32, 29, 17, 11, 10, 9, 19, 17, 26, 17, 9, 13, 37, 27, 23, 18, 19, 27, 29, 26, 21, 16, 9, 16, 16, 13, 7, 9, 20, 15, 15, 17, 23, 18, 17, 5, 9, 17, 14, 25, 15, 16, 42, 27, 14, 23, 15, 23, 21, 16, 28, 17, 8, 19, 26, 15, 13, 15, 16, 21, 9, 23, 18, 13, 18, 10, 17, 18, 26, 24, 20, 8, 12, 19, 25, 9, 21, 13, 15, 21, 14, 7, 18, 22, 18, 28, 17, 6, 27, 13, 23, 13, 17, 22, 29, 32, 19, 8, 15, 12, 19, 24, 17, 22, 18, 37, 32, 25, 28, 21, 27, 21, 24, 23, 24, 19, 11, 13, 13, 19, 14, 13, 9, 20, 20, 9, 8, 24, 14, 14, 9, 17, 20, 14, 18, 16, 15, 19, 17, 11, 16, 21, 14, 15, 20, 31, 33, 27, 27, 33, 24, 34, 25, 31, 31, 24, 41, 19, 35, 14, 17, 25, 16, 24, 19, 17, 32, 18, 22, 21, 28, 33, 28, 38, 27, 28, 12, 16, 12, 21, 22, 19, 24, 23, 21, 19, 18, 12, 19, 25, 32, 36, 39, 30, 18, 22, 26, 28, 20, 26, 20, 16, 5, 14, 18, 8, 8, 15, 13, 20, 32, 14, 12, 18, 33, 39, 30, 12, 23, 22, 25, 19, 9, 5, 26, 12, 27, 34, 24, 29, 31, 36, 22, 22, 14, 11, 31, 38, 28, 36, 34, 19, 26, 9, 24, 13, 12, 11, 7, 13], \"z\": [1, 1, 1, 1, 1, 1, 1, 1, 1, 1, 1, 1, 1, 1, 1, 1, 1, 1, 1, 1, 1, 1, 1, 1, 1, 1, 1, 1, 1, 1, 1, 2, 2, 2, 2, 2, 2, 2, 2, 2, 2, 2, 2, 2, 2, 2, 2, 2, 2, 2, 2, 2, 2, 2, 2, 2, 2, 2, 2, 3, 3, 3, 3, 3, 3, 3, 3, 3, 3, 3, 3, 3, 3, 3, 3, 3, 3, 3, 3, 3, 3, 3, 3, 3, 3, 3, 3, 3, 3, 3, 4, 4, 4, 4, 4, 4, 4, 4, 4, 4, 4, 4, 4, 4, 4, 4, 4, 4, 4, 4, 4, 4, 4, 4, 4, 4, 4, 4, 4, 4, 5, 5, 5, 5, 5, 5, 5, 5, 5, 5, 5, 5, 5, 5, 5, 5, 5, 5, 5, 5, 5, 5, 5, 5, 5, 5, 5, 5, 5, 5, 5, 6, 6, 6, 6, 6, 6, 6, 6, 6, 6, 6, 6, 6, 6, 6, 6, 6, 6, 6, 6, 6, 6, 6, 6, 6, 6, 6, 6, 6, 6, 7, 7, 7, 7, 7, 7, 7, 7, 7, 7, 7, 7, 7, 7, 7, 7, 7, 7, 7, 7, 7, 7, 7, 7, 7, 7, 7, 7, 7, 7, 7, 8, 8, 8, 8, 8, 8, 8, 8, 8, 8, 8, 8, 8, 8, 8, 8, 8, 8, 8, 8, 8, 8, 8, 8, 8, 8, 8, 8, 8, 8, 8, 9, 9, 9, 9, 9, 9, 9, 9, 9, 9, 9, 9, 9, 9, 9, 9, 9, 9, 9, 9, 9, 9, 9, 9, 9, 9, 9, 9, 9, 9, 10, 10, 10, 10, 10, 10, 10, 10, 10, 10, 10, 10, 10, 10, 10, 10, 10, 10, 10, 10, 10, 10, 10, 10, 10, 10, 10, 10, 10, 10, 10, 11, 11, 11, 11, 11, 11, 11, 11, 11, 11, 11, 11, 11, 11, 11, 11, 11, 11, 11, 11, 11, 11, 11, 11, 11, 11, 11, 11, 11, 11, 12, 12, 12, 12, 12, 12, 12, 12, 12, 12, 12, 12, 12, 12, 12, 12, 12, 12, 12, 12, 12, 12, 12, 12, 12, 12, 12, 12, 12, 12, 12]}, {\"mode\": \"markers\", \"type\": \"scatter3d\", \"x\": [4, 5, 0, -1, -1, 2, 4, 6, 5, 1, 2, 3, 7, 8, 4, 1, 5, 1, 6, 4, 0, 5, 3, 0, 8, 8, 7, 4, 5, 3, 2, 6, 2, 0, 5, 4, 10, 9, 8, 9, 8, 5, 3, 2, 2, 6, 6, 7, 5, 5, 4, 6, 7, 8, 5, 5, 7, 9, 9, 7, 6, 9, 7, 7, 9, 6, 5, 8, 8, 5, 4, 6, 6, 10, 10, 5, 4, 3, 4, 5, 6, 7, 5, 3, 1, 2, 3, 4, 6, 7, 6, 6, 3, 1, 5, 4, 7, 5, 6, 5, 6, 2, 2, 4, 4, 8, 7, 9, 12, 11, 11, 10, 11, 9, 7, 6, 7, 6, 6, 6, 9, 7, 6, 5, 2, 3, 6, 9, 9, 8, 10, 7, 6, 8, 9, 8, 10, 10, 8, 8, 8, 11, 13, 10, 10, 11, 13, 9, 8, 11, 11, 16, 15, 14, 13, 10, 9, 13, 11, 10, 9, 7, 8, 10, 10, 10, 13, 10, 17, 14, 12, 10, 11, 15, 16, 15, 19, 23, 25, 18, 16, 15, 11, 15, 16, 17, 18, 16, 15, 14, 15, 18, 17, 13, 15, 13, 14, 15, 13, 14, 16, 15, 16, 21, 19, 23, 10, 14, 12, 13, 15, 14, 14, 15, 17, 16, 16, 17, 15, 15, 19, 15, 14, 13, 10, 13, 15, 14, 18, 14, 13, 12, 12, 14, 15, 18, 16, 17, 19, 16, 15, 14, 15, 13, 10, 11, 13, 10, 7, 12, 9, 10, 10, 11, 14, 14, 16, 16, 15, 13, 12, 11, 11, 17, 15, 13, 15, 14, 16, 14, 13, 13, 12, 14, 11, 9, 13, 13, 12, 5, 12, 12, 12, 12, 13, 15, 13, 10, 12, 10, 13, 12, 11, 8, 8, 12, 12, 11, 12, 9, 9, 9, 9, 13, 12, 11, 8, 8, 8, 7, 5, 5, 5, 5, 7, 6, 4, 5, 2, 5, 3, 3, 4, 2, 5, 5, 7, 3, 11, 10, 11, 6, 8, 7, 3, 1, 1, 0, 1, 3, 10, 10, 6, 4, 5, 5, 2, 7, 4, 4, 7, 7, 11, 7, 9, 4, 5, 9, 8, 5, 10, 5, 2, 4, 4], \"y\": [10, 18, 18, 15, 8, 7, 9, 18, 18, 14, 10, 12, 19, 14, 3, 15, 18, 16, 12, 16, 8, 18, 25, 8, 12, 21, 38, 14, 24, 20, 30, 17, 30, 10, 32, 9, 26, 24, 28, 29, 40, 20, 7, 15, 14, 12, 14, 23, 15, 9, 10, 8, 14, 10, 14, 14, 10, 11, 26, 14, 23, 36, 46, 28, 28, 28, 22, 23, 31, 20, 36, 31, 38, 30, 28, 34, 17, 5, 6, 15, 8, 10, 19, 21, 18, 19, 19, 15, 13, 9, 13, 30, 17, 25, 24, 16, 24, 15, 6, 17, 17, 12, 16, 14, 28, 18, 26, 16, 8, 21, 11, 24, 22, 30, 33, 32, 29, 17, 11, 10, 9, 19, 17, 26, 17, 9, 13, 37, 27, 23, 18, 19, 27, 29, 26, 21, 16, 9, 16, 16, 13, 7, 9, 20, 15, 15, 17, 23, 18, 17, 5, 9, 17, 14, 25, 15, 16, 42, 27, 14, 23, 15, 23, 21, 16, 28, 17, 8, 19, 26, 15, 13, 15, 16, 21, 9, 23, 18, 13, 18, 10, 17, 18, 26, 24, 20, 8, 12, 19, 25, 9, 21, 13, 15, 21, 14, 7, 18, 22, 18, 28, 17, 6, 27, 13, 23, 13, 17, 22, 29, 32, 19, 8, 15, 12, 19, 24, 17, 22, 18, 37, 32, 25, 28, 21, 27, 21, 24, 23, 24, 19, 11, 13, 13, 19, 14, 13, 9, 20, 20, 9, 8, 24, 14, 14, 9, 17, 20, 14, 18, 16, 15, 19, 17, 11, 16, 21, 14, 15, 20, 31, 33, 27, 27, 33, 24, 34, 25, 31, 31, 24, 41, 19, 35, 14, 17, 25, 16, 24, 19, 17, 32, 18, 22, 21, 28, 33, 28, 38, 27, 28, 12, 16, 12, 21, 22, 19, 24, 23, 21, 19, 18, 12, 19, 25, 32, 36, 39, 30, 18, 22, 26, 28, 20, 26, 20, 16, 5, 14, 18, 8, 8, 15, 13, 20, 32, 14, 12, 18, 33, 39, 30, 12, 23, 22, 25, 19, 9, 5, 26, 12, 27, 34, 24, 29, 31, 36, 22, 22, 14, 11, 31, 38, 28, 36, 34, 19, 26, 9, 24, 13, 12, 11, 7, 13], \"z\": [1, 1, 1, 1, 1, 1, 1, 1, 1, 1, 1, 1, 1, 1, 1, 1, 1, 1, 1, 1, 1, 1, 1, 1, 1, 1, 1, 1, 1, 1, 1, 2, 2, 2, 2, 2, 2, 2, 2, 2, 2, 2, 2, 2, 2, 2, 2, 2, 2, 2, 2, 2, 2, 2, 2, 2, 2, 2, 2, 3, 3, 3, 3, 3, 3, 3, 3, 3, 3, 3, 3, 3, 3, 3, 3, 3, 3, 3, 3, 3, 3, 3, 3, 3, 3, 3, 3, 3, 3, 3, 4, 4, 4, 4, 4, 4, 4, 4, 4, 4, 4, 4, 4, 4, 4, 4, 4, 4, 4, 4, 4, 4, 4, 4, 4, 4, 4, 4, 4, 4, 5, 5, 5, 5, 5, 5, 5, 5, 5, 5, 5, 5, 5, 5, 5, 5, 5, 5, 5, 5, 5, 5, 5, 5, 5, 5, 5, 5, 5, 5, 5, 6, 6, 6, 6, 6, 6, 6, 6, 6, 6, 6, 6, 6, 6, 6, 6, 6, 6, 6, 6, 6, 6, 6, 6, 6, 6, 6, 6, 6, 6, 7, 7, 7, 7, 7, 7, 7, 7, 7, 7, 7, 7, 7, 7, 7, 7, 7, 7, 7, 7, 7, 7, 7, 7, 7, 7, 7, 7, 7, 7, 7, 8, 8, 8, 8, 8, 8, 8, 8, 8, 8, 8, 8, 8, 8, 8, 8, 8, 8, 8, 8, 8, 8, 8, 8, 8, 8, 8, 8, 8, 8, 8, 9, 9, 9, 9, 9, 9, 9, 9, 9, 9, 9, 9, 9, 9, 9, 9, 9, 9, 9, 9, 9, 9, 9, 9, 9, 9, 9, 9, 9, 9, 10, 10, 10, 10, 10, 10, 10, 10, 10, 10, 10, 10, 10, 10, 10, 10, 10, 10, 10, 10, 10, 10, 10, 10, 10, 10, 10, 10, 10, 10, 10, 11, 11, 11, 11, 11, 11, 11, 11, 11, 11, 11, 11, 11, 11, 11, 11, 11, 11, 11, 11, 11, 11, 11, 11, 11, 11, 11, 11, 11, 11, 12, 12, 12, 12, 12, 12, 12, 12, 12, 12, 12, 12, 12, 12, 12, 12, 12, 12, 12, 12, 12, 12, 12, 12, 12, 12, 12, 12, 12, 12, 12]}],\n",
              "                        {\"template\": {\"data\": {\"bar\": [{\"error_x\": {\"color\": \"#2a3f5f\"}, \"error_y\": {\"color\": \"#2a3f5f\"}, \"marker\": {\"line\": {\"color\": \"#E5ECF6\", \"width\": 0.5}}, \"type\": \"bar\"}], \"barpolar\": [{\"marker\": {\"line\": {\"color\": \"#E5ECF6\", \"width\": 0.5}}, \"type\": \"barpolar\"}], \"carpet\": [{\"aaxis\": {\"endlinecolor\": \"#2a3f5f\", \"gridcolor\": \"white\", \"linecolor\": \"white\", \"minorgridcolor\": \"white\", \"startlinecolor\": \"#2a3f5f\"}, \"baxis\": {\"endlinecolor\": \"#2a3f5f\", \"gridcolor\": \"white\", \"linecolor\": \"white\", \"minorgridcolor\": \"white\", \"startlinecolor\": \"#2a3f5f\"}, \"type\": \"carpet\"}], \"choropleth\": [{\"colorbar\": {\"outlinewidth\": 0, \"ticks\": \"\"}, \"type\": \"choropleth\"}], \"contour\": [{\"colorbar\": {\"outlinewidth\": 0, \"ticks\": \"\"}, \"colorscale\": [[0.0, \"#0d0887\"], [0.1111111111111111, \"#46039f\"], [0.2222222222222222, \"#7201a8\"], [0.3333333333333333, \"#9c179e\"], [0.4444444444444444, \"#bd3786\"], [0.5555555555555556, \"#d8576b\"], [0.6666666666666666, \"#ed7953\"], [0.7777777777777778, \"#fb9f3a\"], [0.8888888888888888, \"#fdca26\"], [1.0, \"#f0f921\"]], \"type\": \"contour\"}], \"contourcarpet\": [{\"colorbar\": {\"outlinewidth\": 0, \"ticks\": \"\"}, \"type\": \"contourcarpet\"}], \"heatmap\": [{\"colorbar\": {\"outlinewidth\": 0, \"ticks\": \"\"}, \"colorscale\": [[0.0, \"#0d0887\"], [0.1111111111111111, \"#46039f\"], [0.2222222222222222, \"#7201a8\"], [0.3333333333333333, \"#9c179e\"], [0.4444444444444444, \"#bd3786\"], [0.5555555555555556, \"#d8576b\"], [0.6666666666666666, \"#ed7953\"], [0.7777777777777778, \"#fb9f3a\"], [0.8888888888888888, \"#fdca26\"], [1.0, \"#f0f921\"]], \"type\": \"heatmap\"}], \"heatmapgl\": [{\"colorbar\": {\"outlinewidth\": 0, \"ticks\": \"\"}, \"colorscale\": [[0.0, \"#0d0887\"], [0.1111111111111111, \"#46039f\"], [0.2222222222222222, \"#7201a8\"], [0.3333333333333333, \"#9c179e\"], [0.4444444444444444, \"#bd3786\"], [0.5555555555555556, \"#d8576b\"], [0.6666666666666666, \"#ed7953\"], [0.7777777777777778, \"#fb9f3a\"], [0.8888888888888888, \"#fdca26\"], [1.0, \"#f0f921\"]], \"type\": \"heatmapgl\"}], \"histogram\": [{\"marker\": {\"colorbar\": {\"outlinewidth\": 0, \"ticks\": \"\"}}, \"type\": \"histogram\"}], \"histogram2d\": [{\"colorbar\": {\"outlinewidth\": 0, \"ticks\": \"\"}, \"colorscale\": [[0.0, \"#0d0887\"], [0.1111111111111111, \"#46039f\"], [0.2222222222222222, \"#7201a8\"], [0.3333333333333333, \"#9c179e\"], [0.4444444444444444, \"#bd3786\"], [0.5555555555555556, \"#d8576b\"], [0.6666666666666666, \"#ed7953\"], [0.7777777777777778, \"#fb9f3a\"], [0.8888888888888888, \"#fdca26\"], [1.0, \"#f0f921\"]], \"type\": \"histogram2d\"}], \"histogram2dcontour\": [{\"colorbar\": {\"outlinewidth\": 0, \"ticks\": \"\"}, \"colorscale\": [[0.0, \"#0d0887\"], [0.1111111111111111, \"#46039f\"], [0.2222222222222222, \"#7201a8\"], [0.3333333333333333, \"#9c179e\"], [0.4444444444444444, \"#bd3786\"], [0.5555555555555556, \"#d8576b\"], [0.6666666666666666, \"#ed7953\"], [0.7777777777777778, \"#fb9f3a\"], [0.8888888888888888, \"#fdca26\"], [1.0, \"#f0f921\"]], \"type\": \"histogram2dcontour\"}], \"mesh3d\": [{\"colorbar\": {\"outlinewidth\": 0, \"ticks\": \"\"}, \"type\": \"mesh3d\"}], \"parcoords\": [{\"line\": {\"colorbar\": {\"outlinewidth\": 0, \"ticks\": \"\"}}, \"type\": \"parcoords\"}], \"pie\": [{\"automargin\": true, \"type\": \"pie\"}], \"scatter\": [{\"marker\": {\"colorbar\": {\"outlinewidth\": 0, \"ticks\": \"\"}}, \"type\": \"scatter\"}], \"scatter3d\": [{\"line\": {\"colorbar\": {\"outlinewidth\": 0, \"ticks\": \"\"}}, \"marker\": {\"colorbar\": {\"outlinewidth\": 0, \"ticks\": \"\"}}, \"type\": \"scatter3d\"}], \"scattercarpet\": [{\"marker\": {\"colorbar\": {\"outlinewidth\": 0, \"ticks\": \"\"}}, \"type\": \"scattercarpet\"}], \"scattergeo\": [{\"marker\": {\"colorbar\": {\"outlinewidth\": 0, \"ticks\": \"\"}}, \"type\": \"scattergeo\"}], \"scattergl\": [{\"marker\": {\"colorbar\": {\"outlinewidth\": 0, \"ticks\": \"\"}}, \"type\": \"scattergl\"}], \"scattermapbox\": [{\"marker\": {\"colorbar\": {\"outlinewidth\": 0, \"ticks\": \"\"}}, \"type\": \"scattermapbox\"}], \"scatterpolar\": [{\"marker\": {\"colorbar\": {\"outlinewidth\": 0, \"ticks\": \"\"}}, \"type\": \"scatterpolar\"}], \"scatterpolargl\": [{\"marker\": {\"colorbar\": {\"outlinewidth\": 0, \"ticks\": \"\"}}, \"type\": \"scatterpolargl\"}], \"scatterternary\": [{\"marker\": {\"colorbar\": {\"outlinewidth\": 0, \"ticks\": \"\"}}, \"type\": \"scatterternary\"}], \"surface\": [{\"colorbar\": {\"outlinewidth\": 0, \"ticks\": \"\"}, \"colorscale\": [[0.0, \"#0d0887\"], [0.1111111111111111, \"#46039f\"], [0.2222222222222222, \"#7201a8\"], [0.3333333333333333, \"#9c179e\"], [0.4444444444444444, \"#bd3786\"], [0.5555555555555556, \"#d8576b\"], [0.6666666666666666, \"#ed7953\"], [0.7777777777777778, \"#fb9f3a\"], [0.8888888888888888, \"#fdca26\"], [1.0, \"#f0f921\"]], \"type\": \"surface\"}], \"table\": [{\"cells\": {\"fill\": {\"color\": \"#EBF0F8\"}, \"line\": {\"color\": \"white\"}}, \"header\": {\"fill\": {\"color\": \"#C8D4E3\"}, \"line\": {\"color\": \"white\"}}, \"type\": \"table\"}]}, \"layout\": {\"annotationdefaults\": {\"arrowcolor\": \"#2a3f5f\", \"arrowhead\": 0, \"arrowwidth\": 1}, \"coloraxis\": {\"colorbar\": {\"outlinewidth\": 0, \"ticks\": \"\"}}, \"colorscale\": {\"diverging\": [[0, \"#8e0152\"], [0.1, \"#c51b7d\"], [0.2, \"#de77ae\"], [0.3, \"#f1b6da\"], [0.4, \"#fde0ef\"], [0.5, \"#f7f7f7\"], [0.6, \"#e6f5d0\"], [0.7, \"#b8e186\"], [0.8, \"#7fbc41\"], [0.9, \"#4d9221\"], [1, \"#276419\"]], \"sequential\": [[0.0, \"#0d0887\"], [0.1111111111111111, \"#46039f\"], [0.2222222222222222, \"#7201a8\"], [0.3333333333333333, \"#9c179e\"], [0.4444444444444444, \"#bd3786\"], [0.5555555555555556, \"#d8576b\"], [0.6666666666666666, \"#ed7953\"], [0.7777777777777778, \"#fb9f3a\"], [0.8888888888888888, \"#fdca26\"], [1.0, \"#f0f921\"]], \"sequentialminus\": [[0.0, \"#0d0887\"], [0.1111111111111111, \"#46039f\"], [0.2222222222222222, \"#7201a8\"], [0.3333333333333333, \"#9c179e\"], [0.4444444444444444, \"#bd3786\"], [0.5555555555555556, \"#d8576b\"], [0.6666666666666666, \"#ed7953\"], [0.7777777777777778, \"#fb9f3a\"], [0.8888888888888888, \"#fdca26\"], [1.0, \"#f0f921\"]]}, \"colorway\": [\"#636efa\", \"#EF553B\", \"#00cc96\", \"#ab63fa\", \"#FFA15A\", \"#19d3f3\", \"#FF6692\", \"#B6E880\", \"#FF97FF\", \"#FECB52\"], \"font\": {\"color\": \"#2a3f5f\"}, \"geo\": {\"bgcolor\": \"white\", \"lakecolor\": \"white\", \"landcolor\": \"#E5ECF6\", \"showlakes\": true, \"showland\": true, \"subunitcolor\": \"white\"}, \"hoverlabel\": {\"align\": \"left\"}, \"hovermode\": \"closest\", \"mapbox\": {\"style\": \"light\"}, \"paper_bgcolor\": \"white\", \"plot_bgcolor\": \"#E5ECF6\", \"polar\": {\"angularaxis\": {\"gridcolor\": \"white\", \"linecolor\": \"white\", \"ticks\": \"\"}, \"bgcolor\": \"#E5ECF6\", \"radialaxis\": {\"gridcolor\": \"white\", \"linecolor\": \"white\", \"ticks\": \"\"}}, \"scene\": {\"xaxis\": {\"backgroundcolor\": \"#E5ECF6\", \"gridcolor\": \"white\", \"gridwidth\": 2, \"linecolor\": \"white\", \"showbackground\": true, \"ticks\": \"\", \"zerolinecolor\": \"white\"}, \"yaxis\": {\"backgroundcolor\": \"#E5ECF6\", \"gridcolor\": \"white\", \"gridwidth\": 2, \"linecolor\": \"white\", \"showbackground\": true, \"ticks\": \"\", \"zerolinecolor\": \"white\"}, \"zaxis\": {\"backgroundcolor\": \"#E5ECF6\", \"gridcolor\": \"white\", \"gridwidth\": 2, \"linecolor\": \"white\", \"showbackground\": true, \"ticks\": \"\", \"zerolinecolor\": \"white\"}}, \"shapedefaults\": {\"line\": {\"color\": \"#2a3f5f\"}}, \"ternary\": {\"aaxis\": {\"gridcolor\": \"white\", \"linecolor\": \"white\", \"ticks\": \"\"}, \"baxis\": {\"gridcolor\": \"white\", \"linecolor\": \"white\", \"ticks\": \"\"}, \"bgcolor\": \"#E5ECF6\", \"caxis\": {\"gridcolor\": \"white\", \"linecolor\": \"white\", \"ticks\": \"\"}}, \"title\": {\"x\": 0.05}, \"xaxis\": {\"automargin\": true, \"gridcolor\": \"white\", \"linecolor\": \"white\", \"ticks\": \"\", \"title\": {\"standoff\": 15}, \"zerolinecolor\": \"white\", \"zerolinewidth\": 2}, \"yaxis\": {\"automargin\": true, \"gridcolor\": \"white\", \"linecolor\": \"white\", \"ticks\": \"\", \"title\": {\"standoff\": 15}, \"zerolinecolor\": \"white\", \"zerolinewidth\": 2}}}},\n",
              "                        {\"responsive\": true}\n",
              "                    ).then(function(){\n",
              "                            \n",
              "var gd = document.getElementById('c8b10597-74ce-4ea9-b14a-1f02c6bc1fcb');\n",
              "var x = new MutationObserver(function (mutations, observer) {{\n",
              "        var display = window.getComputedStyle(gd).display;\n",
              "        if (!display || display === 'none') {{\n",
              "            console.log([gd, 'removed!']);\n",
              "            Plotly.purge(gd);\n",
              "            observer.disconnect();\n",
              "        }}\n",
              "}});\n",
              "\n",
              "// Listen for the removal of the full notebook cells\n",
              "var notebookContainer = gd.closest('#notebook-container');\n",
              "if (notebookContainer) {{\n",
              "    x.observe(notebookContainer, {childList: true});\n",
              "}}\n",
              "\n",
              "// Listen for the clearing of the current output cell\n",
              "var outputEl = gd.closest('.output');\n",
              "if (outputEl) {{\n",
              "    x.observe(outputEl, {childList: true});\n",
              "}}\n",
              "\n",
              "                        })\n",
              "                };\n",
              "                \n",
              "            </script>\n",
              "        </div>\n",
              "</body>\n",
              "</html>"
            ]
          },
          "metadata": {}
        }
      ]
    },
    {
      "cell_type": "code",
      "metadata": {
        "id": "dFTZvK0aC0vY"
      },
      "source": [
        "df_weather.WINDSPEED_MAX_KMH.min()"
      ],
      "execution_count": null,
      "outputs": []
    },
    {
      "cell_type": "code",
      "metadata": {
        "id": "3tURtVUEDAoP"
      },
      "source": [
        "df_weather.WINDSPEED_MAX_KMH.max()"
      ],
      "execution_count": null,
      "outputs": []
    },
    {
      "cell_type": "code",
      "metadata": {
        "id": "IyjWpixSDEUW"
      },
      "source": [
        "df_weather.MAX_TEMPERATURE_C.max()"
      ],
      "execution_count": null,
      "outputs": []
    },
    {
      "cell_type": "code",
      "metadata": {
        "id": "PaqQfTErDLnk"
      },
      "source": [
        "df_weather.MAX_TEMPERATURE_C.min()"
      ],
      "execution_count": null,
      "outputs": []
    },
    {
      "cell_type": "markdown",
      "metadata": {
        "id": "PatCi-HlEIV4"
      },
      "source": [
        "## 3D Chart are impressive, but not readable, let's try another thing with the same data.\n",
        "## Dynamic chart !\n",
        "\n",
        "Tip : You can force the scale of an axis with update axes. For example, to have a X-axis between 0 and 20, uou should use :\n",
        "`fig.update_xaxes(range=[0, 20])`.\n",
        "And of course, it's is the same for Y-axis with `update_yaxes`."
      ]
    },
    {
      "cell_type": "code",
      "metadata": {
        "id": "KHdEHyk83no2"
      },
      "source": [
        "# Draw a scatterplot with Max Temperature on X-axis, Windspeed on Y-axis (same as previously), and Month on animation_frame argument.\n",
        "\n",
        "fig = px.scatter(df_weather,\n",
        "                 x= \"MAX_TEMPERATURE_C\", y=\"WINDSPEED_MAX_KMH\",\n",
        "                 labels={'MAX_TEMPERATURE_C':'Max. Temperature', 'WINDSPEED_MAX_KMH':'Windspeed'},\n",
        "                 size='WINDSPEED_MAX_KMH',\n",
        "                 animation_frame=\"MONTH\",                \n",
        "                 color=\"MAX_TEMPERATURE_C\"\n",
        "                 ) \n",
        "\n",
        "# But... hey ! My dots are going away outside of my chart ! You have to catch them ! (or maybe just change the default value of the scale axis range)\n",
        "fig.update_xaxes(range=[3, 30])\n",
        "fig.update_yaxes(range=[10, 40])\n",
        "\n",
        "\n",
        "fig.update_layout(title_text ='<b>Max temperature with windspeed<b>',\n",
        "                  title_x = 0.5,\n",
        "                  width = 1200, height = 800)\n",
        "    \n",
        "   \n",
        "\n",
        "fig.show()\n",
        "\n",
        "\n",
        "# You can push the play button below. That's cool, it's dynamic and readable !\n",
        "\n",
        "\n",
        "\n",
        "\n"
      ],
      "execution_count": null,
      "outputs": []
    },
    {
      "cell_type": "markdown",
      "metadata": {
        "id": "xM2Od8FgFl2T"
      },
      "source": [
        "## Another dynamic bubble colored chart\n",
        "Draw a chart with Day for X-axis and Month for animation.\n",
        "\n",
        "Choose you prefered variables for Y-axis, color and size.\n",
        "\n",
        "Of course, don't forget to add title, legend, etc...\n"
      ]
    },
    {
      "cell_type": "code",
      "metadata": {
        "id": "gzukm-TpFrYi"
      },
      "source": [
        "# Your code here :\n",
        "\n",
        "fig = px.scatter(df_weather,\n",
        "                 x= \"DAY\", y=\"TEMPERATURE_EVENING_C\",\n",
        "                 labels={'MAX_TEMPERATURE_C':'Max. Temperature', 'DAY':'Days'},                 \n",
        "                 animation_frame=\"MONTH\",                \n",
        "                 color=\"TEMPERATURE_EVENING_C\"\n",
        "                 ) \n",
        "\n",
        "fig.update_xaxes(range=[3, 30])\n",
        "fig.update_yaxes(range=[10, 40])\n",
        "\n",
        "\n",
        "fig.update_layout(title_text ='<b>Temperature evening per day<b>',\n",
        "                  title_x = 0.5,\n",
        "                  width = 800, height = 600)\n",
        "    \n",
        "   \n",
        "\n",
        "fig.show()"
      ],
      "execution_count": null,
      "outputs": []
    },
    {
      "cell_type": "markdown",
      "metadata": {
        "id": "iYN51tAZGPGI"
      },
      "source": [
        "# Export\n",
        "You just have to execute the code below to download your HTML page. Congratulations ! That's a first step for your data portfolio !\n",
        "\n",
        "For your information, Plotly export D3.js document embedded in an HTML page. D3.js is JavaScript library. You don't need to know JavaScript to export from Plotly. But, if you are insterested, you [can go here](https://d3js.org/)."
      ]
    },
    {
      "cell_type": "code",
      "metadata": {
        "id": "2eqg-IYp1NJe"
      },
      "source": [
        "# Export en page web edimensionnabla D3JS\n",
        "from plotly.offline import plot\n",
        "plot(fig)\n",
        "\n",
        "from google.colab import files\n",
        "files.download('temp-plot.html')"
      ],
      "execution_count": null,
      "outputs": []
    }
  ]
}