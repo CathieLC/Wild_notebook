{
  "nbformat": 4,
  "nbformat_minor": 0,
  "metadata": {
    "colab": {
      "name": "01. Python et les chaînes de caractères.ipynb",
      "provenance": [],
      "collapsed_sections": [],
      "include_colab_link": true
    },
    "kernelspec": {
      "name": "python3",
      "display_name": "Python 3"
    }
  },
  "cells": [
    {
      "cell_type": "markdown",
      "metadata": {
        "id": "view-in-github",
        "colab_type": "text"
      },
      "source": [
        "<a href=\"https://colab.research.google.com/github/CathieLC/Wild_notebook_2021-2022/blob/main/01_Python_et_les_cha%C3%AEnes_de_caract%C3%A8res.ipynb\" target=\"_parent\"><img src=\"https://colab.research.google.com/assets/colab-badge.svg\" alt=\"Open In Colab\"/></a>"
      ]
    },
    {
      "cell_type": "markdown",
      "metadata": {
        "id": "LoJw-LlCTnWF"
      },
      "source": [
        "# Mission 1\n",
        "\n",
        "Create a script that uses the len method to display the length of the string named: \"string\" below.\n",
        "\n",
        "We want to count only characters, so ignore the number of spaces\n",
        ".\n",
        "\n",
        "string = \"Taumata whakatangihanga koauau o tamatea turi pukaka piki maungah oronuku pokai whenuaki tanatahu \""
      ]
    },
    {
      "cell_type": "code",
      "metadata": {
        "id": "oweHYwlm1EVo",
        "colab": {
          "base_uri": "https://localhost:8080/"
        },
        "outputId": "845c1dc0-08ec-4c61-c02b-bb4b9760969d"
      },
      "source": [
        "string = \"Taumata whakatangihanga koauau o tamatea turi pukaka piki maungah oronuku pokai whenuaki tanatahu \"\n",
        "print(len(string.replace(\" \",\"\")))"
      ],
      "execution_count": null,
      "outputs": [
        {
          "output_type": "stream",
          "name": "stdout",
          "text": [
            "85\n"
          ]
        }
      ]
    },
    {
      "cell_type": "markdown",
      "metadata": {
        "id": "J3bsGIvAT049"
      },
      "source": [
        "# Mission 2\n",
        "\n",
        "Create a script that takes a string as one parameter and a character as another parameter. Your script should return the position (starting with 1 and not 0) of all occurrences of the character within the string.\n",
        "\n",
        "For example, for the word \"hello\" and for the character \"o\", the script will return :\n",
        "- \"position : 5\""
      ]
    },
    {
      "cell_type": "code",
      "metadata": {
        "id": "Fy1OmPSUXNaP",
        "colab": {
          "base_uri": "https://localhost:8080/"
        },
        "outputId": "e2b41a20-c7cf-4770-e1d3-1d6997faf0d4"
      },
      "source": [
        "string = input(\"write a string : \")\n",
        "letter = input(\"choose a letter in your string : \")\n",
        "\n",
        "for index in range(len(string)) :\n",
        "  if string[index] == letter :\n",
        "    print(\"position :\", index+1)\n"
      ],
      "execution_count": null,
      "outputs": [
        {
          "output_type": "stream",
          "name": "stdout",
          "text": [
            "write a string : il fait beau aujourd'hui\n",
            "choose a letter in your string : i\n",
            "position : 1\n",
            "position : 6\n",
            "position : 24\n"
          ]
        }
      ]
    },
    {
      "cell_type": "markdown",
      "metadata": {
        "id": "dVl36lvlWLdV"
      },
      "source": [
        "# Mission 3\n",
        "\n",
        "Create a script that only displays a particular part of a string it receives. In other words, make it so that you are able to decide the exact character range (e.g. 2nd to 5th character) to be displayed."
      ]
    },
    {
      "cell_type": "code",
      "metadata": {
        "id": "pN3_mD4YSPfb",
        "colab": {
          "base_uri": "https://localhost:8080/"
        },
        "outputId": "30f08231-b057-4c18-90c2-2ca9336a8e2e"
      },
      "source": [
        "word = \"python\"\n",
        "\n",
        "print(word[2:5])"
      ],
      "execution_count": null,
      "outputs": [
        {
          "output_type": "stream",
          "name": "stdout",
          "text": [
            "tho\n"
          ]
        }
      ]
    },
    {
      "cell_type": "markdown",
      "metadata": {
        "id": "GCvpkWzXXPTf"
      },
      "source": [
        "# Mission 4\n",
        "\n",
        "Find 3 ways to return the following string without including the spaces at the beginning and the end: \" Data Analyst \"."
      ]
    },
    {
      "cell_type": "code",
      "metadata": {
        "id": "QjLMjogySPk_",
        "colab": {
          "base_uri": "https://localhost:8080/"
        },
        "outputId": "29939159-6794-4271-c28d-d498c40afe78"
      },
      "source": [
        "chain = \" Data Analyst \"\n",
        "\n",
        "# Method 1 :\n",
        "print(chain.strip())\n",
        "\n",
        "\n",
        "\n",
        "\n",
        "# Method 2 :\n",
        "print(chain[1:-1])\n",
        "\n",
        "\n",
        "\n",
        "\n",
        "# Method 3 :\n",
        "\n",
        "# import regex\n",
        "import re                 \n",
        "print(re.sub(r\"^\\s+|\\s+$\", \"\", chain))  \n",
        "# | c'est le \"ou\" ; ^\\s+ => I take whitespaces from start with ^ ; \\s+$ => same thing for the end of the string\n",
        "\n"
      ],
      "execution_count": null,
      "outputs": [
        {
          "output_type": "stream",
          "name": "stdout",
          "text": [
            "Data Analyst\n",
            "Data Analyst\n",
            "Data Analyst\n"
          ]
        }
      ]
    },
    {
      "cell_type": "markdown",
      "metadata": {
        "id": "V8ZS3aECXvuZ"
      },
      "source": [
        "# Mission 5\n",
        "\n",
        "Create a script that converts all vowels to uppercase and all consonants to lowercase."
      ]
    },
    {
      "cell_type": "code",
      "metadata": {
        "id": "ph_j97PoSPmU",
        "colab": {
          "base_uri": "https://localhost:8080/"
        },
        "outputId": "96033d64-129a-41d9-9db9-f47fb5e3c0c1"
      },
      "source": [
        "import string\n",
        "\n",
        "chain = input(\"Please, write a string : \")\n",
        "\n",
        "list_vowels = [\"a\", \"e\", \"i\", \"o\", \"u\", \"y\",\"A\", \"E\", \"I\", \"O\", \"U\", \"Y\"]\n",
        "list_consonant = string.ascii_letters\n",
        "\n",
        "for letter in chain:\n",
        "    if letter in list_vowels:\n",
        "        print(letter.upper(), end=\"\")\n",
        "    elif letter in list_consonant :\n",
        "        print(letter.lower(), end=\"\")\n",
        "    else :\n",
        "        print(letter, end=\"\")"
      ],
      "execution_count": null,
      "outputs": [
        {
          "output_type": "stream",
          "name": "stdout",
          "text": [
            "Please, write a string : Il fait très beau iCi aujourd'hui, tu ne trouveS pAs ?\n",
            "Il fAIt très bEAU IcI AUjOUrd'hUI, tU nE trOUvEs pAs ?"
          ]
        }
      ]
    },
    {
      "cell_type": "markdown",
      "metadata": {
        "id": "geMLdrvAYHKx"
      },
      "source": [
        "# Mission 6\n",
        "\n",
        "Create a script that replaces one character with another and redisplays the modified string."
      ]
    },
    {
      "cell_type": "code",
      "metadata": {
        "id": "1-cenx3RSPpq",
        "colab": {
          "base_uri": "https://localhost:8080/"
        },
        "outputId": "5a1e4108-8202-48e8-e07a-12c61c2e9cc9"
      },
      "source": [
        "chain = input(\"please, thanks write a string : \")\n",
        "caract1 = input(\"Give me a letter in your string that you want replace  : \")\n",
        "caract2 = input(\"Give me a letter in string witch you wish replace to your first letter  : \")\n",
        "\n",
        "chain = list(chain)\n",
        "\n",
        "for index, letter in enumerate(chain):\n",
        "    if letter == caract1:\n",
        "        chain[index] = caract2\n",
        "\n",
        "print(''.join(chain))"
      ],
      "execution_count": null,
      "outputs": [
        {
          "output_type": "stream",
          "name": "stdout",
          "text": [
            "please, thanks write a string : Il fait beau ici, tu ne trouves pas ?\n",
            "Give me a letter in your string that you want replace  : a\n",
            "Give me a letter in string witch you wish replace to your first letter  : s\n",
            "Il fsit besu ici, tu ne trouves pss ?\n"
          ]
        }
      ]
    }
  ]
}