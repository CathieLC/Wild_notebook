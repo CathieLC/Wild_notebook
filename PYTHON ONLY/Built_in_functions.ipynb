{
  "nbformat": 4,
  "nbformat_minor": 0,
  "metadata": {
    "colab": {
      "name": "10 - CatherineLECALVE - Boîte à outils.ipynb",
      "provenance": [],
      "collapsed_sections": [],
      "authorship_tag": "ABX9TyO/EtTgIDiKqnC80F+XG+TF",
      "include_colab_link": true
    },
    "kernelspec": {
      "name": "python3",
      "display_name": "Python 3"
    },
    "language_info": {
      "name": "python"
    }
  },
  "cells": [
    {
      "cell_type": "markdown",
      "metadata": {
        "id": "view-in-github",
        "colab_type": "text"
      },
      "source": [
        "<a href=\"https://colab.research.google.com/github/CathieLC/Wild_notebook_2021-2022/blob/main/Built_in_functions.ipynb\" target=\"_parent\"><img src=\"https://colab.research.google.com/assets/colab-badge.svg\" alt=\"Open In Colab\"/></a>"
      ]
    },
    {
      "cell_type": "markdown",
      "metadata": {
        "id": "uzKBie068NWn"
      },
      "source": [
        "## 1er Outil : Méthode Python Random randrange()\n",
        "###random.randrange(a,b)\n",
        "#### Renvoi un nombre aléatoire entre les 2 valeurs a et b (b non inclus)\n"
      ]
    },
    {
      "cell_type": "code",
      "metadata": {
        "id": "vpXh3hVC96RW",
        "colab": {
          "base_uri": "https://localhost:8080/"
        },
        "outputId": "50fab090-9386-4b7f-bfc0-41534a43af65"
      },
      "source": [
        "import random\n",
        "\n",
        "random.randrange(3, 9)"
      ],
      "execution_count": null,
      "outputs": [
        {
          "output_type": "execute_result",
          "data": {
            "text/plain": [
              "6"
            ]
          },
          "metadata": {},
          "execution_count": 46
        }
      ]
    },
    {
      "cell_type": "markdown",
      "metadata": {
        "id": "5CFDg25n9fY9"
      },
      "source": [
        "## 2ème Outil : Méthode Python aléatoire shuffle()\n",
        "###random.shuffle(mylist)\n",
        "####La shuffle() méthode réorganise l'ordre des éléments placés en argurment"
      ]
    },
    {
      "cell_type": "code",
      "metadata": {
        "colab": {
          "base_uri": "https://localhost:8080/"
        },
        "id": "Qa--8Qu68gL7",
        "outputId": "c02809b3-cfd7-4d0f-a548-c1ad168a641d"
      },
      "source": [
        "import random\n",
        "\n",
        "mylist = [\"apple\", \"banana\", \"cherry\"]\n",
        "random.shuffle(mylist)\n",
        "\n",
        "mylist"
      ],
      "execution_count": null,
      "outputs": [
        {
          "output_type": "execute_result",
          "data": {
            "text/plain": [
              "['banana', 'apple', 'cherry']"
            ]
          },
          "metadata": {},
          "execution_count": 26
        }
      ]
    },
    {
      "cell_type": "markdown",
      "metadata": {
        "id": "pkx_lyaW9kBq"
      },
      "source": [
        "## 3ème Outil : Méthode Python aléatoire sample()\n",
        "###random.sample(*liste*, k=*nombre de valeurs*)\n",
        "####La sample() méthode renvoie une liste avec une sélection aléatoire d'un nombre spécifié d'éléments d'une séquence."
      ]
    },
    {
      "cell_type": "code",
      "metadata": {
        "colab": {
          "base_uri": "https://localhost:8080/"
        },
        "id": "yi4t6fZf9kL4",
        "outputId": "8cbec023-d6d9-4217-d54c-ec575f5d3f7b"
      },
      "source": [
        "import random\n",
        "\n",
        "mylist = [\"Facebook\", \"Instagram\", \"Snapchat\", \"Twitter\"]\n",
        "\n",
        "random.sample(mylist, k=3)"
      ],
      "execution_count": null,
      "outputs": [
        {
          "output_type": "execute_result",
          "data": {
            "text/plain": [
              "['Snapchat', 'Facebook', 'Twitter']"
            ]
          },
          "metadata": {},
          "execution_count": 24
        }
      ]
    },
    {
      "cell_type": "markdown",
      "metadata": {
        "id": "NA8-Xmhg9kam"
      },
      "source": [
        "## 4ème Outil : math.fsum () Méthode\n",
        "###La math.fsum() méthode renvoie la somme de tous les éléments d'un itérable (tuples, tableaux, listes, etc.)."
      ]
    },
    {
      "cell_type": "code",
      "metadata": {
        "colab": {
          "base_uri": "https://localhost:8080/"
        },
        "id": "Ao9DpBNZ9ko5",
        "outputId": "b5356e46-a0bc-4214-bd9f-4d0b061ff497"
      },
      "source": [
        "import math\n",
        "\n",
        "print(math.fsum([1, 2, 3, 4, 5]))\n",
        "print(math.fsum([100, 400, 340, 500]))\n",
        "print(math.fsum([1.7, 0.3, 1.5, 4.5]))"
      ],
      "execution_count": null,
      "outputs": [
        {
          "output_type": "stream",
          "name": "stdout",
          "text": [
            "15.0\n",
            "1340.0\n",
            "8.0\n"
          ]
        }
      ]
    },
    {
      "cell_type": "markdown",
      "metadata": {
        "id": "wDPUvFGQ9kxV"
      },
      "source": [
        "## 5ème Outil : Méthode math.pow(a,b)\n",
        "Renvoit la valeur de a puissance b \n",
        "\n",
        "#####Si x est négatif et y n'est pas un entier, il renvoie une ValueError.\n",
        "\n",
        "#####Cette méthode convertit les deux arguments en flottant."
      ]
    },
    {
      "cell_type": "code",
      "metadata": {
        "colab": {
          "base_uri": "https://localhost:8080/"
        },
        "id": "CWHtP1329k5W",
        "outputId": "2f64cb54-5380-40e2-cfc0-d7755629b44a"
      },
      "source": [
        "import math\n",
        " \n",
        "math.pow(4, 3)"
      ],
      "execution_count": null,
      "outputs": [
        {
          "output_type": "execute_result",
          "data": {
            "text/plain": [
              "64.0"
            ]
          },
          "metadata": {},
          "execution_count": 34
        }
      ]
    },
    {
      "cell_type": "markdown",
      "metadata": {
        "id": "VhO4C_uu9lAl"
      },
      "source": [
        "## 6ème Outil : Méthode Python List append()\n",
        "###La append() méthode ajoute un élément à la fin de la liste."
      ]
    },
    {
      "cell_type": "code",
      "metadata": {
        "colab": {
          "base_uri": "https://localhost:8080/"
        },
        "id": "IpzK-d5t9lH5",
        "outputId": "f3b6b850-dd39-4d6d-bef4-7eaa918c1eb4"
      },
      "source": [
        "fruits = ['apple', 'banana', 'cherry']\n",
        "fruits.append(\"orange\")\n",
        "\n",
        "fruits"
      ],
      "execution_count": null,
      "outputs": [
        {
          "output_type": "execute_result",
          "data": {
            "text/plain": [
              "['apple', 'banana', 'cherry', 'orange']"
            ]
          },
          "metadata": {},
          "execution_count": 36
        }
      ]
    },
    {
      "cell_type": "markdown",
      "metadata": {
        "id": "dyyDrMH69lO0"
      },
      "source": [
        "## 7ème Outil : Méthode Python List insert()\n",
        "###La insert() méthode insère la valeur spécifiée à la position spécifiée."
      ]
    },
    {
      "cell_type": "code",
      "metadata": {
        "colab": {
          "base_uri": "https://localhost:8080/"
        },
        "id": "aLc6AwON9lV6",
        "outputId": "7e4fd17e-c725-4f90-acf8-27aada1b2760"
      },
      "source": [
        "fruits = ['apple', 'banana', 'cherry']\n",
        "fruits.insert(1, \"orange\")\n",
        "\n",
        "fruits"
      ],
      "execution_count": null,
      "outputs": [
        {
          "output_type": "execute_result",
          "data": {
            "text/plain": [
              "['apple', 'orange', 'banana', 'cherry']"
            ]
          },
          "metadata": {},
          "execution_count": 41
        }
      ]
    },
    {
      "cell_type": "markdown",
      "metadata": {
        "id": "tyvaxAOa9lcm"
      },
      "source": [
        "## 8ème Outil : Méthode Python List reverse()\n",
        "###La reverse() méthode inverse l'ordre de tri des éléments."
      ]
    },
    {
      "cell_type": "code",
      "metadata": {
        "colab": {
          "base_uri": "https://localhost:8080/"
        },
        "id": "q9osTUUv9ljy",
        "outputId": "c192bbdd-142f-4385-dae2-a9307d91941c"
      },
      "source": [
        "fruits = ['apple', 'orange', 'banana', 'cherry']\n",
        "fruits.reverse()\n",
        "\n",
        "fruits"
      ],
      "execution_count": null,
      "outputs": [
        {
          "output_type": "execute_result",
          "data": {
            "text/plain": [
              "['cherry', 'banana', 'orange', 'apple']"
            ]
          },
          "metadata": {},
          "execution_count": 42
        }
      ]
    },
    {
      "cell_type": "markdown",
      "metadata": {
        "id": "Ho92eemV9oNH"
      },
      "source": [
        "## 9ème Outil : Méthode des valeurs du dictionnaire Python ()\n",
        "###La values() méthode renvoie un objet de vue. L'objet de vue contient les valeurs du dictionnaire, sous forme de liste."
      ]
    },
    {
      "cell_type": "code",
      "metadata": {
        "colab": {
          "base_uri": "https://localhost:8080/"
        },
        "id": "jUR7RD2R9oVn",
        "outputId": "c05b3a4c-95fd-4454-eeb0-71f37a4448c2"
      },
      "source": [
        "car = {\n",
        "  \"brand\": \"Ford\",\n",
        "  \"model\": \"Mustang\",\n",
        "  \"year\": 1964\n",
        "}\n",
        "\n",
        "x = car.values()\n",
        "\n",
        "x"
      ],
      "execution_count": null,
      "outputs": [
        {
          "output_type": "execute_result",
          "data": {
            "text/plain": [
              "dict_values(['Ford', 'Mustang', 1964])"
            ]
          },
          "metadata": {},
          "execution_count": 44
        }
      ]
    },
    {
      "cell_type": "markdown",
      "metadata": {
        "id": "BlsDPI1p9odM"
      },
      "source": [
        "## 10ème Outil : Méthode de mise à jour du dictionnaire\n",
        "###La update() méthode insère les éléments spécifiés dans le dictionnaire."
      ]
    },
    {
      "cell_type": "code",
      "metadata": {
        "colab": {
          "base_uri": "https://localhost:8080/"
        },
        "id": "6HFgnyNo9ok9",
        "outputId": "28c963a6-d826-4282-88c9-097b1c24691f"
      },
      "source": [
        "car = {\n",
        "  \"brand\": \"Ford\",\n",
        "  \"model\": \"Mustang\",\n",
        "  \"year\": 1964\n",
        "}\n",
        "\n",
        "car.update({\"color\": \"White\"})\n",
        "\n",
        "print(car)"
      ],
      "execution_count": null,
      "outputs": [
        {
          "output_type": "stream",
          "name": "stdout",
          "text": [
            "{'brand': 'Ford', 'model': 'Mustang', 'year': 1964, 'color': 'White'}\n"
          ]
        }
      ]
    }
  ]
}