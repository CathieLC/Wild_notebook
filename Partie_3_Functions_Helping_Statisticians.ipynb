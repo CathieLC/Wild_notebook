{
  "nbformat": 4,
  "nbformat_minor": 0,
  "metadata": {
    "colab": {
      "name": "07. Au secours des statisticiens - Partie 3.ipynb",
      "provenance": [],
      "collapsed_sections": [],
      "include_colab_link": true
    },
    "kernelspec": {
      "name": "python3",
      "display_name": "Python 3"
    }
  },
  "cells": [
    {
      "cell_type": "markdown",
      "metadata": {
        "id": "view-in-github",
        "colab_type": "text"
      },
      "source": [
        "<a href=\"https://colab.research.google.com/github/CathieLC/Wild_notebook_2021-2022/blob/main/Partie_3_Functions_Helping_Statisticians.ipynb\" target=\"_parent\"><img src=\"https://colab.research.google.com/assets/colab-badge.svg\" alt=\"Open In Colab\"/></a>"
      ]
    },
    {
      "cell_type": "markdown",
      "metadata": {
        "id": "zsHobPhC3ffd"
      },
      "source": [
        "\n",
        "## Mathematical functions that need coding\n",
        "![Find x](https://www.mathwarehouse.com/jokes/images/find-x-funny-math-image-joke.webp)\n",
        "\n",
        "**Now the statisticians are begging you to code ready-made math functions for them. Below are the functions they use most often. Code the functions in the cells below:**\n",
        "\n",
        "- Square of a number: Create a function that returns the square of a number.\n",
        "- Cube of a number: Create a function that returns the cube of a number.\n",
        "- Absolute value: Create a function that returns the absolute value of a number.\n",
        "- Factorial of a number: Create a function that returns the factorial of a number.\n",
        "- Mode of a list of numbers: Create a function that returns the mode of a list of numbers.\n",
        "- Average of a list of numbers: Create a function that returns the average of a list of numbers.\n",
        "- Minimum of a list of numbers: Create a function that returns the minimum from within a list of numbers.\n",
        "- Maximum of a list of numbers: Create a function that returns the maximum from within a list of numbers.\n",
        "\n",
        "**Yes, all those functions already exist in dedicated modules, and you may not reuse them, unfortunately: you may only use loops, conditionals, basic structures, `len`, addition, subtraction, multiplication, division and powers.**\n",
        "\n",
        "**Don't forget to test your functions with at least two possible cases!**"
      ]
    },
    {
      "cell_type": "markdown",
      "metadata": {
        "id": "5S33Z84UVMij"
      },
      "source": [
        "1 - Square of a number: Create a function that returns the square of a number."
      ]
    },
    {
      "cell_type": "code",
      "metadata": {
        "id": "LG06LRotlRyf",
        "colab": {
          "base_uri": "https://localhost:8080/"
        },
        "outputId": "82a08b7e-d5db-4e24-cdb2-9522e0957f86"
      },
      "source": [
        "def carre(nombre) :\n",
        "  carre = nombre**2\n",
        "  return carre\n",
        "\n",
        "carre(4)"
      ],
      "execution_count": null,
      "outputs": [
        {
          "output_type": "execute_result",
          "data": {
            "text/plain": [
              "16"
            ]
          },
          "metadata": {},
          "execution_count": 3
        }
      ]
    },
    {
      "cell_type": "markdown",
      "metadata": {
        "id": "eOU6Ts-DVSFd"
      },
      "source": [
        "2 - Cube of a number: Create a function that returns the cube of a number."
      ]
    },
    {
      "cell_type": "code",
      "metadata": {
        "colab": {
          "base_uri": "https://localhost:8080/"
        },
        "id": "zyvH_x3oVW8A",
        "outputId": "3ffb3797-187d-4fd0-ca02-99a91058378e"
      },
      "source": [
        "def cube(nombre) :\n",
        "  cube = nombre**3\n",
        "  return cube\n",
        "\n",
        "cube(3)"
      ],
      "execution_count": null,
      "outputs": [
        {
          "output_type": "execute_result",
          "data": {
            "text/plain": [
              "27"
            ]
          },
          "metadata": {},
          "execution_count": 5
        }
      ]
    },
    {
      "cell_type": "markdown",
      "metadata": {
        "id": "2V1CVU1pVXMw"
      },
      "source": [
        "3 - Absolute value: Create a function that returns the absolute value of a number."
      ]
    },
    {
      "cell_type": "code",
      "metadata": {
        "colab": {
          "base_uri": "https://localhost:8080/"
        },
        "id": "TsdqbxbHVksV",
        "outputId": "e5e0271a-f4d2-4ecf-ed8a-ae1799219591"
      },
      "source": [
        "def absolutevalue(number):\n",
        "  if number <0 :\n",
        "    return number * -1\n",
        "  else:\n",
        "    return number\n",
        "\n",
        "a=-26\n",
        "absolutevalue(a)\n"
      ],
      "execution_count": null,
      "outputs": [
        {
          "output_type": "execute_result",
          "data": {
            "text/plain": [
              "26"
            ]
          },
          "metadata": {},
          "execution_count": 9
        }
      ]
    },
    {
      "cell_type": "markdown",
      "metadata": {
        "id": "rLBzekxTVk-i"
      },
      "source": [
        "4 - Factorial of a number: Create a function that returns the factorial of a number."
      ]
    },
    {
      "cell_type": "code",
      "metadata": {
        "colab": {
          "base_uri": "https://localhost:8080/",
          "height": 35
        },
        "id": "oMt5ifuLVp12",
        "outputId": "c2aa0e01-1f99-430e-cb90-7af0f1131d72"
      },
      "source": [
        "def factorial(number):\n",
        "    fact = 1\n",
        "    if number<0:\n",
        "      return \"A factorial can only be calculated as a natural integer, in other words a positive integer, please enter a positive number.\"\n",
        "\n",
        "    for i in range(1, number + 1):\n",
        "\n",
        "        fact = fact * i\n",
        "    return f\"The factorial of {number} is : {fact}\"\n",
        "\n",
        "number_for_calculate_fact = 18\n",
        "factorial(number_for_calculate_fact)"
      ],
      "execution_count": null,
      "outputs": [
        {
          "output_type": "execute_result",
          "data": {
            "application/vnd.google.colaboratory.intrinsic+json": {
              "type": "string"
            },
            "text/plain": [
              "'The factorial of 18 is : 6402373705728000'"
            ]
          },
          "metadata": {},
          "execution_count": 2
        }
      ]
    },
    {
      "cell_type": "markdown",
      "metadata": {
        "id": "gWNuB0oTVqJf"
      },
      "source": [
        "5 - Mode of a list of numbers: Create a function that returns the mode of a list of numbers"
      ]
    },
    {
      "cell_type": "code",
      "metadata": {
        "colab": {
          "base_uri": "https://localhost:8080/"
        },
        "id": "R4XDdEpvVtxQ",
        "outputId": "5ded7ee8-177a-4810-aad6-710a01f11969"
      },
      "source": [
        "#exemple : le mode de la série {4, 2, 4, 3, 2, 2} est 2 car il apparaît trois fois\n",
        "\n",
        "def mode_calcul(liste):\n",
        "    if liste == []:\n",
        "        return None\n",
        "    else:\n",
        "        return max(set(liste), key=liste.count)\n",
        "\n",
        "liste_of_numbers = [4, 2, 4, 3, 2, 2, 4, 2, 4, 3, 2, 2, 4 ,4 ,4 ]\n",
        "\n",
        "mode_calcul(liste_of_numbers)\n"
      ],
      "execution_count": null,
      "outputs": [
        {
          "output_type": "execute_result",
          "data": {
            "text/plain": [
              "4"
            ]
          },
          "metadata": {},
          "execution_count": 1
        }
      ]
    },
    {
      "cell_type": "markdown",
      "metadata": {
        "id": "WFDFDRWYVt7K"
      },
      "source": [
        "6 - Average of a list of numbers: Create a function that returns the average of a list of numbers"
      ]
    },
    {
      "cell_type": "code",
      "metadata": {
        "colab": {
          "base_uri": "https://localhost:8080/",
          "height": 35
        },
        "id": "Cmt01t_DVxSW",
        "outputId": "0f51d155-3cfc-4de0-c3db-b6bb45116d70"
      },
      "source": [
        "def calcul_average(number_list):\n",
        "    \n",
        "    average = round((sum(number_list)/len(number_list)),2)\n",
        "\n",
        "    # Round() renvoi un nombre flottant qui sera arrondi aux décimales\n",
        "    # données en entrée sinon le float est trop long.\n",
        "\n",
        "    return f\"The average is {average}\"\n",
        "    \n",
        "liste = [45, 34, 10, 36, 12, 6, 80]\n",
        "calcul_average(liste)"
      ],
      "execution_count": null,
      "outputs": [
        {
          "output_type": "execute_result",
          "data": {
            "application/vnd.google.colaboratory.intrinsic+json": {
              "type": "string"
            },
            "text/plain": [
              "'The average is 31.86'"
            ]
          },
          "metadata": {},
          "execution_count": 23
        }
      ]
    },
    {
      "cell_type": "markdown",
      "metadata": {
        "id": "On-PSVx4Vxbl"
      },
      "source": [
        "7 - Minimum of a list of numbers: Create a function that returns the minimum from within a list of numbers"
      ]
    },
    {
      "cell_type": "code",
      "metadata": {
        "colab": {
          "base_uri": "https://localhost:8080/"
        },
        "id": "rCJdJHm_Vxqx",
        "outputId": "e5a1147b-4c7a-4471-f108-98f015c48920"
      },
      "source": [
        "def min_value(liste):\n",
        "  min_value = None\n",
        "  for num in liste :\n",
        "      if (min_value is None or num < min_value):\n",
        "          min_value = num\n",
        "  return min_value\n",
        "\n",
        "\n",
        "x = [5, 10, 12, 2, 1, 15, 25]\n",
        "min_value(x)"
      ],
      "execution_count": null,
      "outputs": [
        {
          "output_type": "execute_result",
          "data": {
            "text/plain": [
              "1"
            ]
          },
          "metadata": {},
          "execution_count": 4
        }
      ]
    },
    {
      "cell_type": "markdown",
      "metadata": {
        "id": "AmYH7Ex7Vxy7"
      },
      "source": [
        "8 - Maximum of a list of numbers: Create a function that returns the maximum from within a list of numbers."
      ]
    },
    {
      "cell_type": "code",
      "metadata": {
        "colab": {
          "base_uri": "https://localhost:8080/"
        },
        "id": "j42mG5oJVyBF",
        "outputId": "251fd6e5-de34-4b19-a931-85c7a30f7ea6"
      },
      "source": [
        "def max_value(liste):\n",
        "  max_value = None\n",
        "  for num in liste :\n",
        "      if (max_value is None or num > max_value):\n",
        "          max_value = num\n",
        "  return max_value\n",
        "\n",
        "y = [5, 10, 12, 2, 0, 15, 25]\n",
        "max_value(y)"
      ],
      "execution_count": null,
      "outputs": [
        {
          "output_type": "execute_result",
          "data": {
            "text/plain": [
              "25"
            ]
          },
          "metadata": {},
          "execution_count": 2
        }
      ]
    }
  ]
}