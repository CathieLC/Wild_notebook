{
  "nbformat": 4,
  "nbformat_minor": 0,
  "metadata": {
    "colab": {
      "name": "2021 Q1 Checkpoint 1 data.ipynb",
      "provenance": [],
      "collapsed_sections": [],
      "include_colab_link": true
    },
    "kernelspec": {
      "name": "python3",
      "display_name": "Python 3"
    }
  },
  "cells": [
    {
      "cell_type": "markdown",
      "metadata": {
        "id": "view-in-github",
        "colab_type": "text"
      },
      "source": [
        "<a href=\"https://colab.research.google.com/github/CathieLC/Wild_notebook_2021-2022/blob/main/2021_Q1_Checkpoint_1_data.ipynb\" target=\"_parent\"><img src=\"https://colab.research.google.com/assets/colab-badge.svg\" alt=\"Open In Colab\"/></a>"
      ]
    },
    {
      "cell_type": "markdown",
      "metadata": {
        "id": "TYrzh-8uK9ib"
      },
      "source": [
        "C'est ton premier checkpoint.\n",
        "Les 5 exercices sont indépendants. Tu peux donc les effectuer dans l'ordre que tu préfères.\n",
        "\n",
        "Essaye de finir ce checkpoint en 4h. Si tu n'as pas tout fini, ce n'est pas grave. Tu pourras le reprendre plus tard, tu indiqueras simplement en commentaire ce que tu as fait a posteriori.\n",
        "Nous t'avons indiqué des durées estimatives. Evidemment chacun a ses forces et ses faiblesses, avance donc à ton rythme. Cependant, si tu vois que tu dépasses une durée, ne reste pas bloqué, passe à l'exercice suivant. Tu pourras revenir à la fin sur ce que tu n'as pas fini."
      ]
    },
    {
      "cell_type": "markdown",
      "metadata": {
        "id": "815_otfHPX5a"
      },
      "source": [
        "#SQL - 45 min"
      ]
    },
    {
      "cell_type": "markdown",
      "metadata": {
        "id": "b2l_0IGPQgpp"
      },
      "source": [
        "A partir de la base de données client que [tu trouveras ici](https://www.w3schools.com/sql/trysql.asp?filename=trysql_op_in), crée une requête SQL qui fournit les noms de chaque catégorie, le chiffre d'affaire associé à cette catégorie, et le prix moyen pondéré des produits vendus pour cette catégorie. \n",
        "\n",
        "Le chiffre d'affaire sera arrondi à l'unité la plus proche, et le prix moyen comportera 2 décimales.\n",
        "\n",
        "Ce tableau devra être trié pour avoir les catégories avec le chiffre d'affaire le plus élevé en premier.\n",
        "\n",
        "Le code SQL devra être copié / collé dans un bloc de code ci-dessous.\n",
        "\n",
        "\n",
        "\n",
        "*** Voici les premières lignes attendues ***\n",
        "*********************\n",
        "\n",
        "Categories | Chiffre_d_affaire | Prix_moyen\n",
        "- |:-: | -:\n",
        "Beverages | 99465 | 43.45\n",
        "Dairy Products | 69921 | 26.88\n",
        "... | ... | ...\n",
        "\n",
        "Le lien précédent te permet de travailler directement dans ton navigateur (Chrome uniquement, ne fonctionne pas sur Firefox). Si tu préfères travailler en local sur MySQL Workbench, [voici un script pour charger la base](\n",
        "https://github.com/AndrejPHP/w3schools-database/blob/master/w3schools.sql)."
      ]
    },
    {
      "cell_type": "code",
      "metadata": {
        "id": "bRd5eTTlPZIZ"
      },
      "source": [
        "-- Ton code SQL ici :\n",
        "SELECT CategoryName, ROUND(SUM(Price*Quantity),-1) AS CA, ROUND(AVG(price),2) AS Prix_pondere_per_cat\n",
        "FROM Categories c\n",
        "JOIN Products p ON c.CategoryID = p.CategoryID\n",
        "JOIN OrderDetails od ON od.ProductID = p.ProductID\n",
        "GROUP BY CategoryName\n",
        "ORDER BY CA DESC;"
      ],
      "execution_count": null,
      "outputs": []
    },
    {
      "cell_type": "code",
      "metadata": {
        "id": "OiLo3JyEnB9m"
      },
      "source": [
        "#correction\n",
        "SELECT CategoryName, ROUND(SUM(Price*Quantity)) AS CA, ROUND(SUM(Quantity*Price)/ SUM(Quantity),2) AS Prix_pondere_per_cat\n",
        "FROM Categories c\n",
        "JOIN Products p ON c.CategoryID = p.CategoryID\n",
        "JOIN OrderDetails od ON od.ProductID = p.ProductID\n",
        "GROUP BY CategoryName\n",
        "ORDER BY CA DESC;\n"
      ],
      "execution_count": null,
      "outputs": []
    },
    {
      "cell_type": "markdown",
      "metadata": {
        "id": "JnOBqXLAHJju"
      },
      "source": [
        "# Tableur - 45 min"
      ]
    },
    {
      "cell_type": "code",
      "metadata": {
        "id": "JwtMDp3e9qcC"
      },
      "source": [
        ""
      ],
      "execution_count": null,
      "outputs": []
    },
    {
      "cell_type": "markdown",
      "metadata": {
        "id": "i-astmsSHLGn"
      },
      "source": [
        "Le responsable du reporting mensuel est absent, et il faut absolument envoyer le reporting de chiffre d'affaire (quantité * prix de chaque produit) aujourd'hui... mais impossible de remettre la main sur le fichier du mois dernier !\n",
        "\n",
        "Heureusement, tu as trouvé comment extraire les données, [tu les trouveras ici.](https://docs.google.com/spreadsheets/d/1T7zh6Swn4Yj8Feu-xcp-B7xeOQfBoBSWn7sRjx07GvI/edit?usp=sharing)\n",
        "\n",
        "Tu vas maintenant devoir recréer un graphique qui ressemblera au maximum à celui-ci, mais en incluant les données de septembre 2020. Tu en profiteras pour ajouter l'affichage des mois sous les colonnes. Tu essaieras au maximum d'utiliser les tableaux croisés dynamiques pour faire ca.\n",
        "\n",
        "Tu incluras l'image du graphique dans ce notebook, et tu indiqueras également le lien de ton google spreadsheet que tu auras pris soin de partager.\n",
        "\n",
        "![Tableur checkpoint](https://github.com/murpi/wilddata/raw/master/checkpoint1_withoutdate.png)"
      ]
    },
    {
      "cell_type": "markdown",
      "metadata": {
        "id": "H6ufHlPsC6_f"
      },
      "source": [
        "##Mon graphique"
      ]
    },
    {
      "cell_type": "markdown",
      "metadata": {
        "id": "ZDGNFqVoAxhg"
      },
      "source": [
        "![Graphique_Mission_2.PNG](data:image/png;base64,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)"
      ]
    },
    {
      "cell_type": "markdown",
      "metadata": {
        "id": "3057xrovDJ86"
      },
      "source": [
        "#Lien vers mon [google spreadsheet](https://docs.google.com/spreadsheets/d/1SYfV7vv1tqAR6zSnfl4ZeCrWAqtyEA9GFwGuwCl9ejU/edit?usp=sharing)"
      ]
    },
    {
      "cell_type": "markdown",
      "metadata": {
        "id": "3k1iqC3wffyB"
      },
      "source": [
        "# Python : Algo 1 - 30 min\n",
        "\n",
        "Un magasin importe des produits américains et les revend sur le marché européen. Il propose à ses clients un discount pour les produits les plus chers (10% de réduction à partir de 500 euros d'achat, 15% à partir de 1000 euros, et 20% à partir de 2000 euros).\n",
        "\n",
        "Le magasin a une liste de prix en dollars et fait appel à tes services pour déterminer pour chaque prix, le montant que paiera le client en euros (après application de la remise). \n"
      ]
    },
    {
      "cell_type": "markdown",
      "metadata": {
        "id": "YWW9llTJhEMT"
      },
      "source": [
        "Crée une fonction `dollar_to_euro` qui prend en paramètre un nombre décimal et retourne le montant converti en euro (dans le sens dollar vers euro, prends le taux en vigueur le jour du checkpoint)."
      ]
    },
    {
      "cell_type": "code",
      "metadata": {
        "id": "dQeMAFaahD81",
        "colab": {
          "base_uri": "https://localhost:8080/",
          "height": 52
        },
        "outputId": "dd770e6e-51cd-4870-8d27-f07d72711443"
      },
      "source": [
        "# ma version de l'exercice\n",
        "\n",
        "\n",
        "def dollar_to_euro (price):\n",
        "\n",
        "  dollar = 0.86                   #1 dollar = 0.86 € au 15/10/2021\n",
        "  price_Euros = price * dollar\n",
        "\n",
        "  if price_Euros >= 2000 :\n",
        "    new_price = price_Euros -(price_Euros *20/100)\n",
        "    return new_price\n",
        "\n",
        "  elif price_Euros >= 1000 :\n",
        "    new_price = price_Euros -(price *15/100)\n",
        "    return new_price\n",
        "\n",
        "  elif price_Euros >= 500 :\n",
        "    new_price = price_Euros - (price_Euros *10/100)\n",
        "    return new_price  \n",
        "\n",
        "  else :\n",
        "    return price_Euros\n",
        "\n",
        "\n",
        "price_item = int(input(\"What the price of item in dollars please ? :\"))\n",
        "\n",
        "f\"Le prix à payer en € est de {dollar_to_euro(price_item)}\"\n",
        "\n",
        "\n"
      ],
      "execution_count": null,
      "outputs": [
        {
          "name": "stdout",
          "output_type": "stream",
          "text": [
            "What the price of item in dollars please ? :20\n"
          ]
        },
        {
          "output_type": "execute_result",
          "data": {
            "application/vnd.google.colaboratory.intrinsic+json": {
              "type": "string"
            },
            "text/plain": [
              "'Le prix à payer en € est de 17.2'"
            ]
          },
          "metadata": {},
          "execution_count": 1
        }
      ]
    },
    {
      "cell_type": "code",
      "metadata": {
        "id": "3nkzqs05om_9"
      },
      "source": [
        "# correction\n",
        "\n",
        "'''Algo1: Ta fonction discount est presque correcte.\n",
        "Il fallait mettre >= et rajouter elif au lieu du if. parce que dans ce cas on a besoin d'arrêter la fonction si une des conditions est remplie.\n",
        "On n'a pas besoin de tout valider. \n",
        "\n",
        "De plus il fallait créer une deuxième fonction de conversion:\n",
        "def dollar_to_euro(x):\n",
        "return x * 0.84\n",
        "\n",
        "En utilisant les deux ensemble tu arriveras au bon résultat.'''\n"
      ],
      "execution_count": null,
      "outputs": []
    },
    {
      "cell_type": "code",
      "metadata": {
        "id": "OAkLwWv3pl1J"
      },
      "source": [
        "# correction - fonction de conversion\n",
        "\n",
        "def dollar_to_euro2 (price):\n",
        "\n",
        "  #1 dollar = 0.86 € au 15/10/2021\n",
        "  return round((price * 0.86),2)\n",
        "\n"
      ],
      "execution_count": null,
      "outputs": []
    },
    {
      "cell_type": "markdown",
      "metadata": {
        "id": "GP0WRUWskAxN"
      },
      "source": [
        "Crée une fonction `discount` qui prend en paramètre un nombre décimal et retourne le pourcentage de réduction :\n",
        "- 0.10 si l'argument est supérieur à 500\n",
        "- 0.15 si l'argument est supérieur à 1000\n",
        "- 0.20 si l'argument est supérieur à 2000"
      ]
    },
    {
      "cell_type": "code",
      "metadata": {
        "id": "54K2IrDrj_p-",
        "colab": {
          "base_uri": "https://localhost:8080/"
        },
        "outputId": "e4e4829c-d354-47b2-8d8c-824aca4d5fc1"
      },
      "source": [
        "# ma version de l'exercice\n",
        "\n",
        "def discount(number) :\n",
        "\n",
        "  if number > 2000 :\n",
        "    return 0.20\n",
        "\n",
        "  elif number > 1000 :\n",
        "    return 0.15\n",
        "\n",
        "  elif number > 500 :\n",
        "    return 0.10\n",
        "  \n",
        "  else :\n",
        "    return 0\n",
        "  \n",
        "\n",
        "discount(500)"
      ],
      "execution_count": null,
      "outputs": [
        {
          "output_type": "execute_result",
          "data": {
            "text/plain": [
              "0"
            ]
          },
          "metadata": {},
          "execution_count": 2
        }
      ]
    },
    {
      "cell_type": "code",
      "metadata": {
        "id": "qHr3Sc5qqJnn"
      },
      "source": [
        "#correction - calcul discount\n",
        "\n",
        "def discount(price):\n",
        "\n",
        "  if price >= 2000 :\n",
        "    return 0.20\n",
        "\n",
        "  elif price >= 1000 :\n",
        "    return  0.15\n",
        "\n",
        "  elif price >= 500 :\n",
        "    return 0.10\n",
        "  \n",
        "  return 0\n",
        "  "
      ],
      "execution_count": null,
      "outputs": []
    },
    {
      "cell_type": "markdown",
      "metadata": {
        "id": "2UDkCCsOkkfI"
      },
      "source": [
        "Utilise tes deux fonctions pour afficher une phrase pour chacun des montants de cette liste de prix en dollars, indiquant le montant à payer en euros."
      ]
    },
    {
      "cell_type": "code",
      "metadata": {
        "id": "zJwtL9H_kxXR",
        "colab": {
          "base_uri": "https://localhost:8080/"
        },
        "outputId": "6afdc658-6365-4780-ce70-1fa300e1977d"
      },
      "source": [
        "price_list = [256, 1458, 2387, 669, 508, 1365]\n",
        "\n",
        "for item in price_list :\n",
        "   print(f\"Le prix en € est de {dollar_to_euro2(item)}, le pourcentage de remise est de {discount(dollar_to_euro2(item))}, le nouveau prix à payer est {dollar_to_euro2(item)-discount(dollar_to_euro2(item))}\")\n",
        "\n",
        "#ma version de l'exercice + correction"
      ],
      "execution_count": null,
      "outputs": [
        {
          "output_type": "stream",
          "name": "stdout",
          "text": [
            "Le prix en € est de 220.16, le pourcentage de remise est de 0, le nouveau prix à payer est 220.16\n",
            "Le prix en € est de 1253.88, le pourcentage de remise est de 0.15, le nouveau prix à payer est 1253.73\n",
            "Le prix en € est de 2052.82, le pourcentage de remise est de 0.2, le nouveau prix à payer est 2052.6200000000003\n",
            "Le prix en € est de 575.34, le pourcentage de remise est de 0.1, le nouveau prix à payer est 575.24\n",
            "Le prix en € est de 436.88, le pourcentage de remise est de 0, le nouveau prix à payer est 436.88\n",
            "Le prix en € est de 1173.9, le pourcentage de remise est de 0.15, le nouveau prix à payer est 1173.75\n"
          ]
        }
      ]
    },
    {
      "cell_type": "markdown",
      "metadata": {
        "id": "To2TYJGuPwc-"
      },
      "source": [
        "# Python : Algo 2 - 1h"
      ]
    },
    {
      "cell_type": "markdown",
      "metadata": {
        "id": "B0XiM5wcQbY8"
      },
      "source": [
        "Ecris une fonction *monnaie_a_rendre()* qui prend deux arguments obligatoires : \n",
        "- montant de l'achat : float, supérieur à 0\n",
        "- monnaie du client : integer, supérieur à 0\n",
        "\n",
        "La fonction devra afficher la monnaie à rendre au client en un minimum de billets/pièces. \n",
        "\n",
        "Attention, si la monnaie du client est insuffisante (inférieure à l'achat), il faudra l'indiquer.\n",
        "\n",
        "Exemple : \n",
        "\n",
        "\n",
        "```\n",
        "monnaie_a_rendre(26.57 , 40)\n",
        ">>> Nb billets 10 euros : 1\n",
        ">>> Nb pièces 2 euros : 1\n",
        ">>> Nb pièces 1 euro : 1\n",
        ">>> Nb pièces 20 cents : 2\n",
        ">>> Nb pièces 2 cents : 1\n",
        ">>> Nb pièces 1 cent : 1\n",
        "```\n",
        "\n"
      ]
    },
    {
      "cell_type": "code",
      "metadata": {
        "id": "6alG3GNPPv5U"
      },
      "source": [
        "# Ta fonction ici :\n",
        "def monnaie_a_rendre(achat, monnaie):\n",
        "  montant_remb = monnaie - achat\n",
        "\n",
        "  if montant_remb < 0 :\n",
        "    return \"Il n'y a pas assez de monnaie\"\n",
        "\n",
        "  elif montant_remb == 0 :\n",
        "    return \"Le compte est bon\"\n",
        "\n",
        "  elif montant_remb > 0 :\n",
        "\n",
        "    billets_10 = int(montant_remb/10) # ex 13.43 à remb donc 1 billet   \n",
        "    pieces_2 = int((montant_remb - (billets_10*10))/2) # 13.43 - 1*10 = 3.43/2 = 1.175\n",
        "    pieces_1 = int(montant_remb - (billets_10*10) - (pieces_2*2))\n",
        "    pieces_20ct = int(((montant_remb - (billets_10*10) - (pieces_2*2) - pieces_1) *100)/20)\n",
        "    pieces_2ct = int((round((montant_remb - (billets_10*10) - (pieces_2*2) - pieces_1 - (pieces_20ct/100*20))*100))/2)\n",
        "    pieces_1ct = round((montant_remb - (billets_10*10) - (pieces_2*2) - pieces_1 - (pieces_20ct/100*20) - pieces_2ct)*-1)\n",
        "\n",
        "\n",
        "    return f\"Il y aura {billets_10} billets de 10 €, {pieces_2} pièces de 2 €, {pieces_1} pièces de 1 €, {pieces_20ct} pièces de 0.20 cts, {pieces_2ct} pièces de 0.02 cts et {pieces_1ct} de 0.01 ct.\"     \n",
        "  "
      ],
      "execution_count": null,
      "outputs": []
    },
    {
      "cell_type": "code",
      "metadata": {
        "id": "p2PCEpAxI20Q",
        "colab": {
          "base_uri": "https://localhost:8080/",
          "height": 35
        },
        "outputId": "d0030e52-8569-4fbb-b121-31e53c61e509"
      },
      "source": [
        "# Pour tester :\n",
        "monnaie_a_rendre(35.28 , 50)"
      ],
      "execution_count": null,
      "outputs": [
        {
          "output_type": "execute_result",
          "data": {
            "application/vnd.google.colaboratory.intrinsic+json": {
              "type": "string"
            },
            "text/plain": [
              "'Il y aura 1 billets de 10 €, 2 pièces de 2 €, 0 pièces de 1 €, 3 pièces de 0.20 cts, 6 pièces de 0.02 cts et 6 de 0.01 ct.'"
            ]
          },
          "metadata": {},
          "execution_count": 5
        }
      ]
    },
    {
      "cell_type": "code",
      "metadata": {
        "id": "4Ep1hRx_0_xk"
      },
      "source": [
        "# correction \n",
        "\n",
        "def billets_piece(key):\n",
        "    return \"Billet\" if key>=5 else \"Pièce\"\n",
        "\n",
        "def message(dico):\n",
        "    message = \"\"\n",
        "    for k,v in dico.items():\n",
        "        message += f\"Nb {billets_piece(k)} de {k} euro : {int(v)}\\n\"\n",
        "    return message"
      ],
      "execution_count": null,
      "outputs": []
    },
    {
      "cell_type": "code",
      "metadata": {
        "colab": {
          "base_uri": "https://localhost:8080/",
          "height": 35
        },
        "id": "VKSRtS2axiBD",
        "outputId": "106af5d5-0a31-44e4-ae79-0b4a3ce00951"
      },
      "source": [
        "# correction \n",
        "def monnaie_a_rendre(achat,monnaie):\n",
        "    if achat >= monnaie:\n",
        "        return 0\n",
        "\n",
        "    rendu = {}\n",
        "    difference = monnaie - achat\n",
        "    monnaie_vendeur = [200, 100, 50, 20, 10 , 5, 2, 1, 0.5, 0.2, 0.05, 0.02, 0.01]\n",
        "\n",
        "    for i in monnaie_vendeur :\n",
        "        if difference // i > 0:\n",
        "            rendu [i] = difference // i\n",
        "            difference = round(difference %i,2)\n",
        "    return message(rendu)\n",
        "\n",
        "monnaie_a_rendre(26.57,40)   "
      ],
      "execution_count": null,
      "outputs": [
        {
          "output_type": "execute_result",
          "data": {
            "application/vnd.google.colaboratory.intrinsic+json": {
              "type": "string"
            },
            "text/plain": [
              "'Nb Billet de 10 euro : 1\\nNb Pièce de 2 euro : 1\\nNb Pièce de 1 euro : 1\\nNb Pièce de 0.2 euro : 2\\nNb Pièce de 0.02 euro : 1\\nNb Pièce de 0.01 euro : 1\\n'"
            ]
          },
          "metadata": {},
          "execution_count": 35
        }
      ]
    },
    {
      "cell_type": "markdown",
      "metadata": {
        "id": "YSAw1n0NNBrc"
      },
      "source": [
        "#NUMPY - 1h\n",
        "Exécute le code suivant, puis réponds aux questions.\n",
        "\n",
        "La matrice contient 12 *colonnes* correspondant chacune à un mois de l'année, et 31 *lignes*. Attention, certaines lignes ont des valeurs `nan` pour les mois de 28 et 30 jours."
      ]
    },
    {
      "cell_type": "code",
      "metadata": {
        "id": "W35UE3f6BhC2",
        "colab": {
          "base_uri": "https://localhost:8080/"
        },
        "outputId": "35332df8-275a-40c7-95ee-852dabc8cf4a"
      },
      "source": [
        "# Exécute le code ci-dessous sans rien modifier\n",
        "import numpy as np\n",
        "import pandas as pd\n",
        "temperatures_df = pd.read_csv(\"https://raw.githubusercontent.com/murpi/wilddata/master/temp2019.csv\", skiprows = 3)\n",
        "temperatures_df['jour'] = temperatures_df['DATE'].apply(lambda x: x[8:10])\n",
        "temperatures_df['mois'] = temperatures_df['DATE'].apply(lambda x: x[5:7])\n",
        "temperatures_array = temperatures_df.pivot_table(values = 'MAX_TEMPERATURE_C', index = 'jour' , columns='mois').to_numpy()\n",
        "print(\"C'est chargé, ta matrice numpy est disponible sous le nom de variable : temperatures_array\")"
      ],
      "execution_count": null,
      "outputs": [
        {
          "output_type": "stream",
          "name": "stdout",
          "text": [
            "C'est chargé, ta matrice numpy est disponible sous le nom de variable : temperatures_array\n"
          ]
        }
      ]
    },
    {
      "cell_type": "code",
      "metadata": {
        "colab": {
          "base_uri": "https://localhost:8080/"
        },
        "id": "RNIcLRwkcO8i",
        "outputId": "0617e8f7-0e27-4db8-dc75-2b079856477f"
      },
      "source": [
        "temperatures_array"
      ],
      "execution_count": null,
      "outputs": [
        {
          "output_type": "execute_result",
          "data": {
            "text/plain": [
              "array([[ 9.,  9., 14., 18., 17., 29., 24., 27., 23., 19., 17.,  7.],\n",
              "       [ 8.,  7., 13., 12., 15., 23., 25., 29., 24., 19., 14.,  7.],\n",
              "       [ 6.,  8., 14., 10., 15., 20., 26., 29., 26., 19., 14.,  7.],\n",
              "       [ 5.,  7., 11., 10., 11., 19., 28., 26., 20., 17., 13.,  8.],\n",
              "       [ 6., 10., 13., 10., 12., 16., 30., 25., 19., 18., 12.,  7.],\n",
              "       [ 5., 12., 12., 10., 15., 18., 31., 23., 23., 18., 13., 11.],\n",
              "       [10., 11., 11., 14., 14., 15., 28., 25., 22., 14., 11., 13.],\n",
              "       [10., 11., 12., 12., 15., 18., 27., 28., 21., 18., 11., 13.],\n",
              "       [ 7., 12., 13., 16., 15., 16., 25., 23., 17., 16., 10., 11.],\n",
              "       [ 7., 11., 12., 14., 15., 17., 28., 23., 22., 18., 11., 11.],\n",
              "       [10., 10., 11., 14., 16., 15., 26., 23., 22., 20., 11.,  9.],\n",
              "       [ 9., 12., 11., 14., 16., 16., 26., 22., 24., 21., 11., 12.],\n",
              "       [10., 10., 10., 12., 16., 18., 27., 22., 28., 20.,  9., 10.],\n",
              "       [10., 13., 11.,  9., 18., 19., 26., 20., 29., 20., 11., 12.],\n",
              "       [ 9., 15., 13., 14., 18., 18., 26., 22., 31., 16.,  8., 10.],\n",
              "       [ 8., 14., 11., 15., 17., 19., 29., 22., 21., 16.,  9., 11.],\n",
              "       [ 9., 15., 11., 19., 17., 25., 27., 19., 27., 17.,  8., 12.],\n",
              "       [ 7., 12., 11., 21., 14., 28., 22., 21., 23., 16., 10., 12.],\n",
              "       [11., 12., 12., 24., 17., 20., 26., 21., 23., 16.,  9., 13.],\n",
              "       [ 7., 13., 13., 21., 18., 20., 25., 23., 27., 15.,  7., 12.],\n",
              "       [ 7., 17., 15., 21., 20., 20., 26., 26., 28., 16., 11., 11.],\n",
              "       [ 8., 17., 18., 19., 21., 23., 33., 28., 21., 16., 10., 10.],\n",
              "       [ 7., 18., 17., 18., 21., 27., 39., 30., 20., 15., 12., 10.],\n",
              "       [ 7., 14., 13., 14., 20., 23., 33., 33., 20., 14., 12., 14.],\n",
              "       [11., 15., 12., 13., 19., 26., 32., 30., 17., 18., 13., 11.],\n",
              "       [10., 19., 12., 14., 17., 31., 22., 33., 19., 19., 14., 12.],\n",
              "       [ 8., 20., 13., 13., 19., 34., 23., 29., 19., 15., 13., 13.],\n",
              "       [ 8., 13., 14., 12., 15., 34., 23., 24., 19., 12., 13., 11.],\n",
              "       [ 9., nan, 16., 16., 15., 32., 24., 25., 20., 14., 13.,  9.],\n",
              "       [ 7., nan, 17., 18., 20., 26., 21., 30., 21., 17.,  9., 12.],\n",
              "       [ 8., nan, 19., nan, 25., nan, 23., 23., nan, 16., nan, 10.]])"
            ]
          },
          "metadata": {},
          "execution_count": 39
        }
      ]
    },
    {
      "cell_type": "markdown",
      "metadata": {
        "id": "H-azX8nUNO9_"
      },
      "source": [
        "Questions"
      ]
    },
    {
      "cell_type": "code",
      "metadata": {
        "id": "gXAfaemhNkzC",
        "colab": {
          "base_uri": "https://localhost:8080/"
        },
        "outputId": "b2428d64-e0ce-4867-9ec8-9d30fad854b5"
      },
      "source": [
        "# Affiche un array NumPy à partir de l'array \"temperatures_array\", \n",
        "# avec le nombre de jours par mois où la température a été strictement inférieure à 10 degrés.\n",
        "\n",
        "for i in range(temperatures_array.shape[1]):\n",
        "    colonne = temperatures_array[:,i]\n",
        "    elements = colonne[colonne<10]\n",
        "    print(len(elements))\n"
      ],
      "execution_count": null,
      "outputs": [
        {
          "output_type": "stream",
          "name": "stdout",
          "text": [
            "23\n",
            "4\n",
            "0\n",
            "1\n",
            "0\n",
            "0\n",
            "0\n",
            "0\n",
            "0\n",
            "0\n",
            "7\n",
            "7\n"
          ]
        }
      ]
    },
    {
      "cell_type": "code",
      "metadata": {
        "id": "-i5BncuMRJl1",
        "colab": {
          "base_uri": "https://localhost:8080/"
        },
        "outputId": "8cd427ff-b19a-43d4-ce63-d8b3f54ede28"
      },
      "source": [
        "# Au total sur l'année, combien y a-t-il eu de jours où la température était supérieure à 20 degrés ?\n",
        "\n",
        "for i in range(temperatures_array.shape[1]):\n",
        "\n",
        "  colonne = temperatures_array[:,i]\n",
        "  elements = colonne[colonne>20]\n",
        "\n",
        "  print (len(elements)) # je n'ai pas réussi à additionner les résultats\n"
      ],
      "execution_count": null,
      "outputs": [
        {
          "output_type": "stream",
          "name": "stdout",
          "text": [
            "0\n",
            "0\n",
            "0\n",
            "4\n",
            "3\n",
            "13\n",
            "31\n",
            "29\n",
            "20\n",
            "1\n",
            "0\n",
            "0\n"
          ]
        }
      ]
    },
    {
      "cell_type": "code",
      "metadata": {
        "id": "zH697iMjN-lP",
        "colab": {
          "base_uri": "https://localhost:8080/"
        },
        "outputId": "f2ecee9c-080f-46fa-ab22-8e14065fb91c"
      },
      "source": [
        "# Quelle a été la température moyenne du mois de mars ?\n",
        "\n",
        "round((np.average(temperatures_array[:,2])),2)\n",
        "\n"
      ],
      "execution_count": null,
      "outputs": [
        {
          "output_type": "execute_result",
          "data": {
            "text/plain": [
              "13.06"
            ]
          },
          "metadata": {},
          "execution_count": 212
        }
      ]
    },
    {
      "cell_type": "code",
      "metadata": {
        "id": "T78pPHmQOGRp",
        "colab": {
          "base_uri": "https://localhost:8080/"
        },
        "outputId": "96cbaf8e-6827-42ad-f33f-3e3b88f8000a"
      },
      "source": [
        "# Quelle a été la température minimale du mois de juin ?\n",
        "\n",
        "np.nanmin(temperatures_array[:,5])"
      ],
      "execution_count": null,
      "outputs": [
        {
          "output_type": "execute_result",
          "data": {
            "text/plain": [
              "15.0"
            ]
          },
          "metadata": {},
          "execution_count": 222
        }
      ]
    },
    {
      "cell_type": "code",
      "metadata": {
        "id": "XuIyHL3NhJ67"
      },
      "source": [
        "#A partir de là c'est effectué en dehors du timing"
      ],
      "execution_count": null,
      "outputs": []
    },
    {
      "cell_type": "markdown",
      "metadata": {
        "id": "E_yz0X-2f1Ay"
      },
      "source": [
        "# POO (optionnel)\n"
      ]
    },
    {
      "cell_type": "markdown",
      "metadata": {
        "id": "LnAJMxmWf558"
      },
      "source": [
        "**Programmation orientée objet**\n",
        "\n",
        "Il t'est demandé de créer une nouvelle classe \"sentence\" qui va hériter de l'ensemble des méthodes de la classe \"str\" (*les chaines de caractères que tu connais bien en python*).\n",
        "\n",
        "Tu devras ajouter une méthode .clean() qui nettoyera les espaces en début et en fin de chaine, mettra en majuscule le premier caractère, et tous les autres caractères en minuscule, et ajoutera un point \".\" à la fin.\n",
        "\n",
        "Tu montreras le résultats en appliquant la méthode à la phrase ci-dessous.\n",
        "\n",
        "\n"
      ]
    },
    {
      "cell_type": "code",
      "metadata": {
        "id": "BWf81Swnf0OH",
        "colab": {
          "base_uri": "https://localhost:8080/",
          "height": 35
        },
        "outputId": "ded4dc2d-4bb6-424c-a30c-0ec09744baab"
      },
      "source": [
        "# Tu mettras la création de ta classe ici :\n",
        "\n",
        "class Sentence(str):                                      #la classe Sentence hérite de la classe str\n",
        "    \n",
        "  def clean(phrase):                                         \n",
        "    return phrase.strip().capitalize()+\".\"\n",
        "\n",
        "\n",
        "# Ce code permettra de tester :\n",
        "\n",
        "test = Sentence(\" bonjour, AUJourd'hui c'EST le cheCKpoint   \")\n",
        "test.clean()\n",
        "\n",
        "  \n"
      ],
      "execution_count": null,
      "outputs": [
        {
          "output_type": "execute_result",
          "data": {
            "application/vnd.google.colaboratory.intrinsic+json": {
              "type": "string"
            },
            "text/plain": [
              "\"Bonjour, aujourd'hui c'est le checkpoint.\""
            ]
          },
          "metadata": {},
          "execution_count": 48
        }
      ]
    }
  ]
}