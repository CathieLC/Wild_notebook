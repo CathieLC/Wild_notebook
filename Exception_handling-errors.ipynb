{
  "nbformat": 4,
  "nbformat_minor": 0,
  "metadata": {
    "colab": {
      "name": "Python - Exception handling.ipynb",
      "provenance": [],
      "collapsed_sections": [],
      "include_colab_link": true
    },
    "kernelspec": {
      "name": "python3",
      "display_name": "Python 3"
    },
    "language_info": {
      "name": "python"
    }
  },
  "cells": [
    {
      "cell_type": "markdown",
      "metadata": {
        "id": "view-in-github",
        "colab_type": "text"
      },
      "source": [
        "<a href=\"https://colab.research.google.com/github/CathieLC/Wild_notebook_2021-2022/blob/main/Exception_handling-errors.ipynb\" target=\"_parent\"><img src=\"https://colab.research.google.com/assets/colab-badge.svg\" alt=\"Open In Colab\"/></a>"
      ]
    },
    {
      "cell_type": "markdown",
      "metadata": {
        "id": "ZU6qSUveywPs"
      },
      "source": [
        "You must correct each of the scripts below **using exception handling** and **without modifying lists**."
      ]
    },
    {
      "cell_type": "markdown",
      "metadata": {
        "id": "PcSLELHnzb-X"
      },
      "source": [
        "Script number 1"
      ]
    },
    {
      "cell_type": "code",
      "metadata": {
        "id": "IAZK21ekypZP",
        "colab": {
          "base_uri": "https://localhost:8080/"
        },
        "outputId": "673428d8-4f0f-48d1-f824-b370e7a72d28"
      },
      "source": [
        "list_integers = [1, 12, -45, 6, 27, 0, 24]\n",
        "\n",
        "for i in list_integers:\n",
        "  try :\n",
        "    print(1/x)\n",
        "\n",
        "  except NameError:\n",
        "    try :\n",
        "      print(1/i)\n",
        "\n",
        "    except ZeroDivisionError :\n",
        "      print(\"you try to divide by zero, but it's impossible, we ignore this value\")\n",
        "      continue\n",
        "    "
      ],
      "execution_count": 48,
      "outputs": [
        {
          "output_type": "stream",
          "name": "stdout",
          "text": [
            "1.0\n",
            "0.08333333333333333\n",
            "-0.022222222222222223\n",
            "0.16666666666666666\n",
            "0.037037037037037035\n",
            "you try to divide by zero, nut it's impossible, we ignore this value\n",
            "0.041666666666666664\n"
          ]
        }
      ]
    },
    {
      "cell_type": "markdown",
      "metadata": {
        "id": "LeIVc9eqzezV"
      },
      "source": [
        "Script number 2"
      ]
    },
    {
      "cell_type": "code",
      "metadata": {
        "id": "L6DRkiD6zgy_",
        "colab": {
          "base_uri": "https://localhost:8080/"
        },
        "outputId": "d9e30cb5-27dd-4ce4-8335-beb8ee99fc95"
      },
      "source": [
        "list_integers = [1, 12, -45, 6, 27, 24]\n",
        "\n",
        "for i in range(10):\n",
        "  try :\n",
        "    print(1/list_integers[i])\n",
        "  except IndexError :\n",
        "    print(\"La liste est inférieur au range\")\n"
      ],
      "execution_count": null,
      "outputs": [
        {
          "output_type": "stream",
          "name": "stdout",
          "text": [
            "1.0\n",
            "0.08333333333333333\n",
            "-0.022222222222222223\n",
            "0.16666666666666666\n",
            "0.037037037037037035\n",
            "0.041666666666666664\n",
            "La liste est inférieur au range\n",
            "La liste est inférieur au range\n",
            "La liste est inférieur au range\n",
            "La liste est inférieur au range\n"
          ]
        }
      ]
    },
    {
      "cell_type": "markdown",
      "metadata": {
        "id": "afAY9AmOzx9r"
      },
      "source": [
        "Script number 3"
      ]
    },
    {
      "cell_type": "code",
      "metadata": {
        "id": "wV3ALP3yzzcc",
        "colab": {
          "base_uri": "https://localhost:8080/"
        },
        "outputId": "df626665-bf15-4fe3-bbc5-0a4a43941ae6"
      },
      "source": [
        "list_integers = [1, 12, -45, 6, 27, 0, 24]\n",
        "for i in range(10):\n",
        "  try : \n",
        "    print(1/list_integers[i])\n",
        "  except ZeroDivisionError :\n",
        "    print(\"Tu tentes une division par zéro ! Fichtre ! => Cf cours de CE1\")\n",
        "  except IndexError :\n",
        "    print(\"La liste est inférieur au nombre indiqué dans ton range !\")"
      ],
      "execution_count": null,
      "outputs": [
        {
          "output_type": "stream",
          "name": "stdout",
          "text": [
            "1.0\n",
            "0.08333333333333333\n",
            "-0.022222222222222223\n",
            "0.16666666666666666\n",
            "0.037037037037037035\n",
            "Tu tentes une division par zéro ! Fichtre ! => Cf cours de CE1\n",
            "0.041666666666666664\n",
            "La liste est inférieur au nombre indiqué dans ton range !\n",
            "La liste est inférieur au nombre indiqué dans ton range !\n",
            "La liste est inférieur au nombre indiqué dans ton range !\n"
          ]
        }
      ]
    },
    {
      "cell_type": "markdown",
      "metadata": {
        "id": "8eX8Pj7Wz4rn"
      },
      "source": [
        "Script number 4"
      ]
    },
    {
      "cell_type": "code",
      "metadata": {
        "id": "miobIaTyz62H",
        "colab": {
          "base_uri": "https://localhost:8080/"
        },
        "outputId": "a2a63fdd-6374-43c9-cabb-71a3625ad787"
      },
      "source": [
        "list_words = ['hello', 'good morning', 'GOOD Evening', 34, 'Bye' ]\n",
        "\n",
        "for word in list_words:\n",
        "  try :\n",
        "    print(word.upper())\n",
        "  except AttributeError :\n",
        "    question1 = int(input(\"This value 34 isn't a string, do you want convert to string and upper (answer 1) or wish you ignore this value (answer 2) ? \"))\n",
        "\n",
        "    if question1 == 1 :\n",
        "      list_words[3] = 'TRENTE-QUATRE'\n",
        "      print(list_words[3])\n",
        "\n",
        "    elif question1 == 2 :\n",
        "      continue\n",
        "    else:\n",
        "      print(\"This answer isn't the number 1 or 2, we decide to ignore this value who is a problem and continue the loop\")\n",
        "      continue\n"
      ],
      "execution_count": 60,
      "outputs": [
        {
          "output_type": "stream",
          "name": "stdout",
          "text": [
            "HELLO\n",
            "GOOD MORNING\n",
            "GOOD EVENING\n",
            "This value 34 isn't a string, do you want convert to string and upper (answer 1) or wish you ignore this value (answer 2) ? 3\n",
            "This answer isn't the number 1 or 2, we decide to ignore this value who is a problem and continue the loop\n",
            "BYE\n"
          ]
        }
      ]
    }
  ]
}