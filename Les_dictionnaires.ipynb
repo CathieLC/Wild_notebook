{
  "nbformat": 4,
  "nbformat_minor": 0,
  "metadata": {
    "colab": {
      "name": "03. Python et les dictionnaires.ipynb",
      "provenance": [],
      "collapsed_sections": [],
      "include_colab_link": true
    },
    "kernelspec": {
      "name": "python3",
      "display_name": "Python 3"
    }
  },
  "cells": [
    {
      "cell_type": "markdown",
      "metadata": {
        "id": "view-in-github",
        "colab_type": "text"
      },
      "source": [
        "<a href=\"https://colab.research.google.com/github/CathieLC/Wild_notebook_2021-2022/blob/main/Les_dictionnaires.ipynb\" target=\"_parent\"><img src=\"https://colab.research.google.com/assets/colab-badge.svg\" alt=\"Open In Colab\"/></a>"
      ]
    },
    {
      "cell_type": "markdown",
      "metadata": {
        "id": "LoJw-LlCTnWF"
      },
      "source": [
        "# Mission 1\n",
        "\n",
        "Below is a dictionary containing the number of French campuses that offer each kind of Wild Code School course.\n",
        "\n",
        "wildcodeschool = {\n",
        "   \"data_analyst\": 4,\n",
        "   \"data_scientist\": 2,\n",
        "   \"dev_web\": \"13\" \n",
        "}\n",
        "\n",
        "Find a way to only display the keys that have int values."
      ]
    },
    {
      "cell_type": "code",
      "metadata": {
        "id": "C2Lk113KSPUO"
      },
      "source": [
        "wildcodeschool =\t{\n",
        "  \"data_analyst\": 8,\n",
        "  \"data_scientist\": 2,\n",
        "  \"business intelligence analyst\": 5,\n",
        "  \"dev_web\": \"13\"\n",
        "}\n"
      ],
      "execution_count": 1,
      "outputs": []
    },
    {
      "cell_type": "code",
      "metadata": {
        "id": "i1T9MV2V3j5I",
        "colab": {
          "base_uri": "https://localhost:8080/"
        },
        "outputId": "41ea8519-b230-4a54-fd79-4a5effdf5f17"
      },
      "source": [
        "wildcodeschool ={\n",
        "  \"data_analyst\": 8,\n",
        "  \"data_scientist\": 2,\n",
        "  \"business intelligence analyst\": 5,\n",
        "  \"dev_web\": \"13\"\n",
        "}\n",
        "\n",
        "\n",
        "for key,value in wildcodeschool.items() :\n",
        "  if type(value) == int :\n",
        "    print(key)\n"
      ],
      "execution_count": 2,
      "outputs": [
        {
          "output_type": "stream",
          "name": "stdout",
          "text": [
            "data_analyst\n",
            "data_scientist\n",
            "business intelligence analyst\n"
          ]
        }
      ]
    },
    {
      "cell_type": "markdown",
      "metadata": {
        "id": "J3bsGIvAT049"
      },
      "source": [
        "# Mission 2\n",
        "\n",
        "For the same dictionary, find a way to display all the values that have a key that contains the letter \"e\"."
      ]
    },
    {
      "cell_type": "code",
      "metadata": {
        "colab": {
          "base_uri": "https://localhost:8080/"
        },
        "id": "qqtN2WzXU3ZI",
        "outputId": "c80eba8b-a81a-4b08-8ff8-09fd7cece6f7"
      },
      "source": [
        "wildcodeschool ={\n",
        "  \"data_analyst\": 8,\n",
        "  \"data_scientist\": 2,\n",
        "  \"business intelligence analyst\": 5,\n",
        "  \"dev_web\": \"13\"\n",
        "}\n",
        "\n",
        "for key,value in wildcodeschool.items() :\n",
        "  if \"e\" in key :\n",
        "    print(value)"
      ],
      "execution_count": 3,
      "outputs": [
        {
          "output_type": "stream",
          "name": "stdout",
          "text": [
            "2\n",
            "5\n",
            "13\n"
          ]
        }
      ]
    },
    {
      "cell_type": "code",
      "metadata": {
        "id": "Fy1OmPSUXNaP"
      },
      "source": [
        ""
      ],
      "execution_count": 3,
      "outputs": []
    },
    {
      "cell_type": "markdown",
      "metadata": {
        "id": "dVl36lvlWLdV"
      },
      "source": [
        "# Mission 3\n",
        "\n",
        "Within the same dictionary, change the type of the value of the \"dev_web\" key to be an int. Then add a new key-value pair which will be \"total_campus\" > 19, using a **dictionary method**."
      ]
    },
    {
      "cell_type": "code",
      "metadata": {
        "id": "pN3_mD4YSPfb",
        "colab": {
          "base_uri": "https://localhost:8080/"
        },
        "outputId": "9c280180-f417-4006-c27e-8115fce9224d"
      },
      "source": [
        "wildcodeschool ={\n",
        "  \"data_analyst\": 8,\n",
        "  \"data_scientist\": 2,\n",
        "  \"business intelligence analyst\": 5,\n",
        "  \"dev_web\": \"13\"\n",
        "}\n",
        "\n",
        "wildcodeschool.update ({\"dev_web\": 13})\n",
        "\n",
        "wildcodeschool[\"total_campus\"] = \">19\"\n",
        "\n",
        "print(wildcodeschool)\n",
        "\n"
      ],
      "execution_count": 4,
      "outputs": [
        {
          "output_type": "stream",
          "name": "stdout",
          "text": [
            "{'data_analyst': 8, 'data_scientist': 2, 'business intelligence analyst': 5, 'dev_web': 13, 'total_campus': '>19'}\n"
          ]
        }
      ]
    },
    {
      "cell_type": "markdown",
      "metadata": {
        "id": "GCvpkWzXXPTf"
      },
      "source": [
        "# Mission 4\n",
        "\n",
        "Take the dictionary generated from mission 3. Delete any key value pair randomly, except for total_campus."
      ]
    },
    {
      "cell_type": "code",
      "metadata": {
        "id": "QjLMjogySPk_",
        "colab": {
          "base_uri": "https://localhost:8080/"
        },
        "outputId": "ace0ba6a-9551-462f-daa8-c1d8ea0d8a2e"
      },
      "source": [
        "import random\n",
        "\n",
        "wildcodeschool={'data_analyst': 8, 'data_scientist': 2, 'business intelligence analyst': 5, 'dev_web': 13, 'total_campus': '>19'}\n",
        "\n",
        "for key,value in random.sample(wildcodeschool.items(),1) :\n",
        "  if key != \"total_campus\" :\n",
        "    del wildcodeschool[key]\n",
        "\n",
        "print(wildcodeschool)"
      ],
      "execution_count": 5,
      "outputs": [
        {
          "output_type": "stream",
          "name": "stdout",
          "text": [
            "{'data_analyst': 8, 'business intelligence analyst': 5, 'dev_web': 13, 'total_campus': '>19'}\n"
          ]
        }
      ]
    },
    {
      "cell_type": "markdown",
      "metadata": {
        "id": "V8ZS3aECXvuZ"
      },
      "source": [
        "# Mission 5\n",
        "\n",
        "Still within the dictionary generated from Mission 3, find a way to display the dictionary keys in alphabetical order."
      ]
    },
    {
      "cell_type": "code",
      "metadata": {
        "id": "ph_j97PoSPmU",
        "colab": {
          "base_uri": "https://localhost:8080/"
        },
        "outputId": "256cde01-c134-4fb8-a709-2f5078db90b2"
      },
      "source": [
        "wildcodeschool={'data_analyst': 8, 'data_scientist': 2, 'business intelligence analyst': 5, 'dev_web': 13, 'total_campus': '>19'}\n",
        "\n",
        "sorted(wildcodeschool)"
      ],
      "execution_count": 6,
      "outputs": [
        {
          "output_type": "execute_result",
          "data": {
            "text/plain": [
              "['business intelligence analyst',\n",
              " 'data_analyst',\n",
              " 'data_scientist',\n",
              " 'dev_web',\n",
              " 'total_campus']"
            ]
          },
          "metadata": {},
          "execution_count": 6
        }
      ]
    },
    {
      "cell_type": "markdown",
      "metadata": {
        "id": "geMLdrvAYHKx"
      },
      "source": [
        "# Mission 6\n",
        "\n",
        "Create a script that returns the same output as the **values()** method."
      ]
    },
    {
      "cell_type": "code",
      "metadata": {
        "colab": {
          "base_uri": "https://localhost:8080/"
        },
        "id": "8nPPXHLReI29",
        "outputId": "ac99ec56-ee86-434b-a976-ecd405b68211"
      },
      "source": [
        "wildcodeschool={'data_analyst': 8, 'data_scientist': 2, 'business intelligence analyst': 5, 'dev_web': 13, 'total_campus': '>19'}\n",
        "\n",
        "for key,value in wildcodeschool.items() :\n",
        "  print(value, end=\" | \")"
      ],
      "execution_count": 7,
      "outputs": [
        {
          "output_type": "stream",
          "name": "stdout",
          "text": [
            "8 | 2 | 5 | 13 | >19 | "
          ]
        }
      ]
    }
  ]
}