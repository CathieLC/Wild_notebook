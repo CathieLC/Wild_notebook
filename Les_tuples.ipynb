{
  "nbformat": 4,
  "nbformat_minor": 0,
  "metadata": {
    "colab": {
      "name": "04. Python et les tuples.ipynb",
      "provenance": [],
      "collapsed_sections": [],
      "include_colab_link": true
    },
    "kernelspec": {
      "name": "python3",
      "display_name": "Python 3"
    }
  },
  "cells": [
    {
      "cell_type": "markdown",
      "metadata": {
        "id": "view-in-github",
        "colab_type": "text"
      },
      "source": [
        "<a href=\"https://colab.research.google.com/github/CathieLC/Wild_notebook_2021-2022/blob/main/Les_tuples.ipynb\" target=\"_parent\"><img src=\"https://colab.research.google.com/assets/colab-badge.svg\" alt=\"Open In Colab\"/></a>"
      ]
    },
    {
      "cell_type": "markdown",
      "metadata": {
        "id": "LoJw-LlCTnWF"
      },
      "source": [
        "# Mission 1\n",
        "\n",
        "Create a tuple of your choice containing 10 elements in this order:\n",
        "- 3 integers\n",
        "- 3 strings\n",
        "- 2 lists containing 3 items each\n",
        "- 2 dictionaries containing 3 items (3 key/value pairs) each\n",
        "\n",
        "Now, access the second-to-last item in the second list."
      ]
    },
    {
      "cell_type": "code",
      "metadata": {
        "id": "C2Lk113KSPUO",
        "colab": {
          "base_uri": "https://localhost:8080/"
        },
        "outputId": "03a2efa6-b089-48a0-f5c4-eaae66459c3e"
      },
      "source": [
        "tuple1 = (12, 15, 4,                                                      #1\n",
        "          \"garçon\", \"fille\", \"enfant\",                                    #2\n",
        "          [\"chat\", \"chien\", \"poisson\"],                                   #3\n",
        "          [\"étudiant\", \"professionnel\", \"stagiaire\"],                     #4\n",
        "          {\"python\": 10, \"scala\": 20, \"Numpy\": 5},                        #5\n",
        "          {\"bananes\" : 5000, \"pommes\" : 4800, \"poires\" : 412809})         #6\n",
        "\n",
        "\n",
        "print(tuple1[7][-2])\n",
        "\n"
      ],
      "execution_count": 1,
      "outputs": [
        {
          "output_type": "stream",
          "name": "stdout",
          "text": [
            "professionnel\n"
          ]
        }
      ]
    },
    {
      "cell_type": "markdown",
      "metadata": {
        "id": "HGoGFI9qxuzW"
      },
      "source": [
        "# Mission 2\n",
        "\n",
        "In the same tuple, access the last 4 elements using slicing"
      ]
    },
    {
      "cell_type": "code",
      "metadata": {
        "id": "qk097m4Zx4mR",
        "colab": {
          "base_uri": "https://localhost:8080/"
        },
        "outputId": "c6a5eb2f-a949-4b7f-98d5-47eeeb277cb9"
      },
      "source": [
        "tuple1 = (12, 15, 4,                                                      #1\n",
        "          \"garçon\", \"fille\", \"enfant\",                                    #2\n",
        "          [\"chat\", \"chien\", \"poisson\"],                                   #3\n",
        "          [\"étudiant\", \"professionnel\", \"stagiaire\"],                     #4\n",
        "          {\"python\": 10, \"scala\": 20, \"Numpy\": 5},                        #5\n",
        "          {\"bananes\" : 5000, \"pommes\" : 4800, \"poires\" : 412809})         #6\n",
        "\n",
        "\n",
        "print(tuple1[-4:])"
      ],
      "execution_count": 2,
      "outputs": [
        {
          "output_type": "stream",
          "name": "stdout",
          "text": [
            "(['chat', 'chien', 'poisson'], ['étudiant', 'professionnel', 'stagiaire'], {'python': 10, 'scala': 20, 'Numpy': 5}, {'bananes': 5000, 'pommes': 4800, 'poires': 412809})\n"
          ]
        }
      ]
    },
    {
      "cell_type": "markdown",
      "metadata": {
        "id": "iVHJFx3Px8mY"
      },
      "source": [
        "# Mission 3\n",
        "\n",
        "Change the value of the 4th element (the 1st string) of your tuple (oh yes it's possible!)"
      ]
    },
    {
      "cell_type": "code",
      "metadata": {
        "id": "oLG1VZP27nfN"
      },
      "source": [
        "tuple1 = (12, 15, 4,                                                      #1\n",
        "          \"garçon\", \"fille\", \"enfant\",                                    #2\n",
        "          [\"chat\", \"chien\", \"poisson\"],                                   #3\n",
        "          [\"étudiant\", \"professionnel\", \"stagiaire\"],                     #4\n",
        "          {\"python\": 10, \"scala\": 20, \"Numpy\": 5},                        #5\n",
        "          {\"bananes\" : 5000, \"pommes\" : 4800, \"poires\" : 412809})         #6\n",
        "\n",
        "#the 1st string = \"garçon\"\n",
        "\n"
      ],
      "execution_count": 3,
      "outputs": []
    },
    {
      "cell_type": "code",
      "metadata": {
        "colab": {
          "base_uri": "https://localhost:8080/"
        },
        "id": "33zgFxB2C25b",
        "outputId": "aa89686f-e0bf-473f-f1fb-6704d6619ba4"
      },
      "source": [
        "tuple_to_list = list(tuple1)                    #transformer le tuple en liste\n",
        "\n",
        "tuple_to_list[3] ='boys'                        #modification de l'élément 4\n",
        "\n",
        "list_to_tuple = tuple(tuple_to_list)            #transformation de la liste en tuple\n",
        "\n",
        "print(list_to_tuple)                            #affichage du tuple\n"
      ],
      "execution_count": 4,
      "outputs": [
        {
          "output_type": "stream",
          "name": "stdout",
          "text": [
            "(12, 15, 4, 'boys', 'fille', 'enfant', ['chat', 'chien', 'poisson'], ['étudiant', 'professionnel', 'stagiaire'], {'python': 10, 'scala': 20, 'Numpy': 5}, {'bananes': 5000, 'pommes': 4800, 'poires': 412809})\n"
          ]
        }
      ]
    },
    {
      "cell_type": "markdown",
      "metadata": {
        "id": "Wp3_jhWS2Foi"
      },
      "source": [
        "# Mission 4\n",
        "\n",
        "Create 2 tuples that contain only integers.\n",
        "Create a script that compares them to each other and indicates which one of the tuples returns the highest total value after adding all their values together. "
      ]
    },
    {
      "cell_type": "code",
      "metadata": {
        "id": "dGMYxaMWx8RO",
        "colab": {
          "base_uri": "https://localhost:8080/"
        },
        "outputId": "410d953a-8a46-4c20-f5cb-46d02f6661c6"
      },
      "source": [
        "tuple1 = (1,2)\n",
        "tuple2 = (10,12)\n",
        "\n",
        "print(\"somme tuple 1 :\", sum(tuple1))\n",
        "print(\"somme tuple 2 :\",sum(tuple2))\n",
        "\n",
        "\n",
        "\n",
        "if sum(tuple1) > sum(tuple2):\n",
        "  print(\"c'est le tuple 1 qui renvoi la valeur la plus élevée\")\n",
        "else:\n",
        "  print(\"c'est le tuple 2 qui renvoi la valeur la plus élevée\")\n"
      ],
      "execution_count": 5,
      "outputs": [
        {
          "output_type": "stream",
          "name": "stdout",
          "text": [
            "somme tuple 1 : 3\n",
            "somme tuple 2 : 22\n",
            "c'est le tuple 2 qui renvoi la valeur la plus élevée\n"
          ]
        }
      ]
    },
    {
      "cell_type": "markdown",
      "metadata": {
        "id": "Zmk8uviVzPBZ"
      },
      "source": [
        "# Mission 5\n",
        "\n",
        "Here's a tuple:\n",
        "\n",
        "my_tuple = (\"data analyst\", \"data scientist\", \"data engineer\", \"data architect\")\n",
        "\n",
        "Create a script that allows you to change one of the values of \"my_tuple\" by indicating the position of the value you want to change, as well as the new value."
      ]
    },
    {
      "cell_type": "code",
      "metadata": {
        "id": "0o-MuRyZ1_7u",
        "colab": {
          "base_uri": "https://localhost:8080/"
        },
        "outputId": "d47dbbae-3d2e-4de2-f480-bfbc9cc8377d"
      },
      "source": [
        "my_tuple = (\"data analyst\", \"data scientist\", \"data engineer\", \"data architect\")\n",
        "\n",
        "my_tuple_to_list = list(my_tuple)\n",
        "value_index = int(input(\"Entrez un entier entre 0 et 3 :\"))\n",
        "\n",
        "\n",
        "if value_index not in range(0,4) :\n",
        "    print(\"Erreur, Vous n'avez pas entré une valeur comprise entre 0 et 3.\")\n",
        "else :\n",
        "    my_tuple_to_list[value_index] = input(\"Entrez la chaîne de caractère que vous souhaitez insérez dans le tuple :\")\n",
        "    new_tuple = tuple(my_tuple_to_list)\n",
        "    print(new_tuple)\n",
        "    print(type(new_tuple) )              #contrôle"
      ],
      "execution_count": 6,
      "outputs": [
        {
          "output_type": "stream",
          "name": "stdout",
          "text": [
            "Entrez un entier entre 0 et 3 :3\n",
            "Entrez la chaîne de caractère que vous souhaitez insérez dans le tuple :caractère\n",
            "('data analyst', 'data scientist', 'data engineer', 'caractère')\n",
            "<class 'tuple'>\n"
          ]
        }
      ]
    }
  ]
}