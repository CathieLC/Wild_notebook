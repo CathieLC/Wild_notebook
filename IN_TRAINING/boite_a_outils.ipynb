{
 "cells": [
  {
   "cell_type": "code",
   "execution_count": null,
   "metadata": {},
   "outputs": [],
   "source": [
    "def update_layout_plotly (df):\n",
    "\n",
    "    fig.update_layout(width=1000, height=800,\n",
    "                  bargap=0.2,\n",
    "                  title='<b>Title<b>',\n",
    "                  title_x = 0.5,\n",
    "                  title_font_color=\"green\",\n",
    "                  font_size = 15,\n",
    "                  \n",
    "                  xaxis_title='***y',\n",
    "                  yaxis_title='***y'\n",
    "                  )\n",
    "    return fig.show()"
   ]
  },
  {
   "cell_type": "code",
   "execution_count": null,
   "metadata": {},
   "outputs": [],
   "source": [
    "# graph animé : rajouter animation_frame=\"genre\" dans la fig\n",
    "\n",
    "def update_layout_plotly (df):\n",
    "\n",
    "    fig.update_layout(width=1000, height=800,\n",
    "                  bargap=0.2,\n",
    "                  title='<b>Title<b>',\n",
    "                  title_x = 0.5,\n",
    "                  title_font_color=\"green\",\n",
    "                  font_size = 15,\n",
    "                  \n",
    "                  xaxis_title='***y',\n",
    "                  yaxis_title='***y'\n",
    "                  )\n",
    "    return fig.show()"
   ]
  }
 ],
 "metadata": {
  "language_info": {
   "name": "python"
  },
  "orig_nbformat": 4
 },
 "nbformat": 4,
 "nbformat_minor": 2
}
