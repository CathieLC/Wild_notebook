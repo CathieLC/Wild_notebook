{
  "nbformat": 4,
  "nbformat_minor": 0,
  "metadata": {
    "colab": {
      "name": "11. Code césar_Avé Catherine LE CALVE.ipynb",
      "provenance": [],
      "collapsed_sections": [],
      "authorship_tag": "ABX9TyOI8177GxUFDkOarmVY8zl2",
      "include_colab_link": true
    },
    "kernelspec": {
      "name": "python3",
      "display_name": "Python 3"
    },
    "language_info": {
      "name": "python"
    }
  },
  "cells": [
    {
      "cell_type": "markdown",
      "metadata": {
        "id": "view-in-github",
        "colab_type": "text"
      },
      "source": [
        "<a href=\"https://colab.research.google.com/github/CathieLC/Wild_notebook_2021-2022/blob/main/New_version_of_Code_c%C3%A9sar.ipynb\" target=\"_parent\"><img src=\"https://colab.research.google.com/assets/colab-badge.svg\" alt=\"Open In Colab\"/></a>"
      ]
    },
    {
      "cell_type": "code",
      "metadata": {
        "id": "A444sjRGNUOb"
      },
      "source": [
        "def decrypter_le_code(phrase):\n",
        "\n",
        "  liste_caractere_sentence = []\n",
        "\n",
        "  for letter in list(phrase) :\n",
        "    code_ascii_sentence = ord(letter)\n",
        "\n",
        "    if code_ascii_sentence == 32 :\n",
        "      liste_caractere_sentence.append(chr(code_ascii_sentence))\n",
        "\n",
        "    elif code_ascii_sentence in range(97, 104) or code_ascii_sentence in range (65, 72) :\n",
        "      liste_caractere_sentence.append(chr(code_ascii_sentence + 19))\n",
        "\n",
        "    else :\n",
        "      liste_caractere_sentence.append(chr(code_ascii_sentence-7))\n",
        "\n",
        "  return \"\".join(liste_caractere_sentence)\n",
        "\n",
        "\n",
        "sentence = \"Dlzo iyv ab jvklz lu wfaovu thpualuhua\"\n",
        "decrypter_le_code(sentence)"
      ],
      "execution_count": null,
      "outputs": []
    },
    {
      "cell_type": "markdown",
      "metadata": {
        "id": "by0wZ7huNaNJ"
      },
      "source": [
        "#####1- créer une liste vide\n",
        "#####2- pour chaque lettre dans ma liste, transformer en code_ascii (unicode)\n",
        "#####3- le code ascii 32 = espace\n",
        "#####4- code asci entre 97 et 104 ou 65 et 72 sont les 7 premiers codes des codes ascii minuscules et majuscules\n",
        "#####5- je leur rajoute 19 car cela fait -7 dans la boucle des lettres\n",
        "#####6- Sinon, je retire directement 7\n",
        "#####7-  ***Return*** ma liste que je transforme en chaine de caractère, ma phrase est décryptée !\n"
      ]
    }
  ]
}