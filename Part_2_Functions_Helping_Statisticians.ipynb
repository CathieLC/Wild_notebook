{
  "nbformat": 4,
  "nbformat_minor": 0,
  "metadata": {
    "colab": {
      "name": "06. Functions - Helping Statisticians - Part 2.ipynb",
      "provenance": [],
      "collapsed_sections": [],
      "include_colab_link": true
    },
    "kernelspec": {
      "name": "python3",
      "display_name": "Python 3"
    }
  },
  "cells": [
    {
      "cell_type": "markdown",
      "metadata": {
        "id": "view-in-github",
        "colab_type": "text"
      },
      "source": [
        "<a href=\"https://colab.research.google.com/github/CathieLC/Wild_notebook_2021-2022/blob/main/Part_2_Functions_Helping_Statisticians.ipynb\" target=\"_parent\"><img src=\"https://colab.research.google.com/assets/colab-badge.svg\" alt=\"Open In Colab\"/></a>"
      ]
    },
    {
      "cell_type": "markdown",
      "metadata": {
        "id": "co2X9cGIieV0"
      },
      "source": [
        "# Help for statisticians!\n",
        "\n",
        "Your fellow statisticians need you. They want to learn how to program in Python and have tons of calculations to do.\n",
        "\n",
        "Very kindly, you agree to help them. Complete the missions below."
      ]
    },
    {
      "cell_type": "markdown",
      "metadata": {
        "id": "rvnKhKV7CVoS"
      },
      "source": [
        "![Einstien le génie](https://wallup.net/wp-content/uploads/2018/09/30/201016-funny-albert-einstein-748x468.jpg)"
      ]
    },
    {
      "cell_type": "markdown",
      "metadata": {
        "id": "CLFkEk_Fm9d4"
      },
      "source": [
        "## Your colleagues are impressed. So they show you some more exercises that they're stuck on. Code your heart out, you go for it ^^"
      ]
    },
    {
      "cell_type": "code",
      "metadata": {
        "id": "pIoUqiKynBbe"
      },
      "source": [
        "# Mission 9: Create a function that takes a day as a parameter and returns the next day (i.e. for Sunday it would return Monday). \n",
        "# You can use lists or dictionaries to solve this."
      ],
      "execution_count": 9,
      "outputs": []
    },
    {
      "cell_type": "code",
      "metadata": {
        "colab": {
          "base_uri": "https://localhost:8080/",
          "height": 35
        },
        "id": "bopn5zFBhVuN",
        "outputId": "a82f4957-6321-4822-a05f-e07e444d4dc2"
      },
      "source": [
        "def changetoday(change_day):\n",
        "  daysofweek = [\"lundi\", \"mardi\", \"mercredi\", \"jeudi\", \"vendredi\", \"samedi\", \"dimanche\"]\n",
        "  new_day = \"\"\n",
        "\n",
        "  for item in range(len(daysofweek)-1):     #pour prendre en compte l'indice 0\n",
        "    if change_day == daysofweek[item] :\n",
        "      new_day = daysofweek[item+1]\n",
        "    elif change_day == daysofweek[-1]:\n",
        "      new_day = daysofweek[0]\n",
        "  return new_day\n",
        "\n",
        "day = \"dimanche\"\n",
        "\n",
        "changetoday(day)\n"
      ],
      "execution_count": 10,
      "outputs": [
        {
          "output_type": "execute_result",
          "data": {
            "application/vnd.google.colaboratory.intrinsic+json": {
              "type": "string"
            },
            "text/plain": [
              "'lundi'"
            ]
          },
          "metadata": {},
          "execution_count": 10
        }
      ]
    },
    {
      "cell_type": "code",
      "metadata": {
        "id": "68rX-Y0AnGiR"
      },
      "source": [
        "# Mission 10: Create a function that fills an empty list with values (words) from the following string : \n",
        "# \"After twelve soft showers are the arch-duchess' socks dry, arch-dry?\""
      ],
      "execution_count": 11,
      "outputs": []
    },
    {
      "cell_type": "code",
      "metadata": {
        "colab": {
          "base_uri": "https://localhost:8080/"
        },
        "id": "Sd6LkOgYlfu9",
        "outputId": "64e67ac8-2a94-4a3d-9800-75a869cfbae8"
      },
      "source": [
        "def create_list(txt) :\n",
        "  liste = txt.split()\n",
        "  return liste\n",
        "\n",
        "texte = \"After twelve soft showers are the arch-duchess' socks dry, arch-dry?\"\n",
        "\n",
        "create_list(texte)"
      ],
      "execution_count": 12,
      "outputs": [
        {
          "output_type": "execute_result",
          "data": {
            "text/plain": [
              "['After',\n",
              " 'twelve',\n",
              " 'soft',\n",
              " 'showers',\n",
              " 'are',\n",
              " 'the',\n",
              " \"arch-duchess'\",\n",
              " 'socks',\n",
              " 'dry,',\n",
              " 'arch-dry?']"
            ]
          },
          "metadata": {},
          "execution_count": 12
        }
      ]
    },
    {
      "cell_type": "code",
      "metadata": {
        "id": "YGNoBYBEnLAx"
      },
      "source": [
        "# Mission 11: Create a function that takes a str as a parameter, and returns the same string with one letter on two in upper only if is a vowels\n",
        "# If is written in uppercase don't change letter except it's a consonant."
      ],
      "execution_count": 13,
      "outputs": []
    },
    {
      "cell_type": "code",
      "metadata": {
        "colab": {
          "base_uri": "https://localhost:8080/",
          "height": 35
        },
        "id": "YKNUwO5KZhc6",
        "outputId": "179ed853-4d3c-4247-88b0-a2bc0bb95339"
      },
      "source": [
        "def change_lower_in_upper(texte):\n",
        "  list_vowels = [\"a\", \"e\", \"i\", \"o\", \"u\", \"y\"]\n",
        "  count = 0\n",
        "  count2 =1\n",
        "  chain = \"\"\n",
        "\n",
        "  for index,letter in enumerate(texte) :\n",
        "    if index == count:\n",
        "      if letter in list_vowels:\n",
        "        chain += letter.upper()\n",
        "      else:\n",
        "        chain += letter.lower()\n",
        "      count +=2\n",
        "    if index == count2:\n",
        "      chain += letter.lower()\n",
        "      count2 +=2\n",
        "  return chain\n",
        "\n",
        "string = \"abcd efgh ijkl mnop qrst uvw xyz\" #les lettres a,i,y devraient être en majucules (index 0,10,30)\n",
        "                                            #les autres lettres ux index pairs sont des consonnes donc elles ne sont pas majuscules\n",
        "\n",
        "change_lower_in_upper(string)"
      ],
      "execution_count": 14,
      "outputs": [
        {
          "output_type": "execute_result",
          "data": {
            "application/vnd.google.colaboratory.intrinsic+json": {
              "type": "string"
            },
            "text/plain": [
              "'Abcd efgh Ijkl mnop qrst uvw xYz'"
            ]
          },
          "metadata": {},
          "execution_count": 14
        }
      ]
    },
    {
      "cell_type": "code",
      "metadata": {
        "id": "IJCr_jvwnOCh"
      },
      "source": [
        "# Mission 12: Create a function that fills an empty list with string values of each letter of the following string: \n",
        "# \"Python fan\", and then displays the filled list"
      ],
      "execution_count": 15,
      "outputs": []
    },
    {
      "cell_type": "code",
      "metadata": {
        "colab": {
          "base_uri": "https://localhost:8080/"
        },
        "id": "piHLj4bBTPhT",
        "outputId": "7ae41082-16b1-43c5-f928-0250f6578565"
      },
      "source": [
        "def create_list_again(string):\n",
        "  liste = []\n",
        "  count = 0\n",
        "\n",
        "  for letter in texte : \n",
        "    texte.strip()\n",
        "    if letter == \" \":\n",
        "      continue   \n",
        "    else:\n",
        "      liste.append(letter)      \n",
        "\n",
        "  return liste\n",
        "\n",
        "texte = \"Python fan\"\n",
        "create_list_again(texte)"
      ],
      "execution_count": 16,
      "outputs": [
        {
          "output_type": "execute_result",
          "data": {
            "text/plain": [
              "['P', 'y', 't', 'h', 'o', 'n', 'f', 'a', 'n']"
            ]
          },
          "metadata": {},
          "execution_count": 16
        }
      ]
    },
    {
      "cell_type": "code",
      "metadata": {
        "id": "xjYGsODEnSb2"
      },
      "source": [
        "# Mission 13: Create a function that take 2 inputs from the user, their date of birth and first name.\n",
        "# Convert the date of birth into an int and subtract it from the current year (you can do it using a certain module :-P).\n",
        "# Then display the message: Hello [first name], today you are [age] years old.\n"
      ],
      "execution_count": 17,
      "outputs": []
    },
    {
      "cell_type": "code",
      "metadata": {
        "colab": {
          "base_uri": "https://localhost:8080/",
          "height": 70
        },
        "id": "ACKO3BtHvMmM",
        "outputId": "ed13dc54-97b8-4ab3-9a45-e0d3d7893cca"
      },
      "source": [
        "from datetime import *\n",
        "\n",
        "def give_me_your_age(name, birthDate):\n",
        "  today =  date.today()\n",
        "  birthDate = datetime.strptime(birthDate, \"%Y/%m/%d\")\n",
        "  age = today.year - birthDate.year - ((today.month, today.day) < (birthDate.month, birthDate.day))     \n",
        "\n",
        "  return f'Hello {name}, today you are {age} years old.'\n",
        "\n",
        "firstname = input(\"What's your name ? \")\n",
        "birthDate = input(\"What is your date of birth? (format YYYY/MM/DD) \")\n",
        "\n",
        "give_me_your_age(firstname, birthDate)"
      ],
      "execution_count": 22,
      "outputs": [
        {
          "name": "stdout",
          "output_type": "stream",
          "text": [
            "What's your name ? g\n",
            "What is your date of birth? (format YYYY/MM/DD) 1985/11/28\n"
          ]
        },
        {
          "output_type": "execute_result",
          "data": {
            "application/vnd.google.colaboratory.intrinsic+json": {
              "type": "string"
            },
            "text/plain": [
              "'Hello g, today you are 35 years old.'"
            ]
          },
          "metadata": {},
          "execution_count": 22
        }
      ]
    }
  ]
}