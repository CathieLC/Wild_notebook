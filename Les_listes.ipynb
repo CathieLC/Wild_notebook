{
  "nbformat": 4,
  "nbformat_minor": 0,
  "metadata": {
    "colab": {
      "name": "02. Python et les listes.ipynb",
      "provenance": [],
      "collapsed_sections": [],
      "include_colab_link": true
    },
    "kernelspec": {
      "name": "python3",
      "display_name": "Python 3"
    }
  },
  "cells": [
    {
      "cell_type": "markdown",
      "metadata": {
        "id": "view-in-github",
        "colab_type": "text"
      },
      "source": [
        "<a href=\"https://colab.research.google.com/github/CathieLC/Wild_notebook_2021-2022/blob/main/Les_listes.ipynb\" target=\"_parent\"><img src=\"https://colab.research.google.com/assets/colab-badge.svg\" alt=\"Open In Colab\"/></a>"
      ]
    },
    {
      "cell_type": "markdown",
      "metadata": {
        "id": "LoJw-LlCTnWF"
      },
      "source": [
        "# Mission 1\n",
        "\n",
        "Create a script that takes a list and displays only the elements (and their position) that have positions that are even (0, 2, 4, 6...).\n",
        "\n",
        "Example list = [\"a\", \"b\", \"c\", \"d\", \"e\"], the script should return : \n",
        "- a position 0\n",
        "- c position 2\n",
        "- e position 4"
      ]
    },
    {
      "cell_type": "code",
      "metadata": {
        "id": "C2Lk113KSPUO",
        "colab": {
          "base_uri": "https://localhost:8080/"
        },
        "outputId": "c42ad599-f4c6-4ac6-cbd3-5246d6247f94"
      },
      "source": [
        "list = [\"a\",\"b\",\"c\",\"d\",\"e\"]\n",
        "\n",
        "for index,element in enumerate(list) :\n",
        "    if index % 2 ==0 :\n",
        "        print(element,\"position :\",index)"
      ],
      "execution_count": null,
      "outputs": [
        {
          "output_type": "stream",
          "name": "stdout",
          "text": [
            "a position : 0\n",
            "c position : 2\n",
            "e position : 4\n"
          ]
        }
      ]
    },
    {
      "cell_type": "markdown",
      "metadata": {
        "id": "J3bsGIvAT049"
      },
      "source": [
        "# Mission 2\n",
        "\n",
        "We have a list. Create a script to replace the value of an element with another simply by indicating its position.\n",
        "\n",
        "For example, we want to change the value of the third element of the list below:"
      ]
    },
    {
      "cell_type": "code",
      "metadata": {
        "id": "Fy1OmPSUXNaP",
        "colab": {
          "base_uri": "https://localhost:8080/"
        },
        "outputId": "01d77812-2431-4ffc-9eb6-16df6276e8f1"
      },
      "source": [
        "example = ['hello', 'good morning', 'bye bye', 'have a good day']\n",
        "\n",
        "example[2] = \"good night\"\n",
        "print(example)"
      ],
      "execution_count": null,
      "outputs": [
        {
          "output_type": "stream",
          "name": "stdout",
          "text": [
            "['hello', 'good morning', 'good night', 'have a good day']\n"
          ]
        }
      ]
    },
    {
      "cell_type": "markdown",
      "metadata": {
        "id": "dVl36lvlWLdV"
      },
      "source": [
        "# Mission 3\n",
        "\n",
        "Create a list, then add an element to the end of a list and remove the first element so that the list stays the same size."
      ]
    },
    {
      "cell_type": "code",
      "metadata": {
        "id": "pN3_mD4YSPfb",
        "colab": {
          "base_uri": "https://localhost:8080/"
        },
        "outputId": "3011eeec-0304-4378-85dd-3708fc0e5818"
      },
      "source": [
        "list = [\"a\",\"b\",\"c\",\"d\",\"e\"]\n",
        "\n",
        "\n",
        "list.append(\"f\")\n",
        "list.pop(0)\n",
        "print(list)"
      ],
      "execution_count": null,
      "outputs": [
        {
          "output_type": "stream",
          "name": "stdout",
          "text": [
            "['b', 'c', 'd', 'e', 'f']\n"
          ]
        }
      ]
    },
    {
      "cell_type": "markdown",
      "metadata": {
        "id": "GCvpkWzXXPTf"
      },
      "source": [
        "# Mission 4\n",
        "\n",
        "Create a script that does the same thing as the insert method, but at a random position."
      ]
    },
    {
      "cell_type": "code",
      "metadata": {
        "id": "QjLMjogySPk_",
        "colab": {
          "base_uri": "https://localhost:8080/"
        },
        "outputId": "18c0865e-c9a7-4151-bea3-a4f8e0e22fd2"
      },
      "source": [
        "import random\n",
        "\n",
        "liste = [20, 16, 10, 5]\n",
        "liste.insert(random.randint(0,len(liste)-1),12) #-1 donne la longueur de chaîne à laquelle on soustrait 1 pour prendre en compte l'index 0\n",
        "\n",
        "print (liste)\n"
      ],
      "execution_count": null,
      "outputs": [
        {
          "output_type": "stream",
          "name": "stdout",
          "text": [
            "[20, 12, 16, 10, 5]\n"
          ]
        }
      ]
    },
    {
      "cell_type": "markdown",
      "metadata": {
        "id": "V8ZS3aECXvuZ"
      },
      "source": [
        "# Mission 5\n",
        "\n",
        "Create a script that does the same thing as the pop method for a list containing only characters. The difference is that this function displays a message indicating the number of characters that are identical to the deleted character and still remain in the list. In other words, if there were 3 \"b\" in the list, and one has just been deleted by your function, the script will display \"there are still 2 letters b\"."
      ]
    },
    {
      "cell_type": "code",
      "metadata": {
        "id": "ph_j97PoSPmU"
      },
      "source": [
        "xListe = [\"a\", \"b\", \"d\", \"e\", \"f\", \"b\", \"a\", \"h\", \"j\", \"a\"]\n",
        "\n",
        "def deleteAsPop(varListe,index):\n",
        "  if(index < len(varListe) -1):\n",
        "    nombreElement = varListe.count(varListe[index])\n",
        "    letterdeleted = varListe[index]\n",
        "    nouvelle_liste = list(varListe[:index]) + list(varListe[index+1:])\n",
        "    nombreElementRestants = nouvelle_liste.count(varListe[index])\n",
        "    return nombreElement, nouvelle_liste, nombreElementRestants, letterdeleted\n",
        "  else:\n",
        "    return\n",
        "\n"
      ],
      "execution_count": null,
      "outputs": []
    },
    {
      "cell_type": "code",
      "metadata": {
        "id": "LcEFq0CBnLFm"
      },
      "source": [
        "z,a = deleteAsPop(xListe,1)[2:]"
      ],
      "execution_count": null,
      "outputs": []
    },
    {
      "cell_type": "code",
      "metadata": {
        "colab": {
          "base_uri": "https://localhost:8080/",
          "height": 162
        },
        "id": "IgCr2KdvoK-4",
        "outputId": "013ac804-6faf-4a51-ad3c-0c433ef9604b"
      },
      "source": [
        "print(f'There are still {z} letters {a}')"
      ],
      "execution_count": null,
      "outputs": [
        {
          "output_type": "error",
          "ename": "NameError",
          "evalue": "ignored",
          "traceback": [
            "\u001b[0;31m---------------------------------------------------------------------------\u001b[0m",
            "\u001b[0;31mNameError\u001b[0m                                 Traceback (most recent call last)",
            "\u001b[0;32m<ipython-input-7-5363c344db0e>\u001b[0m in \u001b[0;36m<module>\u001b[0;34m()\u001b[0m\n\u001b[0;32m----> 1\u001b[0;31m \u001b[0mprint\u001b[0m\u001b[0;34m(\u001b[0m\u001b[0;34mf'There are still {z} letters {a}'\u001b[0m\u001b[0;34m)\u001b[0m\u001b[0;34m\u001b[0m\u001b[0;34m\u001b[0m\u001b[0m\n\u001b[0m",
            "\u001b[0;31mNameError\u001b[0m: name 'z' is not defined"
          ]
        }
      ]
    },
    {
      "cell_type": "markdown",
      "metadata": {
        "id": "geMLdrvAYHKx"
      },
      "source": [
        "# Mission 6\n",
        "\n",
        "Create a script with 3 lists, and indicates the two that are \"closest\". That is to say, the two that have the most elements in common."
      ]
    },
    {
      "cell_type": "code",
      "metadata": {
        "id": "1-cenx3RSPpq",
        "colab": {
          "base_uri": "https://localhost:8080/"
        },
        "outputId": "5d560333-d9ab-471e-fdc0-f932e384884b"
      },
      "source": [
        "a = [1, 2, 3, 4, 5, 9, 12, 11]\n",
        "b = [4, 2, 6, 0, 2, 1]\n",
        "c = [1, 2, 4, 8, 9, 10, 11]\n",
        "\n",
        "compteur_ab = 0\n",
        "compteur_bc = 0\n",
        "compteur_ac = 0\n",
        "\n",
        "for element in a :\n",
        "    if element in b :\n",
        "        compteur_ab += 1\n",
        "\n",
        "for element in b :\n",
        "    if element in c :\n",
        "        compteur_bc += 1\n",
        "\n",
        "for element in c :\n",
        "    if element in a :\n",
        "        compteur_ac += 1\n",
        "\n",
        "if compteur_ab > compteur_bc and compteur_ab > compteur_ac :\n",
        "    print(\"les listes a et b sont les plus proches\")\n",
        "\n",
        "if compteur_bc > compteur_ac and compteur_bc > compteur_ab :\n",
        "    print(\"les listes b et c sont les plus proches\")\n",
        "\n",
        "if compteur_ac > compteur_ab and compteur_ac > compteur_bc :\n",
        "    print(\"les listes a et c sont les plus proches\")\n",
        "\n",
        "if compteur_ab == compteur_bc and compteur_ab == compteur_ac and compteur_bc == compteur_ac:\n",
        "    print(\"Les listes sont de la même taille\")"
      ],
      "execution_count": null,
      "outputs": [
        {
          "output_type": "stream",
          "name": "stdout",
          "text": [
            "les listes a et c sont les plus proches\n"
          ]
        }
      ]
    },
    {
      "cell_type": "markdown",
      "metadata": {
        "id": "Ygonr8C4pEgg"
      },
      "source": [
        "# Mission 7\n",
        "\n",
        "Create a script that displays all the items in a list of int from smallest to the largest. In other words, a script that sorts the list from smallest to largest."
      ]
    },
    {
      "cell_type": "code",
      "metadata": {
        "id": "dlRdqxco5r8U",
        "colab": {
          "base_uri": "https://localhost:8080/"
        },
        "outputId": "989d793f-58e9-44c9-865a-8f42a9135e27"
      },
      "source": [
        "liste_b = [4, 2, 6, 0]\n",
        "\n",
        "liste_b.sort() \n",
        "print(liste_b)"
      ],
      "execution_count": null,
      "outputs": [
        {
          "output_type": "stream",
          "name": "stdout",
          "text": [
            "[0, 2, 4, 6]\n"
          ]
        }
      ]
    }
  ]
}