{
  "nbformat": 4,
  "nbformat_minor": 0,
  "metadata": {
    "colab": {
      "name": "Challenge_Opérateurs_Booléens_Conditions.ipynb",
      "provenance": [],
      "collapsed_sections": [],
      "authorship_tag": "ABX9TyMv5aQVLdRv9GiWIqTeMj6u",
      "include_colab_link": true
    },
    "kernelspec": {
      "name": "python3",
      "display_name": "Python 3"
    },
    "language_info": {
      "name": "python"
    }
  },
  "cells": [
    {
      "cell_type": "markdown",
      "metadata": {
        "id": "view-in-github",
        "colab_type": "text"
      },
      "source": [
        "<a href=\"https://colab.research.google.com/github/CathieLC/Wild_notebook_2021-2022/blob/main/Challenge_Op%C3%A9rateurs_Bool%C3%A9ens_Conditions.ipynb\" target=\"_parent\"><img src=\"https://colab.research.google.com/assets/colab-badge.svg\" alt=\"Open In Colab\"/></a>"
      ]
    },
    {
      "cell_type": "code",
      "metadata": {
        "id": "9yFRz2CUnykI",
        "colab": {
          "base_uri": "https://localhost:8080/"
        },
        "outputId": "0740beb6-cc88-4940-dbc8-80f3985981c6"
      },
      "source": [
        "valeur_minimum = int(input(\"Entrez votre valeur_minimum :\"))\n",
        "valeur_maximum = int(input(\"Entrez votre valeur_maximum :\"))\n",
        "valeur_definie_3 = int(input(\"Entrez votre Valeur_definie_3 :\"))\n",
        "\n",
        "if valeur_minimum > valeur_maximum :\n",
        "  print(\"Erreur, la valeur maximum est inférieure à la valeur minimum\")\n",
        "\n",
        "elif valeur_definie_3 < valeur_minimum :\n",
        "    print(\"Vous avez entré la valeur\", valeur_definie_3, \"qui est moins élevée que\", valeur_minimum)\n",
        "    print(\"Le résultat est\", valeur_minimum)\n",
        "\n",
        "elif valeur_definie_3 > valeur_maximum :\n",
        "    print(\"Vous avez entré la valeur\", valeur_definie_3, \"qui est plus élevée que\", valeur_maximum)\n",
        "    print(\"Le résultat est\", valeur_maximum)\n",
        "\n",
        "else :\n",
        "    print(\"Vous avez entré la valeur\", valeur_definie_3, \"qui est comprise dans l'intervalle : [\", valeur_minimum, \";\", valeur_maximum, \"] que vous avez indiqué.\")\n",
        "    print(\"Le résultat est : \", valeur_definie_3)"
      ],
      "execution_count": null,
      "outputs": [
        {
          "output_type": "stream",
          "name": "stdout",
          "text": [
            "Entrez votre valeur_minimum :-2\n",
            "Entrez votre valeur_maximum :-25\n",
            "Entrez votre Valeur_definie_3 :2\n",
            "Vous avez entré la valeur 2 qui est plus élevée que -25\n",
            "Le résultat est -25\n"
          ]
        }
      ]
    }
  ]
}